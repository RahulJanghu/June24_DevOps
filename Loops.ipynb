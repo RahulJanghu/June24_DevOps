{
 "cells": [
  {
   "cell_type": "markdown",
   "id": "9980b111-9f31-4468-bb05-c04ab44afe6b",
   "metadata": {},
   "source": [
    "## What are loops?\n",
    "- A loop is a control structure that is used to perform a set of instructions for a specific number of times."
   ]
  },
  {
   "cell_type": "markdown",
   "id": "2e207dc9-2c47-48ed-a090-1671bf3ee2e8",
   "metadata": {},
   "source": [
    "##### Loops are a programming element that repeat a portion of code a set number of times until the desired process is complete. Repetitive tasks are common in programming, and loops are essential to save time and minimize errors."
   ]
  },
  {
   "cell_type": "code",
   "execution_count": 1,
   "id": "4aa16837-978e-41df-89b8-2595532f216a",
   "metadata": {},
   "outputs": [
    {
     "name": "stdout",
     "output_type": "stream",
     "text": [
      "Helicopter shoot\n",
      "Helicopter shoot\n",
      "Helicopter shoot\n",
      "Helicopter shoot\n",
      "Helicopter shoot\n"
     ]
    }
   ],
   "source": [
    "print(\"Helicopter shoot\")\n",
    "print(\"Helicopter shoot\")\n",
    "print(\"Helicopter shoot\")\n",
    "print(\"Helicopter shoot\")\n",
    "print(\"Helicopter shoot\")"
   ]
  },
  {
   "cell_type": "code",
   "execution_count": null,
   "id": "5fe95299-261c-4c8a-a30f-093de545b925",
   "metadata": {},
   "outputs": [],
   "source": []
  },
  {
   "cell_type": "code",
   "execution_count": null,
   "id": "cb52c27a-2701-45d8-af55-e061e98fd223",
   "metadata": {},
   "outputs": [],
   "source": []
  },
  {
   "cell_type": "code",
   "execution_count": null,
   "id": "1ff18d0b-e600-443c-944c-aeb77c7bf384",
   "metadata": {},
   "outputs": [],
   "source": []
  },
  {
   "cell_type": "markdown",
   "id": "2379032f-4a44-45ea-b69a-78148c29de17",
   "metadata": {},
   "source": [
    "## While loop\n",
    "- The while loop keeps iterating over a certain set of operations as long as a certain condition holds True.\n"
   ]
  },
  {
   "cell_type": "code",
   "execution_count": 2,
   "id": "c287bf6d-1eb5-463f-86a5-c4631579683d",
   "metadata": {},
   "outputs": [],
   "source": [
    "## Shopping list example"
   ]
  },
  {
   "cell_type": "markdown",
   "id": "fab564fe-8bae-46c5-b860-e6cda5979841",
   "metadata": {},
   "source": [
    "![image](../photos/whileloop.jpeg)"
   ]
  },
  {
   "cell_type": "code",
   "execution_count": 4,
   "id": "fdf66f74-07b8-4770-8d5e-f6597774d283",
   "metadata": {},
   "outputs": [
    {
     "name": "stdout",
     "output_type": "stream",
     "text": [
      "Helicopter Shot!!\n",
      "Helicopter Shot!!\n",
      "Helicopter Shot!!\n",
      "Helicopter Shot!!\n",
      "Helicopter Shot!!\n",
      "Lesson Taught :)\n"
     ]
    }
   ],
   "source": [
    "# 1. Initialisation\n",
    "start = 0\n",
    "\n",
    "# 2. Write condition in while loop\n",
    "while start < 5:\n",
    "    print(\"Helicopter Shot!!\")\n",
    "    # 3. Update the value\n",
    "    start += 1\n",
    "    \n",
    "print(\"Lesson Taught :)\")"
   ]
  },
  {
   "cell_type": "code",
   "execution_count": null,
   "id": "179df7e7-a890-47bf-a9f7-65cfb059e423",
   "metadata": {},
   "outputs": [],
   "source": []
  },
  {
   "cell_type": "code",
   "execution_count": null,
   "id": "2eb83bea-1ec8-4302-b77d-832f6ce52f3b",
   "metadata": {},
   "outputs": [],
   "source": []
  },
  {
   "cell_type": "code",
   "execution_count": null,
   "id": "d874ab63-86d5-44d7-a162-72cf0e9463f6",
   "metadata": {},
   "outputs": [],
   "source": []
  },
  {
   "cell_type": "markdown",
   "id": "e4d9c6a0-ed69-45a8-bcd8-b1f45502cd1f",
   "metadata": {},
   "source": [
    "## Print numbers from 1 to 10"
   ]
  },
  {
   "cell_type": "code",
   "execution_count": 5,
   "id": "a9df29df-7054-4113-b371-35a6b2ab871a",
   "metadata": {},
   "outputs": [
    {
     "name": "stdout",
     "output_type": "stream",
     "text": [
      "1\n",
      "2\n",
      "3\n",
      "4\n",
      "5\n",
      "6\n",
      "7\n",
      "8\n",
      "9\n",
      "10\n"
     ]
    }
   ],
   "source": [
    "start = 1\n",
    "\n",
    "while start <= 10:\n",
    "    print(start)\n",
    "    start += 1"
   ]
  },
  {
   "cell_type": "code",
   "execution_count": 6,
   "id": "9d2b6ccc-ad3f-4a9c-9b93-1095b4baeb2b",
   "metadata": {},
   "outputs": [
    {
     "name": "stdout",
     "output_type": "stream",
     "text": [
      "1\n",
      "2\n",
      "3\n",
      "4\n",
      "5\n",
      "6\n",
      "7\n",
      "8\n",
      "9\n",
      "10\n"
     ]
    }
   ],
   "source": [
    "start = 1\n",
    "\n",
    "while start < 11:\n",
    "    print(start)\n",
    "    start += 1"
   ]
  },
  {
   "cell_type": "code",
   "execution_count": null,
   "id": "e61cfb4b-c5eb-43ae-812c-89a0f20f0b17",
   "metadata": {},
   "outputs": [],
   "source": []
  },
  {
   "cell_type": "code",
   "execution_count": null,
   "id": "23f6f28d-c7a4-4fb2-a2bd-74f9cd53e47b",
   "metadata": {},
   "outputs": [],
   "source": []
  },
  {
   "cell_type": "markdown",
   "id": "bccf4596-7608-4920-aa67-7361b6230d7d",
   "metadata": {},
   "source": [
    "## Print numbers from 10 to 1"
   ]
  },
  {
   "cell_type": "code",
   "execution_count": 9,
   "id": "1cd58370-cb4f-45e1-a804-7336fc3fee4b",
   "metadata": {},
   "outputs": [
    {
     "name": "stdout",
     "output_type": "stream",
     "text": [
      "10\n",
      "9\n",
      "8\n",
      "7\n",
      "6\n",
      "5\n",
      "4\n",
      "3\n",
      "2\n",
      "1\n"
     ]
    }
   ],
   "source": [
    "start = 10\n",
    "\n",
    "while start > 0:\n",
    "    print(start)\n",
    "    start -= 1"
   ]
  },
  {
   "cell_type": "code",
   "execution_count": 10,
   "id": "94b38ff4-7fab-4174-a837-367273a40273",
   "metadata": {},
   "outputs": [
    {
     "name": "stdout",
     "output_type": "stream",
     "text": [
      "10\n",
      "9\n",
      "8\n",
      "7\n",
      "6\n",
      "5\n",
      "4\n",
      "3\n",
      "2\n",
      "1\n"
     ]
    }
   ],
   "source": [
    "start = 10\n",
    "\n",
    "while start >= 1:\n",
    "    print(start)\n",
    "    start -= 1"
   ]
  },
  {
   "cell_type": "code",
   "execution_count": 11,
   "id": "9f54d8fa-4a41-421e-96ec-ed253c136f64",
   "metadata": {},
   "outputs": [
    {
     "name": "stdout",
     "output_type": "stream",
     "text": [
      "Rahul\n",
      "Rahul\n",
      "Rahul\n",
      "Rahul\n",
      "Rahul\n",
      "Rahul\n",
      "Rahul\n",
      "Rahul\n",
      "Rahul\n",
      "Rahul\n"
     ]
    }
   ],
   "source": [
    "start = 10\n",
    "\n",
    "while start >= 1:\n",
    "    print(\"Rahul\")\n",
    "    start -= 1"
   ]
  },
  {
   "cell_type": "code",
   "execution_count": null,
   "id": "d76c2fdc-4eec-45c0-86cc-6bcbd9964e20",
   "metadata": {},
   "outputs": [],
   "source": []
  },
  {
   "cell_type": "code",
   "execution_count": null,
   "id": "29d4e012-dee4-4935-8308-5a8d6c88d35b",
   "metadata": {},
   "outputs": [],
   "source": []
  },
  {
   "cell_type": "markdown",
   "id": "551bb64e-fe37-4ad7-9c55-8e99c699ec2d",
   "metadata": {},
   "source": [
    "## Print all even numbers between 2 to 10"
   ]
  },
  {
   "cell_type": "code",
   "execution_count": 12,
   "id": "3608b021-7eaa-4018-812a-a9dc32cf99b9",
   "metadata": {},
   "outputs": [],
   "source": [
    "# check for a number if it is even"
   ]
  },
  {
   "cell_type": "code",
   "execution_count": 14,
   "id": "b0864a6b-3ea2-4dfa-94cd-6798f8913657",
   "metadata": {},
   "outputs": [
    {
     "name": "stdout",
     "output_type": "stream",
     "text": [
      "2\n",
      "4\n",
      "6\n",
      "8\n",
      "10\n"
     ]
    }
   ],
   "source": [
    "start = 2\n",
    "\n",
    "while start <= 10:\n",
    "    if start % 2 == 0:\n",
    "        print(start)\n",
    "        \n",
    "    start += 1"
   ]
  },
  {
   "cell_type": "code",
   "execution_count": 15,
   "id": "6a732c22-edf2-4c43-b300-73b3525aada6",
   "metadata": {},
   "outputs": [
    {
     "name": "stdout",
     "output_type": "stream",
     "text": [
      "2\n",
      "4\n",
      "6\n",
      "8\n",
      "10\n"
     ]
    }
   ],
   "source": [
    "start = 2\n",
    "\n",
    "while start <= 10:\n",
    "    print(start)\n",
    "    start += 2"
   ]
  },
  {
   "cell_type": "code",
   "execution_count": null,
   "id": "e19d81a0-3439-4a68-921c-faa93c43f72a",
   "metadata": {},
   "outputs": [],
   "source": []
  },
  {
   "cell_type": "markdown",
   "id": "96aeac41-59c6-4298-9044-25ee489c2f13",
   "metadata": {},
   "source": [
    "## Print all Odd number from 1 to 10"
   ]
  },
  {
   "cell_type": "code",
   "execution_count": 16,
   "id": "3a95fdd2-3956-41aa-8db9-bc8bb648d437",
   "metadata": {},
   "outputs": [],
   "source": [
    "# odd"
   ]
  },
  {
   "cell_type": "code",
   "execution_count": 17,
   "id": "97aa0943-ccce-4a4a-8441-c44a4584b781",
   "metadata": {},
   "outputs": [],
   "source": [
    "# Using if condition\n",
    "\n",
    "# and using jump of 2"
   ]
  },
  {
   "cell_type": "code",
   "execution_count": null,
   "id": "9c13ae7f-d248-4fce-a67b-5217cbfd5c7b",
   "metadata": {},
   "outputs": [],
   "source": []
  },
  {
   "cell_type": "code",
   "execution_count": null,
   "id": "7031fd51-5f75-4863-bd78-beabbf9e2a02",
   "metadata": {},
   "outputs": [],
   "source": []
  },
  {
   "cell_type": "code",
   "execution_count": null,
   "id": "abc86e9b-1cfa-43aa-a03e-4579e4c50ee0",
   "metadata": {},
   "outputs": [],
   "source": []
  },
  {
   "cell_type": "markdown",
   "id": "b37a1593-cb22-41f4-957d-86d2fcfe24e2",
   "metadata": {},
   "source": [
    "### Print all numbers from 1 to 10 in a single line"
   ]
  },
  {
   "cell_type": "code",
   "execution_count": 18,
   "id": "18fadadd-8391-4272-b80a-cbdfcda39c8f",
   "metadata": {},
   "outputs": [],
   "source": [
    "# Go for print statement"
   ]
  },
  {
   "cell_type": "code",
   "execution_count": 19,
   "id": "531aa1d8-2f6f-4214-8f86-92c714eaf432",
   "metadata": {},
   "outputs": [],
   "source": [
    "# print?"
   ]
  },
  {
   "cell_type": "code",
   "execution_count": 20,
   "id": "20ad4046-f7d0-46dc-aa1f-4853e5cf4eac",
   "metadata": {},
   "outputs": [
    {
     "name": "stdout",
     "output_type": "stream",
     "text": [
      "1\n",
      "2\n",
      "3\n",
      "4\n",
      "5\n",
      "6\n",
      "7\n",
      "8\n",
      "9\n",
      "10\n"
     ]
    }
   ],
   "source": [
    "start = 1\n",
    "\n",
    "while start <= 10:\n",
    "    print(start)\n",
    "    start += 1"
   ]
  },
  {
   "cell_type": "code",
   "execution_count": null,
   "id": "066a628d-3dbd-48c7-90b7-3731cf08da75",
   "metadata": {},
   "outputs": [],
   "source": []
  },
  {
   "cell_type": "code",
   "execution_count": 21,
   "id": "c06220f3-7411-4567-9822-fe08a5103926",
   "metadata": {},
   "outputs": [
    {
     "data": {
      "text/plain": [
       "\u001b[0;31mDocstring:\u001b[0m\n",
       "print(value, ..., sep=' ', end='\\n', file=sys.stdout, flush=False)\n",
       "\n",
       "Prints the values to a stream, or to sys.stdout by default.\n",
       "Optional keyword arguments:\n",
       "file:  a file-like object (stream); defaults to the current sys.stdout.\n",
       "sep:   string inserted between values, default a space.\n",
       "end:   string appended after the last value, default a newline.\n",
       "flush: whether to forcibly flush the stream.\n",
       "\u001b[0;31mType:\u001b[0m      builtin_function_or_method\n"
      ]
     },
     "metadata": {},
     "output_type": "display_data"
    }
   ],
   "source": [
    "print?"
   ]
  },
  {
   "cell_type": "code",
   "execution_count": 22,
   "id": "be2fe656-e4eb-4e0a-b0b3-7ac8b3023eb8",
   "metadata": {},
   "outputs": [
    {
     "name": "stdout",
     "output_type": "stream",
     "text": [
      "2 3 4 5 6 7\n"
     ]
    }
   ],
   "source": [
    "print(2,3,4,5,6,7)"
   ]
  },
  {
   "cell_type": "code",
   "execution_count": 23,
   "id": "0aba5ed9-3b74-45f0-9bd6-c67b50e7a28b",
   "metadata": {},
   "outputs": [
    {
     "name": "stdout",
     "output_type": "stream",
     "text": [
      "2 --> 3 --> 4 --> 5 --> 6 --> 7\n"
     ]
    }
   ],
   "source": [
    "print(2,3,4,5,6,7, sep=\" --> \")"
   ]
  },
  {
   "cell_type": "code",
   "execution_count": 27,
   "id": "42344920-f0fa-4520-806c-ba0e2f218531",
   "metadata": {},
   "outputs": [
    {
     "name": "stdout",
     "output_type": "stream",
     "text": [
      "2 --> 3 --> 4 Rahul\n"
     ]
    }
   ],
   "source": [
    "print(2, 3, 4, sep = \" --> \", end=\" \")\n",
    "print(\"Rahul\")"
   ]
  },
  {
   "cell_type": "code",
   "execution_count": null,
   "id": "6f8cd95b-e9a4-4231-8937-cb32f4d64890",
   "metadata": {},
   "outputs": [],
   "source": []
  },
  {
   "cell_type": "code",
   "execution_count": 29,
   "id": "9e6a8b21-34d6-4413-9cd8-7fe0f2516d24",
   "metadata": {},
   "outputs": [
    {
     "name": "stdout",
     "output_type": "stream",
     "text": [
      "1 2 3 4 5 6 7 8 9 10 "
     ]
    }
   ],
   "source": [
    "start = 1\n",
    "\n",
    "while start <= 10:\n",
    "    print(start, end=\" \")\n",
    "    start += 1"
   ]
  },
  {
   "cell_type": "code",
   "execution_count": null,
   "id": "a0724ec1-e04d-46fc-9d81-9d532748ab3c",
   "metadata": {},
   "outputs": [],
   "source": []
  },
  {
   "cell_type": "code",
   "execution_count": null,
   "id": "f2e71a8f-11b2-4d26-b034-fca7670f82df",
   "metadata": {},
   "outputs": [],
   "source": []
  },
  {
   "cell_type": "markdown",
   "id": "09a3652d-4111-49b9-a5c5-bfb1f18bd00c",
   "metadata": {},
   "source": [
    "####  Take T number of inputs and print their tables"
   ]
  },
  {
   "cell_type": "code",
   "execution_count": 30,
   "id": "48b527e2-00cb-4c14-a2ea-2dc35f79402f",
   "metadata": {},
   "outputs": [],
   "source": [
    "# Take n as input and print the table of n"
   ]
  },
  {
   "cell_type": "code",
   "execution_count": 35,
   "id": "15042799-5527-40f0-b8d5-001cb2e8ce2d",
   "metadata": {},
   "outputs": [
    {
     "name": "stdin",
     "output_type": "stream",
     "text": [
      " 19\n"
     ]
    },
    {
     "name": "stdout",
     "output_type": "stream",
     "text": [
      "19 38 57 76 95 114 133 152 171 190 "
     ]
    }
   ],
   "source": [
    "n = int(input())\n",
    "start = n\n",
    "\n",
    "while start <= n * 10:\n",
    "    print(start, end=\" \")\n",
    "    start += n"
   ]
  },
  {
   "cell_type": "code",
   "execution_count": null,
   "id": "4755d98e-0115-4413-b32c-09c5f7bfa972",
   "metadata": {},
   "outputs": [],
   "source": []
  },
  {
   "cell_type": "code",
   "execution_count": null,
   "id": "089f4f85-696b-4e7d-887e-a1953b3c3c3b",
   "metadata": {},
   "outputs": [],
   "source": []
  },
  {
   "cell_type": "code",
   "execution_count": 36,
   "id": "b4a5f2b1-cb7e-4393-9724-75efdce9b371",
   "metadata": {},
   "outputs": [],
   "source": [
    "# Take T number of inputs"
   ]
  },
  {
   "cell_type": "code",
   "execution_count": 40,
   "id": "b224fe14-1588-45b7-9a17-b874a4f6bef9",
   "metadata": {},
   "outputs": [
    {
     "name": "stdin",
     "output_type": "stream",
     "text": [
      "This is value of T:  2\n",
      "This is value of n:  34\n",
      "This is value of n:  21\n"
     ]
    }
   ],
   "source": [
    "T = int(input(\"This is value of T: \"))\n",
    "\n",
    "while T > 0:\n",
    "    n = int(input(\"This is value of n: \"))\n",
    "    T -= 1"
   ]
  },
  {
   "cell_type": "code",
   "execution_count": null,
   "id": "a7454035-f9d6-4985-bb91-84eade822f1a",
   "metadata": {},
   "outputs": [],
   "source": []
  },
  {
   "cell_type": "code",
   "execution_count": null,
   "id": "89c1d328-66e8-4c8e-8c69-bd0a26fbb7cc",
   "metadata": {},
   "outputs": [],
   "source": []
  },
  {
   "cell_type": "code",
   "execution_count": 41,
   "id": "d2a5decc-7edf-4281-be93-2683f8d625fd",
   "metadata": {},
   "outputs": [],
   "source": [
    "# Let's combine these two codes:"
   ]
  },
  {
   "cell_type": "code",
   "execution_count": 42,
   "id": "e9faa1b1-af39-418b-9f6a-bf923c013660",
   "metadata": {},
   "outputs": [
    {
     "name": "stdin",
     "output_type": "stream",
     "text": [
      "This is value of T:  3\n",
      "This is value of n:  12\n"
     ]
    },
    {
     "name": "stdout",
     "output_type": "stream",
     "text": [
      "12 24 36 48 60 72 84 96 108 120 "
     ]
    },
    {
     "name": "stdin",
     "output_type": "stream",
     "text": [
      "This is value of n:  19\n"
     ]
    },
    {
     "name": "stdout",
     "output_type": "stream",
     "text": [
      "19 38 57 76 95 114 133 152 171 190 "
     ]
    },
    {
     "name": "stdin",
     "output_type": "stream",
     "text": [
      "This is value of n:  29\n"
     ]
    },
    {
     "name": "stdout",
     "output_type": "stream",
     "text": [
      "29 58 87 116 145 174 203 232 261 290 "
     ]
    }
   ],
   "source": [
    "T = int(input(\"This is value of T: \"))\n",
    "\n",
    "while T > 0:\n",
    "    n = int(input(\"This is value of n: \"))\n",
    "    T -= 1\n",
    "    \n",
    "    # We will print table of n using following code\n",
    "    start = n\n",
    "\n",
    "    while start <= n * 10:\n",
    "        print(start, end=\" \")\n",
    "        start += n"
   ]
  },
  {
   "cell_type": "code",
   "execution_count": null,
   "id": "c2587298-fd2b-4f59-beea-a63fa58c875e",
   "metadata": {},
   "outputs": [],
   "source": []
  },
  {
   "cell_type": "code",
   "execution_count": null,
   "id": "8fc90b28-af7c-4738-af31-b3177772910a",
   "metadata": {},
   "outputs": [],
   "source": []
  },
  {
   "cell_type": "markdown",
   "id": "56264271-0a5f-4a73-abd4-d275ee2a39e6",
   "metadata": {},
   "source": [
    "### For loops"
   ]
  },
  {
   "cell_type": "code",
   "execution_count": 43,
   "id": "49a069e1-e947-477a-b489-9e73f80b67c5",
   "metadata": {},
   "outputs": [],
   "source": [
    "# range"
   ]
  },
  {
   "cell_type": "code",
   "execution_count": 44,
   "id": "ef96a222-dfe1-4a24-87d4-72db54090811",
   "metadata": {},
   "outputs": [
    {
     "data": {
      "text/plain": [
       "[0, 1, 2, 3, 4, 5, 6, 7, 8, 9]"
      ]
     },
     "execution_count": 44,
     "metadata": {},
     "output_type": "execute_result"
    }
   ],
   "source": [
    "list(range(10))"
   ]
  },
  {
   "cell_type": "code",
   "execution_count": 45,
   "id": "8563b89e-1937-4611-869c-29a81dec962a",
   "metadata": {},
   "outputs": [
    {
     "data": {
      "text/plain": [
       "[2, 3, 4, 5, 6, 7, 8]"
      ]
     },
     "execution_count": 45,
     "metadata": {},
     "output_type": "execute_result"
    }
   ],
   "source": [
    "list(range(2, 9))"
   ]
  },
  {
   "cell_type": "code",
   "execution_count": 46,
   "id": "d62afcec-2dfb-4608-99a7-f8fe1bd34f0d",
   "metadata": {},
   "outputs": [
    {
     "data": {
      "text/plain": [
       "[2, 4, 6, 8]"
      ]
     },
     "execution_count": 46,
     "metadata": {},
     "output_type": "execute_result"
    }
   ],
   "source": [
    "list(range(2, 10, 2))"
   ]
  },
  {
   "cell_type": "code",
   "execution_count": 47,
   "id": "5c86ec42-53d9-43ca-958a-bd26938228f9",
   "metadata": {},
   "outputs": [
    {
     "data": {
      "text/plain": [
       "[]"
      ]
     },
     "execution_count": 47,
     "metadata": {},
     "output_type": "execute_result"
    }
   ],
   "source": [
    "list(range(2, 10, -2))"
   ]
  },
  {
   "cell_type": "code",
   "execution_count": 48,
   "id": "0425513b-86ac-4440-99d7-5bc6148cecd3",
   "metadata": {},
   "outputs": [
    {
     "data": {
      "text/plain": [
       "[10, 8, 6]"
      ]
     },
     "execution_count": 48,
     "metadata": {},
     "output_type": "execute_result"
    }
   ],
   "source": [
    "list(range(10, 4, -2))"
   ]
  },
  {
   "cell_type": "code",
   "execution_count": 49,
   "id": "149e271c-63d0-438e-b98c-e06e5b54e46a",
   "metadata": {},
   "outputs": [
    {
     "data": {
      "text/plain": [
       "[]"
      ]
     },
     "execution_count": 49,
     "metadata": {},
     "output_type": "execute_result"
    }
   ],
   "source": [
    "list(range(50, 50))"
   ]
  },
  {
   "cell_type": "code",
   "execution_count": 50,
   "id": "951b5495-6a69-471e-aaca-c7406e73728a",
   "metadata": {},
   "outputs": [
    {
     "data": {
      "text/plain": [
       "[]"
      ]
     },
     "execution_count": 50,
     "metadata": {},
     "output_type": "execute_result"
    }
   ],
   "source": [
    "list(range(10, 2))"
   ]
  },
  {
   "cell_type": "code",
   "execution_count": 51,
   "id": "59d6febf-dd79-4082-bcf3-ff0b07339c1f",
   "metadata": {},
   "outputs": [],
   "source": [
    "# Quiz"
   ]
  },
  {
   "cell_type": "code",
   "execution_count": 52,
   "id": "d256e754-62a7-4d69-9542-c901d836d027",
   "metadata": {},
   "outputs": [
    {
     "name": "stdout",
     "output_type": "stream",
     "text": [
      "[]\n"
     ]
    }
   ],
   "source": [
    "print(list(range(8, 8)))"
   ]
  },
  {
   "cell_type": "code",
   "execution_count": null,
   "id": "4265453c-01fe-459d-a916-2ba39034f443",
   "metadata": {},
   "outputs": [],
   "source": []
  },
  {
   "cell_type": "code",
   "execution_count": 53,
   "id": "f9e5a27c-c2b7-42e0-9620-0b9f210913c7",
   "metadata": {},
   "outputs": [],
   "source": [
    "# for iterator in iterable:\n",
    "#     Do something"
   ]
  },
  {
   "cell_type": "code",
   "execution_count": null,
   "id": "af555eeb-1367-44e9-99dc-a751fc09f5c5",
   "metadata": {},
   "outputs": [],
   "source": []
  },
  {
   "cell_type": "markdown",
   "id": "7cda8216-841c-4aec-8e82-ca4ba983537b",
   "metadata": {},
   "source": [
    "### Print numbers between 1 to 10"
   ]
  },
  {
   "cell_type": "code",
   "execution_count": 55,
   "id": "7225f7a5-8d7a-4c8d-ae2e-6185caa0e33f",
   "metadata": {},
   "outputs": [
    {
     "name": "stdout",
     "output_type": "stream",
     "text": [
      "1 2 3 4 5 6 7 8 9 10 "
     ]
    }
   ],
   "source": [
    "for i in range(1, 11):\n",
    "    print(i, end=\" \")"
   ]
  },
  {
   "cell_type": "code",
   "execution_count": 57,
   "id": "edb1076d-5faa-4658-bcea-2123ea388b3f",
   "metadata": {},
   "outputs": [
    {
     "name": "stdout",
     "output_type": "stream",
     "text": [
      "0 1 2 3 4 5 6 7 8 9 "
     ]
    }
   ],
   "source": [
    "for i in range(10):\n",
    "    print(i, end=\" \")"
   ]
  },
  {
   "cell_type": "code",
   "execution_count": 58,
   "id": "5b9f4d54-1d3f-4847-a588-5a70966cc60f",
   "metadata": {},
   "outputs": [
    {
     "name": "stdout",
     "output_type": "stream",
     "text": [
      "Rahul\n",
      "Rahul\n",
      "Rahul\n",
      "Rahul\n",
      "Rahul\n",
      "Rahul\n",
      "Rahul\n",
      "Rahul\n",
      "Rahul\n",
      "Rahul\n"
     ]
    }
   ],
   "source": [
    "for i in range(10):\n",
    "    print(\"Rahul\")"
   ]
  },
  {
   "cell_type": "code",
   "execution_count": null,
   "id": "b33c4a33-d35f-4b20-9f63-cdd81c74fc8c",
   "metadata": {},
   "outputs": [],
   "source": []
  },
  {
   "cell_type": "code",
   "execution_count": null,
   "id": "69549924-3ae4-4c75-8a9e-b54202a1e5de",
   "metadata": {},
   "outputs": [],
   "source": []
  },
  {
   "cell_type": "markdown",
   "id": "07376116-6b16-4f67-b78c-daa0ba80f265",
   "metadata": {},
   "source": [
    "### Get sum of first 10 Natural numbers"
   ]
  },
  {
   "cell_type": "code",
   "execution_count": 61,
   "id": "0b2f57e6-f75e-492f-8edb-a4b6ce894ee4",
   "metadata": {},
   "outputs": [
    {
     "name": "stdout",
     "output_type": "stream",
     "text": [
      "1\n",
      "2\n",
      "3\n",
      "4\n",
      "5\n",
      "6\n",
      "7\n",
      "8\n",
      "9\n",
      "10\n"
     ]
    }
   ],
   "source": [
    "for i in range(1, 11):\n",
    "    print(i)"
   ]
  },
  {
   "cell_type": "code",
   "execution_count": 64,
   "id": "8a617f15-75ac-421e-b7e0-e9d83025fb60",
   "metadata": {},
   "outputs": [
    {
     "name": "stdout",
     "output_type": "stream",
     "text": [
      "55\n"
     ]
    }
   ],
   "source": [
    "total = 0\n",
    "\n",
    "for i in range(1, 11):\n",
    "    total += i\n",
    "    \n",
    "print(total)"
   ]
  },
  {
   "cell_type": "code",
   "execution_count": null,
   "id": "cfb2e506-a55f-41b8-bb0c-c77817883b6a",
   "metadata": {},
   "outputs": [],
   "source": []
  },
  {
   "cell_type": "code",
   "execution_count": 69,
   "id": "d04cf4d9-c4c7-4cea-b3a4-574e3a79f80e",
   "metadata": {},
   "outputs": [
    {
     "name": "stdout",
     "output_type": "stream",
     "text": [
      "1 --> 1\n",
      "3 --> 2\n",
      "6 --> 3\n",
      "10 --> 4\n",
      "15 --> 5\n",
      "21 --> 6\n",
      "28 --> 7\n",
      "36 --> 8\n",
      "45 --> 9\n",
      "55 --> 10\n",
      "55\n"
     ]
    }
   ],
   "source": [
    "total = 0\n",
    "\n",
    "for i in range(1, 11):\n",
    "    total += i\n",
    "    print(total, i, sep=\" --> \")\n",
    "    \n",
    "print(total)"
   ]
  },
  {
   "cell_type": "code",
   "execution_count": null,
   "id": "33baa7f6-59d8-4303-869e-e75446d9aa3f",
   "metadata": {},
   "outputs": [],
   "source": []
  },
  {
   "cell_type": "code",
   "execution_count": null,
   "id": "adb7c188-b0e1-4289-8c12-4c79355b07b0",
   "metadata": {},
   "outputs": [],
   "source": []
  },
  {
   "cell_type": "code",
   "execution_count": null,
   "id": "f0acd904-eb4c-479b-88b7-929a6fb8d340",
   "metadata": {},
   "outputs": [],
   "source": []
  },
  {
   "cell_type": "code",
   "execution_count": 66,
   "id": "b1e9d483-8984-4f70-8074-8dc2fc5ff9ef",
   "metadata": {},
   "outputs": [],
   "source": [
    "# Quiz"
   ]
  },
  {
   "cell_type": "code",
   "execution_count": 67,
   "id": "ef41def2-3302-49f4-b527-317099b07ab4",
   "metadata": {},
   "outputs": [
    {
     "data": {
      "text/plain": [
       "[1, 3, 5, 7, 9]"
      ]
     },
     "execution_count": 67,
     "metadata": {},
     "output_type": "execute_result"
    }
   ],
   "source": [
    "list(range(1, 11, 2))"
   ]
  },
  {
   "cell_type": "code",
   "execution_count": null,
   "id": "3366222b-f209-492a-8211-a86b6ebb6991",
   "metadata": {},
   "outputs": [],
   "source": []
  },
  {
   "cell_type": "code",
   "execution_count": null,
   "id": "90d6623c-b00a-4642-89d5-223f74858f8a",
   "metadata": {},
   "outputs": [],
   "source": []
  },
  {
   "cell_type": "markdown",
   "id": "a05bff0a-eac5-4515-a985-2165137c9423",
   "metadata": {},
   "source": [
    "### Take a number N as input and print values from N to 1"
   ]
  },
  {
   "cell_type": "code",
   "execution_count": 70,
   "id": "5f5afe3a-a596-483c-81ab-82cb9273383b",
   "metadata": {},
   "outputs": [
    {
     "name": "stdin",
     "output_type": "stream",
     "text": [
      " 10\n"
     ]
    }
   ],
   "source": [
    "n = int(input())"
   ]
  },
  {
   "cell_type": "code",
   "execution_count": 72,
   "id": "8777a0e0-1165-4fc5-a114-256ba73ae78d",
   "metadata": {},
   "outputs": [
    {
     "data": {
      "text/plain": [
       "[10, 9, 8, 7, 6, 5, 4, 3, 2, 1]"
      ]
     },
     "execution_count": 72,
     "metadata": {},
     "output_type": "execute_result"
    }
   ],
   "source": [
    "list(range(10, 0, -1))"
   ]
  },
  {
   "cell_type": "code",
   "execution_count": 74,
   "id": "8d700ea9-347d-4d75-af4b-aa3f2bae622d",
   "metadata": {},
   "outputs": [
    {
     "name": "stdout",
     "output_type": "stream",
     "text": [
      "10  9  8  7  6  5  4  3  2  1  "
     ]
    }
   ],
   "source": [
    "for i in range(n, 0, -1):\n",
    "    print(i, end=\"  \")"
   ]
  },
  {
   "cell_type": "code",
   "execution_count": null,
   "id": "75c53499-b269-4f7a-b88e-1107821cd645",
   "metadata": {},
   "outputs": [],
   "source": []
  },
  {
   "cell_type": "code",
   "execution_count": null,
   "id": "45812687-638f-448e-a1f7-d4f56e337e02",
   "metadata": {},
   "outputs": [],
   "source": []
  },
  {
   "cell_type": "code",
   "execution_count": 78,
   "id": "c9073e71-40ab-448a-aa93-f2ced5405804",
   "metadata": {},
   "outputs": [],
   "source": [
    "# HW: Print even and odd numbers between 1-10 using for loop\n",
    "# With jump\n",
    "# using if-else"
   ]
  },
  {
   "cell_type": "code",
   "execution_count": null,
   "id": "89b3457e-2773-4097-92e1-34bb541ac73c",
   "metadata": {},
   "outputs": [],
   "source": []
  },
  {
   "cell_type": "code",
   "execution_count": null,
   "id": "b8d394ed-721d-4d2e-8fde-a10bfa9067fb",
   "metadata": {},
   "outputs": [],
   "source": []
  },
  {
   "cell_type": "code",
   "execution_count": null,
   "id": "e29bae47-a776-4048-b6bc-719c617d9d26",
   "metadata": {},
   "outputs": [],
   "source": []
  },
  {
   "cell_type": "code",
   "execution_count": null,
   "id": "2c1709f8-1fd6-406d-b8ac-119fe4a6ca4f",
   "metadata": {},
   "outputs": [],
   "source": []
  },
  {
   "cell_type": "code",
   "execution_count": null,
   "id": "12d12d8a-8bb9-4d92-8d39-5272dc856999",
   "metadata": {},
   "outputs": [],
   "source": []
  },
  {
   "cell_type": "code",
   "execution_count": null,
   "id": "a58deb1e-0ed8-4e42-84e7-313c154aa684",
   "metadata": {},
   "outputs": [],
   "source": []
  }
 ],
 "metadata": {
  "kernelspec": {
   "display_name": "Python 3 (ipykernel)",
   "language": "python",
   "name": "python3"
  },
  "language_info": {
   "codemirror_mode": {
    "name": "ipython",
    "version": 3
   },
   "file_extension": ".py",
   "mimetype": "text/x-python",
   "name": "python",
   "nbconvert_exporter": "python",
   "pygments_lexer": "ipython3",
   "version": "3.9.7"
  }
 },
 "nbformat": 4,
 "nbformat_minor": 5
}
