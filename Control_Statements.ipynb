{
 "cells": [
  {
   "cell_type": "markdown",
   "id": "24c100a5-3af8-4bbf-8a04-8b92cac74301",
   "metadata": {},
   "source": [
    "## Control Statements\n",
    "- A Control statement is a Boolean expression that, if True, executes a piece of code."
   ]
  },
  {
   "cell_type": "code",
   "execution_count": 1,
   "id": "a17869ce-0dfe-4da2-8c41-0541a7754f9e",
   "metadata": {},
   "outputs": [],
   "source": [
    "# Weather proof code"
   ]
  },
  {
   "cell_type": "code",
   "execution_count": 2,
   "id": "bf360d39-fb7e-4cab-bf9b-20d8c5a6227c",
   "metadata": {},
   "outputs": [],
   "source": [
    "# If condition will be executed only and only if condition is True"
   ]
  },
  {
   "cell_type": "code",
   "execution_count": 6,
   "id": "5a7638ff-529d-4b73-a362-6f14e40b1c97",
   "metadata": {},
   "outputs": [
    {
     "name": "stdin",
     "output_type": "stream",
     "text": [
      " rainy\n"
     ]
    },
    {
     "name": "stdout",
     "output_type": "stream",
     "text": [
      "Turning ON the wipers\n",
      "This code is outside if block\n"
     ]
    }
   ],
   "source": [
    "sensor = input()\n",
    "\n",
    "if sensor == 'rainy':\n",
    "    print(\"Turning ON the wipers\")\n",
    "    \n",
    "print(\"This code is outside if block\")"
   ]
  },
  {
   "cell_type": "code",
   "execution_count": null,
   "id": "217b7db9-da02-4190-b26f-9b734765dbe7",
   "metadata": {},
   "outputs": [],
   "source": []
  },
  {
   "cell_type": "code",
   "execution_count": 10,
   "id": "a172c438-9a4e-43c4-860c-6b4620a9efea",
   "metadata": {},
   "outputs": [],
   "source": [
    "if False:\n",
    "    print(\"This is always going to be executed\")"
   ]
  },
  {
   "cell_type": "code",
   "execution_count": null,
   "id": "c490e5e9-83fc-41d5-b24b-e2ad5c9bc000",
   "metadata": {},
   "outputs": [],
   "source": []
  },
  {
   "cell_type": "code",
   "execution_count": null,
   "id": "59a8d0af-8cf8-4723-bb5a-00cd118cdfd9",
   "metadata": {},
   "outputs": [],
   "source": []
  },
  {
   "cell_type": "code",
   "execution_count": null,
   "id": "b0be112c-cf7a-4004-bca6-2517acfe09cd",
   "metadata": {},
   "outputs": [],
   "source": []
  },
  {
   "cell_type": "code",
   "execution_count": null,
   "id": "d1e0cea7-581e-4c55-bb97-b466cd1aa399",
   "metadata": {},
   "outputs": [],
   "source": []
  },
  {
   "cell_type": "markdown",
   "id": "0ea40c1d-d83d-40aa-a6fb-6b861b4ec29d",
   "metadata": {},
   "source": [
    "#### Rain sensing wiper problem:"
   ]
  },
  {
   "cell_type": "code",
   "execution_count": 11,
   "id": "341bd3ba-60c5-44e3-9874-1691c0e2a8a8",
   "metadata": {},
   "outputs": [],
   "source": [
    "# if condition:\n",
    "#     Run these statements when condition --> True\n",
    "# else:\n",
    "#     Run these statements when condition --> False\n",
    "    \n",
    "# Always run this code"
   ]
  },
  {
   "cell_type": "code",
   "execution_count": 13,
   "id": "1e6cfdae-ec97-4e44-9b12-04a395e00bf2",
   "metadata": {},
   "outputs": [
    {
     "name": "stdin",
     "output_type": "stream",
     "text": [
      " sunny\n"
     ]
    },
    {
     "name": "stdout",
     "output_type": "stream",
     "text": [
      "Turning ON the AC :)\n",
      "I am outside of if-else block and I always gets executed.\n"
     ]
    }
   ],
   "source": [
    "weather = input()\n",
    "\n",
    "if weather == 'rainy':\n",
    "    print(\"Turn on the wipers and turn down the AC as well.\")\n",
    "else:\n",
    "    print(\"Turning ON the AC :)\")\n",
    "    \n",
    "print(\"I am outside of if-else block and I always gets executed.\")"
   ]
  },
  {
   "cell_type": "code",
   "execution_count": null,
   "id": "20a4a0c4-252e-4510-9db1-97c30f2c6012",
   "metadata": {},
   "outputs": [],
   "source": []
  },
  {
   "cell_type": "code",
   "execution_count": null,
   "id": "bc0248cb-a188-4dd0-945b-84753907329d",
   "metadata": {},
   "outputs": [],
   "source": []
  },
  {
   "cell_type": "code",
   "execution_count": null,
   "id": "97f582c4-a865-4515-9729-5026fa6a6785",
   "metadata": {},
   "outputs": [],
   "source": []
  },
  {
   "cell_type": "markdown",
   "id": "753623a2-6523-4079-83be-f235d04e19a0",
   "metadata": {},
   "source": [
    "### Take a number as input and find if it is positive"
   ]
  },
  {
   "cell_type": "code",
   "execution_count": 19,
   "id": "f17bbe9e-5fd5-43be-9109-d3f574463fad",
   "metadata": {},
   "outputs": [
    {
     "name": "stdin",
     "output_type": "stream",
     "text": [
      " -12\n"
     ]
    },
    {
     "name": "stdout",
     "output_type": "stream",
     "text": [
      "-12 is non positive\n"
     ]
    }
   ],
   "source": [
    "number = int(input())\n",
    "\n",
    "if number >= 0:\n",
    "    print(number, \"is positive\")\n",
    "    \n",
    "else:\n",
    "    print(number, \"is non positive\")"
   ]
  },
  {
   "cell_type": "code",
   "execution_count": null,
   "id": "8ca83bd3-68e0-4c8a-9f57-9bf0079c7628",
   "metadata": {},
   "outputs": [],
   "source": []
  },
  {
   "cell_type": "code",
   "execution_count": null,
   "id": "4de6a768-d2ec-4bbe-b174-f21635493b35",
   "metadata": {},
   "outputs": [],
   "source": []
  },
  {
   "cell_type": "markdown",
   "id": "3e1fc9e8-a39d-45c6-9556-8ae9aad2b597",
   "metadata": {},
   "source": [
    "#### Make a password validator"
   ]
  },
  {
   "cell_type": "code",
   "execution_count": 21,
   "id": "ba77f7d6-1d3a-4842-bb89-50ba47e30cea",
   "metadata": {},
   "outputs": [
    {
     "name": "stdin",
     "output_type": "stream",
     "text": [
      " ILoveIronMan\n",
      " rahul@scaler.com\n"
     ]
    },
    {
     "name": "stdout",
     "output_type": "stream",
     "text": [
      "Hey you are looged in :)\n"
     ]
    }
   ],
   "source": [
    "password = input()\n",
    "user_id = input()\n",
    "\n",
    "if (user_id == 'rahul@scaler.com') and (password == \"ILoveIronMan\"):\n",
    "    print(\"Hey, you are looged in :)\")\n",
    "else:\n",
    "    print(\"Invalid user_id or password.\")\n",
    "    "
   ]
  },
  {
   "cell_type": "code",
   "execution_count": null,
   "id": "4cf25ea7-83c3-441e-8b02-22d7580bcdf7",
   "metadata": {},
   "outputs": [],
   "source": []
  },
  {
   "cell_type": "code",
   "execution_count": null,
   "id": "ba2a6432-7be1-4148-adfb-57eaca864602",
   "metadata": {},
   "outputs": [],
   "source": []
  },
  {
   "cell_type": "code",
   "execution_count": null,
   "id": "110b24f0-2fd7-465a-b380-9dc8c159b461",
   "metadata": {},
   "outputs": [],
   "source": []
  },
  {
   "cell_type": "markdown",
   "id": "e04146e1-8824-4b3b-8c8a-c1910497afd2",
   "metadata": {},
   "source": [
    "### Find max ? \n",
    "- num1 and num2. \n"
   ]
  },
  {
   "cell_type": "code",
   "execution_count": 26,
   "id": "ac74805d-1bca-4407-92e5-a209f145d222",
   "metadata": {},
   "outputs": [
    {
     "name": "stdin",
     "output_type": "stream",
     "text": [
      " 14\n",
      " 15\n"
     ]
    },
    {
     "name": "stdout",
     "output_type": "stream",
     "text": [
      "15 Num2 is greater\n"
     ]
    }
   ],
   "source": [
    "num1 = int(input())\n",
    "num2 = int(input())\n",
    "\n",
    "\n",
    "if num1 > num2:\n",
    "    print(num1, \"Num1 is greater.\")\n",
    "else:\n",
    "    print(num2, \"Num2 is greater\")"
   ]
  },
  {
   "cell_type": "code",
   "execution_count": null,
   "id": "63c21206-55a6-4315-a43d-7a7d385c5c4f",
   "metadata": {},
   "outputs": [],
   "source": []
  },
  {
   "cell_type": "code",
   "execution_count": null,
   "id": "cbf36f31-824b-4cf4-9895-a21f9c243840",
   "metadata": {},
   "outputs": [],
   "source": []
  },
  {
   "cell_type": "code",
   "execution_count": 24,
   "id": "df91c004-f23a-40d8-beb4-c8e94eff4682",
   "metadata": {},
   "outputs": [],
   "source": [
    "# HW: Write code for equality"
   ]
  },
  {
   "cell_type": "code",
   "execution_count": null,
   "id": "ce85586d-7342-42f3-ba6a-11dfdcfd120c",
   "metadata": {},
   "outputs": [],
   "source": []
  },
  {
   "cell_type": "code",
   "execution_count": null,
   "id": "2faf0889-1b7f-4bab-8030-938698931bd4",
   "metadata": {},
   "outputs": [],
   "source": []
  },
  {
   "cell_type": "markdown",
   "id": "269bafab-d307-43a6-86d6-5a4f71a1cefc",
   "metadata": {},
   "source": [
    "### Take a number from user and check if it is even or odd"
   ]
  },
  {
   "cell_type": "code",
   "execution_count": 30,
   "id": "a5549b65-e002-464a-addd-9e495e224a31",
   "metadata": {},
   "outputs": [
    {
     "name": "stdin",
     "output_type": "stream",
     "text": [
      " 14810239\n"
     ]
    },
    {
     "name": "stdout",
     "output_type": "stream",
     "text": [
      "14810239 is an odd Number.\n"
     ]
    }
   ],
   "source": [
    "num1 = int(input())\n",
    "\n",
    "if num1 % 2 == 0:\n",
    "    print(num1, \"is an even Number.\")\n",
    "else:\n",
    "    print(num1, \"is an odd Number.\")"
   ]
  },
  {
   "cell_type": "code",
   "execution_count": null,
   "id": "434cb3c8-95dd-490b-8102-751979a7b69d",
   "metadata": {},
   "outputs": [],
   "source": []
  },
  {
   "cell_type": "code",
   "execution_count": null,
   "id": "c892c613-fdcb-4712-a3c0-8eab31703c65",
   "metadata": {},
   "outputs": [],
   "source": []
  },
  {
   "cell_type": "markdown",
   "id": "b9af8095-cb45-40ce-80c3-99f47f15ce5d",
   "metadata": {},
   "source": [
    "### Question: ATM Dispatch\n",
    "- Discharge amount only if amount is multiple by 500 or 200.\n",
    "- Take an amount as input from user\n",
    "   - if amount is dischargeable, print(\"Discharging cash\")\n",
    "   - else, print(\"Denomination not available\")"
   ]
  },
  {
   "cell_type": "code",
   "execution_count": 41,
   "id": "0274a3c7-c932-4eae-9aca-bcda97256bff",
   "metadata": {},
   "outputs": [
    {
     "name": "stdin",
     "output_type": "stream",
     "text": [
      " 1500\n"
     ]
    },
    {
     "name": "stdout",
     "output_type": "stream",
     "text": [
      "Discharging cash\n"
     ]
    }
   ],
   "source": [
    "amount = int(input())\n",
    "\n",
    "if amount % 500 == 0 or amount % 200 == 0:\n",
    "    print(\"Discharging cash\")\n",
    "else:\n",
    "    print(\"Denomination not available\")"
   ]
  },
  {
   "cell_type": "code",
   "execution_count": null,
   "id": "f066b159-5473-4a9c-84cd-3efb246ecc41",
   "metadata": {},
   "outputs": [],
   "source": []
  },
  {
   "cell_type": "code",
   "execution_count": 42,
   "id": "49c33a37-1a13-4264-8dda-545ad711c1ac",
   "metadata": {},
   "outputs": [],
   "source": [
    "# If the machine can only dispence currecny of 200 or 500. Check whether your input amount can\n",
    "# be discharged?"
   ]
  },
  {
   "cell_type": "code",
   "execution_count": null,
   "id": "718c0661-34f8-4c94-a241-1ae1dc04d0cc",
   "metadata": {},
   "outputs": [],
   "source": []
  },
  {
   "cell_type": "code",
   "execution_count": null,
   "id": "305fa1a4-3958-4b90-8c6d-2d137ec259bc",
   "metadata": {},
   "outputs": [],
   "source": []
  },
  {
   "cell_type": "code",
   "execution_count": null,
   "id": "782336cf-6979-46a3-a85e-b8354bff88e8",
   "metadata": {},
   "outputs": [],
   "source": []
  },
  {
   "cell_type": "markdown",
   "id": "ce7ccd74-b68e-423f-9bd9-0d491d7bd20a",
   "metadata": {},
   "source": [
    "### Nested if else"
   ]
  },
  {
   "cell_type": "code",
   "execution_count": 43,
   "id": "37ec2155-70e8-4c51-897a-5862917b59da",
   "metadata": {},
   "outputs": [],
   "source": [
    "# Designing traffic light\n",
    "# Red -> Please stop here\n",
    "# Green -> Groooom grrrooom\n",
    "# Orange -> Get ready"
   ]
  },
  {
   "cell_type": "code",
   "execution_count": 45,
   "id": "ddaf7553-2dab-4ac8-99ea-bb9467b7f4b4",
   "metadata": {},
   "outputs": [
    {
     "name": "stdin",
     "output_type": "stream",
     "text": [
      " Green\n"
     ]
    },
    {
     "name": "stdout",
     "output_type": "stream",
     "text": [
      "Groom groom please move.\n",
      "Invalid color\n"
     ]
    }
   ],
   "source": [
    "color = input()\n",
    "\n",
    "if color == \"Red\":\n",
    "    print(\"Please stop here ✋ \")\n",
    "if color == \"Green\":\n",
    "    print(\"Groom groom please move.\")\n",
    "if color == \"Orange\":\n",
    "    print(\"Get ready.\")\n",
    "else:\n",
    "    print(\"Invalid color\")"
   ]
  },
  {
   "cell_type": "code",
   "execution_count": 53,
   "id": "cc2fb9a4-c213-424c-b392-e2dd6fd3375a",
   "metadata": {},
   "outputs": [
    {
     "name": "stdin",
     "output_type": "stream",
     "text": [
      " Black\n"
     ]
    },
    {
     "name": "stdout",
     "output_type": "stream",
     "text": [
      "Invalid color\n"
     ]
    }
   ],
   "source": [
    "color = input()\n",
    "\n",
    "if color == \"Red\":\n",
    "    print(\"Please stop here ✋ \")\n",
    "else:\n",
    "    if color == \"Green\":\n",
    "        print(\"Groom groom please move.\")\n",
    "    else:\n",
    "        if color == \"Orange\":\n",
    "            print(\"Get ready.\")\n",
    "        else:\n",
    "            print(\"Invalid color\")"
   ]
  },
  {
   "cell_type": "code",
   "execution_count": null,
   "id": "f986e7be-2332-4e52-8e30-27a2354be922",
   "metadata": {},
   "outputs": [],
   "source": []
  },
  {
   "cell_type": "code",
   "execution_count": null,
   "id": "28cda095-565f-49f6-8d2d-bf855e78b4ef",
   "metadata": {},
   "outputs": [],
   "source": []
  },
  {
   "cell_type": "code",
   "execution_count": null,
   "id": "e14aae72-1182-4414-8867-2a123b934dcb",
   "metadata": {},
   "outputs": [],
   "source": []
  },
  {
   "cell_type": "code",
   "execution_count": 46,
   "id": "454e1261-f7b2-4f05-927e-70afe31d43ad",
   "metadata": {},
   "outputs": [],
   "source": [
    "# Quiz"
   ]
  },
  {
   "cell_type": "code",
   "execution_count": 47,
   "id": "be5c6e47-791f-4cc1-9d8a-3bccf7eeba33",
   "metadata": {},
   "outputs": [
    {
     "name": "stdout",
     "output_type": "stream",
     "text": [
      "World\n"
     ]
    }
   ],
   "source": [
    "x = 5\n",
    "if x > 10:\n",
    "    print(\"Hello\")\n",
    "else:\n",
    "    print(\"World\")"
   ]
  },
  {
   "cell_type": "code",
   "execution_count": 48,
   "id": "3dd74721-9313-4415-8f89-5d6e94e73cd1",
   "metadata": {},
   "outputs": [
    {
     "name": "stdout",
     "output_type": "stream",
     "text": [
      "False\n"
     ]
    }
   ],
   "source": [
    "x = 0\n",
    "if x:\n",
    "    print(\"True\")\n",
    "else:\n",
    "    print(\"False\")"
   ]
  },
  {
   "cell_type": "code",
   "execution_count": 49,
   "id": "3a776d7d-b01f-4e52-aae4-410a79df1ac0",
   "metadata": {},
   "outputs": [
    {
     "name": "stdout",
     "output_type": "stream",
     "text": [
      "True\n"
     ]
    }
   ],
   "source": [
    "x = 1\n",
    "if x:\n",
    "    print(\"True\")\n",
    "else:\n",
    "    print(\"False\")"
   ]
  },
  {
   "cell_type": "code",
   "execution_count": null,
   "id": "a6210ccb-f53f-4f34-8207-2183ceaaa7fd",
   "metadata": {},
   "outputs": [],
   "source": []
  },
  {
   "cell_type": "code",
   "execution_count": null,
   "id": "181ed43f-5a9a-4f25-b65f-4f1928c2ea63",
   "metadata": {},
   "outputs": [],
   "source": []
  },
  {
   "cell_type": "code",
   "execution_count": null,
   "id": "7c6b9974-a638-4ab3-b01d-c808fa8bf5a4",
   "metadata": {},
   "outputs": [],
   "source": []
  },
  {
   "cell_type": "markdown",
   "id": "44034acb-380c-40a2-be4d-c31103fc64af",
   "metadata": {},
   "source": [
    "### Elif "
   ]
  },
  {
   "cell_type": "code",
   "execution_count": 54,
   "id": "216c270a-9353-43b6-9727-6d5399aa3aa5",
   "metadata": {},
   "outputs": [],
   "source": [
    "# if statement:\n",
    "#     If statement execute this code.\n",
    "# elif statement:\n",
    "#     If statement execute this code.\n",
    "# elif statement:\n",
    "#     If statement execute this code.\n",
    "# else:\n",
    "#     If all above statements are false, please execute this one."
   ]
  },
  {
   "cell_type": "code",
   "execution_count": 60,
   "id": "3a39b39f-c7bb-4cc6-9ce2-0a8d62ffce62",
   "metadata": {},
   "outputs": [
    {
     "name": "stdin",
     "output_type": "stream",
     "text": [
      " Blue\n"
     ]
    },
    {
     "name": "stdout",
     "output_type": "stream",
     "text": [
      "Invalid color\n"
     ]
    }
   ],
   "source": [
    "color = input()\n",
    "\n",
    "if color == \"Red\":\n",
    "    print(\"Please stop here ✋ \")\n",
    "elif color == \"Green\":\n",
    "    print(\"Groom groom please move.\")\n",
    "elif color == \"Orange\":\n",
    "    print(\"Get ready.\")\n",
    "else:\n",
    "    print(\"Invalid color\")"
   ]
  },
  {
   "cell_type": "code",
   "execution_count": null,
   "id": "cd72c46c-ec60-43ce-8cee-b47e38ff95fd",
   "metadata": {},
   "outputs": [],
   "source": []
  },
  {
   "cell_type": "code",
   "execution_count": 61,
   "id": "32de5989-67b8-47d8-b2e0-72964b58a503",
   "metadata": {},
   "outputs": [
    {
     "name": "stdin",
     "output_type": "stream",
     "text": [
      " Blue\n"
     ]
    }
   ],
   "source": [
    "color = input()\n",
    "\n",
    "if color == \"Red\":\n",
    "    print(\"Please stop here ✋ \")\n",
    "elif color == \"Green\":\n",
    "    print(\"Groom groom please move.\")\n",
    "elif color == \"Orange\":\n",
    "    print(\"Get ready.\")"
   ]
  },
  {
   "cell_type": "code",
   "execution_count": null,
   "id": "c51a3437-f6ab-4be6-9eb9-7d0b09ef1c1f",
   "metadata": {},
   "outputs": [],
   "source": []
  },
  {
   "cell_type": "code",
   "execution_count": null,
   "id": "a409db97-b150-4d90-98f5-bd3b30fab0a2",
   "metadata": {},
   "outputs": [],
   "source": []
  },
  {
   "cell_type": "code",
   "execution_count": 62,
   "id": "0eaf1c71-1c59-48d9-9137-2163fe05f012",
   "metadata": {},
   "outputs": [],
   "source": [
    "# Question:\n",
    "# Take a number from user as and print if it is either positive negative or 0."
   ]
  },
  {
   "cell_type": "code",
   "execution_count": 68,
   "id": "9eab1892-d828-4d1d-b356-e0c17fd66616",
   "metadata": {},
   "outputs": [
    {
     "name": "stdin",
     "output_type": "stream",
     "text": [
      " 12\n"
     ]
    },
    {
     "name": "stdout",
     "output_type": "stream",
     "text": [
      "12 is Positive.\n"
     ]
    }
   ],
   "source": [
    "num = int(input())\n",
    "\n",
    "if (num == 0):\n",
    "    print(num, \"is Zero.\")\n",
    "elif (num > 0):\n",
    "    print(num, \"is Positive.\")\n",
    "else:\n",
    "    print(num, \"is Negative.\")"
   ]
  },
  {
   "cell_type": "code",
   "execution_count": null,
   "id": "603e8099-e3e1-4d4d-8ec2-fd83bc4c59c1",
   "metadata": {},
   "outputs": [],
   "source": []
  },
  {
   "cell_type": "code",
   "execution_count": null,
   "id": "7726ae94-5a03-4a07-9fc8-9bb9dbc121ac",
   "metadata": {},
   "outputs": [],
   "source": []
  },
  {
   "cell_type": "markdown",
   "id": "efcf1a5a-2a81-49b0-850e-5f294c644beb",
   "metadata": {},
   "source": [
    "#### Fizz Fuzz: Write a program that takes n as input and does the following:\n",
    "- If n is a multiple of 3 print Fizz\n",
    "- If n is a multiple of 5 print Fuzz\n",
    "- If n is multiple of both 5 and 3 then print FizzFuzz"
   ]
  },
  {
   "cell_type": "code",
   "execution_count": 74,
   "id": "b62dbf67-362a-4ae3-8c5a-0c7966202302",
   "metadata": {},
   "outputs": [
    {
     "name": "stdin",
     "output_type": "stream",
     "text": [
      " 15\n"
     ]
    },
    {
     "name": "stdout",
     "output_type": "stream",
     "text": [
      "Fizz\n"
     ]
    }
   ],
   "source": [
    "n = int(input())\n",
    "\n",
    "if n % 3 == 0:\n",
    "    print('Fizz')\n",
    "elif n % 5 == 0:\n",
    "    print('Fuzz')\n",
    "elif n % 5 == 0 and n % 3 == 0:\n",
    "    print('FizzFuzz')"
   ]
  },
  {
   "cell_type": "code",
   "execution_count": null,
   "id": "fed698e1-153e-40e6-9e3b-ac3460eab478",
   "metadata": {},
   "outputs": [],
   "source": []
  },
  {
   "cell_type": "code",
   "execution_count": 75,
   "id": "ba1efe52-dcb6-4e2d-893f-464bb4c82047",
   "metadata": {},
   "outputs": [],
   "source": [
    "# Following os the correct code:"
   ]
  },
  {
   "cell_type": "code",
   "execution_count": 78,
   "id": "5638e9fe-3ad8-4cef-a938-592b02f0e84b",
   "metadata": {},
   "outputs": [
    {
     "name": "stdin",
     "output_type": "stream",
     "text": [
      " 15\n"
     ]
    },
    {
     "name": "stdout",
     "output_type": "stream",
     "text": [
      "FizzFuzz\n"
     ]
    }
   ],
   "source": [
    "n = int(input())\n",
    "\n",
    "if n % 5 == 0 and n % 3 == 0:\n",
    "    print('FizzFuzz')\n",
    "elif n % 5 == 0:\n",
    "    print('Fuzz')\n",
    "elif n % 3 == 0:\n",
    "    print('Fizz')"
   ]
  },
  {
   "cell_type": "code",
   "execution_count": null,
   "id": "269c9a9c-4483-4149-87fe-c9423237c353",
   "metadata": {},
   "outputs": [],
   "source": []
  },
  {
   "cell_type": "code",
   "execution_count": null,
   "id": "b7594362-dc50-4347-8cfa-49ac7e3baf46",
   "metadata": {},
   "outputs": [],
   "source": []
  },
  {
   "cell_type": "code",
   "execution_count": 80,
   "id": "ce8df28d-31e5-4550-bdc4-1c29c2055859",
   "metadata": {},
   "outputs": [],
   "source": [
    "# Quiz"
   ]
  },
  {
   "cell_type": "code",
   "execution_count": 81,
   "id": "4d8f1331-0685-49f9-b07a-6d4ea41c26ea",
   "metadata": {},
   "outputs": [
    {
     "name": "stdout",
     "output_type": "stream",
     "text": [
      "You are not eligible to vote\n"
     ]
    }
   ],
   "source": [
    "age = 15\n",
    "if age < 18:\n",
    "    print(\"You are not eligible to vote\")\n",
    "elif age >= 18 and age < 21:\n",
    "    print(\"You can vote but can't drink\")\n",
    "else:\n",
    "    print(\"You can vote and drink\")"
   ]
  },
  {
   "cell_type": "code",
   "execution_count": null,
   "id": "f43bd1cc-6f46-45de-a23d-40a1262c7e63",
   "metadata": {},
   "outputs": [],
   "source": []
  },
  {
   "cell_type": "code",
   "execution_count": null,
   "id": "688c2194-4c39-4e05-90ec-08f53361bbbe",
   "metadata": {},
   "outputs": [],
   "source": []
  },
  {
   "cell_type": "code",
   "execution_count": null,
   "id": "cf520584-fe90-420b-924d-c7f045d34c3e",
   "metadata": {},
   "outputs": [],
   "source": []
  },
  {
   "cell_type": "code",
   "execution_count": 82,
   "id": "1d4e9d80-be21-40e7-b332-9b885eb93a6f",
   "metadata": {},
   "outputs": [],
   "source": [
    "## HW"
   ]
  },
  {
   "cell_type": "markdown",
   "id": "c7dff093-e793-490f-9648-e3e4a6e095b3",
   "metadata": {},
   "source": [
    "#### Challenge\n",
    "A bartender is trying to determine whether he should serve drinks to someone. He only serves drinks to people 18 and older and when he is not on break. Given the person's age, and whether the break time is in session."
   ]
  },
  {
   "cell_type": "code",
   "execution_count": null,
   "id": "5bcda78e-6ce0-483d-9ce6-78a3d01e898c",
   "metadata": {},
   "outputs": [],
   "source": []
  },
  {
   "cell_type": "code",
   "execution_count": null,
   "id": "f9d4b510-f5c1-446a-87d1-dd132c1133ad",
   "metadata": {},
   "outputs": [],
   "source": []
  },
  {
   "cell_type": "code",
   "execution_count": null,
   "id": "4dd7b3dc-135b-4da4-a517-6be829c77c15",
   "metadata": {},
   "outputs": [],
   "source": []
  },
  {
   "cell_type": "code",
   "execution_count": null,
   "id": "3725ca38-ae48-46e3-b0fa-4796b75f327b",
   "metadata": {},
   "outputs": [],
   "source": []
  },
  {
   "cell_type": "code",
   "execution_count": null,
   "id": "4f0b6386-f5b7-4a16-afab-d0b679cf5864",
   "metadata": {},
   "outputs": [],
   "source": []
  },
  {
   "cell_type": "code",
   "execution_count": null,
   "id": "208fcad1-a1e9-4829-8cbb-801571ae2f82",
   "metadata": {},
   "outputs": [],
   "source": []
  },
  {
   "cell_type": "code",
   "execution_count": null,
   "id": "a588a15d-9f22-441c-b13c-35394dc4c542",
   "metadata": {},
   "outputs": [],
   "source": []
  }
 ],
 "metadata": {
  "kernelspec": {
   "display_name": "Python 3 (ipykernel)",
   "language": "python",
   "name": "python3"
  },
  "language_info": {
   "codemirror_mode": {
    "name": "ipython",
    "version": 3
   },
   "file_extension": ".py",
   "mimetype": "text/x-python",
   "name": "python",
   "nbconvert_exporter": "python",
   "pygments_lexer": "ipython3",
   "version": "3.9.7"
  }
 },
 "nbformat": 4,
 "nbformat_minor": 5
}
