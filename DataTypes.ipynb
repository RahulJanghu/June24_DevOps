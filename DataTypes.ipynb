{
 "cells": [
  {
   "cell_type": "markdown",
   "id": "ae248c3b-6862-4799-94e0-47f9f8f04ea5",
   "metadata": {},
   "source": [
    "### Print"
   ]
  },
  {
   "cell_type": "code",
   "execution_count": 1,
   "id": "0e88bc3d-70c4-4be6-b2af-9bef8fc5504d",
   "metadata": {},
   "outputs": [
    {
     "name": "stdout",
     "output_type": "stream",
     "text": [
      "Hello folk :)\n"
     ]
    }
   ],
   "source": [
    "print(\"Hello folk :)\")"
   ]
  },
  {
   "cell_type": "code",
   "execution_count": 2,
   "id": "d57c5f09-7344-4eec-8f21-0f83c615d0d2",
   "metadata": {},
   "outputs": [
    {
     "name": "stdout",
     "output_type": "stream",
     "text": [
      "23\n"
     ]
    }
   ],
   "source": [
    "print(23)"
   ]
  },
  {
   "cell_type": "code",
   "execution_count": 6,
   "id": "d7f732bd-4e8c-4673-b25d-9c2869357e1d",
   "metadata": {},
   "outputs": [
    {
     "ename": "NameError",
     "evalue": "name 'Print' is not defined",
     "output_type": "error",
     "traceback": [
      "\u001b[0;31m---------------------------------------------------------------------------\u001b[0m",
      "\u001b[0;31mNameError\u001b[0m                                 Traceback (most recent call last)",
      "\u001b[0;32m/var/folders/t5/yhjgrjs907zfp250jyxtw54m0000gn/T/ipykernel_42939/3310235639.py\u001b[0m in \u001b[0;36m<module>\u001b[0;34m\u001b[0m\n\u001b[1;32m      1\u001b[0m \u001b[0;31m# Python is case sensitive language\u001b[0m\u001b[0;34m\u001b[0m\u001b[0;34m\u001b[0m\u001b[0m\n\u001b[1;32m      2\u001b[0m \u001b[0;34m\u001b[0m\u001b[0m\n\u001b[0;32m----> 3\u001b[0;31m \u001b[0mPrint\u001b[0m\u001b[0;34m(\u001b[0m\u001b[0;34m\"Hello Mohan\"\u001b[0m\u001b[0;34m)\u001b[0m\u001b[0;34m\u001b[0m\u001b[0;34m\u001b[0m\u001b[0m\n\u001b[0m",
      "\u001b[0;31mNameError\u001b[0m: name 'Print' is not defined"
     ]
    }
   ],
   "source": [
    "# Python is case sensitive language\n",
    "\n",
    "Print(\"Hello Mohan\")"
   ]
  },
  {
   "cell_type": "code",
   "execution_count": 7,
   "id": "c220ebb8-9be5-4d55-a7ee-2d116649ac5e",
   "metadata": {},
   "outputs": [
    {
     "name": "stdout",
     "output_type": "stream",
     "text": [
      "3\n"
     ]
    }
   ],
   "source": [
    "print(3)"
   ]
  },
  {
   "cell_type": "code",
   "execution_count": 8,
   "id": "6258ee04-443c-4a3a-8fd9-c06f051c63fb",
   "metadata": {},
   "outputs": [
    {
     "name": "stdout",
     "output_type": "stream",
     "text": [
      "9\n"
     ]
    }
   ],
   "source": [
    "print(6 + 3)"
   ]
  },
  {
   "cell_type": "code",
   "execution_count": 9,
   "id": "77365f1f-716e-46ac-946e-62d751453752",
   "metadata": {},
   "outputs": [],
   "source": [
    "# Quiz"
   ]
  },
  {
   "cell_type": "code",
   "execution_count": 10,
   "id": "ab1bf5a2-869a-46fa-ab23-0d367e440fed",
   "metadata": {},
   "outputs": [
    {
     "name": "stdout",
     "output_type": "stream",
     "text": [
      "3\n"
     ]
    }
   ],
   "source": [
    "print(8-5)"
   ]
  },
  {
   "cell_type": "code",
   "execution_count": null,
   "id": "64d9f1b3-011e-4181-a81f-3c60f493dd71",
   "metadata": {},
   "outputs": [],
   "source": []
  },
  {
   "cell_type": "code",
   "execution_count": null,
   "id": "41ae45ff-10f5-42ae-a598-d70af6247362",
   "metadata": {},
   "outputs": [],
   "source": []
  },
  {
   "cell_type": "markdown",
   "id": "ac46f712-bcb9-4703-8522-a76fa7670d5e",
   "metadata": {
    "tags": []
   },
   "source": [
    "## Data types in Python\n",
    "- Integers\n",
    "- Float\n",
    "- Strings\n",
    "- Bool\n",
    "- None\n",
    "\n",
    "Check Data type"
   ]
  },
  {
   "cell_type": "code",
   "execution_count": null,
   "id": "147f9e19-be42-4940-a2c0-8210d17994fd",
   "metadata": {},
   "outputs": [],
   "source": []
  },
  {
   "cell_type": "code",
   "execution_count": null,
   "id": "c51a5aa3-89da-40f1-afcd-e66299d96f38",
   "metadata": {},
   "outputs": [],
   "source": []
  },
  {
   "cell_type": "markdown",
   "id": "8b90030d-c52c-4c4f-93f5-6bd0faf324a3",
   "metadata": {},
   "source": [
    "#### Integers\n",
    "- You can use an integer represent numeric data, and more specifically, whole numbers from negative infinity to infinity, like 4, 5, or -1."
   ]
  },
  {
   "cell_type": "code",
   "execution_count": 12,
   "id": "aa68ace6-762e-4bb4-9621-4b6f5b729685",
   "metadata": {},
   "outputs": [
    {
     "data": {
      "text/plain": [
       "int"
      ]
     },
     "execution_count": 12,
     "metadata": {},
     "output_type": "execute_result"
    }
   ],
   "source": [
    "type(8712740712034710237762361936163981239137139818237801273081723)"
   ]
  },
  {
   "cell_type": "code",
   "execution_count": 13,
   "id": "1a852d24-5659-4c05-b4d7-2d7ae8318727",
   "metadata": {},
   "outputs": [
    {
     "data": {
      "text/plain": [
       "int"
      ]
     },
     "execution_count": 13,
     "metadata": {},
     "output_type": "execute_result"
    }
   ],
   "source": [
    "type(-8712740712034710237762361936163981239137139818237801273081723)"
   ]
  },
  {
   "cell_type": "code",
   "execution_count": 14,
   "id": "b523daf8-81cb-4b1d-a318-ccd837aacb5d",
   "metadata": {},
   "outputs": [
    {
     "data": {
      "text/plain": [
       "int"
      ]
     },
     "execution_count": 14,
     "metadata": {},
     "output_type": "execute_result"
    }
   ],
   "source": [
    "type(0)"
   ]
  },
  {
   "cell_type": "code",
   "execution_count": 16,
   "id": "9197a202-38c5-4dd0-9224-9a366a9d5e47",
   "metadata": {},
   "outputs": [
    {
     "name": "stdout",
     "output_type": "stream",
     "text": [
      "<class 'int'>\n",
      "<class 'int'>\n",
      "<class 'int'>\n"
     ]
    }
   ],
   "source": [
    "print(type(23))\n",
    "print(type(45))\n",
    "print(type(56))"
   ]
  },
  {
   "cell_type": "code",
   "execution_count": null,
   "id": "370de958-ebb0-40d7-9f0c-7875031ac346",
   "metadata": {},
   "outputs": [],
   "source": []
  },
  {
   "cell_type": "markdown",
   "id": "affcbfc4-ce2b-4ee5-a520-fcfc936198f2",
   "metadata": {},
   "source": [
    "#### Type function"
   ]
  },
  {
   "cell_type": "code",
   "execution_count": 17,
   "id": "742b6d78-058f-46a7-96dd-0d042c37930d",
   "metadata": {},
   "outputs": [],
   "source": [
    "# tells the data type of an object"
   ]
  },
  {
   "cell_type": "code",
   "execution_count": null,
   "id": "f41f26fa-932a-400c-8b4f-523153525c45",
   "metadata": {},
   "outputs": [],
   "source": []
  },
  {
   "cell_type": "code",
   "execution_count": null,
   "id": "dfc5f2a7-4b76-478d-9671-42037ec5ac0b",
   "metadata": {},
   "outputs": [],
   "source": []
  },
  {
   "cell_type": "markdown",
   "id": "b0653c67-53b5-436f-a1dd-15dd63f8cc21",
   "metadata": {},
   "source": [
    "#### Floats\n",
    "- \"Float\" stands for 'floating point number'. You can use it for rational numbers, usually ending with a decimal figure, such as 1.11 or 3.14."
   ]
  },
  {
   "cell_type": "code",
   "execution_count": 18,
   "id": "f8a76da0-3c5b-4942-9329-bdb942068f47",
   "metadata": {},
   "outputs": [
    {
     "name": "stdout",
     "output_type": "stream",
     "text": [
      "<class 'float'>\n"
     ]
    }
   ],
   "source": [
    "print(type(2.5))"
   ]
  },
  {
   "cell_type": "code",
   "execution_count": 19,
   "id": "7f8cc83f-bbc8-42f6-ad60-5153db52912d",
   "metadata": {},
   "outputs": [
    {
     "data": {
      "text/plain": [
       "float"
      ]
     },
     "execution_count": 19,
     "metadata": {},
     "output_type": "execute_result"
    }
   ],
   "source": [
    "type(-123123.123123123123123123169812083708127308123)"
   ]
  },
  {
   "cell_type": "code",
   "execution_count": 20,
   "id": "016c64f7-5094-4932-a136-fdb8889e3981",
   "metadata": {},
   "outputs": [
    {
     "data": {
      "text/plain": [
       "float"
      ]
     },
     "execution_count": 20,
     "metadata": {},
     "output_type": "execute_result"
    }
   ],
   "source": [
    "type(3.0)"
   ]
  },
  {
   "cell_type": "code",
   "execution_count": 21,
   "id": "6d1635ea-74d7-4ba6-bb02-6cae652bc164",
   "metadata": {},
   "outputs": [
    {
     "data": {
      "text/plain": [
       "float"
      ]
     },
     "execution_count": 21,
     "metadata": {},
     "output_type": "execute_result"
    }
   ],
   "source": [
    "type(3.)"
   ]
  },
  {
   "cell_type": "code",
   "execution_count": null,
   "id": "53c67b1e-f203-44f7-a4dc-e55686c6023b",
   "metadata": {},
   "outputs": [],
   "source": []
  },
  {
   "cell_type": "markdown",
   "id": "0b76e83f-a35b-4be0-9ce9-34c4a93755b1",
   "metadata": {},
   "source": [
    "#### Strings\n",
    "- Strings are collections of alphabets, words or other characters. In Python, you can create strings by enclosing a sequence of characters within a pair of single or double quotes. For example: 'cake', \"cookie\", etc."
   ]
  },
  {
   "cell_type": "code",
   "execution_count": 22,
   "id": "22f95b4e-fca1-401b-93f6-4b447ae5682a",
   "metadata": {},
   "outputs": [],
   "source": [
    "# Printing multiple strings"
   ]
  },
  {
   "cell_type": "code",
   "execution_count": 23,
   "id": "3b85dc82-9890-4633-ae0d-ba63904459d7",
   "metadata": {},
   "outputs": [
    {
     "data": {
      "text/plain": [
       "str"
      ]
     },
     "execution_count": 23,
     "metadata": {},
     "output_type": "execute_result"
    }
   ],
   "source": [
    "type('3476274283482382')"
   ]
  },
  {
   "cell_type": "code",
   "execution_count": 24,
   "id": "519f59f1-5f24-4730-a981-9f6d7c3591a1",
   "metadata": {},
   "outputs": [
    {
     "data": {
      "text/plain": [
       "str"
      ]
     },
     "execution_count": 24,
     "metadata": {},
     "output_type": "execute_result"
    }
   ],
   "source": [
    "type('hjsfd7y329rfvv72u3g@@@@=-=-1?>c.asdasjdf939o.,c')"
   ]
  },
  {
   "cell_type": "code",
   "execution_count": 25,
   "id": "f13542b0-7757-43c6-b5c7-368f63ea52e2",
   "metadata": {},
   "outputs": [
    {
     "data": {
      "text/plain": [
       "str"
      ]
     },
     "execution_count": 25,
     "metadata": {},
     "output_type": "execute_result"
    }
   ],
   "source": [
    "type('こんにちは')"
   ]
  },
  {
   "cell_type": "code",
   "execution_count": 26,
   "id": "db03020d-1845-471c-856a-45c78d238200",
   "metadata": {},
   "outputs": [
    {
     "data": {
      "text/plain": [
       "str"
      ]
     },
     "execution_count": 26,
     "metadata": {},
     "output_type": "execute_result"
    }
   ],
   "source": [
    "type(\"こんにちは\")"
   ]
  },
  {
   "cell_type": "code",
   "execution_count": 27,
   "id": "4682d1d7-b17a-43c9-944f-263e8b414345",
   "metadata": {},
   "outputs": [
    {
     "data": {
      "text/plain": [
       "str"
      ]
     },
     "execution_count": 27,
     "metadata": {},
     "output_type": "execute_result"
    }
   ],
   "source": [
    "type('''こんにちは''')"
   ]
  },
  {
   "cell_type": "code",
   "execution_count": 29,
   "id": "92ebcb4e-20e8-40ca-8dad-366f1679097c",
   "metadata": {},
   "outputs": [
    {
     "data": {
      "text/plain": [
       "str"
      ]
     },
     "execution_count": 29,
     "metadata": {},
     "output_type": "execute_result"
    }
   ],
   "source": [
    "type(\"\"\"こんにちは\"\"\")"
   ]
  },
  {
   "cell_type": "code",
   "execution_count": 31,
   "id": "cb197013-19a0-4f1f-9cee-f5b06156a48a",
   "metadata": {},
   "outputs": [],
   "source": [
    "s = '''\n",
    "Hey\n",
    "this\n",
    "is \n",
    "Rahul.\n",
    "'''"
   ]
  },
  {
   "cell_type": "code",
   "execution_count": 32,
   "id": "0fc852b9-be07-451f-ae0d-adb4ef653e03",
   "metadata": {},
   "outputs": [
    {
     "data": {
      "text/plain": [
       "str"
      ]
     },
     "execution_count": 32,
     "metadata": {},
     "output_type": "execute_result"
    }
   ],
   "source": [
    "type(s)"
   ]
  },
  {
   "cell_type": "code",
   "execution_count": 33,
   "id": "f11ac3cd-f919-4e19-ba70-94545f2771d6",
   "metadata": {},
   "outputs": [],
   "source": [
    "s1 = \"\"\"\n",
    "Hey\n",
    "this\n",
    "is \n",
    "Rahul.\n",
    "\"\"\""
   ]
  },
  {
   "cell_type": "code",
   "execution_count": 34,
   "id": "ede5d518-b020-41b4-bc4f-24e84e85a3ed",
   "metadata": {},
   "outputs": [
    {
     "data": {
      "text/plain": [
       "str"
      ]
     },
     "execution_count": 34,
     "metadata": {},
     "output_type": "execute_result"
    }
   ],
   "source": [
    "type(s1)"
   ]
  },
  {
   "cell_type": "code",
   "execution_count": null,
   "id": "16f97d2e-fccf-4b2c-bf74-06513d0eec68",
   "metadata": {},
   "outputs": [],
   "source": []
  },
  {
   "cell_type": "markdown",
   "id": "8e8b6566-d6d7-403a-b282-da06908daa63",
   "metadata": {},
   "source": [
    "#### Boolean\n",
    "- This built-in data type that can take up the values: True and False, which often makes them interchangeable with the integers 1 and 0. Booleans are useful in conditional and comparison expressions"
   ]
  },
  {
   "cell_type": "code",
   "execution_count": 35,
   "id": "2cbcbcba-1cab-4554-857c-192dc0728eab",
   "metadata": {},
   "outputs": [],
   "source": [
    "# True, False"
   ]
  },
  {
   "cell_type": "code",
   "execution_count": 36,
   "id": "8b601fa2-720a-42fe-95e1-06e50ea045d5",
   "metadata": {},
   "outputs": [
    {
     "data": {
      "text/plain": [
       "bool"
      ]
     },
     "execution_count": 36,
     "metadata": {},
     "output_type": "execute_result"
    }
   ],
   "source": [
    "type(True)"
   ]
  },
  {
   "cell_type": "code",
   "execution_count": 37,
   "id": "85ddb4d7-d746-4c1f-894d-63ed67dc67a2",
   "metadata": {},
   "outputs": [
    {
     "data": {
      "text/plain": [
       "bool"
      ]
     },
     "execution_count": 37,
     "metadata": {},
     "output_type": "execute_result"
    }
   ],
   "source": [
    "type(False)"
   ]
  },
  {
   "cell_type": "code",
   "execution_count": null,
   "id": "2d6bad2d-dea5-4e1e-a9e8-575b17140735",
   "metadata": {},
   "outputs": [],
   "source": []
  },
  {
   "cell_type": "code",
   "execution_count": 48,
   "id": "7f85b2c5-e770-4027-82ef-85c815fe41a2",
   "metadata": {},
   "outputs": [],
   "source": [
    "# Python can differentiate between small case and upper case: CaseSensitive"
   ]
  },
  {
   "cell_type": "code",
   "execution_count": 38,
   "id": "4ecda962-5a56-41db-85e4-9af8c4c318c6",
   "metadata": {},
   "outputs": [
    {
     "data": {
      "text/plain": [
       "str"
      ]
     },
     "execution_count": 38,
     "metadata": {},
     "output_type": "execute_result"
    }
   ],
   "source": [
    "type(\"True\")"
   ]
  },
  {
   "cell_type": "code",
   "execution_count": 40,
   "id": "02e311c1-425a-409e-ae4d-b5096a91bca9",
   "metadata": {},
   "outputs": [
    {
     "name": "stdout",
     "output_type": "stream",
     "text": [
      "6 + 5\n"
     ]
    }
   ],
   "source": [
    "print(\"6 + 5\")"
   ]
  },
  {
   "cell_type": "code",
   "execution_count": 41,
   "id": "ed9c08dc-3d3c-49df-a96b-3c3e222815e1",
   "metadata": {},
   "outputs": [
    {
     "name": "stdout",
     "output_type": "stream",
     "text": [
      "11\n"
     ]
    }
   ],
   "source": [
    "print(6 + 5)"
   ]
  },
  {
   "cell_type": "code",
   "execution_count": 42,
   "id": "a3c0ed69-1098-406e-8874-74d145a02eea",
   "metadata": {},
   "outputs": [],
   "source": [
    "# Sring Concatenation"
   ]
  },
  {
   "cell_type": "code",
   "execution_count": 43,
   "id": "7a83c941-e5f1-4f38-ba73-62b66824bf20",
   "metadata": {},
   "outputs": [
    {
     "name": "stdout",
     "output_type": "stream",
     "text": [
      "RahulJanghu\n"
     ]
    }
   ],
   "source": [
    "print(\"Rahul\" + \"Janghu\")"
   ]
  },
  {
   "cell_type": "code",
   "execution_count": 44,
   "id": "e6dc2452-ebdc-4cca-9b4f-a38b475ef243",
   "metadata": {},
   "outputs": [
    {
     "name": "stdout",
     "output_type": "stream",
     "text": [
      "35\n"
     ]
    }
   ],
   "source": [
    "print(\"3\" + \"5\")"
   ]
  },
  {
   "cell_type": "code",
   "execution_count": 47,
   "id": "c6476641-2bbd-43ad-9622-53b191f82bd0",
   "metadata": {},
   "outputs": [
    {
     "name": "stdout",
     "output_type": "stream",
     "text": [
      "11\n"
     ]
    }
   ],
   "source": [
    "print(\"1\" + \"1\")"
   ]
  },
  {
   "cell_type": "code",
   "execution_count": 55,
   "id": "433e92d5-fd24-4d96-b2cf-0983aac41d3b",
   "metadata": {},
   "outputs": [
    {
     "name": "stdout",
     "output_type": "stream",
     "text": [
      "3 1\n"
     ]
    }
   ],
   "source": [
    "print(\"3\", \"1\")"
   ]
  },
  {
   "cell_type": "code",
   "execution_count": null,
   "id": "29928d32-8e11-4756-926c-da29d2b2e87a",
   "metadata": {},
   "outputs": [],
   "source": []
  },
  {
   "cell_type": "code",
   "execution_count": null,
   "id": "a282e129-7210-4849-bc80-c237b1745bdc",
   "metadata": {},
   "outputs": [],
   "source": []
  },
  {
   "cell_type": "markdown",
   "id": "544c7fed-6a2f-4939-8cff-f17b2087316e",
   "metadata": {},
   "source": [
    "## None Data Type\n",
    "- None data means no data or void"
   ]
  },
  {
   "cell_type": "code",
   "execution_count": 49,
   "id": "51b51e49-4cd8-4a16-ac4b-a5195bcc0466",
   "metadata": {},
   "outputs": [
    {
     "data": {
      "text/plain": [
       "NoneType"
      ]
     },
     "execution_count": 49,
     "metadata": {},
     "output_type": "execute_result"
    }
   ],
   "source": [
    "type(None)"
   ]
  },
  {
   "cell_type": "code",
   "execution_count": 52,
   "id": "5c227f25-3ac8-4bbe-a2f8-be6cedf22c43",
   "metadata": {},
   "outputs": [
    {
     "data": {
      "text/plain": [
       "bool"
      ]
     },
     "execution_count": 52,
     "metadata": {},
     "output_type": "execute_result"
    }
   ],
   "source": [
    "type(True)"
   ]
  },
  {
   "cell_type": "code",
   "execution_count": null,
   "id": "e32c7f5b-f013-465a-873d-a1fdebb7e8a1",
   "metadata": {},
   "outputs": [],
   "source": []
  },
  {
   "cell_type": "code",
   "execution_count": 53,
   "id": "0b4e0e03-6c16-49ea-815d-484f52d8dbde",
   "metadata": {},
   "outputs": [],
   "source": [
    "# Quiz"
   ]
  },
  {
   "cell_type": "code",
   "execution_count": 54,
   "id": "0565e421-f60f-4606-9aea-7c48ba9b1aab",
   "metadata": {},
   "outputs": [
    {
     "name": "stdout",
     "output_type": "stream",
     "text": [
      "<class 'float'>\n",
      "<class 'str'>\n",
      "<class 'str'>\n",
      "<class 'int'>\n"
     ]
    }
   ],
   "source": [
    "print(type(.2))\n",
    "print(type(\"2.3\"))\n",
    "print(type('3.14'))\n",
    "print(type(-3))"
   ]
  },
  {
   "cell_type": "code",
   "execution_count": null,
   "id": "4fa9acc8-3f1f-4ef8-8154-d30e9d50bd59",
   "metadata": {},
   "outputs": [],
   "source": []
  },
  {
   "cell_type": "code",
   "execution_count": null,
   "id": "39ca365b-ad42-4f50-9f31-cdb053b3fbc5",
   "metadata": {},
   "outputs": [],
   "source": []
  },
  {
   "cell_type": "code",
   "execution_count": null,
   "id": "bbe1bc2c-6d0b-4833-a432-1d0871b91ac9",
   "metadata": {},
   "outputs": [],
   "source": []
  },
  {
   "cell_type": "markdown",
   "id": "30370d30-f4db-4fad-a320-5e84223192b0",
   "metadata": {},
   "source": [
    "## Variables\n",
    "It's a type of variable's Rules for naming variables\n",
    "\n",
    "- Name must start from Alphabet(small or caps) or underscore(_)\n",
    "- They are case sensitive. It can differentiate between small and CAPS.\n",
    "- Name should not start with number\n",
    "- No special characters\n",
    "- It can be alphanumeric as well"
   ]
  },
  {
   "cell_type": "code",
   "execution_count": 56,
   "id": "9526b145-0242-4da1-9976-bdd210bd21fd",
   "metadata": {},
   "outputs": [],
   "source": [
    "# Variables are containers which holds some data"
   ]
  },
  {
   "cell_type": "code",
   "execution_count": 57,
   "id": "95a00e96-a4cc-4ea2-aa6a-50c49037fd9e",
   "metadata": {},
   "outputs": [],
   "source": [
    "# Variable holds latest value"
   ]
  },
  {
   "cell_type": "code",
   "execution_count": 58,
   "id": "0e254bba-8cf3-4ab3-8dcc-63233fa7c39b",
   "metadata": {},
   "outputs": [
    {
     "name": "stdout",
     "output_type": "stream",
     "text": [
      "11\n"
     ]
    }
   ],
   "source": [
    "x = 5\n",
    "y = 6\n",
    "\n",
    "total = x + y\n",
    "print(total)"
   ]
  },
  {
   "cell_type": "code",
   "execution_count": 59,
   "id": "d2fa4da4-de57-47f5-94ed-787a055696d8",
   "metadata": {},
   "outputs": [
    {
     "name": "stdout",
     "output_type": "stream",
     "text": [
      "Rahul\n"
     ]
    }
   ],
   "source": [
    "_a = \"Rahul\"\n",
    "\n",
    "print(_a)"
   ]
  },
  {
   "cell_type": "code",
   "execution_count": 60,
   "id": "4cd72637-e7b3-4425-bfe4-340003ac7052",
   "metadata": {},
   "outputs": [],
   "source": [
    "_1 = \"Rohit\""
   ]
  },
  {
   "cell_type": "code",
   "execution_count": 61,
   "id": "c832bc90-d7b6-4037-98ff-d8d9059e8705",
   "metadata": {},
   "outputs": [
    {
     "name": "stdout",
     "output_type": "stream",
     "text": [
      "Rohit\n"
     ]
    }
   ],
   "source": [
    "print(_1)"
   ]
  },
  {
   "cell_type": "code",
   "execution_count": 63,
   "id": "0252f4c9-3a74-4b51-b09e-05c513df6c31",
   "metadata": {},
   "outputs": [],
   "source": [
    "a1 = 35"
   ]
  },
  {
   "cell_type": "code",
   "execution_count": 64,
   "id": "2da6bbf5-b822-4894-9d05-64414b2d0674",
   "metadata": {},
   "outputs": [
    {
     "name": "stdout",
     "output_type": "stream",
     "text": [
      "35\n"
     ]
    }
   ],
   "source": [
    "print(a1)"
   ]
  },
  {
   "cell_type": "code",
   "execution_count": 65,
   "id": "d020b4e6-30f1-4523-bbd8-b4fddbbd49d8",
   "metadata": {},
   "outputs": [
    {
     "name": "stdout",
     "output_type": "stream",
     "text": [
      "a1\n"
     ]
    }
   ],
   "source": [
    "print(\"a1\")"
   ]
  },
  {
   "cell_type": "code",
   "execution_count": 67,
   "id": "8a727dfa-163f-4a59-9c49-1c798cdcd39e",
   "metadata": {},
   "outputs": [
    {
     "name": "stdout",
     "output_type": "stream",
     "text": [
      "Rahul\n"
     ]
    }
   ],
   "source": [
    "first_name = \"Rahul\"\n",
    "\n",
    "print(first_name)"
   ]
  },
  {
   "cell_type": "code",
   "execution_count": null,
   "id": "acdbe038-bbce-400d-aa0d-31d456f0f781",
   "metadata": {},
   "outputs": [],
   "source": []
  },
  {
   "cell_type": "code",
   "execution_count": 68,
   "id": "ea137aeb-e009-49f6-a20e-04b7df784a8c",
   "metadata": {},
   "outputs": [],
   "source": [
    "# A variable holds latest value"
   ]
  },
  {
   "cell_type": "code",
   "execution_count": 69,
   "id": "8102c2a9-6f4f-4269-b304-8d662c9c1f76",
   "metadata": {},
   "outputs": [],
   "source": [
    "x = 5\n",
    "x = 45\n",
    "x = 30\n",
    "x = 1"
   ]
  },
  {
   "cell_type": "code",
   "execution_count": 70,
   "id": "1a167191-f47d-40ba-b5b2-cf401c7c4a52",
   "metadata": {},
   "outputs": [
    {
     "name": "stdout",
     "output_type": "stream",
     "text": [
      "1\n"
     ]
    }
   ],
   "source": [
    "print(x)"
   ]
  },
  {
   "cell_type": "code",
   "execution_count": null,
   "id": "a61d16d8-37ce-4c06-8381-6c2e69a9b590",
   "metadata": {},
   "outputs": [],
   "source": []
  },
  {
   "cell_type": "code",
   "execution_count": 71,
   "id": "cef4143a-8d2f-4683-81d5-6722773fb00f",
   "metadata": {},
   "outputs": [],
   "source": [
    "# hELLO --> Correct\n",
    "\n",
    "# 1_name_Input\n",
    "\n",
    "# a*b*c\n",
    "\n",
    "# Cod3$#"
   ]
  },
  {
   "cell_type": "code",
   "execution_count": null,
   "id": "15e8e8e5-db81-4c00-88a0-ea2811fe8fc4",
   "metadata": {},
   "outputs": [],
   "source": []
  },
  {
   "cell_type": "markdown",
   "id": "cb852eef-bc51-486b-8b47-e21cb9af3fed",
   "metadata": {},
   "source": [
    "## Input function\n",
    "- It takes input from user i.e us\n",
    "- Typecasting of input function"
   ]
  },
  {
   "cell_type": "code",
   "execution_count": 77,
   "id": "95ba5696-21a3-4c0e-90df-ecf3614a313b",
   "metadata": {},
   "outputs": [
    {
     "name": "stdin",
     "output_type": "stream",
     "text": [
      " Atomic Habits\n"
     ]
    }
   ],
   "source": [
    "product = input()"
   ]
  },
  {
   "cell_type": "code",
   "execution_count": null,
   "id": "545824f0-e307-4c38-a9cf-19a7f5e0287d",
   "metadata": {},
   "outputs": [],
   "source": [
    "print(\"Hey\")"
   ]
  },
  {
   "cell_type": "code",
   "execution_count": 73,
   "id": "8f02baf4-5a57-447a-99d5-da48060b6210",
   "metadata": {},
   "outputs": [
    {
     "name": "stdout",
     "output_type": "stream",
     "text": [
      "Atomic Habit\n"
     ]
    }
   ],
   "source": [
    "print(product)"
   ]
  },
  {
   "cell_type": "code",
   "execution_count": 74,
   "id": "3d01a92d-0180-479a-ac5d-93bd62a35903",
   "metadata": {},
   "outputs": [
    {
     "data": {
      "text/plain": [
       "str"
      ]
     },
     "execution_count": 74,
     "metadata": {},
     "output_type": "execute_result"
    }
   ],
   "source": [
    "type(product)"
   ]
  },
  {
   "cell_type": "code",
   "execution_count": null,
   "id": "610e6965-3119-4cd7-b4a6-6a6b8d380fdd",
   "metadata": {},
   "outputs": [],
   "source": []
  },
  {
   "cell_type": "code",
   "execution_count": 75,
   "id": "42661772-da5b-4a8d-9659-ceb53fd09240",
   "metadata": {},
   "outputs": [],
   "source": [
    "# Quiz"
   ]
  },
  {
   "cell_type": "code",
   "execution_count": 76,
   "id": "83558187-5b51-4c0a-b485-50f06f368d47",
   "metadata": {},
   "outputs": [
    {
     "name": "stdout",
     "output_type": "stream",
     "text": [
      "hello 5\n"
     ]
    }
   ],
   "source": [
    "x = 3\n",
    "y = 'hello'\n",
    "num = y\n",
    "y = 5\n",
    "print(num, y)"
   ]
  },
  {
   "cell_type": "code",
   "execution_count": null,
   "id": "f57d20ce-fee0-401e-8e02-76f230bce62d",
   "metadata": {},
   "outputs": [],
   "source": []
  },
  {
   "cell_type": "code",
   "execution_count": null,
   "id": "ac22891d-2087-42e3-a97b-b9859e178ce7",
   "metadata": {},
   "outputs": [],
   "source": []
  },
  {
   "cell_type": "code",
   "execution_count": null,
   "id": "9ba63715-d274-4118-8e1b-d7d929446d0a",
   "metadata": {},
   "outputs": [],
   "source": []
  },
  {
   "cell_type": "markdown",
   "id": "2180723a-c8c9-4284-8276-411c33c46954",
   "metadata": {},
   "source": [
    "### Challenge: Take two user input and add them\n",
    "- By default input takes a string as input"
   ]
  },
  {
   "cell_type": "code",
   "execution_count": 82,
   "id": "d59b9a32-b7b4-451e-b703-4f9143729154",
   "metadata": {},
   "outputs": [
    {
     "name": "stdin",
     "output_type": "stream",
     "text": [
      " 5\n",
      " 6\n"
     ]
    }
   ],
   "source": [
    "x = input()\n",
    "y = input()"
   ]
  },
  {
   "cell_type": "code",
   "execution_count": 83,
   "id": "fae3ea32-6ac2-4aa0-bba0-b25dd90d8ebb",
   "metadata": {},
   "outputs": [
    {
     "data": {
      "text/plain": [
       "'5'"
      ]
     },
     "execution_count": 83,
     "metadata": {},
     "output_type": "execute_result"
    }
   ],
   "source": [
    "x"
   ]
  },
  {
   "cell_type": "code",
   "execution_count": 84,
   "id": "f0ecd2b3-b1ff-4985-928d-fbd2a89cb7ac",
   "metadata": {},
   "outputs": [
    {
     "data": {
      "text/plain": [
       "'6'"
      ]
     },
     "execution_count": 84,
     "metadata": {},
     "output_type": "execute_result"
    }
   ],
   "source": [
    "y"
   ]
  },
  {
   "cell_type": "code",
   "execution_count": 85,
   "id": "c6d4bf10-7270-4515-baea-b08977ce972f",
   "metadata": {},
   "outputs": [
    {
     "data": {
      "text/plain": [
       "str"
      ]
     },
     "execution_count": 85,
     "metadata": {},
     "output_type": "execute_result"
    }
   ],
   "source": [
    "type(x)"
   ]
  },
  {
   "cell_type": "code",
   "execution_count": 86,
   "id": "7e0c7a8b-1d33-486a-94fc-6ac8eefa0d72",
   "metadata": {},
   "outputs": [
    {
     "data": {
      "text/plain": [
       "str"
      ]
     },
     "execution_count": 86,
     "metadata": {},
     "output_type": "execute_result"
    }
   ],
   "source": [
    "type(y)"
   ]
  },
  {
   "cell_type": "code",
   "execution_count": 88,
   "id": "688d94a6-9c12-4f2c-a553-d38f150a5212",
   "metadata": {},
   "outputs": [],
   "source": [
    "# This is addition of strings --> String Concatenation"
   ]
  },
  {
   "cell_type": "code",
   "execution_count": 87,
   "id": "353183a4-0ce7-4b23-8e79-e965b57883a0",
   "metadata": {},
   "outputs": [
    {
     "name": "stdout",
     "output_type": "stream",
     "text": [
      "56\n"
     ]
    }
   ],
   "source": [
    "print(x + y)"
   ]
  },
  {
   "cell_type": "code",
   "execution_count": null,
   "id": "9fc6a975-2015-461f-9dc4-dd177f6bbd78",
   "metadata": {},
   "outputs": [],
   "source": []
  },
  {
   "cell_type": "code",
   "execution_count": 89,
   "id": "4ae63b19-4df4-464e-a20e-f3c9897e1e0d",
   "metadata": {},
   "outputs": [],
   "source": [
    "# typecasting --> process of changing data type of a data"
   ]
  },
  {
   "cell_type": "code",
   "execution_count": 91,
   "id": "837a4a52-b0a8-46fd-9ad9-e7dcead4d2c0",
   "metadata": {},
   "outputs": [
    {
     "data": {
      "text/plain": [
       "int"
      ]
     },
     "execution_count": 91,
     "metadata": {},
     "output_type": "execute_result"
    }
   ],
   "source": [
    "type(int('5'))"
   ]
  },
  {
   "cell_type": "code",
   "execution_count": null,
   "id": "b0ddd061-d9b8-44f3-8e9f-721cbaae2c12",
   "metadata": {},
   "outputs": [],
   "source": []
  },
  {
   "cell_type": "code",
   "execution_count": 92,
   "id": "1d2dec47-436d-4984-9f8b-3669365f7707",
   "metadata": {},
   "outputs": [],
   "source": [
    "x = int(x)\n",
    "y = int(y)"
   ]
  },
  {
   "cell_type": "code",
   "execution_count": 94,
   "id": "fc9bc7a4-2ccb-4673-910f-06fa97a8a7f9",
   "metadata": {},
   "outputs": [
    {
     "data": {
      "text/plain": [
       "int"
      ]
     },
     "execution_count": 94,
     "metadata": {},
     "output_type": "execute_result"
    }
   ],
   "source": [
    "type(x)"
   ]
  },
  {
   "cell_type": "code",
   "execution_count": 95,
   "id": "0380d43f-4210-4d26-9d50-5121555f349b",
   "metadata": {},
   "outputs": [
    {
     "data": {
      "text/plain": [
       "int"
      ]
     },
     "execution_count": 95,
     "metadata": {},
     "output_type": "execute_result"
    }
   ],
   "source": [
    "type(y)"
   ]
  },
  {
   "cell_type": "code",
   "execution_count": 96,
   "id": "b566b9b6-c07e-4ee0-9f34-837248f76f33",
   "metadata": {},
   "outputs": [
    {
     "name": "stdin",
     "output_type": "stream",
     "text": [
      " 5\n",
      " 6\n"
     ]
    }
   ],
   "source": [
    "x = int(input())\n",
    "y = int(input())"
   ]
  },
  {
   "cell_type": "code",
   "execution_count": 97,
   "id": "8647bea1-5f1c-492c-8093-bda96f0e8443",
   "metadata": {},
   "outputs": [
    {
     "name": "stdout",
     "output_type": "stream",
     "text": [
      "11\n"
     ]
    }
   ],
   "source": [
    "print(x + y)"
   ]
  },
  {
   "cell_type": "code",
   "execution_count": null,
   "id": "2fd44720-0f1d-43a5-8d5f-a635fdea0f4b",
   "metadata": {},
   "outputs": [],
   "source": []
  },
  {
   "cell_type": "code",
   "execution_count": 100,
   "id": "2b562b9a-6329-420b-8c2c-6e9439d9fcf6",
   "metadata": {},
   "outputs": [
    {
     "data": {
      "text/plain": [
       "5"
      ]
     },
     "execution_count": 100,
     "metadata": {},
     "output_type": "execute_result"
    }
   ],
   "source": [
    "int('5')"
   ]
  },
  {
   "cell_type": "code",
   "execution_count": 102,
   "id": "e99b360e-def3-4f2b-867d-f9babba40cb2",
   "metadata": {},
   "outputs": [],
   "source": [
    "# int('Rahul')"
   ]
  },
  {
   "cell_type": "code",
   "execution_count": null,
   "id": "74edc88c-484c-462d-83d6-ec4d640e2299",
   "metadata": {},
   "outputs": [],
   "source": []
  },
  {
   "cell_type": "code",
   "execution_count": null,
   "id": "edd002ef-0c71-4e93-ad09-af26d5a23b82",
   "metadata": {},
   "outputs": [],
   "source": []
  },
  {
   "cell_type": "code",
   "execution_count": null,
   "id": "aa58d914-6e4c-4682-911b-24d7ed9a53db",
   "metadata": {},
   "outputs": [],
   "source": []
  },
  {
   "cell_type": "code",
   "execution_count": null,
   "id": "c905e883-f672-4a2f-b052-183dd77dc33d",
   "metadata": {},
   "outputs": [],
   "source": []
  },
  {
   "cell_type": "code",
   "execution_count": null,
   "id": "27764f6d-c9dd-4025-ae1b-7c672dd02210",
   "metadata": {},
   "outputs": [],
   "source": []
  },
  {
   "cell_type": "code",
   "execution_count": null,
   "id": "0cc0a8e4-cc2e-415e-8f04-fa59917eceb0",
   "metadata": {},
   "outputs": [],
   "source": []
  }
 ],
 "metadata": {
  "kernelspec": {
   "display_name": "Python 3 (ipykernel)",
   "language": "python",
   "name": "python3"
  },
  "language_info": {
   "codemirror_mode": {
    "name": "ipython",
    "version": 3
   },
   "file_extension": ".py",
   "mimetype": "text/x-python",
   "name": "python",
   "nbconvert_exporter": "python",
   "pygments_lexer": "ipython3",
   "version": "3.9.7"
  }
 },
 "nbformat": 4,
 "nbformat_minor": 5
}
