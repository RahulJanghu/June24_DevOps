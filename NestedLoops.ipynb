{
 "cells": [
  {
   "cell_type": "markdown",
   "id": "c9b803d4-128c-488d-88fa-59d803dc9ac9",
   "metadata": {},
   "source": [
    "### Take input as n and print:"
   ]
  },
  {
   "cell_type": "code",
   "execution_count": 1,
   "id": "4aed3150-dee5-41b6-aafa-da0d255ef371",
   "metadata": {},
   "outputs": [],
   "source": [
    "# n = 4\n",
    "# # # #"
   ]
  },
  {
   "cell_type": "code",
   "execution_count": 2,
   "id": "64e7b570-5ce7-462c-9ac3-3f59dea870e9",
   "metadata": {},
   "outputs": [],
   "source": [
    "# Q.1 --> Print 4 # in a single line"
   ]
  },
  {
   "cell_type": "code",
   "execution_count": 8,
   "id": "6584e6b3-9243-44ee-8517-9c68fcadf4d6",
   "metadata": {},
   "outputs": [],
   "source": [
    "# Q.2 --> Question: Write a loop to print the following numbers -> 1,4,7,10,13,16"
   ]
  },
  {
   "cell_type": "code",
   "execution_count": 5,
   "id": "67622cfa-f60d-4909-9db5-213b50ec7123",
   "metadata": {},
   "outputs": [
    {
     "name": "stdout",
     "output_type": "stream",
     "text": [
      "# # # # "
     ]
    }
   ],
   "source": [
    "n = 4\n",
    "for i in range(n):\n",
    "    print(\"#\", end=\" \")"
   ]
  },
  {
   "cell_type": "code",
   "execution_count": 7,
   "id": "34fc98bc-556f-4cfd-a8a8-88fd504d9467",
   "metadata": {},
   "outputs": [
    {
     "name": "stdin",
     "output_type": "stream",
     "text": [
      " 10\n"
     ]
    },
    {
     "name": "stdout",
     "output_type": "stream",
     "text": [
      "# # # # # # # # # # "
     ]
    }
   ],
   "source": [
    "n = int(input())\n",
    "\n",
    "for i in range(n):\n",
    "    print(\"#\", end=\" \")"
   ]
  },
  {
   "cell_type": "code",
   "execution_count": 10,
   "id": "4a373294-7f64-45e0-9630-16bbd6629321",
   "metadata": {},
   "outputs": [
    {
     "name": "stdin",
     "output_type": "stream",
     "text": [
      " 16\n"
     ]
    },
    {
     "name": "stdout",
     "output_type": "stream",
     "text": [
      "1 4 7 10 13 16 "
     ]
    }
   ],
   "source": [
    "n = int(input())\n",
    "\n",
    "for i in range(1, n+1, 3):\n",
    "    print(i, end=\" \")"
   ]
  },
  {
   "cell_type": "code",
   "execution_count": null,
   "id": "9e792dba-2ab7-4efd-affc-0d736ac26ac0",
   "metadata": {},
   "outputs": [],
   "source": []
  },
  {
   "cell_type": "code",
   "execution_count": null,
   "id": "18cbe8d5-8e2b-48f6-a36e-487397ec9bda",
   "metadata": {},
   "outputs": [],
   "source": []
  },
  {
   "cell_type": "markdown",
   "id": "a48580a5-e383-42f1-ad3c-e2c879a6ff36",
   "metadata": {},
   "source": [
    "### Jump Statements\n",
    "- Pass\n",
    "- Continue\n",
    "- Break"
   ]
  },
  {
   "cell_type": "code",
   "execution_count": 11,
   "id": "5b3fd276-86de-4fc7-9fc7-c3eb0980c8a5",
   "metadata": {},
   "outputs": [],
   "source": [
    "# Pass is just a proxy to a block of code"
   ]
  },
  {
   "cell_type": "code",
   "execution_count": 16,
   "id": "746e60a8-4f8b-41eb-ad10-c2ab5f968b2b",
   "metadata": {},
   "outputs": [],
   "source": [
    "for i in range(4):\n",
    "    pass"
   ]
  },
  {
   "cell_type": "code",
   "execution_count": 18,
   "id": "ef4ebbd7-fa0e-494d-8b84-5d75ceeef547",
   "metadata": {},
   "outputs": [],
   "source": [
    "if 4 == 4:\n",
    "    pass"
   ]
  },
  {
   "cell_type": "code",
   "execution_count": null,
   "id": "5e622ee1-3ac8-4abf-9ef3-1b06d0e75341",
   "metadata": {},
   "outputs": [],
   "source": []
  },
  {
   "cell_type": "code",
   "execution_count": 19,
   "id": "3b827405-b821-482b-9942-4c0e76b88cb5",
   "metadata": {},
   "outputs": [],
   "source": [
    "# Continue: Rest of the code for this iteration gets skipped"
   ]
  },
  {
   "cell_type": "code",
   "execution_count": 22,
   "id": "9fd9e574-d6d8-493f-a40c-1e6b86a30318",
   "metadata": {},
   "outputs": [
    {
     "name": "stdout",
     "output_type": "stream",
     "text": [
      "0\n",
      "1\n",
      "2\n",
      "4\n",
      "5\n",
      "6\n",
      "7\n",
      "8\n",
      "9\n"
     ]
    }
   ],
   "source": [
    "for i in range(10):\n",
    "    if i == 3:\n",
    "        continue\n",
    "        print(\"Hey\")\n",
    "    print(i)"
   ]
  },
  {
   "cell_type": "code",
   "execution_count": 26,
   "id": "f95e3ee1-c2af-4b2d-9b63-f2ec9b5fd36f",
   "metadata": {},
   "outputs": [
    {
     "name": "stdout",
     "output_type": "stream",
     "text": [
      "I will always get executed.\n",
      "0\n",
      "I will always get executed.\n",
      "1\n",
      "I will always get executed.\n",
      "2\n",
      "I will always get executed.\n",
      "I will always get executed.\n",
      "4\n",
      "I will always get executed.\n",
      "5\n",
      "I will always get executed.\n",
      "6\n",
      "I will always get executed.\n",
      "7\n",
      "I will always get executed.\n",
      "8\n",
      "I will always get executed.\n",
      "9\n"
     ]
    }
   ],
   "source": [
    "for i in range(10):\n",
    "    print(\"I will always get executed.\")\n",
    "    if i == 3:\n",
    "        continue\n",
    "        print(\"Hey\")\n",
    "    print(i)"
   ]
  },
  {
   "cell_type": "code",
   "execution_count": 32,
   "id": "a4bd0aa0-5361-4378-a325-268e8011e4ae",
   "metadata": {},
   "outputs": [],
   "source": [
    "# Power of continue is to skip an iteration"
   ]
  },
  {
   "cell_type": "code",
   "execution_count": 30,
   "id": "af188c21-df00-4d69-a205-5aef16741b54",
   "metadata": {},
   "outputs": [
    {
     "name": "stdout",
     "output_type": "stream",
     "text": [
      "Appraisal granted to employee --> 1\n",
      "Appraisal granted to employee --> 2\n",
      "Appraisal granted to employee --> 4\n",
      "Appraisal granted to employee --> 5\n",
      "Appraisal granted to employee --> 6\n",
      "Appraisal granted to employee --> 7\n",
      "Appraisal granted to employee --> 8\n",
      "Appraisal granted to employee --> 9\n",
      "Appraisal granted to employee --> 10\n"
     ]
    }
   ],
   "source": [
    "for i in range(1, 11):\n",
    "    if i == 3:\n",
    "        continue\n",
    "    print(\"Appraisal granted to employee -->\", i)"
   ]
  },
  {
   "cell_type": "code",
   "execution_count": 33,
   "id": "2de51903-c69b-41a3-a022-eabaa26b1db6",
   "metadata": {},
   "outputs": [],
   "source": [
    "# pass is just a dummy placeholder"
   ]
  },
  {
   "cell_type": "code",
   "execution_count": 36,
   "id": "3cd34cb7-1459-49ed-9ca0-f3a113aef4ae",
   "metadata": {},
   "outputs": [
    {
     "name": "stdout",
     "output_type": "stream",
     "text": [
      "Appraisal granted to employee --> 1\n",
      "Appraisal granted to employee --> 2\n",
      "Appraisal granted to employee --> 3\n",
      "Appraisal granted to employee --> 4\n",
      "Appraisal granted to employee --> 5\n",
      "Appraisal granted to employee --> 6\n",
      "Appraisal granted to employee --> 7\n",
      "Appraisal granted to employee --> 8\n",
      "Appraisal granted to employee --> 9\n",
      "Appraisal granted to employee --> 10\n"
     ]
    }
   ],
   "source": [
    "for i in range(1, 11):\n",
    "    if i == 3:\n",
    "        pass\n",
    "    print(\"Appraisal granted to employee -->\", i)"
   ]
  },
  {
   "cell_type": "code",
   "execution_count": null,
   "id": "8bbd8b5d-a948-4cf7-af5e-dc715b1b8d28",
   "metadata": {},
   "outputs": [],
   "source": []
  },
  {
   "cell_type": "code",
   "execution_count": 37,
   "id": "af3240bc-864e-4239-9163-61bb666932f6",
   "metadata": {},
   "outputs": [],
   "source": [
    "# Quiz"
   ]
  },
  {
   "cell_type": "code",
   "execution_count": 38,
   "id": "c5912aa1-c2be-4da5-bd6d-90d913b725f1",
   "metadata": {},
   "outputs": [
    {
     "name": "stdout",
     "output_type": "stream",
     "text": [
      "1\n",
      "2\n",
      "4\n",
      "5\n"
     ]
    }
   ],
   "source": [
    "x = 0\n",
    "while x < 5:\n",
    "    x += 1\n",
    "    if x == 3:\n",
    "        continue\n",
    "    print(x)"
   ]
  },
  {
   "cell_type": "code",
   "execution_count": null,
   "id": "fcb1df1e-f401-4dc3-967d-038416cde0fc",
   "metadata": {},
   "outputs": [],
   "source": []
  },
  {
   "cell_type": "code",
   "execution_count": 39,
   "id": "cd079e8d-918d-4e41-bf48-a9bf31b65ddb",
   "metadata": {},
   "outputs": [],
   "source": [
    "# Break: is used to break out of the loop"
   ]
  },
  {
   "cell_type": "code",
   "execution_count": 42,
   "id": "a1ab1a29-9b21-41cd-a00d-d9e520412ddb",
   "metadata": {},
   "outputs": [
    {
     "name": "stdout",
     "output_type": "stream",
     "text": [
      "Appraisal granted to employee --> 1\n",
      "Appraisal granted to employee --> 2\n"
     ]
    }
   ],
   "source": [
    "for i in range(1, 11):\n",
    "    if i == 3:\n",
    "        break\n",
    "    print(\"Appraisal granted to employee -->\", i)"
   ]
  },
  {
   "cell_type": "code",
   "execution_count": null,
   "id": "0db723d9-842d-4a17-9b69-a73714c02007",
   "metadata": {},
   "outputs": [],
   "source": []
  },
  {
   "cell_type": "code",
   "execution_count": null,
   "id": "83b4f0d5-05f4-4c50-80c7-ce4ac9e91814",
   "metadata": {},
   "outputs": [],
   "source": []
  },
  {
   "cell_type": "code",
   "execution_count": 43,
   "id": "6389db15-c031-426c-8749-b4d1b47010f8",
   "metadata": {},
   "outputs": [],
   "source": [
    "# Quiz"
   ]
  },
  {
   "cell_type": "code",
   "execution_count": 44,
   "id": "387fa7ee-91a3-4bbc-bd80-59b8f9647dca",
   "metadata": {},
   "outputs": [
    {
     "name": "stdout",
     "output_type": "stream",
     "text": [
      "1\n",
      "2\n",
      "Loop finished\n"
     ]
    }
   ],
   "source": [
    "x = 0\n",
    "while x < 5:\n",
    "    x += 1\n",
    "    if x == 3:\n",
    "        break\n",
    "    print(x)\n",
    "print(\"Loop finished\")"
   ]
  },
  {
   "cell_type": "code",
   "execution_count": null,
   "id": "8f194766-924f-4700-9b3a-dd2d41f9afe1",
   "metadata": {},
   "outputs": [],
   "source": []
  },
  {
   "cell_type": "code",
   "execution_count": 45,
   "id": "2ded1e0a-d9e0-4b94-abe5-faf774ad82d7",
   "metadata": {},
   "outputs": [],
   "source": [
    "# Quiz"
   ]
  },
  {
   "cell_type": "code",
   "execution_count": 46,
   "id": "026785f5-b85f-4600-bd6f-9d55b1d8f22d",
   "metadata": {},
   "outputs": [
    {
     "name": "stdout",
     "output_type": "stream",
     "text": [
      "0\n",
      "1\n",
      "2\n",
      "3\n",
      "4\n"
     ]
    }
   ],
   "source": [
    "count = 0\n",
    "while True:\n",
    "    if count == 5:\n",
    "        break\n",
    "    print(count)\n",
    "    count += 1"
   ]
  },
  {
   "cell_type": "code",
   "execution_count": null,
   "id": "06d72b19-f31f-44b9-b5c4-5c000cc32852",
   "metadata": {},
   "outputs": [],
   "source": []
  },
  {
   "cell_type": "code",
   "execution_count": null,
   "id": "a048425d-0c64-4acc-8c9a-a1d959d24164",
   "metadata": {},
   "outputs": [],
   "source": []
  },
  {
   "cell_type": "markdown",
   "id": "1fe189b3-1888-4e2c-bb04-b253c0bf5289",
   "metadata": {},
   "source": [
    "### Question:\n",
    "- Write a program that continuously asks the user to provide an input number\n",
    "- The program should stop only when the user provides 5.\n",
    "- Once the user provides 5, the program should print the number of times an input was provided.\n",
    "- Assume that the user always provides a number."
   ]
  },
  {
   "cell_type": "code",
   "execution_count": 50,
   "id": "a096e158-7d06-4567-92d7-0a8cdd84a8f7",
   "metadata": {},
   "outputs": [
    {
     "name": "stdin",
     "output_type": "stream",
     "text": [
      " 1\n",
      " 2\n",
      " 3\n",
      " 1\n",
      " 2\n",
      " 5\n"
     ]
    },
    {
     "name": "stdout",
     "output_type": "stream",
     "text": [
      "We took input this many time: 6\n"
     ]
    }
   ],
   "source": [
    "count = 0\n",
    "while True:\n",
    "    count += 1\n",
    "    n = int(input())\n",
    "    if n == 5:\n",
    "        break\n",
    "        \n",
    "print(\"We took input this many time:\", count)"
   ]
  },
  {
   "cell_type": "code",
   "execution_count": null,
   "id": "a37d51fc-d370-4f03-8e91-41ed01f48a8d",
   "metadata": {},
   "outputs": [],
   "source": []
  },
  {
   "cell_type": "code",
   "execution_count": null,
   "id": "5cdc8990-998e-4844-aa89-53c9edc5d0cd",
   "metadata": {},
   "outputs": [],
   "source": []
  },
  {
   "cell_type": "markdown",
   "id": "fc4c2bd8-fa38-4c82-b14a-acfb775960b5",
   "metadata": {},
   "source": [
    "### Problem"
   ]
  },
  {
   "cell_type": "code",
   "execution_count": 51,
   "id": "187562ea-7870-4716-9ac8-3a919ec44f35",
   "metadata": {},
   "outputs": [],
   "source": [
    "# N = 4\n",
    "\n",
    "# # # #\n",
    "# # # #\n",
    "# # # #\n",
    "# # # #"
   ]
  },
  {
   "cell_type": "code",
   "execution_count": null,
   "id": "83223c52-20e4-4d87-ae2c-e9316e8af1b4",
   "metadata": {},
   "outputs": [],
   "source": []
  },
  {
   "cell_type": "code",
   "execution_count": 52,
   "id": "2ad4e332-2693-4fa2-955a-94e8d75bc2c0",
   "metadata": {},
   "outputs": [],
   "source": [
    "# Let's try to print one row"
   ]
  },
  {
   "cell_type": "code",
   "execution_count": 55,
   "id": "745791ce-cb3d-4aa7-b209-07930e0b625e",
   "metadata": {},
   "outputs": [
    {
     "name": "stdout",
     "output_type": "stream",
     "text": [
      "# # # # "
     ]
    }
   ],
   "source": [
    "for i in range(4):\n",
    "    print(\"#\", end=\" \")"
   ]
  },
  {
   "cell_type": "code",
   "execution_count": 58,
   "id": "a1d16b98-b96f-4357-ab31-1cb93cbe8a65",
   "metadata": {},
   "outputs": [
    {
     "name": "stdout",
     "output_type": "stream",
     "text": [
      "# # # # \n",
      "# # # # \n",
      "# # # # \n",
      "# # # # "
     ]
    }
   ],
   "source": [
    "for i in range(4):\n",
    "    print(\"#\", end=\" \")\n",
    "print()\n",
    "\n",
    "for i in range(4):\n",
    "    print(\"#\", end=\" \")\n",
    "print()\n",
    "\n",
    "for i in range(4):\n",
    "    print(\"#\", end=\" \")\n",
    "print()\n",
    "\n",
    "for i in range(4):\n",
    "    print(\"#\", end=\" \")"
   ]
  },
  {
   "cell_type": "code",
   "execution_count": null,
   "id": "bae17b49-7579-430f-9382-3d8dfcf0aa35",
   "metadata": {},
   "outputs": [],
   "source": []
  },
  {
   "cell_type": "code",
   "execution_count": null,
   "id": "977a3ec8-a4b3-4bf6-99ee-f55547a964b7",
   "metadata": {},
   "outputs": [],
   "source": []
  },
  {
   "cell_type": "markdown",
   "id": "b7edafe0-d67b-44bb-adab-6fca36e03383",
   "metadata": {},
   "source": [
    "### Nested for loop"
   ]
  },
  {
   "cell_type": "code",
   "execution_count": 59,
   "id": "81c67573-df41-436f-b4c2-afbaccd6f085",
   "metadata": {},
   "outputs": [
    {
     "name": "stdout",
     "output_type": "stream",
     "text": [
      "# # # # \n",
      "# # # # \n",
      "# # # # \n",
      "# # # # \n"
     ]
    }
   ],
   "source": [
    "for i in range(4):\n",
    "    for j in range(4): \n",
    "        print(\"#\", end=\" \") \n",
    "    print()"
   ]
  },
  {
   "cell_type": "code",
   "execution_count": 60,
   "id": "3911bea1-db06-485d-b8d8-29db853d5734",
   "metadata": {},
   "outputs": [
    {
     "name": "stdout",
     "output_type": "stream",
     "text": [
      "# # # # # \n",
      "# # # # # \n",
      "# # # # # \n",
      "# # # # # \n",
      "# # # # # \n"
     ]
    }
   ],
   "source": [
    "for i in range(5):\n",
    "    for j in range(5): \n",
    "        print(\"#\", end=\" \") \n",
    "    print()"
   ]
  },
  {
   "cell_type": "code",
   "execution_count": 61,
   "id": "d2712ea8-aefd-4aa6-b9fb-2af7c4d6103c",
   "metadata": {},
   "outputs": [
    {
     "name": "stdout",
     "output_type": "stream",
     "text": [
      "# # \n",
      "# # \n",
      "# # \n"
     ]
    }
   ],
   "source": [
    "for i in range(3):\n",
    "    for j in range(2): \n",
    "        print(\"#\", end=\" \") \n",
    "    print()"
   ]
  },
  {
   "cell_type": "code",
   "execution_count": 64,
   "id": "fdc887e3-c793-413d-bb7f-199b3cc6a9d0",
   "metadata": {},
   "outputs": [
    {
     "name": "stdout",
     "output_type": "stream",
     "text": [
      "0 0 0 1 \n",
      "1 0 1 1 \n",
      "2 0 2 1 \n"
     ]
    }
   ],
   "source": [
    "for i in range(3):\n",
    "    for j in range(2): \n",
    "        print(i, j, end=\" \") \n",
    "    print()"
   ]
  },
  {
   "cell_type": "code",
   "execution_count": null,
   "id": "8e99a3c5-c2e0-4d90-a93a-11cb640e757f",
   "metadata": {},
   "outputs": [],
   "source": []
  },
  {
   "cell_type": "code",
   "execution_count": 68,
   "id": "892fdf18-1e7e-4d8c-8be6-7a8d3c268854",
   "metadata": {},
   "outputs": [
    {
     "name": "stdin",
     "output_type": "stream",
     "text": [
      " 7\n"
     ]
    },
    {
     "name": "stdout",
     "output_type": "stream",
     "text": [
      "# # # # # # # \n",
      "# # # # # # # \n",
      "# # # # # # # \n",
      "# # # # # # # \n",
      "# # # # # # # \n",
      "# # # # # # # \n",
      "# # # # # # # \n"
     ]
    }
   ],
   "source": [
    "n = int(input())\n",
    "\n",
    "for i in range(n):\n",
    "    for j in range(n): \n",
    "        print(\"#\", end=\" \") \n",
    "    print()"
   ]
  },
  {
   "cell_type": "code",
   "execution_count": null,
   "id": "7920b535-9afd-4e0a-ad15-b68f339ac335",
   "metadata": {},
   "outputs": [],
   "source": []
  },
  {
   "cell_type": "code",
   "execution_count": 69,
   "id": "d7d57cce-0918-450b-91ea-536d018f4d47",
   "metadata": {},
   "outputs": [
    {
     "name": "stdin",
     "output_type": "stream",
     "text": [
      " 3\n",
      " 2\n"
     ]
    },
    {
     "name": "stdout",
     "output_type": "stream",
     "text": [
      "# # \n",
      "# # \n",
      "# # \n"
     ]
    }
   ],
   "source": [
    "n = int(input())\n",
    "m = int(input())\n",
    "\n",
    "for i in range(n):\n",
    "    for j in range(m): \n",
    "        print(\"#\", end=\" \") \n",
    "    print()"
   ]
  },
  {
   "cell_type": "code",
   "execution_count": null,
   "id": "84dfcd86-a9c1-4dce-aaac-739b18aa443f",
   "metadata": {},
   "outputs": [],
   "source": []
  },
  {
   "cell_type": "code",
   "execution_count": 70,
   "id": "d8f52e53-d2a1-40a9-ae74-353b1dd3dd43",
   "metadata": {},
   "outputs": [],
   "source": [
    "# Quiz"
   ]
  },
  {
   "cell_type": "code",
   "execution_count": 71,
   "id": "f9bcfad1-93bc-4b68-acde-fa102a02b3ea",
   "metadata": {},
   "outputs": [
    {
     "name": "stdout",
     "output_type": "stream",
     "text": [
      "* * * \n",
      "* * \n",
      "* \n"
     ]
    }
   ],
   "source": [
    "for i in range(3):\n",
    "    for j in range(i, 3):\n",
    "        print(\"*\", end=\" \")\n",
    "    print()"
   ]
  },
  {
   "cell_type": "code",
   "execution_count": null,
   "id": "7d426bb3-0a57-4dec-9ac6-5e81dff43c21",
   "metadata": {},
   "outputs": [],
   "source": []
  },
  {
   "cell_type": "code",
   "execution_count": 72,
   "id": "3f5a1560-d64e-4859-87cd-57534e77dce8",
   "metadata": {},
   "outputs": [],
   "source": [
    "# Do a lot of hits and trials"
   ]
  },
  {
   "cell_type": "code",
   "execution_count": 74,
   "id": "8bea5cf8-9de2-44b0-bfe6-ad2f7e8bfbea",
   "metadata": {},
   "outputs": [
    {
     "name": "stdout",
     "output_type": "stream",
     "text": [
      "* \n",
      "* * \n",
      "* * * \n"
     ]
    }
   ],
   "source": [
    "for i in range(3):\n",
    "    for j in range(i + 1):\n",
    "        print(\"*\", end=\" \")\n",
    "    print()"
   ]
  },
  {
   "cell_type": "code",
   "execution_count": null,
   "id": "d3d56644-9418-447f-92af-21052a1e8846",
   "metadata": {},
   "outputs": [],
   "source": []
  },
  {
   "cell_type": "code",
   "execution_count": 75,
   "id": "529e983d-c5d0-44cc-a6c2-0a0cde3cc896",
   "metadata": {},
   "outputs": [],
   "source": [
    "# This is specific for matrix questions only:\n",
    "# Outer loop is responsible for no of rows\n",
    "# Inner loop is responsible for no of columns"
   ]
  },
  {
   "cell_type": "code",
   "execution_count": null,
   "id": "4b7f78c5-757c-46e2-8a83-bd11349eb189",
   "metadata": {},
   "outputs": [],
   "source": []
  },
  {
   "cell_type": "code",
   "execution_count": null,
   "id": "bc73bcaf-b91a-4bae-ae1a-6c5e07c3d466",
   "metadata": {},
   "outputs": [],
   "source": []
  },
  {
   "cell_type": "markdown",
   "id": "2684b8f1-f55b-4a77-b8a7-8d1b83ef01d8",
   "metadata": {},
   "source": [
    "### GCD"
   ]
  },
  {
   "cell_type": "code",
   "execution_count": 76,
   "id": "177abba4-2f78-4122-9d9e-d0d586a4ade3",
   "metadata": {},
   "outputs": [
    {
     "name": "stdout",
     "output_type": "stream",
     "text": [
      "1\n",
      "3\n",
      "5\n",
      "15\n"
     ]
    }
   ],
   "source": [
    "n = 15\n",
    "\n",
    "for i in range(1, n+1):\n",
    "    # check for factors here:\n",
    "    if n % i == 0:\n",
    "        print(i)"
   ]
  },
  {
   "cell_type": "code",
   "execution_count": null,
   "id": "38fcb060-6ff6-49ed-807f-34a4df427f13",
   "metadata": {},
   "outputs": [],
   "source": []
  },
  {
   "cell_type": "code",
   "execution_count": 78,
   "id": "93af10db-6689-4e76-82a8-058776d682fa",
   "metadata": {},
   "outputs": [
    {
     "data": {
      "text/plain": [
       "2"
      ]
     },
     "execution_count": 78,
     "metadata": {},
     "output_type": "execute_result"
    }
   ],
   "source": [
    "min(41, 4, 2, 21)"
   ]
  },
  {
   "cell_type": "code",
   "execution_count": 82,
   "id": "316051c8-c64f-4140-b8e1-f8426881fea5",
   "metadata": {},
   "outputs": [],
   "source": [
    "# Following code will give all common factors in A and B"
   ]
  },
  {
   "cell_type": "code",
   "execution_count": 83,
   "id": "556fa6ac-9926-4a05-b983-387d76893093",
   "metadata": {},
   "outputs": [
    {
     "name": "stdout",
     "output_type": "stream",
     "text": [
      "1\n",
      "5\n"
     ]
    }
   ],
   "source": [
    "A = 5\n",
    "B = 10\n",
    "n = min(A, B)\n",
    "\n",
    "for i in range(1, n+1):\n",
    "    # Find all common factors in this range\n",
    "    if A % i == 0 and B % i == 0:\n",
    "        print(i)"
   ]
  },
  {
   "cell_type": "code",
   "execution_count": null,
   "id": "cc19b4b5-056a-49e7-931e-600e01e0e48d",
   "metadata": {},
   "outputs": [],
   "source": []
  },
  {
   "cell_type": "code",
   "execution_count": 84,
   "id": "b14c7c18-658d-4c3d-9778-43eb21c3f695",
   "metadata": {},
   "outputs": [],
   "source": [
    "# Now, get the highest common factor among these common factors"
   ]
  },
  {
   "cell_type": "code",
   "execution_count": 89,
   "id": "80edb670-bd39-4ed5-a8ad-afb139beefe4",
   "metadata": {},
   "outputs": [],
   "source": [
    "# We just reversed the range: Still we are getting our Common factors but in reversed order"
   ]
  },
  {
   "cell_type": "code",
   "execution_count": 100,
   "id": "ac42ed9e-3399-4d20-bb8d-c95097b8198c",
   "metadata": {},
   "outputs": [
    {
     "name": "stdin",
     "output_type": "stream",
     "text": [
      " 12222\n",
      " 222\n"
     ]
    },
    {
     "name": "stdout",
     "output_type": "stream",
     "text": [
      "GCD is 6\n"
     ]
    }
   ],
   "source": [
    "A = int(input())\n",
    "B = int(input())\n",
    "n = min(A, B)\n",
    "\n",
    "for i in range(n, 0, -1):\n",
    "    # # Find all common factors in this range\n",
    "    if A % i == 0 and B % i == 0:\n",
    "        print(\"GCD is\", i)\n",
    "        break"
   ]
  },
  {
   "cell_type": "code",
   "execution_count": null,
   "id": "7c2bd618-de0f-4e42-8c58-bc5f61785eab",
   "metadata": {},
   "outputs": [],
   "source": []
  },
  {
   "cell_type": "code",
   "execution_count": null,
   "id": "6315482a-6cf6-4dac-ae6c-59537c8d52fd",
   "metadata": {},
   "outputs": [],
   "source": []
  },
  {
   "cell_type": "code",
   "execution_count": 101,
   "id": "8902da64-4e4a-4fa7-bae3-424416fca26d",
   "metadata": {},
   "outputs": [
    {
     "name": "stdout",
     "output_type": "stream",
     "text": [
      "SUCCESS\n"
     ]
    }
   ],
   "source": [
    "import requests\n",
    "\n",
    "base_url = \"http://books.toscrape.com/index.html\"\n",
    "home_page = requests.get(base_url)\n",
    "\n",
    "# checking whether the request made was successful or not\n",
    "if home_page.status_code == 200:\n",
    "  print(\"SUCCESS\")\n",
    "else:\n",
    "  print(f\"FAILED, status code: {home_page.status_code}\")"
   ]
  },
  {
   "cell_type": "code",
   "execution_count": 102,
   "id": "a3002adb-05f7-4894-b56d-5782d9568236",
   "metadata": {},
   "outputs": [],
   "source": [
    "from bs4 import BeautifulSoup\n",
    "\n",
    "soup = BeautifulSoup(markup=home_page.content, parser=\"html.parser\")"
   ]
  },
  {
   "cell_type": "code",
   "execution_count": 103,
   "id": "953ac710-d33c-4c5c-a7dd-d2f009000347",
   "metadata": {},
   "outputs": [
    {
     "data": {
      "text/plain": [
       "20"
      ]
     },
     "execution_count": 103,
     "metadata": {},
     "output_type": "execute_result"
    }
   ],
   "source": [
    "books = soup.find_all(name=\"li\", class_=\"col-xs-6 col-sm-4 col-md-3 col-lg-3\")\n",
    "len(books)"
   ]
  },
  {
   "cell_type": "code",
   "execution_count": null,
   "id": "0bcaa1f8-de2a-4ccf-9cb9-0bdd4c90e02c",
   "metadata": {},
   "outputs": [],
   "source": []
  },
  {
   "cell_type": "code",
   "execution_count": null,
   "id": "ed08020b-16ec-4642-8c42-0abccc37a5f3",
   "metadata": {},
   "outputs": [],
   "source": []
  },
  {
   "cell_type": "code",
   "execution_count": null,
   "id": "3f7e73f6-d1b9-484b-9c6a-00b4ea3af4d0",
   "metadata": {},
   "outputs": [],
   "source": []
  }
 ],
 "metadata": {
  "kernelspec": {
   "display_name": "Python 3 (ipykernel)",
   "language": "python",
   "name": "python3"
  },
  "language_info": {
   "codemirror_mode": {
    "name": "ipython",
    "version": 3
   },
   "file_extension": ".py",
   "mimetype": "text/x-python",
   "name": "python",
   "nbconvert_exporter": "python",
   "pygments_lexer": "ipython3",
   "version": "3.9.7"
  }
 },
 "nbformat": 4,
 "nbformat_minor": 5
}
