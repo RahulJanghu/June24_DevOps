{
 "cells": [
  {
   "cell_type": "markdown",
   "id": "82929f8f-e4bd-4641-a779-daba094b4ea6",
   "metadata": {},
   "source": [
    "### ASCII values\n",
    "- ord\n",
    "- chr"
   ]
  },
  {
   "cell_type": "code",
   "execution_count": 1,
   "id": "cea39787-80be-4970-9164-49aa5abcfc40",
   "metadata": {},
   "outputs": [],
   "source": [
    "# small has big value and big has small value"
   ]
  },
  {
   "cell_type": "code",
   "execution_count": 2,
   "id": "abfcdf2f-d89d-4516-bcab-e1564b788527",
   "metadata": {},
   "outputs": [
    {
     "name": "stdout",
     "output_type": "stream",
     "text": [
      "False\n"
     ]
    }
   ],
   "source": [
    "print('a' == 97)"
   ]
  },
  {
   "cell_type": "code",
   "execution_count": 3,
   "id": "1c8d89f9-fc68-4132-8a07-428986ad460e",
   "metadata": {},
   "outputs": [
    {
     "data": {
      "text/plain": [
       "97"
      ]
     },
     "execution_count": 3,
     "metadata": {},
     "output_type": "execute_result"
    }
   ],
   "source": [
    "ord('a')"
   ]
  },
  {
   "cell_type": "code",
   "execution_count": 4,
   "id": "599d113c-21c1-481c-b186-9056968323f6",
   "metadata": {},
   "outputs": [
    {
     "data": {
      "text/plain": [
       "True"
      ]
     },
     "execution_count": 4,
     "metadata": {},
     "output_type": "execute_result"
    }
   ],
   "source": [
    "ord('a') == 97"
   ]
  },
  {
   "cell_type": "code",
   "execution_count": 5,
   "id": "a420d04f-8861-47e9-97b2-e1ed79083802",
   "metadata": {},
   "outputs": [
    {
     "data": {
      "text/plain": [
       "122"
      ]
     },
     "execution_count": 5,
     "metadata": {},
     "output_type": "execute_result"
    }
   ],
   "source": [
    "ord('z')"
   ]
  },
  {
   "cell_type": "code",
   "execution_count": 6,
   "id": "6c62fa01-bf5a-4474-bc41-d54439c8e2fb",
   "metadata": {},
   "outputs": [
    {
     "data": {
      "text/plain": [
       "65"
      ]
     },
     "execution_count": 6,
     "metadata": {},
     "output_type": "execute_result"
    }
   ],
   "source": [
    "ord('A')"
   ]
  },
  {
   "cell_type": "code",
   "execution_count": 7,
   "id": "be291c4f-963a-490f-b355-1db006c661f2",
   "metadata": {},
   "outputs": [
    {
     "data": {
      "text/plain": [
       "90"
      ]
     },
     "execution_count": 7,
     "metadata": {},
     "output_type": "execute_result"
    }
   ],
   "source": [
    "ord('Z')"
   ]
  },
  {
   "cell_type": "code",
   "execution_count": 15,
   "id": "c610c329-75ea-4c46-a600-5df247b6e86f",
   "metadata": {},
   "outputs": [
    {
     "data": {
      "text/plain": [
       "52"
      ]
     },
     "execution_count": 15,
     "metadata": {},
     "output_type": "execute_result"
    }
   ],
   "source": [
    "ord('4')"
   ]
  },
  {
   "cell_type": "code",
   "execution_count": 16,
   "id": "d1f4dff0-0732-4033-b009-ef8e4f720212",
   "metadata": {},
   "outputs": [
    {
     "data": {
      "text/plain": [
       "64"
      ]
     },
     "execution_count": 16,
     "metadata": {},
     "output_type": "execute_result"
    }
   ],
   "source": [
    "ord('@')"
   ]
  },
  {
   "cell_type": "code",
   "execution_count": null,
   "id": "a69441db-2187-46f5-ba8c-dd7d810f8517",
   "metadata": {},
   "outputs": [],
   "source": []
  },
  {
   "cell_type": "code",
   "execution_count": 17,
   "id": "1e5a61b1-3522-4db7-a232-cb403c8404f5",
   "metadata": {},
   "outputs": [],
   "source": [
    "# chr function is used to get the character value associated with integer"
   ]
  },
  {
   "cell_type": "code",
   "execution_count": 18,
   "id": "10d7b9c7-fc1d-4959-a9c9-8c3b2863842d",
   "metadata": {},
   "outputs": [
    {
     "data": {
      "text/plain": [
       "'a'"
      ]
     },
     "execution_count": 18,
     "metadata": {},
     "output_type": "execute_result"
    }
   ],
   "source": [
    "chr(97)"
   ]
  },
  {
   "cell_type": "code",
   "execution_count": 19,
   "id": "1b8983c0-3843-46b0-9c42-63d108189dd0",
   "metadata": {},
   "outputs": [
    {
     "data": {
      "text/plain": [
       "'{'"
      ]
     },
     "execution_count": 19,
     "metadata": {},
     "output_type": "execute_result"
    }
   ],
   "source": [
    "chr(123)"
   ]
  },
  {
   "cell_type": "code",
   "execution_count": 20,
   "id": "c1a97f1e-b47e-4eee-ad53-12baeb3d572c",
   "metadata": {},
   "outputs": [
    {
     "data": {
      "text/plain": [
       "'A'"
      ]
     },
     "execution_count": 20,
     "metadata": {},
     "output_type": "execute_result"
    }
   ],
   "source": [
    "chr(65)"
   ]
  },
  {
   "cell_type": "code",
   "execution_count": null,
   "id": "982fffff-d7b7-49f8-845d-13fbd0a532bd",
   "metadata": {},
   "outputs": [],
   "source": []
  },
  {
   "cell_type": "markdown",
   "id": "3ea30a65-62b8-4ab6-8da5-18f300095e02",
   "metadata": {},
   "source": [
    "### String formatting"
   ]
  },
  {
   "cell_type": "code",
   "execution_count": 21,
   "id": "4bf7fc7f-f4d3-48c2-80ea-354514d83e01",
   "metadata": {},
   "outputs": [],
   "source": [
    "l = 5\n",
    "b = 10\n",
    "area = l * b"
   ]
  },
  {
   "cell_type": "code",
   "execution_count": 22,
   "id": "a9788c5b-ff9e-4c5b-a8b2-ffe508705bd0",
   "metadata": {},
   "outputs": [
    {
     "name": "stdout",
     "output_type": "stream",
     "text": [
      "Length of rectangle is 5 breadth of rectangle is 10 and area is 50\n"
     ]
    }
   ],
   "source": [
    "print(\"Length of rectangle is\", l, \"breadth of rectangle is\", b, \"and area is\", area)"
   ]
  },
  {
   "cell_type": "code",
   "execution_count": 23,
   "id": "bdf2eaa7-1214-42df-b870-af26faeb96fa",
   "metadata": {},
   "outputs": [],
   "source": [
    "# We can actually add variables in a string using string formatting:"
   ]
  },
  {
   "cell_type": "code",
   "execution_count": 24,
   "id": "b3cf2d35-6b6c-4d7f-b512-e640728a9ebb",
   "metadata": {},
   "outputs": [
    {
     "name": "stdout",
     "output_type": "stream",
     "text": [
      "Length of rectangle is 5, breadth of rectangle is 10 and area is 50.\n"
     ]
    }
   ],
   "source": [
    "print(f\"Length of rectangle is {l}, breadth of rectangle is {b} and area is {area}.\")"
   ]
  },
  {
   "cell_type": "code",
   "execution_count": null,
   "id": "524cd5d2-d99f-4f94-94ad-8b1d23a735ab",
   "metadata": {},
   "outputs": [],
   "source": []
  },
  {
   "cell_type": "code",
   "execution_count": 25,
   "id": "88ae8c50-a95d-4f34-bf6d-ee35c3fc904e",
   "metadata": {},
   "outputs": [],
   "source": [
    "# Concatenation"
   ]
  },
  {
   "cell_type": "code",
   "execution_count": 26,
   "id": "e9a47d4a-ba6f-4a01-ae13-b9ff8d245001",
   "metadata": {},
   "outputs": [],
   "source": [
    "first_name = \"Rahul\"\n",
    "last_name = \"Janghu\""
   ]
  },
  {
   "cell_type": "code",
   "execution_count": 28,
   "id": "cd55b7ac-44ee-437d-a5f9-69e87af0d6e8",
   "metadata": {},
   "outputs": [
    {
     "name": "stdout",
     "output_type": "stream",
     "text": [
      "Rahul Janghu\n"
     ]
    }
   ],
   "source": [
    "print(first_name + \" \" + last_name)"
   ]
  },
  {
   "cell_type": "code",
   "execution_count": 29,
   "id": "0b186ff6-9449-404a-a37a-49b453ef6ec2",
   "metadata": {},
   "outputs": [
    {
     "data": {
      "text/plain": [
       "'aaa'"
      ]
     },
     "execution_count": 29,
     "metadata": {},
     "output_type": "execute_result"
    }
   ],
   "source": [
    "'a' + 'a' + 'a'"
   ]
  },
  {
   "cell_type": "code",
   "execution_count": 30,
   "id": "65f91421-1d4f-42ef-9887-e6eb65cc9236",
   "metadata": {},
   "outputs": [
    {
     "data": {
      "text/plain": [
       "'aaa'"
      ]
     },
     "execution_count": 30,
     "metadata": {},
     "output_type": "execute_result"
    }
   ],
   "source": [
    "'a' * 3"
   ]
  },
  {
   "cell_type": "code",
   "execution_count": null,
   "id": "adb96508-ad2e-430b-ae8e-b488bccb8ff5",
   "metadata": {},
   "outputs": [],
   "source": []
  },
  {
   "cell_type": "code",
   "execution_count": null,
   "id": "04c696fd-1366-4d53-b8fe-745f016d8c3d",
   "metadata": {},
   "outputs": [],
   "source": []
  },
  {
   "cell_type": "markdown",
   "id": "a68ecded-8c0d-4cf6-8969-b840aabbc70b",
   "metadata": {},
   "source": [
    "# Intro to 'Strings'\n",
    "- Inbuilt Functions:\n",
    "- len\n",
    "- capitalize\n",
    "- title\n",
    "- count\n",
    "- replace\n",
    "- split"
   ]
  },
  {
   "cell_type": "code",
   "execution_count": 31,
   "id": "887beb59-a383-4afd-8a68-ef9819257adb",
   "metadata": {},
   "outputs": [],
   "source": [
    "# len"
   ]
  },
  {
   "cell_type": "code",
   "execution_count": 32,
   "id": "48f0041f-63e5-47df-88d5-785ed08755bb",
   "metadata": {},
   "outputs": [
    {
     "name": "stdout",
     "output_type": "stream",
     "text": [
      "12\n"
     ]
    }
   ],
   "source": [
    "s = \"Rahul Janghu\"\n",
    "\n",
    "print(len(s))"
   ]
  },
  {
   "cell_type": "code",
   "execution_count": 34,
   "id": "f45ddfdd-16b4-451c-aef0-6553363394e3",
   "metadata": {},
   "outputs": [
    {
     "data": {
      "text/plain": [
       "'a'"
      ]
     },
     "execution_count": 34,
     "metadata": {},
     "output_type": "execute_result"
    }
   ],
   "source": [
    "s[1]"
   ]
  },
  {
   "cell_type": "code",
   "execution_count": 35,
   "id": "3f259d4a-15d0-4151-947d-a89a30659aca",
   "metadata": {},
   "outputs": [
    {
     "data": {
      "text/plain": [
       "'Ra'"
      ]
     },
     "execution_count": 35,
     "metadata": {},
     "output_type": "execute_result"
    }
   ],
   "source": [
    "s[0:2]"
   ]
  },
  {
   "cell_type": "code",
   "execution_count": null,
   "id": "9e4b9020-468b-41bd-9f9a-96fb08aff2d1",
   "metadata": {},
   "outputs": [],
   "source": []
  },
  {
   "cell_type": "code",
   "execution_count": 37,
   "id": "926addca-4d69-45ae-a13d-98433c1a7dab",
   "metadata": {},
   "outputs": [],
   "source": [
    "# capitalize"
   ]
  },
  {
   "cell_type": "code",
   "execution_count": 38,
   "id": "475772d4-139d-4f8d-b9cc-5e62f34964ea",
   "metadata": {},
   "outputs": [],
   "source": [
    "name = \"rAHul jaNghu\""
   ]
  },
  {
   "cell_type": "code",
   "execution_count": 40,
   "id": "84301698-952b-4fb9-8de7-cff3e1a83246",
   "metadata": {},
   "outputs": [
    {
     "data": {
      "text/plain": [
       "'Rahul janghu'"
      ]
     },
     "execution_count": 40,
     "metadata": {},
     "output_type": "execute_result"
    }
   ],
   "source": [
    "name.capitalize()"
   ]
  },
  {
   "cell_type": "code",
   "execution_count": null,
   "id": "a17c6b3f-4218-4ec2-8ab2-01da4b429095",
   "metadata": {},
   "outputs": [],
   "source": []
  },
  {
   "cell_type": "code",
   "execution_count": 41,
   "id": "20a710f7-a898-4344-ab07-0658253b00ef",
   "metadata": {},
   "outputs": [],
   "source": [
    "# title"
   ]
  },
  {
   "cell_type": "code",
   "execution_count": 43,
   "id": "881aaed5-64e1-4533-b922-2e345a7f837c",
   "metadata": {},
   "outputs": [
    {
     "data": {
      "text/plain": [
       "'Rahul Janghu'"
      ]
     },
     "execution_count": 43,
     "metadata": {},
     "output_type": "execute_result"
    }
   ],
   "source": [
    "name.title()"
   ]
  },
  {
   "cell_type": "code",
   "execution_count": null,
   "id": "8df47cc3-49f4-4edd-81b5-64fff770ed39",
   "metadata": {},
   "outputs": [],
   "source": []
  },
  {
   "cell_type": "code",
   "execution_count": 44,
   "id": "672e7799-f617-4132-8c67-5d181d30706e",
   "metadata": {},
   "outputs": [],
   "source": [
    "# count"
   ]
  },
  {
   "cell_type": "code",
   "execution_count": 45,
   "id": "d530e012-0abd-4e36-8b44-ec4eb33dd950",
   "metadata": {},
   "outputs": [
    {
     "data": {
      "text/plain": [
       "'rAHul jaNghu'"
      ]
     },
     "execution_count": 45,
     "metadata": {},
     "output_type": "execute_result"
    }
   ],
   "source": [
    "name"
   ]
  },
  {
   "cell_type": "code",
   "execution_count": 47,
   "id": "0b64bcad-b533-4a2b-bc9f-78d957d5adfe",
   "metadata": {},
   "outputs": [
    {
     "data": {
      "text/plain": [
       "1"
      ]
     },
     "execution_count": 47,
     "metadata": {},
     "output_type": "execute_result"
    }
   ],
   "source": [
    "name.count('a')"
   ]
  },
  {
   "cell_type": "code",
   "execution_count": 48,
   "id": "be9cb4f8-1efb-4498-bf83-2596aee09118",
   "metadata": {},
   "outputs": [
    {
     "data": {
      "text/plain": [
       "3"
      ]
     },
     "execution_count": 48,
     "metadata": {},
     "output_type": "execute_result"
    }
   ],
   "source": [
    "'aAaAa'.count('a')"
   ]
  },
  {
   "cell_type": "code",
   "execution_count": 49,
   "id": "0316da64-8318-47ae-8bd3-edc34ffda945",
   "metadata": {},
   "outputs": [
    {
     "data": {
      "text/plain": [
       "0"
      ]
     },
     "execution_count": 49,
     "metadata": {},
     "output_type": "execute_result"
    }
   ],
   "source": [
    "name.count('z')"
   ]
  },
  {
   "cell_type": "code",
   "execution_count": 50,
   "id": "44f79804-f17f-4bde-9a80-d1431369a46a",
   "metadata": {},
   "outputs": [
    {
     "data": {
      "text/plain": [
       "1"
      ]
     },
     "execution_count": 50,
     "metadata": {},
     "output_type": "execute_result"
    }
   ],
   "source": [
    "name.count('rAH')"
   ]
  },
  {
   "cell_type": "code",
   "execution_count": null,
   "id": "6e79f4ee-d854-4684-89f0-ca67568a4677",
   "metadata": {},
   "outputs": [],
   "source": []
  },
  {
   "cell_type": "code",
   "execution_count": 53,
   "id": "859b37d4-a88e-4ec3-b1a0-493a6358375f",
   "metadata": {},
   "outputs": [],
   "source": [
    "# replace"
   ]
  },
  {
   "cell_type": "code",
   "execution_count": 54,
   "id": "eb1f9f56-05bb-4296-a5a8-74b1bc894301",
   "metadata": {},
   "outputs": [],
   "source": [
    "# replace(old, new)"
   ]
  },
  {
   "cell_type": "code",
   "execution_count": 56,
   "id": "fa9402c6-3373-485b-8650-087b9d408d33",
   "metadata": {},
   "outputs": [
    {
     "data": {
      "text/plain": [
       "'rAHul jaNghu'"
      ]
     },
     "execution_count": 56,
     "metadata": {},
     "output_type": "execute_result"
    }
   ],
   "source": [
    "name"
   ]
  },
  {
   "cell_type": "code",
   "execution_count": 57,
   "id": "7e220a83-9eda-4bbc-89b1-f540849ec0d1",
   "metadata": {},
   "outputs": [
    {
     "data": {
      "text/plain": [
       "'raHul jaNghu'"
      ]
     },
     "execution_count": 57,
     "metadata": {},
     "output_type": "execute_result"
    }
   ],
   "source": [
    "name.replace('A', 'a')"
   ]
  },
  {
   "cell_type": "code",
   "execution_count": 58,
   "id": "ce174381-a217-4fa9-aae4-3e190cabc8f3",
   "metadata": {},
   "outputs": [
    {
     "data": {
      "text/plain": [
       "'rAHul jaNghu'"
      ]
     },
     "execution_count": 58,
     "metadata": {},
     "output_type": "execute_result"
    }
   ],
   "source": [
    "name"
   ]
  },
  {
   "cell_type": "code",
   "execution_count": 59,
   "id": "345834ae-45b5-4c2f-bdae-2e36560092ec",
   "metadata": {},
   "outputs": [
    {
     "data": {
      "text/plain": [
       "'RaHul jaNghu'"
      ]
     },
     "execution_count": 59,
     "metadata": {},
     "output_type": "execute_result"
    }
   ],
   "source": [
    "name.replace('rA', 'Ra')"
   ]
  },
  {
   "cell_type": "code",
   "execution_count": 60,
   "id": "c39e992f-54d9-4385-8457-ad3849f4fa50",
   "metadata": {},
   "outputs": [
    {
     "data": {
      "text/plain": [
       "'aaaaaaaa'"
      ]
     },
     "execution_count": 60,
     "metadata": {},
     "output_type": "execute_result"
    }
   ],
   "source": [
    "'aaaAaAaA'.replace('A', 'a')"
   ]
  },
  {
   "cell_type": "code",
   "execution_count": null,
   "id": "e6c62491-b6b5-4e1c-b3d0-673eb55f7a8a",
   "metadata": {},
   "outputs": [],
   "source": []
  },
  {
   "cell_type": "code",
   "execution_count": 61,
   "id": "e5a7f415-5a32-4b0e-93b7-a91b2023188b",
   "metadata": {},
   "outputs": [],
   "source": [
    "# split"
   ]
  },
  {
   "cell_type": "code",
   "execution_count": 62,
   "id": "84995d2d-ba27-48da-ae9d-f4d57e9862b2",
   "metadata": {},
   "outputs": [
    {
     "data": {
      "text/plain": [
       "'rAHul jaNghu'"
      ]
     },
     "execution_count": 62,
     "metadata": {},
     "output_type": "execute_result"
    }
   ],
   "source": [
    "name"
   ]
  },
  {
   "cell_type": "code",
   "execution_count": 69,
   "id": "a778f2bd-1196-4c9a-922e-9b36fb8b5225",
   "metadata": {},
   "outputs": [],
   "source": [
    "name = \"Rahul Janghu\""
   ]
  },
  {
   "cell_type": "code",
   "execution_count": 70,
   "id": "72f2c4ae-487a-4db7-9559-02ce4104575d",
   "metadata": {},
   "outputs": [
    {
     "data": {
      "text/plain": [
       "['Rahul', 'Janghu']"
      ]
     },
     "execution_count": 70,
     "metadata": {},
     "output_type": "execute_result"
    }
   ],
   "source": [
    "name.split()"
   ]
  },
  {
   "cell_type": "code",
   "execution_count": 71,
   "id": "36e86dd1-db5e-40d6-882f-b372d6307aab",
   "metadata": {},
   "outputs": [
    {
     "data": {
      "text/plain": [
       "['Rahul']"
      ]
     },
     "execution_count": 71,
     "metadata": {},
     "output_type": "execute_result"
    }
   ],
   "source": [
    "\"Rahul\".split()"
   ]
  },
  {
   "cell_type": "code",
   "execution_count": 72,
   "id": "12ce08c2-3945-4269-875f-ab28557585f7",
   "metadata": {},
   "outputs": [
    {
     "data": {
      "text/plain": [
       "'Rahul Janghu'"
      ]
     },
     "execution_count": 72,
     "metadata": {},
     "output_type": "execute_result"
    }
   ],
   "source": [
    "name"
   ]
  },
  {
   "cell_type": "code",
   "execution_count": 73,
   "id": "4e4cf54c-92b9-49d2-af65-c444927656b6",
   "metadata": {},
   "outputs": [
    {
     "data": {
      "text/plain": [
       "['R', 'hul J', 'nghu']"
      ]
     },
     "execution_count": 73,
     "metadata": {},
     "output_type": "execute_result"
    }
   ],
   "source": [
    "name.split('a')"
   ]
  },
  {
   "cell_type": "code",
   "execution_count": null,
   "id": "0fee9114-2a99-488a-bd4e-e8935f5b117d",
   "metadata": {},
   "outputs": [],
   "source": []
  },
  {
   "cell_type": "code",
   "execution_count": 74,
   "id": "051ff95c-8cf3-4c95-a577-5c8f12253bbb",
   "metadata": {},
   "outputs": [
    {
     "name": "stdin",
     "output_type": "stream",
     "text": [
      " 1 2 3 4\n"
     ]
    }
   ],
   "source": [
    "n = input()"
   ]
  },
  {
   "cell_type": "code",
   "execution_count": 76,
   "id": "3c0dd1d8-be6a-4afa-bef6-325d80f44d7a",
   "metadata": {},
   "outputs": [
    {
     "data": {
      "text/plain": [
       "'1 2 3 4'"
      ]
     },
     "execution_count": 76,
     "metadata": {},
     "output_type": "execute_result"
    }
   ],
   "source": [
    "n"
   ]
  },
  {
   "cell_type": "code",
   "execution_count": 78,
   "id": "f872b5d1-3466-4a9d-a664-8999a65a2f9b",
   "metadata": {},
   "outputs": [],
   "source": [
    "n = n.split()"
   ]
  },
  {
   "cell_type": "code",
   "execution_count": 79,
   "id": "6fbd5abc-ba1a-43dd-b2e7-a4e0d1d46696",
   "metadata": {},
   "outputs": [],
   "source": [
    "l = list(map(int, n))"
   ]
  },
  {
   "cell_type": "code",
   "execution_count": 80,
   "id": "e5974cbb-ac80-4945-8f27-ac6a2b0754cf",
   "metadata": {},
   "outputs": [
    {
     "data": {
      "text/plain": [
       "[1, 2, 3, 4]"
      ]
     },
     "execution_count": 80,
     "metadata": {},
     "output_type": "execute_result"
    }
   ],
   "source": [
    "l"
   ]
  },
  {
   "cell_type": "code",
   "execution_count": null,
   "id": "ade57396-6286-42b5-84fa-08cb9d4835c0",
   "metadata": {},
   "outputs": [],
   "source": []
  },
  {
   "cell_type": "code",
   "execution_count": null,
   "id": "a8d77789-4253-438f-b01b-65e71ebd2185",
   "metadata": {},
   "outputs": [],
   "source": []
  },
  {
   "cell_type": "code",
   "execution_count": 81,
   "id": "5148b1e6-18bf-409b-b5ca-fe274177b734",
   "metadata": {},
   "outputs": [],
   "source": [
    "# Join"
   ]
  },
  {
   "cell_type": "code",
   "execution_count": 83,
   "id": "2fa44664-cebb-425d-a49b-6d93aa033011",
   "metadata": {},
   "outputs": [
    {
     "name": "stdout",
     "output_type": "stream",
     "text": [
      "1 --> 2 --> 3 --> 4\n"
     ]
    }
   ],
   "source": [
    "print(1, 2, 3, 4, sep=\" --> \")"
   ]
  },
  {
   "cell_type": "code",
   "execution_count": null,
   "id": "b7696ebd-08f2-498b-8d88-948066f551b6",
   "metadata": {},
   "outputs": [],
   "source": []
  },
  {
   "cell_type": "code",
   "execution_count": 86,
   "id": "46ca5cc7-1897-45ce-ac50-76df9161bae9",
   "metadata": {},
   "outputs": [
    {
     "name": "stdin",
     "output_type": "stream",
     "text": [
      " a b c d\n"
     ]
    }
   ],
   "source": [
    "n = input().split()"
   ]
  },
  {
   "cell_type": "code",
   "execution_count": 87,
   "id": "b74a7cac-896d-4842-a774-58c9b13682a3",
   "metadata": {},
   "outputs": [
    {
     "data": {
      "text/plain": [
       "['a', 'b', 'c', 'd']"
      ]
     },
     "execution_count": 87,
     "metadata": {},
     "output_type": "execute_result"
    }
   ],
   "source": [
    "n"
   ]
  },
  {
   "cell_type": "code",
   "execution_count": 89,
   "id": "57ae8046-9c20-4402-a2c8-3470bdec5472",
   "metadata": {},
   "outputs": [
    {
     "data": {
      "text/plain": [
       "'a b c d'"
      ]
     },
     "execution_count": 89,
     "metadata": {},
     "output_type": "execute_result"
    }
   ],
   "source": [
    "\" \".join(n)"
   ]
  },
  {
   "cell_type": "code",
   "execution_count": 90,
   "id": "ccc562a0-b72e-483b-a683-2a79f5f8857d",
   "metadata": {},
   "outputs": [
    {
     "data": {
      "text/plain": [
       "'a --> b --> c --> d'"
      ]
     },
     "execution_count": 90,
     "metadata": {},
     "output_type": "execute_result"
    }
   ],
   "source": [
    "\" --> \".join(n)"
   ]
  },
  {
   "cell_type": "code",
   "execution_count": 91,
   "id": "128b6c3c-5d19-4d0d-9073-b1156e17344e",
   "metadata": {},
   "outputs": [
    {
     "data": {
      "text/plain": [
       "'R --> a --> h --> u --> l'"
      ]
     },
     "execution_count": 91,
     "metadata": {},
     "output_type": "execute_result"
    }
   ],
   "source": [
    "\" --> \".join(\"Rahul\")"
   ]
  },
  {
   "cell_type": "code",
   "execution_count": null,
   "id": "88da3123-cbe7-4e46-a2b2-85cafba39458",
   "metadata": {},
   "outputs": [],
   "source": []
  },
  {
   "cell_type": "code",
   "execution_count": null,
   "id": "4e0f9978-a66b-413a-97a4-875478e2ae19",
   "metadata": {},
   "outputs": [],
   "source": []
  },
  {
   "cell_type": "code",
   "execution_count": 92,
   "id": "55df8324-ba77-4629-864f-6d37ed952d1c",
   "metadata": {},
   "outputs": [],
   "source": [
    "# find"
   ]
  },
  {
   "cell_type": "code",
   "execution_count": 93,
   "id": "3bdb11db-b48d-4894-98af-a44c7983f66d",
   "metadata": {},
   "outputs": [
    {
     "data": {
      "text/plain": [
       "'Rahul Janghu'"
      ]
     },
     "execution_count": 93,
     "metadata": {},
     "output_type": "execute_result"
    }
   ],
   "source": [
    "name"
   ]
  },
  {
   "cell_type": "code",
   "execution_count": 95,
   "id": "6c95fbbd-4d87-4d27-b24c-d8cf4465a281",
   "metadata": {},
   "outputs": [
    {
     "data": {
      "text/plain": [
       "1"
      ]
     },
     "execution_count": 95,
     "metadata": {},
     "output_type": "execute_result"
    }
   ],
   "source": [
    "name.find('a')"
   ]
  },
  {
   "cell_type": "code",
   "execution_count": 97,
   "id": "87fd732b-963e-42d6-ae97-613891e831e6",
   "metadata": {},
   "outputs": [
    {
     "data": {
      "text/plain": [
       "-1"
      ]
     },
     "execution_count": 97,
     "metadata": {},
     "output_type": "execute_result"
    }
   ],
   "source": [
    "name.find('z')"
   ]
  },
  {
   "cell_type": "code",
   "execution_count": 99,
   "id": "4d0c4eaf-fa6f-45bd-bbcb-e678d48256d1",
   "metadata": {},
   "outputs": [
    {
     "data": {
      "text/plain": [
       "2"
      ]
     },
     "execution_count": 99,
     "metadata": {},
     "output_type": "execute_result"
    }
   ],
   "source": [
    "name.find('hu')"
   ]
  },
  {
   "cell_type": "code",
   "execution_count": null,
   "id": "f2d2f59f-13aa-4ecd-bdaf-e642e04f0e5d",
   "metadata": {},
   "outputs": [],
   "source": []
  },
  {
   "cell_type": "code",
   "execution_count": 100,
   "id": "82bfe6fc-856b-42c7-98bb-e30e5dcf8695",
   "metadata": {},
   "outputs": [],
   "source": [
    "# isdigit()"
   ]
  },
  {
   "cell_type": "code",
   "execution_count": 102,
   "id": "507f6621-c89e-4fc4-8140-6b52ad90a35d",
   "metadata": {},
   "outputs": [
    {
     "data": {
      "text/plain": [
       "False"
      ]
     },
     "execution_count": 102,
     "metadata": {},
     "output_type": "execute_result"
    }
   ],
   "source": [
    "\"\".isdigit()"
   ]
  },
  {
   "cell_type": "code",
   "execution_count": 103,
   "id": "df224523-a881-4fd0-a238-5602dcd9eee4",
   "metadata": {},
   "outputs": [
    {
     "data": {
      "text/plain": [
       "True"
      ]
     },
     "execution_count": 103,
     "metadata": {},
     "output_type": "execute_result"
    }
   ],
   "source": [
    "\"2\".isdigit()"
   ]
  },
  {
   "cell_type": "code",
   "execution_count": 104,
   "id": "d07fa330-8786-4c94-9e8d-5893e619166e",
   "metadata": {},
   "outputs": [
    {
     "data": {
      "text/plain": [
       "False"
      ]
     },
     "execution_count": 104,
     "metadata": {},
     "output_type": "execute_result"
    }
   ],
   "source": [
    "\"2a\".isdigit()"
   ]
  },
  {
   "cell_type": "code",
   "execution_count": null,
   "id": "75dac542-5e76-4fed-be67-13ca3a079e46",
   "metadata": {},
   "outputs": [],
   "source": []
  },
  {
   "cell_type": "code",
   "execution_count": null,
   "id": "052c0d82-dfcd-4899-b29e-52cc83407ba9",
   "metadata": {},
   "outputs": [],
   "source": []
  },
  {
   "cell_type": "code",
   "execution_count": 105,
   "id": "ef58dba9-8702-4edf-9524-ffda5c1668f2",
   "metadata": {},
   "outputs": [],
   "source": [
    "# isalpha()"
   ]
  },
  {
   "cell_type": "code",
   "execution_count": 106,
   "id": "07caae94-2af0-42c7-987f-900ec8d4c267",
   "metadata": {},
   "outputs": [
    {
     "data": {
      "text/plain": [
       "\u001b[0;31mSignature:\u001b[0m \u001b[0mname\u001b[0m\u001b[0;34m.\u001b[0m\u001b[0misalpha\u001b[0m\u001b[0;34m(\u001b[0m\u001b[0;34m)\u001b[0m\u001b[0;34m\u001b[0m\u001b[0;34m\u001b[0m\u001b[0m\n",
       "\u001b[0;31mDocstring:\u001b[0m\n",
       "Return True if the string is an alphabetic string, False otherwise.\n",
       "\n",
       "A string is alphabetic if all characters in the string are alphabetic and there\n",
       "is at least one character in the string.\n",
       "\u001b[0;31mType:\u001b[0m      builtin_function_or_method\n"
      ]
     },
     "metadata": {},
     "output_type": "display_data"
    }
   ],
   "source": [
    "name.isalpha?"
   ]
  },
  {
   "cell_type": "code",
   "execution_count": 107,
   "id": "3749d5e5-9727-44cc-b0c7-363dc138ac67",
   "metadata": {},
   "outputs": [
    {
     "data": {
      "text/plain": [
       "True"
      ]
     },
     "execution_count": 107,
     "metadata": {},
     "output_type": "execute_result"
    }
   ],
   "source": [
    "\"a\".isalpha()"
   ]
  },
  {
   "cell_type": "code",
   "execution_count": 108,
   "id": "e3b59469-ef23-4c99-bc93-c9784329ee5a",
   "metadata": {},
   "outputs": [
    {
     "data": {
      "text/plain": [
       "True"
      ]
     },
     "execution_count": 108,
     "metadata": {},
     "output_type": "execute_result"
    }
   ],
   "source": [
    "\"AaBb\".isalpha()"
   ]
  },
  {
   "cell_type": "code",
   "execution_count": null,
   "id": "c0ead9b4-89b4-4984-a113-02a44ce3da96",
   "metadata": {},
   "outputs": [],
   "source": []
  },
  {
   "cell_type": "code",
   "execution_count": null,
   "id": "3d948371-5d51-42cb-9ee9-618fd051c523",
   "metadata": {},
   "outputs": [],
   "source": []
  },
  {
   "cell_type": "code",
   "execution_count": 109,
   "id": "9ba30b11-b135-48fd-81e3-e7339a7088a1",
   "metadata": {},
   "outputs": [],
   "source": [
    "# isalnum()"
   ]
  },
  {
   "cell_type": "code",
   "execution_count": 110,
   "id": "725410a5-2aaa-4373-9ed7-4f9455ed9840",
   "metadata": {},
   "outputs": [
    {
     "data": {
      "text/plain": [
       "\u001b[0;31mSignature:\u001b[0m \u001b[0mname\u001b[0m\u001b[0;34m.\u001b[0m\u001b[0misalnum\u001b[0m\u001b[0;34m(\u001b[0m\u001b[0;34m)\u001b[0m\u001b[0;34m\u001b[0m\u001b[0;34m\u001b[0m\u001b[0m\n",
       "\u001b[0;31mDocstring:\u001b[0m\n",
       "Return True if the string is an alpha-numeric string, False otherwise.\n",
       "\n",
       "A string is alpha-numeric if all characters in the string are alpha-numeric and\n",
       "there is at least one character in the string.\n",
       "\u001b[0;31mType:\u001b[0m      builtin_function_or_method\n"
      ]
     },
     "metadata": {},
     "output_type": "display_data"
    }
   ],
   "source": [
    "name.isalnum?"
   ]
  },
  {
   "cell_type": "code",
   "execution_count": 111,
   "id": "9803a304-a984-4662-9203-e60e15b0150f",
   "metadata": {},
   "outputs": [
    {
     "data": {
      "text/plain": [
       "True"
      ]
     },
     "execution_count": 111,
     "metadata": {},
     "output_type": "execute_result"
    }
   ],
   "source": [
    "\"f1\".isalnum()"
   ]
  },
  {
   "cell_type": "code",
   "execution_count": 112,
   "id": "2f77dd05-abc4-4bea-a450-46f4b6b4240b",
   "metadata": {},
   "outputs": [
    {
     "data": {
      "text/plain": [
       "True"
      ]
     },
     "execution_count": 112,
     "metadata": {},
     "output_type": "execute_result"
    }
   ],
   "source": [
    "\"a\".isalnum()"
   ]
  },
  {
   "cell_type": "code",
   "execution_count": 113,
   "id": "cb8398ce-d148-40d2-ab8e-768e6eac28a3",
   "metadata": {},
   "outputs": [
    {
     "data": {
      "text/plain": [
       "True"
      ]
     },
     "execution_count": 113,
     "metadata": {},
     "output_type": "execute_result"
    }
   ],
   "source": [
    "\"2\".isalnum()"
   ]
  },
  {
   "cell_type": "code",
   "execution_count": 114,
   "id": "3c7b2960-89ad-45a3-9cd8-e67a551e846c",
   "metadata": {},
   "outputs": [
    {
     "data": {
      "text/plain": [
       "True"
      ]
     },
     "execution_count": 114,
     "metadata": {},
     "output_type": "execute_result"
    }
   ],
   "source": [
    "\"a23a3\".isalnum()"
   ]
  },
  {
   "cell_type": "code",
   "execution_count": null,
   "id": "816fe1b3-9ba6-4c1a-81fe-4c211c1d19aa",
   "metadata": {},
   "outputs": [],
   "source": []
  },
  {
   "cell_type": "code",
   "execution_count": 115,
   "id": "34cf9d13-4b55-4fb2-8b6f-fbc51fe1c5a7",
   "metadata": {},
   "outputs": [],
   "source": [
    "# isupper()"
   ]
  },
  {
   "cell_type": "code",
   "execution_count": 116,
   "id": "00dd657e-100c-4ab1-b12d-63ef914ce154",
   "metadata": {},
   "outputs": [
    {
     "data": {
      "text/plain": [
       "\u001b[0;31mSignature:\u001b[0m \u001b[0mname\u001b[0m\u001b[0;34m.\u001b[0m\u001b[0misupper\u001b[0m\u001b[0;34m(\u001b[0m\u001b[0;34m)\u001b[0m\u001b[0;34m\u001b[0m\u001b[0;34m\u001b[0m\u001b[0m\n",
       "\u001b[0;31mDocstring:\u001b[0m\n",
       "Return True if the string is an uppercase string, False otherwise.\n",
       "\n",
       "A string is uppercase if all cased characters in the string are uppercase and\n",
       "there is at least one cased character in the string.\n",
       "\u001b[0;31mType:\u001b[0m      builtin_function_or_method\n"
      ]
     },
     "metadata": {},
     "output_type": "display_data"
    }
   ],
   "source": [
    "name.isupper?"
   ]
  },
  {
   "cell_type": "code",
   "execution_count": 117,
   "id": "97cc908b-74b7-48b7-b0af-8958c0982438",
   "metadata": {},
   "outputs": [],
   "source": [
    "# Quiz"
   ]
  },
  {
   "cell_type": "code",
   "execution_count": 118,
   "id": "952ba7d1-774f-42d7-b6e4-69c6861f8198",
   "metadata": {},
   "outputs": [
    {
     "name": "stdout",
     "output_type": "stream",
     "text": [
      "False\n"
     ]
    }
   ],
   "source": [
    "print(\"RAhul\".isupper())"
   ]
  },
  {
   "cell_type": "code",
   "execution_count": 119,
   "id": "9bea815b-c43c-489a-82b7-f8e2a09f2b8a",
   "metadata": {},
   "outputs": [
    {
     "data": {
      "text/plain": [
       "True"
      ]
     },
     "execution_count": 119,
     "metadata": {},
     "output_type": "execute_result"
    }
   ],
   "source": [
    "\"RAHUL\".isupper()"
   ]
  },
  {
   "cell_type": "code",
   "execution_count": 120,
   "id": "47ca92a2-f65c-4e28-8e39-77340fa38718",
   "metadata": {},
   "outputs": [
    {
     "data": {
      "text/plain": [
       "False"
      ]
     },
     "execution_count": 120,
     "metadata": {},
     "output_type": "execute_result"
    }
   ],
   "source": [
    "\"r\".isupper()"
   ]
  },
  {
   "cell_type": "code",
   "execution_count": null,
   "id": "1abc1788-3e8b-4b7d-ba7b-ab826a5d5a1b",
   "metadata": {},
   "outputs": [],
   "source": []
  },
  {
   "cell_type": "code",
   "execution_count": 121,
   "id": "de7400b2-3205-4280-ac0f-e45dba6c24a1",
   "metadata": {},
   "outputs": [],
   "source": [
    "# name.islower()"
   ]
  },
  {
   "cell_type": "code",
   "execution_count": 122,
   "id": "ce68171e-8202-42d2-b11d-6e9d09895446",
   "metadata": {},
   "outputs": [
    {
     "data": {
      "text/plain": [
       "\u001b[0;31mSignature:\u001b[0m \u001b[0mname\u001b[0m\u001b[0;34m.\u001b[0m\u001b[0mislower\u001b[0m\u001b[0;34m(\u001b[0m\u001b[0;34m)\u001b[0m\u001b[0;34m\u001b[0m\u001b[0;34m\u001b[0m\u001b[0m\n",
       "\u001b[0;31mDocstring:\u001b[0m\n",
       "Return True if the string is a lowercase string, False otherwise.\n",
       "\n",
       "A string is lowercase if all cased characters in the string are lowercase and\n",
       "there is at least one cased character in the string.\n",
       "\u001b[0;31mType:\u001b[0m      builtin_function_or_method\n"
      ]
     },
     "metadata": {},
     "output_type": "display_data"
    }
   ],
   "source": [
    "name.islower?"
   ]
  },
  {
   "cell_type": "code",
   "execution_count": 125,
   "id": "a1a20093-2dc3-4986-9eef-738e2c97bc25",
   "metadata": {},
   "outputs": [],
   "source": [
    "# Quiz"
   ]
  },
  {
   "cell_type": "code",
   "execution_count": 126,
   "id": "4060e6fe-7288-440e-92af-a60130b0f38c",
   "metadata": {},
   "outputs": [
    {
     "name": "stdout",
     "output_type": "stream",
     "text": [
      "True\n"
     ]
    }
   ],
   "source": [
    "print(\"2ear2\".islower())"
   ]
  },
  {
   "cell_type": "code",
   "execution_count": null,
   "id": "fd685e7c-5049-4ef7-bac4-486ca7849832",
   "metadata": {},
   "outputs": [],
   "source": []
  },
  {
   "cell_type": "code",
   "execution_count": null,
   "id": "e415c796-2aa1-41de-86d9-ad4e9e0daeea",
   "metadata": {},
   "outputs": [],
   "source": []
  },
  {
   "cell_type": "code",
   "execution_count": 127,
   "id": "06e3d390-bc72-4217-8419-bee5d1b9edf2",
   "metadata": {},
   "outputs": [],
   "source": [
    "# upper and lower"
   ]
  },
  {
   "cell_type": "code",
   "execution_count": 128,
   "id": "65ad667b-a0db-49a1-99f8-56f87998e037",
   "metadata": {},
   "outputs": [
    {
     "data": {
      "text/plain": [
       "\u001b[0;31mSignature:\u001b[0m \u001b[0mname\u001b[0m\u001b[0;34m.\u001b[0m\u001b[0mupper\u001b[0m\u001b[0;34m(\u001b[0m\u001b[0;34m)\u001b[0m\u001b[0;34m\u001b[0m\u001b[0;34m\u001b[0m\u001b[0m\n",
       "\u001b[0;31mDocstring:\u001b[0m Return a copy of the string converted to uppercase.\n",
       "\u001b[0;31mType:\u001b[0m      builtin_function_or_method\n"
      ]
     },
     "metadata": {},
     "output_type": "display_data"
    }
   ],
   "source": [
    "name.upper?"
   ]
  },
  {
   "cell_type": "code",
   "execution_count": 129,
   "id": "1147d369-db10-44b5-91c0-7d3b4aff3088",
   "metadata": {},
   "outputs": [
    {
     "data": {
      "text/plain": [
       "'RAHUL JANGHU'"
      ]
     },
     "execution_count": 129,
     "metadata": {},
     "output_type": "execute_result"
    }
   ],
   "source": [
    "name.upper()"
   ]
  },
  {
   "cell_type": "code",
   "execution_count": 130,
   "id": "09c50bfc-ea4d-4113-ac95-6af60a7648fa",
   "metadata": {},
   "outputs": [
    {
     "data": {
      "text/plain": [
       "'Rahul Janghu'"
      ]
     },
     "execution_count": 130,
     "metadata": {},
     "output_type": "execute_result"
    }
   ],
   "source": [
    "name"
   ]
  },
  {
   "cell_type": "code",
   "execution_count": 131,
   "id": "cbf2b509-70d5-4c73-af8b-b6b1d354fa98",
   "metadata": {},
   "outputs": [
    {
     "data": {
      "text/plain": [
       "'RAHUL 01 RAHUL'"
      ]
     },
     "execution_count": 131,
     "metadata": {},
     "output_type": "execute_result"
    }
   ],
   "source": [
    "\"rahul 01 rahul\".upper()"
   ]
  },
  {
   "cell_type": "code",
   "execution_count": null,
   "id": "1559454e-06b9-4657-aea2-a33f27b5f146",
   "metadata": {},
   "outputs": [],
   "source": []
  },
  {
   "cell_type": "code",
   "execution_count": 132,
   "id": "edd5f33d-59f3-42a8-8116-d8c23df18105",
   "metadata": {},
   "outputs": [],
   "source": [
    "# lower"
   ]
  },
  {
   "cell_type": "code",
   "execution_count": 133,
   "id": "a6161eb6-d0ce-4679-8804-b1e6b3124456",
   "metadata": {},
   "outputs": [
    {
     "data": {
      "text/plain": [
       "'Rahul Janghu'"
      ]
     },
     "execution_count": 133,
     "metadata": {},
     "output_type": "execute_result"
    }
   ],
   "source": [
    "name"
   ]
  },
  {
   "cell_type": "code",
   "execution_count": 134,
   "id": "dab00417-3504-4d5e-86e2-0691175106a9",
   "metadata": {},
   "outputs": [
    {
     "data": {
      "text/plain": [
       "'rahul janghu'"
      ]
     },
     "execution_count": 134,
     "metadata": {},
     "output_type": "execute_result"
    }
   ],
   "source": [
    "name.lower()"
   ]
  },
  {
   "cell_type": "code",
   "execution_count": 135,
   "id": "0a19350a-1010-4932-a535-07753f9b74e4",
   "metadata": {},
   "outputs": [
    {
     "data": {
      "text/plain": [
       "'Rahul Janghu'"
      ]
     },
     "execution_count": 135,
     "metadata": {},
     "output_type": "execute_result"
    }
   ],
   "source": [
    "name"
   ]
  },
  {
   "cell_type": "code",
   "execution_count": 136,
   "id": "6cb1edd0-793c-4099-a5d9-4106718b7d32",
   "metadata": {},
   "outputs": [
    {
     "data": {
      "text/plain": [
       "'A'"
      ]
     },
     "execution_count": 136,
     "metadata": {},
     "output_type": "execute_result"
    }
   ],
   "source": [
    "\"a\".upper()"
   ]
  },
  {
   "cell_type": "code",
   "execution_count": 137,
   "id": "257bfce1-629a-4a2c-98da-678d378c35a2",
   "metadata": {},
   "outputs": [
    {
     "data": {
      "text/plain": [
       "'a'"
      ]
     },
     "execution_count": 137,
     "metadata": {},
     "output_type": "execute_result"
    }
   ],
   "source": [
    "\"A\".lower()"
   ]
  },
  {
   "cell_type": "code",
   "execution_count": null,
   "id": "30b78722-e458-4fbe-9829-b233e85f4b9d",
   "metadata": {},
   "outputs": [],
   "source": []
  },
  {
   "cell_type": "code",
   "execution_count": null,
   "id": "abeb26b0-901d-4b93-884a-5033832c2334",
   "metadata": {},
   "outputs": [],
   "source": []
  },
  {
   "cell_type": "code",
   "execution_count": null,
   "id": "d5ee2c5f-cca8-42ed-8c1b-e9fb4090eb6d",
   "metadata": {},
   "outputs": [],
   "source": []
  },
  {
   "cell_type": "markdown",
   "id": "5d8024eb-4062-4785-a3e8-f11dcdab6f06",
   "metadata": {},
   "source": [
    "### Strings are iterable"
   ]
  },
  {
   "cell_type": "code",
   "execution_count": 138,
   "id": "4bc0f71f-9e15-4c66-8cb5-dec9ee5ef53d",
   "metadata": {},
   "outputs": [],
   "source": [
    "# for iterator in iterable:\n",
    "#     do something"
   ]
  },
  {
   "cell_type": "code",
   "execution_count": 139,
   "id": "f7f0b055-0c40-4337-ac3d-8ba0c19750b2",
   "metadata": {},
   "outputs": [],
   "source": [
    "# Print ASCII values of all characters in this string: name"
   ]
  },
  {
   "cell_type": "code",
   "execution_count": 142,
   "id": "af3474fa-d8f1-498c-9c73-ed8f5892ede7",
   "metadata": {},
   "outputs": [
    {
     "data": {
      "text/plain": [
       "'Rahul Janghu'"
      ]
     },
     "execution_count": 142,
     "metadata": {},
     "output_type": "execute_result"
    }
   ],
   "source": [
    "name"
   ]
  },
  {
   "cell_type": "code",
   "execution_count": 143,
   "id": "7648bf0b-1fbd-4fea-8a1d-468c819f9bc9",
   "metadata": {},
   "outputs": [
    {
     "name": "stdout",
     "output_type": "stream",
     "text": [
      "R\n",
      "a\n",
      "h\n",
      "u\n",
      "l\n",
      " \n",
      "J\n",
      "a\n",
      "n\n",
      "g\n",
      "h\n",
      "u\n"
     ]
    }
   ],
   "source": [
    "for i in name:\n",
    "    print(i)"
   ]
  },
  {
   "cell_type": "code",
   "execution_count": 145,
   "id": "c164d9ce-b35e-4a8a-b301-6e99ed8fd3d5",
   "metadata": {},
   "outputs": [
    {
     "name": "stdout",
     "output_type": "stream",
     "text": [
      "R 82\n",
      "a 97\n",
      "h 104\n",
      "u 117\n",
      "l 108\n",
      "  32\n",
      "J 74\n",
      "a 97\n",
      "n 110\n",
      "g 103\n",
      "h 104\n",
      "u 117\n"
     ]
    }
   ],
   "source": [
    "for i in name:\n",
    "    print(i, ord(i))"
   ]
  },
  {
   "cell_type": "code",
   "execution_count": 146,
   "id": "137caf7e-84a0-4c30-929a-fff0dedadab7",
   "metadata": {},
   "outputs": [],
   "source": [
    "# Find sum of all ascii values of a given input string"
   ]
  },
  {
   "cell_type": "code",
   "execution_count": null,
   "id": "6e0ff91a-b02e-42d1-9850-81e1024221c8",
   "metadata": {},
   "outputs": [],
   "source": []
  },
  {
   "cell_type": "code",
   "execution_count": null,
   "id": "c84e2dc3-1b20-473c-8ee4-3259206aa83b",
   "metadata": {},
   "outputs": [],
   "source": []
  },
  {
   "cell_type": "code",
   "execution_count": 147,
   "id": "25bea7d9-c740-42f5-9108-800865513a0e",
   "metadata": {},
   "outputs": [],
   "source": [
    "# For this given string find out how many characters are upper case characters"
   ]
  },
  {
   "cell_type": "code",
   "execution_count": 148,
   "id": "6f845faf-3eb2-4b5f-82a9-41e56c55fd9f",
   "metadata": {},
   "outputs": [
    {
     "data": {
      "text/plain": [
       "'Rahul Janghu'"
      ]
     },
     "execution_count": 148,
     "metadata": {},
     "output_type": "execute_result"
    }
   ],
   "source": [
    "name"
   ]
  },
  {
   "cell_type": "code",
   "execution_count": 150,
   "id": "e0d589e6-78d8-460d-9c51-9a20ce240422",
   "metadata": {},
   "outputs": [
    {
     "name": "stdout",
     "output_type": "stream",
     "text": [
      "2\n"
     ]
    }
   ],
   "source": [
    "total = 0\n",
    "\n",
    "for i in name:\n",
    "    if ord(i) >= 65 and ord(i) <= 90:\n",
    "        total += 1\n",
    "print(total)"
   ]
  },
  {
   "cell_type": "code",
   "execution_count": 151,
   "id": "cdc4d15c-4f7c-4089-b940-96e25a98a1f5",
   "metadata": {},
   "outputs": [],
   "source": [
    "def upper_case_count(s):\n",
    "    total = 0\n",
    "    for i in s:\n",
    "        if i.isupper():\n",
    "            total += 1\n",
    "    return total"
   ]
  },
  {
   "cell_type": "code",
   "execution_count": 153,
   "id": "6c1d5b2c-741e-46a7-94c6-beb04c619bd8",
   "metadata": {},
   "outputs": [
    {
     "data": {
      "text/plain": [
       "2"
      ]
     },
     "execution_count": 153,
     "metadata": {},
     "output_type": "execute_result"
    }
   ],
   "source": [
    "upper_case_count(\"Rahul Janghu\")"
   ]
  },
  {
   "cell_type": "code",
   "execution_count": 154,
   "id": "2aef5393-68a4-4a44-9a3c-55f459dbe394",
   "metadata": {},
   "outputs": [],
   "source": [
    "# Given a string convert it's upper case chr --> lower and vice versa:\n",
    "# Example: RahUl --> rAHuL"
   ]
  },
  {
   "cell_type": "code",
   "execution_count": null,
   "id": "6e8b9717-929a-4f0b-ba9c-05d90b8a1a49",
   "metadata": {},
   "outputs": [],
   "source": []
  },
  {
   "cell_type": "code",
   "execution_count": null,
   "id": "197dc6cc-b9ff-418a-ab37-a3f5dd3321c6",
   "metadata": {},
   "outputs": [],
   "source": []
  },
  {
   "cell_type": "markdown",
   "id": "55d836e2-089d-43b0-9862-df9d81990828",
   "metadata": {},
   "source": [
    "### Challenge Palindrome\n",
    "- Take a string input from the user.\n",
    "- Return \"PALINDROME\" if the string is a palindrome.\n",
    "- Otherwise return \"NOT A PALINDROME\"."
   ]
  },
  {
   "cell_type": "code",
   "execution_count": 157,
   "id": "2238d163-4527-44a2-834e-659728e22e11",
   "metadata": {},
   "outputs": [],
   "source": [
    "# Quiz"
   ]
  },
  {
   "cell_type": "code",
   "execution_count": 155,
   "id": "6fc1c435-0612-4f31-9deb-74bbd705a812",
   "metadata": {},
   "outputs": [],
   "source": [
    "# Which one of the following is a palindrome?\n",
    "# a) radar --> radar\n",
    "# b) level --> level\n",
    "# c) rahul --> luhar"
   ]
  },
  {
   "cell_type": "code",
   "execution_count": 156,
   "id": "e8a734fa-5012-40c5-a7c6-8914b97dddaa",
   "metadata": {},
   "outputs": [],
   "source": [
    "# Write a function to check for pallindrome"
   ]
  },
  {
   "cell_type": "code",
   "execution_count": 159,
   "id": "a7dc21e1-5864-4de2-bf2c-071841328d28",
   "metadata": {},
   "outputs": [],
   "source": [
    "name = \"Rahul\""
   ]
  },
  {
   "cell_type": "code",
   "execution_count": 160,
   "id": "46a5c49a-bb30-4921-8e3c-045ba2dc860a",
   "metadata": {},
   "outputs": [
    {
     "data": {
      "text/plain": [
       "'luhaR'"
      ]
     },
     "execution_count": 160,
     "metadata": {},
     "output_type": "execute_result"
    }
   ],
   "source": [
    "name[::-1]"
   ]
  },
  {
   "cell_type": "code",
   "execution_count": 161,
   "id": "feff9978-12cb-4a13-9de6-2fc2ab91f2ab",
   "metadata": {},
   "outputs": [],
   "source": [
    "def check_pallindrome(s):\n",
    "    if s == s[::-1]:\n",
    "        return True\n",
    "    else:\n",
    "        return False"
   ]
  },
  {
   "cell_type": "code",
   "execution_count": 162,
   "id": "929b1a8a-816a-4879-8a86-01b4841f1f5f",
   "metadata": {},
   "outputs": [
    {
     "data": {
      "text/plain": [
       "False"
      ]
     },
     "execution_count": 162,
     "metadata": {},
     "output_type": "execute_result"
    }
   ],
   "source": [
    "check_pallindrome(\"Rahul\")"
   ]
  },
  {
   "cell_type": "code",
   "execution_count": 164,
   "id": "39d3e496-1c1d-482f-af4b-4bcf75c1db96",
   "metadata": {},
   "outputs": [
    {
     "data": {
      "text/plain": [
       "True"
      ]
     },
     "execution_count": 164,
     "metadata": {},
     "output_type": "execute_result"
    }
   ],
   "source": [
    "check_pallindrome(\"level\")"
   ]
  },
  {
   "cell_type": "code",
   "execution_count": 165,
   "id": "422a22a7-c7ba-4f3f-9e6e-85d8f04a196f",
   "metadata": {},
   "outputs": [],
   "source": [
    "def check_pallindrome(s):\n",
    "    return s == s[::-1]"
   ]
  },
  {
   "cell_type": "code",
   "execution_count": 166,
   "id": "5be89ec7-42e4-4761-b152-599cef890172",
   "metadata": {},
   "outputs": [
    {
     "data": {
      "text/plain": [
       "True"
      ]
     },
     "execution_count": 166,
     "metadata": {},
     "output_type": "execute_result"
    }
   ],
   "source": [
    "check_pallindrome(\"level\")"
   ]
  },
  {
   "cell_type": "code",
   "execution_count": 167,
   "id": "22ff2afa-8f04-44a2-94f8-abd8fb996c4a",
   "metadata": {},
   "outputs": [
    {
     "data": {
      "text/plain": [
       "False"
      ]
     },
     "execution_count": 167,
     "metadata": {},
     "output_type": "execute_result"
    }
   ],
   "source": [
    "check_pallindrome(\"Rahul\")"
   ]
  },
  {
   "cell_type": "code",
   "execution_count": null,
   "id": "28907cf1-61a1-420e-bb8f-c0bca4b651ae",
   "metadata": {},
   "outputs": [],
   "source": []
  },
  {
   "cell_type": "code",
   "execution_count": null,
   "id": "ce41d3c9-51f8-4a41-87b4-df996e325cba",
   "metadata": {},
   "outputs": [],
   "source": []
  },
  {
   "cell_type": "code",
   "execution_count": 168,
   "id": "9b5fd444-4e8d-48b1-b711-96c06522e112",
   "metadata": {},
   "outputs": [],
   "source": [
    "# Mutability: Value can change\n",
    "# Immutability: Value can't change"
   ]
  },
  {
   "cell_type": "code",
   "execution_count": null,
   "id": "a6de2000-28da-472b-9246-9adde3d69b7f",
   "metadata": {},
   "outputs": [],
   "source": []
  },
  {
   "cell_type": "code",
   "execution_count": 169,
   "id": "59bcddcc-a806-476a-a162-d1b456b638c7",
   "metadata": {},
   "outputs": [],
   "source": [
    "# Quiz"
   ]
  },
  {
   "cell_type": "code",
   "execution_count": 173,
   "id": "8f180781-957f-490e-bb5b-03f5b4af4d1a",
   "metadata": {},
   "outputs": [
    {
     "name": "stdout",
     "output_type": "stream",
     "text": [
      "Helle Werld!\n"
     ]
    }
   ],
   "source": [
    "message = \"Hello World!\"\n",
    "print(message.replace(\"o\", \"e\"))"
   ]
  },
  {
   "cell_type": "code",
   "execution_count": 174,
   "id": "0238990a-0c73-4d42-b3eb-bad810ede87c",
   "metadata": {},
   "outputs": [
    {
     "data": {
      "text/plain": [
       "'Hello World!'"
      ]
     },
     "execution_count": 174,
     "metadata": {},
     "output_type": "execute_result"
    }
   ],
   "source": [
    "message"
   ]
  },
  {
   "cell_type": "code",
   "execution_count": 176,
   "id": "f4455401-d6cd-4807-a045-0963cd4ee207",
   "metadata": {},
   "outputs": [
    {
     "ename": "TypeError",
     "evalue": "'str' object does not support item assignment",
     "output_type": "error",
     "traceback": [
      "\u001b[0;31m---------------------------------------------------------------------------\u001b[0m",
      "\u001b[0;31mTypeError\u001b[0m                                 Traceback (most recent call last)",
      "\u001b[0;32m/var/folders/t5/yhjgrjs907zfp250jyxtw54m0000gn/T/ipykernel_86574/3837932571.py\u001b[0m in \u001b[0;36m<module>\u001b[0;34m\u001b[0m\n\u001b[0;32m----> 1\u001b[0;31m \u001b[0mmessage\u001b[0m\u001b[0;34m[\u001b[0m\u001b[0;36m0\u001b[0m\u001b[0;34m]\u001b[0m \u001b[0;34m=\u001b[0m \u001b[0;34m'h'\u001b[0m\u001b[0;34m\u001b[0m\u001b[0;34m\u001b[0m\u001b[0m\n\u001b[0m",
      "\u001b[0;31mTypeError\u001b[0m: 'str' object does not support item assignment"
     ]
    }
   ],
   "source": [
    "message[0] = 'h'"
   ]
  },
  {
   "cell_type": "code",
   "execution_count": null,
   "id": "f6733e1b-5432-4f0c-bb4a-35f656723eb1",
   "metadata": {},
   "outputs": [],
   "source": []
  },
  {
   "cell_type": "code",
   "execution_count": 171,
   "id": "361eb789-039c-4274-9c79-23675bb94870",
   "metadata": {},
   "outputs": [],
   "source": [
    "# Quiz"
   ]
  },
  {
   "cell_type": "code",
   "execution_count": 172,
   "id": "2d411115-df5e-4b0a-8c31-d2cf3d6e02fa",
   "metadata": {},
   "outputs": [
    {
     "name": "stdout",
     "output_type": "stream",
     "text": [
      "4\n"
     ]
    }
   ],
   "source": [
    "message = \"Hello World!\"\n",
    "print(message.find(\"o\"))"
   ]
  },
  {
   "cell_type": "code",
   "execution_count": null,
   "id": "c0975361-3b63-4881-9539-1921fdab634b",
   "metadata": {},
   "outputs": [],
   "source": []
  },
  {
   "cell_type": "code",
   "execution_count": null,
   "id": "43ad7530-fddd-4744-9cb1-da27a2c98267",
   "metadata": {},
   "outputs": [],
   "source": []
  },
  {
   "cell_type": "code",
   "execution_count": null,
   "id": "1086d326-c4da-4d1b-a336-a5d99a864df4",
   "metadata": {},
   "outputs": [],
   "source": []
  },
  {
   "cell_type": "code",
   "execution_count": null,
   "id": "352374df-5f29-4dc6-aa7a-6ef73437f714",
   "metadata": {},
   "outputs": [],
   "source": []
  },
  {
   "cell_type": "markdown",
   "id": "a01af93e-ca94-4065-8893-393973ea073c",
   "metadata": {},
   "source": [
    "### Challenge: Last\n",
    "\n",
    "Given a string convert all caps alphabets into lower case. Give string as output in lower case\n",
    "\n",
    "- Input : raHuL\n",
    "- output : rahul"
   ]
  },
  {
   "cell_type": "code",
   "execution_count": 177,
   "id": "3889b540-fdde-4d33-be06-ffb64a08c6ec",
   "metadata": {},
   "outputs": [],
   "source": [
    "# Difference between ascii values of A -> a : 32"
   ]
  },
  {
   "cell_type": "code",
   "execution_count": 178,
   "id": "c715ac61-7cf5-46a0-8dc5-07d1a6f83648",
   "metadata": {},
   "outputs": [],
   "source": [
    "c = 'A'"
   ]
  },
  {
   "cell_type": "code",
   "execution_count": 181,
   "id": "264c91e8-a39f-4837-b561-16cc0eb50939",
   "metadata": {},
   "outputs": [
    {
     "data": {
      "text/plain": [
       "'a'"
      ]
     },
     "execution_count": 181,
     "metadata": {},
     "output_type": "execute_result"
    }
   ],
   "source": [
    "chr(ord(c) + 32)"
   ]
  },
  {
   "cell_type": "code",
   "execution_count": null,
   "id": "435dd9a2-3927-4075-8962-3a41572081d8",
   "metadata": {},
   "outputs": [],
   "source": []
  },
  {
   "cell_type": "code",
   "execution_count": null,
   "id": "2d0a9ca8-f3ba-4a94-b3d5-ca6f47b61bf0",
   "metadata": {},
   "outputs": [],
   "source": []
  },
  {
   "cell_type": "code",
   "execution_count": null,
   "id": "94c13b62-c92b-49d2-9b1a-8c70f7abcf05",
   "metadata": {},
   "outputs": [],
   "source": []
  },
  {
   "cell_type": "code",
   "execution_count": 191,
   "id": "d78dafed-23a6-4487-89b8-e79f885128fa",
   "metadata": {},
   "outputs": [],
   "source": [
    "# Doubts"
   ]
  },
  {
   "cell_type": "code",
   "execution_count": 184,
   "id": "950545f3-4ac4-4f1a-9068-76fc6444465d",
   "metadata": {},
   "outputs": [],
   "source": [
    "s = [[None, None, None],\n",
    "     [None, None, None],\n",
    "     [None, None, None]\n",
    "    ]"
   ]
  },
  {
   "cell_type": "code",
   "execution_count": 188,
   "id": "cdd5c940-b32e-48c1-9c90-a1aee82c606c",
   "metadata": {},
   "outputs": [],
   "source": [
    "A = [[1,2],[10,35]]\n",
    "B = [[10,10],[20,20]]"
   ]
  },
  {
   "cell_type": "code",
   "execution_count": 189,
   "id": "ac05152f-6e53-4de4-937a-5a76eacab7d0",
   "metadata": {},
   "outputs": [],
   "source": [
    "s = [[None, None],\n",
    "    [None, None]]"
   ]
  },
  {
   "cell_type": "code",
   "execution_count": 190,
   "id": "7394404b-b5ff-4a95-8549-8c5eb6c3913f",
   "metadata": {},
   "outputs": [
    {
     "name": "stdout",
     "output_type": "stream",
     "text": [
      "0 0\n",
      "0 1\n",
      "1 0\n",
      "1 1\n"
     ]
    }
   ],
   "source": [
    "for i in range(len(A)):\n",
    "    for j in range(len(A[i])):\n",
    "        print(i, j)"
   ]
  },
  {
   "cell_type": "code",
   "execution_count": 192,
   "id": "418990ab-2f13-4894-85c0-20a646f1f83e",
   "metadata": {},
   "outputs": [
    {
     "name": "stdout",
     "output_type": "stream",
     "text": [
      "[[11, 12], [30, 55]]\n"
     ]
    }
   ],
   "source": [
    "for i in range(len(A)):\n",
    "    for j in range(len(A[i])):\n",
    "        s[i][j] = A[i][j] + B[i][j]\n",
    "        \n",
    "print(s)"
   ]
  },
  {
   "cell_type": "code",
   "execution_count": null,
   "id": "f571ea19-776f-47b9-86ce-ea2dd5c9adcc",
   "metadata": {},
   "outputs": [],
   "source": []
  },
  {
   "cell_type": "code",
   "execution_count": null,
   "id": "1646f5ff-3449-413c-945b-70e6ea204761",
   "metadata": {},
   "outputs": [],
   "source": []
  },
  {
   "cell_type": "code",
   "execution_count": null,
   "id": "7bce7142-a866-4477-82cc-248683b9ab9b",
   "metadata": {},
   "outputs": [],
   "source": []
  },
  {
   "cell_type": "code",
   "execution_count": null,
   "id": "9ff56b85-4489-4768-a6ea-712696d8a8db",
   "metadata": {},
   "outputs": [],
   "source": []
  },
  {
   "cell_type": "code",
   "execution_count": null,
   "id": "4e065e7b-9f02-44d2-b698-7af256f0ffa8",
   "metadata": {},
   "outputs": [],
   "source": []
  }
 ],
 "metadata": {
  "kernelspec": {
   "display_name": "Python 3 (ipykernel)",
   "language": "python",
   "name": "python3"
  },
  "language_info": {
   "codemirror_mode": {
    "name": "ipython",
    "version": 3
   },
   "file_extension": ".py",
   "mimetype": "text/x-python",
   "name": "python",
   "nbconvert_exporter": "python",
   "pygments_lexer": "ipython3",
   "version": "3.9.7"
  }
 },
 "nbformat": 4,
 "nbformat_minor": 5
}
