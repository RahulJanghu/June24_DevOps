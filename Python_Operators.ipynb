{
 "cells": [
  {
   "cell_type": "markdown",
   "id": "05d73624-2c16-4ff7-8aa3-efc51b49fe72",
   "metadata": {},
   "source": [
    "## Expression\n",
    "- Operators\n",
    "- Operands\n",
    "     - Operators + Operands = Expression"
   ]
  },
  {
   "cell_type": "code",
   "execution_count": null,
   "id": "5582d6a1-3623-442e-ac16-f89da9a6dc7f",
   "metadata": {},
   "outputs": [],
   "source": []
  },
  {
   "cell_type": "markdown",
   "id": "9b8c1763-62fb-4b40-9706-94e1d7ec74f3",
   "metadata": {},
   "source": [
    "##### An operator in a programming language is a symbol that to perform specific mathematical, relational or logical operation and produce final result."
   ]
  },
  {
   "cell_type": "code",
   "execution_count": null,
   "id": "b0b458d6-5817-4fcb-ba33-48719375350c",
   "metadata": {},
   "outputs": [],
   "source": []
  },
  {
   "cell_type": "code",
   "execution_count": null,
   "id": "45516a41-1a8c-45e1-82fe-7385d49a76a9",
   "metadata": {},
   "outputs": [],
   "source": []
  },
  {
   "cell_type": "code",
   "execution_count": null,
   "id": "fba32f32-d2cb-4208-be70-49f24d3e964f",
   "metadata": {},
   "outputs": [],
   "source": []
  },
  {
   "cell_type": "markdown",
   "id": "8159b5eb-4591-4f9f-852d-a479b1e1207c",
   "metadata": {},
   "source": [
    "## Arithmetic Operators\n",
    "- Addition\n",
    "- Subtraction\n",
    "- Division\n",
    "- mod (%)\n",
    "- Multiplication\n",
    "- Floor division (//)\n",
    "- To the power (**)"
   ]
  },
  {
   "cell_type": "code",
   "execution_count": 1,
   "id": "88057c5f-44f3-4845-be72-d0ee0036b2e0",
   "metadata": {},
   "outputs": [],
   "source": [
    "# These operators allow us to perform arithmetic operations in Python."
   ]
  },
  {
   "cell_type": "code",
   "execution_count": null,
   "id": "4dbe5022-0f29-40cb-9090-5f5532c0ec15",
   "metadata": {},
   "outputs": [],
   "source": []
  },
  {
   "cell_type": "markdown",
   "id": "d3692da8-8f8b-4a04-a8c5-7b225b4662ee",
   "metadata": {},
   "source": [
    "### Add"
   ]
  },
  {
   "cell_type": "code",
   "execution_count": 2,
   "id": "c37043bd-fa7f-4881-9eab-7e3aa110b5e3",
   "metadata": {},
   "outputs": [],
   "source": [
    "x = 10\n",
    "y = 5"
   ]
  },
  {
   "cell_type": "code",
   "execution_count": 3,
   "id": "d1758bbf-4775-460c-8e35-6eed9d168ef2",
   "metadata": {},
   "outputs": [
    {
     "name": "stdout",
     "output_type": "stream",
     "text": [
      "15\n"
     ]
    }
   ],
   "source": [
    "print(x + y)"
   ]
  },
  {
   "cell_type": "code",
   "execution_count": null,
   "id": "725175ad-9973-44da-b3f8-acf7f1d90c23",
   "metadata": {},
   "outputs": [],
   "source": []
  },
  {
   "cell_type": "code",
   "execution_count": 4,
   "id": "69563467-8fcd-4f8b-90d8-d26a6ff0b818",
   "metadata": {},
   "outputs": [],
   "source": [
    "# If we are adding a float number to another number then ans will be float"
   ]
  },
  {
   "cell_type": "code",
   "execution_count": 5,
   "id": "343e82b6-365a-4e5a-bf8c-b3ce633e61bd",
   "metadata": {},
   "outputs": [
    {
     "data": {
      "text/plain": [
       "7.5"
      ]
     },
     "execution_count": 5,
     "metadata": {},
     "output_type": "execute_result"
    }
   ],
   "source": [
    "2 + 2.5 + 3"
   ]
  },
  {
   "cell_type": "code",
   "execution_count": 6,
   "id": "78c03c06-5e3c-41ab-80a4-a5f3ed1eb3cf",
   "metadata": {},
   "outputs": [
    {
     "data": {
      "text/plain": [
       "7.0"
      ]
     },
     "execution_count": 6,
     "metadata": {},
     "output_type": "execute_result"
    }
   ],
   "source": [
    "2 + 2.0 + 3"
   ]
  },
  {
   "cell_type": "code",
   "execution_count": 7,
   "id": "9ef08b8b-7443-42b2-bad5-8ae8e28c1937",
   "metadata": {},
   "outputs": [
    {
     "data": {
      "text/plain": [
       "4.0"
      ]
     },
     "execution_count": 7,
     "metadata": {},
     "output_type": "execute_result"
    }
   ],
   "source": [
    "2.0 + 2.0"
   ]
  },
  {
   "cell_type": "code",
   "execution_count": null,
   "id": "e3613ce2-f5c5-4bac-87b6-29dca9859e05",
   "metadata": {},
   "outputs": [],
   "source": []
  },
  {
   "cell_type": "code",
   "execution_count": 8,
   "id": "41e42ac8-d769-4140-9cc0-e5ec0bbf8698",
   "metadata": {},
   "outputs": [],
   "source": [
    "# String concatenation: A term for adding of strings"
   ]
  },
  {
   "cell_type": "code",
   "execution_count": 9,
   "id": "df701580-d307-471d-93f0-229dcb800c69",
   "metadata": {},
   "outputs": [
    {
     "data": {
      "text/plain": [
       "'11'"
      ]
     },
     "execution_count": 9,
     "metadata": {},
     "output_type": "execute_result"
    }
   ],
   "source": [
    "'1' + '1'"
   ]
  },
  {
   "cell_type": "code",
   "execution_count": 10,
   "id": "72de1dc3-3dc3-4f95-88bc-b2a2ca4f5a9b",
   "metadata": {},
   "outputs": [
    {
     "data": {
      "text/plain": [
       "'aaa'"
      ]
     },
     "execution_count": 10,
     "metadata": {},
     "output_type": "execute_result"
    }
   ],
   "source": [
    "'a' + 'a' + 'a'"
   ]
  },
  {
   "cell_type": "code",
   "execution_count": 11,
   "id": "88e3f737-9a30-4680-bdb2-5cb3eb50b410",
   "metadata": {},
   "outputs": [
    {
     "ename": "TypeError",
     "evalue": "unsupported operand type(s) for +: 'int' and 'str'",
     "output_type": "error",
     "traceback": [
      "\u001b[0;31m---------------------------------------------------------------------------\u001b[0m",
      "\u001b[0;31mTypeError\u001b[0m                                 Traceback (most recent call last)",
      "\u001b[0;32m/var/folders/t5/yhjgrjs907zfp250jyxtw54m0000gn/T/ipykernel_58922/3829838798.py\u001b[0m in \u001b[0;36m<module>\u001b[0;34m\u001b[0m\n\u001b[0;32m----> 1\u001b[0;31m \u001b[0;36m2\u001b[0m \u001b[0;34m+\u001b[0m \u001b[0;34m'a'\u001b[0m\u001b[0;34m\u001b[0m\u001b[0;34m\u001b[0m\u001b[0m\n\u001b[0m",
      "\u001b[0;31mTypeError\u001b[0m: unsupported operand type(s) for +: 'int' and 'str'"
     ]
    }
   ],
   "source": [
    "2 + 'a'"
   ]
  },
  {
   "cell_type": "code",
   "execution_count": null,
   "id": "f47e1a21-f0dd-4ff9-975f-063ec120f194",
   "metadata": {},
   "outputs": [],
   "source": []
  },
  {
   "cell_type": "code",
   "execution_count": null,
   "id": "ebc5d550-bca0-4e77-9dce-316b35ccb4ab",
   "metadata": {},
   "outputs": [],
   "source": []
  },
  {
   "cell_type": "code",
   "execution_count": null,
   "id": "455ed5b6-f967-40fe-a31a-3bfaa197fa7d",
   "metadata": {},
   "outputs": [],
   "source": []
  },
  {
   "cell_type": "markdown",
   "id": "7ca5f118-3c9b-4cbe-8058-111b22571331",
   "metadata": {},
   "source": [
    "### Subtract"
   ]
  },
  {
   "cell_type": "code",
   "execution_count": 12,
   "id": "3f3700ca-1e7a-4727-9d09-63e87a331a89",
   "metadata": {},
   "outputs": [],
   "source": [
    "# if we are subtracting a float then answer will be in float"
   ]
  },
  {
   "cell_type": "code",
   "execution_count": 13,
   "id": "78e8a5e8-792d-499e-9f52-7e4c057cb008",
   "metadata": {},
   "outputs": [
    {
     "name": "stdout",
     "output_type": "stream",
     "text": [
      "10\n",
      "5\n"
     ]
    }
   ],
   "source": [
    "print(x)\n",
    "print(y)"
   ]
  },
  {
   "cell_type": "code",
   "execution_count": 14,
   "id": "739fbbf9-3080-4ac0-bbb5-576e742397fa",
   "metadata": {},
   "outputs": [
    {
     "name": "stdout",
     "output_type": "stream",
     "text": [
      "5\n"
     ]
    }
   ],
   "source": [
    "print(x - y)"
   ]
  },
  {
   "cell_type": "code",
   "execution_count": 15,
   "id": "becd0341-d5b5-4843-a5bc-45156976c0a5",
   "metadata": {},
   "outputs": [
    {
     "data": {
      "text/plain": [
       "2.0"
      ]
     },
     "execution_count": 15,
     "metadata": {},
     "output_type": "execute_result"
    }
   ],
   "source": [
    "4.0 - 2"
   ]
  },
  {
   "cell_type": "code",
   "execution_count": null,
   "id": "d2c1b23a-a701-4fc5-b464-cd7e19964db4",
   "metadata": {},
   "outputs": [],
   "source": []
  },
  {
   "cell_type": "code",
   "execution_count": 16,
   "id": "1fd1b1b9-39ca-4296-a588-7cd9dc98d8c2",
   "metadata": {},
   "outputs": [],
   "source": [
    "# You cant do following operation"
   ]
  },
  {
   "cell_type": "code",
   "execution_count": 17,
   "id": "93a982aa-6802-4aba-8ee2-4868e9ed4969",
   "metadata": {},
   "outputs": [
    {
     "ename": "TypeError",
     "evalue": "unsupported operand type(s) for -: 'str' and 'str'",
     "output_type": "error",
     "traceback": [
      "\u001b[0;31m---------------------------------------------------------------------------\u001b[0m",
      "\u001b[0;31mTypeError\u001b[0m                                 Traceback (most recent call last)",
      "\u001b[0;32m/var/folders/t5/yhjgrjs907zfp250jyxtw54m0000gn/T/ipykernel_58922/1185014166.py\u001b[0m in \u001b[0;36m<module>\u001b[0;34m\u001b[0m\n\u001b[0;32m----> 1\u001b[0;31m \u001b[0;34m'1'\u001b[0m \u001b[0;34m-\u001b[0m \u001b[0;34m'1'\u001b[0m\u001b[0;34m\u001b[0m\u001b[0;34m\u001b[0m\u001b[0m\n\u001b[0m",
      "\u001b[0;31mTypeError\u001b[0m: unsupported operand type(s) for -: 'str' and 'str'"
     ]
    }
   ],
   "source": [
    "'1' - '1'"
   ]
  },
  {
   "cell_type": "code",
   "execution_count": 19,
   "id": "f2999c8c-e11b-4879-bcad-a16e053270ba",
   "metadata": {},
   "outputs": [],
   "source": [
    "# \"Rahul\" - 'a'"
   ]
  },
  {
   "cell_type": "code",
   "execution_count": 22,
   "id": "5ba9bb8b-0d82-4844-9097-3eb9bc7a242a",
   "metadata": {},
   "outputs": [],
   "source": [
    "# 'a' - 2\n",
    "# 2 - 'a'"
   ]
  },
  {
   "cell_type": "code",
   "execution_count": null,
   "id": "f3969252-0f9d-4144-84f7-ef06744a5009",
   "metadata": {},
   "outputs": [],
   "source": []
  },
  {
   "cell_type": "markdown",
   "id": "84304688-6362-4f5b-8220-778c1aabee53",
   "metadata": {},
   "source": [
    "### Multiply"
   ]
  },
  {
   "cell_type": "code",
   "execution_count": 23,
   "id": "e18641e0-1cd5-4df3-a264-05b388016d1a",
   "metadata": {},
   "outputs": [
    {
     "data": {
      "text/plain": [
       "10"
      ]
     },
     "execution_count": 23,
     "metadata": {},
     "output_type": "execute_result"
    }
   ],
   "source": [
    "x"
   ]
  },
  {
   "cell_type": "code",
   "execution_count": 24,
   "id": "0bb4f7a4-3fa9-4bca-9bda-ac77beb8e347",
   "metadata": {},
   "outputs": [
    {
     "data": {
      "text/plain": [
       "5"
      ]
     },
     "execution_count": 24,
     "metadata": {},
     "output_type": "execute_result"
    }
   ],
   "source": [
    "y"
   ]
  },
  {
   "cell_type": "code",
   "execution_count": 25,
   "id": "9b73d097-4fd6-4fb3-9a0b-681f52028af8",
   "metadata": {},
   "outputs": [
    {
     "name": "stdout",
     "output_type": "stream",
     "text": [
      "50\n"
     ]
    }
   ],
   "source": [
    "print(x * y)"
   ]
  },
  {
   "cell_type": "code",
   "execution_count": 26,
   "id": "ff996acf-6512-4a63-99fe-c7fa98340dbb",
   "metadata": {},
   "outputs": [
    {
     "data": {
      "text/plain": [
       "4.0"
      ]
     },
     "execution_count": 26,
     "metadata": {},
     "output_type": "execute_result"
    }
   ],
   "source": [
    "2 * 2.0"
   ]
  },
  {
   "cell_type": "code",
   "execution_count": 28,
   "id": "71098c6a-5305-4732-be37-b5a83c5aad6b",
   "metadata": {},
   "outputs": [
    {
     "data": {
      "text/plain": [
       "12.0"
      ]
     },
     "execution_count": 28,
     "metadata": {},
     "output_type": "execute_result"
    }
   ],
   "source": [
    "3.0 * 4"
   ]
  },
  {
   "cell_type": "code",
   "execution_count": null,
   "id": "a0b5a3bc-f2a7-4b62-8811-2ef6dd5db533",
   "metadata": {},
   "outputs": [],
   "source": []
  },
  {
   "cell_type": "code",
   "execution_count": 29,
   "id": "5bcc4070-9d2b-4263-a6a3-738b790341f1",
   "metadata": {},
   "outputs": [],
   "source": [
    "# Multiply a string: String concatenation"
   ]
  },
  {
   "cell_type": "code",
   "execution_count": 30,
   "id": "07a44440-a2e2-4ddc-af05-c81d6a0dbfb0",
   "metadata": {},
   "outputs": [
    {
     "data": {
      "text/plain": [
       "'aaa'"
      ]
     },
     "execution_count": 30,
     "metadata": {},
     "output_type": "execute_result"
    }
   ],
   "source": [
    "'a' + 'a' + 'a'"
   ]
  },
  {
   "cell_type": "code",
   "execution_count": 31,
   "id": "5c835a04-57bb-4efb-ab95-d8f74500a2b2",
   "metadata": {},
   "outputs": [
    {
     "data": {
      "text/plain": [
       "'aaa'"
      ]
     },
     "execution_count": 31,
     "metadata": {},
     "output_type": "execute_result"
    }
   ],
   "source": [
    "'a' * 3"
   ]
  },
  {
   "cell_type": "code",
   "execution_count": 33,
   "id": "4174ddab-8eb2-402b-99e4-4ed1827bc19e",
   "metadata": {},
   "outputs": [],
   "source": [
    "# \"rahul\" * \"Rahul\""
   ]
  },
  {
   "cell_type": "code",
   "execution_count": null,
   "id": "059a297e-1148-429a-b06a-11a6b1282f0d",
   "metadata": {},
   "outputs": [],
   "source": []
  },
  {
   "cell_type": "code",
   "execution_count": null,
   "id": "eb15d4a7-0616-4f81-93c5-ecccfc126d3f",
   "metadata": {},
   "outputs": [],
   "source": []
  },
  {
   "cell_type": "markdown",
   "id": "bafc47cc-c81d-4699-a300-9880545368a8",
   "metadata": {},
   "source": [
    "### Divide"
   ]
  },
  {
   "cell_type": "code",
   "execution_count": 34,
   "id": "1079c07f-6664-44b1-a4d3-de6dbdbed6f3",
   "metadata": {},
   "outputs": [],
   "source": [
    "# In division we will always get output as a float"
   ]
  },
  {
   "cell_type": "code",
   "execution_count": 35,
   "id": "c7c39fd2-2c18-458b-b023-435708e91b23",
   "metadata": {},
   "outputs": [
    {
     "data": {
      "text/plain": [
       "10"
      ]
     },
     "execution_count": 35,
     "metadata": {},
     "output_type": "execute_result"
    }
   ],
   "source": [
    "x"
   ]
  },
  {
   "cell_type": "code",
   "execution_count": 36,
   "id": "2b537ae1-9d2a-4b90-bf4e-d38ddd07cbaf",
   "metadata": {},
   "outputs": [
    {
     "data": {
      "text/plain": [
       "5"
      ]
     },
     "execution_count": 36,
     "metadata": {},
     "output_type": "execute_result"
    }
   ],
   "source": [
    "y"
   ]
  },
  {
   "cell_type": "code",
   "execution_count": 37,
   "id": "74fac714-1a5a-4dd1-983f-709c159e7d6f",
   "metadata": {},
   "outputs": [
    {
     "name": "stdout",
     "output_type": "stream",
     "text": [
      "2.0\n"
     ]
    }
   ],
   "source": [
    "print(x / y)"
   ]
  },
  {
   "cell_type": "code",
   "execution_count": 38,
   "id": "d7a8ba5f-ac03-43e6-a9b2-850dad08c36a",
   "metadata": {},
   "outputs": [],
   "source": [
    "# Quiz"
   ]
  },
  {
   "cell_type": "code",
   "execution_count": 39,
   "id": "d3858b91-fbf0-4d48-8417-6f043709439c",
   "metadata": {},
   "outputs": [
    {
     "name": "stdout",
     "output_type": "stream",
     "text": [
      "4.0\n"
     ]
    }
   ],
   "source": [
    "x = 10\n",
    "y = 2.5\n",
    "print(x / y)"
   ]
  },
  {
   "cell_type": "code",
   "execution_count": null,
   "id": "eb40edb1-ef64-40a7-a717-7ce362891154",
   "metadata": {},
   "outputs": [],
   "source": []
  },
  {
   "cell_type": "code",
   "execution_count": null,
   "id": "03013b61-099d-42b6-8fd6-20d8af84ea3c",
   "metadata": {},
   "outputs": [],
   "source": []
  },
  {
   "cell_type": "code",
   "execution_count": null,
   "id": "9057c2ce-ad3f-4c2d-993d-0974a4608474",
   "metadata": {},
   "outputs": [],
   "source": []
  },
  {
   "cell_type": "code",
   "execution_count": 40,
   "id": "03d06d2d-9ffc-4b0e-8837-9016ec0208b0",
   "metadata": {},
   "outputs": [],
   "source": [
    "# To the power accepts two values base and power"
   ]
  },
  {
   "cell_type": "code",
   "execution_count": 41,
   "id": "755d5abe-f6a7-43bf-b069-734bde1072b3",
   "metadata": {},
   "outputs": [],
   "source": [
    "# **"
   ]
  },
  {
   "cell_type": "code",
   "execution_count": 42,
   "id": "65cde717-5a99-4178-9dbb-a5bd6174deb6",
   "metadata": {},
   "outputs": [],
   "source": [
    "# base ** power"
   ]
  },
  {
   "cell_type": "code",
   "execution_count": 43,
   "id": "6f73ee52-a11c-4953-b902-cfb231046dab",
   "metadata": {},
   "outputs": [
    {
     "data": {
      "text/plain": [
       "16"
      ]
     },
     "execution_count": 43,
     "metadata": {},
     "output_type": "execute_result"
    }
   ],
   "source": [
    "2 ** 4 # --> 2 raise to the power 4"
   ]
  },
  {
   "cell_type": "code",
   "execution_count": 44,
   "id": "ce6739de-e298-4ac6-9680-4d10c31c46ff",
   "metadata": {},
   "outputs": [
    {
     "name": "stdout",
     "output_type": "stream",
     "text": [
      "6.25\n"
     ]
    }
   ],
   "source": [
    "print(2.5 ** 2)"
   ]
  },
  {
   "cell_type": "code",
   "execution_count": null,
   "id": "bc81db93-e6c0-4e41-8730-eb1f5fc7f7de",
   "metadata": {},
   "outputs": [],
   "source": []
  },
  {
   "cell_type": "markdown",
   "id": "79d0c427-46c1-4c41-bc8d-00be0b8ef121",
   "metadata": {},
   "source": [
    "### Floor\n",
    "- //"
   ]
  },
  {
   "cell_type": "code",
   "execution_count": 46,
   "id": "6cca7c38-a06b-4a9a-8799-108dab586981",
   "metadata": {},
   "outputs": [],
   "source": [
    "# Floor operator always gives an integer as output"
   ]
  },
  {
   "cell_type": "code",
   "execution_count": 47,
   "id": "1ab4d20a-c854-47c9-8fc3-cdcb54b48c92",
   "metadata": {},
   "outputs": [
    {
     "name": "stdout",
     "output_type": "stream",
     "text": [
      "5\n"
     ]
    }
   ],
   "source": [
    "print(10 // 2)"
   ]
  },
  {
   "cell_type": "code",
   "execution_count": 48,
   "id": "ac225085-9645-44c2-ba30-d5b0b8c36630",
   "metadata": {},
   "outputs": [
    {
     "data": {
      "text/plain": [
       "3"
      ]
     },
     "execution_count": 48,
     "metadata": {},
     "output_type": "execute_result"
    }
   ],
   "source": [
    "10 // 3"
   ]
  },
  {
   "cell_type": "code",
   "execution_count": 49,
   "id": "1a56a323-12bb-4ff4-bb5c-5ff59b226417",
   "metadata": {},
   "outputs": [
    {
     "data": {
      "text/plain": [
       "-4"
      ]
     },
     "execution_count": 49,
     "metadata": {},
     "output_type": "execute_result"
    }
   ],
   "source": [
    "-10 // 3"
   ]
  },
  {
   "cell_type": "code",
   "execution_count": null,
   "id": "3c7e3725-cbd6-45d1-b24f-d528324b24ea",
   "metadata": {},
   "outputs": [],
   "source": []
  },
  {
   "cell_type": "code",
   "execution_count": null,
   "id": "97ecb79a-5592-4ce9-8add-072f3317ad1b",
   "metadata": {},
   "outputs": [],
   "source": []
  },
  {
   "cell_type": "markdown",
   "id": "072a14d7-26f6-4a81-a90f-19247120aa88",
   "metadata": {},
   "source": [
    "### Modulus % : \n",
    "- It will give remainder"
   ]
  },
  {
   "cell_type": "code",
   "execution_count": 50,
   "id": "49b94ef4-77db-498d-98c1-7d746ad730d0",
   "metadata": {},
   "outputs": [
    {
     "data": {
      "text/plain": [
       "0"
      ]
     },
     "execution_count": 50,
     "metadata": {},
     "output_type": "execute_result"
    }
   ],
   "source": [
    "6 % 2"
   ]
  },
  {
   "cell_type": "code",
   "execution_count": 51,
   "id": "818bb29a-0798-435c-b998-a1c508b6e394",
   "metadata": {},
   "outputs": [
    {
     "data": {
      "text/plain": [
       "1"
      ]
     },
     "execution_count": 51,
     "metadata": {},
     "output_type": "execute_result"
    }
   ],
   "source": [
    "5 % 2"
   ]
  },
  {
   "cell_type": "code",
   "execution_count": 52,
   "id": "d0fd3549-44e9-43ae-9d7e-7ade98a1afc3",
   "metadata": {},
   "outputs": [
    {
     "data": {
      "text/plain": [
       "5"
      ]
     },
     "execution_count": 52,
     "metadata": {},
     "output_type": "execute_result"
    }
   ],
   "source": [
    "5 % 6"
   ]
  },
  {
   "cell_type": "code",
   "execution_count": null,
   "id": "89e246a8-cf51-4697-8661-d1fec9b1a1a4",
   "metadata": {},
   "outputs": [],
   "source": []
  },
  {
   "cell_type": "code",
   "execution_count": 53,
   "id": "38868ed5-1f0f-43d6-9574-1b5db2229995",
   "metadata": {},
   "outputs": [],
   "source": [
    "# y - (x % y)"
   ]
  },
  {
   "cell_type": "code",
   "execution_count": 54,
   "id": "0f51982f-a6c3-4e6b-8239-4fe5d7c396f0",
   "metadata": {},
   "outputs": [
    {
     "data": {
      "text/plain": [
       "1"
      ]
     },
     "execution_count": 54,
     "metadata": {},
     "output_type": "execute_result"
    }
   ],
   "source": [
    "-5 % 2"
   ]
  },
  {
   "cell_type": "code",
   "execution_count": 55,
   "id": "f0c72840-31eb-4daf-941f-77fdc493327c",
   "metadata": {},
   "outputs": [
    {
     "data": {
      "text/plain": [
       "-1"
      ]
     },
     "execution_count": 55,
     "metadata": {},
     "output_type": "execute_result"
    }
   ],
   "source": [
    "-5 % -2"
   ]
  },
  {
   "cell_type": "code",
   "execution_count": null,
   "id": "42be3bcc-a68b-4561-a959-922bcf2a4ccf",
   "metadata": {},
   "outputs": [],
   "source": []
  },
  {
   "cell_type": "code",
   "execution_count": 56,
   "id": "8cd3c74c-fad2-420d-a002-dda5fd1f69c2",
   "metadata": {},
   "outputs": [],
   "source": [
    "# Quiz"
   ]
  },
  {
   "cell_type": "code",
   "execution_count": 57,
   "id": "b9701abe-b9bd-49ee-92dc-31c722cc8b56",
   "metadata": {},
   "outputs": [
    {
     "name": "stdout",
     "output_type": "stream",
     "text": [
      "0.1\n"
     ]
    }
   ],
   "source": [
    "print(10**-1)"
   ]
  },
  {
   "cell_type": "code",
   "execution_count": 58,
   "id": "81f5a208-a43d-43c6-adec-8bdd7621af37",
   "metadata": {},
   "outputs": [],
   "source": [
    "# Quiz"
   ]
  },
  {
   "cell_type": "code",
   "execution_count": 59,
   "id": "1a24eeb1-1f4b-4ba5-83cf-b747bf6e9701",
   "metadata": {},
   "outputs": [
    {
     "data": {
      "text/plain": [
       "7"
      ]
     },
     "execution_count": 59,
     "metadata": {},
     "output_type": "execute_result"
    }
   ],
   "source": [
    "15//2"
   ]
  },
  {
   "cell_type": "code",
   "execution_count": null,
   "id": "7ed47238-87a7-4894-9ead-b227fa0b8ffb",
   "metadata": {},
   "outputs": [],
   "source": []
  },
  {
   "cell_type": "code",
   "execution_count": 60,
   "id": "e3c3f527-28a5-46c7-9edb-f966933e9a04",
   "metadata": {},
   "outputs": [],
   "source": [
    "# BODMAS"
   ]
  },
  {
   "cell_type": "code",
   "execution_count": 62,
   "id": "d57d5e9f-80f7-4dbf-bce1-460dc854c158",
   "metadata": {},
   "outputs": [
    {
     "data": {
      "text/plain": [
       "12.5"
      ]
     },
     "execution_count": 62,
     "metadata": {},
     "output_type": "execute_result"
    }
   ],
   "source": [
    "4 * 2 - 3 / 2 + 6"
   ]
  },
  {
   "cell_type": "code",
   "execution_count": null,
   "id": "88b6eeb1-8325-4a49-8aa0-03fe7716a1b8",
   "metadata": {},
   "outputs": [],
   "source": []
  },
  {
   "cell_type": "code",
   "execution_count": 63,
   "id": "b6871774-5a78-427a-a22c-f765e951632e",
   "metadata": {},
   "outputs": [],
   "source": [
    "# Quiz"
   ]
  },
  {
   "cell_type": "code",
   "execution_count": 64,
   "id": "b7b6793b-d00f-4171-a30d-33b60dbd286a",
   "metadata": {},
   "outputs": [
    {
     "name": "stdout",
     "output_type": "stream",
     "text": [
      "729\n"
     ]
    }
   ],
   "source": [
    "x = 11\n",
    "y = 2\n",
    "z = 4\n",
    "res = (x + y - z) ** (x % z)\n",
    "print(res)"
   ]
  },
  {
   "cell_type": "code",
   "execution_count": null,
   "id": "bfdb4914-a4b6-4cb1-a863-fd8d202d0e3a",
   "metadata": {},
   "outputs": [],
   "source": []
  },
  {
   "cell_type": "markdown",
   "id": "0ee56812-f918-4081-8006-2e8280826311",
   "metadata": {},
   "source": [
    "## Comparison Operators\n",
    "- == (True if equal)\n",
    "- != (True if not equal)\n",
    "- < (Less than)  &  > (Greater than)\n",
    "- <= (Less than or equal to) &   >= (Greater than or equal to)"
   ]
  },
  {
   "cell_type": "code",
   "execution_count": 65,
   "id": "795b7792-a3eb-4e7c-aa60-6541c960de24",
   "metadata": {},
   "outputs": [],
   "source": [
    "# Comparison operators can be used to compare values in mathematical terms."
   ]
  },
  {
   "cell_type": "code",
   "execution_count": 66,
   "id": "9f7fbcf4-0db8-4d23-be44-106c5eb96bd6",
   "metadata": {},
   "outputs": [],
   "source": [
    "# == operator"
   ]
  },
  {
   "cell_type": "code",
   "execution_count": 67,
   "id": "5e43ae66-5118-4b11-ab01-cf2e073bbd3e",
   "metadata": {},
   "outputs": [],
   "source": [
    "# The output of comparison ops is always bool value"
   ]
  },
  {
   "cell_type": "code",
   "execution_count": 68,
   "id": "20042eae-ef04-44a3-8f34-caee724896ed",
   "metadata": {},
   "outputs": [
    {
     "data": {
      "text/plain": [
       "11"
      ]
     },
     "execution_count": 68,
     "metadata": {},
     "output_type": "execute_result"
    }
   ],
   "source": [
    "x"
   ]
  },
  {
   "cell_type": "code",
   "execution_count": 69,
   "id": "06c6bafa-16dd-4187-a9d9-dc63ef550674",
   "metadata": {},
   "outputs": [
    {
     "data": {
      "text/plain": [
       "2"
      ]
     },
     "execution_count": 69,
     "metadata": {},
     "output_type": "execute_result"
    }
   ],
   "source": [
    "y"
   ]
  },
  {
   "cell_type": "code",
   "execution_count": 70,
   "id": "a9c34267-2d80-4ebb-9d8f-0c1003b7958f",
   "metadata": {},
   "outputs": [
    {
     "data": {
      "text/plain": [
       "False"
      ]
     },
     "execution_count": 70,
     "metadata": {},
     "output_type": "execute_result"
    }
   ],
   "source": [
    "x == y"
   ]
  },
  {
   "cell_type": "code",
   "execution_count": 71,
   "id": "9e09a075-332e-417f-9acf-ea3efac10fe2",
   "metadata": {},
   "outputs": [
    {
     "data": {
      "text/plain": [
       "True"
      ]
     },
     "execution_count": 71,
     "metadata": {},
     "output_type": "execute_result"
    }
   ],
   "source": [
    "'a' == 'a'"
   ]
  },
  {
   "cell_type": "code",
   "execution_count": 72,
   "id": "91c01d8e-4739-47d8-acac-f614396cab92",
   "metadata": {},
   "outputs": [
    {
     "data": {
      "text/plain": [
       "False"
      ]
     },
     "execution_count": 72,
     "metadata": {},
     "output_type": "execute_result"
    }
   ],
   "source": [
    "'rahul' == 'Rahul'"
   ]
  },
  {
   "cell_type": "code",
   "execution_count": 73,
   "id": "7a914ba0-1172-4392-83a0-950f3956c177",
   "metadata": {},
   "outputs": [
    {
     "data": {
      "text/plain": [
       "False"
      ]
     },
     "execution_count": 73,
     "metadata": {},
     "output_type": "execute_result"
    }
   ],
   "source": [
    "3 > 5"
   ]
  },
  {
   "cell_type": "code",
   "execution_count": 74,
   "id": "fb372914-7594-42e9-a0f4-2b6f438e84bd",
   "metadata": {},
   "outputs": [
    {
     "data": {
      "text/plain": [
       "True"
      ]
     },
     "execution_count": 74,
     "metadata": {},
     "output_type": "execute_result"
    }
   ],
   "source": [
    "3 == 3.0"
   ]
  },
  {
   "cell_type": "code",
   "execution_count": 75,
   "id": "e0ae5514-7b6a-4304-8039-b776e44fd05c",
   "metadata": {},
   "outputs": [
    {
     "data": {
      "text/plain": [
       "True"
      ]
     },
     "execution_count": 75,
     "metadata": {},
     "output_type": "execute_result"
    }
   ],
   "source": [
    "True == True"
   ]
  },
  {
   "cell_type": "code",
   "execution_count": 76,
   "id": "26d2c77e-18f1-491c-81fb-a528fd3003b6",
   "metadata": {},
   "outputs": [
    {
     "data": {
      "text/plain": [
       "True"
      ]
     },
     "execution_count": 76,
     "metadata": {},
     "output_type": "execute_result"
    }
   ],
   "source": [
    "True == 1"
   ]
  },
  {
   "cell_type": "code",
   "execution_count": 77,
   "id": "6689e6ac-e9b6-46bf-9c06-a871cb61da8d",
   "metadata": {},
   "outputs": [
    {
     "data": {
      "text/plain": [
       "True"
      ]
     },
     "execution_count": 77,
     "metadata": {},
     "output_type": "execute_result"
    }
   ],
   "source": [
    "False == 0"
   ]
  },
  {
   "cell_type": "code",
   "execution_count": null,
   "id": "5e227d61-d663-4e4f-9dba-dde557b1f73c",
   "metadata": {},
   "outputs": [],
   "source": []
  },
  {
   "cell_type": "code",
   "execution_count": 78,
   "id": "09e4246a-62d9-439c-83ff-a2302ff77319",
   "metadata": {},
   "outputs": [],
   "source": [
    "# != not equal"
   ]
  },
  {
   "cell_type": "code",
   "execution_count": 79,
   "id": "29336e58-e1c0-48c6-a1a4-f74ac78a633c",
   "metadata": {},
   "outputs": [
    {
     "data": {
      "text/plain": [
       "False"
      ]
     },
     "execution_count": 79,
     "metadata": {},
     "output_type": "execute_result"
    }
   ],
   "source": [
    "2 != 2"
   ]
  },
  {
   "cell_type": "code",
   "execution_count": 80,
   "id": "6bee3c5b-f068-49f4-8d00-12a7d207295c",
   "metadata": {},
   "outputs": [
    {
     "data": {
      "text/plain": [
       "True"
      ]
     },
     "execution_count": 80,
     "metadata": {},
     "output_type": "execute_result"
    }
   ],
   "source": [
    "'rahul' != 'Rahul'"
   ]
  },
  {
   "cell_type": "code",
   "execution_count": null,
   "id": "40f3d88c-6a90-4bb9-adf4-87fe92fd6b69",
   "metadata": {},
   "outputs": [],
   "source": []
  },
  {
   "cell_type": "code",
   "execution_count": 81,
   "id": "ac2e5bae-a83a-4d34-83ce-b8b56fcde03d",
   "metadata": {},
   "outputs": [],
   "source": [
    "# < and >"
   ]
  },
  {
   "cell_type": "code",
   "execution_count": 82,
   "id": "a29224bf-3696-45fd-94d9-5cea95334a52",
   "metadata": {},
   "outputs": [
    {
     "data": {
      "text/plain": [
       "True"
      ]
     },
     "execution_count": 82,
     "metadata": {},
     "output_type": "execute_result"
    }
   ],
   "source": [
    "4 > 2"
   ]
  },
  {
   "cell_type": "code",
   "execution_count": 85,
   "id": "5426d53e-3a14-4be9-bc5e-ae2c33f4eaa5",
   "metadata": {},
   "outputs": [
    {
     "data": {
      "text/plain": [
       "False"
      ]
     },
     "execution_count": 85,
     "metadata": {},
     "output_type": "execute_result"
    }
   ],
   "source": [
    "4 > 4"
   ]
  },
  {
   "cell_type": "code",
   "execution_count": null,
   "id": "299b3fcd-aa5c-4beb-9a3a-231319d726fd",
   "metadata": {},
   "outputs": [],
   "source": []
  },
  {
   "cell_type": "code",
   "execution_count": null,
   "id": "064cfd35-bbd2-4308-9168-8943e6e8c738",
   "metadata": {},
   "outputs": [],
   "source": []
  },
  {
   "cell_type": "code",
   "execution_count": 83,
   "id": "8a96e56e-7cee-4c97-8e78-3fa3496d7259",
   "metadata": {},
   "outputs": [],
   "source": [
    "# >= and <="
   ]
  },
  {
   "cell_type": "code",
   "execution_count": 84,
   "id": "a34b107b-d97c-4df6-8cc1-5c45d6a577ab",
   "metadata": {},
   "outputs": [
    {
     "data": {
      "text/plain": [
       "True"
      ]
     },
     "execution_count": 84,
     "metadata": {},
     "output_type": "execute_result"
    }
   ],
   "source": [
    "4 >= 4"
   ]
  },
  {
   "cell_type": "code",
   "execution_count": 86,
   "id": "1560ef34-d47f-4c3a-be44-f0d30db18e9f",
   "metadata": {},
   "outputs": [
    {
     "data": {
      "text/plain": [
       "False"
      ]
     },
     "execution_count": 86,
     "metadata": {},
     "output_type": "execute_result"
    }
   ],
   "source": [
    "4 >= 5"
   ]
  },
  {
   "cell_type": "code",
   "execution_count": 87,
   "id": "f6c2c90d-d45e-4431-af86-54cfeb2d5a61",
   "metadata": {},
   "outputs": [
    {
     "data": {
      "text/plain": [
       "True"
      ]
     },
     "execution_count": 87,
     "metadata": {},
     "output_type": "execute_result"
    }
   ],
   "source": [
    "4 <= 5"
   ]
  },
  {
   "cell_type": "code",
   "execution_count": 88,
   "id": "1662f94d-3d01-4346-9158-488c391187e7",
   "metadata": {},
   "outputs": [
    {
     "data": {
      "text/plain": [
       "True"
      ]
     },
     "execution_count": 88,
     "metadata": {},
     "output_type": "execute_result"
    }
   ],
   "source": [
    "4 <= 4"
   ]
  },
  {
   "cell_type": "code",
   "execution_count": null,
   "id": "d26b929b-783d-4839-9e26-210cee5fbde2",
   "metadata": {},
   "outputs": [],
   "source": []
  },
  {
   "cell_type": "markdown",
   "id": "e1123558-265d-4c4a-a37f-8935065c1d80",
   "metadata": {},
   "source": [
    "## Assignment Operators\n",
    "- -=\n",
    "- +=\n",
    "- /=\n",
    "- *="
   ]
  },
  {
   "cell_type": "code",
   "execution_count": 90,
   "id": "40b11801-0b58-42f5-bf7f-6c901f6c0059",
   "metadata": {},
   "outputs": [],
   "source": [
    "x = 5"
   ]
  },
  {
   "cell_type": "code",
   "execution_count": 92,
   "id": "2c78ae14-f16b-413c-9c67-2bf9683b4ad7",
   "metadata": {},
   "outputs": [
    {
     "name": "stdout",
     "output_type": "stream",
     "text": [
      "5\n"
     ]
    }
   ],
   "source": [
    "print(x)"
   ]
  },
  {
   "cell_type": "code",
   "execution_count": 93,
   "id": "57a03632-ed6a-48ea-946f-ab2a48590e0e",
   "metadata": {},
   "outputs": [],
   "source": [
    "marks = 80\n",
    "grace = 5"
   ]
  },
  {
   "cell_type": "code",
   "execution_count": 94,
   "id": "ebfcd105-dfb0-438a-9615-feeee06f88b6",
   "metadata": {},
   "outputs": [
    {
     "name": "stdout",
     "output_type": "stream",
     "text": [
      "80\n"
     ]
    }
   ],
   "source": [
    "print(marks)"
   ]
  },
  {
   "cell_type": "code",
   "execution_count": 95,
   "id": "512eb87a-718c-4463-87ba-5d7692713b2f",
   "metadata": {},
   "outputs": [],
   "source": [
    "marks = marks + grace"
   ]
  },
  {
   "cell_type": "code",
   "execution_count": 96,
   "id": "802e147a-2593-49fa-8286-8b2759a9607d",
   "metadata": {},
   "outputs": [
    {
     "name": "stdout",
     "output_type": "stream",
     "text": [
      "85\n"
     ]
    }
   ],
   "source": [
    "print(marks)"
   ]
  },
  {
   "cell_type": "code",
   "execution_count": 97,
   "id": "5ff130ba-c2e5-4593-b90d-c1e522972f1d",
   "metadata": {},
   "outputs": [],
   "source": [
    "marks += grace # Same as marks = marks + grace"
   ]
  },
  {
   "cell_type": "code",
   "execution_count": 98,
   "id": "04b86502-f807-4f7e-a300-33d8f01e39e2",
   "metadata": {},
   "outputs": [
    {
     "name": "stdout",
     "output_type": "stream",
     "text": [
      "90\n"
     ]
    }
   ],
   "source": [
    "print(marks)"
   ]
  },
  {
   "cell_type": "code",
   "execution_count": null,
   "id": "bc3ed16e-8aab-4d5e-b6c7-14338899bc39",
   "metadata": {},
   "outputs": [],
   "source": []
  },
  {
   "cell_type": "code",
   "execution_count": 99,
   "id": "1572cedf-6dc3-4a41-9b02-9e6609d67a8b",
   "metadata": {},
   "outputs": [],
   "source": [
    "# marks = marks - grace\n",
    "\n",
    "marks -= grace "
   ]
  },
  {
   "cell_type": "code",
   "execution_count": 100,
   "id": "0297d613-df17-4882-9d45-296ef6879754",
   "metadata": {},
   "outputs": [
    {
     "name": "stdout",
     "output_type": "stream",
     "text": [
      "85\n"
     ]
    }
   ],
   "source": [
    "print(marks)"
   ]
  },
  {
   "cell_type": "code",
   "execution_count": null,
   "id": "927e35a9-582e-495e-b409-6a72032fc042",
   "metadata": {},
   "outputs": [],
   "source": []
  },
  {
   "cell_type": "code",
   "execution_count": 101,
   "id": "7403edbb-f2a5-47a1-b1cc-35cb8ba7cba6",
   "metadata": {},
   "outputs": [],
   "source": [
    "# HW: /= , *= , //= , %="
   ]
  },
  {
   "cell_type": "code",
   "execution_count": null,
   "id": "323ee2a9-3642-42da-b361-287648003a80",
   "metadata": {},
   "outputs": [],
   "source": []
  },
  {
   "cell_type": "code",
   "execution_count": null,
   "id": "b72cdc2d-68b3-4599-b6b2-c9a579d6452e",
   "metadata": {},
   "outputs": [],
   "source": []
  },
  {
   "cell_type": "code",
   "execution_count": 102,
   "id": "b530a439-1747-4805-96fe-ee554ec8015f",
   "metadata": {},
   "outputs": [],
   "source": [
    "## More type conversion: Typecasting"
   ]
  },
  {
   "cell_type": "code",
   "execution_count": 103,
   "id": "3115e76b-576d-4bbc-9c1a-71d7a5e1352c",
   "metadata": {},
   "outputs": [],
   "source": [
    "# int -> float"
   ]
  },
  {
   "cell_type": "code",
   "execution_count": 104,
   "id": "709bfe46-f403-4340-85ad-adadef8314ad",
   "metadata": {},
   "outputs": [
    {
     "data": {
      "text/plain": [
       "4.0"
      ]
     },
     "execution_count": 104,
     "metadata": {},
     "output_type": "execute_result"
    }
   ],
   "source": [
    "float(4)"
   ]
  },
  {
   "cell_type": "code",
   "execution_count": 106,
   "id": "c6d06e32-ae3a-40f7-b875-31e12f9a7e56",
   "metadata": {},
   "outputs": [
    {
     "data": {
      "text/plain": [
       "-932.0"
      ]
     },
     "execution_count": 106,
     "metadata": {},
     "output_type": "execute_result"
    }
   ],
   "source": [
    "float(-932)"
   ]
  },
  {
   "cell_type": "code",
   "execution_count": 107,
   "id": "fbc37191-d90c-4ae5-aa61-4c0eddbc6721",
   "metadata": {},
   "outputs": [
    {
     "data": {
      "text/plain": [
       "0.0"
      ]
     },
     "execution_count": 107,
     "metadata": {},
     "output_type": "execute_result"
    }
   ],
   "source": [
    "float(0)"
   ]
  },
  {
   "cell_type": "code",
   "execution_count": null,
   "id": "a1e1180e-a7eb-4fc3-a79e-6f64487dfc5f",
   "metadata": {},
   "outputs": [],
   "source": []
  },
  {
   "cell_type": "code",
   "execution_count": null,
   "id": "09884f8e-b3f9-4956-9a83-3566111659ec",
   "metadata": {},
   "outputs": [],
   "source": []
  },
  {
   "cell_type": "code",
   "execution_count": 108,
   "id": "3ab3bdc5-1805-43db-b7d9-dce7f496331d",
   "metadata": {},
   "outputs": [],
   "source": [
    "# float -> int"
   ]
  },
  {
   "cell_type": "code",
   "execution_count": 109,
   "id": "c43936f1-4ad7-4f89-ba22-747cbdfff9a2",
   "metadata": {},
   "outputs": [
    {
     "data": {
      "text/plain": [
       "2"
      ]
     },
     "execution_count": 109,
     "metadata": {},
     "output_type": "execute_result"
    }
   ],
   "source": [
    "int(2.3)"
   ]
  },
  {
   "cell_type": "code",
   "execution_count": 110,
   "id": "61b4031c-e0aa-4c59-9ba6-9f88e2c8dbd8",
   "metadata": {},
   "outputs": [
    {
     "data": {
      "text/plain": [
       "4"
      ]
     },
     "execution_count": 110,
     "metadata": {},
     "output_type": "execute_result"
    }
   ],
   "source": [
    "int(4.9)"
   ]
  },
  {
   "cell_type": "code",
   "execution_count": 111,
   "id": "2338bfb2-2b14-49cb-8afe-1a11f4dbcfd6",
   "metadata": {},
   "outputs": [
    {
     "data": {
      "text/plain": [
       "-4"
      ]
     },
     "execution_count": 111,
     "metadata": {},
     "output_type": "execute_result"
    }
   ],
   "source": [
    "int(-4.9)"
   ]
  },
  {
   "cell_type": "code",
   "execution_count": null,
   "id": "6d4c2a5e-e9ee-4410-a8b8-4b0958e1ebe9",
   "metadata": {},
   "outputs": [],
   "source": []
  },
  {
   "cell_type": "code",
   "execution_count": 112,
   "id": "3e3ff5f9-d8ae-4aaa-9f08-dfae2e9dc42d",
   "metadata": {},
   "outputs": [],
   "source": [
    "# int -> string"
   ]
  },
  {
   "cell_type": "code",
   "execution_count": 113,
   "id": "af968cb0-1ddf-41c3-a375-543f093944dc",
   "metadata": {},
   "outputs": [
    {
     "data": {
      "text/plain": [
       "'4'"
      ]
     },
     "execution_count": 113,
     "metadata": {},
     "output_type": "execute_result"
    }
   ],
   "source": [
    "str(4)"
   ]
  },
  {
   "cell_type": "code",
   "execution_count": 114,
   "id": "e9415711-72f5-4b45-ab00-d7a2f26ab223",
   "metadata": {},
   "outputs": [
    {
     "data": {
      "text/plain": [
       "'4.0'"
      ]
     },
     "execution_count": 114,
     "metadata": {},
     "output_type": "execute_result"
    }
   ],
   "source": [
    "str(4.0)"
   ]
  },
  {
   "cell_type": "code",
   "execution_count": null,
   "id": "ef398c69-c4fa-443b-b380-22df8444d4ee",
   "metadata": {},
   "outputs": [],
   "source": []
  },
  {
   "cell_type": "code",
   "execution_count": null,
   "id": "6d0ed605-43bc-4ef3-9df4-4dc7b12f1fa0",
   "metadata": {},
   "outputs": [],
   "source": []
  },
  {
   "cell_type": "code",
   "execution_count": 115,
   "id": "0719e94e-c7da-4e2d-8338-5523fa0547b0",
   "metadata": {},
   "outputs": [],
   "source": [
    "# string -> int"
   ]
  },
  {
   "cell_type": "code",
   "execution_count": 116,
   "id": "6d8a9ee9-48f6-4371-b089-ac059998db1a",
   "metadata": {},
   "outputs": [],
   "source": [
    "# Only when string is purely integer"
   ]
  },
  {
   "cell_type": "code",
   "execution_count": 117,
   "id": "985e7219-5ed9-4457-91fa-2b937050cb76",
   "metadata": {},
   "outputs": [
    {
     "data": {
      "text/plain": [
       "2"
      ]
     },
     "execution_count": 117,
     "metadata": {},
     "output_type": "execute_result"
    }
   ],
   "source": [
    "int('2')"
   ]
  },
  {
   "cell_type": "code",
   "execution_count": 118,
   "id": "65feab13-8d94-4645-a5f3-140bfc86ceee",
   "metadata": {},
   "outputs": [
    {
     "ename": "ValueError",
     "evalue": "invalid literal for int() with base 10: '2.4'",
     "output_type": "error",
     "traceback": [
      "\u001b[0;31m---------------------------------------------------------------------------\u001b[0m",
      "\u001b[0;31mValueError\u001b[0m                                Traceback (most recent call last)",
      "\u001b[0;32m/var/folders/t5/yhjgrjs907zfp250jyxtw54m0000gn/T/ipykernel_58922/738158833.py\u001b[0m in \u001b[0;36m<module>\u001b[0;34m\u001b[0m\n\u001b[0;32m----> 1\u001b[0;31m \u001b[0mint\u001b[0m\u001b[0;34m(\u001b[0m\u001b[0;34m'2.4'\u001b[0m\u001b[0;34m)\u001b[0m\u001b[0;34m\u001b[0m\u001b[0;34m\u001b[0m\u001b[0m\n\u001b[0m",
      "\u001b[0;31mValueError\u001b[0m: invalid literal for int() with base 10: '2.4'"
     ]
    }
   ],
   "source": [
    "int('2.4')"
   ]
  },
  {
   "cell_type": "code",
   "execution_count": 119,
   "id": "da1b85cf-4e04-492a-9a70-45dfbaa2d1cd",
   "metadata": {},
   "outputs": [
    {
     "data": {
      "text/plain": [
       "2.4"
      ]
     },
     "execution_count": 119,
     "metadata": {},
     "output_type": "execute_result"
    }
   ],
   "source": [
    "float('2.4')"
   ]
  },
  {
   "cell_type": "code",
   "execution_count": 121,
   "id": "df326930-c287-46e0-be2e-82043804cf1e",
   "metadata": {},
   "outputs": [
    {
     "data": {
      "text/plain": [
       "2"
      ]
     },
     "execution_count": 121,
     "metadata": {},
     "output_type": "execute_result"
    }
   ],
   "source": [
    "int(float('2.4'))"
   ]
  },
  {
   "cell_type": "code",
   "execution_count": null,
   "id": "5d012716-a470-4cf7-b5ab-ef07c748142a",
   "metadata": {},
   "outputs": [],
   "source": []
  },
  {
   "cell_type": "markdown",
   "id": "e2f8fa0e-f922-41d1-9004-928053e17362",
   "metadata": {},
   "source": [
    "### More on bool"
   ]
  },
  {
   "cell_type": "code",
   "execution_count": 122,
   "id": "2e5e1734-c372-4b01-b635-7b8d35c3d3c0",
   "metadata": {},
   "outputs": [],
   "source": [
    "# False -> 0 - int, 0.0 - float, \"\" - string"
   ]
  },
  {
   "cell_type": "code",
   "execution_count": 123,
   "id": "3e04db0a-4bdd-490e-82a6-5e0134d7e9a5",
   "metadata": {},
   "outputs": [
    {
     "data": {
      "text/plain": [
       "False"
      ]
     },
     "execution_count": 123,
     "metadata": {},
     "output_type": "execute_result"
    }
   ],
   "source": [
    "bool(0)"
   ]
  },
  {
   "cell_type": "code",
   "execution_count": 124,
   "id": "c6f15370-03af-4b58-98bd-49d33e8e6b81",
   "metadata": {},
   "outputs": [
    {
     "data": {
      "text/plain": [
       "True"
      ]
     },
     "execution_count": 124,
     "metadata": {},
     "output_type": "execute_result"
    }
   ],
   "source": [
    "bool(-8346198497126479124)"
   ]
  },
  {
   "cell_type": "code",
   "execution_count": 125,
   "id": "7ec6ee61-503e-4829-bd6c-2b146c76d557",
   "metadata": {},
   "outputs": [
    {
     "data": {
      "text/plain": [
       "True"
      ]
     },
     "execution_count": 125,
     "metadata": {},
     "output_type": "execute_result"
    }
   ],
   "source": [
    "bool(1)"
   ]
  },
  {
   "cell_type": "code",
   "execution_count": 128,
   "id": "a8b84b19-7047-4908-b62c-15cdfb11e78e",
   "metadata": {},
   "outputs": [
    {
     "data": {
      "text/plain": [
       "True"
      ]
     },
     "execution_count": 128,
     "metadata": {},
     "output_type": "execute_result"
    }
   ],
   "source": [
    "bool(131343)"
   ]
  },
  {
   "cell_type": "code",
   "execution_count": 129,
   "id": "70ece4ef-06dd-4382-a67a-7eb0fc0dddd3",
   "metadata": {},
   "outputs": [
    {
     "data": {
      "text/plain": [
       "False"
      ]
     },
     "execution_count": 129,
     "metadata": {},
     "output_type": "execute_result"
    }
   ],
   "source": [
    "bool(0.0)"
   ]
  },
  {
   "cell_type": "code",
   "execution_count": 130,
   "id": "ce5a6cf1-4a3c-4994-99b4-0f70498c17c4",
   "metadata": {},
   "outputs": [
    {
     "data": {
      "text/plain": [
       "True"
      ]
     },
     "execution_count": 130,
     "metadata": {},
     "output_type": "execute_result"
    }
   ],
   "source": [
    "bool(112.02212)"
   ]
  },
  {
   "cell_type": "code",
   "execution_count": 131,
   "id": "134452b1-6b7c-4710-a7de-4cb09ec83ae0",
   "metadata": {},
   "outputs": [
    {
     "data": {
      "text/plain": [
       "False"
      ]
     },
     "execution_count": 131,
     "metadata": {},
     "output_type": "execute_result"
    }
   ],
   "source": [
    "bool(\"\")"
   ]
  },
  {
   "cell_type": "code",
   "execution_count": 133,
   "id": "02bd785f-465d-4feb-a719-80a9e1a7cfa9",
   "metadata": {},
   "outputs": [
    {
     "data": {
      "text/plain": [
       "True"
      ]
     },
     "execution_count": 133,
     "metadata": {},
     "output_type": "execute_result"
    }
   ],
   "source": [
    "bool(\" \")"
   ]
  },
  {
   "cell_type": "code",
   "execution_count": 134,
   "id": "4dfccdd1-580d-4fd4-8e56-18b78ac9e6f3",
   "metadata": {},
   "outputs": [
    {
     "data": {
      "text/plain": [
       "True"
      ]
     },
     "execution_count": 134,
     "metadata": {},
     "output_type": "execute_result"
    }
   ],
   "source": [
    "bool(\"    \")"
   ]
  },
  {
   "cell_type": "code",
   "execution_count": 135,
   "id": "f2981335-435f-41d1-b970-4191fd14982f",
   "metadata": {},
   "outputs": [
    {
     "data": {
      "text/plain": [
       "True"
      ]
     },
     "execution_count": 135,
     "metadata": {},
     "output_type": "execute_result"
    }
   ],
   "source": [
    "bool(\"rahul\")"
   ]
  },
  {
   "cell_type": "code",
   "execution_count": 136,
   "id": "4241933e-047e-451e-8df9-c35dc8aa6b63",
   "metadata": {},
   "outputs": [
    {
     "data": {
      "text/plain": [
       "False"
      ]
     },
     "execution_count": 136,
     "metadata": {},
     "output_type": "execute_result"
    }
   ],
   "source": [
    "bool(None)"
   ]
  },
  {
   "cell_type": "code",
   "execution_count": null,
   "id": "1fe500fa-89dc-4cef-817d-7ad83724182a",
   "metadata": {},
   "outputs": [],
   "source": []
  },
  {
   "cell_type": "code",
   "execution_count": null,
   "id": "71121dd0-0297-4bac-b24a-ae1444fcfcff",
   "metadata": {},
   "outputs": [],
   "source": []
  },
  {
   "cell_type": "code",
   "execution_count": 137,
   "id": "4ebd2725-6530-41e8-b639-15e4dbb2225b",
   "metadata": {},
   "outputs": [],
   "source": [
    "# Converting input into boolean?"
   ]
  },
  {
   "cell_type": "code",
   "execution_count": 144,
   "id": "12aa8a20-c5ac-4f24-b191-60545b43f70e",
   "metadata": {},
   "outputs": [
    {
     "name": "stdin",
     "output_type": "stream",
     "text": [
      " False\n"
     ]
    },
    {
     "data": {
      "text/plain": [
       "'False'"
      ]
     },
     "execution_count": 144,
     "metadata": {},
     "output_type": "execute_result"
    }
   ],
   "source": [
    "input()"
   ]
  },
  {
   "cell_type": "code",
   "execution_count": 143,
   "id": "8c673a14-b0a0-4e7f-85dd-fc5e194edebc",
   "metadata": {},
   "outputs": [
    {
     "data": {
      "text/plain": [
       "True"
      ]
     },
     "execution_count": 143,
     "metadata": {},
     "output_type": "execute_result"
    }
   ],
   "source": [
    "bool('True')"
   ]
  },
  {
   "cell_type": "code",
   "execution_count": 145,
   "id": "8339433b-5c3c-4230-9ebe-600e9539dc53",
   "metadata": {},
   "outputs": [
    {
     "data": {
      "text/plain": [
       "True"
      ]
     },
     "execution_count": 145,
     "metadata": {},
     "output_type": "execute_result"
    }
   ],
   "source": [
    "bool('False')"
   ]
  },
  {
   "cell_type": "code",
   "execution_count": null,
   "id": "bb7fc517-e2ee-454f-81d9-05609475f300",
   "metadata": {},
   "outputs": [],
   "source": []
  },
  {
   "cell_type": "code",
   "execution_count": null,
   "id": "b88bc96b-b8fb-41f6-8534-a29fcd86da1e",
   "metadata": {},
   "outputs": [],
   "source": []
  },
  {
   "cell_type": "markdown",
   "id": "33ca2c35-266c-4906-aabe-61f33d24e210",
   "metadata": {},
   "source": [
    "### Logical Operators\n",
    "- and \n",
    "- or\n",
    "- not"
   ]
  },
  {
   "cell_type": "code",
   "execution_count": 146,
   "id": "48dd326f-e9d3-44bb-92e5-c38d3ff40f46",
   "metadata": {},
   "outputs": [],
   "source": [
    "# These are exclusive for boolean type"
   ]
  },
  {
   "cell_type": "code",
   "execution_count": 147,
   "id": "6889c559-53fa-42a3-a1a5-1590e7da3460",
   "metadata": {},
   "outputs": [
    {
     "data": {
      "text/plain": [
       "True"
      ]
     },
     "execution_count": 147,
     "metadata": {},
     "output_type": "execute_result"
    }
   ],
   "source": [
    "True and True"
   ]
  },
  {
   "cell_type": "code",
   "execution_count": 148,
   "id": "6ef5f2d3-a52b-4d4d-b251-6bf3ff9ccdf3",
   "metadata": {},
   "outputs": [
    {
     "data": {
      "text/plain": [
       "False"
      ]
     },
     "execution_count": 148,
     "metadata": {},
     "output_type": "execute_result"
    }
   ],
   "source": [
    "False and True"
   ]
  },
  {
   "cell_type": "code",
   "execution_count": 149,
   "id": "2bbfe2b3-4a7d-43fa-81df-3db2b197efea",
   "metadata": {},
   "outputs": [
    {
     "data": {
      "text/plain": [
       "True"
      ]
     },
     "execution_count": 149,
     "metadata": {},
     "output_type": "execute_result"
    }
   ],
   "source": [
    "True or False"
   ]
  },
  {
   "cell_type": "code",
   "execution_count": 150,
   "id": "f35e571a-3b14-414d-b0f3-f4e04a1e06fa",
   "metadata": {},
   "outputs": [
    {
     "data": {
      "text/plain": [
       "False"
      ]
     },
     "execution_count": 150,
     "metadata": {},
     "output_type": "execute_result"
    }
   ],
   "source": [
    "False or False"
   ]
  },
  {
   "cell_type": "code",
   "execution_count": 151,
   "id": "b8a35905-bc08-4513-b0e6-c4d42de3087e",
   "metadata": {},
   "outputs": [
    {
     "data": {
      "text/plain": [
       "False"
      ]
     },
     "execution_count": 151,
     "metadata": {},
     "output_type": "execute_result"
    }
   ],
   "source": [
    "not True"
   ]
  },
  {
   "cell_type": "code",
   "execution_count": 152,
   "id": "5698b96e-e570-4ee6-92ab-433cae20415f",
   "metadata": {},
   "outputs": [
    {
     "data": {
      "text/plain": [
       "1"
      ]
     },
     "execution_count": 152,
     "metadata": {},
     "output_type": "execute_result"
    }
   ],
   "source": [
    "1 or 0"
   ]
  },
  {
   "cell_type": "code",
   "execution_count": 155,
   "id": "47f842f6-5f2e-483d-af33-bee5447dae41",
   "metadata": {},
   "outputs": [
    {
     "data": {
      "text/plain": [
       "True"
      ]
     },
     "execution_count": 155,
     "metadata": {},
     "output_type": "execute_result"
    }
   ],
   "source": [
    "(5 % 2 == 0) or (4 % 2 == 0)"
   ]
  },
  {
   "cell_type": "code",
   "execution_count": 154,
   "id": "434b9488-4d81-4a0a-96d2-135538738016",
   "metadata": {},
   "outputs": [
    {
     "data": {
      "text/plain": [
       "False"
      ]
     },
     "execution_count": 154,
     "metadata": {},
     "output_type": "execute_result"
    }
   ],
   "source": [
    "5 % 2 == 0"
   ]
  },
  {
   "cell_type": "code",
   "execution_count": 153,
   "id": "58b9047e-ecb5-42a4-8d7c-79389e57860d",
   "metadata": {},
   "outputs": [
    {
     "data": {
      "text/plain": [
       "1"
      ]
     },
     "execution_count": 153,
     "metadata": {},
     "output_type": "execute_result"
    }
   ],
   "source": [
    "5 % 2"
   ]
  },
  {
   "cell_type": "code",
   "execution_count": null,
   "id": "f7f89a39-233d-4d2c-8666-64894608c734",
   "metadata": {},
   "outputs": [],
   "source": []
  },
  {
   "cell_type": "code",
   "execution_count": 156,
   "id": "37a534f7-3488-4d8e-95b2-7bc99bf1cf4f",
   "metadata": {},
   "outputs": [
    {
     "data": {
      "text/plain": [
       "True"
      ]
     },
     "execution_count": 156,
     "metadata": {},
     "output_type": "execute_result"
    }
   ],
   "source": [
    "(5 >= 3) and (15 % 5 == 0)"
   ]
  },
  {
   "cell_type": "code",
   "execution_count": 162,
   "id": "8c39912a-64ef-4d17-9e28-98322db7432e",
   "metadata": {},
   "outputs": [
    {
     "name": "stdin",
     "output_type": "stream",
     "text": [
      " 15\n"
     ]
    },
    {
     "data": {
      "text/plain": [
       "True"
      ]
     },
     "execution_count": 162,
     "metadata": {},
     "output_type": "execute_result"
    }
   ],
   "source": [
    "x = int(input())\n",
    "\n",
    "(x % 5 == 0) and (x % 3 == 0)"
   ]
  },
  {
   "cell_type": "code",
   "execution_count": 161,
   "id": "68786caa-8bda-4ac1-bef3-23bd1bc192a4",
   "metadata": {},
   "outputs": [
    {
     "data": {
      "text/plain": [
       "0"
      ]
     },
     "execution_count": 161,
     "metadata": {},
     "output_type": "execute_result"
    }
   ],
   "source": [
    "6 % 3"
   ]
  },
  {
   "cell_type": "code",
   "execution_count": null,
   "id": "bef479e7-e971-4a9c-a609-07c15d08f1fa",
   "metadata": {},
   "outputs": [],
   "source": []
  },
  {
   "cell_type": "code",
   "execution_count": 166,
   "id": "c25a80a9-2264-4bc8-8e69-e3f533cf69b8",
   "metadata": {},
   "outputs": [],
   "source": [
    "# Doubts"
   ]
  },
  {
   "cell_type": "code",
   "execution_count": 163,
   "id": "5db1d47e-1174-4326-ba64-423e5cef2317",
   "metadata": {},
   "outputs": [
    {
     "data": {
      "text/plain": [
       "2.0"
      ]
     },
     "execution_count": 163,
     "metadata": {},
     "output_type": "execute_result"
    }
   ],
   "source": [
    "float('2')"
   ]
  },
  {
   "cell_type": "code",
   "execution_count": 167,
   "id": "3e613337-72ab-4e29-b207-d07ae387225c",
   "metadata": {},
   "outputs": [],
   "source": [
    "# isinstance(data, function)"
   ]
  },
  {
   "cell_type": "code",
   "execution_count": 168,
   "id": "de7291c2-0093-4b1e-b2aa-5caa418655f0",
   "metadata": {},
   "outputs": [
    {
     "data": {
      "text/plain": [
       "True"
      ]
     },
     "execution_count": 168,
     "metadata": {},
     "output_type": "execute_result"
    }
   ],
   "source": [
    "isinstance(2, int)"
   ]
  },
  {
   "cell_type": "code",
   "execution_count": 169,
   "id": "e326f244-6abe-449f-9354-88089c07e444",
   "metadata": {},
   "outputs": [
    {
     "data": {
      "text/plain": [
       "2"
      ]
     },
     "execution_count": 169,
     "metadata": {},
     "output_type": "execute_result"
    }
   ],
   "source": [
    "-7 % 3\n",
    "\n",
    "# y - (x % y)"
   ]
  },
  {
   "cell_type": "code",
   "execution_count": 170,
   "id": "f6242783-a997-4b33-922c-f9d2e2d0c18e",
   "metadata": {},
   "outputs": [
    {
     "data": {
      "text/plain": [
       "-2"
      ]
     },
     "execution_count": 170,
     "metadata": {},
     "output_type": "execute_result"
    }
   ],
   "source": [
    "7 % -3"
   ]
  },
  {
   "cell_type": "code",
   "execution_count": null,
   "id": "29121dc7-91b0-42e6-bc90-de9b2dbbc27e",
   "metadata": {},
   "outputs": [],
   "source": []
  },
  {
   "cell_type": "code",
   "execution_count": null,
   "id": "a87f955e-4fe0-44cb-8c12-6e4d38136390",
   "metadata": {},
   "outputs": [],
   "source": []
  },
  {
   "cell_type": "code",
   "execution_count": null,
   "id": "9e66bd8f-63fa-4e43-a6a8-6e26d9e4b8c0",
   "metadata": {},
   "outputs": [],
   "source": []
  }
 ],
 "metadata": {
  "kernelspec": {
   "display_name": "Python 3 (ipykernel)",
   "language": "python",
   "name": "python3"
  },
  "language_info": {
   "codemirror_mode": {
    "name": "ipython",
    "version": 3
   },
   "file_extension": ".py",
   "mimetype": "text/x-python",
   "name": "python",
   "nbconvert_exporter": "python",
   "pygments_lexer": "ipython3",
   "version": "3.9.7"
  }
 },
 "nbformat": 4,
 "nbformat_minor": 5
}
