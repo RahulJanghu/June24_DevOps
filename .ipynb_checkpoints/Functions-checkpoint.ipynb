{
 "cells": [
  {
   "cell_type": "markdown",
   "id": "694bda23-c9a2-4139-b627-9ea1ad4e69e0",
   "metadata": {},
   "source": [
    "## Defining a function"
   ]
  },
  {
   "cell_type": "markdown",
   "id": "29d818b5-2604-4b03-b568-1182521e2a37",
   "metadata": {},
   "source": [
    "![image](../picture/Function.gif)"
   ]
  },
  {
   "cell_type": "code",
   "execution_count": 1,
   "id": "e75fa6ed-bd02-4193-9593-d010fb979491",
   "metadata": {},
   "outputs": [],
   "source": [
    "# some program"
   ]
  },
  {
   "cell_type": "code",
   "execution_count": 2,
   "id": "f283e17d-8fdf-4475-b305-181a4e27b753",
   "metadata": {},
   "outputs": [
    {
     "name": "stdout",
     "output_type": "stream",
     "text": [
      "Peel off the bananas\n",
      "Add some milk to it\n",
      "Add some honey and dates\n",
      "Add some dry fruits\n",
      "Top up with ice cream\n"
     ]
    }
   ],
   "source": [
    "print(\"Peel off the bananas\")\n",
    "print(\"Add some milk to it\")\n",
    "print(\"Add some honey and dates\")\n",
    "print(\"Add some dry fruits\")\n",
    "print(\"Top up with ice cream\")"
   ]
  },
  {
   "cell_type": "code",
   "execution_count": 3,
   "id": "4a1f157f-0015-4ee8-ba97-56a79aecde15",
   "metadata": {},
   "outputs": [
    {
     "name": "stdout",
     "output_type": "stream",
     "text": [
      "Peel off the bananas\n",
      "Add some milk to it\n",
      "Add some honey and dates\n",
      "Add some dry fruits\n",
      "Top up with ice cream\n"
     ]
    }
   ],
   "source": [
    "print(\"Peel off the bananas\")\n",
    "print(\"Add some milk to it\")\n",
    "print(\"Add some honey and dates\")\n",
    "print(\"Add some dry fruits\")\n",
    "print(\"Top up with ice cream\")"
   ]
  },
  {
   "cell_type": "code",
   "execution_count": 4,
   "id": "b3fe41a4-d78a-442b-807c-b0198d79ddf0",
   "metadata": {},
   "outputs": [
    {
     "name": "stdout",
     "output_type": "stream",
     "text": [
      "Peel off the bananas\n",
      "Add some milk to it\n",
      "Add some honey and dates\n",
      "Add some dry fruits\n",
      "Top up with ice cream\n"
     ]
    }
   ],
   "source": [
    "print(\"Peel off the bananas\")\n",
    "print(\"Add some milk to it\")\n",
    "print(\"Add some honey and dates\")\n",
    "print(\"Add some dry fruits\")\n",
    "print(\"Top up with ice cream\")"
   ]
  },
  {
   "cell_type": "code",
   "execution_count": null,
   "id": "861e2eb7-a273-42d0-a8fb-d4e2d0b46701",
   "metadata": {},
   "outputs": [],
   "source": []
  },
  {
   "cell_type": "code",
   "execution_count": null,
   "id": "263fef88-af98-41c9-be01-95d159bdf15f",
   "metadata": {},
   "outputs": [],
   "source": []
  },
  {
   "cell_type": "code",
   "execution_count": null,
   "id": "c42aac20-df54-4c64-88fb-2875252b55ee",
   "metadata": {},
   "outputs": [],
   "source": []
  },
  {
   "cell_type": "markdown",
   "id": "8cfd6786-a8f5-424e-8b42-9ef7e89dd133",
   "metadata": {},
   "source": [
    "## Define a function"
   ]
  },
  {
   "cell_type": "code",
   "execution_count": 5,
   "id": "3b292387-bee0-477a-ac05-87b5f5bda2d8",
   "metadata": {},
   "outputs": [],
   "source": [
    "def banana_shake():\n",
    "    print(\"Peel off the bananas\")\n",
    "    print(\"Add some milk to it\")\n",
    "    print(\"Add some honey and dates\")\n",
    "    print(\"Add some dry fruits\")\n",
    "    print(\"Top up with ice cream\")"
   ]
  },
  {
   "cell_type": "code",
   "execution_count": null,
   "id": "75abbfc0-c995-4eb1-a0ad-de750c2ee255",
   "metadata": {},
   "outputs": [],
   "source": []
  },
  {
   "cell_type": "code",
   "execution_count": 6,
   "id": "1d0d42e9-e4de-48ee-8f56-962192819c61",
   "metadata": {},
   "outputs": [],
   "source": [
    "# calling a function"
   ]
  },
  {
   "cell_type": "code",
   "execution_count": 8,
   "id": "c025e741-14b0-403a-9a1b-35eebb86080c",
   "metadata": {},
   "outputs": [
    {
     "name": "stdout",
     "output_type": "stream",
     "text": [
      "Peel off the bananas\n",
      "Add some milk to it\n",
      "Add some honey and dates\n",
      "Add some dry fruits\n",
      "Top up with ice cream\n"
     ]
    }
   ],
   "source": [
    "banana_shake()"
   ]
  },
  {
   "cell_type": "code",
   "execution_count": 9,
   "id": "109be257-69df-4458-9cb4-febcc5abf2b5",
   "metadata": {},
   "outputs": [
    {
     "name": "stdout",
     "output_type": "stream",
     "text": [
      "Peel off the bananas\n",
      "Add some milk to it\n",
      "Add some honey and dates\n",
      "Add some dry fruits\n",
      "Top up with ice cream\n"
     ]
    }
   ],
   "source": [
    "banana_shake()"
   ]
  },
  {
   "cell_type": "code",
   "execution_count": null,
   "id": "c0fe85d3-9cbc-46dd-82d6-dad6d71b9bac",
   "metadata": {},
   "outputs": [],
   "source": []
  },
  {
   "cell_type": "code",
   "execution_count": null,
   "id": "50f304d9-95de-417a-b851-ac8e3ace1b44",
   "metadata": {},
   "outputs": [],
   "source": []
  },
  {
   "cell_type": "code",
   "execution_count": 10,
   "id": "62fdfd51-183b-4ef8-a6f3-3bad1a136331",
   "metadata": {},
   "outputs": [],
   "source": [
    "# mango_shake()"
   ]
  },
  {
   "cell_type": "code",
   "execution_count": 11,
   "id": "24f297f7-98e1-441f-aa3b-9812017b7210",
   "metadata": {},
   "outputs": [
    {
     "ename": "NameError",
     "evalue": "name 'mango_shake' is not defined",
     "output_type": "error",
     "traceback": [
      "\u001b[0;31m---------------------------------------------------------------------------\u001b[0m",
      "\u001b[0;31mNameError\u001b[0m                                 Traceback (most recent call last)",
      "\u001b[0;32m/var/folders/t5/yhjgrjs907zfp250jyxtw54m0000gn/T/ipykernel_26681/2794658734.py\u001b[0m in \u001b[0;36m<module>\u001b[0;34m\u001b[0m\n\u001b[0;32m----> 1\u001b[0;31m \u001b[0mmango_shake\u001b[0m\u001b[0;34m(\u001b[0m\u001b[0;34m)\u001b[0m\u001b[0;34m\u001b[0m\u001b[0;34m\u001b[0m\u001b[0m\n\u001b[0m",
      "\u001b[0;31mNameError\u001b[0m: name 'mango_shake' is not defined"
     ]
    }
   ],
   "source": [
    "mango_shake()"
   ]
  },
  {
   "cell_type": "code",
   "execution_count": 12,
   "id": "dc7d058a-f879-4778-a6b1-4426149e3324",
   "metadata": {},
   "outputs": [],
   "source": [
    "def mango_shake():\n",
    "    print(\"Peel off the mango\")\n",
    "    print(\"Add some milk to it\")\n",
    "    print(\"Add some honey and dates\")\n",
    "    print(\"Add some dry fruits\")\n",
    "    print(\"Top up with ice cream\")"
   ]
  },
  {
   "cell_type": "code",
   "execution_count": 13,
   "id": "18679e1c-cf3b-4ddd-b71a-444529ca90e0",
   "metadata": {},
   "outputs": [
    {
     "name": "stdout",
     "output_type": "stream",
     "text": [
      "Peel off the mango\n",
      "Add some milk to it\n",
      "Add some honey and dates\n",
      "Add some dry fruits\n",
      "Top up with ice cream\n"
     ]
    }
   ],
   "source": [
    "mango_shake()"
   ]
  },
  {
   "cell_type": "code",
   "execution_count": null,
   "id": "3ad3a1cb-c658-4759-af5c-7ce64f16d1a6",
   "metadata": {},
   "outputs": [],
   "source": []
  },
  {
   "cell_type": "code",
   "execution_count": null,
   "id": "2d2b235b-b57e-4c16-868d-43792c393d33",
   "metadata": {},
   "outputs": [],
   "source": []
  },
  {
   "cell_type": "markdown",
   "id": "ea469a2a-725e-4a8a-a856-4d92538fca2d",
   "metadata": {},
   "source": [
    "## Passing a parameter to the function\n",
    "- Do you want to make different functions for different fruit shakes?"
   ]
  },
  {
   "cell_type": "code",
   "execution_count": 14,
   "id": "b9882c6b-71e6-40ab-b697-53d0488a0167",
   "metadata": {},
   "outputs": [],
   "source": [
    "# fruit shake"
   ]
  },
  {
   "cell_type": "code",
   "execution_count": 15,
   "id": "c468e8a7-c3f9-40b4-8b98-1d0cb297079f",
   "metadata": {},
   "outputs": [],
   "source": [
    "def fruit_shake(fruit_name):\n",
    "    print(\"Peel off the\", fruit_name)\n",
    "    print(\"Add some milk to it\")\n",
    "    print(\"Add some honey and dates\")\n",
    "    print(\"Add some dry fruits\")\n",
    "    print(\"Top up with ice cream\")"
   ]
  },
  {
   "cell_type": "code",
   "execution_count": null,
   "id": "62dc3d1c-cbf8-4bd0-a51f-43c380734eb1",
   "metadata": {},
   "outputs": [],
   "source": []
  },
  {
   "cell_type": "code",
   "execution_count": 17,
   "id": "5a8de2f4-335f-4de4-8a46-fbd2e891d50b",
   "metadata": {},
   "outputs": [
    {
     "name": "stdout",
     "output_type": "stream",
     "text": [
      "Peel off the Banana\n",
      "Add some milk to it\n",
      "Add some honey and dates\n",
      "Add some dry fruits\n",
      "Top up with ice cream\n"
     ]
    }
   ],
   "source": [
    "fruit_shake('Banana')"
   ]
  },
  {
   "cell_type": "code",
   "execution_count": 18,
   "id": "76211b66-ba14-4466-b771-efbd3c0fb0ad",
   "metadata": {},
   "outputs": [
    {
     "name": "stdout",
     "output_type": "stream",
     "text": [
      "Peel off the Mango\n",
      "Add some milk to it\n",
      "Add some honey and dates\n",
      "Add some dry fruits\n",
      "Top up with ice cream\n"
     ]
    }
   ],
   "source": [
    "fruit_shake('Mango')"
   ]
  },
  {
   "cell_type": "code",
   "execution_count": null,
   "id": "9e40f197-a489-4780-9e9d-b22318c9c26a",
   "metadata": {},
   "outputs": [],
   "source": []
  },
  {
   "cell_type": "code",
   "execution_count": 19,
   "id": "92472feb-6122-4112-a4e1-db49caed6b96",
   "metadata": {},
   "outputs": [],
   "source": [
    "# When calling a function always pass the value of params\n",
    "# fruit_shake()"
   ]
  },
  {
   "cell_type": "code",
   "execution_count": 20,
   "id": "6f60c29a-47ae-40b0-8aa3-fa44e0a24301",
   "metadata": {},
   "outputs": [],
   "source": [
    "# fruit_shake() : We can't keep paramaters as empty"
   ]
  },
  {
   "cell_type": "code",
   "execution_count": null,
   "id": "eb2a9334-b13e-49f4-83ee-a0507a504348",
   "metadata": {},
   "outputs": [],
   "source": []
  },
  {
   "cell_type": "code",
   "execution_count": null,
   "id": "3e9fac2d-145b-4588-bc17-43c72cd8276e",
   "metadata": {},
   "outputs": [],
   "source": []
  },
  {
   "cell_type": "code",
   "execution_count": 21,
   "id": "e8c560b4-25fd-44bb-94fb-ab52b73f05a0",
   "metadata": {},
   "outputs": [],
   "source": [
    "# intro"
   ]
  },
  {
   "cell_type": "code",
   "execution_count": 22,
   "id": "06f74ba3-92ac-4354-afa6-52c516ab1af2",
   "metadata": {},
   "outputs": [],
   "source": [
    "def intro(name):\n",
    "    print(\"Hey I am\", name)"
   ]
  },
  {
   "cell_type": "code",
   "execution_count": 23,
   "id": "9e816293-4861-495e-9b48-691cef729887",
   "metadata": {},
   "outputs": [
    {
     "name": "stdout",
     "output_type": "stream",
     "text": [
      "Hey I am Rahul\n"
     ]
    }
   ],
   "source": [
    "intro(\"Rahul\")"
   ]
  },
  {
   "cell_type": "code",
   "execution_count": null,
   "id": "ffb15b1f-a6d1-4ff9-a252-bf84f383e276",
   "metadata": {},
   "outputs": [],
   "source": []
  },
  {
   "cell_type": "code",
   "execution_count": null,
   "id": "e3f5dfa0-db16-4fe2-8545-92294f6a5a45",
   "metadata": {},
   "outputs": [],
   "source": []
  },
  {
   "cell_type": "markdown",
   "id": "b803ae9f-64f1-4b67-85ab-a52f5421902c",
   "metadata": {
    "tags": []
   },
   "source": [
    "## Multiple paramaters\n",
    "- Introduce your family\n",
    "- These arguments follow positions"
   ]
  },
  {
   "cell_type": "code",
   "execution_count": 24,
   "id": "24368b60-0ca7-463b-bce9-3b6a81609b37",
   "metadata": {},
   "outputs": [],
   "source": [
    "def family_intro(father, mother, sibling):\n",
    "    print(\"My father's name is\", father)\n",
    "    print(\"My mother's name is\", mother)\n",
    "    print(\"My sibling's name is\", sibling)"
   ]
  },
  {
   "cell_type": "code",
   "execution_count": 25,
   "id": "2e9e9a31-f885-4530-92f1-d61c164d06d9",
   "metadata": {},
   "outputs": [
    {
     "name": "stdout",
     "output_type": "stream",
     "text": [
      "My father's name is Mr. X\n",
      "My mother's name is Mrs X\n",
      "My sibling's name is Chintu\n"
     ]
    }
   ],
   "source": [
    "family_intro(\"Mr. X\", \"Mrs X\", \"Chintu\")"
   ]
  },
  {
   "cell_type": "code",
   "execution_count": 26,
   "id": "ec1b43ea-2d38-4f80-8bae-77d01ab567dc",
   "metadata": {},
   "outputs": [
    {
     "ename": "TypeError",
     "evalue": "family_intro() missing 1 required positional argument: 'sibling'",
     "output_type": "error",
     "traceback": [
      "\u001b[0;31m---------------------------------------------------------------------------\u001b[0m",
      "\u001b[0;31mTypeError\u001b[0m                                 Traceback (most recent call last)",
      "\u001b[0;32m/var/folders/t5/yhjgrjs907zfp250jyxtw54m0000gn/T/ipykernel_26681/2266954240.py\u001b[0m in \u001b[0;36m<module>\u001b[0;34m\u001b[0m\n\u001b[0;32m----> 1\u001b[0;31m \u001b[0mfamily_intro\u001b[0m\u001b[0;34m(\u001b[0m\u001b[0;34m\"Mr X\"\u001b[0m\u001b[0;34m,\u001b[0m \u001b[0;34m\"Mumma\"\u001b[0m\u001b[0;34m)\u001b[0m\u001b[0;34m\u001b[0m\u001b[0;34m\u001b[0m\u001b[0m\n\u001b[0m",
      "\u001b[0;31mTypeError\u001b[0m: family_intro() missing 1 required positional argument: 'sibling'"
     ]
    }
   ],
   "source": [
    "family_intro(\"Mr X\", \"Mumma\")"
   ]
  },
  {
   "cell_type": "code",
   "execution_count": 29,
   "id": "a0f2057b-c295-473a-9fb5-7648e4ab2e5b",
   "metadata": {},
   "outputs": [],
   "source": [
    "# These parameters are positional"
   ]
  },
  {
   "cell_type": "code",
   "execution_count": 30,
   "id": "eacd117d-20d2-44a6-b6c1-ffdb5f9b24f0",
   "metadata": {},
   "outputs": [
    {
     "name": "stdout",
     "output_type": "stream",
     "text": [
      "My father's name is Chintu\n",
      "My mother's name is Papa\n",
      "My sibling's name is Mumma\n"
     ]
    }
   ],
   "source": [
    "family_intro(\"Chintu\", \"Papa\", \"Mumma\")"
   ]
  },
  {
   "cell_type": "code",
   "execution_count": null,
   "id": "0172fffc-8517-40a1-9375-f88b30fd6a8c",
   "metadata": {},
   "outputs": [],
   "source": []
  },
  {
   "cell_type": "code",
   "execution_count": null,
   "id": "38d91659-bf67-418b-bcf7-b8630f0e0be7",
   "metadata": {},
   "outputs": [],
   "source": []
  },
  {
   "cell_type": "code",
   "execution_count": 28,
   "id": "ab3051cb-bed6-4f2b-8d39-a11c8840573d",
   "metadata": {},
   "outputs": [],
   "source": [
    "# Quiz"
   ]
  },
  {
   "cell_type": "code",
   "execution_count": 32,
   "id": "90691155-fb5c-4449-bf4e-1a94cc000f4a",
   "metadata": {},
   "outputs": [],
   "source": [
    "def func(n):\n",
    "    for i in range(n):\n",
    "        print(\"hello\")"
   ]
  },
  {
   "cell_type": "code",
   "execution_count": 34,
   "id": "377ca38a-1b95-49c7-b008-62a3c6c5577d",
   "metadata": {},
   "outputs": [],
   "source": [
    "# func(3.0)"
   ]
  },
  {
   "cell_type": "code",
   "execution_count": 36,
   "id": "009ad8a0-939e-4571-840a-1489a67354ff",
   "metadata": {},
   "outputs": [],
   "source": [
    "# func(\"Hello\")"
   ]
  },
  {
   "cell_type": "code",
   "execution_count": 38,
   "id": "e778d797-0c59-4af7-b325-e06493b1acf7",
   "metadata": {},
   "outputs": [
    {
     "name": "stdout",
     "output_type": "stream",
     "text": [
      "hello\n",
      "hello\n",
      "hello\n"
     ]
    }
   ],
   "source": [
    "func(3)"
   ]
  },
  {
   "cell_type": "code",
   "execution_count": null,
   "id": "c6d8aef5-0f14-474b-aad3-bf2ba784de2b",
   "metadata": {},
   "outputs": [],
   "source": []
  },
  {
   "cell_type": "code",
   "execution_count": null,
   "id": "acc22f15-acea-4cf5-b4c6-97fb5332bed4",
   "metadata": {},
   "outputs": [],
   "source": []
  },
  {
   "cell_type": "code",
   "execution_count": null,
   "id": "f4191806-f17f-40c0-aed7-5912a1cfc218",
   "metadata": {},
   "outputs": [],
   "source": [
    "# Make a calculator with +, -, *, //, % operations\n",
    "# Ask from user for operations to perform and then print answer \n",
    "# for that operation"
   ]
  },
  {
   "cell_type": "code",
   "execution_count": null,
   "id": "91923b07-9453-483b-8874-35e5d645d66f",
   "metadata": {},
   "outputs": [],
   "source": []
  },
  {
   "cell_type": "code",
   "execution_count": null,
   "id": "dd3549a1-f3c2-4afa-abb7-06a789c6fee7",
   "metadata": {},
   "outputs": [],
   "source": []
  },
  {
   "cell_type": "markdown",
   "id": "29bab29f-342f-479d-a29c-dde58a4d3360",
   "metadata": {},
   "source": [
    "![](../photos/when-i-wrote.jpeg)"
   ]
  },
  {
   "cell_type": "markdown",
   "id": "0b627352-0439-41b9-8313-e73a4e2ecb82",
   "metadata": {},
   "source": [
    "## Docstrings\n",
    "- Should I have Kept some Documentation?\n",
    "- Tell me something about yourself please..."
   ]
  },
  {
   "cell_type": "code",
   "execution_count": 39,
   "id": "0557f012-ef01-4a11-a372-469b0ada6bbb",
   "metadata": {},
   "outputs": [],
   "source": [
    "# add them"
   ]
  },
  {
   "cell_type": "code",
   "execution_count": 40,
   "id": "fc43b924-d478-4222-9ef8-2548e320b30c",
   "metadata": {},
   "outputs": [],
   "source": [
    "# print?"
   ]
  },
  {
   "cell_type": "code",
   "execution_count": 41,
   "id": "c864d441-094e-49fb-aba5-d2b6ed150db4",
   "metadata": {},
   "outputs": [
    {
     "data": {
      "text/plain": [
       "\u001b[0;31mDocstring:\u001b[0m\n",
       "print(value, ..., sep=' ', end='\\n', file=sys.stdout, flush=False)\n",
       "\n",
       "Prints the values to a stream, or to sys.stdout by default.\n",
       "Optional keyword arguments:\n",
       "file:  a file-like object (stream); defaults to the current sys.stdout.\n",
       "sep:   string inserted between values, default a space.\n",
       "end:   string appended after the last value, default a newline.\n",
       "flush: whether to forcibly flush the stream.\n",
       "\u001b[0;31mType:\u001b[0m      builtin_function_or_method\n"
      ]
     },
     "metadata": {},
     "output_type": "display_data"
    }
   ],
   "source": [
    "print?"
   ]
  },
  {
   "cell_type": "code",
   "execution_count": null,
   "id": "d3b4923e-a55e-42f0-9bb6-f6ccbf75af5d",
   "metadata": {},
   "outputs": [],
   "source": []
  },
  {
   "cell_type": "code",
   "execution_count": 42,
   "id": "e1d7741d-727d-4921-8c06-c1041cd65c3a",
   "metadata": {},
   "outputs": [],
   "source": [
    "def add(a, b):\n",
    "    print(a + b)"
   ]
  },
  {
   "cell_type": "code",
   "execution_count": 43,
   "id": "eb38aa8d-5363-409f-9314-64af7d22f8fc",
   "metadata": {},
   "outputs": [
    {
     "name": "stdout",
     "output_type": "stream",
     "text": [
      "7\n"
     ]
    }
   ],
   "source": [
    "add(3, 4)"
   ]
  },
  {
   "cell_type": "code",
   "execution_count": 44,
   "id": "4441bfbb-728a-4ac7-98aa-27b386014b11",
   "metadata": {},
   "outputs": [
    {
     "ename": "TypeError",
     "evalue": "can only concatenate str (not \"int\") to str",
     "output_type": "error",
     "traceback": [
      "\u001b[0;31m---------------------------------------------------------------------------\u001b[0m",
      "\u001b[0;31mTypeError\u001b[0m                                 Traceback (most recent call last)",
      "\u001b[0;32m/var/folders/t5/yhjgrjs907zfp250jyxtw54m0000gn/T/ipykernel_26681/453113987.py\u001b[0m in \u001b[0;36m<module>\u001b[0;34m\u001b[0m\n\u001b[0;32m----> 1\u001b[0;31m \u001b[0madd\u001b[0m\u001b[0;34m(\u001b[0m\u001b[0;34m\"Rahul\"\u001b[0m\u001b[0;34m,\u001b[0m \u001b[0;36m4\u001b[0m\u001b[0;34m)\u001b[0m\u001b[0;34m\u001b[0m\u001b[0;34m\u001b[0m\u001b[0m\n\u001b[0m",
      "\u001b[0;32m/var/folders/t5/yhjgrjs907zfp250jyxtw54m0000gn/T/ipykernel_26681/4215701786.py\u001b[0m in \u001b[0;36madd\u001b[0;34m(a, b)\u001b[0m\n\u001b[1;32m      1\u001b[0m \u001b[0;32mdef\u001b[0m \u001b[0madd\u001b[0m\u001b[0;34m(\u001b[0m\u001b[0ma\u001b[0m\u001b[0;34m,\u001b[0m \u001b[0mb\u001b[0m\u001b[0;34m)\u001b[0m\u001b[0;34m:\u001b[0m\u001b[0;34m\u001b[0m\u001b[0;34m\u001b[0m\u001b[0m\n\u001b[0;32m----> 2\u001b[0;31m     \u001b[0mprint\u001b[0m\u001b[0;34m(\u001b[0m\u001b[0ma\u001b[0m \u001b[0;34m+\u001b[0m \u001b[0mb\u001b[0m\u001b[0;34m)\u001b[0m\u001b[0;34m\u001b[0m\u001b[0;34m\u001b[0m\u001b[0m\n\u001b[0m",
      "\u001b[0;31mTypeError\u001b[0m: can only concatenate str (not \"int\") to str"
     ]
    }
   ],
   "source": [
    "add(\"Rahul\", 4)"
   ]
  },
  {
   "cell_type": "code",
   "execution_count": 45,
   "id": "fdc0f30a-701f-49b1-8ff3-913db5234976",
   "metadata": {},
   "outputs": [
    {
     "data": {
      "text/plain": [
       "\u001b[0;31mSignature:\u001b[0m \u001b[0madd\u001b[0m\u001b[0;34m(\u001b[0m\u001b[0ma\u001b[0m\u001b[0;34m,\u001b[0m \u001b[0mb\u001b[0m\u001b[0;34m)\u001b[0m\u001b[0;34m\u001b[0m\u001b[0;34m\u001b[0m\u001b[0m\n",
       "\u001b[0;31mDocstring:\u001b[0m <no docstring>\n",
       "\u001b[0;31mFile:\u001b[0m      /var/folders/t5/yhjgrjs907zfp250jyxtw54m0000gn/T/ipykernel_26681/4215701786.py\n",
       "\u001b[0;31mType:\u001b[0m      function\n"
      ]
     },
     "metadata": {},
     "output_type": "display_data"
    }
   ],
   "source": [
    "add?"
   ]
  },
  {
   "cell_type": "code",
   "execution_count": null,
   "id": "6bd928fc-7f43-4540-a45c-d9d6e0fbc4bd",
   "metadata": {},
   "outputs": [],
   "source": []
  },
  {
   "cell_type": "code",
   "execution_count": 47,
   "id": "15c2368c-6010-4fab-a1ec-aa8340d24fe8",
   "metadata": {},
   "outputs": [],
   "source": [
    "def add(a, b):\n",
    "    \"\"\"\n",
    "    Add function takes two parameters:\n",
    "    a: You can take any datatype as input here\n",
    "    b: You can take any datatype as input here\n",
    "    \n",
    "    Note: If you are taking string then use string for other parameter as well.\n",
    "    \"\"\"\n",
    "    \n",
    "    print(a + b)"
   ]
  },
  {
   "cell_type": "code",
   "execution_count": 48,
   "id": "98480872-a5dd-4273-a286-02dfa902e4c5",
   "metadata": {},
   "outputs": [
    {
     "data": {
      "text/plain": [
       "\u001b[0;31mSignature:\u001b[0m \u001b[0madd\u001b[0m\u001b[0;34m(\u001b[0m\u001b[0ma\u001b[0m\u001b[0;34m,\u001b[0m \u001b[0mb\u001b[0m\u001b[0;34m)\u001b[0m\u001b[0;34m\u001b[0m\u001b[0;34m\u001b[0m\u001b[0m\n",
       "\u001b[0;31mDocstring:\u001b[0m\n",
       "Add function takes two parameters:\n",
       "a: You can take any datatype as input here\n",
       "b: You can take any datatype as input here\n",
       "\n",
       "Note: If you are taking string then use string for other parameter as well.\n",
       "\u001b[0;31mFile:\u001b[0m      /var/folders/t5/yhjgrjs907zfp250jyxtw54m0000gn/T/ipykernel_26681/253086296.py\n",
       "\u001b[0;31mType:\u001b[0m      function\n"
      ]
     },
     "metadata": {},
     "output_type": "display_data"
    }
   ],
   "source": [
    "add?"
   ]
  },
  {
   "cell_type": "code",
   "execution_count": 50,
   "id": "deee03ec-e710-4e55-9731-193db96665eb",
   "metadata": {},
   "outputs": [
    {
     "name": "stdout",
     "output_type": "stream",
     "text": [
      "Help on function add in module __main__:\n",
      "\n",
      "add(a, b)\n",
      "    Add function takes two parameters:\n",
      "    a: You can take any datatype as input here\n",
      "    b: You can take any datatype as input here\n",
      "    \n",
      "    Note: If you are taking string then use string for other parameter as well.\n",
      "\n"
     ]
    }
   ],
   "source": [
    "help(add)"
   ]
  },
  {
   "cell_type": "code",
   "execution_count": null,
   "id": "508d3227-7f06-42c6-b5e9-04328982dfae",
   "metadata": {},
   "outputs": [],
   "source": []
  },
  {
   "cell_type": "markdown",
   "id": "73a219c5-1701-4093-a0ab-6f860a6cc7a3",
   "metadata": {},
   "source": [
    "# Return a function"
   ]
  },
  {
   "cell_type": "markdown",
   "id": "416afa1d-fb8a-48a5-9ae7-6db357ec81c6",
   "metadata": {},
   "source": [
    "##### print function shows all the values that it prints but actually it doesnt give any value"
   ]
  },
  {
   "cell_type": "code",
   "execution_count": 52,
   "id": "b474c7d7-28d4-4069-bfeb-3113f803d259",
   "metadata": {},
   "outputs": [],
   "source": [
    "# lets revisit print"
   ]
  },
  {
   "cell_type": "code",
   "execution_count": 53,
   "id": "4029b6bb-fc1d-4714-be0a-e8af3322f540",
   "metadata": {},
   "outputs": [
    {
     "name": "stdout",
     "output_type": "stream",
     "text": [
      "Rahul\n"
     ]
    }
   ],
   "source": [
    "print(\"Rahul\")"
   ]
  },
  {
   "cell_type": "code",
   "execution_count": 54,
   "id": "0c15a293-292d-43de-8e57-82ebc6d2e525",
   "metadata": {},
   "outputs": [
    {
     "name": "stdout",
     "output_type": "stream",
     "text": [
      "Rahul\n"
     ]
    },
    {
     "data": {
      "text/plain": [
       "NoneType"
      ]
     },
     "execution_count": 54,
     "metadata": {},
     "output_type": "execute_result"
    }
   ],
   "source": [
    "type(print(\"Rahul\"))"
   ]
  },
  {
   "cell_type": "code",
   "execution_count": 55,
   "id": "2fee148c-24b3-4fe2-b1ff-3b6ce2fb2ec7",
   "metadata": {},
   "outputs": [
    {
     "name": "stdout",
     "output_type": "stream",
     "text": [
      "2\n"
     ]
    },
    {
     "data": {
      "text/plain": [
       "NoneType"
      ]
     },
     "execution_count": 55,
     "metadata": {},
     "output_type": "execute_result"
    }
   ],
   "source": [
    "type(print(2))"
   ]
  },
  {
   "cell_type": "code",
   "execution_count": 56,
   "id": "92895764-a3ec-4081-9840-91ccd54d8427",
   "metadata": {},
   "outputs": [
    {
     "name": "stdout",
     "output_type": "stream",
     "text": [
      "Rahul 2 3\n"
     ]
    },
    {
     "data": {
      "text/plain": [
       "NoneType"
      ]
     },
     "execution_count": 56,
     "metadata": {},
     "output_type": "execute_result"
    }
   ],
   "source": [
    "type(print(\"Rahul\", 2, 3))"
   ]
  },
  {
   "cell_type": "code",
   "execution_count": null,
   "id": "89430f1e-2b6b-4776-b9a9-55b518e677d6",
   "metadata": {},
   "outputs": [],
   "source": []
  },
  {
   "cell_type": "code",
   "execution_count": 57,
   "id": "2679d3b5-dec6-4865-8d42-5edbee2821ac",
   "metadata": {},
   "outputs": [],
   "source": [
    "def add(a, b):\n",
    "    print(a + b)"
   ]
  },
  {
   "cell_type": "code",
   "execution_count": 58,
   "id": "47525d19-feff-468e-81e7-5e359f0be0d3",
   "metadata": {},
   "outputs": [
    {
     "name": "stdout",
     "output_type": "stream",
     "text": [
      "7\n"
     ]
    }
   ],
   "source": [
    "add(3, 4)"
   ]
  },
  {
   "cell_type": "code",
   "execution_count": 59,
   "id": "9eed250a-42e4-4f17-aa2f-59608dc88e55",
   "metadata": {},
   "outputs": [
    {
     "name": "stdout",
     "output_type": "stream",
     "text": [
      "7\n"
     ]
    }
   ],
   "source": [
    "x = add(3, 4)"
   ]
  },
  {
   "cell_type": "code",
   "execution_count": 60,
   "id": "92c22969-b351-4caa-83ce-a648fce5a41a",
   "metadata": {},
   "outputs": [
    {
     "name": "stdout",
     "output_type": "stream",
     "text": [
      "None\n"
     ]
    }
   ],
   "source": [
    "print(x)"
   ]
  },
  {
   "cell_type": "code",
   "execution_count": null,
   "id": "a076a3cf-9ce2-4f22-adb5-657a4ff8ae7d",
   "metadata": {},
   "outputs": [],
   "source": []
  },
  {
   "cell_type": "code",
   "execution_count": 61,
   "id": "432574a3-78a6-4193-86f0-eeee216064ad",
   "metadata": {},
   "outputs": [],
   "source": [
    "def add(a, b):\n",
    "    return a + b"
   ]
  },
  {
   "cell_type": "code",
   "execution_count": 62,
   "id": "253a593a-6e13-48b7-b0a6-3f042a1ad918",
   "metadata": {},
   "outputs": [
    {
     "data": {
      "text/plain": [
       "7"
      ]
     },
     "execution_count": 62,
     "metadata": {},
     "output_type": "execute_result"
    }
   ],
   "source": [
    "add(3, 4)"
   ]
  },
  {
   "cell_type": "code",
   "execution_count": 63,
   "id": "9c81d20b-40b2-4e80-85cb-6e88f1d647c5",
   "metadata": {},
   "outputs": [],
   "source": [
    "x = add(3, 4)"
   ]
  },
  {
   "cell_type": "code",
   "execution_count": 64,
   "id": "c4454eec-8fd3-4405-b1af-6a2826d9c8a2",
   "metadata": {},
   "outputs": [
    {
     "name": "stdout",
     "output_type": "stream",
     "text": [
      "7\n"
     ]
    }
   ],
   "source": [
    "print(x)"
   ]
  },
  {
   "cell_type": "code",
   "execution_count": null,
   "id": "26cb4b89-0482-48b2-8b71-3df029a00a36",
   "metadata": {},
   "outputs": [],
   "source": []
  },
  {
   "cell_type": "code",
   "execution_count": 66,
   "id": "20fede46-cb05-400c-ac6d-0f1534436246",
   "metadata": {},
   "outputs": [],
   "source": [
    "def func():\n",
    "    print(\"This is before return\")\n",
    "    return 4\n",
    "    print(\"This is after return\")"
   ]
  },
  {
   "cell_type": "code",
   "execution_count": 67,
   "id": "70d940c0-c092-44e6-9bdf-5b401d50fb99",
   "metadata": {},
   "outputs": [
    {
     "name": "stdout",
     "output_type": "stream",
     "text": [
      "This is before return\n"
     ]
    },
    {
     "data": {
      "text/plain": [
       "4"
      ]
     },
     "execution_count": 67,
     "metadata": {},
     "output_type": "execute_result"
    }
   ],
   "source": [
    "func()"
   ]
  },
  {
   "cell_type": "code",
   "execution_count": 68,
   "id": "ce2cdea2-2a71-4de4-8cb6-62b640b7f5e3",
   "metadata": {},
   "outputs": [
    {
     "name": "stdout",
     "output_type": "stream",
     "text": [
      "This is before return\n"
     ]
    }
   ],
   "source": [
    "b = func()"
   ]
  },
  {
   "cell_type": "code",
   "execution_count": 69,
   "id": "147371f3-b96e-4b55-9c42-b909ce7875cd",
   "metadata": {},
   "outputs": [
    {
     "name": "stdout",
     "output_type": "stream",
     "text": [
      "4\n"
     ]
    }
   ],
   "source": [
    "print(b)"
   ]
  },
  {
   "cell_type": "code",
   "execution_count": null,
   "id": "b63f2592-59a2-4f45-a438-42062d469191",
   "metadata": {},
   "outputs": [],
   "source": []
  },
  {
   "cell_type": "code",
   "execution_count": 70,
   "id": "938038fe-6ab0-47e3-97d9-b7ada085d5a9",
   "metadata": {},
   "outputs": [],
   "source": [
    "def func1(a, b, c):\n",
    "    return a, b, c"
   ]
  },
  {
   "cell_type": "code",
   "execution_count": 71,
   "id": "73f20efd-b509-4a19-aec4-cbfcf1e6a9ea",
   "metadata": {},
   "outputs": [
    {
     "data": {
      "text/plain": [
       "(1, 2, 3)"
      ]
     },
     "execution_count": 71,
     "metadata": {},
     "output_type": "execute_result"
    }
   ],
   "source": [
    "func1(1, 2, 3)"
   ]
  },
  {
   "cell_type": "code",
   "execution_count": 74,
   "id": "29fcc8fd-f37f-440e-85d5-7bb9ef62b192",
   "metadata": {},
   "outputs": [
    {
     "name": "stdout",
     "output_type": "stream",
     "text": [
      "5\n",
      "9\n",
      "11\n"
     ]
    }
   ],
   "source": [
    "print(add(2, 3))\n",
    "print(add(4, 5))\n",
    "print(add(5, 6))"
   ]
  },
  {
   "cell_type": "code",
   "execution_count": 76,
   "id": "fb6faafc-6b4c-4648-91f9-0b6be636ba71",
   "metadata": {},
   "outputs": [],
   "source": [
    "x, y, z = func1(1, 2, 3)"
   ]
  },
  {
   "cell_type": "code",
   "execution_count": 77,
   "id": "6f710fc2-ce54-4364-887d-93f2d8eaf0a6",
   "metadata": {},
   "outputs": [
    {
     "name": "stdout",
     "output_type": "stream",
     "text": [
      "1\n"
     ]
    }
   ],
   "source": [
    "print(x)"
   ]
  },
  {
   "cell_type": "code",
   "execution_count": null,
   "id": "195382b2-5c48-4e37-980b-cd4a275969de",
   "metadata": {},
   "outputs": [],
   "source": []
  },
  {
   "cell_type": "markdown",
   "id": "fb28d6b2-e3a9-4687-a884-25ed3e700bb7",
   "metadata": {},
   "source": [
    "## Keyworded Arguments"
   ]
  },
  {
   "cell_type": "code",
   "execution_count": 78,
   "id": "9de37875-469b-49b4-bb00-60b2829d18fc",
   "metadata": {},
   "outputs": [],
   "source": [
    "def family_intro(father, mother, sibling):\n",
    "    print(\"My father's name is\", father)\n",
    "    print(\"My mother's name is\", mother)\n",
    "    print(\"My sibling's name is\", sibling)"
   ]
  },
  {
   "cell_type": "code",
   "execution_count": 79,
   "id": "1e10640b-5c96-48ec-9efc-0ee261678008",
   "metadata": {},
   "outputs": [
    {
     "name": "stdout",
     "output_type": "stream",
     "text": [
      "My father's name is Chintu\n",
      "My mother's name is Papa\n",
      "My sibling's name is  Mumma\n"
     ]
    }
   ],
   "source": [
    "family_intro(\"Chintu\", \"Papa\",\" Mumma\")"
   ]
  },
  {
   "cell_type": "code",
   "execution_count": 80,
   "id": "7db724c1-e31c-4699-a582-d68645738112",
   "metadata": {},
   "outputs": [
    {
     "name": "stdout",
     "output_type": "stream",
     "text": [
      "My father's name is Papa\n",
      "My mother's name is Mumma\n",
      "My sibling's name is Chintu\n"
     ]
    }
   ],
   "source": [
    "family_intro(mother = \"Mumma\", father = \"Papa\", sibling = \"Chintu\")"
   ]
  },
  {
   "cell_type": "code",
   "execution_count": null,
   "id": "2bd0b445-6a7f-4d75-adac-f4067a65d7c7",
   "metadata": {},
   "outputs": [],
   "source": []
  },
  {
   "cell_type": "code",
   "execution_count": 81,
   "id": "73607204-3bf3-4618-b8e9-390f90e59bdd",
   "metadata": {},
   "outputs": [
    {
     "name": "stdout",
     "output_type": "stream",
     "text": [
      "My father's name is Papa\n",
      "My mother's name is Mumma\n",
      "My sibling's name is Chintu\n"
     ]
    }
   ],
   "source": [
    "family_intro(\"Papa\", sibling = \"Chintu\", mother = \"Mumma\")"
   ]
  },
  {
   "cell_type": "code",
   "execution_count": 82,
   "id": "5e96f057-f972-4247-9107-f3f31c054b2a",
   "metadata": {},
   "outputs": [
    {
     "ename": "SyntaxError",
     "evalue": "positional argument follows keyword argument (1557223568.py, line 1)",
     "output_type": "error",
     "traceback": [
      "\u001b[0;36m  File \u001b[0;32m\"/var/folders/t5/yhjgrjs907zfp250jyxtw54m0000gn/T/ipykernel_26681/1557223568.py\"\u001b[0;36m, line \u001b[0;32m1\u001b[0m\n\u001b[0;31m    family(sibling = \"Chintu\", \"Mumma\", \"Papa\")\u001b[0m\n\u001b[0m                                              ^\u001b[0m\n\u001b[0;31mSyntaxError\u001b[0m\u001b[0;31m:\u001b[0m positional argument follows keyword argument\n"
     ]
    }
   ],
   "source": [
    "family(sibling = \"Chintu\", \"Mumma\", \"Papa\")"
   ]
  },
  {
   "cell_type": "code",
   "execution_count": 85,
   "id": "42b24bc6-bac0-44c8-b1b2-903d1faa9a9b",
   "metadata": {},
   "outputs": [
    {
     "ename": "SyntaxError",
     "evalue": "positional argument follows keyword argument (77179976.py, line 1)",
     "output_type": "error",
     "traceback": [
      "\u001b[0;36m  File \u001b[0;32m\"/var/folders/t5/yhjgrjs907zfp250jyxtw54m0000gn/T/ipykernel_26681/77179976.py\"\u001b[0;36m, line \u001b[0;32m1\u001b[0m\n\u001b[0;31m    family_intro(mother = \"Mumma\", father = \"Papa\", \"Chintu\")\u001b[0m\n\u001b[0m                                                            ^\u001b[0m\n\u001b[0;31mSyntaxError\u001b[0m\u001b[0;31m:\u001b[0m positional argument follows keyword argument\n"
     ]
    }
   ],
   "source": [
    "family_intro(mother = \"Mumma\", sibling = \"Chintu\", \"Papa\")"
   ]
  },
  {
   "cell_type": "code",
   "execution_count": null,
   "id": "f886c023-266d-49da-b029-6728fb38e350",
   "metadata": {},
   "outputs": [],
   "source": []
  },
  {
   "cell_type": "code",
   "execution_count": 86,
   "id": "ca084b49-a08e-4374-9d2f-2bc19e0589cc",
   "metadata": {},
   "outputs": [],
   "source": [
    "def example(a, b, c, d, e):\n",
    "    return a, b, c, d, e"
   ]
  },
  {
   "cell_type": "code",
   "execution_count": 87,
   "id": "a841b162-9325-4cff-9f2d-47095fbee4d0",
   "metadata": {},
   "outputs": [
    {
     "data": {
      "text/plain": [
       "(2, 3, 4, 5, 6)"
      ]
     },
     "execution_count": 87,
     "metadata": {},
     "output_type": "execute_result"
    }
   ],
   "source": [
    "example(2, 3, 4, 5, 6)"
   ]
  },
  {
   "cell_type": "code",
   "execution_count": 88,
   "id": "88b8c8e7-6659-46a1-99ab-cf40c6cd88fc",
   "metadata": {},
   "outputs": [
    {
     "data": {
      "text/plain": [
       "(2, 4, 'Iron Man', 'Rahul', 'Parle-G')"
      ]
     },
     "execution_count": 88,
     "metadata": {},
     "output_type": "execute_result"
    }
   ],
   "source": [
    "example(2, 4, d = \"Rahul\", c = \"Iron Man\", e = \"Parle-G\")"
   ]
  },
  {
   "cell_type": "code",
   "execution_count": null,
   "id": "631000d1-9fb3-43c4-a135-2f26947f05d1",
   "metadata": {},
   "outputs": [],
   "source": []
  },
  {
   "cell_type": "code",
   "execution_count": 89,
   "id": "91d4c6de-b512-4a65-92cf-7794b34841cc",
   "metadata": {},
   "outputs": [
    {
     "ename": "TypeError",
     "evalue": "family_intro() got multiple values for argument 'father'",
     "output_type": "error",
     "traceback": [
      "\u001b[0;31m---------------------------------------------------------------------------\u001b[0m",
      "\u001b[0;31mTypeError\u001b[0m                                 Traceback (most recent call last)",
      "\u001b[0;32m/var/folders/t5/yhjgrjs907zfp250jyxtw54m0000gn/T/ipykernel_26681/824044035.py\u001b[0m in \u001b[0;36m<module>\u001b[0;34m\u001b[0m\n\u001b[0;32m----> 1\u001b[0;31m \u001b[0mfamily_intro\u001b[0m\u001b[0;34m(\u001b[0m\u001b[0;34m\"Papa\"\u001b[0m\u001b[0;34m,\u001b[0m \u001b[0msibling\u001b[0m \u001b[0;34m=\u001b[0m \u001b[0;34m\"Chintu\"\u001b[0m\u001b[0;34m,\u001b[0m \u001b[0mfather\u001b[0m \u001b[0;34m=\u001b[0m \u001b[0;34m\"papa\"\u001b[0m\u001b[0;34m)\u001b[0m\u001b[0;34m\u001b[0m\u001b[0;34m\u001b[0m\u001b[0m\n\u001b[0m",
      "\u001b[0;31mTypeError\u001b[0m: family_intro() got multiple values for argument 'father'"
     ]
    }
   ],
   "source": [
    "family_intro(\"Papa\", sibling = \"Chintu\", father = \"papa\")"
   ]
  },
  {
   "cell_type": "code",
   "execution_count": null,
   "id": "7cede4cc-401c-4cc0-b214-86df978b85a4",
   "metadata": {},
   "outputs": [],
   "source": []
  },
  {
   "cell_type": "code",
   "execution_count": null,
   "id": "4f571e8f-4ef3-4d18-8554-fdb51fa69916",
   "metadata": {},
   "outputs": [],
   "source": []
  },
  {
   "cell_type": "code",
   "execution_count": null,
   "id": "f62107a9-e8c4-439c-b92c-e5f9a1046365",
   "metadata": {},
   "outputs": [],
   "source": []
  },
  {
   "cell_type": "code",
   "execution_count": null,
   "id": "3b98e42a-296a-4fcc-adcc-f013289a072e",
   "metadata": {},
   "outputs": [],
   "source": []
  },
  {
   "cell_type": "markdown",
   "id": "4abe118c-7d02-4393-8aa8-476b81eeba27",
   "metadata": {},
   "source": [
    "### Default Parameters"
   ]
  },
  {
   "cell_type": "code",
   "execution_count": 90,
   "id": "8395eb6e-82dd-49e7-a1b4-014fd9acd50c",
   "metadata": {},
   "outputs": [
    {
     "data": {
      "text/plain": [
       "\u001b[0;31mDocstring:\u001b[0m\n",
       "print(value, ..., sep=' ', end='\\n', file=sys.stdout, flush=False)\n",
       "\n",
       "Prints the values to a stream, or to sys.stdout by default.\n",
       "Optional keyword arguments:\n",
       "file:  a file-like object (stream); defaults to the current sys.stdout.\n",
       "sep:   string inserted between values, default a space.\n",
       "end:   string appended after the last value, default a newline.\n",
       "flush: whether to forcibly flush the stream.\n",
       "\u001b[0;31mType:\u001b[0m      builtin_function_or_method\n"
      ]
     },
     "metadata": {},
     "output_type": "display_data"
    }
   ],
   "source": [
    "print?"
   ]
  },
  {
   "cell_type": "code",
   "execution_count": null,
   "id": "ab3f2707-950c-4a02-a517-3166f0c23dd0",
   "metadata": {},
   "outputs": [],
   "source": []
  },
  {
   "cell_type": "code",
   "execution_count": 91,
   "id": "92f964bf-2466-4956-8999-8761efabaa56",
   "metadata": {},
   "outputs": [],
   "source": [
    "def passport(name, nationality = \"Indian\"):\n",
    "    print(\"Name is\", name)\n",
    "    print(\"Nationality is\", nationality)"
   ]
  },
  {
   "cell_type": "code",
   "execution_count": 92,
   "id": "9144025c-bdf7-41b9-b602-c61954a98161",
   "metadata": {},
   "outputs": [
    {
     "name": "stdout",
     "output_type": "stream",
     "text": [
      "Name is Rahul\n",
      "Nationality is Indian\n"
     ]
    }
   ],
   "source": [
    "passport(\"Rahul\")"
   ]
  },
  {
   "cell_type": "code",
   "execution_count": null,
   "id": "d2f452f4-6cff-4845-92ed-c2a2e88cc9a9",
   "metadata": {},
   "outputs": [],
   "source": []
  },
  {
   "cell_type": "code",
   "execution_count": 93,
   "id": "f3cbdc46-0a6f-4739-bb25-229170898b6a",
   "metadata": {},
   "outputs": [
    {
     "name": "stdout",
     "output_type": "stream",
     "text": [
      "Name is Rahul\n",
      "Nationality is Netherlands\n"
     ]
    }
   ],
   "source": [
    "passport(\"Rahul\", \"Netherlands\")"
   ]
  },
  {
   "cell_type": "code",
   "execution_count": null,
   "id": "8d10db2b-9b1b-42d6-a3d6-8c159df40e7d",
   "metadata": {},
   "outputs": [],
   "source": []
  },
  {
   "cell_type": "code",
   "execution_count": 95,
   "id": "f792e587-e751-4011-b516-d759c0b2b49a",
   "metadata": {},
   "outputs": [],
   "source": [
    "# passport(nationality=\"Netherlands\", name = \"Rahul\")"
   ]
  },
  {
   "cell_type": "code",
   "execution_count": 96,
   "id": "bc597716-5a15-4d0a-9152-992f2af3ab8e",
   "metadata": {},
   "outputs": [
    {
     "data": {
      "text/plain": [
       "\u001b[0;31mSignature:\u001b[0m \u001b[0mpassport\u001b[0m\u001b[0;34m(\u001b[0m\u001b[0mname\u001b[0m\u001b[0;34m,\u001b[0m \u001b[0mnationality\u001b[0m\u001b[0;34m=\u001b[0m\u001b[0;34m'Indian'\u001b[0m\u001b[0;34m)\u001b[0m\u001b[0;34m\u001b[0m\u001b[0;34m\u001b[0m\u001b[0m\n",
       "\u001b[0;31mDocstring:\u001b[0m <no docstring>\n",
       "\u001b[0;31mFile:\u001b[0m      /var/folders/t5/yhjgrjs907zfp250jyxtw54m0000gn/T/ipykernel_26681/2884542642.py\n",
       "\u001b[0;31mType:\u001b[0m      function\n"
      ]
     },
     "metadata": {},
     "output_type": "display_data"
    }
   ],
   "source": [
    "passport?"
   ]
  },
  {
   "cell_type": "code",
   "execution_count": null,
   "id": "9646a03e-f639-4f8b-81dd-66fbeb2f3152",
   "metadata": {},
   "outputs": [],
   "source": []
  },
  {
   "cell_type": "code",
   "execution_count": 97,
   "id": "3d1fc21b-7878-4144-91ff-b38f927fbba8",
   "metadata": {},
   "outputs": [
    {
     "ename": "SyntaxError",
     "evalue": "non-default argument follows default argument (3499656563.py, line 1)",
     "output_type": "error",
     "traceback": [
      "\u001b[0;36m  File \u001b[0;32m\"/var/folders/t5/yhjgrjs907zfp250jyxtw54m0000gn/T/ipykernel_26681/3499656563.py\"\u001b[0;36m, line \u001b[0;32m1\u001b[0m\n\u001b[0;31m    def multiply(num1=3, num2):\u001b[0m\n\u001b[0m                             ^\u001b[0m\n\u001b[0;31mSyntaxError\u001b[0m\u001b[0;31m:\u001b[0m non-default argument follows default argument\n"
     ]
    }
   ],
   "source": [
    "def multiply(num1=3, num2):\n",
    "    return num1 * num2\n",
    "\n",
    "print(multiply(2, 4))"
   ]
  },
  {
   "cell_type": "code",
   "execution_count": null,
   "id": "bf0cc88c-ed30-4d75-b9f5-85b9c3cf7893",
   "metadata": {},
   "outputs": [],
   "source": []
  },
  {
   "cell_type": "code",
   "execution_count": null,
   "id": "3d615520-cb6b-4b18-91d0-2e906cb8a65d",
   "metadata": {},
   "outputs": [],
   "source": []
  },
  {
   "cell_type": "code",
   "execution_count": null,
   "id": "93679223-1ed2-4461-ad8d-638cda2c8692",
   "metadata": {},
   "outputs": [],
   "source": []
  },
  {
   "cell_type": "markdown",
   "id": "fd4c677a-42ae-47cf-a01d-d6d98e94f1c5",
   "metadata": {},
   "source": [
    "### Scope of Variables"
   ]
  },
  {
   "cell_type": "code",
   "execution_count": 98,
   "id": "5cb5ece2-3295-4dbd-9305-0d3b010ad51f",
   "metadata": {},
   "outputs": [],
   "source": [
    "# Anything here is global scope\n",
    "\n",
    "def kingdom():\n",
    "    king = \"Rahul\"\n",
    "    print(king)\n"
   ]
  },
  {
   "cell_type": "code",
   "execution_count": 100,
   "id": "fd027a61-de91-408f-ae84-20fa6ef60f59",
   "metadata": {},
   "outputs": [
    {
     "name": "stdout",
     "output_type": "stream",
     "text": [
      "Rahul\n"
     ]
    }
   ],
   "source": [
    "kingdom()"
   ]
  },
  {
   "cell_type": "code",
   "execution_count": 102,
   "id": "244684d6-506a-412b-bba6-59b569c292a1",
   "metadata": {},
   "outputs": [],
   "source": [
    "# If we have defined a variable inside a funciton. It doesn't validate outside it."
   ]
  },
  {
   "cell_type": "code",
   "execution_count": null,
   "id": "9f03ef58-adc9-4dc8-aba0-52eef143b11d",
   "metadata": {},
   "outputs": [],
   "source": []
  },
  {
   "cell_type": "code",
   "execution_count": 107,
   "id": "14574ce9-b83d-42a6-ac04-a7a2e600a6d2",
   "metadata": {},
   "outputs": [],
   "source": [
    "# If we have defined a global variable it can be used inside local scope of variable as well."
   ]
  },
  {
   "cell_type": "code",
   "execution_count": 108,
   "id": "43ba2902-ab66-4233-ad9f-1136ddb265f6",
   "metadata": {},
   "outputs": [],
   "source": [
    "king = \"Ashoka\"\n",
    "\n",
    "def kingdom():\n",
    "    print(king)"
   ]
  },
  {
   "cell_type": "code",
   "execution_count": 109,
   "id": "e45ae3e9-ac7f-408e-ba54-df215bdd0343",
   "metadata": {},
   "outputs": [
    {
     "name": "stdout",
     "output_type": "stream",
     "text": [
      "Ashoka\n"
     ]
    }
   ],
   "source": [
    "print(king)"
   ]
  },
  {
   "cell_type": "code",
   "execution_count": 110,
   "id": "25296ac8-2993-4122-b2ad-ef6d3a7cd280",
   "metadata": {},
   "outputs": [
    {
     "name": "stdout",
     "output_type": "stream",
     "text": [
      "Ashoka\n"
     ]
    }
   ],
   "source": [
    "kingdom()"
   ]
  },
  {
   "cell_type": "code",
   "execution_count": null,
   "id": "b74d9228-bac7-48d2-aa29-2455ff1f9088",
   "metadata": {},
   "outputs": [],
   "source": []
  },
  {
   "cell_type": "code",
   "execution_count": 111,
   "id": "6488fb12-5571-46c5-b7ab-3a5d4dc4d587",
   "metadata": {},
   "outputs": [],
   "source": [
    "# Let's define local and global variables"
   ]
  },
  {
   "cell_type": "code",
   "execution_count": 112,
   "id": "b9045afe-ca4d-4ac7-a550-95cbd88ff722",
   "metadata": {},
   "outputs": [],
   "source": [
    "# Global variable\n",
    "king = \"Ashoka\"\n",
    "\n",
    "def kingdom():\n",
    "    king = \"Rahul\"\n",
    "    print(king)\n"
   ]
  },
  {
   "cell_type": "code",
   "execution_count": 113,
   "id": "0ea07963-e673-4a3a-a709-8c6015d68dbf",
   "metadata": {},
   "outputs": [
    {
     "name": "stdout",
     "output_type": "stream",
     "text": [
      "Ashoka\n"
     ]
    }
   ],
   "source": [
    "print(king)"
   ]
  },
  {
   "cell_type": "code",
   "execution_count": 114,
   "id": "2c60796d-02ba-49ed-a552-da3a996ad9e7",
   "metadata": {},
   "outputs": [
    {
     "name": "stdout",
     "output_type": "stream",
     "text": [
      "Rahul\n"
     ]
    }
   ],
   "source": [
    "kingdom()"
   ]
  },
  {
   "cell_type": "code",
   "execution_count": 115,
   "id": "587e7627-d80a-4a8e-95dd-5a45b074c31d",
   "metadata": {},
   "outputs": [
    {
     "name": "stdout",
     "output_type": "stream",
     "text": [
      "Ashoka\n"
     ]
    }
   ],
   "source": [
    "print(king)"
   ]
  },
  {
   "cell_type": "code",
   "execution_count": 116,
   "id": "ef85df7f-7b51-4613-8a1d-5720afea215c",
   "metadata": {},
   "outputs": [],
   "source": [
    "# If we have same variable in local and global scope. Then:\n",
    "# Inside funciton local will be used\n",
    "# Outside function global will be used"
   ]
  },
  {
   "cell_type": "code",
   "execution_count": null,
   "id": "f721540a-cc49-4289-9914-dc433fe98c79",
   "metadata": {},
   "outputs": [],
   "source": []
  },
  {
   "cell_type": "code",
   "execution_count": null,
   "id": "5a765253-837b-478d-954e-51a9a6fb6a18",
   "metadata": {},
   "outputs": [],
   "source": []
  },
  {
   "cell_type": "code",
   "execution_count": 117,
   "id": "b9f806a2-8fed-43c6-a570-97eafbaab35e",
   "metadata": {},
   "outputs": [],
   "source": [
    "# Changing global variable using local scope of function"
   ]
  },
  {
   "cell_type": "code",
   "execution_count": null,
   "id": "4b5b66ba-545d-4e7c-a0b6-3f7b0d5e343b",
   "metadata": {},
   "outputs": [],
   "source": []
  },
  {
   "cell_type": "code",
   "execution_count": 121,
   "id": "7b7a162d-2743-4a58-92be-02e5cbb167f0",
   "metadata": {},
   "outputs": [],
   "source": [
    "# This is global variable\n",
    "king = \"Ashoka\"\n",
    "\n",
    "def kingdom():\n",
    "    # local scope of function\n",
    "    global king\n",
    "    \n",
    "    king = \"Rahul\"\n",
    "    print(king)"
   ]
  },
  {
   "cell_type": "code",
   "execution_count": 122,
   "id": "dd30237c-756d-41d6-8952-e2c1510ca0e7",
   "metadata": {},
   "outputs": [
    {
     "name": "stdout",
     "output_type": "stream",
     "text": [
      "Ashoka\n"
     ]
    }
   ],
   "source": [
    "print(king)"
   ]
  },
  {
   "cell_type": "code",
   "execution_count": 123,
   "id": "f0d97f3d-bd5d-43bb-a757-4adec4aa1e9f",
   "metadata": {},
   "outputs": [
    {
     "name": "stdout",
     "output_type": "stream",
     "text": [
      "Rahul\n"
     ]
    }
   ],
   "source": [
    "kingdom()"
   ]
  },
  {
   "cell_type": "code",
   "execution_count": 124,
   "id": "54cd8d5e-5404-45d0-8e69-63fc5e10b192",
   "metadata": {},
   "outputs": [
    {
     "name": "stdout",
     "output_type": "stream",
     "text": [
      "Rahul\n"
     ]
    }
   ],
   "source": [
    "print(king)"
   ]
  },
  {
   "cell_type": "code",
   "execution_count": null,
   "id": "f0569e23-a029-4e17-bacf-e922a4242e19",
   "metadata": {},
   "outputs": [],
   "source": []
  },
  {
   "cell_type": "code",
   "execution_count": null,
   "id": "597655c1-a200-4c14-baca-23fd1bd7ffc1",
   "metadata": {},
   "outputs": [],
   "source": []
  },
  {
   "cell_type": "code",
   "execution_count": null,
   "id": "f1cbece7-b68b-4881-9dc9-a0ce5e1ebd48",
   "metadata": {},
   "outputs": [],
   "source": []
  },
  {
   "cell_type": "markdown",
   "id": "b84a9c61-e29a-4967-be40-6e9ca9acbf62",
   "metadata": {},
   "source": [
    "### Lambda functions\n",
    "- One liner functions"
   ]
  },
  {
   "cell_type": "code",
   "execution_count": 125,
   "id": "049e1b7c-4e71-4a25-ac7d-a3c7ba775e87",
   "metadata": {},
   "outputs": [],
   "source": [
    "# lambda_function_name = lambda arguments : experssion"
   ]
  },
  {
   "cell_type": "markdown",
   "id": "bb6f24e4-7a49-48e8-9cc1-b6c733ca7862",
   "metadata": {},
   "source": [
    "- lambda is the keyword to create a lambda function\n",
    "- Arguments are the parameters of a function\n",
    "- expression is single line operation"
   ]
  },
  {
   "cell_type": "code",
   "execution_count": null,
   "id": "16ef0a47-2c4e-44c6-898c-f159a69ef5ba",
   "metadata": {},
   "outputs": [],
   "source": []
  },
  {
   "cell_type": "code",
   "execution_count": 126,
   "id": "0824a6f7-164d-498d-8bc0-b4c9c4873005",
   "metadata": {},
   "outputs": [],
   "source": [
    "def random(x):\n",
    "    return x + 10"
   ]
  },
  {
   "cell_type": "code",
   "execution_count": 127,
   "id": "90d349bc-028f-4163-9864-18b12a8db938",
   "metadata": {},
   "outputs": [
    {
     "data": {
      "text/plain": [
       "14"
      ]
     },
     "execution_count": 127,
     "metadata": {},
     "output_type": "execute_result"
    }
   ],
   "source": [
    "random(4)"
   ]
  },
  {
   "cell_type": "code",
   "execution_count": null,
   "id": "dbd1b38a-dd2d-4e1f-81a6-e169849bb563",
   "metadata": {},
   "outputs": [],
   "source": []
  },
  {
   "cell_type": "code",
   "execution_count": 128,
   "id": "10a84956-fdc4-45d6-9194-e6bf990c6752",
   "metadata": {},
   "outputs": [],
   "source": [
    "random = lambda x : x + 13"
   ]
  },
  {
   "cell_type": "code",
   "execution_count": 129,
   "id": "d10151df-9c05-4ee6-b461-4688d6fba537",
   "metadata": {},
   "outputs": [
    {
     "data": {
      "text/plain": [
       "23"
      ]
     },
     "execution_count": 129,
     "metadata": {},
     "output_type": "execute_result"
    }
   ],
   "source": [
    "random(10)"
   ]
  },
  {
   "cell_type": "code",
   "execution_count": null,
   "id": "b82cec09-5c37-442b-b220-4cfaf81a5542",
   "metadata": {},
   "outputs": [],
   "source": []
  },
  {
   "cell_type": "code",
   "execution_count": 130,
   "id": "acb053d7-5c68-4926-92b4-16d1cdfcf6a2",
   "metadata": {},
   "outputs": [],
   "source": [
    "def add(a, b):\n",
    "    return a + b"
   ]
  },
  {
   "cell_type": "code",
   "execution_count": 131,
   "id": "3ad1a68a-aca6-4c2d-b3a6-6c9892361c8b",
   "metadata": {},
   "outputs": [],
   "source": [
    "add = lambda a, b : a + b"
   ]
  },
  {
   "cell_type": "code",
   "execution_count": 132,
   "id": "fe5ff6fa-a18d-46da-bdf6-84d6ad113b85",
   "metadata": {},
   "outputs": [
    {
     "data": {
      "text/plain": [
       "7"
      ]
     },
     "execution_count": 132,
     "metadata": {},
     "output_type": "execute_result"
    }
   ],
   "source": [
    "add(3, 4)"
   ]
  },
  {
   "cell_type": "code",
   "execution_count": 133,
   "id": "3156fe6b-f969-4816-9d87-8704992125d3",
   "metadata": {},
   "outputs": [
    {
     "data": {
      "text/plain": [
       "12"
      ]
     },
     "execution_count": 133,
     "metadata": {},
     "output_type": "execute_result"
    }
   ],
   "source": [
    "(lambda x : x + 10)(2)"
   ]
  },
  {
   "cell_type": "code",
   "execution_count": null,
   "id": "26abda1e-f00f-4e29-9da6-e7153bc45b4a",
   "metadata": {},
   "outputs": [],
   "source": []
  },
  {
   "cell_type": "code",
   "execution_count": 134,
   "id": "b7d79bf0-b217-407b-afb2-4a255c95472d",
   "metadata": {},
   "outputs": [
    {
     "ename": "TypeError",
     "evalue": "<lambda>() takes 0 positional arguments but 1 was given",
     "output_type": "error",
     "traceback": [
      "\u001b[0;31m---------------------------------------------------------------------------\u001b[0m",
      "\u001b[0;31mTypeError\u001b[0m                                 Traceback (most recent call last)",
      "\u001b[0;32m/var/folders/t5/yhjgrjs907zfp250jyxtw54m0000gn/T/ipykernel_26681/2076631052.py\u001b[0m in \u001b[0;36m<module>\u001b[0;34m\u001b[0m\n\u001b[0;32m----> 1\u001b[0;31m \u001b[0;34m(\u001b[0m\u001b[0;32mlambda\u001b[0m \u001b[0;34m:\u001b[0m \u001b[0mprint\u001b[0m\u001b[0;34m(\u001b[0m\u001b[0;34m\"Hello Scaler\"\u001b[0m\u001b[0;34m)\u001b[0m\u001b[0;34m)\u001b[0m\u001b[0;34m(\u001b[0m\u001b[0;34m\"Scaler\"\u001b[0m\u001b[0;34m)\u001b[0m\u001b[0;34m\u001b[0m\u001b[0;34m\u001b[0m\u001b[0m\n\u001b[0m",
      "\u001b[0;31mTypeError\u001b[0m: <lambda>() takes 0 positional arguments but 1 was given"
     ]
    }
   ],
   "source": [
    "(lambda : print(\"Hello Scaler\"))(\"Scaler\")"
   ]
  },
  {
   "cell_type": "code",
   "execution_count": null,
   "id": "f751b4bf-02f8-49a0-ab9b-cc6d7ffd72f1",
   "metadata": {},
   "outputs": [],
   "source": []
  },
  {
   "cell_type": "code",
   "execution_count": 135,
   "id": "83cbf3d1-3120-43c7-b48d-e7c9b8d9f014",
   "metadata": {},
   "outputs": [],
   "source": [
    "func = lambda x : x * 10"
   ]
  },
  {
   "cell_type": "code",
   "execution_count": 136,
   "id": "981207dd-d680-4744-b614-395cb9fe4bbc",
   "metadata": {},
   "outputs": [
    {
     "data": {
      "text/plain": [
       "20"
      ]
     },
     "execution_count": 136,
     "metadata": {},
     "output_type": "execute_result"
    }
   ],
   "source": [
    "func(2)"
   ]
  },
  {
   "cell_type": "code",
   "execution_count": 138,
   "id": "a81d5fb0-dd25-4620-afea-aeb9e36b4883",
   "metadata": {},
   "outputs": [
    {
     "data": {
      "text/plain": [
       "20"
      ]
     },
     "execution_count": 138,
     "metadata": {},
     "output_type": "execute_result"
    }
   ],
   "source": [
    "(lambda x : x * 10)(2)"
   ]
  },
  {
   "cell_type": "code",
   "execution_count": null,
   "id": "9d30b4ef-e5a9-4c2b-a15e-95825f975927",
   "metadata": {},
   "outputs": [],
   "source": []
  },
  {
   "cell_type": "code",
   "execution_count": null,
   "id": "6e587c5a-3d4b-4f5e-88e2-70bcd0cf83ee",
   "metadata": {},
   "outputs": [],
   "source": []
  },
  {
   "cell_type": "code",
   "execution_count": 139,
   "id": "fd541110-e294-48da-a09d-117b6581bc46",
   "metadata": {},
   "outputs": [],
   "source": [
    "# Doubts"
   ]
  },
  {
   "cell_type": "code",
   "execution_count": 147,
   "id": "71636349-ef4c-4c5a-8530-a9091ccb3039",
   "metadata": {},
   "outputs": [
    {
     "ename": "TypeError",
     "evalue": "<lambda>() takes 0 positional arguments but 1 was given",
     "output_type": "error",
     "traceback": [
      "\u001b[0;31m---------------------------------------------------------------------------\u001b[0m",
      "\u001b[0;31mTypeError\u001b[0m                                 Traceback (most recent call last)",
      "\u001b[0;32m/var/folders/t5/yhjgrjs907zfp250jyxtw54m0000gn/T/ipykernel_26681/2076631052.py\u001b[0m in \u001b[0;36m<module>\u001b[0;34m\u001b[0m\n\u001b[0;32m----> 1\u001b[0;31m \u001b[0;34m(\u001b[0m\u001b[0;32mlambda\u001b[0m \u001b[0;34m:\u001b[0m \u001b[0mprint\u001b[0m\u001b[0;34m(\u001b[0m\u001b[0;34m\"Hello Scaler\"\u001b[0m\u001b[0;34m)\u001b[0m\u001b[0;34m)\u001b[0m\u001b[0;34m(\u001b[0m\u001b[0;34m\"Scaler\"\u001b[0m\u001b[0;34m)\u001b[0m\u001b[0;34m\u001b[0m\u001b[0;34m\u001b[0m\u001b[0m\n\u001b[0m",
      "\u001b[0;31mTypeError\u001b[0m: <lambda>() takes 0 positional arguments but 1 was given"
     ]
    }
   ],
   "source": [
    "(lambda : print(\"Hello Scaler\"))(\"Scaler\")"
   ]
  },
  {
   "cell_type": "code",
   "execution_count": 144,
   "id": "02d3586a-55cd-4b20-b5eb-e999732b9eb3",
   "metadata": {},
   "outputs": [],
   "source": [
    "def hey():\n",
    "    print(\"Hello Scaler\")"
   ]
  },
  {
   "cell_type": "code",
   "execution_count": 146,
   "id": "3ffbf720-ad28-4196-9722-dc31a7888215",
   "metadata": {},
   "outputs": [
    {
     "ename": "TypeError",
     "evalue": "hey() takes 0 positional arguments but 1 was given",
     "output_type": "error",
     "traceback": [
      "\u001b[0;31m---------------------------------------------------------------------------\u001b[0m",
      "\u001b[0;31mTypeError\u001b[0m                                 Traceback (most recent call last)",
      "\u001b[0;32m/var/folders/t5/yhjgrjs907zfp250jyxtw54m0000gn/T/ipykernel_26681/649381519.py\u001b[0m in \u001b[0;36m<module>\u001b[0;34m\u001b[0m\n\u001b[0;32m----> 1\u001b[0;31m \u001b[0mhey\u001b[0m\u001b[0;34m(\u001b[0m\u001b[0;34m\"Scaler\"\u001b[0m\u001b[0;34m)\u001b[0m\u001b[0;34m\u001b[0m\u001b[0;34m\u001b[0m\u001b[0m\n\u001b[0m",
      "\u001b[0;31mTypeError\u001b[0m: hey() takes 0 positional arguments but 1 was given"
     ]
    }
   ],
   "source": [
    "hey(\"Scaler\")"
   ]
  },
  {
   "cell_type": "code",
   "execution_count": null,
   "id": "36bdab35-4ced-4f63-8020-4f10856c24a6",
   "metadata": {},
   "outputs": [],
   "source": []
  },
  {
   "cell_type": "code",
   "execution_count": null,
   "id": "813a049d-efb4-418f-92bb-721acee108bb",
   "metadata": {},
   "outputs": [],
   "source": []
  },
  {
   "cell_type": "code",
   "execution_count": null,
   "id": "400b661d-5a97-44fc-bd01-ae5825977ebf",
   "metadata": {},
   "outputs": [],
   "source": []
  },
  {
   "cell_type": "code",
   "execution_count": null,
   "id": "dd4bbd22-d4cf-44d8-8731-7b06d4e815d3",
   "metadata": {},
   "outputs": [],
   "source": []
  }
 ],
 "metadata": {
  "kernelspec": {
   "display_name": "Python 3 (ipykernel)",
   "language": "python",
   "name": "python3"
  },
  "language_info": {
   "codemirror_mode": {
    "name": "ipython",
    "version": 3
   },
   "file_extension": ".py",
   "mimetype": "text/x-python",
   "name": "python",
   "nbconvert_exporter": "python",
   "pygments_lexer": "ipython3",
   "version": "3.9.7"
  }
 },
 "nbformat": 4,
 "nbformat_minor": 5
}
