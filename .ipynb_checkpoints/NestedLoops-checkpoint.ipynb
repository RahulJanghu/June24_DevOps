{
 "cells": [
  {
   "cell_type": "markdown",
   "id": "c9b803d4-128c-488d-88fa-59d803dc9ac9",
   "metadata": {},
   "source": [
    "### Take input as n and print:"
   ]
  },
  {
   "cell_type": "code",
   "execution_count": 1,
   "id": "4aed3150-dee5-41b6-aafa-da0d255ef371",
   "metadata": {},
   "outputs": [],
   "source": [
    "# n = 4\n",
    "# # # #"
   ]
  },
  {
   "cell_type": "code",
   "execution_count": 2,
   "id": "64e7b570-5ce7-462c-9ac3-3f59dea870e9",
   "metadata": {},
   "outputs": [],
   "source": [
    "# Q.1 --> Print 4 # in a single line"
   ]
  },
  {
   "cell_type": "code",
   "execution_count": 3,
   "id": "6584e6b3-9243-44ee-8517-9c68fcadf4d6",
   "metadata": {},
   "outputs": [],
   "source": [
    "# Q.2 --> Question: Write a loop to print the following numbers -> 1,4,7,10,13,16"
   ]
  },
  {
   "cell_type": "code",
   "execution_count": 5,
   "id": "98569b68-67ef-4d1d-b606-ce8035c34108",
   "metadata": {},
   "outputs": [
    {
     "name": "stdout",
     "output_type": "stream",
     "text": [
      "#\n",
      "#\n",
      "#\n",
      "#\n"
     ]
    }
   ],
   "source": [
    "for i in range(4):\n",
    "    print(\"#\")"
   ]
  },
  {
   "cell_type": "code",
   "execution_count": 6,
   "id": "63f7c8c6-c171-437b-8e9c-08a4cee41af5",
   "metadata": {},
   "outputs": [
    {
     "name": "stdout",
     "output_type": "stream",
     "text": [
      "# # # # "
     ]
    }
   ],
   "source": [
    "for i in range(4):\n",
    "    print(\"#\", end=\" \")"
   ]
  },
  {
   "cell_type": "code",
   "execution_count": 10,
   "id": "78853a2b-b565-42de-8459-d9bb9d4f2cd2",
   "metadata": {},
   "outputs": [
    {
     "name": "stdin",
     "output_type": "stream",
     "text": [
      " 5\n"
     ]
    },
    {
     "name": "stdout",
     "output_type": "stream",
     "text": [
      "# # # # # "
     ]
    }
   ],
   "source": [
    "n = int(input())\n",
    "\n",
    "for i in range(n):\n",
    "    print(\"#\", end=\" \")"
   ]
  },
  {
   "cell_type": "code",
   "execution_count": 14,
   "id": "10de7c0f-d1af-45d9-91a1-0caa657dbfc8",
   "metadata": {},
   "outputs": [
    {
     "name": "stdout",
     "output_type": "stream",
     "text": [
      "1, 4, 7, 10, 13, 16, "
     ]
    }
   ],
   "source": [
    "for i in range(1, 17, 3):\n",
    "    print(i, end=\", \")"
   ]
  },
  {
   "cell_type": "code",
   "execution_count": 19,
   "id": "697b3a03-6bbe-456f-956b-2f0a38b51318",
   "metadata": {},
   "outputs": [
    {
     "name": "stdout",
     "output_type": "stream",
     "text": [
      "1, 4, 7, 10, 13, 16\n"
     ]
    }
   ],
   "source": [
    "n = 16\n",
    "\n",
    "for i in range(1, n + 1, 3):\n",
    "    if i == n:\n",
    "        print(i)\n",
    "    else:\n",
    "        print(i, end=\", \")"
   ]
  },
  {
   "cell_type": "code",
   "execution_count": null,
   "id": "2a0762e7-4152-4215-a085-5779052d3307",
   "metadata": {},
   "outputs": [],
   "source": []
  },
  {
   "cell_type": "code",
   "execution_count": null,
   "id": "c6afecd1-634e-4c66-a7d8-6ae5d15a7ba6",
   "metadata": {},
   "outputs": [],
   "source": []
  },
  {
   "cell_type": "markdown",
   "id": "a48580a5-e383-42f1-ad3c-e2c879a6ff36",
   "metadata": {},
   "source": [
    "### Jump Statements\n",
    "- Pass\n",
    "- Continue\n",
    "- Break"
   ]
  },
  {
   "cell_type": "code",
   "execution_count": 20,
   "id": "5b3fd276-86de-4fc7-9fc7-c3eb0980c8a5",
   "metadata": {},
   "outputs": [],
   "source": [
    "# Pass is just a proxy to a block of code"
   ]
  },
  {
   "cell_type": "code",
   "execution_count": 22,
   "id": "477282f6-19dc-40f2-8dd1-1c1630e4e17e",
   "metadata": {},
   "outputs": [],
   "source": [
    "if True:\n",
    "    pass # represents an empty block / statement in Python"
   ]
  },
  {
   "cell_type": "code",
   "execution_count": 25,
   "id": "3f20c89e-45eb-4456-989c-e9e3325ba883",
   "metadata": {},
   "outputs": [
    {
     "name": "stdout",
     "output_type": "stream",
     "text": [
      "0\n",
      "1\n",
      "2\n",
      "3\n",
      "4\n"
     ]
    }
   ],
   "source": [
    "for i in range(5):\n",
    "    if i == 3:\n",
    "        pass\n",
    "    print(i)"
   ]
  },
  {
   "cell_type": "code",
   "execution_count": null,
   "id": "cb006f35-d45f-4ede-9061-dd47dba72807",
   "metadata": {},
   "outputs": [],
   "source": []
  },
  {
   "cell_type": "code",
   "execution_count": 26,
   "id": "3b827405-b821-482b-9942-4c0e76b88cb5",
   "metadata": {},
   "outputs": [],
   "source": [
    "# Continue: Rest of the code for this iteration gets skipped"
   ]
  },
  {
   "cell_type": "code",
   "execution_count": 28,
   "id": "6c392e02-db47-4682-b580-7c3cf5716cdd",
   "metadata": {},
   "outputs": [
    {
     "name": "stdout",
     "output_type": "stream",
     "text": [
      "0\n",
      "1\n",
      "2\n",
      "4\n"
     ]
    }
   ],
   "source": [
    "for i in range(5):\n",
    "    if i == 3:\n",
    "        continue\n",
    "    print(i)"
   ]
  },
  {
   "cell_type": "code",
   "execution_count": 32,
   "id": "a11acf7e-bfc5-4629-81f7-8e703c0bfe63",
   "metadata": {},
   "outputs": [
    {
     "name": "stdout",
     "output_type": "stream",
     "text": [
      "0 Loan alloyted\n",
      "1 Loan alloyted\n",
      "2 Loan alloyted\n",
      "3 Loan alloyted\n",
      "4 Loan alloyted\n",
      "5 Loan alloyted\n",
      "6 Loan alloyted\n",
      "7 Loan alloyted\n",
      "8 Loan alloyted\n",
      "9 Loan alloyted\n"
     ]
    }
   ],
   "source": [
    "for i in range(10):\n",
    "    print(i, \"Loan alloyted\")"
   ]
  },
  {
   "cell_type": "code",
   "execution_count": 33,
   "id": "153755f6-a94d-4050-89b5-82d85009e7c8",
   "metadata": {},
   "outputs": [
    {
     "name": "stdout",
     "output_type": "stream",
     "text": [
      "0 Loan alloyted\n",
      "1 Loan alloyted\n",
      "2 Loan alloyted\n",
      "4 Loan alloyted\n",
      "5 Loan alloyted\n",
      "6 Loan alloyted\n",
      "7 Loan alloyted\n",
      "8 Loan alloyted\n",
      "9 Loan alloyted\n"
     ]
    }
   ],
   "source": [
    "for i in range(10):\n",
    "    if i == 3:\n",
    "        continue\n",
    "    print(i, \"Loan alloyted\")"
   ]
  },
  {
   "cell_type": "code",
   "execution_count": null,
   "id": "b9c3f673-62a0-4eeb-afbf-c4b1a2714c60",
   "metadata": {},
   "outputs": [],
   "source": []
  },
  {
   "cell_type": "code",
   "execution_count": null,
   "id": "95927e3d-5793-4a81-b8e2-e652f4460f73",
   "metadata": {},
   "outputs": [],
   "source": []
  },
  {
   "cell_type": "code",
   "execution_count": null,
   "id": "b6055571-3a4b-4662-b052-e076bd4d072a",
   "metadata": {},
   "outputs": [],
   "source": []
  },
  {
   "cell_type": "code",
   "execution_count": 30,
   "id": "557935a3-2705-40d1-9f4b-0c5d7ab7bca9",
   "metadata": {},
   "outputs": [],
   "source": [
    "class Students:\n",
    "    pass\n",
    "class Teacher:\n",
    "    pass\n",
    "class Staff:\n",
    "    pass\n",
    "    "
   ]
  },
  {
   "cell_type": "code",
   "execution_count": null,
   "id": "839da45c-46c8-44fe-8251-c50165b91480",
   "metadata": {},
   "outputs": [],
   "source": []
  },
  {
   "cell_type": "code",
   "execution_count": null,
   "id": "fcb1df1e-f401-4dc3-967d-038416cde0fc",
   "metadata": {},
   "outputs": [],
   "source": []
  },
  {
   "cell_type": "code",
   "execution_count": 34,
   "id": "01d5a47f-0052-4a40-bd06-638ffc98ba6c",
   "metadata": {},
   "outputs": [],
   "source": [
    "# Quiz"
   ]
  },
  {
   "cell_type": "code",
   "execution_count": 35,
   "id": "141c5391-868f-4c3e-8f3b-eaf6c0fe8408",
   "metadata": {},
   "outputs": [
    {
     "name": "stdout",
     "output_type": "stream",
     "text": [
      "1\n",
      "2\n",
      "4\n",
      "5\n"
     ]
    }
   ],
   "source": [
    "x = 0\n",
    "while x < 5:\n",
    "    x += 1\n",
    "    if x == 3:\n",
    "        continue\n",
    "    print(x)"
   ]
  },
  {
   "cell_type": "code",
   "execution_count": null,
   "id": "577fbce1-8003-4d1c-92ab-6c77a5777f40",
   "metadata": {},
   "outputs": [],
   "source": []
  },
  {
   "cell_type": "code",
   "execution_count": 36,
   "id": "cd079e8d-918d-4e41-bf48-a9bf31b65ddb",
   "metadata": {},
   "outputs": [],
   "source": [
    "# Break: is used to break out of the loop"
   ]
  },
  {
   "cell_type": "code",
   "execution_count": 37,
   "id": "95e4ea66-2236-4960-8304-8c297556ab51",
   "metadata": {},
   "outputs": [
    {
     "name": "stdout",
     "output_type": "stream",
     "text": [
      "0 Loan alloyted\n",
      "1 Loan alloyted\n",
      "2 Loan alloyted\n",
      "3 Loan alloyted\n",
      "4 Loan alloyted\n",
      "5 Loan alloyted\n",
      "6 Loan alloyted\n",
      "7 Loan alloyted\n",
      "8 Loan alloyted\n",
      "9 Loan alloyted\n"
     ]
    }
   ],
   "source": [
    "for i in range(10):\n",
    "    print(i, \"Loan alloyted\")"
   ]
  },
  {
   "cell_type": "code",
   "execution_count": 38,
   "id": "5710a2a3-b0a0-40a9-812a-43c2fd7af135",
   "metadata": {},
   "outputs": [
    {
     "name": "stdout",
     "output_type": "stream",
     "text": [
      "0 Loan alloyted\n",
      "1 Loan alloyted\n",
      "2 Loan alloyted\n"
     ]
    }
   ],
   "source": [
    "for i in range(10):\n",
    "    if i == 3:\n",
    "        break\n",
    "    print(i, \"Loan alloyted\")"
   ]
  },
  {
   "cell_type": "code",
   "execution_count": null,
   "id": "9dddaf46-a1f4-4bc9-9c3f-70a4864f76f8",
   "metadata": {},
   "outputs": [],
   "source": []
  },
  {
   "cell_type": "code",
   "execution_count": 40,
   "id": "fb4b84d5-7e5d-4603-a853-944997c6813e",
   "metadata": {},
   "outputs": [
    {
     "name": "stdout",
     "output_type": "stream",
     "text": [
      "0 Loan alloyted\n",
      "1 Loan alloyted\n",
      "2 Loan alloyted\n",
      "Hey rest of the people may move to next counter. Let me handle this one 3\n"
     ]
    }
   ],
   "source": [
    "for i in range(10):\n",
    "    if i == 3:\n",
    "        print(\"Hey rest of the people may move to next counter. Let me handle this one\", 3)\n",
    "        break\n",
    "    print(i, \"Loan alloyted\")"
   ]
  },
  {
   "cell_type": "code",
   "execution_count": null,
   "id": "83b4f0d5-05f4-4c50-80c7-ce4ac9e91814",
   "metadata": {},
   "outputs": [],
   "source": []
  },
  {
   "cell_type": "code",
   "execution_count": null,
   "id": "6389db15-c031-426c-8749-b4d1b47010f8",
   "metadata": {},
   "outputs": [],
   "source": []
  },
  {
   "cell_type": "code",
   "execution_count": 41,
   "id": "481f62ee-39f1-44d9-ae41-d97e98e27d94",
   "metadata": {},
   "outputs": [],
   "source": [
    "# Quiz"
   ]
  },
  {
   "cell_type": "code",
   "execution_count": 42,
   "id": "676e56fe-7021-4869-8859-fe728499e0ae",
   "metadata": {},
   "outputs": [
    {
     "name": "stdout",
     "output_type": "stream",
     "text": [
      "1\n",
      "2\n",
      "Loop finished\n"
     ]
    }
   ],
   "source": [
    "x = 0\n",
    "while x < 5:\n",
    "    x += 1\n",
    "    if x == 3:\n",
    "        break\n",
    "    print(x)\n",
    "print(\"Loop finished\")"
   ]
  },
  {
   "cell_type": "code",
   "execution_count": null,
   "id": "d1d7617a-eef7-4bee-a5e7-0eabd61673c7",
   "metadata": {},
   "outputs": [],
   "source": []
  },
  {
   "cell_type": "code",
   "execution_count": 43,
   "id": "2d25bef8-9c89-4671-838d-6bd0eb590a4b",
   "metadata": {},
   "outputs": [
    {
     "name": "stdout",
     "output_type": "stream",
     "text": [
      "0\n",
      "1\n",
      "2\n",
      "3\n",
      "4\n"
     ]
    }
   ],
   "source": [
    "count = 0\n",
    "while True:\n",
    "    if count == 5:\n",
    "        break\n",
    "    print(count)\n",
    "    count += 1"
   ]
  },
  {
   "cell_type": "code",
   "execution_count": null,
   "id": "7e54b7ae-5297-43da-b812-3eeb93cf571d",
   "metadata": {},
   "outputs": [],
   "source": []
  },
  {
   "cell_type": "markdown",
   "id": "1fe189b3-1888-4e2c-bb04-b253c0bf5289",
   "metadata": {},
   "source": [
    "### Question:\n",
    "- Write a program that continuously asks the user to provide an input number\n",
    "- The program should stop only when the user provides 5.\n",
    "- Once the user provides 5, the program should print the number of times an input was provided.\n",
    "- Assume that the user always provides a number."
   ]
  },
  {
   "cell_type": "code",
   "execution_count": null,
   "id": "a096e158-7d06-4567-92d7-0a8cdd84a8f7",
   "metadata": {},
   "outputs": [],
   "source": []
  },
  {
   "cell_type": "code",
   "execution_count": 46,
   "id": "db5b642d-5704-4287-8263-ce2a1826a9b6",
   "metadata": {},
   "outputs": [
    {
     "name": "stdin",
     "output_type": "stream",
     "text": [
      " 1\n",
      " 3\n",
      " 6\n",
      " 5\n"
     ]
    },
    {
     "name": "stdout",
     "output_type": "stream",
     "text": [
      "Total inputs are: 4\n"
     ]
    }
   ],
   "source": [
    "count = 0\n",
    "while True:\n",
    "    n = int(input())\n",
    "    count += 1\n",
    "    if n == 5:\n",
    "        break\n",
    "        \n",
    "print(\"Total inputs are:\", count)"
   ]
  },
  {
   "cell_type": "code",
   "execution_count": null,
   "id": "2ef985af-c7f5-4e60-9719-e491b972c7ec",
   "metadata": {},
   "outputs": [],
   "source": []
  },
  {
   "cell_type": "code",
   "execution_count": null,
   "id": "c0e9855d-a6a7-42ad-ae8c-71e002e66674",
   "metadata": {},
   "outputs": [],
   "source": []
  },
  {
   "cell_type": "code",
   "execution_count": null,
   "id": "f8d29510-4f16-4c4b-9b9c-fe2d0f656d47",
   "metadata": {},
   "outputs": [],
   "source": []
  },
  {
   "cell_type": "markdown",
   "id": "fc4c2bd8-fa38-4c82-b14a-acfb775960b5",
   "metadata": {},
   "source": [
    "### Problem"
   ]
  },
  {
   "cell_type": "code",
   "execution_count": 47,
   "id": "187562ea-7870-4716-9ac8-3a919ec44f35",
   "metadata": {},
   "outputs": [],
   "source": [
    "# N = 4\n",
    "\n",
    "# # # #\n",
    "# # # #\n",
    "# # # #\n",
    "# # # #"
   ]
  },
  {
   "cell_type": "code",
   "execution_count": null,
   "id": "83223c52-20e4-4d87-ae2c-e9316e8af1b4",
   "metadata": {},
   "outputs": [],
   "source": []
  },
  {
   "cell_type": "code",
   "execution_count": 49,
   "id": "2ad4e332-2693-4fa2-955a-94e8d75bc2c0",
   "metadata": {},
   "outputs": [],
   "source": [
    "# Let's try to print one row"
   ]
  },
  {
   "cell_type": "code",
   "execution_count": 50,
   "id": "640d39ee-0465-494b-9a62-7a37d123c8c3",
   "metadata": {},
   "outputs": [
    {
     "name": "stdout",
     "output_type": "stream",
     "text": [
      "# # # # "
     ]
    }
   ],
   "source": [
    "for i in range(4):\n",
    "    print(\"#\", end=\" \")"
   ]
  },
  {
   "cell_type": "code",
   "execution_count": null,
   "id": "9a32daa0-4417-46ac-bd32-b5ecfab5d11c",
   "metadata": {},
   "outputs": [],
   "source": []
  },
  {
   "cell_type": "code",
   "execution_count": 51,
   "id": "dce6c5b5-0874-42bd-8127-da3ff1ca30c5",
   "metadata": {},
   "outputs": [],
   "source": [
    "# Print 4 rows"
   ]
  },
  {
   "cell_type": "code",
   "execution_count": 54,
   "id": "5cb81ae7-b576-4b3c-b9b4-fcbb17d9e320",
   "metadata": {},
   "outputs": [
    {
     "name": "stdout",
     "output_type": "stream",
     "text": [
      "# # # # \n",
      "# # # # \n",
      "# # # # \n",
      "# # # # "
     ]
    }
   ],
   "source": [
    "for i in range(4):\n",
    "    print(\"#\", end=\" \")\n",
    "print()\n",
    "\n",
    "for i in range(4):\n",
    "    print(\"#\", end=\" \")\n",
    "print()\n",
    "\n",
    "for i in range(4):\n",
    "    print(\"#\", end=\" \")\n",
    "print()\n",
    "\n",
    "for i in range(4):\n",
    "    print(\"#\", end=\" \")"
   ]
  },
  {
   "cell_type": "code",
   "execution_count": null,
   "id": "424e2aa0-b70e-4323-962c-cd49ddb7124a",
   "metadata": {},
   "outputs": [],
   "source": []
  },
  {
   "cell_type": "code",
   "execution_count": null,
   "id": "c9ca068d-73ae-4000-be5d-7de6402d33d0",
   "metadata": {},
   "outputs": [],
   "source": []
  },
  {
   "cell_type": "markdown",
   "id": "b7edafe0-d67b-44bb-adab-6fca36e03383",
   "metadata": {},
   "source": [
    "### Nested for loop"
   ]
  },
  {
   "cell_type": "code",
   "execution_count": 57,
   "id": "c3f65eb5-129b-4a76-ae8d-0a7f1a19b17a",
   "metadata": {},
   "outputs": [
    {
     "name": "stdout",
     "output_type": "stream",
     "text": [
      "# # # # \n",
      "# # # # \n",
      "# # # # \n",
      "# # # # \n"
     ]
    }
   ],
   "source": [
    "for i in range(4):\n",
    "    for j in range(4):\n",
    "        print(\"#\", end=\" \")\n",
    "    print()"
   ]
  },
  {
   "cell_type": "code",
   "execution_count": null,
   "id": "81c67573-df41-436f-b4c2-afbaccd6f085",
   "metadata": {},
   "outputs": [],
   "source": []
  },
  {
   "cell_type": "code",
   "execution_count": 58,
   "id": "e10ad26e-7a65-43f8-940d-b78d9785b15c",
   "metadata": {},
   "outputs": [
    {
     "name": "stdout",
     "output_type": "stream",
     "text": [
      "# # # # # \n",
      "# # # # # \n",
      "# # # # # \n",
      "# # # # # \n",
      "# # # # # \n"
     ]
    }
   ],
   "source": [
    "for i in range(5):\n",
    "    for j in range(5):\n",
    "        print(\"#\", end=\" \")\n",
    "    print()"
   ]
  },
  {
   "cell_type": "code",
   "execution_count": 59,
   "id": "47eeaf99-1288-449e-acea-d783e4227d13",
   "metadata": {},
   "outputs": [
    {
     "name": "stdout",
     "output_type": "stream",
     "text": [
      "# # # \n",
      "# # # \n",
      "# # # \n",
      "# # # \n",
      "# # # \n"
     ]
    }
   ],
   "source": [
    "for row in range(5):\n",
    "    for col in range(3):\n",
    "        print(\"#\", end=\" \")\n",
    "    print()"
   ]
  },
  {
   "cell_type": "code",
   "execution_count": null,
   "id": "3911bea1-db06-485d-b8d8-29db853d5734",
   "metadata": {},
   "outputs": [],
   "source": []
  },
  {
   "cell_type": "code",
   "execution_count": 63,
   "id": "bb5436a4-a854-4d1d-9d1a-d9810a9d0450",
   "metadata": {},
   "outputs": [
    {
     "name": "stdin",
     "output_type": "stream",
     "text": [
      " 2\n",
      " 3\n"
     ]
    },
    {
     "name": "stdout",
     "output_type": "stream",
     "text": [
      "# # # \n",
      "# # # \n"
     ]
    }
   ],
   "source": [
    "n = int(input())\n",
    "m = int(input())\n",
    "\n",
    "for i in range(n):\n",
    "    for j in range(m):\n",
    "        print(\"#\", end=\" \")\n",
    "    print()"
   ]
  },
  {
   "cell_type": "code",
   "execution_count": null,
   "id": "d2712ea8-aefd-4aa6-b9fb-2af7c4d6103c",
   "metadata": {},
   "outputs": [],
   "source": []
  },
  {
   "cell_type": "code",
   "execution_count": 65,
   "id": "afe990e4-c83b-48ff-9b59-6531a245f83c",
   "metadata": {},
   "outputs": [
    {
     "name": "stdout",
     "output_type": "stream",
     "text": [
      "0 0\n",
      "0 1\n",
      "1 0\n",
      "1 1\n",
      "2 0\n",
      "2 1\n"
     ]
    }
   ],
   "source": [
    "for i in range(3):\n",
    "    for j in range(2):\n",
    "        print(i, j)"
   ]
  },
  {
   "cell_type": "code",
   "execution_count": null,
   "id": "d7d57cce-0918-450b-91ea-536d018f4d47",
   "metadata": {},
   "outputs": [],
   "source": []
  },
  {
   "cell_type": "code",
   "execution_count": 67,
   "id": "2a391527-167c-44cf-b00b-121d7f52d326",
   "metadata": {},
   "outputs": [],
   "source": [
    "# Quiz"
   ]
  },
  {
   "cell_type": "code",
   "execution_count": 69,
   "id": "c0e41f3a-5186-4d88-9d64-437646e010f1",
   "metadata": {},
   "outputs": [
    {
     "name": "stdout",
     "output_type": "stream",
     "text": [
      "* * * \n",
      "* * \n",
      "* \n"
     ]
    }
   ],
   "source": [
    "for i in range(3):\n",
    "    for j in range(i, 3):\n",
    "        print(\"*\", end=\" \")\n",
    "    print()"
   ]
  },
  {
   "cell_type": "code",
   "execution_count": 70,
   "id": "0a11aaee-64e3-4ecf-a1bc-2ffcec392c7c",
   "metadata": {},
   "outputs": [
    {
     "name": "stdout",
     "output_type": "stream",
     "text": [
      "* \n",
      "* * \n",
      "* * * \n"
     ]
    }
   ],
   "source": [
    "for i in range(1, 4):\n",
    "    for j in range(i):\n",
    "        print(\"*\", end=\" \")\n",
    "    print()"
   ]
  },
  {
   "cell_type": "code",
   "execution_count": null,
   "id": "84dfcd86-a9c1-4dce-aaac-739b18aa443f",
   "metadata": {},
   "outputs": [],
   "source": []
  },
  {
   "cell_type": "code",
   "execution_count": 74,
   "id": "dcbae732-e611-4da1-8386-284583c30d42",
   "metadata": {},
   "outputs": [
    {
     "name": "stdout",
     "output_type": "stream",
     "text": [
      "* \n",
      "* * \n",
      "* * * \n"
     ]
    }
   ],
   "source": [
    "for i in range(1, 4):\n",
    "    for j in range(i):\n",
    "        print(\"*\", end=\" \")\n",
    "    print()"
   ]
  },
  {
   "cell_type": "code",
   "execution_count": null,
   "id": "7d426bb3-0a57-4dec-9ac6-5e81dff43c21",
   "metadata": {},
   "outputs": [],
   "source": []
  },
  {
   "cell_type": "code",
   "execution_count": null,
   "id": "55d9cb7b-4ac0-4a68-9385-b48adc4908f2",
   "metadata": {},
   "outputs": [],
   "source": []
  },
  {
   "cell_type": "code",
   "execution_count": null,
   "id": "56519189-f8f8-4738-9cc4-a20866bb2d4d",
   "metadata": {},
   "outputs": [],
   "source": []
  },
  {
   "cell_type": "code",
   "execution_count": null,
   "id": "26cedf28-9cc7-43fd-96e2-e69940ea7285",
   "metadata": {},
   "outputs": [],
   "source": []
  },
  {
   "cell_type": "code",
   "execution_count": 68,
   "id": "529e983d-c5d0-44cc-a6c2-0a0cde3cc896",
   "metadata": {},
   "outputs": [],
   "source": [
    "# This is specific for matrix questions only:\n",
    "# Outer loop is responsible for no of rows\n",
    "# Inner loop is responsible for no of columns"
   ]
  },
  {
   "cell_type": "code",
   "execution_count": null,
   "id": "4b7f78c5-757c-46e2-8a83-bd11349eb189",
   "metadata": {},
   "outputs": [],
   "source": []
  },
  {
   "cell_type": "code",
   "execution_count": null,
   "id": "bc73bcaf-b91a-4bae-ae1a-6c5e07c3d466",
   "metadata": {},
   "outputs": [],
   "source": []
  },
  {
   "cell_type": "markdown",
   "id": "2684b8f1-f55b-4a77-b8a7-8d1b83ef01d8",
   "metadata": {},
   "source": [
    "### GCD"
   ]
  },
  {
   "cell_type": "code",
   "execution_count": 84,
   "id": "9ce9323a-f513-4894-945b-72a9b03cec9f",
   "metadata": {},
   "outputs": [],
   "source": [
    "A = 5\n",
    "B = 10\n"
   ]
  },
  {
   "cell_type": "code",
   "execution_count": 85,
   "id": "de832e98-a030-4236-826d-4e60f89ac4b5",
   "metadata": {},
   "outputs": [
    {
     "name": "stdout",
     "output_type": "stream",
     "text": [
      "4\n"
     ]
    }
   ],
   "source": [
    "print(min(41, 6, 4))"
   ]
  },
  {
   "cell_type": "code",
   "execution_count": 86,
   "id": "a95ae966-c12c-4032-ab06-21e5f14bb220",
   "metadata": {},
   "outputs": [],
   "source": [
    "# How to find factors of a number A"
   ]
  },
  {
   "cell_type": "code",
   "execution_count": 88,
   "id": "df079b1a-ac1b-41ec-a7a1-5d2e661d11bc",
   "metadata": {},
   "outputs": [
    {
     "name": "stdout",
     "output_type": "stream",
     "text": [
      "1\n",
      "5\n"
     ]
    }
   ],
   "source": [
    "for i in range(1, A + 1):\n",
    "    if A % i == 0:\n",
    "        print(i)"
   ]
  },
  {
   "cell_type": "code",
   "execution_count": 89,
   "id": "6cd81f3e-8fb3-4e77-a8f2-6dcf6a988749",
   "metadata": {},
   "outputs": [
    {
     "name": "stdout",
     "output_type": "stream",
     "text": [
      "5 10\n"
     ]
    }
   ],
   "source": [
    "print(A, B)"
   ]
  },
  {
   "cell_type": "code",
   "execution_count": null,
   "id": "177abba4-2f78-4122-9d9e-d0d586a4ade3",
   "metadata": {},
   "outputs": [],
   "source": []
  },
  {
   "cell_type": "code",
   "execution_count": 90,
   "id": "0f52be1f-5dcd-4e1d-8d7f-c905cae6b5d7",
   "metadata": {},
   "outputs": [],
   "source": [
    "# How to get all common factors of A and B"
   ]
  },
  {
   "cell_type": "code",
   "execution_count": 92,
   "id": "042209fd-dcaf-422c-a0e6-0942c4cac5d4",
   "metadata": {},
   "outputs": [
    {
     "name": "stdout",
     "output_type": "stream",
     "text": [
      "1\n",
      "2\n",
      "3\n",
      "4\n",
      "5\n"
     ]
    }
   ],
   "source": [
    "A = 5\n",
    "B = 10\n",
    "n = min(A, B)\n",
    "\n",
    "for i in range(1, n+1):\n",
    "    print(i)"
   ]
  },
  {
   "cell_type": "code",
   "execution_count": 94,
   "id": "e735559a-ffdf-4a98-87ab-831c66b3768d",
   "metadata": {},
   "outputs": [
    {
     "name": "stdout",
     "output_type": "stream",
     "text": [
      "1\n",
      "5\n"
     ]
    }
   ],
   "source": [
    "A = 5\n",
    "B = 10\n",
    "n = min(A, B)\n",
    "\n",
    "for i in range(1, n+1):\n",
    "    if A % i == 0 and B % i == 0:\n",
    "        print(i)"
   ]
  },
  {
   "cell_type": "code",
   "execution_count": 97,
   "id": "200d56b6-8132-4cff-8f7f-733a89320274",
   "metadata": {},
   "outputs": [
    {
     "name": "stdout",
     "output_type": "stream",
     "text": [
      "1\n",
      "5\n"
     ]
    }
   ],
   "source": [
    "A = 5\n",
    "B = 10\n",
    "n = min(A, B)\n",
    "\n",
    "for i in range(1, n+1):\n",
    "    if A % i == 0 and B % i == 0:\n",
    "        print(i)"
   ]
  },
  {
   "cell_type": "code",
   "execution_count": 98,
   "id": "a74c165f-2b19-40eb-86d3-edebe358d90e",
   "metadata": {},
   "outputs": [],
   "source": [
    "# Reverse the range and get all common factors"
   ]
  },
  {
   "cell_type": "code",
   "execution_count": 107,
   "id": "738e3363-7310-4896-a768-5a15f983e19e",
   "metadata": {},
   "outputs": [
    {
     "name": "stdin",
     "output_type": "stream",
     "text": [
      " 51\n",
      " 17\n"
     ]
    },
    {
     "name": "stdout",
     "output_type": "stream",
     "text": [
      "17\n"
     ]
    }
   ],
   "source": [
    "A = int(input())\n",
    "B = int(input())\n",
    "n = min(A, B)\n",
    "\n",
    "for i in range(n, 0, -1):\n",
    "    if A % i == 0 and B % i == 0:\n",
    "        print(i)\n",
    "        break"
   ]
  },
  {
   "cell_type": "code",
   "execution_count": null,
   "id": "ac42ed9e-3399-4d20-bb8d-c95097b8198c",
   "metadata": {},
   "outputs": [],
   "source": []
  },
  {
   "cell_type": "code",
   "execution_count": null,
   "id": "7c2bd618-de0f-4e42-8c58-bc5f61785eab",
   "metadata": {},
   "outputs": [],
   "source": []
  },
  {
   "cell_type": "code",
   "execution_count": null,
   "id": "6315482a-6cf6-4dac-ae6c-59537c8d52fd",
   "metadata": {},
   "outputs": [],
   "source": []
  },
  {
   "cell_type": "code",
   "execution_count": null,
   "id": "8902da64-4e4a-4fa7-bae3-424416fca26d",
   "metadata": {},
   "outputs": [],
   "source": []
  },
  {
   "cell_type": "code",
   "execution_count": null,
   "id": "a3002adb-05f7-4894-b56d-5782d9568236",
   "metadata": {},
   "outputs": [],
   "source": []
  },
  {
   "cell_type": "code",
   "execution_count": null,
   "id": "ed08020b-16ec-4642-8c42-0abccc37a5f3",
   "metadata": {},
   "outputs": [],
   "source": []
  },
  {
   "cell_type": "code",
   "execution_count": null,
   "id": "3f7e73f6-d1b9-484b-9c6a-00b4ea3af4d0",
   "metadata": {},
   "outputs": [],
   "source": []
  }
 ],
 "metadata": {
  "kernelspec": {
   "display_name": "Python 3 (ipykernel)",
   "language": "python",
   "name": "python3"
  },
  "language_info": {
   "codemirror_mode": {
    "name": "ipython",
    "version": 3
   },
   "file_extension": ".py",
   "mimetype": "text/x-python",
   "name": "python",
   "nbconvert_exporter": "python",
   "pygments_lexer": "ipython3",
   "version": "3.9.7"
  }
 },
 "nbformat": 4,
 "nbformat_minor": 5
}
