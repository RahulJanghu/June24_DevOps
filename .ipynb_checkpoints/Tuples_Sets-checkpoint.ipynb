{
 "cells": [
  {
   "cell_type": "markdown",
   "id": "0aed686b-f06a-4b8a-8efb-4d9730117511",
   "metadata": {},
   "source": [
    "## Tuples\n",
    "- Tuples are used to hold together multiple objects. Think of them as similar to lists, but without the extensive functionality that the list class gives you. One major feature of tuples is that they are immutable like strings i.e. you cannot modify tuples.\n",
    "\n",
    "- Tuples are defined by specifying items separated by commas within an optional pair of parentheses.\n",
    "\n",
    "- Tuples are usually used in cases where a statement or a user-defined function can safely assume that the collection of values i.e. the tuple of values used will **not change**."
   ]
  },
  {
   "cell_type": "code",
   "execution_count": 1,
   "id": "0ae8ded0-bf8b-4d6a-bc0e-bd87dbf9e896",
   "metadata": {},
   "outputs": [],
   "source": [
    "# The intern at ISRO"
   ]
  },
  {
   "cell_type": "code",
   "execution_count": 2,
   "id": "ba31866c-9be8-41d2-b4cc-90fde61c2594",
   "metadata": {},
   "outputs": [],
   "source": [
    "planets = [\"Mercury\", \"Venus\", \"Earth\", \"Mars\", \"Jupiter\", \"Saturn\"]"
   ]
  },
  {
   "cell_type": "code",
   "execution_count": 3,
   "id": "eceee206-5e38-4b2f-84f3-0448638c0a8f",
   "metadata": {},
   "outputs": [
    {
     "data": {
      "text/plain": [
       "'Earth'"
      ]
     },
     "execution_count": 3,
     "metadata": {},
     "output_type": "execute_result"
    }
   ],
   "source": [
    "planets[2]"
   ]
  },
  {
   "cell_type": "code",
   "execution_count": null,
   "id": "f897359c-c6b7-4dcb-af72-bcc64c02e01e",
   "metadata": {},
   "outputs": [],
   "source": []
  },
  {
   "cell_type": "code",
   "execution_count": 4,
   "id": "fe377001-e6cc-46ee-aca7-277041df722b",
   "metadata": {},
   "outputs": [],
   "source": [
    "# Lists are mutable"
   ]
  },
  {
   "cell_type": "code",
   "execution_count": 5,
   "id": "9333542d-f342-4a67-866c-2165ac0e00b8",
   "metadata": {},
   "outputs": [],
   "source": [
    "planets[2] = 'Rahul'"
   ]
  },
  {
   "cell_type": "code",
   "execution_count": 6,
   "id": "34fbcc67-181a-4d1e-8886-9ed079a6941f",
   "metadata": {},
   "outputs": [
    {
     "data": {
      "text/plain": [
       "['Mercury', 'Venus', 'Rahul', 'Mars', 'Jupiter', 'Saturn']"
      ]
     },
     "execution_count": 6,
     "metadata": {},
     "output_type": "execute_result"
    }
   ],
   "source": [
    "planets"
   ]
  },
  {
   "cell_type": "code",
   "execution_count": null,
   "id": "ce6db0f7-8af6-44f2-9ab7-06840f5717e5",
   "metadata": {},
   "outputs": [],
   "source": []
  },
  {
   "cell_type": "code",
   "execution_count": 7,
   "id": "e92dac79-38d4-43ab-90eb-70a7ce706f3c",
   "metadata": {},
   "outputs": [],
   "source": [
    "# Tuples are Immutable"
   ]
  },
  {
   "cell_type": "code",
   "execution_count": 8,
   "id": "bd4d189b-55e1-45c9-9379-aefbf3724b4e",
   "metadata": {},
   "outputs": [],
   "source": [
    "planets = (\"Mercury\", \"Venus\", \"Earth\", \"Mars\", \"Jupiter\", \"Saturn\")"
   ]
  },
  {
   "cell_type": "code",
   "execution_count": 9,
   "id": "2f0eb47d-025f-4995-8909-f3fb8f6fbdbe",
   "metadata": {},
   "outputs": [
    {
     "data": {
      "text/plain": [
       "tuple"
      ]
     },
     "execution_count": 9,
     "metadata": {},
     "output_type": "execute_result"
    }
   ],
   "source": [
    "type(planets)"
   ]
  },
  {
   "cell_type": "code",
   "execution_count": null,
   "id": "0503cd83-0e9f-47ed-8bd5-6336962ffdb7",
   "metadata": {},
   "outputs": [],
   "source": []
  },
  {
   "cell_type": "code",
   "execution_count": 10,
   "id": "cf509010-cb2e-417a-a14c-70c2e7f5da0d",
   "metadata": {},
   "outputs": [],
   "source": [
    "# Making tuple"
   ]
  },
  {
   "cell_type": "code",
   "execution_count": 11,
   "id": "9f1d4cc2-f323-4dd5-bea0-70b7f7c4da0d",
   "metadata": {},
   "outputs": [],
   "source": [
    "# 1st way"
   ]
  },
  {
   "cell_type": "code",
   "execution_count": 12,
   "id": "0ed42f4e-a775-4700-9b9a-52458f7a595a",
   "metadata": {},
   "outputs": [
    {
     "data": {
      "text/plain": [
       "32"
      ]
     },
     "execution_count": 12,
     "metadata": {},
     "output_type": "execute_result"
    }
   ],
   "source": [
    "(2 + 5 * 4) + (5 * 2)"
   ]
  },
  {
   "cell_type": "code",
   "execution_count": 13,
   "id": "fcd7c1cf-b760-4294-93c9-c9a60b8b00d7",
   "metadata": {},
   "outputs": [],
   "source": [
    "t = ()"
   ]
  },
  {
   "cell_type": "code",
   "execution_count": 14,
   "id": "6ffc1ef9-52bc-420a-8c53-ea2791b99d1e",
   "metadata": {},
   "outputs": [
    {
     "data": {
      "text/plain": [
       "tuple"
      ]
     },
     "execution_count": 14,
     "metadata": {},
     "output_type": "execute_result"
    }
   ],
   "source": [
    "type(t)"
   ]
  },
  {
   "cell_type": "code",
   "execution_count": null,
   "id": "35a24eab-71d1-4c30-8cd2-e394ef566890",
   "metadata": {},
   "outputs": [],
   "source": []
  },
  {
   "cell_type": "code",
   "execution_count": 15,
   "id": "bee8c67e-76e7-4749-aff4-cd727e87e058",
   "metadata": {},
   "outputs": [],
   "source": [
    "# 2nd way"
   ]
  },
  {
   "cell_type": "code",
   "execution_count": 16,
   "id": "0688a5fc-b0ee-4df7-be4f-7ec384f93a70",
   "metadata": {},
   "outputs": [],
   "source": [
    "t1 = (2)"
   ]
  },
  {
   "cell_type": "code",
   "execution_count": 17,
   "id": "d6c3c5d7-795c-4111-a4da-1f528aa679d1",
   "metadata": {},
   "outputs": [
    {
     "data": {
      "text/plain": [
       "int"
      ]
     },
     "execution_count": 17,
     "metadata": {},
     "output_type": "execute_result"
    }
   ],
   "source": [
    "type(t1)"
   ]
  },
  {
   "cell_type": "code",
   "execution_count": 18,
   "id": "4d7e3159-bcff-43f5-9842-a086d419b047",
   "metadata": {},
   "outputs": [],
   "source": [
    "t1 = (2,)"
   ]
  },
  {
   "cell_type": "code",
   "execution_count": 19,
   "id": "fe0d9fb1-12ba-48b0-84c4-1776cb4fe26a",
   "metadata": {},
   "outputs": [
    {
     "data": {
      "text/plain": [
       "tuple"
      ]
     },
     "execution_count": 19,
     "metadata": {},
     "output_type": "execute_result"
    }
   ],
   "source": [
    "type(t1)"
   ]
  },
  {
   "cell_type": "code",
   "execution_count": null,
   "id": "2f93af34-2726-489a-ad53-f7d747220b3a",
   "metadata": {},
   "outputs": [],
   "source": []
  },
  {
   "cell_type": "code",
   "execution_count": 20,
   "id": "451be24d-4c21-4c9d-a60b-486c92f0683a",
   "metadata": {},
   "outputs": [],
   "source": [
    "# 3rd way"
   ]
  },
  {
   "cell_type": "code",
   "execution_count": 21,
   "id": "e9885c60-d47c-409d-99e4-fcb648021a88",
   "metadata": {},
   "outputs": [],
   "source": [
    "l = [1, 2, 3]"
   ]
  },
  {
   "cell_type": "code",
   "execution_count": 22,
   "id": "26ac0cc0-8c43-422d-a6a8-1ea8b37d86b0",
   "metadata": {},
   "outputs": [],
   "source": [
    "t = tuple()"
   ]
  },
  {
   "cell_type": "code",
   "execution_count": 23,
   "id": "67c2e58e-3889-4b88-9920-bc0de923eec6",
   "metadata": {},
   "outputs": [
    {
     "data": {
      "text/plain": [
       "()"
      ]
     },
     "execution_count": 23,
     "metadata": {},
     "output_type": "execute_result"
    }
   ],
   "source": [
    "t"
   ]
  },
  {
   "cell_type": "code",
   "execution_count": 24,
   "id": "84128ecd-dca5-4f35-8ec3-39864ea57d3b",
   "metadata": {},
   "outputs": [],
   "source": [
    "t3 = tuple(l)"
   ]
  },
  {
   "cell_type": "code",
   "execution_count": 25,
   "id": "43e84bf4-e1bd-49b8-be19-35adf2514b23",
   "metadata": {},
   "outputs": [
    {
     "data": {
      "text/plain": [
       "(1, 2, 3)"
      ]
     },
     "execution_count": 25,
     "metadata": {},
     "output_type": "execute_result"
    }
   ],
   "source": [
    "t3"
   ]
  },
  {
   "cell_type": "code",
   "execution_count": 26,
   "id": "9540c909-55db-4e22-a4ad-9be150b28d49",
   "metadata": {},
   "outputs": [
    {
     "data": {
      "text/plain": [
       "tuple"
      ]
     },
     "execution_count": 26,
     "metadata": {},
     "output_type": "execute_result"
    }
   ],
   "source": [
    "type(t3)"
   ]
  },
  {
   "cell_type": "code",
   "execution_count": 27,
   "id": "4b150f59-c143-4a85-a0be-30b6dea93beb",
   "metadata": {},
   "outputs": [
    {
     "name": "stdout",
     "output_type": "stream",
     "text": [
      "H\n",
      "e\n",
      "l\n",
      "l\n",
      "o\n"
     ]
    }
   ],
   "source": [
    "s = \"Hello\"\n",
    "\n",
    "for i in s:\n",
    "    print(i)"
   ]
  },
  {
   "cell_type": "code",
   "execution_count": 28,
   "id": "453ab4a6-f06b-4c20-9ce9-0dab41b2487b",
   "metadata": {},
   "outputs": [],
   "source": [
    "t4 = tuple(s)"
   ]
  },
  {
   "cell_type": "code",
   "execution_count": 29,
   "id": "e99b1eb9-b020-46b6-9b97-625a71548f6c",
   "metadata": {},
   "outputs": [
    {
     "data": {
      "text/plain": [
       "('H', 'e', 'l', 'l', 'o')"
      ]
     },
     "execution_count": 29,
     "metadata": {},
     "output_type": "execute_result"
    }
   ],
   "source": [
    "t4"
   ]
  },
  {
   "cell_type": "code",
   "execution_count": 30,
   "id": "bbc4861a-9d04-4995-9be5-b212ce48a21a",
   "metadata": {},
   "outputs": [
    {
     "data": {
      "text/plain": [
       "'Hello'"
      ]
     },
     "execution_count": 30,
     "metadata": {},
     "output_type": "execute_result"
    }
   ],
   "source": [
    "\"\".join(t4)"
   ]
  },
  {
   "cell_type": "code",
   "execution_count": null,
   "id": "1463c3b3-a9d3-43c4-9fad-8d093ddda907",
   "metadata": {},
   "outputs": [],
   "source": []
  },
  {
   "cell_type": "code",
   "execution_count": 31,
   "id": "fb3df83c-9123-4210-9de9-7e28b76d4137",
   "metadata": {},
   "outputs": [],
   "source": [
    "# Iteration, indexing and slicing"
   ]
  },
  {
   "cell_type": "code",
   "execution_count": 32,
   "id": "630a839c-465c-4842-a31c-a27fefa1b5be",
   "metadata": {},
   "outputs": [],
   "source": [
    "# Ordered --> Indexing"
   ]
  },
  {
   "cell_type": "code",
   "execution_count": 33,
   "id": "f4a4e408-6238-4f52-b6ae-3d75d3b66247",
   "metadata": {},
   "outputs": [
    {
     "data": {
      "text/plain": [
       "('Mercury', 'Venus', 'Earth', 'Mars', 'Jupiter', 'Saturn')"
      ]
     },
     "execution_count": 33,
     "metadata": {},
     "output_type": "execute_result"
    }
   ],
   "source": [
    "planets"
   ]
  },
  {
   "cell_type": "code",
   "execution_count": 34,
   "id": "9633a042-6d28-4c29-8406-6b3b8ed712e4",
   "metadata": {},
   "outputs": [
    {
     "data": {
      "text/plain": [
       "'Earth'"
      ]
     },
     "execution_count": 34,
     "metadata": {},
     "output_type": "execute_result"
    }
   ],
   "source": [
    "planets[2]"
   ]
  },
  {
   "cell_type": "code",
   "execution_count": 35,
   "id": "07722148-16f6-468f-8c57-a47c9f0a217e",
   "metadata": {},
   "outputs": [
    {
     "ename": "TypeError",
     "evalue": "'tuple' object does not support item assignment",
     "output_type": "error",
     "traceback": [
      "\u001b[0;31m---------------------------------------------------------------------------\u001b[0m",
      "\u001b[0;31mTypeError\u001b[0m                                 Traceback (most recent call last)",
      "\u001b[0;32m/var/folders/t5/yhjgrjs907zfp250jyxtw54m0000gn/T/ipykernel_81004/726823221.py\u001b[0m in \u001b[0;36m<module>\u001b[0;34m\u001b[0m\n\u001b[0;32m----> 1\u001b[0;31m \u001b[0mplanets\u001b[0m\u001b[0;34m[\u001b[0m\u001b[0;36m2\u001b[0m\u001b[0;34m]\u001b[0m \u001b[0;34m=\u001b[0m \u001b[0;34m\"Rahul\"\u001b[0m\u001b[0;34m\u001b[0m\u001b[0;34m\u001b[0m\u001b[0m\n\u001b[0m",
      "\u001b[0;31mTypeError\u001b[0m: 'tuple' object does not support item assignment"
     ]
    }
   ],
   "source": [
    "planets[2] = \"Rahul\""
   ]
  },
  {
   "cell_type": "code",
   "execution_count": null,
   "id": "8d4203d6-3504-4760-ac04-1ab1f1494da0",
   "metadata": {},
   "outputs": [],
   "source": []
  },
  {
   "cell_type": "code",
   "execution_count": 36,
   "id": "f57816e5-ec6e-4bfd-aa27-436118df48eb",
   "metadata": {},
   "outputs": [
    {
     "data": {
      "text/plain": [
       "('H', 'e', 'l', 'l', 'o')"
      ]
     },
     "execution_count": 36,
     "metadata": {},
     "output_type": "execute_result"
    }
   ],
   "source": [
    "t4"
   ]
  },
  {
   "cell_type": "code",
   "execution_count": 37,
   "id": "a4356606-39d3-46a1-acdf-b0d631d3bdc2",
   "metadata": {},
   "outputs": [],
   "source": [
    "l2 = list(t4)"
   ]
  },
  {
   "cell_type": "code",
   "execution_count": 38,
   "id": "4994e8c5-2963-4fe7-a6da-e27b690d285d",
   "metadata": {},
   "outputs": [
    {
     "data": {
      "text/plain": [
       "['H', 'e', 'l', 'l', 'o']"
      ]
     },
     "execution_count": 38,
     "metadata": {},
     "output_type": "execute_result"
    }
   ],
   "source": [
    "l2"
   ]
  },
  {
   "cell_type": "code",
   "execution_count": 39,
   "id": "f1386645-acc9-423d-b8be-21ebf1898cb2",
   "metadata": {},
   "outputs": [
    {
     "data": {
      "text/plain": [
       "('H', 'e', 'l', 'l', 'o')"
      ]
     },
     "execution_count": 39,
     "metadata": {},
     "output_type": "execute_result"
    }
   ],
   "source": [
    "t4"
   ]
  },
  {
   "cell_type": "code",
   "execution_count": 42,
   "id": "3a53f142-3f45-42cc-8955-e9e9f849e1c7",
   "metadata": {},
   "outputs": [
    {
     "data": {
      "text/plain": [
       "(1, 2, 3)"
      ]
     },
     "execution_count": 42,
     "metadata": {},
     "output_type": "execute_result"
    }
   ],
   "source": [
    "t3"
   ]
  },
  {
   "cell_type": "code",
   "execution_count": 43,
   "id": "f8bdfcb5-6652-4a3d-8359-6258d741a8c4",
   "metadata": {},
   "outputs": [
    {
     "data": {
      "text/plain": [
       "(3, 2, 1)"
      ]
     },
     "execution_count": 43,
     "metadata": {},
     "output_type": "execute_result"
    }
   ],
   "source": [
    "t3[::-1]"
   ]
  },
  {
   "cell_type": "code",
   "execution_count": 44,
   "id": "bde92478-8c48-45db-af69-29ab3c775c30",
   "metadata": {},
   "outputs": [
    {
     "data": {
      "text/plain": [
       "(1, 2, 3)"
      ]
     },
     "execution_count": 44,
     "metadata": {},
     "output_type": "execute_result"
    }
   ],
   "source": [
    "t3"
   ]
  },
  {
   "cell_type": "code",
   "execution_count": 46,
   "id": "67e2b3a1-3e0a-46ac-bc9f-6febf779ac0d",
   "metadata": {},
   "outputs": [
    {
     "data": {
      "text/plain": [
       "(1, 2)"
      ]
     },
     "execution_count": 46,
     "metadata": {},
     "output_type": "execute_result"
    }
   ],
   "source": [
    "t3[:2]"
   ]
  },
  {
   "cell_type": "code",
   "execution_count": null,
   "id": "9913c177-d893-4ca6-923a-a29591371a22",
   "metadata": {},
   "outputs": [],
   "source": []
  },
  {
   "cell_type": "code",
   "execution_count": 47,
   "id": "8f3602c7-ecb9-43d9-9069-124c6f28f2cd",
   "metadata": {},
   "outputs": [],
   "source": [
    "# Count and index"
   ]
  },
  {
   "cell_type": "code",
   "execution_count": 48,
   "id": "163a50ee-6e07-4ec0-96b3-1aad4e32fdad",
   "metadata": {},
   "outputs": [
    {
     "data": {
      "text/plain": [
       "(1, 2, 3)"
      ]
     },
     "execution_count": 48,
     "metadata": {},
     "output_type": "execute_result"
    }
   ],
   "source": [
    "t3"
   ]
  },
  {
   "cell_type": "code",
   "execution_count": 50,
   "id": "a910a8e4-2420-4608-9b18-e19d321757b7",
   "metadata": {},
   "outputs": [
    {
     "data": {
      "text/plain": [
       "1"
      ]
     },
     "execution_count": 50,
     "metadata": {},
     "output_type": "execute_result"
    }
   ],
   "source": [
    "t3.count(1)"
   ]
  },
  {
   "cell_type": "code",
   "execution_count": 51,
   "id": "8c11a2a4-50d9-4e46-8ddf-316b226f23e3",
   "metadata": {},
   "outputs": [
    {
     "data": {
      "text/plain": [
       "('H', 'e', 'l', 'l', 'o')"
      ]
     },
     "execution_count": 51,
     "metadata": {},
     "output_type": "execute_result"
    }
   ],
   "source": [
    "t4"
   ]
  },
  {
   "cell_type": "code",
   "execution_count": 52,
   "id": "0a40caaa-88e2-4688-b26c-f7671a3cd107",
   "metadata": {},
   "outputs": [
    {
     "data": {
      "text/plain": [
       "1"
      ]
     },
     "execution_count": 52,
     "metadata": {},
     "output_type": "execute_result"
    }
   ],
   "source": [
    "t4.count('e')"
   ]
  },
  {
   "cell_type": "code",
   "execution_count": 53,
   "id": "e03b633f-ad3e-4055-87e9-a359f6ae2548",
   "metadata": {},
   "outputs": [
    {
     "data": {
      "text/plain": [
       "2"
      ]
     },
     "execution_count": 53,
     "metadata": {},
     "output_type": "execute_result"
    }
   ],
   "source": [
    "t4.count('l')"
   ]
  },
  {
   "cell_type": "code",
   "execution_count": 54,
   "id": "70561b60-74fb-448a-87a7-060224ec7d92",
   "metadata": {},
   "outputs": [
    {
     "data": {
      "text/plain": [
       "0"
      ]
     },
     "execution_count": 54,
     "metadata": {},
     "output_type": "execute_result"
    }
   ],
   "source": [
    "t4.count('r')"
   ]
  },
  {
   "cell_type": "code",
   "execution_count": 56,
   "id": "12aed3b0-3d66-4c68-a45b-914b51512277",
   "metadata": {},
   "outputs": [
    {
     "data": {
      "text/plain": [
       "('H', 'e', 'l', 'l', 'o')"
      ]
     },
     "execution_count": 56,
     "metadata": {},
     "output_type": "execute_result"
    }
   ],
   "source": [
    "t4"
   ]
  },
  {
   "cell_type": "code",
   "execution_count": 58,
   "id": "50954ce1-aa05-4ddc-b3db-87f4f512ac5e",
   "metadata": {},
   "outputs": [],
   "source": [
    "# t4.index('r')"
   ]
  },
  {
   "cell_type": "code",
   "execution_count": 59,
   "id": "e11364ff-4103-44b3-ac82-78ec14da3e8a",
   "metadata": {},
   "outputs": [
    {
     "data": {
      "text/plain": [
       "2"
      ]
     },
     "execution_count": 59,
     "metadata": {},
     "output_type": "execute_result"
    }
   ],
   "source": [
    "t4.index('l')"
   ]
  },
  {
   "cell_type": "code",
   "execution_count": null,
   "id": "cf248121-01cd-4cad-8341-b25a7a2cadae",
   "metadata": {},
   "outputs": [],
   "source": []
  },
  {
   "cell_type": "code",
   "execution_count": 60,
   "id": "fca5f05d-02f6-400c-9e5d-7877bbd2a1e7",
   "metadata": {},
   "outputs": [],
   "source": [
    "# List, tuple : tuples are ~ 10x faster then lists"
   ]
  },
  {
   "cell_type": "code",
   "execution_count": null,
   "id": "0620dd36-4c97-4181-81dc-2689da61f84d",
   "metadata": {},
   "outputs": [],
   "source": []
  },
  {
   "cell_type": "code",
   "execution_count": 61,
   "id": "8c8cf0fa-4920-4987-9cc1-bc020dcbcbfb",
   "metadata": {},
   "outputs": [],
   "source": [
    "# Tuples are faster than list\n",
    "# Tuples are immutable\n",
    "# They are heterogenous\n",
    "# They have limited methods/functionality\n",
    "# They follow indexing\n",
    "# We use them when frozen data is being required"
   ]
  },
  {
   "cell_type": "code",
   "execution_count": null,
   "id": "7c276653-5fee-46c2-b1c7-0a73dddf5e7c",
   "metadata": {},
   "outputs": [],
   "source": []
  },
  {
   "cell_type": "code",
   "execution_count": 62,
   "id": "ee5fbe95-7ca2-40a5-bab6-688c2abd4e71",
   "metadata": {},
   "outputs": [],
   "source": [
    "# Quiz"
   ]
  },
  {
   "cell_type": "code",
   "execution_count": 67,
   "id": "7549cc1e-e839-481e-b953-184499f81ce5",
   "metadata": {},
   "outputs": [
    {
     "name": "stdout",
     "output_type": "stream",
     "text": [
      "6\n"
     ]
    }
   ],
   "source": [
    "x = (1, 2, 3)\n",
    "y = (4, 5, 6)\n",
    "z = x + y\n",
    "print(len(z))"
   ]
  },
  {
   "cell_type": "code",
   "execution_count": 64,
   "id": "d4fa3dd9-843c-479e-8d81-745b9f5c5bf0",
   "metadata": {},
   "outputs": [
    {
     "data": {
      "text/plain": [
       "(1, 2, 3, 4, 5, 6)"
      ]
     },
     "execution_count": 64,
     "metadata": {},
     "output_type": "execute_result"
    }
   ],
   "source": [
    "x + y"
   ]
  },
  {
   "cell_type": "code",
   "execution_count": null,
   "id": "63caaf00-a961-46cf-a259-373cc1922edb",
   "metadata": {},
   "outputs": [],
   "source": []
  },
  {
   "cell_type": "code",
   "execution_count": 68,
   "id": "eef96e58-03b5-4f98-894d-e0c5a6b45094",
   "metadata": {},
   "outputs": [],
   "source": [
    "# Swapping values of two variable in python"
   ]
  },
  {
   "cell_type": "code",
   "execution_count": 69,
   "id": "4f4371cb-2064-4bb0-84f0-d7f1a5a4f820",
   "metadata": {},
   "outputs": [],
   "source": [
    "a = 5\n",
    "b = 3\n",
    "\n",
    "# a --> 3, b --> 5"
   ]
  },
  {
   "cell_type": "code",
   "execution_count": 70,
   "id": "fbc294e8-be1e-4282-9a2e-5589da3aa088",
   "metadata": {},
   "outputs": [],
   "source": [
    "a, b = b, a"
   ]
  },
  {
   "cell_type": "code",
   "execution_count": 71,
   "id": "fc2b35d7-f552-44c5-8d23-a2bb8d0ed8d8",
   "metadata": {},
   "outputs": [
    {
     "name": "stdout",
     "output_type": "stream",
     "text": [
      "3 5\n"
     ]
    }
   ],
   "source": [
    "print(a, b)"
   ]
  },
  {
   "cell_type": "code",
   "execution_count": 72,
   "id": "302088a8-89a3-4e51-b791-392091c61711",
   "metadata": {},
   "outputs": [],
   "source": [
    "a = 5\n",
    "b = 3\n",
    "c = 14"
   ]
  },
  {
   "cell_type": "code",
   "execution_count": 73,
   "id": "8a4a7ea7-6332-4b34-985c-cae3acd83b22",
   "metadata": {},
   "outputs": [],
   "source": [
    "a, b, c = b, c, a"
   ]
  },
  {
   "cell_type": "code",
   "execution_count": 74,
   "id": "7a45c684-cd53-46aa-9f59-df1ffd29173d",
   "metadata": {},
   "outputs": [
    {
     "name": "stdout",
     "output_type": "stream",
     "text": [
      "3 14 5\n"
     ]
    }
   ],
   "source": [
    "print(a, b, c)"
   ]
  },
  {
   "cell_type": "code",
   "execution_count": null,
   "id": "c6733be9-5c6a-45be-8e3f-fd2b514a8096",
   "metadata": {},
   "outputs": [],
   "source": []
  },
  {
   "cell_type": "code",
   "execution_count": null,
   "id": "85789467-f600-4749-ad9f-51d2a9f86a4a",
   "metadata": {},
   "outputs": [],
   "source": []
  },
  {
   "cell_type": "markdown",
   "id": "068336ee-35cd-495a-9cd0-18220e0f5218",
   "metadata": {},
   "source": [
    "## Sets"
   ]
  },
  {
   "cell_type": "markdown",
   "id": "2b5b0acd-bf6a-4b39-8008-5109b12b4349",
   "metadata": {},
   "source": [
    "Problem: Suppose that you are working as a data analyst at an edtech company. The edtech company is offering courses on Calculus(C) and Linear Algebra(L) among many others. Now you want to represent the students in the courses. Which data structure to use?\n",
    "- Assume all names are unique for the students taking part in the edtech company. We have done this for better understanding. We could have taken id which will be unique.\n",
    "\n",
    "Options?\n",
    "\n",
    "- Lists => It can contain duplicate values\n",
    "- Tuples => It can also contain duplicate values.\n",
    "\n",
    "There is a different alternative => Sets"
   ]
  },
  {
   "cell_type": "code",
   "execution_count": 75,
   "id": "c73c8a9c-6288-4ec3-9ce9-914da7a85f08",
   "metadata": {},
   "outputs": [],
   "source": [
    "l = [\"Dhananjay\", \"Chandan\", \"Rahul\", \"Dhananjay\"]"
   ]
  },
  {
   "cell_type": "code",
   "execution_count": 76,
   "id": "f09c815b-2580-4ccb-93a1-31de69c2ebef",
   "metadata": {},
   "outputs": [
    {
     "name": "stdout",
     "output_type": "stream",
     "text": [
      "['Dhananjay', 'Chandan', 'Rahul', 'Dhananjay']\n"
     ]
    }
   ],
   "source": [
    "print(l)"
   ]
  },
  {
   "cell_type": "code",
   "execution_count": 77,
   "id": "772488ba-65e8-4007-8aa6-7b28f58ce32e",
   "metadata": {},
   "outputs": [],
   "source": [
    "t = (\"Dhananjay\", \"Chandan\", \"Rahul\", \"Dhananjay\")"
   ]
  },
  {
   "cell_type": "code",
   "execution_count": 78,
   "id": "9de82467-2b5c-4302-ba77-7c79188ddfb7",
   "metadata": {},
   "outputs": [
    {
     "data": {
      "text/plain": [
       "('Dhananjay', 'Chandan', 'Rahul', 'Dhananjay')"
      ]
     },
     "execution_count": 78,
     "metadata": {},
     "output_type": "execute_result"
    }
   ],
   "source": [
    "t"
   ]
  },
  {
   "cell_type": "code",
   "execution_count": null,
   "id": "06c6aeb1-abb0-4ab0-a06e-d02a0f797a54",
   "metadata": {},
   "outputs": [],
   "source": []
  },
  {
   "cell_type": "code",
   "execution_count": 84,
   "id": "80924198-60c9-47a9-b71c-f49724e1ad56",
   "metadata": {},
   "outputs": [],
   "source": [
    "s = {\"Dhananjay\", \"Chandan\", \"Rahul\", \"Dhananjay\"}"
   ]
  },
  {
   "cell_type": "code",
   "execution_count": 80,
   "id": "51f8445e-20aa-4004-b61c-7e3a10d076df",
   "metadata": {},
   "outputs": [
    {
     "name": "stdout",
     "output_type": "stream",
     "text": [
      "{'Dhananjay', 'Rahul', 'Chandan'}\n"
     ]
    }
   ],
   "source": [
    "print(s)"
   ]
  },
  {
   "cell_type": "code",
   "execution_count": null,
   "id": "4c891043-cdf0-4a51-b2af-9c682c4b762b",
   "metadata": {},
   "outputs": [],
   "source": []
  },
  {
   "cell_type": "code",
   "execution_count": 81,
   "id": "f92ccb93-c6eb-4680-9762-009bfd5b096e",
   "metadata": {},
   "outputs": [],
   "source": [
    "# Sets are unordered data structure"
   ]
  },
  {
   "cell_type": "code",
   "execution_count": 85,
   "id": "5315785b-d55b-4d91-ad73-f22d19eb96cd",
   "metadata": {},
   "outputs": [],
   "source": [
    "s1 = {1, 2, 1, 2, 3, 4, 5, 1, 2}"
   ]
  },
  {
   "cell_type": "code",
   "execution_count": 86,
   "id": "44918942-fb37-41ef-b3b1-04a6a9587598",
   "metadata": {},
   "outputs": [
    {
     "name": "stdout",
     "output_type": "stream",
     "text": [
      "{1, 2, 3, 4, 5}\n"
     ]
    }
   ],
   "source": [
    "print(s1)"
   ]
  },
  {
   "cell_type": "code",
   "execution_count": 87,
   "id": "269349f1-7789-407c-b88d-f04e851b0d8d",
   "metadata": {},
   "outputs": [
    {
     "data": {
      "text/plain": [
       "{'Chandan', 'Dhananjay', 'Rahul'}"
      ]
     },
     "execution_count": 87,
     "metadata": {},
     "output_type": "execute_result"
    }
   ],
   "source": [
    "s"
   ]
  },
  {
   "cell_type": "code",
   "execution_count": 90,
   "id": "bc6e3850-ca1e-4d85-b349-78e1bc2565ee",
   "metadata": {},
   "outputs": [],
   "source": [
    "# Set does not support indexing\n",
    "# s[0]"
   ]
  },
  {
   "cell_type": "code",
   "execution_count": 92,
   "id": "4c382801-823b-4367-b6e1-7c21020986b2",
   "metadata": {},
   "outputs": [],
   "source": [
    "s2 = {1, 2, \"Rahul\"}"
   ]
  },
  {
   "cell_type": "code",
   "execution_count": 93,
   "id": "0ae614a1-4f03-4a69-be8c-264b5a19887b",
   "metadata": {},
   "outputs": [
    {
     "data": {
      "text/plain": [
       "{1, 2, 'Rahul'}"
      ]
     },
     "execution_count": 93,
     "metadata": {},
     "output_type": "execute_result"
    }
   ],
   "source": [
    "s2"
   ]
  },
  {
   "cell_type": "code",
   "execution_count": 94,
   "id": "7dfcc38c-18bc-49dd-a89f-cbe7ec981e30",
   "metadata": {},
   "outputs": [
    {
     "data": {
      "text/plain": [
       "set"
      ]
     },
     "execution_count": 94,
     "metadata": {},
     "output_type": "execute_result"
    }
   ],
   "source": [
    "type(s2)"
   ]
  },
  {
   "cell_type": "code",
   "execution_count": null,
   "id": "6e0180fe-0643-4854-b4e4-911cdbad8780",
   "metadata": {},
   "outputs": [],
   "source": []
  },
  {
   "cell_type": "code",
   "execution_count": 95,
   "id": "61be29df-812f-43b4-8345-8e488fb17420",
   "metadata": {},
   "outputs": [],
   "source": [
    "# in operator"
   ]
  },
  {
   "cell_type": "code",
   "execution_count": 96,
   "id": "49af8818-0b93-4afe-85f9-92613c8990cf",
   "metadata": {},
   "outputs": [
    {
     "data": {
      "text/plain": [
       "{'Chandan', 'Dhananjay', 'Rahul'}"
      ]
     },
     "execution_count": 96,
     "metadata": {},
     "output_type": "execute_result"
    }
   ],
   "source": [
    "s"
   ]
  },
  {
   "cell_type": "code",
   "execution_count": 99,
   "id": "ecbbcb0f-0be3-4b23-9bcb-69f2d3074e4f",
   "metadata": {},
   "outputs": [
    {
     "data": {
      "text/plain": [
       "True"
      ]
     },
     "execution_count": 99,
     "metadata": {},
     "output_type": "execute_result"
    }
   ],
   "source": [
    "\"Chandan\" in s"
   ]
  },
  {
   "cell_type": "code",
   "execution_count": 100,
   "id": "d2e45bf9-2e5e-4eea-afc6-685733d0d00d",
   "metadata": {},
   "outputs": [
    {
     "data": {
      "text/plain": [
       "False"
      ]
     },
     "execution_count": 100,
     "metadata": {},
     "output_type": "execute_result"
    }
   ],
   "source": [
    "\"Iron-Man\" in s"
   ]
  },
  {
   "cell_type": "code",
   "execution_count": null,
   "id": "2d57db36-f18e-4061-86f2-42d2041d2efd",
   "metadata": {},
   "outputs": [],
   "source": []
  },
  {
   "cell_type": "code",
   "execution_count": null,
   "id": "822f63b1-a191-465c-a55e-ee3b8fac51af",
   "metadata": {},
   "outputs": [],
   "source": []
  },
  {
   "cell_type": "code",
   "execution_count": null,
   "id": "0faadf8c-2c4b-4a12-b3cd-271b04fd136c",
   "metadata": {},
   "outputs": [],
   "source": []
  },
  {
   "cell_type": "markdown",
   "id": "b1cd49a6-5693-499a-8344-64f4477dba46",
   "metadata": {},
   "source": [
    "### Creation\n",
    "- set()\n",
    "- set(iterable)"
   ]
  },
  {
   "cell_type": "code",
   "execution_count": 101,
   "id": "d30fd4dd-097f-4ff4-8f9e-3879988a540f",
   "metadata": {},
   "outputs": [],
   "source": [
    "# set\n",
    "# dict"
   ]
  },
  {
   "cell_type": "code",
   "execution_count": 102,
   "id": "b8210046-51ae-4ef6-bdbc-c8d88aee171d",
   "metadata": {},
   "outputs": [],
   "source": [
    "s = {}"
   ]
  },
  {
   "cell_type": "code",
   "execution_count": 103,
   "id": "8f1a8cc2-e461-47b2-afbf-1e763376c124",
   "metadata": {},
   "outputs": [
    {
     "data": {
      "text/plain": [
       "dict"
      ]
     },
     "execution_count": 103,
     "metadata": {},
     "output_type": "execute_result"
    }
   ],
   "source": [
    "type(s)"
   ]
  },
  {
   "cell_type": "code",
   "execution_count": 104,
   "id": "a87919d5-6826-4219-abee-00a21aeba6e0",
   "metadata": {},
   "outputs": [],
   "source": [
    "s = set()"
   ]
  },
  {
   "cell_type": "code",
   "execution_count": 106,
   "id": "ecdfbd95-9a73-48fd-a6e4-2a7d96573dc0",
   "metadata": {},
   "outputs": [
    {
     "data": {
      "text/plain": [
       "set"
      ]
     },
     "execution_count": 106,
     "metadata": {},
     "output_type": "execute_result"
    }
   ],
   "source": [
    "type(s)"
   ]
  },
  {
   "cell_type": "code",
   "execution_count": 107,
   "id": "e6313248-27e0-467d-a5ef-2a030d3447b1",
   "metadata": {},
   "outputs": [],
   "source": [
    "s = {2, 3, 1, 4, 2, 1}"
   ]
  },
  {
   "cell_type": "code",
   "execution_count": 108,
   "id": "b8b977b6-865a-48c6-8d54-bd73ae8de917",
   "metadata": {},
   "outputs": [
    {
     "data": {
      "text/plain": [
       "{1, 2, 3, 4}"
      ]
     },
     "execution_count": 108,
     "metadata": {},
     "output_type": "execute_result"
    }
   ],
   "source": [
    "s"
   ]
  },
  {
   "cell_type": "code",
   "execution_count": null,
   "id": "910c4dac-880b-4c59-949a-bc2204949e33",
   "metadata": {},
   "outputs": [],
   "source": []
  },
  {
   "cell_type": "code",
   "execution_count": 109,
   "id": "3c0ca599-3365-4445-83cf-a82430d88a77",
   "metadata": {},
   "outputs": [],
   "source": [
    "# Set is taking care of duplicate values"
   ]
  },
  {
   "cell_type": "code",
   "execution_count": 110,
   "id": "66b86f8b-ba4d-498f-925b-239cabf7c83c",
   "metadata": {},
   "outputs": [],
   "source": [
    "st = 'Hello'"
   ]
  },
  {
   "cell_type": "code",
   "execution_count": 111,
   "id": "1b72f400-6b34-4ffa-a1ac-585be3efd6c8",
   "metadata": {},
   "outputs": [
    {
     "data": {
      "text/plain": [
       "['Dhananjay', 'Chandan', 'Rahul', 'Dhananjay']"
      ]
     },
     "execution_count": 111,
     "metadata": {},
     "output_type": "execute_result"
    }
   ],
   "source": [
    "l"
   ]
  },
  {
   "cell_type": "code",
   "execution_count": 112,
   "id": "c76459bb-91d9-4b18-828a-431d0db5b6d1",
   "metadata": {},
   "outputs": [],
   "source": [
    "s1 = set(l)"
   ]
  },
  {
   "cell_type": "code",
   "execution_count": 115,
   "id": "5b7f4c16-e7f5-4b8e-9ae3-898cd76935c5",
   "metadata": {},
   "outputs": [
    {
     "data": {
      "text/plain": [
       "{'Chandan', 'Dhananjay', 'Rahul'}"
      ]
     },
     "execution_count": 115,
     "metadata": {},
     "output_type": "execute_result"
    }
   ],
   "source": [
    "s1"
   ]
  },
  {
   "cell_type": "code",
   "execution_count": 116,
   "id": "956bfc8b-1e96-4b3f-8686-dd0cd332d3a4",
   "metadata": {},
   "outputs": [],
   "source": [
    "s2 = set('Hello')"
   ]
  },
  {
   "cell_type": "code",
   "execution_count": 117,
   "id": "460ec6c2-4778-4829-b32c-f60b9ce137cf",
   "metadata": {},
   "outputs": [
    {
     "data": {
      "text/plain": [
       "{'H', 'e', 'l', 'o'}"
      ]
     },
     "execution_count": 117,
     "metadata": {},
     "output_type": "execute_result"
    }
   ],
   "source": [
    "s2"
   ]
  },
  {
   "cell_type": "code",
   "execution_count": 118,
   "id": "c9f1fa54-a7bd-4d27-abda-511ad32fbe10",
   "metadata": {},
   "outputs": [
    {
     "data": {
      "text/plain": [
       "{'P', 'a', 'e', 'n', 'r', 'v'}"
      ]
     },
     "execution_count": 118,
     "metadata": {},
     "output_type": "execute_result"
    }
   ],
   "source": [
    "set('Praveen')"
   ]
  },
  {
   "cell_type": "code",
   "execution_count": 119,
   "id": "e0edf45d-14a8-4717-8c52-d6c25531edf9",
   "metadata": {},
   "outputs": [
    {
     "name": "stdout",
     "output_type": "stream",
     "text": [
      "{'r', 'e', 'n', 'P', 'a', 'v'}\n"
     ]
    }
   ],
   "source": [
    "print(set('Praveen'))"
   ]
  },
  {
   "cell_type": "code",
   "execution_count": null,
   "id": "0001cf35-f93c-4ec1-b549-754f7f3a0c90",
   "metadata": {},
   "outputs": [],
   "source": []
  },
  {
   "cell_type": "code",
   "execution_count": null,
   "id": "b8c457d7-b770-4a29-bed7-a14d96cc7300",
   "metadata": {},
   "outputs": [],
   "source": []
  },
  {
   "cell_type": "markdown",
   "id": "7a3fe06f-acb0-4688-8f1d-390d1193396b",
   "metadata": {},
   "source": [
    "### Iteration and indexing?"
   ]
  },
  {
   "cell_type": "markdown",
   "id": "93a4c0ea-be6f-4f81-b8ca-c2a1a87013b9",
   "metadata": {},
   "source": [
    "- We cannot access a set item by referring to an index or a key. If you cannot access an element we cannot modify it. That's why it is also unchangeable\n",
    "- We can however run a loop to iterate."
   ]
  },
  {
   "cell_type": "code",
   "execution_count": 121,
   "id": "7337945c-3711-4ea1-a2c9-c660abf6131f",
   "metadata": {},
   "outputs": [],
   "source": [
    "# Sets does not support indexing"
   ]
  },
  {
   "cell_type": "code",
   "execution_count": 124,
   "id": "deb3c1fd-26fe-4799-8de1-2a10e770ff2c",
   "metadata": {},
   "outputs": [
    {
     "data": {
      "text/plain": [
       "{1, 2, 3, 4}"
      ]
     },
     "execution_count": 124,
     "metadata": {},
     "output_type": "execute_result"
    }
   ],
   "source": [
    "s"
   ]
  },
  {
   "cell_type": "code",
   "execution_count": null,
   "id": "70c4893e-3912-460e-8026-034591ad16c8",
   "metadata": {},
   "outputs": [],
   "source": []
  },
  {
   "cell_type": "code",
   "execution_count": 126,
   "id": "51c6b1fb-a2ce-4379-b6d6-59f311515f33",
   "metadata": {},
   "outputs": [],
   "source": [
    "# s[0]"
   ]
  },
  {
   "cell_type": "code",
   "execution_count": 127,
   "id": "80e33651-8edb-45d3-a5a6-77ce39e996fa",
   "metadata": {},
   "outputs": [],
   "source": [
    "# Indexing is not supported in sets"
   ]
  },
  {
   "cell_type": "code",
   "execution_count": 128,
   "id": "90508762-13a9-4ba3-a6d5-79f3846d8ff6",
   "metadata": {},
   "outputs": [
    {
     "name": "stdout",
     "output_type": "stream",
     "text": [
      "1\n",
      "2\n",
      "3\n",
      "4\n"
     ]
    }
   ],
   "source": [
    "for i in s:\n",
    "    print(i)"
   ]
  },
  {
   "cell_type": "code",
   "execution_count": 129,
   "id": "2aa195d6-63fb-470a-8d0f-562c81616e2b",
   "metadata": {},
   "outputs": [
    {
     "data": {
      "text/plain": [
       "{'H', 'e', 'l', 'o'}"
      ]
     },
     "execution_count": 129,
     "metadata": {},
     "output_type": "execute_result"
    }
   ],
   "source": [
    "s2"
   ]
  },
  {
   "cell_type": "code",
   "execution_count": 130,
   "id": "d0c457b6-6aed-42c0-957d-9dd701651523",
   "metadata": {},
   "outputs": [
    {
     "name": "stdout",
     "output_type": "stream",
     "text": [
      "o\n",
      "H\n",
      "l\n",
      "e\n"
     ]
    }
   ],
   "source": [
    "for i in s2:\n",
    "    print(i)"
   ]
  },
  {
   "cell_type": "code",
   "execution_count": null,
   "id": "0b7ba75e-30b3-43c0-b056-7792eda9944c",
   "metadata": {},
   "outputs": [],
   "source": []
  },
  {
   "cell_type": "code",
   "execution_count": null,
   "id": "1398a8b3-7fb8-4b6c-8d4d-58c27e72715b",
   "metadata": {},
   "outputs": [],
   "source": []
  },
  {
   "cell_type": "markdown",
   "id": "6793fc7f-fa0c-4c4c-99d3-e20248836f33",
   "metadata": {},
   "source": [
    "#### Challenge: Count number of unique words in a sentence\n",
    "- Input: \"the quick brown fox jumps over the lazy dog\"\n",
    "- Output: 8"
   ]
  },
  {
   "cell_type": "code",
   "execution_count": 131,
   "id": "fe9b52cc-b42c-4355-8213-e7e82bfd1514",
   "metadata": {},
   "outputs": [],
   "source": [
    "sen = \"the quick brown fox jumps over the lazy dog\""
   ]
  },
  {
   "cell_type": "code",
   "execution_count": 132,
   "id": "90ddf7a7-03a2-406e-b49c-ef6eebdf09ff",
   "metadata": {},
   "outputs": [],
   "source": [
    "# no of words: 8"
   ]
  },
  {
   "cell_type": "code",
   "execution_count": 134,
   "id": "e83808ee-8284-4fbf-b667-62af4912190e",
   "metadata": {},
   "outputs": [
    {
     "name": "stdout",
     "output_type": "stream",
     "text": [
      "{'f', 'k', 'm', 'o', 'e', 'y', 'x', 'd', 'a', 'g', 'v', 'p', 'n', 'w', 'h', 's', 'l', 'u', 'c', 'i', ' ', 'r', 't', 'z', 'j', 'b', 'q'}\n"
     ]
    }
   ],
   "source": [
    "print(set(sen))"
   ]
  },
  {
   "cell_type": "code",
   "execution_count": 137,
   "id": "482612b3-c868-49f4-b318-f0ac2ca9846d",
   "metadata": {},
   "outputs": [],
   "source": [
    "words = sen.split()"
   ]
  },
  {
   "cell_type": "code",
   "execution_count": 138,
   "id": "7e009fcd-0c3a-49d3-8ed9-1871866836d2",
   "metadata": {},
   "outputs": [
    {
     "data": {
      "text/plain": [
       "9"
      ]
     },
     "execution_count": 138,
     "metadata": {},
     "output_type": "execute_result"
    }
   ],
   "source": [
    "len(words)"
   ]
  },
  {
   "cell_type": "code",
   "execution_count": 140,
   "id": "ea66c804-74b0-471c-bb14-fb8c4a02df3d",
   "metadata": {},
   "outputs": [],
   "source": [
    "unique_words = set(words)"
   ]
  },
  {
   "cell_type": "code",
   "execution_count": 143,
   "id": "f8470cfc-c3c9-41aa-b7a8-a7005ce649bd",
   "metadata": {},
   "outputs": [
    {
     "data": {
      "text/plain": [
       "{'brown', 'dog', 'fox', 'jumps', 'lazy', 'over', 'quick', 'the'}"
      ]
     },
     "execution_count": 143,
     "metadata": {},
     "output_type": "execute_result"
    }
   ],
   "source": [
    "unique_words"
   ]
  },
  {
   "cell_type": "code",
   "execution_count": 142,
   "id": "36535064-e7e0-4b88-915d-ffcae7a4cc5e",
   "metadata": {},
   "outputs": [
    {
     "data": {
      "text/plain": [
       "8"
      ]
     },
     "execution_count": 142,
     "metadata": {},
     "output_type": "execute_result"
    }
   ],
   "source": [
    "len(unique_words)"
   ]
  },
  {
   "cell_type": "code",
   "execution_count": 144,
   "id": "35dafdf4-f755-4855-ae64-1bf4c1424052",
   "metadata": {},
   "outputs": [],
   "source": [
    "def unique_word(sen):\n",
    "    return len(set(sen.split()))"
   ]
  },
  {
   "cell_type": "code",
   "execution_count": 145,
   "id": "f048c684-7e42-4cdc-a3df-566f88978315",
   "metadata": {},
   "outputs": [
    {
     "data": {
      "text/plain": [
       "8"
      ]
     },
     "execution_count": 145,
     "metadata": {},
     "output_type": "execute_result"
    }
   ],
   "source": [
    "unique_word(sen)"
   ]
  },
  {
   "cell_type": "code",
   "execution_count": 146,
   "id": "083db7df-3420-4f93-8adb-d052c2b8a2eb",
   "metadata": {},
   "outputs": [
    {
     "data": {
      "text/plain": [
       "4"
      ]
     },
     "execution_count": 146,
     "metadata": {},
     "output_type": "execute_result"
    }
   ],
   "source": [
    "unique_word(\"Hey this is Rahul\")"
   ]
  },
  {
   "cell_type": "code",
   "execution_count": null,
   "id": "4957a461-6d21-4b24-8fbc-74449e48e19c",
   "metadata": {},
   "outputs": [],
   "source": []
  },
  {
   "cell_type": "code",
   "execution_count": null,
   "id": "30eabae1-fdba-4957-a89b-7a7828aa635f",
   "metadata": {},
   "outputs": [],
   "source": []
  },
  {
   "cell_type": "markdown",
   "id": "b9d87f3e-218e-4a2e-bb81-90468f28a141",
   "metadata": {},
   "source": [
    "### Updating a set\n",
    "- add: For single element\n",
    "- update(iterable)"
   ]
  },
  {
   "cell_type": "code",
   "execution_count": 147,
   "id": "f6bd6cc5-5669-42f6-9a60-d8bf1db949fd",
   "metadata": {},
   "outputs": [],
   "source": [
    "# add"
   ]
  },
  {
   "cell_type": "code",
   "execution_count": 148,
   "id": "4e9f6d5d-1139-458a-8172-8bda0a176293",
   "metadata": {},
   "outputs": [],
   "source": [
    "# Let's go on a trip"
   ]
  },
  {
   "cell_type": "code",
   "execution_count": 149,
   "id": "8a766d2c-6eed-429a-a234-35edc00bf4da",
   "metadata": {},
   "outputs": [],
   "source": [
    "bag = {\"Clothes\", \"Torch\", \"Shoes\", \"Phone charger\"}"
   ]
  },
  {
   "cell_type": "code",
   "execution_count": 150,
   "id": "8da11383-cccd-4e04-a0a5-1d7f1e8a737f",
   "metadata": {},
   "outputs": [
    {
     "data": {
      "text/plain": [
       "{'Clothes', 'Phone charger', 'Shoes', 'Torch'}"
      ]
     },
     "execution_count": 150,
     "metadata": {},
     "output_type": "execute_result"
    }
   ],
   "source": [
    "bag"
   ]
  },
  {
   "cell_type": "code",
   "execution_count": 152,
   "id": "dc9b6c0f-af3b-4d7e-924a-6c981d4d2598",
   "metadata": {},
   "outputs": [],
   "source": [
    "bag.add(\"Shoes\")"
   ]
  },
  {
   "cell_type": "code",
   "execution_count": 153,
   "id": "833cc6eb-d52f-4564-9a8a-b1f70bc8f85d",
   "metadata": {},
   "outputs": [
    {
     "data": {
      "text/plain": [
       "{'Clothes', 'Phone charger', 'Shoes', 'Torch'}"
      ]
     },
     "execution_count": 153,
     "metadata": {},
     "output_type": "execute_result"
    }
   ],
   "source": [
    "bag"
   ]
  },
  {
   "cell_type": "code",
   "execution_count": 154,
   "id": "5c5837c6-d84a-4919-a275-238dff21dc76",
   "metadata": {},
   "outputs": [],
   "source": [
    "bag.add(\"Food\")"
   ]
  },
  {
   "cell_type": "code",
   "execution_count": 155,
   "id": "ac3bbe05-49a8-4e60-8206-ffc8acc308ad",
   "metadata": {},
   "outputs": [
    {
     "data": {
      "text/plain": [
       "{'Clothes', 'Food', 'Phone charger', 'Shoes', 'Torch'}"
      ]
     },
     "execution_count": 155,
     "metadata": {},
     "output_type": "execute_result"
    }
   ],
   "source": [
    "bag"
   ]
  },
  {
   "cell_type": "code",
   "execution_count": 157,
   "id": "8e55120f-5b9a-44f0-9437-63cd760642f4",
   "metadata": {},
   "outputs": [],
   "source": [
    "bag.add(\"Camera\")"
   ]
  },
  {
   "cell_type": "code",
   "execution_count": 158,
   "id": "b01148c3-9c70-469d-91b4-daf65e2184a1",
   "metadata": {},
   "outputs": [
    {
     "data": {
      "text/plain": [
       "{'Camer', 'Camera', 'Clothes', 'Food', 'Phone charger', 'Shoes', 'Torch'}"
      ]
     },
     "execution_count": 158,
     "metadata": {},
     "output_type": "execute_result"
    }
   ],
   "source": [
    "bag"
   ]
  },
  {
   "cell_type": "code",
   "execution_count": null,
   "id": "b54b61ef-3713-4ff1-8531-d1d9739dbbc7",
   "metadata": {},
   "outputs": [],
   "source": []
  },
  {
   "cell_type": "code",
   "execution_count": 159,
   "id": "cf6eb2fe-8297-40bd-aa7f-491ed57938a9",
   "metadata": {},
   "outputs": [],
   "source": [
    "# update"
   ]
  },
  {
   "cell_type": "code",
   "execution_count": 160,
   "id": "62aa2698-ebc5-43bd-b3a5-4fa441303c59",
   "metadata": {},
   "outputs": [],
   "source": [
    "toilet_kit = {\"Brush\", \"Toothpaste\", \"Soap\"}"
   ]
  },
  {
   "cell_type": "code",
   "execution_count": 161,
   "id": "56a2676f-85ec-40ac-8a9e-f438bc3f36d0",
   "metadata": {},
   "outputs": [],
   "source": [
    "bag.update(toilet_kit)"
   ]
  },
  {
   "cell_type": "code",
   "execution_count": 162,
   "id": "a55228cb-f7f5-4a21-8b0f-cd3c0325835c",
   "metadata": {},
   "outputs": [
    {
     "data": {
      "text/plain": [
       "{'Brush',\n",
       " 'Camer',\n",
       " 'Camera',\n",
       " 'Clothes',\n",
       " 'Food',\n",
       " 'Phone charger',\n",
       " 'Shoes',\n",
       " 'Soap',\n",
       " 'Toothpaste',\n",
       " 'Torch'}"
      ]
     },
     "execution_count": 162,
     "metadata": {},
     "output_type": "execute_result"
    }
   ],
   "source": [
    "bag"
   ]
  },
  {
   "cell_type": "code",
   "execution_count": null,
   "id": "d66741bf-0ead-4f42-bc75-0020482c1bd5",
   "metadata": {},
   "outputs": [],
   "source": []
  },
  {
   "cell_type": "code",
   "execution_count": null,
   "id": "61ec9c98-3e12-4300-88be-544913fb9391",
   "metadata": {},
   "outputs": [],
   "source": []
  },
  {
   "cell_type": "code",
   "execution_count": null,
   "id": "8ba866a9-82f7-4bf1-9a5d-ef49e3f3f739",
   "metadata": {},
   "outputs": [],
   "source": []
  },
  {
   "cell_type": "markdown",
   "id": "45c6ad9d-54a4-41b8-8564-f76e2bfcec97",
   "metadata": {},
   "source": [
    "### Deleting an element\n",
    "- pop: removes random element. We are not sure what it is\n",
    "- remove(element): Removes particular element"
   ]
  },
  {
   "cell_type": "code",
   "execution_count": 163,
   "id": "3c32484a-9426-49fc-a1ca-8b1c5cf2824a",
   "metadata": {},
   "outputs": [],
   "source": [
    "# Pop\n",
    "# Remove and return an arbitrary set element"
   ]
  },
  {
   "cell_type": "code",
   "execution_count": 164,
   "id": "d3576ce0-9384-47a2-952f-8f839f2b3c0b",
   "metadata": {},
   "outputs": [
    {
     "data": {
      "text/plain": [
       "{'Brush',\n",
       " 'Camer',\n",
       " 'Camera',\n",
       " 'Clothes',\n",
       " 'Food',\n",
       " 'Phone charger',\n",
       " 'Shoes',\n",
       " 'Soap',\n",
       " 'Toothpaste',\n",
       " 'Torch'}"
      ]
     },
     "execution_count": 164,
     "metadata": {},
     "output_type": "execute_result"
    }
   ],
   "source": [
    "bag"
   ]
  },
  {
   "cell_type": "code",
   "execution_count": 165,
   "id": "f72773df-3abd-48f3-9700-52e327a1044f",
   "metadata": {},
   "outputs": [],
   "source": [
    "deleted = bag.pop()"
   ]
  },
  {
   "cell_type": "code",
   "execution_count": 166,
   "id": "aa245125-7585-4ad8-bfda-c9ab190c7266",
   "metadata": {},
   "outputs": [
    {
     "name": "stdout",
     "output_type": "stream",
     "text": [
      "Shoes\n"
     ]
    }
   ],
   "source": [
    "print(deleted)"
   ]
  },
  {
   "cell_type": "code",
   "execution_count": 167,
   "id": "986b1bc5-16ca-4979-88eb-aad4af295460",
   "metadata": {},
   "outputs": [
    {
     "data": {
      "text/plain": [
       "'Brush'"
      ]
     },
     "execution_count": 167,
     "metadata": {},
     "output_type": "execute_result"
    }
   ],
   "source": [
    "bag.pop()"
   ]
  },
  {
   "cell_type": "code",
   "execution_count": 168,
   "id": "73446b92-9e21-48d9-a158-528737b6bad3",
   "metadata": {},
   "outputs": [
    {
     "data": {
      "text/plain": [
       "{'Camer',\n",
       " 'Camera',\n",
       " 'Clothes',\n",
       " 'Food',\n",
       " 'Phone charger',\n",
       " 'Soap',\n",
       " 'Toothpaste',\n",
       " 'Torch'}"
      ]
     },
     "execution_count": 168,
     "metadata": {},
     "output_type": "execute_result"
    }
   ],
   "source": [
    "bag"
   ]
  },
  {
   "cell_type": "code",
   "execution_count": null,
   "id": "5954b047-1865-4b80-96ca-51add473b909",
   "metadata": {},
   "outputs": [],
   "source": []
  },
  {
   "cell_type": "code",
   "execution_count": null,
   "id": "bef52f57-2de1-4263-9ece-569f721c6094",
   "metadata": {},
   "outputs": [],
   "source": []
  },
  {
   "cell_type": "code",
   "execution_count": 169,
   "id": "6b414355-73c1-49d8-831b-5ee4a9454181",
   "metadata": {},
   "outputs": [],
   "source": [
    "# Remove helps to remove a particular element fron your set\n",
    "# It will not return"
   ]
  },
  {
   "cell_type": "code",
   "execution_count": 171,
   "id": "e6767629-d32b-40f3-9d44-35ab2156bcbf",
   "metadata": {},
   "outputs": [
    {
     "data": {
      "text/plain": [
       "{'Camer',\n",
       " 'Camera',\n",
       " 'Clothes',\n",
       " 'Food',\n",
       " 'Phone charger',\n",
       " 'Soap',\n",
       " 'Toothpaste',\n",
       " 'Torch'}"
      ]
     },
     "execution_count": 171,
     "metadata": {},
     "output_type": "execute_result"
    }
   ],
   "source": [
    "bag"
   ]
  },
  {
   "cell_type": "code",
   "execution_count": 173,
   "id": "505b1f42-d28d-4c75-a4c6-dcf0b5c40ef5",
   "metadata": {},
   "outputs": [],
   "source": [
    "# bag.remove(\"Shoes\")"
   ]
  },
  {
   "cell_type": "code",
   "execution_count": 175,
   "id": "3349e51f-24bd-4a71-9516-91667393cb54",
   "metadata": {},
   "outputs": [],
   "source": [
    "deleted = bag.remove(\"Camer\")"
   ]
  },
  {
   "cell_type": "code",
   "execution_count": 177,
   "id": "01dbf371-e699-4ada-9655-e2ec7620c68b",
   "metadata": {},
   "outputs": [
    {
     "name": "stdout",
     "output_type": "stream",
     "text": [
      "None\n"
     ]
    }
   ],
   "source": [
    "print(deleted)"
   ]
  },
  {
   "cell_type": "code",
   "execution_count": 178,
   "id": "e86d16a6-fd59-455d-bd71-79f9bb687895",
   "metadata": {},
   "outputs": [
    {
     "data": {
      "text/plain": [
       "{'Camera', 'Clothes', 'Food', 'Phone charger', 'Soap', 'Toothpaste', 'Torch'}"
      ]
     },
     "execution_count": 178,
     "metadata": {},
     "output_type": "execute_result"
    }
   ],
   "source": [
    "bag"
   ]
  },
  {
   "cell_type": "code",
   "execution_count": 179,
   "id": "fc9bc842-5cc7-45f9-9986-24de9b126c22",
   "metadata": {},
   "outputs": [],
   "source": [
    "bag.remove(\"Camera\")"
   ]
  },
  {
   "cell_type": "code",
   "execution_count": 180,
   "id": "cdc1f0a4-cd53-4a7c-8dd2-89f9a21dc4ec",
   "metadata": {},
   "outputs": [
    {
     "data": {
      "text/plain": [
       "{'Clothes', 'Food', 'Phone charger', 'Soap', 'Toothpaste', 'Torch'}"
      ]
     },
     "execution_count": 180,
     "metadata": {},
     "output_type": "execute_result"
    }
   ],
   "source": [
    "bag"
   ]
  },
  {
   "cell_type": "code",
   "execution_count": null,
   "id": "286ea405-cf47-4359-86bf-0db506cc9ff4",
   "metadata": {},
   "outputs": [],
   "source": []
  },
  {
   "cell_type": "code",
   "execution_count": 181,
   "id": "ec9955a2-9398-4655-8d4c-8f17737fcd8d",
   "metadata": {},
   "outputs": [],
   "source": [
    "# Quiz"
   ]
  },
  {
   "cell_type": "code",
   "execution_count": 182,
   "id": "e6a78ce2-cb99-4ebd-88e5-e43f182fca5a",
   "metadata": {},
   "outputs": [
    {
     "name": "stdout",
     "output_type": "stream",
     "text": [
      "6\n"
     ]
    }
   ],
   "source": [
    "fruits = {\"apple\", \"banana\", \"cherry\"}\n",
    "fruits.add(\"orange\")\n",
    "fruits.update([\"mango\", \"grape\"])\n",
    "print(len(fruits))"
   ]
  },
  {
   "cell_type": "code",
   "execution_count": 183,
   "id": "2d434fb3-6f1f-4226-8491-c7eb376f9f84",
   "metadata": {},
   "outputs": [
    {
     "data": {
      "text/plain": [
       "{'apple', 'banana', 'cherry', 'grape', 'mango', 'orange'}"
      ]
     },
     "execution_count": 183,
     "metadata": {},
     "output_type": "execute_result"
    }
   ],
   "source": [
    "{\"apple\", \"banana\", \"cherry\", \"orange\", \"mango\", \"grape\"}"
   ]
  },
  {
   "cell_type": "code",
   "execution_count": null,
   "id": "764822c4-3f09-4247-b2a7-2554839e8611",
   "metadata": {},
   "outputs": [],
   "source": []
  },
  {
   "cell_type": "code",
   "execution_count": null,
   "id": "4d20a183-eb1c-4740-9ab9-a147e9741fd2",
   "metadata": {},
   "outputs": [],
   "source": []
  },
  {
   "cell_type": "code",
   "execution_count": null,
   "id": "dbfa515b-944e-46cc-8742-7194ad4304f4",
   "metadata": {},
   "outputs": [],
   "source": []
  },
  {
   "cell_type": "markdown",
   "id": "e4c2245b-84ab-4c12-8b79-0285830786a8",
   "metadata": {},
   "source": [
    "### Intersection\n",
    "- Suppose you want to find out which students are enrolled in both the Calculus and Linear Algebra Course. Then you can use the intersection method."
   ]
  },
  {
   "cell_type": "code",
   "execution_count": 184,
   "id": "81158bd8-8e56-4460-8a08-d650789363f8",
   "metadata": {},
   "outputs": [],
   "source": [
    "# Common in both sets"
   ]
  },
  {
   "cell_type": "code",
   "execution_count": 185,
   "id": "ec9717e5-9e1d-4547-85f8-8d374f41c57a",
   "metadata": {},
   "outputs": [],
   "source": [
    "algebra = {\"Dhananjay\", \"Chandan\", \"Amit\", \"Rahul\"}\n",
    "calculus = {\"Amit\", \"Ashish\", \"Pavan\", \"Rahul\"}"
   ]
  },
  {
   "cell_type": "code",
   "execution_count": 186,
   "id": "9de31d50-1fd1-43b1-9b08-b753e986c0a5",
   "metadata": {},
   "outputs": [
    {
     "data": {
      "text/plain": [
       "{'Amit', 'Rahul'}"
      ]
     },
     "execution_count": 186,
     "metadata": {},
     "output_type": "execute_result"
    }
   ],
   "source": [
    "algebra.intersection(calculus)"
   ]
  },
  {
   "cell_type": "code",
   "execution_count": 187,
   "id": "179343b3-e48c-40a0-bc04-c2de5c14f491",
   "metadata": {},
   "outputs": [
    {
     "data": {
      "text/plain": [
       "{'Amit', 'Rahul'}"
      ]
     },
     "execution_count": 187,
     "metadata": {},
     "output_type": "execute_result"
    }
   ],
   "source": [
    "calculus.intersection(algebra)"
   ]
  },
  {
   "cell_type": "code",
   "execution_count": null,
   "id": "89cf3fb1-85f5-4a22-bd43-617c22a94e46",
   "metadata": {},
   "outputs": [],
   "source": []
  },
  {
   "cell_type": "code",
   "execution_count": null,
   "id": "8f01dc71-4304-4821-b456-19470c89f4f1",
   "metadata": {},
   "outputs": [],
   "source": []
  },
  {
   "cell_type": "code",
   "execution_count": null,
   "id": "8f4e6dd6-5968-4ba1-84aa-58c5207ca4c8",
   "metadata": {},
   "outputs": [],
   "source": []
  },
  {
   "cell_type": "markdown",
   "id": "33e182bc-bbae-457d-9c71-5dda1cfcdc61",
   "metadata": {},
   "source": [
    "### Union\n",
    "- Suppose you want to find out which students are enrolled in either the Calculus or the Linear Algebra Course or in both. Then you can use the union method."
   ]
  },
  {
   "cell_type": "code",
   "execution_count": 188,
   "id": "feff6a9e-9ba9-4243-ae95-68de686747cc",
   "metadata": {},
   "outputs": [],
   "source": [
    "# All elements in both sets"
   ]
  },
  {
   "cell_type": "code",
   "execution_count": 192,
   "id": "c1eb2390-c325-4d28-979c-5f73d120c792",
   "metadata": {},
   "outputs": [
    {
     "name": "stdout",
     "output_type": "stream",
     "text": [
      "{'Pavan', 'Amit', 'Rahul', 'Ashish'}\n",
      "{'Dhananjay', 'Amit', 'Rahul', 'Chandan'}\n"
     ]
    }
   ],
   "source": [
    "print(calculus)\n",
    "print(algebra)"
   ]
  },
  {
   "cell_type": "code",
   "execution_count": 195,
   "id": "de79e60b-e1a0-4af4-891d-7124600ef781",
   "metadata": {},
   "outputs": [],
   "source": [
    "#  Pavan, Amit, Rahul, Ashish, Dhananjay, Chandan"
   ]
  },
  {
   "cell_type": "code",
   "execution_count": 196,
   "id": "bbcdcd57-5425-426b-a9bb-bcedfe2c8a62",
   "metadata": {},
   "outputs": [
    {
     "data": {
      "text/plain": [
       "{'Amit', 'Ashish', 'Chandan', 'Dhananjay', 'Pavan', 'Rahul'}"
      ]
     },
     "execution_count": 196,
     "metadata": {},
     "output_type": "execute_result"
    }
   ],
   "source": [
    "algebra.union(calculus)"
   ]
  },
  {
   "cell_type": "code",
   "execution_count": 197,
   "id": "b2a0a8f3-5294-4ef1-b30c-c53a0998aa39",
   "metadata": {},
   "outputs": [
    {
     "data": {
      "text/plain": [
       "{'Amit', 'Ashish', 'Chandan', 'Dhananjay', 'Pavan', 'Rahul'}"
      ]
     },
     "execution_count": 197,
     "metadata": {},
     "output_type": "execute_result"
    }
   ],
   "source": [
    "calculus.union(algebra)"
   ]
  },
  {
   "cell_type": "code",
   "execution_count": null,
   "id": "80c20186-2941-4e74-9ccd-1d6730a051ae",
   "metadata": {},
   "outputs": [],
   "source": []
  },
  {
   "cell_type": "markdown",
   "id": "2b99e3aa-f590-4243-b418-106c2c81e3d7",
   "metadata": {},
   "source": [
    "### Difference\n",
    "- Suppose you want to find out the set of students who have enrolled in the Calculus course but not in Linear Algebra course or vice-versa, then we can use the difference method."
   ]
  },
  {
   "cell_type": "code",
   "execution_count": 198,
   "id": "5368f2a1-3df3-4d11-9fc0-5e5946a4aea5",
   "metadata": {},
   "outputs": [
    {
     "name": "stdout",
     "output_type": "stream",
     "text": [
      "{'Dhananjay', 'Amit', 'Rahul', 'Chandan'}\n",
      "{'Pavan', 'Amit', 'Rahul', 'Ashish'}\n"
     ]
    }
   ],
   "source": [
    "print(algebra)\n",
    "print(calculus)"
   ]
  },
  {
   "cell_type": "code",
   "execution_count": 199,
   "id": "e47be498-b243-44a8-8a90-61a97a7b45fc",
   "metadata": {},
   "outputs": [
    {
     "data": {
      "text/plain": [
       "{'Chandan', 'Dhananjay'}"
      ]
     },
     "execution_count": 199,
     "metadata": {},
     "output_type": "execute_result"
    }
   ],
   "source": [
    "algebra.difference(calculus)"
   ]
  },
  {
   "cell_type": "code",
   "execution_count": 200,
   "id": "453b779b-1b2e-4ee3-9b62-2d6b58b00bf3",
   "metadata": {},
   "outputs": [
    {
     "data": {
      "text/plain": [
       "{'Ashish', 'Pavan'}"
      ]
     },
     "execution_count": 200,
     "metadata": {},
     "output_type": "execute_result"
    }
   ],
   "source": [
    "calculus.difference(algebra)"
   ]
  },
  {
   "cell_type": "code",
   "execution_count": null,
   "id": "14de9fe9-8822-41e2-b81b-29a34f7ddb05",
   "metadata": {},
   "outputs": [],
   "source": []
  },
  {
   "cell_type": "code",
   "execution_count": null,
   "id": "ded11c41-b827-44b4-9de7-86f91545503a",
   "metadata": {},
   "outputs": [],
   "source": []
  },
  {
   "cell_type": "code",
   "execution_count": 201,
   "id": "9bc9c008-f37d-44f4-84e6-e18244f3ae86",
   "metadata": {},
   "outputs": [],
   "source": [
    "# Doubts"
   ]
  },
  {
   "cell_type": "code",
   "execution_count": 202,
   "id": "be9d8878-716c-4120-be37-e4f6fd2d5e49",
   "metadata": {},
   "outputs": [
    {
     "data": {
      "text/plain": [
       "{'Clothes', 'Food', 'Phone charger', 'Soap', 'Toothpaste', 'Torch'}"
      ]
     },
     "execution_count": 202,
     "metadata": {},
     "output_type": "execute_result"
    }
   ],
   "source": [
    "bag"
   ]
  },
  {
   "cell_type": "code",
   "execution_count": 203,
   "id": "a8b10e3c-fcfc-4885-8f3a-12e5610462bb",
   "metadata": {},
   "outputs": [],
   "source": [
    "for i in range(3):\n",
    "    bag.pop()"
   ]
  },
  {
   "cell_type": "code",
   "execution_count": 204,
   "id": "ca26dcfa-de7d-4cc9-8643-1da037ab7f89",
   "metadata": {},
   "outputs": [
    {
     "data": {
      "text/plain": [
       "{'Food', 'Soap', 'Toothpaste'}"
      ]
     },
     "execution_count": 204,
     "metadata": {},
     "output_type": "execute_result"
    }
   ],
   "source": [
    "bag"
   ]
  },
  {
   "cell_type": "code",
   "execution_count": 205,
   "id": "0582f051-4808-4fd3-b191-7343df1a4119",
   "metadata": {},
   "outputs": [],
   "source": [
    "class Solution:\n",
    "    # @param A : string\n",
    "    # @return a list of integers\n",
    "    def solve(self, A):\n",
    "        ans = [0]*2\n",
    "        vowels = \"aeiou\"\n",
    "        for i in range(0,len(A)):\n",
    "            if A[i] in vowels:\n",
    "                ans[0] += 1\n",
    "            else:\n",
    "                ans[1] += 1\n",
    "        return ans"
   ]
  },
  {
   "cell_type": "code",
   "execution_count": null,
   "id": "22f08948-685b-4deb-877c-f75e450fd72b",
   "metadata": {},
   "outputs": [],
   "source": [
    "an = [1, 3]"
   ]
  },
  {
   "cell_type": "code",
   "execution_count": null,
   "id": "5778ac1b-6a54-4da9-a22b-fbefd4ef5a61",
   "metadata": {},
   "outputs": [],
   "source": []
  },
  {
   "cell_type": "code",
   "execution_count": null,
   "id": "44de3bf5-78e8-40af-930a-0f5420e4a4c2",
   "metadata": {},
   "outputs": [],
   "source": []
  },
  {
   "cell_type": "code",
   "execution_count": null,
   "id": "3b84fa3f-9cb4-4eae-9de8-82c1d3ed7a1c",
   "metadata": {},
   "outputs": [],
   "source": []
  },
  {
   "cell_type": "code",
   "execution_count": null,
   "id": "da6d83d9-c22e-4904-bb77-ead18f6b087b",
   "metadata": {},
   "outputs": [],
   "source": []
  }
 ],
 "metadata": {
  "kernelspec": {
   "display_name": "Python 3 (ipykernel)",
   "language": "python",
   "name": "python3"
  },
  "language_info": {
   "codemirror_mode": {
    "name": "ipython",
    "version": 3
   },
   "file_extension": ".py",
   "mimetype": "text/x-python",
   "name": "python",
   "nbconvert_exporter": "python",
   "pygments_lexer": "ipython3",
   "version": "3.9.7"
  }
 },
 "nbformat": 4,
 "nbformat_minor": 5
}
