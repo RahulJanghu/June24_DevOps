{
 "cells": [
  {
   "cell_type": "markdown",
   "id": "ae248c3b-6862-4799-94e0-47f9f8f04ea5",
   "metadata": {},
   "source": [
    "### Print"
   ]
  },
  {
   "cell_type": "code",
   "execution_count": 1,
   "id": "87c56052-77e8-4566-9ab4-011db0c2ead2",
   "metadata": {},
   "outputs": [
    {
     "name": "stdout",
     "output_type": "stream",
     "text": [
      "Hello World\n"
     ]
    }
   ],
   "source": [
    "print(\"Hello World\")"
   ]
  },
  {
   "cell_type": "code",
   "execution_count": 2,
   "id": "50d3df5d-0f9f-4bb5-a6c0-ec2db6fcfaf2",
   "metadata": {},
   "outputs": [
    {
     "name": "stdout",
     "output_type": "stream",
     "text": [
      "Hello pythonistas\n"
     ]
    }
   ],
   "source": [
    "print(\"Hello pythonistas\")"
   ]
  },
  {
   "cell_type": "code",
   "execution_count": 4,
   "id": "fbc094b2-28b9-4dd7-9cc3-27ba5ee8df4a",
   "metadata": {},
   "outputs": [
    {
     "ename": "NameError",
     "evalue": "name 'Print' is not defined",
     "output_type": "error",
     "traceback": [
      "\u001b[0;31m---------------------------------------------------------------------------\u001b[0m",
      "\u001b[0;31mNameError\u001b[0m                                 Traceback (most recent call last)",
      "\u001b[0;32m/var/folders/t5/yhjgrjs907zfp250jyxtw54m0000gn/T/ipykernel_75728/3532812407.py\u001b[0m in \u001b[0;36m<module>\u001b[0;34m\u001b[0m\n\u001b[1;32m      1\u001b[0m \u001b[0;31m# Python is case sensitive language\u001b[0m\u001b[0;34m\u001b[0m\u001b[0;34m\u001b[0m\u001b[0m\n\u001b[1;32m      2\u001b[0m \u001b[0;34m\u001b[0m\u001b[0m\n\u001b[0;32m----> 3\u001b[0;31m \u001b[0mPrint\u001b[0m\u001b[0;34m(\u001b[0m\u001b[0;34m\"Hello Ashish\"\u001b[0m\u001b[0;34m)\u001b[0m\u001b[0;34m\u001b[0m\u001b[0;34m\u001b[0m\u001b[0m\n\u001b[0m",
      "\u001b[0;31mNameError\u001b[0m: name 'Print' is not defined"
     ]
    }
   ],
   "source": [
    "# Python is case sensitive language\n",
    "\n",
    "Print(\"Hello Ashish\")"
   ]
  },
  {
   "cell_type": "code",
   "execution_count": null,
   "id": "0e88bc3d-70c4-4be6-b2af-9bef8fc5504d",
   "metadata": {},
   "outputs": [],
   "source": []
  },
  {
   "cell_type": "code",
   "execution_count": 5,
   "id": "349936e0-b19e-450a-b954-e043f1c03216",
   "metadata": {},
   "outputs": [
    {
     "name": "stdout",
     "output_type": "stream",
     "text": [
      "3\n"
     ]
    }
   ],
   "source": [
    "print(3)"
   ]
  },
  {
   "cell_type": "code",
   "execution_count": 6,
   "id": "854ac1a2-dac0-44ad-b02a-b76f944fc259",
   "metadata": {},
   "outputs": [
    {
     "name": "stdout",
     "output_type": "stream",
     "text": [
      "11\n"
     ]
    }
   ],
   "source": [
    "print(6 + 5)"
   ]
  },
  {
   "cell_type": "code",
   "execution_count": 7,
   "id": "bca726a5-a88b-40e7-9256-e70e9329a4f5",
   "metadata": {},
   "outputs": [
    {
     "name": "stdout",
     "output_type": "stream",
     "text": [
      "6 + 5\n"
     ]
    }
   ],
   "source": [
    "print('6 + 5')"
   ]
  },
  {
   "cell_type": "code",
   "execution_count": 8,
   "id": "d49f0289-26c4-431b-a97d-eebd750d429b",
   "metadata": {},
   "outputs": [
    {
     "name": "stdout",
     "output_type": "stream",
     "text": [
      "5 * 7\n"
     ]
    }
   ],
   "source": [
    "print(\"5 * 7\")"
   ]
  },
  {
   "cell_type": "code",
   "execution_count": 9,
   "id": "eca003f7-efa6-47f3-ba80-6d7fb46931e0",
   "metadata": {},
   "outputs": [],
   "source": [
    "# Quiz"
   ]
  },
  {
   "cell_type": "code",
   "execution_count": 10,
   "id": "6740d191-b5b4-4817-8203-31fc11363eb5",
   "metadata": {},
   "outputs": [
    {
     "name": "stdout",
     "output_type": "stream",
     "text": [
      "3\n"
     ]
    }
   ],
   "source": [
    "print(8-5)"
   ]
  },
  {
   "cell_type": "code",
   "execution_count": null,
   "id": "9ef4ebe6-c0e9-42de-a101-3f37403131eb",
   "metadata": {},
   "outputs": [],
   "source": []
  },
  {
   "cell_type": "code",
   "execution_count": null,
   "id": "41ae45ff-10f5-42ae-a598-d70af6247362",
   "metadata": {},
   "outputs": [],
   "source": []
  },
  {
   "cell_type": "markdown",
   "id": "ac46f712-bcb9-4703-8522-a76fa7670d5e",
   "metadata": {
    "tags": []
   },
   "source": [
    "## Data types in Python\n",
    "- Integers\n",
    "- Float\n",
    "- Strings\n",
    "- Bool\n",
    "- None\n",
    "\n",
    "Check Data type"
   ]
  },
  {
   "cell_type": "code",
   "execution_count": null,
   "id": "147f9e19-be42-4940-a2c0-8210d17994fd",
   "metadata": {},
   "outputs": [],
   "source": []
  },
  {
   "cell_type": "code",
   "execution_count": null,
   "id": "c51a5aa3-89da-40f1-afcd-e66299d96f38",
   "metadata": {},
   "outputs": [],
   "source": []
  },
  {
   "cell_type": "markdown",
   "id": "8b90030d-c52c-4c4f-93f5-6bd0faf324a3",
   "metadata": {},
   "source": [
    "#### Integers\n",
    "- You can use an integer represent numeric data, and more specifically, whole numbers from negative infinity to infinity, like 4, 5, or -1."
   ]
  },
  {
   "cell_type": "code",
   "execution_count": 11,
   "id": "2e7c400d-b6aa-489c-952d-a6e53216a438",
   "metadata": {},
   "outputs": [
    {
     "data": {
      "text/plain": [
       "int"
      ]
     },
     "execution_count": 11,
     "metadata": {},
     "output_type": "execute_result"
    }
   ],
   "source": [
    "type(18936198246981246981246124)"
   ]
  },
  {
   "cell_type": "code",
   "execution_count": 12,
   "id": "1f975f1f-c516-46d3-b924-cc960ef29e6b",
   "metadata": {},
   "outputs": [
    {
     "name": "stdout",
     "output_type": "stream",
     "text": [
      "<class 'int'>\n"
     ]
    }
   ],
   "source": [
    "print(type(-8234648236402))"
   ]
  },
  {
   "cell_type": "code",
   "execution_count": 13,
   "id": "85561096-588c-4238-9a96-725555a154f4",
   "metadata": {},
   "outputs": [
    {
     "data": {
      "text/plain": [
       "int"
      ]
     },
     "execution_count": 13,
     "metadata": {},
     "output_type": "execute_result"
    }
   ],
   "source": [
    "type(6)"
   ]
  },
  {
   "cell_type": "code",
   "execution_count": 14,
   "id": "3c0ff5ff-da4b-4266-846c-baaf5d718894",
   "metadata": {},
   "outputs": [
    {
     "name": "stdout",
     "output_type": "stream",
     "text": [
      "Hello\n",
      "World\n"
     ]
    }
   ],
   "source": [
    "print(\"Hello\")\n",
    "print(\"World\")"
   ]
  },
  {
   "cell_type": "code",
   "execution_count": 15,
   "id": "89dd0a9c-c8bd-4835-bff1-330238d35f5e",
   "metadata": {},
   "outputs": [
    {
     "data": {
      "text/plain": [
       "int"
      ]
     },
     "execution_count": 15,
     "metadata": {},
     "output_type": "execute_result"
    }
   ],
   "source": [
    "type(2)\n",
    "type(5)\n",
    "type(60)"
   ]
  },
  {
   "cell_type": "code",
   "execution_count": null,
   "id": "99db048b-c43e-4194-82ae-4a4e0624013f",
   "metadata": {},
   "outputs": [],
   "source": []
  },
  {
   "cell_type": "code",
   "execution_count": null,
   "id": "ada4cea5-7b58-4547-a36e-f2761c08c3b3",
   "metadata": {},
   "outputs": [],
   "source": []
  },
  {
   "cell_type": "markdown",
   "id": "affcbfc4-ce2b-4ee5-a520-fcfc936198f2",
   "metadata": {},
   "source": [
    "#### Type function"
   ]
  },
  {
   "cell_type": "code",
   "execution_count": 16,
   "id": "742b6d78-058f-46a7-96dd-0d042c37930d",
   "metadata": {},
   "outputs": [],
   "source": [
    "# tells the data type of an object"
   ]
  },
  {
   "cell_type": "code",
   "execution_count": null,
   "id": "f41f26fa-932a-400c-8b4f-523153525c45",
   "metadata": {},
   "outputs": [],
   "source": []
  },
  {
   "cell_type": "code",
   "execution_count": null,
   "id": "dfc5f2a7-4b76-478d-9671-42037ec5ac0b",
   "metadata": {},
   "outputs": [],
   "source": []
  },
  {
   "cell_type": "markdown",
   "id": "b0653c67-53b5-436f-a1dd-15dd63f8cc21",
   "metadata": {},
   "source": [
    "#### Floats\n",
    "- \"Float\" stands for 'floating point number'. You can use it for rational numbers, usually ending with a decimal figure, such as 1.11 or 3.14."
   ]
  },
  {
   "cell_type": "code",
   "execution_count": 17,
   "id": "061bec62-bbc4-479b-862a-f411b3cf3c85",
   "metadata": {},
   "outputs": [
    {
     "data": {
      "text/plain": [
       "float"
      ]
     },
     "execution_count": 17,
     "metadata": {},
     "output_type": "execute_result"
    }
   ],
   "source": [
    "type(-34343.33453434)"
   ]
  },
  {
   "cell_type": "code",
   "execution_count": 18,
   "id": "84bc3e0c-5696-4ff6-aab9-79ff1e4767ee",
   "metadata": {},
   "outputs": [
    {
     "data": {
      "text/plain": [
       "float"
      ]
     },
     "execution_count": 18,
     "metadata": {},
     "output_type": "execute_result"
    }
   ],
   "source": [
    "type(5.0)"
   ]
  },
  {
   "cell_type": "code",
   "execution_count": 19,
   "id": "3af5fb16-2921-46ca-8baf-69ddf79eff57",
   "metadata": {},
   "outputs": [
    {
     "data": {
      "text/plain": [
       "float"
      ]
     },
     "execution_count": 19,
     "metadata": {},
     "output_type": "execute_result"
    }
   ],
   "source": [
    "type(5.)"
   ]
  },
  {
   "cell_type": "code",
   "execution_count": 21,
   "id": "be428f39-ecf9-499b-bc38-bf7e4fc7df1d",
   "metadata": {},
   "outputs": [
    {
     "name": "stdout",
     "output_type": "stream",
     "text": [
      "<class 'int'>\n",
      "<class 'float'>\n"
     ]
    }
   ],
   "source": [
    "print(type(3))\n",
    "print(type(5.3))"
   ]
  },
  {
   "cell_type": "code",
   "execution_count": null,
   "id": "cbccaad8-52b1-4fd5-91d0-9d2e9f1f9b92",
   "metadata": {},
   "outputs": [],
   "source": []
  },
  {
   "cell_type": "code",
   "execution_count": null,
   "id": "53c67b1e-f203-44f7-a4dc-e55686c6023b",
   "metadata": {},
   "outputs": [],
   "source": []
  },
  {
   "cell_type": "markdown",
   "id": "0b76e83f-a35b-4be0-9ce9-34c4a93755b1",
   "metadata": {},
   "source": [
    "#### Strings\n",
    "- Strings are collections of alphabets, words or other characters. In Python, you can create strings by enclosing a sequence of characters within a pair of single or double quotes. For example: 'cake', \"cookie\", etc."
   ]
  },
  {
   "cell_type": "code",
   "execution_count": 22,
   "id": "22f95b4e-fca1-401b-93f6-4b447ae5682a",
   "metadata": {},
   "outputs": [],
   "source": [
    "# Printing multiple strings"
   ]
  },
  {
   "cell_type": "code",
   "execution_count": 23,
   "id": "10557ac5-2615-4185-be87-8e1d8b9b538e",
   "metadata": {},
   "outputs": [
    {
     "data": {
      "text/plain": [
       "str"
      ]
     },
     "execution_count": 23,
     "metadata": {},
     "output_type": "execute_result"
    }
   ],
   "source": [
    "type('fvc8i23yfhbcui32yfhclgb##!R$@tfnvio32lfghou2bv ')"
   ]
  },
  {
   "cell_type": "code",
   "execution_count": 24,
   "id": "83ac2d57-5855-4be8-990a-114445393393",
   "metadata": {},
   "outputs": [
    {
     "data": {
      "text/plain": [
       "str"
      ]
     },
     "execution_count": 24,
     "metadata": {},
     "output_type": "execute_result"
    }
   ],
   "source": [
    "type(\"你好\")"
   ]
  },
  {
   "cell_type": "code",
   "execution_count": 27,
   "id": "d35ffaf8-ec91-42ac-8884-c910d77f7a8b",
   "metadata": {},
   "outputs": [
    {
     "data": {
      "text/plain": [
       "str"
      ]
     },
     "execution_count": 27,
     "metadata": {},
     "output_type": "execute_result"
    }
   ],
   "source": [
    "type(\"\"\"你好njkwhvio3r\"\"\")"
   ]
  },
  {
   "cell_type": "code",
   "execution_count": 26,
   "id": "d4e431b6-669f-45a0-96d9-8797041f2a9f",
   "metadata": {},
   "outputs": [
    {
     "data": {
      "text/plain": [
       "str"
      ]
     },
     "execution_count": 26,
     "metadata": {},
     "output_type": "execute_result"
    }
   ],
   "source": [
    "type('''你好''')"
   ]
  },
  {
   "cell_type": "code",
   "execution_count": 29,
   "id": "e7840547-4261-4941-b170-478438574f45",
   "metadata": {},
   "outputs": [],
   "source": [
    "s = '''\n",
    "hey\n",
    "this \n",
    "is a \n",
    "multiline\n",
    "string\n",
    "'''"
   ]
  },
  {
   "cell_type": "code",
   "execution_count": 30,
   "id": "3e1efd11-f4bb-43c3-910b-450521eb91da",
   "metadata": {},
   "outputs": [
    {
     "data": {
      "text/plain": [
       "str"
      ]
     },
     "execution_count": 30,
     "metadata": {},
     "output_type": "execute_result"
    }
   ],
   "source": [
    "type(s)"
   ]
  },
  {
   "cell_type": "code",
   "execution_count": 31,
   "id": "ab39a4aa-8b28-479e-8b2c-80f4445c954b",
   "metadata": {},
   "outputs": [
    {
     "data": {
      "text/plain": [
       "str"
      ]
     },
     "execution_count": 31,
     "metadata": {},
     "output_type": "execute_result"
    }
   ],
   "source": [
    "type(\"\")"
   ]
  },
  {
   "cell_type": "code",
   "execution_count": null,
   "id": "8988a7a1-e3ef-4a51-ba3f-fcd756538238",
   "metadata": {},
   "outputs": [],
   "source": []
  },
  {
   "cell_type": "code",
   "execution_count": null,
   "id": "54d8ee0c-a270-4315-9e57-79b1ca94d15f",
   "metadata": {},
   "outputs": [],
   "source": []
  },
  {
   "cell_type": "markdown",
   "id": "8e8b6566-d6d7-403a-b282-da06908daa63",
   "metadata": {},
   "source": [
    "#### Boolean\n",
    "- This built-in data type that can take up the values: True and False, which often makes them interchangeable with the integers 1 and 0. Booleans are useful in conditional and comparison expressions"
   ]
  },
  {
   "cell_type": "code",
   "execution_count": 32,
   "id": "2cbcbcba-1cab-4554-857c-192dc0728eab",
   "metadata": {},
   "outputs": [],
   "source": [
    "# True, False"
   ]
  },
  {
   "cell_type": "code",
   "execution_count": 35,
   "id": "7efa1217-1385-4417-958d-771395869d19",
   "metadata": {},
   "outputs": [
    {
     "data": {
      "text/plain": [
       "bool"
      ]
     },
     "execution_count": 35,
     "metadata": {},
     "output_type": "execute_result"
    }
   ],
   "source": [
    "type(True)"
   ]
  },
  {
   "cell_type": "code",
   "execution_count": 36,
   "id": "626be282-52a4-4021-8461-c460f615dcb2",
   "metadata": {},
   "outputs": [
    {
     "data": {
      "text/plain": [
       "bool"
      ]
     },
     "execution_count": 36,
     "metadata": {},
     "output_type": "execute_result"
    }
   ],
   "source": [
    "type(False)"
   ]
  },
  {
   "cell_type": "code",
   "execution_count": null,
   "id": "b030cbe2-2bd6-480f-907d-b70b3de7ace6",
   "metadata": {},
   "outputs": [],
   "source": []
  },
  {
   "cell_type": "code",
   "execution_count": 37,
   "id": "780b581e-b318-48ab-8db8-0a703fbf58aa",
   "metadata": {},
   "outputs": [],
   "source": [
    "# Python can differentiate between small case and upper case: CaseSensitive"
   ]
  },
  {
   "cell_type": "code",
   "execution_count": 38,
   "id": "2aab17ee-c5e0-41b1-a7ae-ebb17d6d6ec2",
   "metadata": {},
   "outputs": [
    {
     "ename": "NameError",
     "evalue": "name 'true' is not defined",
     "output_type": "error",
     "traceback": [
      "\u001b[0;31m---------------------------------------------------------------------------\u001b[0m",
      "\u001b[0;31mNameError\u001b[0m                                 Traceback (most recent call last)",
      "\u001b[0;32m/var/folders/t5/yhjgrjs907zfp250jyxtw54m0000gn/T/ipykernel_75728/1822790664.py\u001b[0m in \u001b[0;36m<module>\u001b[0;34m\u001b[0m\n\u001b[0;32m----> 1\u001b[0;31m \u001b[0mtype\u001b[0m\u001b[0;34m(\u001b[0m\u001b[0mtrue\u001b[0m\u001b[0;34m)\u001b[0m\u001b[0;34m\u001b[0m\u001b[0;34m\u001b[0m\u001b[0m\n\u001b[0m",
      "\u001b[0;31mNameError\u001b[0m: name 'true' is not defined"
     ]
    }
   ],
   "source": [
    "type(true)"
   ]
  },
  {
   "cell_type": "code",
   "execution_count": null,
   "id": "33a40bc4-3544-4e4c-bc01-568523faa3bc",
   "metadata": {},
   "outputs": [],
   "source": []
  },
  {
   "cell_type": "code",
   "execution_count": 40,
   "id": "9f487302-95e9-4e1c-8f8f-a2a633897762",
   "metadata": {},
   "outputs": [
    {
     "data": {
      "text/plain": [
       "True"
      ]
     },
     "execution_count": 40,
     "metadata": {},
     "output_type": "execute_result"
    }
   ],
   "source": [
    "2 == 2"
   ]
  },
  {
   "cell_type": "code",
   "execution_count": 41,
   "id": "23babe90-41df-4d99-bfcf-b4a68a13489a",
   "metadata": {},
   "outputs": [
    {
     "data": {
      "text/plain": [
       "False"
      ]
     },
     "execution_count": 41,
     "metadata": {},
     "output_type": "execute_result"
    }
   ],
   "source": [
    "3 == 2"
   ]
  },
  {
   "cell_type": "code",
   "execution_count": null,
   "id": "a282e129-7210-4849-bc80-c237b1745bdc",
   "metadata": {},
   "outputs": [],
   "source": []
  },
  {
   "cell_type": "markdown",
   "id": "544c7fed-6a2f-4939-8cff-f17b2087316e",
   "metadata": {},
   "source": [
    "## None Data Type\n",
    "- None data means no data or void"
   ]
  },
  {
   "cell_type": "code",
   "execution_count": 43,
   "id": "8414f02d-440f-439a-bf93-d645b437e027",
   "metadata": {},
   "outputs": [
    {
     "data": {
      "text/plain": [
       "NoneType"
      ]
     },
     "execution_count": 43,
     "metadata": {},
     "output_type": "execute_result"
    }
   ],
   "source": [
    "type(None)"
   ]
  },
  {
   "cell_type": "code",
   "execution_count": 45,
   "id": "bc834bfd-18f6-4d1f-87f1-1f919c0f08f4",
   "metadata": {},
   "outputs": [],
   "source": [
    "x = None"
   ]
  },
  {
   "cell_type": "code",
   "execution_count": 47,
   "id": "bb69eba8-39c4-4eb8-b3cf-f5491e16a3ae",
   "metadata": {},
   "outputs": [
    {
     "name": "stdout",
     "output_type": "stream",
     "text": [
      "<class 'str'>\n"
     ]
    }
   ],
   "source": [
    "print(type(\"subham\"))"
   ]
  },
  {
   "cell_type": "code",
   "execution_count": null,
   "id": "bbe1bc2c-6d0b-4833-a432-1d0871b91ac9",
   "metadata": {},
   "outputs": [],
   "source": []
  },
  {
   "cell_type": "markdown",
   "id": "30370d30-f4db-4fad-a320-5e84223192b0",
   "metadata": {},
   "source": [
    "## Variables\n",
    "It's a type of variable's Rules for naming variables\n",
    "\n",
    "- Name must start from Alphabet(small or caps) or underscore(_)\n",
    "- They are case sensitive. It can differentiate between small and CAPS.\n",
    "- Name should not start with number\n",
    "- No special characters\n",
    "- It can be alphanumeric as well"
   ]
  },
  {
   "cell_type": "code",
   "execution_count": 48,
   "id": "9526b145-0242-4da1-9976-bdd210bd21fd",
   "metadata": {},
   "outputs": [],
   "source": [
    "# Variables are containers which holds some data"
   ]
  },
  {
   "cell_type": "code",
   "execution_count": 49,
   "id": "95a00e96-a4cc-4ea2-aa6a-50c49037fd9e",
   "metadata": {},
   "outputs": [],
   "source": [
    "# Variable holds latest value"
   ]
  },
  {
   "cell_type": "code",
   "execution_count": 50,
   "id": "94a026ae-83ba-43a2-a472-6856641df3fe",
   "metadata": {},
   "outputs": [
    {
     "name": "stdout",
     "output_type": "stream",
     "text": [
      "11\n"
     ]
    }
   ],
   "source": [
    "x = 5\n",
    "y = 6\n",
    "\n",
    "print(x + y)"
   ]
  },
  {
   "cell_type": "code",
   "execution_count": 51,
   "id": "77d8022c-4cc5-4b06-937a-b423cd4dd7de",
   "metadata": {},
   "outputs": [],
   "source": [
    "_1 = 4"
   ]
  },
  {
   "cell_type": "code",
   "execution_count": 52,
   "id": "5dbfb88d-afa3-4b7d-9c60-fda2fb2d5bb0",
   "metadata": {},
   "outputs": [
    {
     "name": "stdout",
     "output_type": "stream",
     "text": [
      "4\n"
     ]
    }
   ],
   "source": [
    "print(_1)"
   ]
  },
  {
   "cell_type": "code",
   "execution_count": 53,
   "id": "ade1971e-03d3-47c1-8aaa-ad47571f9297",
   "metadata": {},
   "outputs": [
    {
     "name": "stdout",
     "output_type": "stream",
     "text": [
      "58\n"
     ]
    }
   ],
   "source": [
    "num1 = 4\n",
    "num2 = 54\n",
    "\n",
    "print(num1 + num2)"
   ]
  },
  {
   "cell_type": "code",
   "execution_count": 55,
   "id": "af14536b-ecea-4995-bbbf-2565cd75481e",
   "metadata": {},
   "outputs": [],
   "source": [
    "# No special character is allowed\n",
    "# name@1 = 45"
   ]
  },
  {
   "cell_type": "code",
   "execution_count": null,
   "id": "0e254bba-8cf3-4ab3-8dcc-63233fa7c39b",
   "metadata": {},
   "outputs": [],
   "source": []
  },
  {
   "cell_type": "code",
   "execution_count": 57,
   "id": "7abea60b-ac60-4537-ae62-74bf8ba3288c",
   "metadata": {},
   "outputs": [],
   "source": [
    "first_name = \"Rahul\""
   ]
  },
  {
   "cell_type": "code",
   "execution_count": 61,
   "id": "fa031e0e-ca47-4987-8563-2986a6b869b2",
   "metadata": {},
   "outputs": [],
   "source": [
    "_ = 45"
   ]
  },
  {
   "cell_type": "code",
   "execution_count": 59,
   "id": "c8e050f1-1e6c-49f5-8aae-4a6ceca738ca",
   "metadata": {},
   "outputs": [
    {
     "name": "stdout",
     "output_type": "stream",
     "text": [
      "45\n"
     ]
    }
   ],
   "source": [
    "print(_)"
   ]
  },
  {
   "cell_type": "code",
   "execution_count": 62,
   "id": "0a4cf7f1-dc33-4bc5-9258-540dd23a85d9",
   "metadata": {},
   "outputs": [
    {
     "ename": "NameError",
     "evalue": "name 'Name' is not defined",
     "output_type": "error",
     "traceback": [
      "\u001b[0;31m---------------------------------------------------------------------------\u001b[0m",
      "\u001b[0;31mNameError\u001b[0m                                 Traceback (most recent call last)",
      "\u001b[0;32m/var/folders/t5/yhjgrjs907zfp250jyxtw54m0000gn/T/ipykernel_75728/1776956731.py\u001b[0m in \u001b[0;36m<module>\u001b[0;34m\u001b[0m\n\u001b[1;32m      1\u001b[0m \u001b[0mname\u001b[0m \u001b[0;34m=\u001b[0m \u001b[0;34m\"Rahul\"\u001b[0m\u001b[0;34m\u001b[0m\u001b[0;34m\u001b[0m\u001b[0m\n\u001b[0;32m----> 2\u001b[0;31m \u001b[0mprint\u001b[0m\u001b[0;34m(\u001b[0m\u001b[0mName\u001b[0m\u001b[0;34m)\u001b[0m\u001b[0;34m\u001b[0m\u001b[0;34m\u001b[0m\u001b[0m\n\u001b[0m",
      "\u001b[0;31mNameError\u001b[0m: name 'Name' is not defined"
     ]
    }
   ],
   "source": [
    "name = \"Rahul\"\n",
    "print(Name)"
   ]
  },
  {
   "cell_type": "code",
   "execution_count": null,
   "id": "d2fa4da4-de57-47f5-94ed-787a055696d8",
   "metadata": {},
   "outputs": [],
   "source": []
  },
  {
   "cell_type": "code",
   "execution_count": 64,
   "id": "1de77c77-5bc3-4a89-bdc9-f0920aeb409b",
   "metadata": {},
   "outputs": [],
   "source": [
    "# A variable holds the latest value"
   ]
  },
  {
   "cell_type": "code",
   "execution_count": 63,
   "id": "90e9925d-98dd-40a1-92ab-464092ae07d5",
   "metadata": {},
   "outputs": [
    {
     "name": "stdout",
     "output_type": "stream",
     "text": [
      "7\n"
     ]
    }
   ],
   "source": [
    "x = 6\n",
    "x = 5\n",
    "x = 7\n",
    "\n",
    "print(x)"
   ]
  },
  {
   "cell_type": "code",
   "execution_count": 65,
   "id": "7c2608ba-cc28-4e1f-bb45-9dc29f249b91",
   "metadata": {},
   "outputs": [],
   "source": [
    "NaME = \"Rahul\""
   ]
  },
  {
   "cell_type": "code",
   "execution_count": 68,
   "id": "56475c4c-3e65-47f1-8516-26cd10abc930",
   "metadata": {},
   "outputs": [
    {
     "name": "stdout",
     "output_type": "stream",
     "text": [
      "Rahul\n"
     ]
    }
   ],
   "source": [
    "print(NaME)"
   ]
  },
  {
   "cell_type": "code",
   "execution_count": null,
   "id": "bda53d0b-8c93-413d-835b-66196d2b9160",
   "metadata": {},
   "outputs": [],
   "source": []
  },
  {
   "cell_type": "code",
   "execution_count": 69,
   "id": "3295052c-256d-4737-b72e-1e6fc6c921bf",
   "metadata": {},
   "outputs": [],
   "source": [
    "# hELLO \n",
    "# 1_name_Input \n",
    "# a*b*c\n",
    "# cod3$#"
   ]
  },
  {
   "cell_type": "code",
   "execution_count": null,
   "id": "81935ee5-fa14-42a4-bfa7-6abaee23523e",
   "metadata": {},
   "outputs": [],
   "source": []
  },
  {
   "cell_type": "code",
   "execution_count": null,
   "id": "e7ec7e07-f257-4ff5-a7c0-e2ffb4c25b3f",
   "metadata": {},
   "outputs": [],
   "source": []
  },
  {
   "cell_type": "markdown",
   "id": "cb852eef-bc51-486b-8b47-e21cb9af3fed",
   "metadata": {},
   "source": [
    "## Input function\n",
    "- It takes input from user i.e us\n",
    "- Typecasting of input function"
   ]
  },
  {
   "cell_type": "code",
   "execution_count": 71,
   "id": "f3aa6fc4-f550-4b7f-9a00-21f70f5d000e",
   "metadata": {},
   "outputs": [
    {
     "name": "stdin",
     "output_type": "stream",
     "text": [
      " Atomic Habits\n"
     ]
    }
   ],
   "source": [
    "product = input()"
   ]
  },
  {
   "cell_type": "code",
   "execution_count": 73,
   "id": "4222dad9-f4f5-4b66-bdd1-268656aa3178",
   "metadata": {},
   "outputs": [
    {
     "name": "stdout",
     "output_type": "stream",
     "text": [
      "Atomic Habits\n"
     ]
    }
   ],
   "source": [
    "print(product)"
   ]
  },
  {
   "cell_type": "code",
   "execution_count": null,
   "id": "95ba5696-21a3-4c0e-90df-ecf3614a313b",
   "metadata": {},
   "outputs": [],
   "source": []
  },
  {
   "cell_type": "code",
   "execution_count": 74,
   "id": "0fe11896-41ec-4cb1-9948-0f601cee77f3",
   "metadata": {},
   "outputs": [
    {
     "name": "stdin",
     "output_type": "stream",
     "text": [
      " 3\n"
     ]
    }
   ],
   "source": [
    "a = input()"
   ]
  },
  {
   "cell_type": "code",
   "execution_count": 75,
   "id": "01743334-c747-4945-ae8d-daf2eb4ea336",
   "metadata": {},
   "outputs": [
    {
     "data": {
      "text/plain": [
       "str"
      ]
     },
     "execution_count": 75,
     "metadata": {},
     "output_type": "execute_result"
    }
   ],
   "source": [
    "type(a)"
   ]
  },
  {
   "cell_type": "code",
   "execution_count": null,
   "id": "33386675-a62f-49dd-8499-983c268d57e7",
   "metadata": {},
   "outputs": [],
   "source": []
  },
  {
   "cell_type": "markdown",
   "id": "2180723a-c8c9-4284-8276-411c33c46954",
   "metadata": {},
   "source": [
    "### Challenge: Take two user input and add them"
   ]
  },
  {
   "cell_type": "code",
   "execution_count": 77,
   "id": "3bcb331d-b7e0-49bf-9b84-3b7a33998e2e",
   "metadata": {},
   "outputs": [
    {
     "name": "stdin",
     "output_type": "stream",
     "text": [
      " 3\n",
      " 5\n"
     ]
    }
   ],
   "source": [
    "x = input()\n",
    "y = input()"
   ]
  },
  {
   "cell_type": "code",
   "execution_count": 79,
   "id": "9d5f36ae-c912-4c50-a557-81665f59bfa2",
   "metadata": {},
   "outputs": [
    {
     "name": "stdout",
     "output_type": "stream",
     "text": [
      "3 5\n"
     ]
    }
   ],
   "source": [
    "print(x, y)"
   ]
  },
  {
   "cell_type": "code",
   "execution_count": 80,
   "id": "ef8aed99-6d11-4930-9fa6-225908b5152b",
   "metadata": {},
   "outputs": [
    {
     "name": "stdout",
     "output_type": "stream",
     "text": [
      "35\n"
     ]
    }
   ],
   "source": [
    "print(x + y)"
   ]
  },
  {
   "cell_type": "code",
   "execution_count": 81,
   "id": "dbe75e79-0c9d-433a-9979-4b72258bce70",
   "metadata": {},
   "outputs": [
    {
     "data": {
      "text/plain": [
       "'3'"
      ]
     },
     "execution_count": 81,
     "metadata": {},
     "output_type": "execute_result"
    }
   ],
   "source": [
    "x"
   ]
  },
  {
   "cell_type": "code",
   "execution_count": 82,
   "id": "8e76ab7a-9e07-4a8a-8c07-6da3ff2728bd",
   "metadata": {},
   "outputs": [
    {
     "name": "stdout",
     "output_type": "stream",
     "text": [
      "Rahul\n"
     ]
    }
   ],
   "source": [
    "print(\"Rahul\")"
   ]
  },
  {
   "cell_type": "code",
   "execution_count": null,
   "id": "d59b9a32-b7b4-451e-b703-4f9143729154",
   "metadata": {},
   "outputs": [],
   "source": []
  },
  {
   "cell_type": "code",
   "execution_count": 83,
   "id": "64c7ce35-2c10-4f9e-80b4-b235baf12394",
   "metadata": {},
   "outputs": [
    {
     "name": "stdout",
     "output_type": "stream",
     "text": [
      "RahulJanghu\n"
     ]
    }
   ],
   "source": [
    "first_name = \"Rahul\"\n",
    "last_name = \"Janghu\"\n",
    "\n",
    "print(first_name + last_name)"
   ]
  },
  {
   "cell_type": "code",
   "execution_count": 84,
   "id": "a7b4d4a7-0d72-43bb-affe-5515d7d6f2a3",
   "metadata": {},
   "outputs": [
    {
     "name": "stdout",
     "output_type": "stream",
     "text": [
      "11\n"
     ]
    }
   ],
   "source": [
    "print(\"1\" + \"1\")"
   ]
  },
  {
   "cell_type": "code",
   "execution_count": 85,
   "id": "c18c7963-667c-446a-a1cd-5534215ba684",
   "metadata": {},
   "outputs": [
    {
     "name": "stdout",
     "output_type": "stream",
     "text": [
      "2\n"
     ]
    }
   ],
   "source": [
    "print(1 + 1)"
   ]
  },
  {
   "cell_type": "code",
   "execution_count": null,
   "id": "c6d4bf10-7270-4515-baea-b08977ce972f",
   "metadata": {},
   "outputs": [],
   "source": []
  },
  {
   "cell_type": "code",
   "execution_count": 86,
   "id": "eef67913-9fbd-4f3f-9373-fab590791da1",
   "metadata": {},
   "outputs": [],
   "source": [
    "# Default type of input function is string"
   ]
  },
  {
   "cell_type": "code",
   "execution_count": 87,
   "id": "f3817b96-a2b8-4c09-878e-83861f0b1f1f",
   "metadata": {},
   "outputs": [],
   "source": [
    "# String concatenation"
   ]
  },
  {
   "cell_type": "code",
   "execution_count": 88,
   "id": "e163b738-785a-4a44-98ef-4e010753159c",
   "metadata": {},
   "outputs": [],
   "source": [
    "# String addition is known as string concatenation"
   ]
  },
  {
   "cell_type": "code",
   "execution_count": null,
   "id": "7e0c7a8b-1d33-486a-94fc-6ac8eefa0d72",
   "metadata": {},
   "outputs": [],
   "source": []
  },
  {
   "cell_type": "code",
   "execution_count": null,
   "id": "4ae63b19-4df4-464e-a20e-f3c9897e1e0d",
   "metadata": {},
   "outputs": [],
   "source": []
  },
  {
   "cell_type": "code",
   "execution_count": 89,
   "id": "b9d38daf-6529-4be1-a85d-7c002716874f",
   "metadata": {},
   "outputs": [],
   "source": [
    "# Typecasting or type conversion"
   ]
  },
  {
   "cell_type": "code",
   "execution_count": 90,
   "id": "e454b5f2-f09d-449e-8ed6-4b816f67e88e",
   "metadata": {},
   "outputs": [],
   "source": [
    "# The batman costume"
   ]
  },
  {
   "cell_type": "code",
   "execution_count": 91,
   "id": "a3a31684-52c8-495e-8d2b-f6e04c4ebebe",
   "metadata": {},
   "outputs": [],
   "source": [
    "a = int('2')"
   ]
  },
  {
   "cell_type": "code",
   "execution_count": 92,
   "id": "224ed1f7-267e-4893-9e41-2fef237fcf36",
   "metadata": {},
   "outputs": [
    {
     "name": "stdout",
     "output_type": "stream",
     "text": [
      "<class 'int'>\n"
     ]
    }
   ],
   "source": [
    "print(type(a))"
   ]
  },
  {
   "cell_type": "code",
   "execution_count": null,
   "id": "fc9bc7a4-2ccb-4673-910f-06fa97a8a7f9",
   "metadata": {},
   "outputs": [],
   "source": []
  },
  {
   "cell_type": "code",
   "execution_count": 94,
   "id": "e5183bc2-fc8a-4a2e-9830-c4cb3fb27b23",
   "metadata": {},
   "outputs": [
    {
     "name": "stdin",
     "output_type": "stream",
     "text": [
      " 3\n",
      " 4\n"
     ]
    }
   ],
   "source": [
    "x = int(input())\n",
    "y = int(input())"
   ]
  },
  {
   "cell_type": "code",
   "execution_count": 95,
   "id": "626e6676-0e56-4126-94c2-e56c853054fb",
   "metadata": {},
   "outputs": [
    {
     "data": {
      "text/plain": [
       "int"
      ]
     },
     "execution_count": 95,
     "metadata": {},
     "output_type": "execute_result"
    }
   ],
   "source": [
    "type(x)"
   ]
  },
  {
   "cell_type": "code",
   "execution_count": 96,
   "id": "d189a760-bbdb-41d6-aefe-f0a9905d1caf",
   "metadata": {},
   "outputs": [
    {
     "data": {
      "text/plain": [
       "int"
      ]
     },
     "execution_count": 96,
     "metadata": {},
     "output_type": "execute_result"
    }
   ],
   "source": [
    "type(y)"
   ]
  },
  {
   "cell_type": "code",
   "execution_count": 97,
   "id": "f6c7b67c-9ce2-4769-bc70-3350f6190561",
   "metadata": {},
   "outputs": [
    {
     "name": "stdout",
     "output_type": "stream",
     "text": [
      "7\n"
     ]
    }
   ],
   "source": [
    "print(x + y)"
   ]
  },
  {
   "cell_type": "code",
   "execution_count": null,
   "id": "0380d43f-4210-4d26-9d50-5121555f349b",
   "metadata": {},
   "outputs": [],
   "source": []
  },
  {
   "cell_type": "code",
   "execution_count": 98,
   "id": "32c0b944-ef8a-4346-b8d3-f60b4f256f32",
   "metadata": {},
   "outputs": [
    {
     "name": "stdin",
     "output_type": "stream",
     "text": [
      " 3\n"
     ]
    }
   ],
   "source": [
    "x = input()"
   ]
  },
  {
   "cell_type": "code",
   "execution_count": 101,
   "id": "c1d0062d-4f3f-422c-a392-3d47e41504a4",
   "metadata": {},
   "outputs": [
    {
     "data": {
      "text/plain": [
       "str"
      ]
     },
     "execution_count": 101,
     "metadata": {},
     "output_type": "execute_result"
    }
   ],
   "source": [
    "type(\"c\")"
   ]
  },
  {
   "cell_type": "code",
   "execution_count": 102,
   "id": "0f10156c-ecb0-49e0-99d7-a7bc9e2e87ef",
   "metadata": {},
   "outputs": [],
   "source": [
    "c = 5"
   ]
  },
  {
   "cell_type": "code",
   "execution_count": 103,
   "id": "1a259bbe-cf94-43d5-a57a-a972ec8e2fc2",
   "metadata": {},
   "outputs": [
    {
     "data": {
      "text/plain": [
       "int"
      ]
     },
     "execution_count": 103,
     "metadata": {},
     "output_type": "execute_result"
    }
   ],
   "source": [
    "type(c)"
   ]
  },
  {
   "cell_type": "code",
   "execution_count": null,
   "id": "c905e883-f672-4a2f-b052-183dd77dc33d",
   "metadata": {},
   "outputs": [],
   "source": []
  },
  {
   "cell_type": "code",
   "execution_count": null,
   "id": "27764f6d-c9dd-4025-ae1b-7c672dd02210",
   "metadata": {},
   "outputs": [],
   "source": []
  },
  {
   "cell_type": "code",
   "execution_count": null,
   "id": "0cc0a8e4-cc2e-415e-8f04-fa59917eceb0",
   "metadata": {},
   "outputs": [],
   "source": []
  }
 ],
 "metadata": {
  "kernelspec": {
   "display_name": "Python 3 (ipykernel)",
   "language": "python",
   "name": "python3"
  },
  "language_info": {
   "codemirror_mode": {
    "name": "ipython",
    "version": 3
   },
   "file_extension": ".py",
   "mimetype": "text/x-python",
   "name": "python",
   "nbconvert_exporter": "python",
   "pygments_lexer": "ipython3",
   "version": "3.9.7"
  }
 },
 "nbformat": 4,
 "nbformat_minor": 5
}
