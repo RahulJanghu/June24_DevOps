{
 "cells": [
  {
   "cell_type": "markdown",
   "id": "4811ffe3-cd57-437b-bf57-c4dcb05ff3a4",
   "metadata": {},
   "source": [
    "## Dictionary\n",
    "- A dictionary is like an address-book where you can find the address or contact details of a person by knowing only his/her name i.e. we associate keys (name) with values (details). Note that the key must be unique just like you cannot find out the correct information if you have two persons with the exact same name.\n",
    "\n",
    "- Remember that key-value pairs in a dictionary are not ordered in any manner. But in Python version 3.7 and above they are ordered"
   ]
  },
  {
   "cell_type": "markdown",
   "id": "c79c8d48-831e-42ef-a135-c8a92e8f741b",
   "metadata": {},
   "source": [
    "#### Creating a dict"
   ]
  },
  {
   "cell_type": "code",
   "execution_count": 1,
   "id": "dea85596-7121-489b-a89c-bd4f2c28d970",
   "metadata": {},
   "outputs": [],
   "source": [
    "# Fruit rate on blinkit"
   ]
  },
  {
   "cell_type": "code",
   "execution_count": 2,
   "id": "4325214e-d59e-4548-ae92-6e8e937af44a",
   "metadata": {},
   "outputs": [],
   "source": [
    "# type of fruits"
   ]
  },
  {
   "cell_type": "code",
   "execution_count": 3,
   "id": "a8a24a2c-e55c-412b-87a4-6d91c192c783",
   "metadata": {},
   "outputs": [],
   "source": [
    "fruits = {\"Mango\" : 120, \"Litchi\" : 120, \"Banana\" : 50}"
   ]
  },
  {
   "cell_type": "code",
   "execution_count": 4,
   "id": "2fd285bb-d7f8-426d-a0c9-cfa75c5a3651",
   "metadata": {},
   "outputs": [
    {
     "data": {
      "text/plain": [
       "dict"
      ]
     },
     "execution_count": 4,
     "metadata": {},
     "output_type": "execute_result"
    }
   ],
   "source": [
    "type(fruits)"
   ]
  },
  {
   "cell_type": "code",
   "execution_count": 5,
   "id": "4037f636-4b75-4883-a3f8-bb024fb92081",
   "metadata": {},
   "outputs": [
    {
     "data": {
      "text/plain": [
       "{'Mango': 120, 'Litchi': 120, 'Banana': 50}"
      ]
     },
     "execution_count": 5,
     "metadata": {},
     "output_type": "execute_result"
    }
   ],
   "source": [
    "fruits"
   ]
  },
  {
   "cell_type": "code",
   "execution_count": null,
   "id": "6c788165-5081-4ff6-beda-e1080ada6baf",
   "metadata": {},
   "outputs": [],
   "source": []
  },
  {
   "cell_type": "code",
   "execution_count": null,
   "id": "e9604d01-30cf-4101-a144-19d18f0ed582",
   "metadata": {},
   "outputs": [],
   "source": []
  },
  {
   "cell_type": "code",
   "execution_count": null,
   "id": "8ab8c3c3-8b04-4557-abf9-4ea7afc047f8",
   "metadata": {},
   "outputs": [],
   "source": []
  },
  {
   "cell_type": "code",
   "execution_count": 6,
   "id": "d00183d6-c8e5-4629-87f5-4a47330f54ac",
   "metadata": {},
   "outputs": [],
   "source": [
    "# Empty dictionary"
   ]
  },
  {
   "cell_type": "code",
   "execution_count": 7,
   "id": "d176ab9e-68e7-47f0-ba31-7e7f5b7be157",
   "metadata": {},
   "outputs": [],
   "source": [
    "d = {}"
   ]
  },
  {
   "cell_type": "code",
   "execution_count": 8,
   "id": "7d952e86-3818-42ed-8228-a0569062fa7d",
   "metadata": {},
   "outputs": [
    {
     "data": {
      "text/plain": [
       "dict"
      ]
     },
     "execution_count": 8,
     "metadata": {},
     "output_type": "execute_result"
    }
   ],
   "source": [
    "type(d)"
   ]
  },
  {
   "cell_type": "code",
   "execution_count": null,
   "id": "48019794-8ef6-4391-a28c-da66a646316b",
   "metadata": {},
   "outputs": [],
   "source": []
  },
  {
   "cell_type": "code",
   "execution_count": null,
   "id": "73c3d1af-1d27-4ae9-a4a7-f7764f597208",
   "metadata": {},
   "outputs": [],
   "source": []
  },
  {
   "cell_type": "code",
   "execution_count": 9,
   "id": "839ac038-f183-4d49-9f8f-568a47007f54",
   "metadata": {},
   "outputs": [],
   "source": [
    "# zip\n",
    "# zip(key, value)"
   ]
  },
  {
   "cell_type": "code",
   "execution_count": 10,
   "id": "de0a247b-d25e-46d4-aa63-14fe56eb6acc",
   "metadata": {},
   "outputs": [],
   "source": [
    "name = [\"Rahul\", \"Uncle Sam\", \"John\", \"Jane\", \"Jenny\"]\n",
    "age = [23, 46, 48, 24, 28]"
   ]
  },
  {
   "cell_type": "code",
   "execution_count": 11,
   "id": "ab573858-e770-4069-866c-6023ec9b4797",
   "metadata": {},
   "outputs": [],
   "source": [
    "data = dict(zip(name, age))"
   ]
  },
  {
   "cell_type": "code",
   "execution_count": 12,
   "id": "12bfe4b8-307f-452c-bc36-653866464277",
   "metadata": {},
   "outputs": [
    {
     "data": {
      "text/plain": [
       "{'Rahul': 23, 'Uncle Sam': 46, 'John': 48, 'Jane': 24, 'Jenny': 28}"
      ]
     },
     "execution_count": 12,
     "metadata": {},
     "output_type": "execute_result"
    }
   ],
   "source": [
    "data"
   ]
  },
  {
   "cell_type": "code",
   "execution_count": 13,
   "id": "0bb6ba49-d8b6-4839-aef4-7b12736cf7f1",
   "metadata": {},
   "outputs": [],
   "source": [
    "name = [\"Rahul\", \"Uncle Sam\", \"John\", \"Jane\", \"Jenny\"]\n",
    "age = [23, 46, 48, 24, 28, 76, 32, 36]"
   ]
  },
  {
   "cell_type": "code",
   "execution_count": 14,
   "id": "4ba1658c-f75d-4555-a4f1-3a5eff58784d",
   "metadata": {},
   "outputs": [
    {
     "data": {
      "text/plain": [
       "{'Rahul': 23, 'Uncle Sam': 46, 'John': 48, 'Jane': 24, 'Jenny': 28}"
      ]
     },
     "execution_count": 14,
     "metadata": {},
     "output_type": "execute_result"
    }
   ],
   "source": [
    "dict(zip(name, age))"
   ]
  },
  {
   "cell_type": "code",
   "execution_count": null,
   "id": "370ad5ae-00fc-4e1d-b0ce-d6eb5a5ac0a2",
   "metadata": {},
   "outputs": [],
   "source": []
  },
  {
   "cell_type": "code",
   "execution_count": null,
   "id": "bf748f68-7b63-406a-b53c-5deaacfc1c92",
   "metadata": {},
   "outputs": [],
   "source": []
  },
  {
   "cell_type": "code",
   "execution_count": null,
   "id": "13ed092d-e9ae-4c03-b8ca-8f9ad0d0dec5",
   "metadata": {},
   "outputs": [],
   "source": []
  },
  {
   "cell_type": "code",
   "execution_count": null,
   "id": "9a0e43a4-0ecd-42eb-99ab-f0750c5d1cdd",
   "metadata": {},
   "outputs": [],
   "source": []
  },
  {
   "cell_type": "code",
   "execution_count": null,
   "id": "64e466fd-89ee-4a2e-a2a7-ca1cf4b0281e",
   "metadata": {},
   "outputs": [],
   "source": []
  },
  {
   "cell_type": "markdown",
   "id": "47ec3b27-dc0a-4e18-9909-c2287097e410",
   "metadata": {},
   "source": [
    "#### Access the values of the dict\n",
    "Dictionaries doesn't support indexing"
   ]
  },
  {
   "cell_type": "code",
   "execution_count": 15,
   "id": "d52e5116-5120-4757-9dc6-c0f43b2ad0ab",
   "metadata": {},
   "outputs": [],
   "source": [
    "# indexing?"
   ]
  },
  {
   "cell_type": "code",
   "execution_count": 16,
   "id": "4ff68163-639e-4511-a287-d4565f8e307d",
   "metadata": {},
   "outputs": [
    {
     "data": {
      "text/plain": [
       "{'Mango': 120, 'Litchi': 120, 'Banana': 50}"
      ]
     },
     "execution_count": 16,
     "metadata": {},
     "output_type": "execute_result"
    }
   ],
   "source": [
    "fruits"
   ]
  },
  {
   "cell_type": "code",
   "execution_count": 17,
   "id": "a695ab96-23db-4e9f-ac57-c6d94fdbb089",
   "metadata": {},
   "outputs": [],
   "source": [
    "# Dict does not support indexing\n",
    "# fruits[0]"
   ]
  },
  {
   "cell_type": "code",
   "execution_count": 18,
   "id": "676575d8-c8fb-41ed-8a55-1ff52af4042b",
   "metadata": {},
   "outputs": [
    {
     "data": {
      "text/plain": [
       "120"
      ]
     },
     "execution_count": 18,
     "metadata": {},
     "output_type": "execute_result"
    }
   ],
   "source": [
    "fruits[\"Mango\"]"
   ]
  },
  {
   "cell_type": "code",
   "execution_count": 19,
   "id": "560182e7-16d6-4bc9-a132-62acd4fe2c69",
   "metadata": {},
   "outputs": [
    {
     "data": {
      "text/plain": [
       "120"
      ]
     },
     "execution_count": 19,
     "metadata": {},
     "output_type": "execute_result"
    }
   ],
   "source": [
    "fruits[\"Litchi\"]"
   ]
  },
  {
   "cell_type": "code",
   "execution_count": null,
   "id": "31c083af-bbdc-49eb-9ad5-49853ee101ca",
   "metadata": {},
   "outputs": [],
   "source": []
  },
  {
   "cell_type": "code",
   "execution_count": null,
   "id": "f6366f1a-880e-43cc-b602-167ecd698af6",
   "metadata": {},
   "outputs": [],
   "source": []
  },
  {
   "cell_type": "code",
   "execution_count": 20,
   "id": "6ae231db-eaeb-4240-999a-ec8400b3648c",
   "metadata": {},
   "outputs": [],
   "source": [
    "## Key error "
   ]
  },
  {
   "cell_type": "code",
   "execution_count": 21,
   "id": "531ac160-8104-4de1-bc65-d95aa0e7db5a",
   "metadata": {},
   "outputs": [
    {
     "data": {
      "text/plain": [
       "{'Mango': 120, 'Litchi': 120, 'Banana': 50}"
      ]
     },
     "execution_count": 21,
     "metadata": {},
     "output_type": "execute_result"
    }
   ],
   "source": [
    "fruits"
   ]
  },
  {
   "cell_type": "code",
   "execution_count": 22,
   "id": "c212e690-ced9-4d63-82f3-68f2c277340b",
   "metadata": {},
   "outputs": [
    {
     "ename": "KeyError",
     "evalue": "'Pineapple'",
     "output_type": "error",
     "traceback": [
      "\u001b[0;31m---------------------------------------------------------------------------\u001b[0m",
      "\u001b[0;31mKeyError\u001b[0m                                  Traceback (most recent call last)",
      "\u001b[0;32m/var/folders/t5/yhjgrjs907zfp250jyxtw54m0000gn/T/ipykernel_12006/1260985905.py\u001b[0m in \u001b[0;36m<module>\u001b[0;34m\u001b[0m\n\u001b[0;32m----> 1\u001b[0;31m \u001b[0mfruits\u001b[0m\u001b[0;34m[\u001b[0m\u001b[0;34m\"Pineapple\"\u001b[0m\u001b[0;34m]\u001b[0m\u001b[0;34m\u001b[0m\u001b[0;34m\u001b[0m\u001b[0m\n\u001b[0m",
      "\u001b[0;31mKeyError\u001b[0m: 'Pineapple'"
     ]
    }
   ],
   "source": [
    "fruits[\"Pineapple\"]"
   ]
  },
  {
   "cell_type": "code",
   "execution_count": null,
   "id": "025a0f14-5b62-4cc3-bc11-9dece38c9470",
   "metadata": {},
   "outputs": [],
   "source": []
  },
  {
   "cell_type": "code",
   "execution_count": 23,
   "id": "945eafff-8a4f-445a-b712-4ebec2a599a8",
   "metadata": {},
   "outputs": [],
   "source": [
    "# Quiz"
   ]
  },
  {
   "cell_type": "code",
   "execution_count": 24,
   "id": "b4d1faa8-715a-43f9-b2d1-d2a9691255ac",
   "metadata": {},
   "outputs": [
    {
     "name": "stdout",
     "output_type": "stream",
     "text": [
      "<class 'dict'>\n"
     ]
    }
   ],
   "source": [
    "words = {\n",
    "\"is\": 2,\n",
    "\"hello\": 3,\n",
    "\"the\": 4\n",
    "}\n",
    "\n",
    "print(type(words))"
   ]
  },
  {
   "cell_type": "code",
   "execution_count": null,
   "id": "fc2c115b-2727-4a25-becd-7389ef44f414",
   "metadata": {},
   "outputs": [],
   "source": []
  },
  {
   "cell_type": "code",
   "execution_count": null,
   "id": "2c290553-049d-4266-8a3b-1d168ff59707",
   "metadata": {},
   "outputs": [],
   "source": []
  },
  {
   "cell_type": "code",
   "execution_count": 25,
   "id": "1774cc51-c18a-45f2-8a96-50f2a020b4f1",
   "metadata": {},
   "outputs": [],
   "source": [
    "## Can we have 2 keys in dict with same meaning"
   ]
  },
  {
   "cell_type": "code",
   "execution_count": 26,
   "id": "2b7da3d3-7ea4-4b3a-8eb0-cf7949f75f6c",
   "metadata": {},
   "outputs": [],
   "source": [
    "# Keys are unique in dict"
   ]
  },
  {
   "cell_type": "code",
   "execution_count": 27,
   "id": "0d45fb89-4edd-4541-acb8-6e6dc6e66772",
   "metadata": {},
   "outputs": [
    {
     "data": {
      "text/plain": [
       "{'Mango': 120, 'Litchi': 120, 'Banana': 50}"
      ]
     },
     "execution_count": 27,
     "metadata": {},
     "output_type": "execute_result"
    }
   ],
   "source": [
    "fruits"
   ]
  },
  {
   "cell_type": "code",
   "execution_count": 28,
   "id": "96d486df-fc94-4cb2-8d27-aff814678cf3",
   "metadata": {},
   "outputs": [],
   "source": [
    "fruits = {'Mango': 120, 'Litchi': 120, 'Banana': 50, \"Mango\" : 130}"
   ]
  },
  {
   "cell_type": "code",
   "execution_count": 29,
   "id": "19011802-e848-4df5-b565-91de909ff307",
   "metadata": {},
   "outputs": [
    {
     "data": {
      "text/plain": [
       "{'Mango': 130, 'Litchi': 120, 'Banana': 50}"
      ]
     },
     "execution_count": 29,
     "metadata": {},
     "output_type": "execute_result"
    }
   ],
   "source": [
    "fruits"
   ]
  },
  {
   "cell_type": "code",
   "execution_count": null,
   "id": "d9c179ef-9681-4a03-80ce-7d53f5d8a6f9",
   "metadata": {},
   "outputs": [],
   "source": []
  },
  {
   "cell_type": "code",
   "execution_count": null,
   "id": "0e999f08-9d27-4cc5-8a77-809a4f815ced",
   "metadata": {},
   "outputs": [],
   "source": []
  },
  {
   "cell_type": "markdown",
   "id": "f72624f2-4f30-4a6f-aa71-3f4adbc5dbe7",
   "metadata": {},
   "source": [
    "#### Adding new values"
   ]
  },
  {
   "cell_type": "code",
   "execution_count": 30,
   "id": "0a291bb5-a70a-4c9b-9f24-c207853271c1",
   "metadata": {},
   "outputs": [],
   "source": [
    "# Adding new fruits: d[\"item\"] = value"
   ]
  },
  {
   "cell_type": "code",
   "execution_count": 31,
   "id": "3fc055f5-5900-4183-808f-d113cdf0394e",
   "metadata": {},
   "outputs": [
    {
     "data": {
      "text/plain": [
       "{'Mango': 130, 'Litchi': 120, 'Banana': 50}"
      ]
     },
     "execution_count": 31,
     "metadata": {},
     "output_type": "execute_result"
    }
   ],
   "source": [
    "fruits"
   ]
  },
  {
   "cell_type": "code",
   "execution_count": 32,
   "id": "89de8597-7314-44a4-9a06-81008383439e",
   "metadata": {},
   "outputs": [
    {
     "data": {
      "text/plain": [
       "130"
      ]
     },
     "execution_count": 32,
     "metadata": {},
     "output_type": "execute_result"
    }
   ],
   "source": [
    "fruits[\"Mango\"]"
   ]
  },
  {
   "cell_type": "code",
   "execution_count": 33,
   "id": "014364d9-1cf8-4f84-82ab-b7923d42816b",
   "metadata": {},
   "outputs": [],
   "source": [
    "fruits[\"Mango\"] = 110"
   ]
  },
  {
   "cell_type": "code",
   "execution_count": 34,
   "id": "9d5cff09-2148-4f50-ab87-38ce17ec1d21",
   "metadata": {},
   "outputs": [
    {
     "data": {
      "text/plain": [
       "{'Mango': 110, 'Litchi': 120, 'Banana': 50}"
      ]
     },
     "execution_count": 34,
     "metadata": {},
     "output_type": "execute_result"
    }
   ],
   "source": [
    "fruits"
   ]
  },
  {
   "cell_type": "code",
   "execution_count": null,
   "id": "35125363-46a1-4126-b26b-e8a1f6d853d3",
   "metadata": {},
   "outputs": [],
   "source": []
  },
  {
   "cell_type": "code",
   "execution_count": 35,
   "id": "9c45a3ae-0f27-4771-99c1-bd8cb63e257f",
   "metadata": {},
   "outputs": [],
   "source": [
    "# dict[key] = value"
   ]
  },
  {
   "cell_type": "code",
   "execution_count": 36,
   "id": "a3d22b9a-cac2-4d83-bf95-dc678c63bb61",
   "metadata": {},
   "outputs": [],
   "source": [
    "fruits[\"Pineapple\"] = {\"Small\" : 80, \"Medium\" : 100, \"Large\" : 120}"
   ]
  },
  {
   "cell_type": "code",
   "execution_count": 37,
   "id": "ed1dfecc-3755-4bbb-84ae-f94f6162d693",
   "metadata": {},
   "outputs": [
    {
     "data": {
      "text/plain": [
       "{'Mango': 110,\n",
       " 'Litchi': 120,\n",
       " 'Banana': 50,\n",
       " 'Pineapple': {'Small': 80, 'Medium': 100, 'Large': 120}}"
      ]
     },
     "execution_count": 37,
     "metadata": {},
     "output_type": "execute_result"
    }
   ],
   "source": [
    "fruits"
   ]
  },
  {
   "cell_type": "code",
   "execution_count": 38,
   "id": "9b1bad87-1532-4fcd-b2bf-636d3decd628",
   "metadata": {},
   "outputs": [
    {
     "data": {
      "text/plain": [
       "{'Small': 80, 'Medium': 100, 'Large': 120}"
      ]
     },
     "execution_count": 38,
     "metadata": {},
     "output_type": "execute_result"
    }
   ],
   "source": [
    "fruits[\"Pineapple\"]"
   ]
  },
  {
   "cell_type": "code",
   "execution_count": 39,
   "id": "cec21b43-f9a1-4387-b898-b4204ea69115",
   "metadata": {},
   "outputs": [
    {
     "data": {
      "text/plain": [
       "80"
      ]
     },
     "execution_count": 39,
     "metadata": {},
     "output_type": "execute_result"
    }
   ],
   "source": [
    "fruits[\"Pineapple\"][\"Small\"]"
   ]
  },
  {
   "cell_type": "code",
   "execution_count": 40,
   "id": "9e6375ae-8a4b-42fb-9af3-37e4e4f4a7f5",
   "metadata": {},
   "outputs": [
    {
     "data": {
      "text/plain": [
       "120"
      ]
     },
     "execution_count": 40,
     "metadata": {},
     "output_type": "execute_result"
    }
   ],
   "source": [
    "fruits[\"Pineapple\"][\"Large\"]"
   ]
  },
  {
   "cell_type": "code",
   "execution_count": null,
   "id": "f9f41da7-d376-4a28-b592-ff448628bd42",
   "metadata": {},
   "outputs": [],
   "source": []
  },
  {
   "cell_type": "code",
   "execution_count": 41,
   "id": "62a10b51-0b26-455c-bbc7-c553ff9b41fe",
   "metadata": {},
   "outputs": [],
   "source": [
    "# Updating the value of given item"
   ]
  },
  {
   "cell_type": "code",
   "execution_count": 42,
   "id": "2a89b3f9-ed03-4897-81df-d638be3e7fe9",
   "metadata": {},
   "outputs": [],
   "source": [
    "fruits[\"Pineapple\"][\"Large\"] = 110"
   ]
  },
  {
   "cell_type": "code",
   "execution_count": 43,
   "id": "da7067fa-28d1-4533-915e-508de5ed5ce1",
   "metadata": {},
   "outputs": [
    {
     "data": {
      "text/plain": [
       "110"
      ]
     },
     "execution_count": 43,
     "metadata": {},
     "output_type": "execute_result"
    }
   ],
   "source": [
    "fruits[\"Pineapple\"][\"Large\"]"
   ]
  },
  {
   "cell_type": "code",
   "execution_count": null,
   "id": "fe549c3d-1f13-446d-8dd4-02ddb3e562e4",
   "metadata": {},
   "outputs": [],
   "source": []
  },
  {
   "cell_type": "code",
   "execution_count": 44,
   "id": "eb9881b1-3b36-49d1-85b2-f3dbebee69a9",
   "metadata": {},
   "outputs": [],
   "source": [
    "# update"
   ]
  },
  {
   "cell_type": "code",
   "execution_count": 45,
   "id": "57f131d2-3b79-4ca0-80df-c3222445c696",
   "metadata": {},
   "outputs": [],
   "source": [
    "# d1.update(d2)"
   ]
  },
  {
   "cell_type": "code",
   "execution_count": 46,
   "id": "84931873-33f5-49a9-8a2e-e14d79018480",
   "metadata": {},
   "outputs": [
    {
     "data": {
      "text/plain": [
       "{'Mango': 110,\n",
       " 'Litchi': 120,\n",
       " 'Banana': 50,\n",
       " 'Pineapple': {'Small': 80, 'Medium': 100, 'Large': 110}}"
      ]
     },
     "execution_count": 46,
     "metadata": {},
     "output_type": "execute_result"
    }
   ],
   "source": [
    "fruits"
   ]
  },
  {
   "cell_type": "code",
   "execution_count": 47,
   "id": "3ebf8399-fee5-4704-ba25-72d708fa38f4",
   "metadata": {},
   "outputs": [],
   "source": [
    "exotic = {\"Avocado\" : 450, \"Dragon Fruit\" : 500, \"Blueberry\" : 800}"
   ]
  },
  {
   "cell_type": "code",
   "execution_count": 48,
   "id": "1f1ec7a3-60de-4608-80cf-fd79b947ebc0",
   "metadata": {},
   "outputs": [],
   "source": [
    "fruits.update(exotic)"
   ]
  },
  {
   "cell_type": "code",
   "execution_count": 49,
   "id": "8a1f1cbd-1892-45fe-b123-a36d5f1495e9",
   "metadata": {},
   "outputs": [
    {
     "data": {
      "text/plain": [
       "{'Mango': 110,\n",
       " 'Litchi': 120,\n",
       " 'Banana': 50,\n",
       " 'Pineapple': {'Small': 80, 'Medium': 100, 'Large': 110},\n",
       " 'Avocado': 450,\n",
       " 'Dragon Fruit': 500,\n",
       " 'Blueberry': 800}"
      ]
     },
     "execution_count": 49,
     "metadata": {},
     "output_type": "execute_result"
    }
   ],
   "source": [
    "fruits"
   ]
  },
  {
   "cell_type": "code",
   "execution_count": null,
   "id": "58f56836-5060-4f3a-8ff4-7558f4323170",
   "metadata": {},
   "outputs": [],
   "source": []
  },
  {
   "cell_type": "code",
   "execution_count": 50,
   "id": "1ca1d50e-56fd-41ac-91aa-79fc63c6ec62",
   "metadata": {},
   "outputs": [
    {
     "data": {
      "text/plain": [
       "800"
      ]
     },
     "execution_count": 50,
     "metadata": {},
     "output_type": "execute_result"
    }
   ],
   "source": [
    "fruits[\"Blueberry\"]"
   ]
  },
  {
   "cell_type": "code",
   "execution_count": null,
   "id": "6219d106-2093-4d07-8c8e-9784d7b40355",
   "metadata": {},
   "outputs": [],
   "source": []
  },
  {
   "cell_type": "code",
   "execution_count": 51,
   "id": "bf5e3627-e11b-4e76-a329-46e44a21bc05",
   "metadata": {},
   "outputs": [
    {
     "ename": "KeyError",
     "evalue": "'Palm'",
     "output_type": "error",
     "traceback": [
      "\u001b[0;31m---------------------------------------------------------------------------\u001b[0m",
      "\u001b[0;31mKeyError\u001b[0m                                  Traceback (most recent call last)",
      "\u001b[0;32m/var/folders/t5/yhjgrjs907zfp250jyxtw54m0000gn/T/ipykernel_12006/1972918028.py\u001b[0m in \u001b[0;36m<module>\u001b[0;34m\u001b[0m\n\u001b[0;32m----> 1\u001b[0;31m \u001b[0mfruits\u001b[0m\u001b[0;34m[\u001b[0m\u001b[0;34m\"Palm\"\u001b[0m\u001b[0;34m]\u001b[0m\u001b[0;34m\u001b[0m\u001b[0;34m\u001b[0m\u001b[0m\n\u001b[0m",
      "\u001b[0;31mKeyError\u001b[0m: 'Palm'"
     ]
    }
   ],
   "source": [
    "fruits[\"Palm\"]"
   ]
  },
  {
   "cell_type": "code",
   "execution_count": null,
   "id": "e649e8fb-530e-4f77-a664-cf42ca2710b8",
   "metadata": {},
   "outputs": [],
   "source": []
  },
  {
   "cell_type": "code",
   "execution_count": null,
   "id": "f2f06f9e-9bef-4dcb-b2b8-a2c2b6f8fd8e",
   "metadata": {},
   "outputs": [],
   "source": []
  },
  {
   "cell_type": "code",
   "execution_count": null,
   "id": "f43a2477-164c-42e1-bb10-fc5685f581f8",
   "metadata": {},
   "outputs": [],
   "source": []
  },
  {
   "cell_type": "code",
   "execution_count": 52,
   "id": "62cb2cd1-2a49-431c-98bb-cccf79b6aeb7",
   "metadata": {},
   "outputs": [],
   "source": [
    "## Getting errors while trying to get a value for key not present?"
   ]
  },
  {
   "cell_type": "markdown",
   "id": "4d734720-25ff-45f4-9f7d-f5a13878fb33",
   "metadata": {},
   "source": [
    "#### Get function\n",
    "- get(key, 0)"
   ]
  },
  {
   "cell_type": "code",
   "execution_count": 53,
   "id": "c4039e5f-79f8-4c17-b5d5-e283e9357297",
   "metadata": {},
   "outputs": [
    {
     "ename": "KeyError",
     "evalue": "'Palm'",
     "output_type": "error",
     "traceback": [
      "\u001b[0;31m---------------------------------------------------------------------------\u001b[0m",
      "\u001b[0;31mKeyError\u001b[0m                                  Traceback (most recent call last)",
      "\u001b[0;32m/var/folders/t5/yhjgrjs907zfp250jyxtw54m0000gn/T/ipykernel_12006/1972918028.py\u001b[0m in \u001b[0;36m<module>\u001b[0;34m\u001b[0m\n\u001b[0;32m----> 1\u001b[0;31m \u001b[0mfruits\u001b[0m\u001b[0;34m[\u001b[0m\u001b[0;34m\"Palm\"\u001b[0m\u001b[0;34m]\u001b[0m\u001b[0;34m\u001b[0m\u001b[0;34m\u001b[0m\u001b[0m\n\u001b[0m",
      "\u001b[0;31mKeyError\u001b[0m: 'Palm'"
     ]
    }
   ],
   "source": [
    "fruits[\"Palm\"]"
   ]
  },
  {
   "cell_type": "code",
   "execution_count": 54,
   "id": "251162a1-7012-437a-ae2e-eea2f24564f0",
   "metadata": {},
   "outputs": [],
   "source": [
    "fruits.get(\"Palm\")"
   ]
  },
  {
   "cell_type": "code",
   "execution_count": 55,
   "id": "9959b303-14a3-4b48-a94e-686205a334b1",
   "metadata": {},
   "outputs": [],
   "source": [
    "fruits.get(\"Apple\")"
   ]
  },
  {
   "cell_type": "code",
   "execution_count": 56,
   "id": "8890ddd8-6317-4077-b720-887687401ab9",
   "metadata": {},
   "outputs": [
    {
     "data": {
      "text/plain": [
       "{'Mango': 110,\n",
       " 'Litchi': 120,\n",
       " 'Banana': 50,\n",
       " 'Pineapple': {'Small': 80, 'Medium': 100, 'Large': 110},\n",
       " 'Avocado': 450,\n",
       " 'Dragon Fruit': 500,\n",
       " 'Blueberry': 800}"
      ]
     },
     "execution_count": 56,
     "metadata": {},
     "output_type": "execute_result"
    }
   ],
   "source": [
    "fruits"
   ]
  },
  {
   "cell_type": "code",
   "execution_count": 57,
   "id": "2bdbc7ae-006c-452f-9e55-0f5fcd1c2813",
   "metadata": {},
   "outputs": [
    {
     "data": {
      "text/plain": [
       "110"
      ]
     },
     "execution_count": 57,
     "metadata": {},
     "output_type": "execute_result"
    }
   ],
   "source": [
    "fruits.get(\"Mango\")"
   ]
  },
  {
   "cell_type": "code",
   "execution_count": 58,
   "id": "b114bc44-d3a7-4595-b07b-472192231c69",
   "metadata": {},
   "outputs": [
    {
     "data": {
      "text/plain": [
       "'Out of Stock'"
      ]
     },
     "execution_count": 58,
     "metadata": {},
     "output_type": "execute_result"
    }
   ],
   "source": [
    "fruits.get(\"Palm\", \"Out of Stock\")"
   ]
  },
  {
   "cell_type": "code",
   "execution_count": 59,
   "id": "725723a5-4fc4-40cf-af35-7b3539f8f520",
   "metadata": {},
   "outputs": [
    {
     "data": {
      "text/plain": [
       "0"
      ]
     },
     "execution_count": 59,
     "metadata": {},
     "output_type": "execute_result"
    }
   ],
   "source": [
    "fruits.get(\"Palm\", 0)"
   ]
  },
  {
   "cell_type": "code",
   "execution_count": 60,
   "id": "03aff2ed-815e-4701-bdf5-eec60b148bac",
   "metadata": {},
   "outputs": [
    {
     "data": {
      "text/plain": [
       "110"
      ]
     },
     "execution_count": 60,
     "metadata": {},
     "output_type": "execute_result"
    }
   ],
   "source": [
    "fruits.get(\"Mango\", \"Out of Stock\")"
   ]
  },
  {
   "cell_type": "code",
   "execution_count": null,
   "id": "83559c5c-d617-476f-99e0-983e6477454e",
   "metadata": {},
   "outputs": [],
   "source": []
  },
  {
   "cell_type": "code",
   "execution_count": 61,
   "id": "fe78fa74-27e5-4b42-a0e2-4cb26e6d275a",
   "metadata": {},
   "outputs": [],
   "source": [
    "# Quiz"
   ]
  },
  {
   "cell_type": "code",
   "execution_count": 62,
   "id": "2ffd27e2-c268-4d9d-a938-b582ee0a895d",
   "metadata": {},
   "outputs": [
    {
     "name": "stdout",
     "output_type": "stream",
     "text": [
      "55\n"
     ]
    }
   ],
   "source": [
    "# What is the output of the following code?\n",
    "\n",
    "d = {\"a\": 1, \"b\": 2, \"c\": 3}\n",
    "d['d'] = 55\n",
    "\n",
    "print(d['d'])"
   ]
  },
  {
   "cell_type": "code",
   "execution_count": null,
   "id": "835b9b53-19e4-4657-b884-cefab10eaabf",
   "metadata": {},
   "outputs": [],
   "source": []
  },
  {
   "cell_type": "code",
   "execution_count": 63,
   "id": "ea3d53f2-df4c-4e02-b06f-c07428fe5090",
   "metadata": {},
   "outputs": [
    {
     "ename": "KeyError",
     "evalue": "'this'",
     "output_type": "error",
     "traceback": [
      "\u001b[0;31m---------------------------------------------------------------------------\u001b[0m",
      "\u001b[0;31mKeyError\u001b[0m                                  Traceback (most recent call last)",
      "\u001b[0;32m/var/folders/t5/yhjgrjs907zfp250jyxtw54m0000gn/T/ipykernel_12006/2219134358.py\u001b[0m in \u001b[0;36m<module>\u001b[0;34m\u001b[0m\n\u001b[1;32m      6\u001b[0m \u001b[0;34m\"the\"\u001b[0m\u001b[0;34m:\u001b[0m \u001b[0;36m4\u001b[0m\u001b[0;34m\u001b[0m\u001b[0;34m\u001b[0m\u001b[0m\n\u001b[1;32m      7\u001b[0m }\n\u001b[0;32m----> 8\u001b[0;31m \u001b[0mthis_count\u001b[0m \u001b[0;34m=\u001b[0m \u001b[0mwords\u001b[0m\u001b[0;34m[\u001b[0m\u001b[0;34m\"this\"\u001b[0m\u001b[0;34m]\u001b[0m\u001b[0;34m\u001b[0m\u001b[0;34m\u001b[0m\u001b[0m\n\u001b[0m\u001b[1;32m      9\u001b[0m \u001b[0;34m\u001b[0m\u001b[0m\n\u001b[1;32m     10\u001b[0m \u001b[0mprint\u001b[0m\u001b[0;34m(\u001b[0m\u001b[0mthis_count\u001b[0m\u001b[0;34m)\u001b[0m\u001b[0;34m\u001b[0m\u001b[0;34m\u001b[0m\u001b[0m\n",
      "\u001b[0;31mKeyError\u001b[0m: 'this'"
     ]
    }
   ],
   "source": [
    "# What does the following Python code output?\n",
    "\n",
    "words = {\n",
    "\"is\": 2,\n",
    "\"hello\": 3,\n",
    "\"the\": 4\n",
    "}\n",
    "this_count = words[\"this\"]\n",
    "\n",
    "print(this_count)"
   ]
  },
  {
   "cell_type": "code",
   "execution_count": null,
   "id": "15ae7e4f-fdbd-4d52-b768-caf5435da9b4",
   "metadata": {},
   "outputs": [],
   "source": []
  },
  {
   "cell_type": "code",
   "execution_count": null,
   "id": "335524db-4d2c-458f-95f9-8bf48339b4d3",
   "metadata": {},
   "outputs": [],
   "source": []
  },
  {
   "cell_type": "markdown",
   "id": "e6d300ab-c050-42e7-b101-04260bef677a",
   "metadata": {
    "tags": []
   },
   "source": [
    "### Iterating on a dict"
   ]
  },
  {
   "cell_type": "code",
   "execution_count": 64,
   "id": "c6ea9520-af89-491a-87d0-be593e8342c6",
   "metadata": {},
   "outputs": [],
   "source": [
    "## Challenge:\n",
    "# print keys and values of a dict"
   ]
  },
  {
   "cell_type": "code",
   "execution_count": 65,
   "id": "b8653d1e-3c0f-4152-a04e-f5a4f1591f5e",
   "metadata": {},
   "outputs": [
    {
     "data": {
      "text/plain": [
       "{'Mango': 110,\n",
       " 'Litchi': 120,\n",
       " 'Banana': 50,\n",
       " 'Pineapple': {'Small': 80, 'Medium': 100, 'Large': 110},\n",
       " 'Avocado': 450,\n",
       " 'Dragon Fruit': 500,\n",
       " 'Blueberry': 800}"
      ]
     },
     "execution_count": 65,
     "metadata": {},
     "output_type": "execute_result"
    }
   ],
   "source": [
    "fruits"
   ]
  },
  {
   "cell_type": "code",
   "execution_count": 66,
   "id": "9f92acad-4bbc-4727-8583-ee96c1917d21",
   "metadata": {},
   "outputs": [
    {
     "name": "stdout",
     "output_type": "stream",
     "text": [
      "Mango\n",
      "Litchi\n",
      "Banana\n",
      "Pineapple\n",
      "Avocado\n",
      "Dragon Fruit\n",
      "Blueberry\n"
     ]
    }
   ],
   "source": [
    "for i in fruits:\n",
    "    print(i)"
   ]
  },
  {
   "cell_type": "code",
   "execution_count": 67,
   "id": "97a1208f-d7e8-4b6c-a0db-53ac94fa7be7",
   "metadata": {},
   "outputs": [
    {
     "name": "stdout",
     "output_type": "stream",
     "text": [
      "Mango 110\n",
      "Litchi 120\n",
      "Banana 50\n",
      "Pineapple {'Small': 80, 'Medium': 100, 'Large': 110}\n",
      "Avocado 450\n",
      "Dragon Fruit 500\n",
      "Blueberry 800\n"
     ]
    }
   ],
   "source": [
    "for i in fruits:\n",
    "    print(i, fruits[i])"
   ]
  },
  {
   "cell_type": "code",
   "execution_count": 68,
   "id": "fa70437e-779c-4e95-8262-9e6cef7ee31e",
   "metadata": {},
   "outputs": [
    {
     "name": "stdout",
     "output_type": "stream",
     "text": [
      "Mango 110\n",
      "Litchi 120\n",
      "Banana 50\n",
      "Pineapple {'Small': 80, 'Medium': 100, 'Large': 110}\n",
      "Avocado 450\n",
      "Dragon Fruit 500\n",
      "Blueberry 800\n"
     ]
    }
   ],
   "source": [
    "for i in fruits:\n",
    "    print(i, fruits.get(i))"
   ]
  },
  {
   "cell_type": "code",
   "execution_count": null,
   "id": "c6c157fc-14ff-4e2e-af59-baa84b92eb25",
   "metadata": {},
   "outputs": [],
   "source": []
  },
  {
   "cell_type": "code",
   "execution_count": 69,
   "id": "0e01f0f9-718d-49c7-8bba-a12dc8ce04d6",
   "metadata": {},
   "outputs": [],
   "source": [
    "t = (1, 2, 3)"
   ]
  },
  {
   "cell_type": "code",
   "execution_count": 70,
   "id": "2eaac4ad-c1ab-470a-9ade-24dbb3023a0a",
   "metadata": {},
   "outputs": [],
   "source": [
    "# This is known as tuple unpacking"
   ]
  },
  {
   "cell_type": "code",
   "execution_count": 71,
   "id": "6ad9a3ae-9e72-4034-b529-5408f5dc3fa1",
   "metadata": {},
   "outputs": [],
   "source": [
    "a, b, c = t"
   ]
  },
  {
   "cell_type": "code",
   "execution_count": 72,
   "id": "08aed4de-dae0-4cd8-b4e4-f12b51cc0060",
   "metadata": {},
   "outputs": [
    {
     "data": {
      "text/plain": [
       "1"
      ]
     },
     "execution_count": 72,
     "metadata": {},
     "output_type": "execute_result"
    }
   ],
   "source": [
    "a"
   ]
  },
  {
   "cell_type": "code",
   "execution_count": 73,
   "id": "558b0f6a-35d9-4097-a980-95534dda3795",
   "metadata": {},
   "outputs": [
    {
     "data": {
      "text/plain": [
       "2"
      ]
     },
     "execution_count": 73,
     "metadata": {},
     "output_type": "execute_result"
    }
   ],
   "source": [
    "b"
   ]
  },
  {
   "cell_type": "code",
   "execution_count": 74,
   "id": "67fff5c3-0af6-401b-87ea-0b8a09311841",
   "metadata": {},
   "outputs": [
    {
     "data": {
      "text/plain": [
       "3"
      ]
     },
     "execution_count": 74,
     "metadata": {},
     "output_type": "execute_result"
    }
   ],
   "source": [
    "c"
   ]
  },
  {
   "cell_type": "code",
   "execution_count": null,
   "id": "d10baa2b-4c08-4dec-b91e-44b2e521f103",
   "metadata": {},
   "outputs": [],
   "source": []
  },
  {
   "cell_type": "code",
   "execution_count": 75,
   "id": "f664133b-7aa0-4dc8-acea-68a278784aa9",
   "metadata": {},
   "outputs": [
    {
     "data": {
      "text/plain": [
       "dict_items([('Mango', 110), ('Litchi', 120), ('Banana', 50), ('Pineapple', {'Small': 80, 'Medium': 100, 'Large': 110}), ('Avocado', 450), ('Dragon Fruit', 500), ('Blueberry', 800)])"
      ]
     },
     "execution_count": 75,
     "metadata": {},
     "output_type": "execute_result"
    }
   ],
   "source": [
    "fruits.items()"
   ]
  },
  {
   "cell_type": "code",
   "execution_count": 76,
   "id": "b93b00ff-5b7f-42b7-b27f-cf2d2d2382d4",
   "metadata": {},
   "outputs": [
    {
     "name": "stdout",
     "output_type": "stream",
     "text": [
      "('Mango', 110)\n",
      "('Litchi', 120)\n",
      "('Banana', 50)\n",
      "('Pineapple', {'Small': 80, 'Medium': 100, 'Large': 110})\n",
      "('Avocado', 450)\n",
      "('Dragon Fruit', 500)\n",
      "('Blueberry', 800)\n"
     ]
    }
   ],
   "source": [
    "for i in fruits.items():\n",
    "    print(i)"
   ]
  },
  {
   "cell_type": "code",
   "execution_count": null,
   "id": "e5460599-0ce7-45eb-982f-e91bad8c1a45",
   "metadata": {},
   "outputs": [],
   "source": []
  },
  {
   "cell_type": "code",
   "execution_count": 77,
   "id": "aaed4166-837b-4e33-91a5-fdc4960b1d42",
   "metadata": {},
   "outputs": [],
   "source": [
    "# for i, v in dict.items()"
   ]
  },
  {
   "cell_type": "code",
   "execution_count": 78,
   "id": "43d76532-2613-40ee-af4d-762182c083f7",
   "metadata": {},
   "outputs": [
    {
     "name": "stdout",
     "output_type": "stream",
     "text": [
      "Mango 110\n",
      "Litchi 120\n",
      "Banana 50\n",
      "Pineapple {'Small': 80, 'Medium': 100, 'Large': 110}\n",
      "Avocado 450\n",
      "Dragon Fruit 500\n",
      "Blueberry 800\n"
     ]
    }
   ],
   "source": [
    "for i, j in fruits.items():\n",
    "    print(i, j)"
   ]
  },
  {
   "cell_type": "code",
   "execution_count": 79,
   "id": "f8d9d34c-f81d-4b5b-89e9-13f6b605d309",
   "metadata": {},
   "outputs": [
    {
     "name": "stdout",
     "output_type": "stream",
     "text": [
      "Mango 110\n",
      "Litchi 120\n",
      "Banana 50\n",
      "Pineapple {'Small': 80, 'Medium': 100, 'Large': 110}\n",
      "Avocado 450\n",
      "Dragon Fruit 500\n",
      "Blueberry 800\n"
     ]
    }
   ],
   "source": [
    "for frts, price in fruits.items():\n",
    "    print(frts, price)"
   ]
  },
  {
   "cell_type": "code",
   "execution_count": null,
   "id": "c1c57be8-9dc1-45e7-9a81-42d9cf9c7900",
   "metadata": {},
   "outputs": [],
   "source": []
  },
  {
   "cell_type": "code",
   "execution_count": null,
   "id": "d234d46b-e7f0-4555-9370-9b754317a4ec",
   "metadata": {},
   "outputs": [],
   "source": []
  },
  {
   "cell_type": "code",
   "execution_count": null,
   "id": "39d0ef19-77b7-4f81-860f-44a4345df477",
   "metadata": {},
   "outputs": [],
   "source": []
  },
  {
   "cell_type": "markdown",
   "id": "64b59c88-4fd2-432a-b6e6-a1fac3d89ca9",
   "metadata": {},
   "source": [
    "#### Keys in a dict"
   ]
  },
  {
   "cell_type": "code",
   "execution_count": 81,
   "id": "711a827d-2f68-412e-bcc2-61954822c9bd",
   "metadata": {},
   "outputs": [
    {
     "data": {
      "text/plain": [
       "dict_keys(['Mango', 'Litchi', 'Banana', 'Pineapple', 'Avocado', 'Dragon Fruit', 'Blueberry'])"
      ]
     },
     "execution_count": 81,
     "metadata": {},
     "output_type": "execute_result"
    }
   ],
   "source": [
    "fruits.keys()"
   ]
  },
  {
   "cell_type": "code",
   "execution_count": 82,
   "id": "f1043e73-475f-47cb-9a44-b511107d2a94",
   "metadata": {},
   "outputs": [
    {
     "name": "stdout",
     "output_type": "stream",
     "text": [
      "Mango\n",
      "Litchi\n",
      "Banana\n",
      "Pineapple\n",
      "Avocado\n",
      "Dragon Fruit\n",
      "Blueberry\n"
     ]
    }
   ],
   "source": [
    "for i in fruits.keys():\n",
    "    print(i)"
   ]
  },
  {
   "cell_type": "code",
   "execution_count": null,
   "id": "efbd2885-0914-4811-999a-4c7358705798",
   "metadata": {},
   "outputs": [],
   "source": []
  },
  {
   "cell_type": "code",
   "execution_count": null,
   "id": "9f6729eb-8542-4ce0-b388-39cc6056f8e9",
   "metadata": {},
   "outputs": [],
   "source": []
  },
  {
   "cell_type": "markdown",
   "id": "a115150c-1228-4406-8e1d-050f18161cc4",
   "metadata": {},
   "source": [
    "#### Values in a dict"
   ]
  },
  {
   "cell_type": "code",
   "execution_count": 83,
   "id": "072fc522-e969-4b11-9007-98a33921c352",
   "metadata": {},
   "outputs": [
    {
     "data": {
      "text/plain": [
       "dict_values([110, 120, 50, {'Small': 80, 'Medium': 100, 'Large': 110}, 450, 500, 800])"
      ]
     },
     "execution_count": 83,
     "metadata": {},
     "output_type": "execute_result"
    }
   ],
   "source": [
    "fruits.values()"
   ]
  },
  {
   "cell_type": "code",
   "execution_count": 84,
   "id": "ab225a7e-34bc-4392-8249-3989d389f74a",
   "metadata": {},
   "outputs": [
    {
     "name": "stdout",
     "output_type": "stream",
     "text": [
      "110\n",
      "120\n",
      "50\n",
      "{'Small': 80, 'Medium': 100, 'Large': 110}\n",
      "450\n",
      "500\n",
      "800\n"
     ]
    }
   ],
   "source": [
    "for i in fruits.values():\n",
    "    print(i)"
   ]
  },
  {
   "cell_type": "code",
   "execution_count": null,
   "id": "1d0c7601-8dcd-4670-b7c5-281392f78e63",
   "metadata": {},
   "outputs": [],
   "source": []
  },
  {
   "cell_type": "code",
   "execution_count": null,
   "id": "76d0fc99-87ee-436a-914d-0f8cd921d9ab",
   "metadata": {},
   "outputs": [],
   "source": []
  },
  {
   "cell_type": "code",
   "execution_count": null,
   "id": "8d599622-46e2-4ad2-8c38-f52335a80de7",
   "metadata": {},
   "outputs": [],
   "source": []
  },
  {
   "cell_type": "markdown",
   "id": "c8285697-bbd2-46d4-b7c5-00bb8b858c34",
   "metadata": {},
   "source": [
    "### Len function "
   ]
  },
  {
   "cell_type": "code",
   "execution_count": 85,
   "id": "a38fd6bd-2523-4b48-9173-940510d9d522",
   "metadata": {},
   "outputs": [
    {
     "data": {
      "text/plain": [
       "{'Mango': 110,\n",
       " 'Litchi': 120,\n",
       " 'Banana': 50,\n",
       " 'Pineapple': {'Small': 80, 'Medium': 100, 'Large': 110},\n",
       " 'Avocado': 450,\n",
       " 'Dragon Fruit': 500,\n",
       " 'Blueberry': 800}"
      ]
     },
     "execution_count": 85,
     "metadata": {},
     "output_type": "execute_result"
    }
   ],
   "source": [
    "fruits"
   ]
  },
  {
   "cell_type": "code",
   "execution_count": 86,
   "id": "dbc00ab6-8c77-43b5-8ea5-faa88e3bc2dc",
   "metadata": {},
   "outputs": [
    {
     "data": {
      "text/plain": [
       "7"
      ]
     },
     "execution_count": 86,
     "metadata": {},
     "output_type": "execute_result"
    }
   ],
   "source": [
    "len(fruits)"
   ]
  },
  {
   "cell_type": "code",
   "execution_count": null,
   "id": "6379ad14-f996-4501-970e-4d8565b5e55f",
   "metadata": {},
   "outputs": [],
   "source": []
  },
  {
   "cell_type": "code",
   "execution_count": null,
   "id": "c0493359-248c-48bc-91b2-925b1832ef28",
   "metadata": {},
   "outputs": [],
   "source": []
  },
  {
   "cell_type": "code",
   "execution_count": 87,
   "id": "a4e835ca-74a9-43f3-9a02-50cd9831082b",
   "metadata": {},
   "outputs": [],
   "source": [
    "# Citizenship operator"
   ]
  },
  {
   "cell_type": "code",
   "execution_count": 88,
   "id": "7c348178-3f1b-47e5-8d45-3dbeb0859513",
   "metadata": {},
   "outputs": [
    {
     "data": {
      "text/plain": [
       "{'Mango': 110,\n",
       " 'Litchi': 120,\n",
       " 'Banana': 50,\n",
       " 'Pineapple': {'Small': 80, 'Medium': 100, 'Large': 110},\n",
       " 'Avocado': 450,\n",
       " 'Dragon Fruit': 500,\n",
       " 'Blueberry': 800}"
      ]
     },
     "execution_count": 88,
     "metadata": {},
     "output_type": "execute_result"
    }
   ],
   "source": [
    "fruits"
   ]
  },
  {
   "cell_type": "code",
   "execution_count": null,
   "id": "6c9e0524-8277-44ec-ba3a-9caa33cca1fe",
   "metadata": {},
   "outputs": [],
   "source": []
  },
  {
   "cell_type": "code",
   "execution_count": 91,
   "id": "fef47fd3-9914-444e-bef7-35273fb4eff6",
   "metadata": {},
   "outputs": [
    {
     "data": {
      "text/plain": [
       "False"
      ]
     },
     "execution_count": 91,
     "metadata": {},
     "output_type": "execute_result"
    }
   ],
   "source": [
    "\"Palm\" in fruits"
   ]
  },
  {
   "cell_type": "code",
   "execution_count": 92,
   "id": "8d4283c7-1fa0-4023-8a53-b5857f3d8e78",
   "metadata": {},
   "outputs": [
    {
     "data": {
      "text/plain": [
       "True"
      ]
     },
     "execution_count": 92,
     "metadata": {},
     "output_type": "execute_result"
    }
   ],
   "source": [
    "\"Mango\" in fruits"
   ]
  },
  {
   "cell_type": "code",
   "execution_count": null,
   "id": "c9bed6e2-da4e-4be7-8269-63611ad5a980",
   "metadata": {},
   "outputs": [],
   "source": []
  },
  {
   "cell_type": "markdown",
   "id": "6cc4703a-1419-47b1-84ec-e918b3bcf937",
   "metadata": {},
   "source": [
    "### Challenge"
   ]
  },
  {
   "cell_type": "markdown",
   "id": "25044555-ad92-4bf3-8cf2-1345799acc0d",
   "metadata": {},
   "source": [
    "#### Take a string as input.\n",
    "- Create a dictionary according to the following criteria :-\n",
    "- There will be one key value pair for each unique character\n",
    "- Key will be character name and value will be the count of the character inside the string."
   ]
  },
  {
   "cell_type": "code",
   "execution_count": 93,
   "id": "b618515a-fc12-4970-8435-cd179e5e5c8c",
   "metadata": {},
   "outputs": [],
   "source": [
    "# Rahul janghu\n",
    "# R: 1, a : 2, h : 2, u : 2, l : 1, \"_\" : 1, j : 1, n : 1, g : 1"
   ]
  },
  {
   "cell_type": "code",
   "execution_count": 94,
   "id": "fb2a13a2-abc0-4d4b-a1f3-c106f9e4713e",
   "metadata": {},
   "outputs": [
    {
     "name": "stdin",
     "output_type": "stream",
     "text": [
      " Rahul Janghu\n"
     ]
    },
    {
     "name": "stdout",
     "output_type": "stream",
     "text": [
      "{'R': 1, 'a': 2, 'h': 2, 'u': 2, 'l': 1, ' ': 1, 'J': 1, 'n': 1, 'g': 1}\n"
     ]
    }
   ],
   "source": [
    "name = input()\n",
    "freq = {}\n",
    "\n",
    "\n",
    "for i in name:\n",
    "    if i not in freq:\n",
    "        freq[i] = 1\n",
    "    else:\n",
    "        freq[i] += 1\n",
    "        \n",
    "print(freq)"
   ]
  },
  {
   "cell_type": "code",
   "execution_count": null,
   "id": "0cd049b4-edd3-4348-904d-1052e3e7f3a6",
   "metadata": {},
   "outputs": [],
   "source": []
  },
  {
   "cell_type": "code",
   "execution_count": 97,
   "id": "c50e5a62-e0b1-4886-b00a-4777dd1500e9",
   "metadata": {},
   "outputs": [
    {
     "name": "stdin",
     "output_type": "stream",
     "text": [
      " Rahul Janghu\n"
     ]
    },
    {
     "data": {
      "text/plain": [
       "{'R': 1, 'a': 2, 'h': 2, 'u': 2, 'l': 1, ' ': 1, 'J': 1, 'n': 1, 'g': 1}"
      ]
     },
     "execution_count": 97,
     "metadata": {},
     "output_type": "execute_result"
    }
   ],
   "source": [
    "name = input()\n",
    "\n",
    "def count_freq(name):\n",
    "    freq = {}\n",
    "    \n",
    "    for i in name:\n",
    "        if i not in freq:\n",
    "            freq[i] = 1\n",
    "        else:\n",
    "            freq[i] += 1\n",
    "            \n",
    "    return freq\n",
    "\n",
    "count_freq(name)"
   ]
  },
  {
   "cell_type": "code",
   "execution_count": null,
   "id": "7052c67c-1779-46c0-a03f-5e132a0f375e",
   "metadata": {},
   "outputs": [],
   "source": []
  },
  {
   "cell_type": "code",
   "execution_count": null,
   "id": "0fcb630d-b916-4e94-b911-d1e9e23e1b8c",
   "metadata": {},
   "outputs": [],
   "source": []
  },
  {
   "cell_type": "code",
   "execution_count": null,
   "id": "71aa7d9f-d630-4d6c-a515-32ec92e229bc",
   "metadata": {},
   "outputs": [],
   "source": []
  },
  {
   "cell_type": "code",
   "execution_count": null,
   "id": "7588cba3-0706-4c7a-aa06-5edb66b33322",
   "metadata": {},
   "outputs": [],
   "source": []
  },
  {
   "cell_type": "code",
   "execution_count": null,
   "id": "39ccf322-3d35-4ee2-a8b3-bae7637003ae",
   "metadata": {},
   "outputs": [],
   "source": []
  },
  {
   "cell_type": "code",
   "execution_count": null,
   "id": "dfe5f3d3-7175-4b3a-b1c4-fc5a91a47253",
   "metadata": {},
   "outputs": [],
   "source": []
  }
 ],
 "metadata": {
  "kernelspec": {
   "display_name": "Python 3 (ipykernel)",
   "language": "python",
   "name": "python3"
  },
  "language_info": {
   "codemirror_mode": {
    "name": "ipython",
    "version": 3
   },
   "file_extension": ".py",
   "mimetype": "text/x-python",
   "name": "python",
   "nbconvert_exporter": "python",
   "pygments_lexer": "ipython3",
   "version": "3.9.7"
  }
 },
 "nbformat": 4,
 "nbformat_minor": 5
}
