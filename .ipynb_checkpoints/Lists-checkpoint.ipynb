{
 "cells": [
  {
   "cell_type": "markdown",
   "id": "92cd946b-9bb5-406f-aace-6a8181c652d3",
   "metadata": {},
   "source": [
    "## List []\n",
    "- A list is a data structure that holds an ordered collection of items i.e. you can store a sequence of items in a list.\n",
    "\n",
    "The list of items should be enclosed in square brackets so that Python understands that you are specifying a list. Once you have created a list, you can add, remove or search for items in the list. Since we can add and remove items, we say that a list is a mutable data type i.e. this type can be altered."
   ]
  },
  {
   "cell_type": "code",
   "execution_count": 1,
   "id": "290737ed-3de2-4954-8ed0-00c4e399f4e7",
   "metadata": {},
   "outputs": [],
   "source": [
    "## Runs"
   ]
  },
  {
   "cell_type": "code",
   "execution_count": 2,
   "id": "470f5889-7275-4502-bcb0-6941f0c54b42",
   "metadata": {},
   "outputs": [],
   "source": [
    "runs = [100, 150, 99, 20, 99, 200, 99, 120]"
   ]
  },
  {
   "cell_type": "code",
   "execution_count": 3,
   "id": "417bcb60-4c00-41f9-9a7b-e1f59ffd258f",
   "metadata": {},
   "outputs": [],
   "source": [
    "# type"
   ]
  },
  {
   "cell_type": "code",
   "execution_count": 4,
   "id": "15cf55f9-c364-49f9-8c74-fd49b8360789",
   "metadata": {},
   "outputs": [
    {
     "data": {
      "text/plain": [
       "list"
      ]
     },
     "execution_count": 4,
     "metadata": {},
     "output_type": "execute_result"
    }
   ],
   "source": [
    "type(runs)"
   ]
  },
  {
   "cell_type": "code",
   "execution_count": 5,
   "id": "0c7043ea-fff2-4d85-a5a9-2221a97af9e7",
   "metadata": {},
   "outputs": [],
   "source": [
    "sample = [\"Lalit\", 1, 67.5, None]"
   ]
  },
  {
   "cell_type": "code",
   "execution_count": 6,
   "id": "a8af3507-d8d4-445d-8983-1f8a9ea76004",
   "metadata": {},
   "outputs": [
    {
     "data": {
      "text/plain": [
       "list"
      ]
     },
     "execution_count": 6,
     "metadata": {},
     "output_type": "execute_result"
    }
   ],
   "source": [
    "type(sample)"
   ]
  },
  {
   "cell_type": "code",
   "execution_count": 7,
   "id": "a7ec8519-e7a7-4cb8-981c-b7f75546eb7a",
   "metadata": {},
   "outputs": [],
   "source": [
    "# len function"
   ]
  },
  {
   "cell_type": "code",
   "execution_count": 8,
   "id": "4b111427-2cf6-4d7c-a5f0-d081f30ec6a5",
   "metadata": {},
   "outputs": [
    {
     "data": {
      "text/plain": [
       "[100, 150, 99, 20, 99, 200, 99, 120]"
      ]
     },
     "execution_count": 8,
     "metadata": {},
     "output_type": "execute_result"
    }
   ],
   "source": [
    "runs"
   ]
  },
  {
   "cell_type": "code",
   "execution_count": 9,
   "id": "16a3824f-1d52-4e60-a8fe-82baff3a31d2",
   "metadata": {},
   "outputs": [
    {
     "data": {
      "text/plain": [
       "8"
      ]
     },
     "execution_count": 9,
     "metadata": {},
     "output_type": "execute_result"
    }
   ],
   "source": [
    "len(runs)"
   ]
  },
  {
   "cell_type": "code",
   "execution_count": null,
   "id": "d0861d8f-0858-4c0a-ade3-54a594af5724",
   "metadata": {},
   "outputs": [],
   "source": []
  },
  {
   "cell_type": "code",
   "execution_count": 10,
   "id": "54ab42c1-f68c-4df8-9263-9152fa318b99",
   "metadata": {},
   "outputs": [],
   "source": [
    "# Indexing in list: Like we used to have in our attendance register, roll no."
   ]
  },
  {
   "cell_type": "code",
   "execution_count": 11,
   "id": "8f970e2f-c669-400f-89b8-ec65f0c133df",
   "metadata": {},
   "outputs": [
    {
     "data": {
      "text/plain": [
       "[100, 150, 99, 20, 99, 200, 99, 120]"
      ]
     },
     "execution_count": 11,
     "metadata": {},
     "output_type": "execute_result"
    }
   ],
   "source": [
    "runs"
   ]
  },
  {
   "cell_type": "code",
   "execution_count": 12,
   "id": "9528ff3f-a197-4183-a39e-a4719ee8a62a",
   "metadata": {},
   "outputs": [
    {
     "data": {
      "text/plain": [
       "100"
      ]
     },
     "execution_count": 12,
     "metadata": {},
     "output_type": "execute_result"
    }
   ],
   "source": [
    "runs[0]"
   ]
  },
  {
   "cell_type": "code",
   "execution_count": 14,
   "id": "4ca03fc7-2aa3-4efc-9127-ecd00d4b660e",
   "metadata": {},
   "outputs": [
    {
     "data": {
      "text/plain": [
       "8"
      ]
     },
     "execution_count": 14,
     "metadata": {},
     "output_type": "execute_result"
    }
   ],
   "source": [
    "len(runs)"
   ]
  },
  {
   "cell_type": "code",
   "execution_count": 15,
   "id": "e94faa3e-6af1-4131-8165-42c33b036f4d",
   "metadata": {},
   "outputs": [
    {
     "data": {
      "text/plain": [
       "120"
      ]
     },
     "execution_count": 15,
     "metadata": {},
     "output_type": "execute_result"
    }
   ],
   "source": [
    "runs[len(runs) - 1]"
   ]
  },
  {
   "cell_type": "code",
   "execution_count": 13,
   "id": "e8a5c656-09ae-4090-a3be-6ef4ca296187",
   "metadata": {},
   "outputs": [
    {
     "data": {
      "text/plain": [
       "20"
      ]
     },
     "execution_count": 13,
     "metadata": {},
     "output_type": "execute_result"
    }
   ],
   "source": [
    "runs[3]"
   ]
  },
  {
   "cell_type": "code",
   "execution_count": null,
   "id": "4d5a731c-d2c4-4edb-bd04-019c2d4e9c6f",
   "metadata": {},
   "outputs": [],
   "source": []
  },
  {
   "cell_type": "code",
   "execution_count": 16,
   "id": "ac8f6f78-bf3c-4b69-917e-01b1e59e19be",
   "metadata": {},
   "outputs": [],
   "source": [
    "## Negative indexing: Topper from bottom :)"
   ]
  },
  {
   "cell_type": "code",
   "execution_count": 17,
   "id": "08de9eb8-5929-4aa7-8f28-63ea75ba6df8",
   "metadata": {},
   "outputs": [
    {
     "data": {
      "text/plain": [
       "[100, 150, 99, 20, 99, 200, 99, 120]"
      ]
     },
     "execution_count": 17,
     "metadata": {},
     "output_type": "execute_result"
    }
   ],
   "source": [
    "runs"
   ]
  },
  {
   "cell_type": "code",
   "execution_count": 18,
   "id": "33ebbdfa-d518-4af6-a927-695499893e59",
   "metadata": {},
   "outputs": [
    {
     "data": {
      "text/plain": [
       "120"
      ]
     },
     "execution_count": 18,
     "metadata": {},
     "output_type": "execute_result"
    }
   ],
   "source": [
    "runs[-1]"
   ]
  },
  {
   "cell_type": "code",
   "execution_count": 19,
   "id": "2a29cd9e-7412-401b-a077-2bc3d65c9f03",
   "metadata": {},
   "outputs": [
    {
     "data": {
      "text/plain": [
       "100"
      ]
     },
     "execution_count": 19,
     "metadata": {},
     "output_type": "execute_result"
    }
   ],
   "source": [
    "runs[-len(runs)]"
   ]
  },
  {
   "cell_type": "code",
   "execution_count": 21,
   "id": "ac237e59-d00e-4cd2-9309-fc4d4a1671cb",
   "metadata": {},
   "outputs": [],
   "source": [
    "# runs[20]"
   ]
  },
  {
   "cell_type": "code",
   "execution_count": null,
   "id": "0ef4a926-d337-4d84-92f6-5db68c6c9676",
   "metadata": {},
   "outputs": [],
   "source": []
  },
  {
   "cell_type": "markdown",
   "id": "92c52e18-5313-4228-8e9e-d5898197e968",
   "metadata": {},
   "source": [
    "### Inbuilt methods on a list"
   ]
  },
  {
   "cell_type": "markdown",
   "id": "f907bd29-9ce4-4a1f-ade1-91b09ba5d9b8",
   "metadata": {},
   "source": [
    "#### Updating a list"
   ]
  },
  {
   "cell_type": "code",
   "execution_count": 22,
   "id": "3003607c-206e-4110-be78-f9287422c563",
   "metadata": {},
   "outputs": [],
   "source": [
    "## Let Sachin play another match: append"
   ]
  },
  {
   "cell_type": "code",
   "execution_count": 23,
   "id": "6f32c24e-86b7-4e37-b2e7-8decb6eb0d67",
   "metadata": {},
   "outputs": [],
   "source": [
    "# append: Adds data at end of your list"
   ]
  },
  {
   "cell_type": "code",
   "execution_count": 24,
   "id": "e8bb5e22-a637-45d0-a1b6-9ae8da77725e",
   "metadata": {},
   "outputs": [
    {
     "data": {
      "text/plain": [
       "[100, 150, 99, 20, 99, 200, 99, 120]"
      ]
     },
     "execution_count": 24,
     "metadata": {},
     "output_type": "execute_result"
    }
   ],
   "source": [
    "runs"
   ]
  },
  {
   "cell_type": "code",
   "execution_count": null,
   "id": "2fd7c110-2855-4fe7-8f97-9ff146dc51b6",
   "metadata": {},
   "outputs": [],
   "source": []
  },
  {
   "cell_type": "code",
   "execution_count": 25,
   "id": "fd234942-e6c2-4f26-8e8f-2c081e17320a",
   "metadata": {},
   "outputs": [],
   "source": [
    "# Append adds the data at end by default"
   ]
  },
  {
   "cell_type": "code",
   "execution_count": 27,
   "id": "173aac52-940a-4b86-948d-3df44149429a",
   "metadata": {},
   "outputs": [],
   "source": [
    "runs.append(159)"
   ]
  },
  {
   "cell_type": "code",
   "execution_count": 28,
   "id": "a68b0688-211f-464c-9634-8b22ee186c93",
   "metadata": {},
   "outputs": [
    {
     "data": {
      "text/plain": [
       "[100, 150, 99, 20, 99, 200, 99, 120, 159]"
      ]
     },
     "execution_count": 28,
     "metadata": {},
     "output_type": "execute_result"
    }
   ],
   "source": [
    "runs"
   ]
  },
  {
   "cell_type": "code",
   "execution_count": 29,
   "id": "d835c70f-6651-4dde-abc8-1787946640cf",
   "metadata": {},
   "outputs": [
    {
     "data": {
      "text/plain": [
       "9"
      ]
     },
     "execution_count": 29,
     "metadata": {},
     "output_type": "execute_result"
    }
   ],
   "source": [
    "len(runs)"
   ]
  },
  {
   "cell_type": "code",
   "execution_count": null,
   "id": "4685b773-8c28-44df-9245-3d8ab04b702d",
   "metadata": {},
   "outputs": [],
   "source": []
  },
  {
   "cell_type": "code",
   "execution_count": null,
   "id": "86f238c5-336e-431c-9c52-44048be682a8",
   "metadata": {},
   "outputs": [],
   "source": []
  },
  {
   "cell_type": "code",
   "execution_count": 30,
   "id": "eb1c4120-0a43-4628-980c-b6df14b5a435",
   "metadata": {},
   "outputs": [],
   "source": [
    "## Insert at index: runs.insert(index, value)"
   ]
  },
  {
   "cell_type": "code",
   "execution_count": 31,
   "id": "57494c0e-17d4-479d-8b45-094530ec0f6a",
   "metadata": {},
   "outputs": [],
   "source": [
    "# What if we forgot to add data at 2nd index?"
   ]
  },
  {
   "cell_type": "code",
   "execution_count": 32,
   "id": "327c5a31-ceac-4908-b447-dd48511bcd59",
   "metadata": {},
   "outputs": [
    {
     "data": {
      "text/plain": [
       "[100, 150, 99, 20, 99, 200, 99, 120, 159]"
      ]
     },
     "execution_count": 32,
     "metadata": {},
     "output_type": "execute_result"
    }
   ],
   "source": [
    "runs"
   ]
  },
  {
   "cell_type": "code",
   "execution_count": 34,
   "id": "30b35eb3-bba0-4ced-91cc-b64ae3e1b128",
   "metadata": {},
   "outputs": [],
   "source": [
    "runs.insert(2, 55)"
   ]
  },
  {
   "cell_type": "code",
   "execution_count": 35,
   "id": "4ed7dfdd-e070-4ca3-888c-9acbd5a96816",
   "metadata": {},
   "outputs": [
    {
     "data": {
      "text/plain": [
       "[100, 150, 55, 99, 20, 99, 200, 99, 120, 159]"
      ]
     },
     "execution_count": 35,
     "metadata": {},
     "output_type": "execute_result"
    }
   ],
   "source": [
    "runs"
   ]
  },
  {
   "cell_type": "code",
   "execution_count": null,
   "id": "7a943430-b6a1-4ee8-9454-a747f64571dc",
   "metadata": {},
   "outputs": [],
   "source": []
  },
  {
   "cell_type": "code",
   "execution_count": 36,
   "id": "a8e420f4-2cb9-4e73-9d02-4e4d6825d685",
   "metadata": {},
   "outputs": [],
   "source": [
    "# extend"
   ]
  },
  {
   "cell_type": "code",
   "execution_count": 37,
   "id": "74eb07ec-8e0c-4721-9fcc-ccb35667ca86",
   "metadata": {},
   "outputs": [],
   "source": [
    "ipl = [80, 52, 90]"
   ]
  },
  {
   "cell_type": "code",
   "execution_count": 38,
   "id": "359faa45-2462-4a5e-82fe-20c60fd10858",
   "metadata": {},
   "outputs": [
    {
     "data": {
      "text/plain": [
       "[100, 150, 55, 99, 20, 99, 200, 99, 120, 159]"
      ]
     },
     "execution_count": 38,
     "metadata": {},
     "output_type": "execute_result"
    }
   ],
   "source": [
    "runs"
   ]
  },
  {
   "cell_type": "code",
   "execution_count": 39,
   "id": "9976bc88-9ded-4dc3-a1a9-f27990a022f3",
   "metadata": {},
   "outputs": [],
   "source": [
    "runs.extend(ipl)"
   ]
  },
  {
   "cell_type": "code",
   "execution_count": 40,
   "id": "b68e9538-59cc-4c2a-9971-500d4a22cc73",
   "metadata": {},
   "outputs": [
    {
     "data": {
      "text/plain": [
       "[100, 150, 55, 99, 20, 99, 200, 99, 120, 159, 80, 52, 90]"
      ]
     },
     "execution_count": 40,
     "metadata": {},
     "output_type": "execute_result"
    }
   ],
   "source": [
    "runs"
   ]
  },
  {
   "cell_type": "code",
   "execution_count": null,
   "id": "46f54ab7-277a-46f2-ab20-8082cce6064c",
   "metadata": {},
   "outputs": [],
   "source": []
  },
  {
   "cell_type": "code",
   "execution_count": null,
   "id": "42c8544f-e012-48ca-8aa5-5b87ab8bd426",
   "metadata": {},
   "outputs": [],
   "source": []
  },
  {
   "cell_type": "code",
   "execution_count": 41,
   "id": "9cc8c50d-0fdd-4e81-b7cb-795b5184ab70",
   "metadata": {},
   "outputs": [],
   "source": [
    "# concatenation"
   ]
  },
  {
   "cell_type": "code",
   "execution_count": 42,
   "id": "b52cf328-27af-4ec2-8085-4a53ccb00ace",
   "metadata": {},
   "outputs": [],
   "source": [
    "l1 = [1, 2, 3]\n",
    "l2 = [4, 5, 6]"
   ]
  },
  {
   "cell_type": "code",
   "execution_count": 46,
   "id": "f2ad21da-1e52-4ec1-93f4-d63a5671a0f7",
   "metadata": {},
   "outputs": [],
   "source": [
    "new = l1 + l2"
   ]
  },
  {
   "cell_type": "code",
   "execution_count": 47,
   "id": "f0792ca8-cc31-4edd-8be9-83544b05d271",
   "metadata": {},
   "outputs": [
    {
     "data": {
      "text/plain": [
       "[1, 2, 3, 4, 5, 6]"
      ]
     },
     "execution_count": 47,
     "metadata": {},
     "output_type": "execute_result"
    }
   ],
   "source": [
    "new"
   ]
  },
  {
   "cell_type": "code",
   "execution_count": 50,
   "id": "83c099ec-28d3-4caa-9585-fb9af5e4474c",
   "metadata": {},
   "outputs": [],
   "source": [
    "l1.append(l2)"
   ]
  },
  {
   "cell_type": "code",
   "execution_count": 51,
   "id": "cfef69ff-c5e7-484a-95a3-18fa403f81cd",
   "metadata": {},
   "outputs": [
    {
     "data": {
      "text/plain": [
       "[1, 2, 3, [4, 5, 6]]"
      ]
     },
     "execution_count": 51,
     "metadata": {},
     "output_type": "execute_result"
    }
   ],
   "source": [
    "l1"
   ]
  },
  {
   "cell_type": "code",
   "execution_count": null,
   "id": "e510f0e0-fce3-4472-bad6-c3bbdad6742a",
   "metadata": {},
   "outputs": [],
   "source": []
  },
  {
   "cell_type": "code",
   "execution_count": null,
   "id": "e3670cf3-7d2c-48be-8954-94657f65de11",
   "metadata": {},
   "outputs": [],
   "source": []
  },
  {
   "cell_type": "code",
   "execution_count": 52,
   "id": "eaddb016-4dc7-4cd9-8c36-8a19dd48e8dd",
   "metadata": {},
   "outputs": [],
   "source": [
    "# Remove data"
   ]
  },
  {
   "cell_type": "code",
   "execution_count": null,
   "id": "4ee2476c-7982-458d-a9d7-4d0d077d2a7d",
   "metadata": {},
   "outputs": [],
   "source": []
  },
  {
   "cell_type": "code",
   "execution_count": null,
   "id": "780acd87-0196-48aa-8a07-f4fa0fc9143b",
   "metadata": {},
   "outputs": [],
   "source": []
  },
  {
   "cell_type": "code",
   "execution_count": 53,
   "id": "7f096e2d-5b13-4177-a6a2-c1d70ce43edc",
   "metadata": {},
   "outputs": [],
   "source": [
    "# list.pop()"
   ]
  },
  {
   "cell_type": "markdown",
   "id": "66bda203-67e0-4ee7-852e-24821b001bfe",
   "metadata": {},
   "source": [
    "- removes element from last by default\n",
    "- pop returns the data as well\n",
    "- pop removes data using index"
   ]
  },
  {
   "cell_type": "code",
   "execution_count": 54,
   "id": "4819e210-7605-4a65-8c6d-00019a63b640",
   "metadata": {},
   "outputs": [
    {
     "data": {
      "text/plain": [
       "[100, 150, 55, 99, 20, 99, 200, 99, 120, 159, 80, 52, 90]"
      ]
     },
     "execution_count": 54,
     "metadata": {},
     "output_type": "execute_result"
    }
   ],
   "source": [
    "runs"
   ]
  },
  {
   "cell_type": "code",
   "execution_count": 55,
   "id": "45d1cfb9-6c98-4a81-9ebb-b10851450db9",
   "metadata": {},
   "outputs": [
    {
     "data": {
      "text/plain": [
       "\u001b[0;31mSignature:\u001b[0m \u001b[0mruns\u001b[0m\u001b[0;34m.\u001b[0m\u001b[0mpop\u001b[0m\u001b[0;34m(\u001b[0m\u001b[0mindex\u001b[0m\u001b[0;34m=\u001b[0m\u001b[0;34m-\u001b[0m\u001b[0;36m1\u001b[0m\u001b[0;34m,\u001b[0m \u001b[0;34m/\u001b[0m\u001b[0;34m)\u001b[0m\u001b[0;34m\u001b[0m\u001b[0;34m\u001b[0m\u001b[0m\n",
       "\u001b[0;31mDocstring:\u001b[0m\n",
       "Remove and return item at index (default last).\n",
       "\n",
       "Raises IndexError if list is empty or index is out of range.\n",
       "\u001b[0;31mType:\u001b[0m      builtin_function_or_method\n"
      ]
     },
     "metadata": {},
     "output_type": "display_data"
    }
   ],
   "source": [
    "runs.pop?"
   ]
  },
  {
   "cell_type": "code",
   "execution_count": 56,
   "id": "4976b494-57d0-4713-a39e-7ca74d18e487",
   "metadata": {},
   "outputs": [],
   "source": [
    "deleted = runs.pop()"
   ]
  },
  {
   "cell_type": "code",
   "execution_count": 57,
   "id": "8d7d77ce-c89e-4c17-b8b3-83d11bdce897",
   "metadata": {},
   "outputs": [
    {
     "name": "stdout",
     "output_type": "stream",
     "text": [
      "90\n"
     ]
    }
   ],
   "source": [
    "print(deleted)"
   ]
  },
  {
   "cell_type": "code",
   "execution_count": 58,
   "id": "8505018c-4164-4543-ac63-f87ce858a503",
   "metadata": {},
   "outputs": [
    {
     "data": {
      "text/plain": [
       "[100, 150, 55, 99, 20, 99, 200, 99, 120, 159, 80, 52]"
      ]
     },
     "execution_count": 58,
     "metadata": {},
     "output_type": "execute_result"
    }
   ],
   "source": [
    "runs"
   ]
  },
  {
   "cell_type": "code",
   "execution_count": 59,
   "id": "4bd3b885-87ef-416f-9b0a-53adc163ce66",
   "metadata": {},
   "outputs": [
    {
     "data": {
      "text/plain": [
       "100"
      ]
     },
     "execution_count": 59,
     "metadata": {},
     "output_type": "execute_result"
    }
   ],
   "source": [
    "runs.pop(0)"
   ]
  },
  {
   "cell_type": "code",
   "execution_count": 60,
   "id": "3e0942af-5ab2-4c32-8641-b10a70eb78c3",
   "metadata": {},
   "outputs": [
    {
     "data": {
      "text/plain": [
       "[150, 55, 99, 20, 99, 200, 99, 120, 159, 80, 52]"
      ]
     },
     "execution_count": 60,
     "metadata": {},
     "output_type": "execute_result"
    }
   ],
   "source": [
    "runs"
   ]
  },
  {
   "cell_type": "code",
   "execution_count": null,
   "id": "54ee0299-ab31-4928-b780-6bc875fbcc0e",
   "metadata": {},
   "outputs": [],
   "source": []
  },
  {
   "cell_type": "code",
   "execution_count": 61,
   "id": "243f1e44-32ae-424d-a5a2-44ac59a23af7",
   "metadata": {},
   "outputs": [],
   "source": [
    "# list.remove(value)"
   ]
  },
  {
   "cell_type": "code",
   "execution_count": 62,
   "id": "50e5b636-9320-4ac5-a053-91a14d7b69b3",
   "metadata": {},
   "outputs": [
    {
     "data": {
      "text/plain": [
       "[150, 55, 99, 20, 99, 200, 99, 120, 159, 80, 52]"
      ]
     },
     "execution_count": 62,
     "metadata": {},
     "output_type": "execute_result"
    }
   ],
   "source": [
    "runs"
   ]
  },
  {
   "cell_type": "code",
   "execution_count": 63,
   "id": "f6f06539-2ee0-4eca-9424-1b4b14e783b8",
   "metadata": {},
   "outputs": [
    {
     "data": {
      "text/plain": [
       "\u001b[0;31mSignature:\u001b[0m \u001b[0mruns\u001b[0m\u001b[0;34m.\u001b[0m\u001b[0mremove\u001b[0m\u001b[0;34m(\u001b[0m\u001b[0mvalue\u001b[0m\u001b[0;34m,\u001b[0m \u001b[0;34m/\u001b[0m\u001b[0;34m)\u001b[0m\u001b[0;34m\u001b[0m\u001b[0;34m\u001b[0m\u001b[0m\n",
       "\u001b[0;31mDocstring:\u001b[0m\n",
       "Remove first occurrence of value.\n",
       "\n",
       "Raises ValueError if the value is not present.\n",
       "\u001b[0;31mType:\u001b[0m      builtin_function_or_method\n"
      ]
     },
     "metadata": {},
     "output_type": "display_data"
    }
   ],
   "source": [
    "runs.remove?"
   ]
  },
  {
   "cell_type": "code",
   "execution_count": 64,
   "id": "afec8b0c-1140-4df3-adb2-880ffcfc4e2c",
   "metadata": {},
   "outputs": [],
   "source": [
    "deleted = runs.remove(99)"
   ]
  },
  {
   "cell_type": "code",
   "execution_count": 65,
   "id": "f6db41aa-a5a3-4e04-a49e-76ce987ed18a",
   "metadata": {},
   "outputs": [
    {
     "name": "stdout",
     "output_type": "stream",
     "text": [
      "None\n"
     ]
    }
   ],
   "source": [
    "print(deleted)"
   ]
  },
  {
   "cell_type": "code",
   "execution_count": 66,
   "id": "65568667-7315-44ab-b622-c52a7dc6f3d0",
   "metadata": {},
   "outputs": [
    {
     "data": {
      "text/plain": [
       "[150, 55, 20, 99, 200, 99, 120, 159, 80, 52]"
      ]
     },
     "execution_count": 66,
     "metadata": {},
     "output_type": "execute_result"
    }
   ],
   "source": [
    "runs"
   ]
  },
  {
   "cell_type": "code",
   "execution_count": 68,
   "id": "39669971-3e99-49c2-bf98-837549b7d704",
   "metadata": {},
   "outputs": [],
   "source": [
    "# runs.remove(29392639)\n",
    "\n",
    "# ValueError: list.remove(x): x not in list"
   ]
  },
  {
   "cell_type": "code",
   "execution_count": null,
   "id": "94357b80-6c58-44f6-8bc3-ff842a078d3a",
   "metadata": {},
   "outputs": [],
   "source": []
  },
  {
   "cell_type": "code",
   "execution_count": null,
   "id": "892b1927-e76f-4165-94d7-394a03e51add",
   "metadata": {},
   "outputs": [],
   "source": []
  },
  {
   "cell_type": "code",
   "execution_count": 69,
   "id": "32a8cc8c-2871-47fd-9dac-8ac081964232",
   "metadata": {},
   "outputs": [],
   "source": [
    "# list.count()"
   ]
  },
  {
   "cell_type": "code",
   "execution_count": 70,
   "id": "76fb6c63-7a9b-46e2-bc9a-81d2191da22a",
   "metadata": {},
   "outputs": [
    {
     "data": {
      "text/plain": [
       "[150, 55, 20, 99, 200, 99, 120, 159, 80, 52]"
      ]
     },
     "execution_count": 70,
     "metadata": {},
     "output_type": "execute_result"
    }
   ],
   "source": [
    "runs"
   ]
  },
  {
   "cell_type": "code",
   "execution_count": 71,
   "id": "841f0212-4fde-46ad-8f54-685eb8ac9a3d",
   "metadata": {},
   "outputs": [
    {
     "data": {
      "text/plain": [
       "2"
      ]
     },
     "execution_count": 71,
     "metadata": {},
     "output_type": "execute_result"
    }
   ],
   "source": [
    "runs.count(99)"
   ]
  },
  {
   "cell_type": "code",
   "execution_count": 74,
   "id": "d2b83ffd-fb52-451e-9da6-81e0763422ff",
   "metadata": {},
   "outputs": [],
   "source": [
    "# runs.count?"
   ]
  },
  {
   "cell_type": "code",
   "execution_count": 75,
   "id": "3e77d947-b148-4489-8338-66ac50916b65",
   "metadata": {},
   "outputs": [
    {
     "data": {
      "text/plain": [
       "0"
      ]
     },
     "execution_count": 75,
     "metadata": {},
     "output_type": "execute_result"
    }
   ],
   "source": [
    "runs.count(2836291)"
   ]
  },
  {
   "cell_type": "code",
   "execution_count": null,
   "id": "618e8987-dfe6-4e08-8adc-610545e73e68",
   "metadata": {},
   "outputs": [],
   "source": []
  },
  {
   "cell_type": "code",
   "execution_count": null,
   "id": "84466151-9237-47f6-8ec7-4e03718a0bde",
   "metadata": {},
   "outputs": [],
   "source": []
  },
  {
   "cell_type": "markdown",
   "id": "a145d755-3ecb-4739-bb7a-40d8c50a8578",
   "metadata": {},
   "source": [
    "### Membership Operator\n",
    "- in operator"
   ]
  },
  {
   "cell_type": "code",
   "execution_count": 76,
   "id": "b872cc84-6f53-4123-ab48-e12157af3ee2",
   "metadata": {},
   "outputs": [
    {
     "data": {
      "text/plain": [
       "[150, 55, 20, 99, 200, 99, 120, 159, 80, 52]"
      ]
     },
     "execution_count": 76,
     "metadata": {},
     "output_type": "execute_result"
    }
   ],
   "source": [
    "runs"
   ]
  },
  {
   "cell_type": "code",
   "execution_count": 77,
   "id": "fe0c267f-2189-4995-a739-20a07ee54b65",
   "metadata": {},
   "outputs": [
    {
     "data": {
      "text/plain": [
       "True"
      ]
     },
     "execution_count": 77,
     "metadata": {},
     "output_type": "execute_result"
    }
   ],
   "source": [
    "99 in runs"
   ]
  },
  {
   "cell_type": "code",
   "execution_count": 78,
   "id": "38f6fb9f-29cc-4c8a-9028-09bbe8bbf5a1",
   "metadata": {},
   "outputs": [
    {
     "data": {
      "text/plain": [
       "False"
      ]
     },
     "execution_count": 78,
     "metadata": {},
     "output_type": "execute_result"
    }
   ],
   "source": [
    "5465 in runs"
   ]
  },
  {
   "cell_type": "code",
   "execution_count": null,
   "id": "48a047d3-a7f6-486d-88ea-4c4017aba661",
   "metadata": {},
   "outputs": [],
   "source": []
  },
  {
   "cell_type": "code",
   "execution_count": null,
   "id": "27c585f8-948e-4006-b788-5dda6d8c394e",
   "metadata": {},
   "outputs": [],
   "source": []
  },
  {
   "cell_type": "code",
   "execution_count": null,
   "id": "e0966f8a-d2f1-4657-b481-eb9da9c7f3b6",
   "metadata": {},
   "outputs": [],
   "source": []
  },
  {
   "cell_type": "markdown",
   "id": "5dfa0957-2b4c-4f6d-a5c9-0eebb7f94515",
   "metadata": {},
   "source": [
    "### Iterating a list"
   ]
  },
  {
   "cell_type": "code",
   "execution_count": 79,
   "id": "fe2c9109-975c-43de-afcb-578fdaf2dc0b",
   "metadata": {},
   "outputs": [],
   "source": [
    "# Lists are iterable as well"
   ]
  },
  {
   "cell_type": "code",
   "execution_count": 80,
   "id": "8e308669-3010-46e7-918f-3b81f474eb8b",
   "metadata": {},
   "outputs": [],
   "source": [
    "# for iterator in iterable:\n",
    "#     Do something"
   ]
  },
  {
   "cell_type": "code",
   "execution_count": null,
   "id": "dd16c7dd-1f90-430e-8f2c-55d6f96339c8",
   "metadata": {},
   "outputs": [],
   "source": []
  },
  {
   "cell_type": "code",
   "execution_count": 81,
   "id": "b3aae8e1-6f09-46ea-b789-eff894e6c07e",
   "metadata": {},
   "outputs": [
    {
     "data": {
      "text/plain": [
       "[150, 55, 20, 99, 200, 99, 120, 159, 80, 52]"
      ]
     },
     "execution_count": 81,
     "metadata": {},
     "output_type": "execute_result"
    }
   ],
   "source": [
    "runs"
   ]
  },
  {
   "cell_type": "code",
   "execution_count": 83,
   "id": "41d116c4-d980-42d3-8763-4e091bf67d8c",
   "metadata": {},
   "outputs": [
    {
     "name": "stdout",
     "output_type": "stream",
     "text": [
      "150\n",
      "55\n",
      "20\n",
      "99\n",
      "200\n",
      "99\n",
      "120\n",
      "159\n",
      "80\n",
      "52\n"
     ]
    }
   ],
   "source": [
    "for i in runs:\n",
    "    print(i)"
   ]
  },
  {
   "cell_type": "code",
   "execution_count": null,
   "id": "eaa26d37-ebdc-4596-877b-129046446af5",
   "metadata": {},
   "outputs": [],
   "source": []
  },
  {
   "cell_type": "code",
   "execution_count": null,
   "id": "aa6de27a-b5c7-41d2-acea-5bf62050f60a",
   "metadata": {},
   "outputs": [],
   "source": []
  },
  {
   "cell_type": "code",
   "execution_count": null,
   "id": "584b9ca3-b97a-46e8-8fc2-b02ed863bbdf",
   "metadata": {},
   "outputs": [],
   "source": []
  },
  {
   "cell_type": "markdown",
   "id": "acb947fc-2332-4515-b49a-ad0de2ef6db2",
   "metadata": {},
   "source": [
    "#### Iterating a list using range of indexes"
   ]
  },
  {
   "cell_type": "code",
   "execution_count": 84,
   "id": "46d3331f-dfc4-4a1e-950d-eb629af67c73",
   "metadata": {},
   "outputs": [
    {
     "data": {
      "text/plain": [
       "[150, 55, 20, 99, 200, 99, 120, 159, 80, 52]"
      ]
     },
     "execution_count": 84,
     "metadata": {},
     "output_type": "execute_result"
    }
   ],
   "source": [
    "runs"
   ]
  },
  {
   "cell_type": "code",
   "execution_count": 85,
   "id": "3b7f7237-2ef2-4bea-b25c-3f17872b5954",
   "metadata": {},
   "outputs": [
    {
     "data": {
      "text/plain": [
       "150"
      ]
     },
     "execution_count": 85,
     "metadata": {},
     "output_type": "execute_result"
    }
   ],
   "source": [
    "runs[0]"
   ]
  },
  {
   "cell_type": "code",
   "execution_count": 86,
   "id": "c5f65872-0582-46be-9c71-a06749f8d3d1",
   "metadata": {},
   "outputs": [
    {
     "data": {
      "text/plain": [
       "55"
      ]
     },
     "execution_count": 86,
     "metadata": {},
     "output_type": "execute_result"
    }
   ],
   "source": [
    "runs[1]"
   ]
  },
  {
   "cell_type": "code",
   "execution_count": 87,
   "id": "4056b7e2-4f67-4942-b17e-89b6933553e4",
   "metadata": {},
   "outputs": [
    {
     "data": {
      "text/plain": [
       "20"
      ]
     },
     "execution_count": 87,
     "metadata": {},
     "output_type": "execute_result"
    }
   ],
   "source": [
    "runs[2]"
   ]
  },
  {
   "cell_type": "code",
   "execution_count": 88,
   "id": "c250ea24-179b-4fe7-b60a-e369df8a1ae3",
   "metadata": {},
   "outputs": [],
   "source": [
    "n = len(runs)"
   ]
  },
  {
   "cell_type": "code",
   "execution_count": 89,
   "id": "9dd71933-2def-4066-857d-2a9309215622",
   "metadata": {},
   "outputs": [
    {
     "name": "stdout",
     "output_type": "stream",
     "text": [
      "10\n"
     ]
    }
   ],
   "source": [
    "print(n)"
   ]
  },
  {
   "cell_type": "code",
   "execution_count": 91,
   "id": "149c581b-3b8f-45a4-8f5b-d56f57ec37bb",
   "metadata": {},
   "outputs": [
    {
     "data": {
      "text/plain": [
       "[150, 55, 20, 99, 200, 99, 120, 159, 80, 52]"
      ]
     },
     "execution_count": 91,
     "metadata": {},
     "output_type": "execute_result"
    }
   ],
   "source": [
    "runs"
   ]
  },
  {
   "cell_type": "code",
   "execution_count": 94,
   "id": "b5b82195-a5c2-4ff0-bf96-8dfe5290077b",
   "metadata": {},
   "outputs": [
    {
     "name": "stdout",
     "output_type": "stream",
     "text": [
      "0\n",
      "1\n",
      "2\n",
      "3\n",
      "4\n",
      "5\n",
      "6\n",
      "7\n",
      "8\n",
      "9\n"
     ]
    }
   ],
   "source": [
    "for i in range(n):\n",
    "    print(i)"
   ]
  },
  {
   "cell_type": "code",
   "execution_count": 95,
   "id": "a1b1baac-ea93-4afa-b92b-b662b9a5a7c8",
   "metadata": {},
   "outputs": [
    {
     "data": {
      "text/plain": [
       "[150, 55, 20, 99, 200, 99, 120, 159, 80, 52]"
      ]
     },
     "execution_count": 95,
     "metadata": {},
     "output_type": "execute_result"
    }
   ],
   "source": [
    "runs"
   ]
  },
  {
   "cell_type": "code",
   "execution_count": 96,
   "id": "62a06b99-0301-4507-ae61-e8e3411edbfc",
   "metadata": {},
   "outputs": [
    {
     "name": "stdout",
     "output_type": "stream",
     "text": [
      "0 150\n",
      "1 55\n",
      "2 20\n",
      "3 99\n",
      "4 200\n",
      "5 99\n",
      "6 120\n",
      "7 159\n",
      "8 80\n",
      "9 52\n"
     ]
    }
   ],
   "source": [
    "for i in range(n):\n",
    "    print(i, runs[i])"
   ]
  },
  {
   "cell_type": "code",
   "execution_count": 97,
   "id": "5d2cbe9b-0572-45b5-8ba7-903f52fceb27",
   "metadata": {},
   "outputs": [
    {
     "data": {
      "text/plain": [
       "[150, 55, 20, 99, 200, 99, 120, 159, 80, 52]"
      ]
     },
     "execution_count": 97,
     "metadata": {},
     "output_type": "execute_result"
    }
   ],
   "source": [
    "runs"
   ]
  },
  {
   "cell_type": "code",
   "execution_count": 98,
   "id": "c71f311e-b673-4ed3-8ab9-0a1f7a618dab",
   "metadata": {},
   "outputs": [
    {
     "name": "stdout",
     "output_type": "stream",
     "text": [
      "0 150\n",
      "1 55\n",
      "2 20\n",
      "3 99\n",
      "4 200\n",
      "5 99\n",
      "6 120\n",
      "7 159\n",
      "8 80\n",
      "9 52\n"
     ]
    }
   ],
   "source": [
    "for i in range(len(runs)):\n",
    "    print(i, runs[i])"
   ]
  },
  {
   "cell_type": "code",
   "execution_count": null,
   "id": "f5787a06-9ddc-4a5d-97d6-3f61707ef1ad",
   "metadata": {},
   "outputs": [],
   "source": []
  },
  {
   "cell_type": "code",
   "execution_count": 99,
   "id": "9a245034-c214-42e7-88bf-a8275f245237",
   "metadata": {},
   "outputs": [],
   "source": [
    "# Quiz"
   ]
  },
  {
   "cell_type": "code",
   "execution_count": 100,
   "id": "7bde88e5-85a4-4935-b27d-c4acdd660462",
   "metadata": {},
   "outputs": [
    {
     "name": "stdout",
     "output_type": "stream",
     "text": [
      "5 4 3 2 1 "
     ]
    }
   ],
   "source": [
    "my_list = [1, 2, 3, 4, 5]\n",
    "i = -1\n",
    "while i >= -5:\n",
    "    print(my_list[i], end=\" \")\n",
    "    i -= 1"
   ]
  },
  {
   "cell_type": "code",
   "execution_count": null,
   "id": "580d34c5-31dc-467f-aa57-688fe2a76cd9",
   "metadata": {},
   "outputs": [],
   "source": []
  },
  {
   "cell_type": "markdown",
   "id": "ddbc306a-fd68-4fe8-83a2-1f6668ff24ce",
   "metadata": {},
   "source": [
    "#### Total runs scored by Sachin in his career"
   ]
  },
  {
   "cell_type": "code",
   "execution_count": 101,
   "id": "370fad40-2a2d-41ea-a744-13689194de1e",
   "metadata": {},
   "outputs": [],
   "source": [
    "# Sum"
   ]
  },
  {
   "cell_type": "code",
   "execution_count": 102,
   "id": "37f4e006-d274-4f16-99db-7814af163ec8",
   "metadata": {},
   "outputs": [
    {
     "data": {
      "text/plain": [
       "[150, 55, 20, 99, 200, 99, 120, 159, 80, 52]"
      ]
     },
     "execution_count": 102,
     "metadata": {},
     "output_type": "execute_result"
    }
   ],
   "source": [
    "runs"
   ]
  },
  {
   "cell_type": "code",
   "execution_count": 103,
   "id": "f422a9af-9bf4-4790-aa9d-77906a8734c2",
   "metadata": {},
   "outputs": [
    {
     "name": "stdout",
     "output_type": "stream",
     "text": [
      "150\n",
      "55\n",
      "20\n",
      "99\n",
      "200\n",
      "99\n",
      "120\n",
      "159\n",
      "80\n",
      "52\n"
     ]
    }
   ],
   "source": [
    "for i in runs:\n",
    "    print(i)"
   ]
  },
  {
   "cell_type": "code",
   "execution_count": 104,
   "id": "99a110ab-5b98-460c-8526-71f67d25ea1b",
   "metadata": {},
   "outputs": [
    {
     "name": "stdout",
     "output_type": "stream",
     "text": [
      "1034\n"
     ]
    }
   ],
   "source": [
    "total = 0\n",
    "\n",
    "for i in runs:\n",
    "    total += i\n",
    "    \n",
    "print(total)"
   ]
  },
  {
   "cell_type": "code",
   "execution_count": 105,
   "id": "a0e8d910-1e0a-4832-a47c-4ed59a06e83a",
   "metadata": {},
   "outputs": [
    {
     "data": {
      "text/plain": [
       "1034"
      ]
     },
     "execution_count": 105,
     "metadata": {},
     "output_type": "execute_result"
    }
   ],
   "source": [
    "sum(runs)"
   ]
  },
  {
   "cell_type": "code",
   "execution_count": null,
   "id": "d8093157-516b-435b-ba24-d24d36b2c273",
   "metadata": {},
   "outputs": [],
   "source": []
  },
  {
   "cell_type": "code",
   "execution_count": 106,
   "id": "8fcdb687-7d63-4cb0-9b3b-e63f3b4cb1ad",
   "metadata": {},
   "outputs": [],
   "source": [
    "# Average of Sachin Tendulkar"
   ]
  },
  {
   "cell_type": "code",
   "execution_count": 107,
   "id": "4e77df17-e8a7-4459-818c-0f90da120254",
   "metadata": {},
   "outputs": [],
   "source": [
    "# avg = total / no. of matches"
   ]
  },
  {
   "cell_type": "code",
   "execution_count": 108,
   "id": "4cbe8645-8b63-4a7c-8be8-b03f95e511d2",
   "metadata": {},
   "outputs": [],
   "source": [
    "avg = sum(runs) / len(runs)"
   ]
  },
  {
   "cell_type": "code",
   "execution_count": 109,
   "id": "0325def3-b332-464c-8b0b-606e4a884710",
   "metadata": {},
   "outputs": [
    {
     "data": {
      "text/plain": [
       "103.4"
      ]
     },
     "execution_count": 109,
     "metadata": {},
     "output_type": "execute_result"
    }
   ],
   "source": [
    "avg"
   ]
  },
  {
   "cell_type": "code",
   "execution_count": 110,
   "id": "78bbb78f-81e5-46b2-a917-3ff7b924c3f8",
   "metadata": {},
   "outputs": [
    {
     "data": {
      "text/plain": [
       "10"
      ]
     },
     "execution_count": 110,
     "metadata": {},
     "output_type": "execute_result"
    }
   ],
   "source": [
    "len(runs)"
   ]
  },
  {
   "cell_type": "code",
   "execution_count": null,
   "id": "3cc08d25-bfef-4b70-8c13-92e877cfa0a5",
   "metadata": {},
   "outputs": [],
   "source": []
  },
  {
   "cell_type": "code",
   "execution_count": 111,
   "id": "5348e6fb-fd6f-46a1-b41e-4a79e90a8472",
   "metadata": {},
   "outputs": [],
   "source": [
    "# Min, Max"
   ]
  },
  {
   "cell_type": "code",
   "execution_count": 115,
   "id": "db0346bd-e391-44da-b1d5-3a38021408e1",
   "metadata": {},
   "outputs": [
    {
     "name": "stdout",
     "output_type": "stream",
     "text": [
      "[150, 55, 20, 99, 200, 99, 120, 159, 80, 52]\n"
     ]
    }
   ],
   "source": [
    "print(runs)"
   ]
  },
  {
   "cell_type": "code",
   "execution_count": 116,
   "id": "60f83796-bf55-4896-be92-5cdedf82508a",
   "metadata": {},
   "outputs": [
    {
     "name": "stdout",
     "output_type": "stream",
     "text": [
      "20\n"
     ]
    }
   ],
   "source": [
    "print(min(runs))"
   ]
  },
  {
   "cell_type": "code",
   "execution_count": 117,
   "id": "d5d6d0d8-46f4-4e57-b55d-18da3a417297",
   "metadata": {},
   "outputs": [
    {
     "name": "stdout",
     "output_type": "stream",
     "text": [
      "200\n"
     ]
    }
   ],
   "source": [
    "print(max(runs))"
   ]
  },
  {
   "cell_type": "code",
   "execution_count": null,
   "id": "702c5180-aebb-41ac-91f1-1592d66f0d02",
   "metadata": {},
   "outputs": [],
   "source": []
  },
  {
   "cell_type": "code",
   "execution_count": 118,
   "id": "c6c9d6a1-af97-4b79-aab6-0e70a0efb1c8",
   "metadata": {},
   "outputs": [],
   "source": [
    "# HW: Find min, max, avg runs wihtout using inbuilt functions"
   ]
  },
  {
   "cell_type": "code",
   "execution_count": null,
   "id": "d532ef47-e1f1-4b86-8a6a-c1f475fa358a",
   "metadata": {},
   "outputs": [],
   "source": []
  },
  {
   "cell_type": "code",
   "execution_count": 119,
   "id": "da8e8997-029b-4793-8379-674aaa04d5d1",
   "metadata": {},
   "outputs": [],
   "source": [
    "# Quiz"
   ]
  },
  {
   "cell_type": "code",
   "execution_count": 120,
   "id": "8e03f8b8-d7c0-44a7-974b-6b3b80aff6c3",
   "metadata": {},
   "outputs": [
    {
     "name": "stdout",
     "output_type": "stream",
     "text": [
      "apple is a fruit. banana is a fruit. orange is a fruit. "
     ]
    }
   ],
   "source": [
    "my_list = [\"apple\", \"banana\", \"orange\"]\n",
    "for i in range(len(my_list)):\n",
    "    print(my_list[i] + \" is a fruit.\", end=\" \")"
   ]
  },
  {
   "cell_type": "code",
   "execution_count": null,
   "id": "19d2c187-8f50-4766-954f-15c42626d90c",
   "metadata": {},
   "outputs": [],
   "source": []
  },
  {
   "cell_type": "code",
   "execution_count": null,
   "id": "2913c031-698a-4e26-9b72-b9681f95457f",
   "metadata": {},
   "outputs": [],
   "source": []
  },
  {
   "cell_type": "markdown",
   "id": "c3faad30-326e-4c9d-919b-56ad69751fa7",
   "metadata": {},
   "source": [
    "#### Print the runs scored by Sachin in even index matches"
   ]
  },
  {
   "cell_type": "code",
   "execution_count": 124,
   "id": "de7c03e6-f73b-4ca3-95a6-34e4cc780794",
   "metadata": {},
   "outputs": [],
   "source": [
    "runs = [150, 20, 99, 200, 99, 120, 159, 80, 52]"
   ]
  },
  {
   "cell_type": "code",
   "execution_count": 125,
   "id": "0bf9cbbe-f5f9-4caa-b624-79df182d9f07",
   "metadata": {},
   "outputs": [
    {
     "name": "stdout",
     "output_type": "stream",
     "text": [
      "150\n",
      "20\n",
      "200\n",
      "120\n",
      "80\n",
      "52\n"
     ]
    }
   ],
   "source": [
    "for i in runs:\n",
    "    if i % 2 == 0:\n",
    "        print(i)"
   ]
  },
  {
   "cell_type": "code",
   "execution_count": 128,
   "id": "ad96a3c1-54d5-4b41-84fd-d7f005623fbb",
   "metadata": {},
   "outputs": [
    {
     "name": "stdout",
     "output_type": "stream",
     "text": [
      "0\n",
      "2\n",
      "4\n",
      "6\n",
      "8\n"
     ]
    }
   ],
   "source": [
    "for i in range(len(runs)):\n",
    "    if i % 2 == 0:\n",
    "        print(i)"
   ]
  },
  {
   "cell_type": "code",
   "execution_count": 130,
   "id": "dfb263a2-ae95-45d7-ba53-dca6c3d24b69",
   "metadata": {},
   "outputs": [
    {
     "data": {
      "text/plain": [
       "[150, 20, 99, 200, 99, 120, 159, 80, 52]"
      ]
     },
     "execution_count": 130,
     "metadata": {},
     "output_type": "execute_result"
    }
   ],
   "source": [
    "runs"
   ]
  },
  {
   "cell_type": "code",
   "execution_count": 129,
   "id": "88840c9b-dc10-4d4f-8aec-17ebee5de587",
   "metadata": {},
   "outputs": [
    {
     "name": "stdout",
     "output_type": "stream",
     "text": [
      "0 150\n",
      "2 99\n",
      "4 99\n",
      "6 159\n",
      "8 52\n"
     ]
    }
   ],
   "source": [
    "for i in range(len(runs)):\n",
    "    if i % 2 == 0:\n",
    "        print(i, runs[i])"
   ]
  },
  {
   "cell_type": "code",
   "execution_count": 131,
   "id": "4a7a3bfc-d0ea-43e0-8ccd-c29a775da749",
   "metadata": {},
   "outputs": [
    {
     "name": "stdout",
     "output_type": "stream",
     "text": [
      "0\n",
      "2\n",
      "4\n",
      "6\n",
      "8\n"
     ]
    }
   ],
   "source": [
    "for i in range(0, len(runs), 2):\n",
    "    print(i)"
   ]
  },
  {
   "cell_type": "code",
   "execution_count": 132,
   "id": "b8e44fcf-8f48-44c0-af19-fabf9d0d8b5d",
   "metadata": {},
   "outputs": [
    {
     "name": "stdout",
     "output_type": "stream",
     "text": [
      "0 150\n",
      "2 99\n",
      "4 99\n",
      "6 159\n",
      "8 52\n"
     ]
    }
   ],
   "source": [
    "for i in range(0, len(runs), 2):\n",
    "    print(i, runs[i])"
   ]
  },
  {
   "cell_type": "code",
   "execution_count": null,
   "id": "3bd1f12c-2557-4a27-a982-81f5f1deb80a",
   "metadata": {},
   "outputs": [],
   "source": []
  },
  {
   "cell_type": "code",
   "execution_count": null,
   "id": "2e2ce970-33cc-4707-9c1d-29b53ab4aceb",
   "metadata": {},
   "outputs": [],
   "source": []
  },
  {
   "cell_type": "code",
   "execution_count": null,
   "id": "69636c2e-7a14-4f47-a856-eb2f056c7b95",
   "metadata": {},
   "outputs": [],
   "source": []
  },
  {
   "cell_type": "markdown",
   "id": "6858831d-fe25-41ae-8810-4fbdb24e656b",
   "metadata": {},
   "source": [
    "### Taking list of numbers as input"
   ]
  },
  {
   "cell_type": "markdown",
   "id": "2b094a9a-89b5-4647-a72b-5f32ace8dde5",
   "metadata": {},
   "source": [
    "- Getting the number of elements\n",
    "- Initializing an empty list\n",
    "- Use a loop\n",
    "- Get input for each element"
   ]
  },
  {
   "cell_type": "code",
   "execution_count": 133,
   "id": "eacda247-4421-457b-84ee-e812a4bf3efb",
   "metadata": {},
   "outputs": [
    {
     "name": "stdin",
     "output_type": "stream",
     "text": [
      " 5\n",
      " 12\n",
      " 24\n",
      " 5\n",
      " 36\n",
      " 20\n"
     ]
    },
    {
     "name": "stdout",
     "output_type": "stream",
     "text": [
      "[12, 24, 5, 36, 20]\n"
     ]
    }
   ],
   "source": [
    "# 1. How many elements do we want\n",
    "n = int(input())\n",
    "\n",
    "# 2. Create an empty list\n",
    "l = []\n",
    "\n",
    "# 3. Take n number of inputs from user and append them in list\n",
    "for i in range(n):\n",
    "    # Please take element as input\n",
    "    ele = int(input())\n",
    "    \n",
    "    # Append that element in list\n",
    "    l.append(ele)\n",
    "    \n",
    "print(l)"
   ]
  },
  {
   "cell_type": "code",
   "execution_count": null,
   "id": "1e3e76aa-ff9a-497f-8150-36aa1dc6c944",
   "metadata": {},
   "outputs": [],
   "source": []
  },
  {
   "cell_type": "code",
   "execution_count": null,
   "id": "1b1ef05e-52da-4d5a-b71f-2737590756ad",
   "metadata": {},
   "outputs": [],
   "source": []
  },
  {
   "cell_type": "code",
   "execution_count": null,
   "id": "5ef93292-6351-4951-b60f-b36022f76274",
   "metadata": {},
   "outputs": [],
   "source": []
  },
  {
   "cell_type": "code",
   "execution_count": null,
   "id": "5729fc63-b210-4094-8196-1206187c16fe",
   "metadata": {},
   "outputs": [],
   "source": []
  },
  {
   "cell_type": "code",
   "execution_count": null,
   "id": "3f7737ae-f08b-4e6c-abf2-37814f80727e",
   "metadata": {},
   "outputs": [],
   "source": []
  },
  {
   "cell_type": "code",
   "execution_count": null,
   "id": "99ee481a-02e2-42fb-bc5f-fcd117a6a4ec",
   "metadata": {},
   "outputs": [],
   "source": []
  },
  {
   "cell_type": "code",
   "execution_count": null,
   "id": "d257504f-ea15-4e0c-8f8d-6f3ed53e0950",
   "metadata": {},
   "outputs": [],
   "source": []
  },
  {
   "cell_type": "code",
   "execution_count": null,
   "id": "394dace8-7280-476f-970e-c5c02eb53222",
   "metadata": {},
   "outputs": [],
   "source": []
  },
  {
   "cell_type": "code",
   "execution_count": null,
   "id": "d85c5898-37ca-477c-90bf-9be75b32ab99",
   "metadata": {},
   "outputs": [],
   "source": []
  }
 ],
 "metadata": {
  "kernelspec": {
   "display_name": "Python 3 (ipykernel)",
   "language": "python",
   "name": "python3"
  },
  "language_info": {
   "codemirror_mode": {
    "name": "ipython",
    "version": 3
   },
   "file_extension": ".py",
   "mimetype": "text/x-python",
   "name": "python",
   "nbconvert_exporter": "python",
   "pygments_lexer": "ipython3",
   "version": "3.9.7"
  }
 },
 "nbformat": 4,
 "nbformat_minor": 5
}
