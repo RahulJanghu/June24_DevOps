{
 "cells": [
  {
   "cell_type": "markdown",
   "id": "34fe4abb-011f-44a3-b1b3-316b36c86490",
   "metadata": {},
   "source": [
    "### List slicing"
   ]
  },
  {
   "cell_type": "code",
   "execution_count": 1,
   "id": "3c124351-5288-471a-ba79-eb299cf92254",
   "metadata": {},
   "outputs": [],
   "source": [
    "# List slicing doesnt affect the current list"
   ]
  },
  {
   "cell_type": "code",
   "execution_count": 2,
   "id": "7964a2b4-a9f2-48b6-94f7-a7e2bb846e25",
   "metadata": {},
   "outputs": [],
   "source": [
    "# by default start = 0, end = including last index"
   ]
  },
  {
   "cell_type": "code",
   "execution_count": 3,
   "id": "535f78d7-7ccb-4c54-9f77-48e0f91de56c",
   "metadata": {},
   "outputs": [],
   "source": [
    "runs = [10, 99, 100, 50, 80, 200, 150, 20, 99, 99]"
   ]
  },
  {
   "cell_type": "code",
   "execution_count": 4,
   "id": "95bafa98-3b8e-4f9d-8bf3-efdd15d13f95",
   "metadata": {},
   "outputs": [
    {
     "data": {
      "text/plain": [
       "10"
      ]
     },
     "execution_count": 4,
     "metadata": {},
     "output_type": "execute_result"
    }
   ],
   "source": [
    "runs[0]"
   ]
  },
  {
   "cell_type": "code",
   "execution_count": 5,
   "id": "741d8636-86d5-428c-a801-7e1562540e1b",
   "metadata": {},
   "outputs": [
    {
     "data": {
      "text/plain": [
       "10"
      ]
     },
     "execution_count": 5,
     "metadata": {},
     "output_type": "execute_result"
    }
   ],
   "source": [
    "len(runs)"
   ]
  },
  {
   "cell_type": "code",
   "execution_count": 7,
   "id": "0cb6d34c-5d74-4f63-894d-53bfdf1ac886",
   "metadata": {},
   "outputs": [
    {
     "data": {
      "text/plain": [
       "[10, 99, 100, 50, 80, 200, 150, 20, 99, 99]"
      ]
     },
     "execution_count": 7,
     "metadata": {},
     "output_type": "execute_result"
    }
   ],
   "source": [
    "# Default start : 0\n",
    "# By default end : len(runs) --> N\n",
    "# By default jump : +1\n",
    "# runs[0 : N : 1] --> Full list\n",
    "\n",
    "runs[ : : ]"
   ]
  },
  {
   "cell_type": "code",
   "execution_count": null,
   "id": "5bbd69e6-91b9-4dc8-a9a3-ddcaf800d82d",
   "metadata": {},
   "outputs": [],
   "source": []
  },
  {
   "cell_type": "code",
   "execution_count": 8,
   "id": "79dc7eab-277c-4ff5-b4ba-fd4ccbb07857",
   "metadata": {},
   "outputs": [
    {
     "data": {
      "text/plain": [
       "[10, 99, 100]"
      ]
     },
     "execution_count": 8,
     "metadata": {},
     "output_type": "execute_result"
    }
   ],
   "source": [
    "# Default start : 0\n",
    "# end : 3\n",
    "# Default jump : 1\n",
    "\n",
    "runs[ : 3]"
   ]
  },
  {
   "cell_type": "code",
   "execution_count": 9,
   "id": "77d6fc7c-8bd8-43ca-bf9c-2a05352c9551",
   "metadata": {},
   "outputs": [
    {
     "data": {
      "text/plain": [
       "[10, 99, 100, 50, 80, 200, 150, 20, 99, 99]"
      ]
     },
     "execution_count": 9,
     "metadata": {},
     "output_type": "execute_result"
    }
   ],
   "source": [
    "runs"
   ]
  },
  {
   "cell_type": "code",
   "execution_count": null,
   "id": "904915bd-d0f1-49bb-b66a-e37afc796625",
   "metadata": {},
   "outputs": [],
   "source": []
  },
  {
   "cell_type": "code",
   "execution_count": 10,
   "id": "02dfe5d3-dbf7-42ea-aeec-eb0d495303ff",
   "metadata": {},
   "outputs": [
    {
     "data": {
      "text/plain": [
       "[100, 50, 80]"
      ]
     },
     "execution_count": 10,
     "metadata": {},
     "output_type": "execute_result"
    }
   ],
   "source": [
    "# Start : 2\n",
    "# end : 5\n",
    "# jump : 1\n",
    "\n",
    "runs[2 : 5]"
   ]
  },
  {
   "cell_type": "code",
   "execution_count": null,
   "id": "ff45ecd5-c777-4ef2-b4a3-5cced5f0079c",
   "metadata": {},
   "outputs": [],
   "source": []
  },
  {
   "cell_type": "code",
   "execution_count": 11,
   "id": "fd5b34b6-55df-47bb-b9f5-7f2c542769e1",
   "metadata": {},
   "outputs": [
    {
     "data": {
      "text/plain": [
       "[100, 50, 80, 200, 150, 20, 99]"
      ]
     },
     "execution_count": 11,
     "metadata": {},
     "output_type": "execute_result"
    }
   ],
   "source": [
    "# Start : 2\n",
    "# end : -1 --> last element (N-1)\n",
    "# jump : 1\n",
    "\n",
    "\n",
    "runs[2 : -1]"
   ]
  },
  {
   "cell_type": "code",
   "execution_count": null,
   "id": "1675a72b-6625-4c62-a355-6ac1e7d235cf",
   "metadata": {},
   "outputs": [],
   "source": []
  },
  {
   "cell_type": "code",
   "execution_count": 13,
   "id": "cda7a156-38cf-49c8-94e7-c579b5083cfc",
   "metadata": {},
   "outputs": [
    {
     "data": {
      "text/plain": [
       "[10, 99, 100, 50, 80, 200, 150, 20, 99, 99]"
      ]
     },
     "execution_count": 13,
     "metadata": {},
     "output_type": "execute_result"
    }
   ],
   "source": [
    "runs"
   ]
  },
  {
   "cell_type": "code",
   "execution_count": 12,
   "id": "e9748e9d-0926-4004-b671-ed3490dc060d",
   "metadata": {},
   "outputs": [],
   "source": [
    "# In case of contradiction we always get an empty list"
   ]
  },
  {
   "cell_type": "code",
   "execution_count": 14,
   "id": "e5cf719f-73bd-4e81-9fc4-451d3a5e3904",
   "metadata": {},
   "outputs": [
    {
     "data": {
      "text/plain": [
       "[]"
      ]
     },
     "execution_count": 14,
     "metadata": {},
     "output_type": "execute_result"
    }
   ],
   "source": [
    "# start : 3\n",
    "# end : 0\n",
    "# jump : 1\n",
    "\n",
    "runs[3:0]"
   ]
  },
  {
   "cell_type": "code",
   "execution_count": null,
   "id": "b75b5da4-259e-4845-92ac-9f64ba1e7a56",
   "metadata": {},
   "outputs": [],
   "source": []
  },
  {
   "cell_type": "code",
   "execution_count": 15,
   "id": "4577b43b-e104-44ae-b471-d4bd3472785a",
   "metadata": {},
   "outputs": [],
   "source": [
    "# List slicing handles list out of range error as well"
   ]
  },
  {
   "cell_type": "code",
   "execution_count": 16,
   "id": "03a051c0-e7c9-49f3-ac7d-6452ef1c38aa",
   "metadata": {},
   "outputs": [],
   "source": [
    "# here even if the index is out of range then it handles the error"
   ]
  },
  {
   "cell_type": "code",
   "execution_count": 17,
   "id": "528938b2-fd7d-40c6-8b73-832ecf4da504",
   "metadata": {},
   "outputs": [
    {
     "data": {
      "text/plain": [
       "[10, 99, 100, 50, 80, 200, 150, 20, 99, 99]"
      ]
     },
     "execution_count": 17,
     "metadata": {},
     "output_type": "execute_result"
    }
   ],
   "source": [
    "runs"
   ]
  },
  {
   "cell_type": "code",
   "execution_count": 18,
   "id": "b9cf83f5-b4de-4a28-8336-0df74203d784",
   "metadata": {},
   "outputs": [
    {
     "data": {
      "text/plain": [
       "10"
      ]
     },
     "execution_count": 18,
     "metadata": {},
     "output_type": "execute_result"
    }
   ],
   "source": [
    "len(runs)"
   ]
  },
  {
   "cell_type": "code",
   "execution_count": 19,
   "id": "3a254c9f-d27a-443c-99e1-f65725180487",
   "metadata": {},
   "outputs": [
    {
     "data": {
      "text/plain": [
       "[10, 99, 100, 50, 80, 200, 150, 20, 99, 99]"
      ]
     },
     "execution_count": 19,
     "metadata": {},
     "output_type": "execute_result"
    }
   ],
   "source": [
    "runs[:len(runs) + 123992]"
   ]
  },
  {
   "cell_type": "code",
   "execution_count": null,
   "id": "88257711-2fda-4640-9960-b31ccaf14bee",
   "metadata": {},
   "outputs": [],
   "source": []
  },
  {
   "cell_type": "code",
   "execution_count": 21,
   "id": "e22cafee-8306-45c8-895f-477342e871ad",
   "metadata": {},
   "outputs": [
    {
     "data": {
      "text/plain": [
       "[10, 99, 100, 50, 80, 200, 150, 20, 99, 99]"
      ]
     },
     "execution_count": 21,
     "metadata": {},
     "output_type": "execute_result"
    }
   ],
   "source": [
    "runs"
   ]
  },
  {
   "cell_type": "code",
   "execution_count": 22,
   "id": "c4ee1931-0246-4fb3-a2da-c1c9436ecef1",
   "metadata": {},
   "outputs": [
    {
     "data": {
      "text/plain": [
       "10"
      ]
     },
     "execution_count": 22,
     "metadata": {},
     "output_type": "execute_result"
    }
   ],
   "source": [
    "len(runs)"
   ]
  },
  {
   "cell_type": "code",
   "execution_count": 24,
   "id": "9e7029f0-833d-4fcb-89bc-09df3cf24a28",
   "metadata": {},
   "outputs": [
    {
     "data": {
      "text/plain": [
       "[50, 100, 99, 10]"
      ]
     },
     "execution_count": 24,
     "metadata": {},
     "output_type": "execute_result"
    }
   ],
   "source": [
    "# start : 3\n",
    "# end : -(N + 1) -->  - 11\\\n",
    "\n",
    "runs[3 : : -1]"
   ]
  },
  {
   "cell_type": "code",
   "execution_count": 25,
   "id": "dd321fb0-2ef7-4bf8-b317-4280665ee754",
   "metadata": {},
   "outputs": [
    {
     "data": {
      "text/plain": [
       "[80, 50]"
      ]
     },
     "execution_count": 25,
     "metadata": {},
     "output_type": "execute_result"
    }
   ],
   "source": [
    "runs[4 : 2 : -1]"
   ]
  },
  {
   "cell_type": "code",
   "execution_count": null,
   "id": "3aad4388-70a8-4daf-9756-6c4d79a82dc6",
   "metadata": {},
   "outputs": [],
   "source": []
  },
  {
   "cell_type": "code",
   "execution_count": 26,
   "id": "c58de92e-82d3-4b48-9f56-180056f042d4",
   "metadata": {},
   "outputs": [],
   "source": [
    "# l[ start : end : jump ]"
   ]
  },
  {
   "cell_type": "code",
   "execution_count": 27,
   "id": "1db168b1-114e-42ed-b41d-e756076c2bbe",
   "metadata": {},
   "outputs": [
    {
     "data": {
      "text/plain": [
       "[10, 99, 100, 50, 80, 200, 150, 20, 99, 99]"
      ]
     },
     "execution_count": 27,
     "metadata": {},
     "output_type": "execute_result"
    }
   ],
   "source": [
    "runs"
   ]
  },
  {
   "cell_type": "code",
   "execution_count": 28,
   "id": "3bce8603-9444-4a95-a18d-a6e7ef3019c9",
   "metadata": {},
   "outputs": [
    {
     "data": {
      "text/plain": [
       "[50, 200, 20, 99]"
      ]
     },
     "execution_count": 28,
     "metadata": {},
     "output_type": "execute_result"
    }
   ],
   "source": [
    "runs[3:10:2]"
   ]
  },
  {
   "cell_type": "code",
   "execution_count": 29,
   "id": "f718c356-a266-4922-8a67-6e7fcf930a7f",
   "metadata": {},
   "outputs": [
    {
     "data": {
      "text/plain": [
       "[100, 200]"
      ]
     },
     "execution_count": 29,
     "metadata": {},
     "output_type": "execute_result"
    }
   ],
   "source": [
    "runs[2:8:3]"
   ]
  },
  {
   "cell_type": "code",
   "execution_count": 30,
   "id": "82e8c549-69b8-411d-9796-3e10777a1682",
   "metadata": {},
   "outputs": [
    {
     "data": {
      "text/plain": [
       "[100, 200, 99]"
      ]
     },
     "execution_count": 30,
     "metadata": {},
     "output_type": "execute_result"
    }
   ],
   "source": [
    "runs[2:9:3]"
   ]
  },
  {
   "cell_type": "code",
   "execution_count": null,
   "id": "39e72ba8-daf1-4df4-b6f5-e608c86f434a",
   "metadata": {},
   "outputs": [],
   "source": []
  },
  {
   "cell_type": "code",
   "execution_count": null,
   "id": "6cc4b8e8-c0a6-4542-9ee1-16c52d31de28",
   "metadata": {},
   "outputs": [],
   "source": []
  },
  {
   "cell_type": "code",
   "execution_count": 31,
   "id": "a02d313c-7621-4605-b11b-0f714f97306a",
   "metadata": {},
   "outputs": [],
   "source": [
    "# Even index values"
   ]
  },
  {
   "cell_type": "code",
   "execution_count": 32,
   "id": "d81e1816-2304-40d3-b4de-55c650500c88",
   "metadata": {},
   "outputs": [
    {
     "data": {
      "text/plain": [
       "[10, 99, 100, 50, 80, 200, 150, 20, 99, 99]"
      ]
     },
     "execution_count": 32,
     "metadata": {},
     "output_type": "execute_result"
    }
   ],
   "source": [
    "runs"
   ]
  },
  {
   "cell_type": "code",
   "execution_count": 33,
   "id": "1617ce66-6538-4362-9ca4-9e83a6e58716",
   "metadata": {},
   "outputs": [
    {
     "data": {
      "text/plain": [
       "[10, 100, 80, 150, 99]"
      ]
     },
     "execution_count": 33,
     "metadata": {},
     "output_type": "execute_result"
    }
   ],
   "source": [
    "# start : 0\n",
    "# end : N\n",
    "\n",
    "runs[::2]"
   ]
  },
  {
   "cell_type": "code",
   "execution_count": 35,
   "id": "52f20330-1ca9-4e91-9cdd-6d359e1b94eb",
   "metadata": {},
   "outputs": [
    {
     "data": {
      "text/plain": [
       "439"
      ]
     },
     "execution_count": 35,
     "metadata": {},
     "output_type": "execute_result"
    }
   ],
   "source": [
    "sum(runs[::2])"
   ]
  },
  {
   "cell_type": "code",
   "execution_count": null,
   "id": "9c1b2fb1-6951-4a4c-a939-b1f0d5e9e62b",
   "metadata": {},
   "outputs": [],
   "source": []
  },
  {
   "cell_type": "code",
   "execution_count": null,
   "id": "071ec51f-aae1-43ca-ba2b-558d67c637fb",
   "metadata": {},
   "outputs": [],
   "source": []
  },
  {
   "cell_type": "code",
   "execution_count": 36,
   "id": "9d036ea3-c3b1-4414-bfce-31343a16158b",
   "metadata": {},
   "outputs": [],
   "source": [
    "# Odd index values"
   ]
  },
  {
   "cell_type": "code",
   "execution_count": 37,
   "id": "b712072d-eb0f-4ab3-b7ab-e8d9342ceb7a",
   "metadata": {},
   "outputs": [
    {
     "data": {
      "text/plain": [
       "[10, 99, 100, 50, 80, 200, 150, 20, 99, 99]"
      ]
     },
     "execution_count": 37,
     "metadata": {},
     "output_type": "execute_result"
    }
   ],
   "source": [
    "runs"
   ]
  },
  {
   "cell_type": "code",
   "execution_count": 38,
   "id": "6b6bb0f6-bb78-4ac6-aadf-29346fe3533f",
   "metadata": {},
   "outputs": [
    {
     "data": {
      "text/plain": [
       "[99, 50, 200, 20, 99]"
      ]
     },
     "execution_count": 38,
     "metadata": {},
     "output_type": "execute_result"
    }
   ],
   "source": [
    "runs[1::2]"
   ]
  },
  {
   "cell_type": "code",
   "execution_count": 40,
   "id": "d01bf770-879a-41ee-8bd0-c2850a503694",
   "metadata": {},
   "outputs": [
    {
     "data": {
      "text/plain": [
       "468"
      ]
     },
     "execution_count": 40,
     "metadata": {},
     "output_type": "execute_result"
    }
   ],
   "source": [
    "sum(runs[1::2])"
   ]
  },
  {
   "cell_type": "code",
   "execution_count": 42,
   "id": "92c58eed-3055-4083-9a8d-030a33851c04",
   "metadata": {},
   "outputs": [
    {
     "name": "stdout",
     "output_type": "stream",
     "text": [
      "468\n"
     ]
    }
   ],
   "source": [
    "total = 0\n",
    "for i in runs[1::2]:\n",
    "    total += i\n",
    "    \n",
    "print(total)"
   ]
  },
  {
   "cell_type": "code",
   "execution_count": null,
   "id": "1cd35b97-389c-43be-964b-f56b01e2b733",
   "metadata": {},
   "outputs": [],
   "source": []
  },
  {
   "cell_type": "code",
   "execution_count": null,
   "id": "0c43809c-0919-4f9d-96fc-78f6f633a921",
   "metadata": {},
   "outputs": [],
   "source": []
  },
  {
   "cell_type": "code",
   "execution_count": null,
   "id": "ca441284-ac2a-419f-a7fe-ac03e9cae918",
   "metadata": {},
   "outputs": [],
   "source": [
    "# reverse of this list"
   ]
  },
  {
   "cell_type": "code",
   "execution_count": 43,
   "id": "9880e602-01a1-4080-a46b-629b4c68973b",
   "metadata": {},
   "outputs": [
    {
     "data": {
      "text/plain": [
       "[10, 99, 100, 50, 80, 200, 150, 20, 99, 99]"
      ]
     },
     "execution_count": 43,
     "metadata": {},
     "output_type": "execute_result"
    }
   ],
   "source": [
    "runs"
   ]
  },
  {
   "cell_type": "code",
   "execution_count": 44,
   "id": "8c40fde7-68ad-4c82-80a0-0ae41a175759",
   "metadata": {},
   "outputs": [
    {
     "data": {
      "text/plain": [
       "[99, 99, 20, 150, 200, 80, 50, 100, 99, 10]"
      ]
     },
     "execution_count": 44,
     "metadata": {},
     "output_type": "execute_result"
    }
   ],
   "source": [
    "runs[::-1]"
   ]
  },
  {
   "cell_type": "code",
   "execution_count": null,
   "id": "ce334621-5da5-4c38-a4cc-a478821adfd9",
   "metadata": {},
   "outputs": [],
   "source": []
  },
  {
   "cell_type": "code",
   "execution_count": 45,
   "id": "c7959567-3fc5-4e2f-a3ab-d236cd6c4601",
   "metadata": {},
   "outputs": [],
   "source": [
    "# DIY -> Hit and trial"
   ]
  },
  {
   "cell_type": "code",
   "execution_count": null,
   "id": "c320b995-c6db-4f5d-a0f4-7f00930f3ced",
   "metadata": {},
   "outputs": [],
   "source": []
  },
  {
   "cell_type": "code",
   "execution_count": 48,
   "id": "cd897826-2f5b-4a68-8f38-5f1c4e09d284",
   "metadata": {},
   "outputs": [],
   "source": [
    "# Sum of Sachin scores in first 5 matches, last 5 matches"
   ]
  },
  {
   "cell_type": "code",
   "execution_count": null,
   "id": "8acfe491-2ee7-443b-8efc-f6aa7e920746",
   "metadata": {},
   "outputs": [],
   "source": []
  },
  {
   "cell_type": "code",
   "execution_count": null,
   "id": "db71bc17-69a1-4ad6-af3c-52b3335ffd34",
   "metadata": {},
   "outputs": [],
   "source": []
  },
  {
   "cell_type": "code",
   "execution_count": null,
   "id": "b0ce5003-5dc0-4086-b710-740e0c487c7e",
   "metadata": {},
   "outputs": [],
   "source": []
  },
  {
   "cell_type": "markdown",
   "id": "a3fe0531-2518-4f2d-9e62-cb4dce8aaa9b",
   "metadata": {},
   "source": [
    "# Nested Lists Introduction"
   ]
  },
  {
   "cell_type": "code",
   "execution_count": 50,
   "id": "71d5dbe1-459a-4bed-86e4-ea0b5853d6a6",
   "metadata": {},
   "outputs": [],
   "source": [
    "# What about append first?"
   ]
  },
  {
   "cell_type": "code",
   "execution_count": 51,
   "id": "b365e8d3-099d-4ce1-80bc-fa100cf952ae",
   "metadata": {},
   "outputs": [],
   "source": [
    "l1 = [1, 2, 3, 4]\n",
    "l2 = [5, 6, 7, 8]"
   ]
  },
  {
   "cell_type": "code",
   "execution_count": 52,
   "id": "bb8bfded-4045-433c-9d03-c906a3e777f8",
   "metadata": {},
   "outputs": [],
   "source": [
    "final = [l1, l2]"
   ]
  },
  {
   "cell_type": "code",
   "execution_count": 53,
   "id": "38d79580-76cc-40da-84ec-7116f9327c35",
   "metadata": {},
   "outputs": [
    {
     "data": {
      "text/plain": [
       "[[1, 2, 3, 4], [5, 6, 7, 8]]"
      ]
     },
     "execution_count": 53,
     "metadata": {},
     "output_type": "execute_result"
    }
   ],
   "source": [
    "final"
   ]
  },
  {
   "cell_type": "code",
   "execution_count": null,
   "id": "97b2ed70-ccd6-48e6-8e4f-579eca2b7660",
   "metadata": {},
   "outputs": [],
   "source": []
  },
  {
   "cell_type": "markdown",
   "id": "d8395f2e-b1e0-4a3c-a9ca-32e0515a7487",
   "metadata": {},
   "source": [
    "### Get a scores list including runs from all the formats"
   ]
  },
  {
   "cell_type": "code",
   "execution_count": 54,
   "id": "2f7b8a01-6422-4af2-8cd5-0ce81e5032da",
   "metadata": {},
   "outputs": [],
   "source": [
    "odi = [100, 99, 20]\n",
    "test = [200, 150, 90, 180]\n",
    "t20 = [20, 50, 100]"
   ]
  },
  {
   "cell_type": "code",
   "execution_count": 55,
   "id": "69b704a8-41b9-41a5-9cab-421f23461672",
   "metadata": {},
   "outputs": [],
   "source": [
    "example = [[100, 99, 20], \n",
    "           [200, 150, 90, 180],\n",
    "           [20, 50, 100]]"
   ]
  },
  {
   "cell_type": "code",
   "execution_count": 56,
   "id": "e2c2c0d7-0939-45b4-bf59-bc25e1aa1ba5",
   "metadata": {},
   "outputs": [
    {
     "data": {
      "text/plain": [
       "[[100, 99, 20], [200, 150, 90, 180], [20, 50, 100]]"
      ]
     },
     "execution_count": 56,
     "metadata": {},
     "output_type": "execute_result"
    }
   ],
   "source": [
    "example"
   ]
  },
  {
   "cell_type": "code",
   "execution_count": null,
   "id": "1cec069c-44fb-46c5-a55a-a9c44ca9da59",
   "metadata": {},
   "outputs": [],
   "source": []
  },
  {
   "cell_type": "code",
   "execution_count": 57,
   "id": "a0092a31-94b3-4fd1-89c2-6ff7e19b39a4",
   "metadata": {},
   "outputs": [],
   "source": [
    "scores = []"
   ]
  },
  {
   "cell_type": "code",
   "execution_count": 58,
   "id": "66a32366-a609-4c88-a49e-d007742b218d",
   "metadata": {},
   "outputs": [],
   "source": [
    "scores.append(odi)"
   ]
  },
  {
   "cell_type": "code",
   "execution_count": 60,
   "id": "5433fd07-42c4-4bf9-adfa-a5c7052b31c6",
   "metadata": {},
   "outputs": [],
   "source": [
    "scores.append(test)"
   ]
  },
  {
   "cell_type": "code",
   "execution_count": 61,
   "id": "02960d52-d575-428a-b8fa-33dc97a3423a",
   "metadata": {},
   "outputs": [
    {
     "data": {
      "text/plain": [
       "[[100, 99, 20], [200, 150, 90, 180]]"
      ]
     },
     "execution_count": 61,
     "metadata": {},
     "output_type": "execute_result"
    }
   ],
   "source": [
    "scores"
   ]
  },
  {
   "cell_type": "code",
   "execution_count": 62,
   "id": "639a761f-2201-4c31-9996-267bc6b8f83a",
   "metadata": {},
   "outputs": [],
   "source": [
    "scores.append(t20)"
   ]
  },
  {
   "cell_type": "code",
   "execution_count": 63,
   "id": "2935b211-e309-4bf0-9217-85650fc9bbc0",
   "metadata": {},
   "outputs": [
    {
     "data": {
      "text/plain": [
       "[[100, 99, 20], [200, 150, 90, 180], [20, 50, 100]]"
      ]
     },
     "execution_count": 63,
     "metadata": {},
     "output_type": "execute_result"
    }
   ],
   "source": [
    "scores"
   ]
  },
  {
   "cell_type": "code",
   "execution_count": null,
   "id": "ac8790d1-5d89-4c93-b1a1-0ad3427c58af",
   "metadata": {},
   "outputs": [],
   "source": []
  },
  {
   "cell_type": "code",
   "execution_count": null,
   "id": "a02acd27-6876-44c0-beb2-9e60e3d3effb",
   "metadata": {},
   "outputs": [],
   "source": []
  },
  {
   "cell_type": "code",
   "execution_count": null,
   "id": "4fee6986-7bd3-4055-ac63-c1d30a2d6da2",
   "metadata": {},
   "outputs": [],
   "source": []
  },
  {
   "cell_type": "code",
   "execution_count": 64,
   "id": "71894a90-9781-48c9-8ce5-829c67cf0024",
   "metadata": {},
   "outputs": [],
   "source": [
    "# Indexing in the list"
   ]
  },
  {
   "cell_type": "code",
   "execution_count": 65,
   "id": "a7104f92-315f-420d-b828-103b20dfa05d",
   "metadata": {},
   "outputs": [
    {
     "data": {
      "text/plain": [
       "[[100, 99, 20], [200, 150, 90, 180], [20, 50, 100]]"
      ]
     },
     "execution_count": 65,
     "metadata": {},
     "output_type": "execute_result"
    }
   ],
   "source": [
    "scores"
   ]
  },
  {
   "cell_type": "code",
   "execution_count": 66,
   "id": "cea85876-bb00-41bc-8a9f-778fc326bbcf",
   "metadata": {},
   "outputs": [
    {
     "data": {
      "text/plain": [
       "[20, 50, 100]"
      ]
     },
     "execution_count": 66,
     "metadata": {},
     "output_type": "execute_result"
    }
   ],
   "source": [
    "scores[2]"
   ]
  },
  {
   "cell_type": "code",
   "execution_count": 68,
   "id": "508b248d-7204-4260-a5f4-2604709dda70",
   "metadata": {},
   "outputs": [
    {
     "data": {
      "text/plain": [
       "50"
      ]
     },
     "execution_count": 68,
     "metadata": {},
     "output_type": "execute_result"
    }
   ],
   "source": [
    "scores[2][1]"
   ]
  },
  {
   "cell_type": "code",
   "execution_count": 69,
   "id": "95499391-f40c-43a3-94a6-747a939a33bb",
   "metadata": {},
   "outputs": [
    {
     "data": {
      "text/plain": [
       "90"
      ]
     },
     "execution_count": 69,
     "metadata": {},
     "output_type": "execute_result"
    }
   ],
   "source": [
    "scores[1][2]"
   ]
  },
  {
   "cell_type": "code",
   "execution_count": null,
   "id": "5963bbe4-0c70-47ea-84a9-7f6be0767350",
   "metadata": {},
   "outputs": [],
   "source": []
  },
  {
   "cell_type": "code",
   "execution_count": null,
   "id": "827c98c1-d187-4a36-a308-813a30cd4b71",
   "metadata": {},
   "outputs": [],
   "source": []
  },
  {
   "cell_type": "code",
   "execution_count": null,
   "id": "162be468-d306-45aa-9ad9-6e2572588cbf",
   "metadata": {},
   "outputs": [],
   "source": []
  },
  {
   "cell_type": "code",
   "execution_count": null,
   "id": "dd2eefa1-34cc-472e-872b-031dbddccd10",
   "metadata": {},
   "outputs": [],
   "source": []
  },
  {
   "cell_type": "markdown",
   "id": "82668913-401e-432f-ac75-36d4955ad34d",
   "metadata": {},
   "source": [
    "### Iterating a 2D list"
   ]
  },
  {
   "cell_type": "code",
   "execution_count": 70,
   "id": "0ed3b374-a0ea-4452-ae42-d39b4a110f7f",
   "metadata": {},
   "outputs": [],
   "source": [
    "# The range method"
   ]
  },
  {
   "cell_type": "code",
   "execution_count": 71,
   "id": "dabcb8ea-9d62-4a8e-abbf-2ca237dae8c5",
   "metadata": {},
   "outputs": [],
   "source": [
    "# Without range"
   ]
  },
  {
   "cell_type": "code",
   "execution_count": 72,
   "id": "0964ebd6-0400-44c6-b338-513a2fa59194",
   "metadata": {},
   "outputs": [],
   "source": [
    "# In case when we are using range function, we are iterating using\n",
    "# Indexes"
   ]
  },
  {
   "cell_type": "code",
   "execution_count": 74,
   "id": "f85e91a0-deb2-4b5a-a080-a8afae062cd8",
   "metadata": {},
   "outputs": [
    {
     "data": {
      "text/plain": [
       "[[100, 99, 20], [200, 150, 90, 180], [20, 50, 100]]"
      ]
     },
     "execution_count": 74,
     "metadata": {},
     "output_type": "execute_result"
    }
   ],
   "source": [
    "scores"
   ]
  },
  {
   "cell_type": "code",
   "execution_count": 75,
   "id": "e44e9174-72ab-422c-90d5-a1107f69d2db",
   "metadata": {},
   "outputs": [
    {
     "name": "stdout",
     "output_type": "stream",
     "text": [
      "[100, 99, 20]\n",
      "[200, 150, 90, 180]\n",
      "[20, 50, 100]\n"
     ]
    }
   ],
   "source": [
    "for i in scores:\n",
    "    print(i)"
   ]
  },
  {
   "cell_type": "code",
   "execution_count": 76,
   "id": "9f7906bc-6786-43b7-b417-8c7922a6c231",
   "metadata": {},
   "outputs": [
    {
     "data": {
      "text/plain": [
       "[100, 99, 20]"
      ]
     },
     "execution_count": 76,
     "metadata": {},
     "output_type": "execute_result"
    }
   ],
   "source": [
    "odi"
   ]
  },
  {
   "cell_type": "code",
   "execution_count": 77,
   "id": "d85baa03-5dc3-43d7-95e1-9cf9c197c77f",
   "metadata": {},
   "outputs": [
    {
     "name": "stdout",
     "output_type": "stream",
     "text": [
      "100\n",
      "99\n",
      "20\n"
     ]
    }
   ],
   "source": [
    "for i in odi:\n",
    "    print(i)"
   ]
  },
  {
   "cell_type": "code",
   "execution_count": 82,
   "id": "1aca7e68-c5ba-4a06-8df6-3549cf54de51",
   "metadata": {},
   "outputs": [
    {
     "data": {
      "text/plain": [
       "[[100, 99, 20], [200, 150, 90, 180], [20, 50, 100]]"
      ]
     },
     "execution_count": 82,
     "metadata": {},
     "output_type": "execute_result"
    }
   ],
   "source": [
    "scores"
   ]
  },
  {
   "cell_type": "code",
   "execution_count": 80,
   "id": "bf3f79a0-f43e-40bc-9603-2f92789655a9",
   "metadata": {},
   "outputs": [
    {
     "name": "stdout",
     "output_type": "stream",
     "text": [
      "100\n",
      "99\n",
      "20\n",
      "200\n",
      "150\n",
      "90\n",
      "180\n",
      "20\n",
      "50\n",
      "100\n"
     ]
    }
   ],
   "source": [
    "for i in scores:\n",
    "    for j in i:\n",
    "        print(j)"
   ]
  },
  {
   "cell_type": "code",
   "execution_count": null,
   "id": "2a1b4576-f56c-4441-90d4-a11e2000e437",
   "metadata": {},
   "outputs": [],
   "source": []
  },
  {
   "cell_type": "code",
   "execution_count": null,
   "id": "769ed63a-6c3f-4b37-a4f2-31a821114a77",
   "metadata": {},
   "outputs": [],
   "source": []
  },
  {
   "cell_type": "code",
   "execution_count": 83,
   "id": "a97d675f-9879-4110-80fa-ea9330fed656",
   "metadata": {},
   "outputs": [],
   "source": [
    "# Iteration using indexes"
   ]
  },
  {
   "cell_type": "code",
   "execution_count": 84,
   "id": "f7a75907-0398-47d2-96c5-2d8c1cbcde5d",
   "metadata": {},
   "outputs": [
    {
     "data": {
      "text/plain": [
       "[[100, 99, 20], [200, 150, 90, 180], [20, 50, 100]]"
      ]
     },
     "execution_count": 84,
     "metadata": {},
     "output_type": "execute_result"
    }
   ],
   "source": [
    "scores"
   ]
  },
  {
   "cell_type": "code",
   "execution_count": 85,
   "id": "09c19160-622f-43dd-91cb-7936dce43aae",
   "metadata": {},
   "outputs": [
    {
     "data": {
      "text/plain": [
       "3"
      ]
     },
     "execution_count": 85,
     "metadata": {},
     "output_type": "execute_result"
    }
   ],
   "source": [
    "len(scores)"
   ]
  },
  {
   "cell_type": "code",
   "execution_count": 87,
   "id": "0c41eb18-7a6b-44ff-b842-5c2bd5f63584",
   "metadata": {},
   "outputs": [
    {
     "name": "stdout",
     "output_type": "stream",
     "text": [
      "0\n",
      "1\n",
      "2\n"
     ]
    }
   ],
   "source": [
    "for i in range(len(scores)):\n",
    "    print(i)"
   ]
  },
  {
   "cell_type": "code",
   "execution_count": 88,
   "id": "eabc2405-6c02-4add-85b0-7e70ff32d1b3",
   "metadata": {},
   "outputs": [
    {
     "name": "stdout",
     "output_type": "stream",
     "text": [
      "[100, 99, 20]\n",
      "[200, 150, 90, 180]\n",
      "[20, 50, 100]\n"
     ]
    }
   ],
   "source": [
    "for i in range(len(scores)):\n",
    "    print(scores[i])"
   ]
  },
  {
   "cell_type": "code",
   "execution_count": 92,
   "id": "e5c87902-ea78-4073-acbd-e8a025e584af",
   "metadata": {},
   "outputs": [
    {
     "data": {
      "text/plain": [
       "[[100, 99, 20], [200, 150, 90, 180], [20, 50, 100]]"
      ]
     },
     "execution_count": 92,
     "metadata": {},
     "output_type": "execute_result"
    }
   ],
   "source": [
    "scores"
   ]
  },
  {
   "cell_type": "code",
   "execution_count": 90,
   "id": "c45678c8-b17a-475e-9993-75be09a62fd1",
   "metadata": {},
   "outputs": [
    {
     "name": "stdout",
     "output_type": "stream",
     "text": [
      "[100, 99, 20] 3\n",
      "[200, 150, 90, 180] 4\n",
      "[20, 50, 100] 3\n"
     ]
    }
   ],
   "source": [
    "for i in range(len(scores)):\n",
    "    print(scores[i], len(scores[i]))"
   ]
  },
  {
   "cell_type": "code",
   "execution_count": 93,
   "id": "9bb11011-a926-496e-bb95-9f7833a7e848",
   "metadata": {},
   "outputs": [
    {
     "data": {
      "text/plain": [
       "[100, 99, 20]"
      ]
     },
     "execution_count": 93,
     "metadata": {},
     "output_type": "execute_result"
    }
   ],
   "source": [
    "odi"
   ]
  },
  {
   "cell_type": "code",
   "execution_count": 94,
   "id": "05df20e6-446a-430a-9e3b-123dd7c4eba1",
   "metadata": {},
   "outputs": [
    {
     "name": "stdout",
     "output_type": "stream",
     "text": [
      "100\n",
      "99\n",
      "20\n"
     ]
    }
   ],
   "source": [
    "for i in range(len(odi)):\n",
    "    print(odi[i])"
   ]
  },
  {
   "cell_type": "code",
   "execution_count": 96,
   "id": "190dce41-def0-4da9-a9fe-2869d59b5b8a",
   "metadata": {},
   "outputs": [
    {
     "data": {
      "text/plain": [
       "[[100, 99, 20], [200, 150, 90, 180], [20, 50, 100]]"
      ]
     },
     "execution_count": 96,
     "metadata": {},
     "output_type": "execute_result"
    }
   ],
   "source": [
    "scores"
   ]
  },
  {
   "cell_type": "code",
   "execution_count": 95,
   "id": "5a122bc2-993e-4377-b878-e61ac97cfd7e",
   "metadata": {},
   "outputs": [
    {
     "name": "stdout",
     "output_type": "stream",
     "text": [
      "0 0\n",
      "0 1\n",
      "0 2\n",
      "1 0\n",
      "1 1\n",
      "1 2\n",
      "1 3\n",
      "2 0\n",
      "2 1\n",
      "2 2\n"
     ]
    }
   ],
   "source": [
    "for i in range(len(scores)):\n",
    "    for j in range(len(scores[i])):\n",
    "        print(i, j)"
   ]
  },
  {
   "cell_type": "code",
   "execution_count": 98,
   "id": "6972e695-54d8-4647-b669-354dd58ba952",
   "metadata": {},
   "outputs": [
    {
     "data": {
      "text/plain": [
       "[[100, 99, 20], [200, 150, 90, 180], [20, 50, 100]]"
      ]
     },
     "execution_count": 98,
     "metadata": {},
     "output_type": "execute_result"
    }
   ],
   "source": [
    "scores"
   ]
  },
  {
   "cell_type": "code",
   "execution_count": 99,
   "id": "d9cd3eea-755f-4658-bc77-3dfdc21e52cb",
   "metadata": {},
   "outputs": [
    {
     "name": "stdout",
     "output_type": "stream",
     "text": [
      "0 0 100\n",
      "0 1 99\n",
      "0 2 20\n",
      "1 0 200\n",
      "1 1 150\n",
      "1 2 90\n",
      "1 3 180\n",
      "2 0 20\n",
      "2 1 50\n",
      "2 2 100\n"
     ]
    }
   ],
   "source": [
    "for i in range(len(scores)):\n",
    "    for j in range(len(scores[i])):\n",
    "        print(i, j, scores[i][j])"
   ]
  },
  {
   "cell_type": "code",
   "execution_count": null,
   "id": "1a0979cd-3574-491b-ba8c-608fa09d1807",
   "metadata": {},
   "outputs": [],
   "source": []
  },
  {
   "cell_type": "code",
   "execution_count": null,
   "id": "6935fd58-a170-4b1f-9730-f2defb9926ae",
   "metadata": {},
   "outputs": [],
   "source": []
  },
  {
   "cell_type": "markdown",
   "id": "a7755e78-129d-444c-867c-f33d8c699d18",
   "metadata": {},
   "source": [
    "### Find Total runs scored by Sachin in his career?"
   ]
  },
  {
   "cell_type": "code",
   "execution_count": 100,
   "id": "07c3010c-f7d2-48aa-bd13-0a71ab0eb0bf",
   "metadata": {},
   "outputs": [
    {
     "data": {
      "text/plain": [
       "[[100, 99, 20], [200, 150, 90, 180], [20, 50, 100]]"
      ]
     },
     "execution_count": 100,
     "metadata": {},
     "output_type": "execute_result"
    }
   ],
   "source": [
    "scores"
   ]
  },
  {
   "cell_type": "code",
   "execution_count": 104,
   "id": "b286b986-25ec-4bb0-bbd9-f7a75e90d944",
   "metadata": {},
   "outputs": [
    {
     "name": "stdout",
     "output_type": "stream",
     "text": [
      "1009\n"
     ]
    }
   ],
   "source": [
    "total = 0\n",
    "\n",
    "for i in scores:\n",
    "    for j in i:\n",
    "        total += j\n",
    "        \n",
    "print(total)"
   ]
  },
  {
   "cell_type": "code",
   "execution_count": null,
   "id": "75cf4bc1-42cc-4fca-9fdc-ce4560a3a983",
   "metadata": {},
   "outputs": [],
   "source": []
  },
  {
   "cell_type": "code",
   "execution_count": 106,
   "id": "48b39bf8-8dca-4dee-bd45-c74d0bc97644",
   "metadata": {},
   "outputs": [
    {
     "name": "stdout",
     "output_type": "stream",
     "text": [
      "100\n",
      "99\n",
      "20\n",
      "200\n",
      "150\n",
      "90\n",
      "180\n",
      "20\n",
      "50\n",
      "100\n"
     ]
    }
   ],
   "source": [
    "for i in range(len(scores)):\n",
    "    for j in range(len(scores[i])):\n",
    "        print(scores[i][j])"
   ]
  },
  {
   "cell_type": "code",
   "execution_count": 107,
   "id": "6d53b478-44e9-434c-a2e5-adfd633084f1",
   "metadata": {},
   "outputs": [
    {
     "name": "stdout",
     "output_type": "stream",
     "text": [
      "1009\n"
     ]
    }
   ],
   "source": [
    "total = 0\n",
    "\n",
    "for i in range(len(scores)):\n",
    "    for j in range(len(scores[i])):\n",
    "        total += scores[i][j]\n",
    "        \n",
    "print(total)"
   ]
  },
  {
   "cell_type": "code",
   "execution_count": null,
   "id": "c3be777d-dbe0-4468-9977-a6cc37f45ce6",
   "metadata": {},
   "outputs": [],
   "source": []
  },
  {
   "cell_type": "code",
   "execution_count": null,
   "id": "1b89c41b-33d1-409b-979a-9955bda9f4c0",
   "metadata": {},
   "outputs": [],
   "source": []
  },
  {
   "cell_type": "markdown",
   "id": "c241008f-368c-4afa-b627-aad463ad9ee8",
   "metadata": {},
   "source": [
    "#### Print the scores of each format"
   ]
  },
  {
   "cell_type": "code",
   "execution_count": 108,
   "id": "6180ee05-50f1-41a2-895c-9914e313cc41",
   "metadata": {},
   "outputs": [
    {
     "data": {
      "text/plain": [
       "[[100, 99, 20], [200, 150, 90, 180], [20, 50, 100]]"
      ]
     },
     "execution_count": 108,
     "metadata": {},
     "output_type": "execute_result"
    }
   ],
   "source": [
    "scores"
   ]
  },
  {
   "cell_type": "code",
   "execution_count": 109,
   "id": "ed05d879-a646-4243-a717-039f1bb14752",
   "metadata": {},
   "outputs": [
    {
     "data": {
      "text/plain": [
       "219"
      ]
     },
     "execution_count": 109,
     "metadata": {},
     "output_type": "execute_result"
    }
   ],
   "source": [
    "sum(odi)"
   ]
  },
  {
   "cell_type": "code",
   "execution_count": 110,
   "id": "118da6f4-3bb1-47f7-8d36-9b82db7f1d89",
   "metadata": {},
   "outputs": [
    {
     "name": "stdout",
     "output_type": "stream",
     "text": [
      "[100, 99, 20]\n",
      "[200, 150, 90, 180]\n",
      "[20, 50, 100]\n"
     ]
    }
   ],
   "source": [
    "for i in scores:\n",
    "    print(i)"
   ]
  },
  {
   "cell_type": "code",
   "execution_count": 111,
   "id": "48edde27-49ed-4b60-8a18-c4f4c761f776",
   "metadata": {},
   "outputs": [
    {
     "name": "stdout",
     "output_type": "stream",
     "text": [
      "219\n",
      "620\n",
      "170\n"
     ]
    }
   ],
   "source": [
    "for i in scores:\n",
    "    print(sum(i))"
   ]
  },
  {
   "cell_type": "code",
   "execution_count": 112,
   "id": "86cd4f5c-f9ed-4baf-81b1-3d8aced44c75",
   "metadata": {},
   "outputs": [
    {
     "name": "stdout",
     "output_type": "stream",
     "text": [
      "1009\n"
     ]
    }
   ],
   "source": [
    "total = 0\n",
    "\n",
    "for i in scores:\n",
    "    total += sum(i)\n",
    "    \n",
    "print(total)"
   ]
  },
  {
   "cell_type": "code",
   "execution_count": null,
   "id": "f591a2f4-eb9b-4854-8750-e04069f98edf",
   "metadata": {},
   "outputs": [],
   "source": []
  },
  {
   "cell_type": "code",
   "execution_count": 113,
   "id": "5816f754-6f19-48c4-a84e-a331afd8a8f1",
   "metadata": {},
   "outputs": [],
   "source": [
    "# Get all format scores without using sum function"
   ]
  },
  {
   "cell_type": "code",
   "execution_count": 114,
   "id": "1c2824ff-013d-4a4c-8ad5-e4170e762db7",
   "metadata": {},
   "outputs": [
    {
     "data": {
      "text/plain": [
       "[[100, 99, 20], [200, 150, 90, 180], [20, 50, 100]]"
      ]
     },
     "execution_count": 114,
     "metadata": {},
     "output_type": "execute_result"
    }
   ],
   "source": [
    "scores"
   ]
  },
  {
   "cell_type": "code",
   "execution_count": 115,
   "id": "28775382-3b45-4e4e-bf9b-5438d35f3bdc",
   "metadata": {},
   "outputs": [
    {
     "name": "stdout",
     "output_type": "stream",
     "text": [
      "219\n",
      "620\n",
      "170\n"
     ]
    }
   ],
   "source": [
    "for i in scores:\n",
    "    total = 0\n",
    "    for j in i:\n",
    "        total += j\n",
    "    print(total)"
   ]
  },
  {
   "cell_type": "code",
   "execution_count": 116,
   "id": "17fb9b51-42f3-4202-85b3-ed183e4fb71e",
   "metadata": {},
   "outputs": [
    {
     "data": {
      "text/plain": [
       "[[100, 99, 20], [200, 150, 90, 180], [20, 50, 100]]"
      ]
     },
     "execution_count": 116,
     "metadata": {},
     "output_type": "execute_result"
    }
   ],
   "source": [
    "scores"
   ]
  },
  {
   "cell_type": "code",
   "execution_count": 119,
   "id": "09b2049f-d538-4989-b691-d58fa4083cfe",
   "metadata": {},
   "outputs": [],
   "source": [
    "# Following is a wrong way to calculate scores in each formats"
   ]
  },
  {
   "cell_type": "code",
   "execution_count": 120,
   "id": "75bc5aeb-135f-45d7-885c-07075186528c",
   "metadata": {},
   "outputs": [
    {
     "name": "stdout",
     "output_type": "stream",
     "text": [
      "219\n",
      "839\n",
      "1009\n"
     ]
    }
   ],
   "source": [
    "total = 0\n",
    "\n",
    "for i in scores:\n",
    "    for j in i:\n",
    "        total += j\n",
    "    print(total)"
   ]
  },
  {
   "cell_type": "code",
   "execution_count": null,
   "id": "71d3dbca-531b-4dbf-ad17-edf9e16ebf44",
   "metadata": {},
   "outputs": [],
   "source": []
  },
  {
   "cell_type": "code",
   "execution_count": null,
   "id": "95ee650b-30a9-43a4-a855-58621d838f33",
   "metadata": {},
   "outputs": [],
   "source": []
  },
  {
   "cell_type": "code",
   "execution_count": 122,
   "id": "8e15f358-6af1-48b3-a4ac-f3a19e57ba94",
   "metadata": {},
   "outputs": [
    {
     "data": {
      "text/plain": [
       "[[100, 99, 20], [200, 150, 90, 180], [20, 50, 100]]"
      ]
     },
     "execution_count": 122,
     "metadata": {},
     "output_type": "execute_result"
    }
   ],
   "source": [
    "scores"
   ]
  },
  {
   "cell_type": "code",
   "execution_count": 121,
   "id": "e5256a74-70b3-4c91-938c-8bf46e026fd8",
   "metadata": {},
   "outputs": [],
   "source": [
    "# HW: Find Min in each format.\n",
    "# HW: Find max in each format.\n",
    "# Find min in overall scores\n",
    "# Find max in overall scores"
   ]
  },
  {
   "cell_type": "code",
   "execution_count": null,
   "id": "23b55990-6085-4482-90f9-7e8661f5b710",
   "metadata": {},
   "outputs": [],
   "source": []
  },
  {
   "cell_type": "code",
   "execution_count": null,
   "id": "326a0f56-ae30-43bd-b3a6-baa1104b5b02",
   "metadata": {},
   "outputs": [],
   "source": []
  },
  {
   "cell_type": "code",
   "execution_count": 123,
   "id": "78048b27-3c1b-402f-bed1-a8c19297f535",
   "metadata": {},
   "outputs": [],
   "source": [
    "# Doubts"
   ]
  },
  {
   "cell_type": "code",
   "execution_count": 124,
   "id": "06a7bfa9-66cd-423a-bb78-740bb94a5e1e",
   "metadata": {},
   "outputs": [
    {
     "name": "stdin",
     "output_type": "stream",
     "text": [
      " 1 2 3 4 5\n"
     ]
    }
   ],
   "source": [
    "n = input()"
   ]
  },
  {
   "cell_type": "code",
   "execution_count": 126,
   "id": "1db5d3c9-83c8-4daa-ba97-f708f48b1455",
   "metadata": {},
   "outputs": [
    {
     "data": {
      "text/plain": [
       "'1 2 3 4 5'"
      ]
     },
     "execution_count": 126,
     "metadata": {},
     "output_type": "execute_result"
    }
   ],
   "source": [
    "n"
   ]
  },
  {
   "cell_type": "code",
   "execution_count": 127,
   "id": "ea0740dd-9237-4203-a0e5-556706f4511f",
   "metadata": {},
   "outputs": [
    {
     "data": {
      "text/plain": [
       "['1', '2', '3', '4', '5']"
      ]
     },
     "execution_count": 127,
     "metadata": {},
     "output_type": "execute_result"
    }
   ],
   "source": [
    "n.split()"
   ]
  },
  {
   "cell_type": "code",
   "execution_count": 128,
   "id": "6892c7be-6448-4c63-8882-9123762dbd6c",
   "metadata": {},
   "outputs": [
    {
     "data": {
      "text/plain": [
       "[1, 2, 3, 4, 5]"
      ]
     },
     "execution_count": 128,
     "metadata": {},
     "output_type": "execute_result"
    }
   ],
   "source": [
    "list(map(int, n.split()))"
   ]
  },
  {
   "cell_type": "code",
   "execution_count": 132,
   "id": "476d8a44-284d-4897-8475-d3e2fc3ad545",
   "metadata": {},
   "outputs": [
    {
     "name": "stdin",
     "output_type": "stream",
     "text": [
      " 1 2 3 4 5\n"
     ]
    }
   ],
   "source": [
    "l = list(map(int, input().split()))"
   ]
  },
  {
   "cell_type": "code",
   "execution_count": 133,
   "id": "7efdb0e6-f39d-4074-af68-c1a780ee6f0b",
   "metadata": {},
   "outputs": [
    {
     "data": {
      "text/plain": [
       "[1, 2, 3, 4, 5]"
      ]
     },
     "execution_count": 133,
     "metadata": {},
     "output_type": "execute_result"
    }
   ],
   "source": [
    "l"
   ]
  },
  {
   "cell_type": "code",
   "execution_count": 134,
   "id": "561564de-2ffb-40f4-8722-03d2bd1d5247",
   "metadata": {},
   "outputs": [
    {
     "name": "stdout",
     "output_type": "stream",
     "text": [
      "[0, 2, 4, 6, 8]\n"
     ]
    }
   ],
   "source": [
    "runs = [0,1,2,3,4,5,6,7,8]\n",
    "print(runs[:9:2])"
   ]
  },
  {
   "cell_type": "code",
   "execution_count": null,
   "id": "3ac15e6e-77a8-4181-a4fd-d4d6eb51785d",
   "metadata": {},
   "outputs": [],
   "source": []
  },
  {
   "cell_type": "code",
   "execution_count": 138,
   "id": "3dc52669-81a5-498d-9133-48eeb6561d95",
   "metadata": {},
   "outputs": [
    {
     "name": "stdin",
     "output_type": "stream",
     "text": [
      " 5\n"
     ]
    }
   ],
   "source": [
    "n = int(input())"
   ]
  },
  {
   "cell_type": "code",
   "execution_count": 139,
   "id": "818413e4-ee76-4f6a-8027-3535c383cb7f",
   "metadata": {},
   "outputs": [
    {
     "name": "stdin",
     "output_type": "stream",
     "text": [
      " 1\n",
      " 2\n",
      " 3\n",
      " 4\n",
      " 5\n"
     ]
    },
    {
     "name": "stdout",
     "output_type": "stream",
     "text": [
      "[1, 2, 3, 4, 5]\n"
     ]
    }
   ],
   "source": [
    "l = []\n",
    "\n",
    "for i in range(5):\n",
    "    n = int(input())\n",
    "    l.append(n)\n",
    "print(l)"
   ]
  },
  {
   "cell_type": "code",
   "execution_count": null,
   "id": "07399c92-5116-4273-86c0-27d52eae6763",
   "metadata": {},
   "outputs": [],
   "source": []
  },
  {
   "cell_type": "code",
   "execution_count": null,
   "id": "c679f607-32e7-4dff-b6bf-a5e2dac93b12",
   "metadata": {},
   "outputs": [],
   "source": []
  },
  {
   "cell_type": "code",
   "execution_count": null,
   "id": "f652da86-6a61-46c2-8321-d9ca59650407",
   "metadata": {},
   "outputs": [],
   "source": []
  }
 ],
 "metadata": {
  "kernelspec": {
   "display_name": "Python 3 (ipykernel)",
   "language": "python",
   "name": "python3"
  },
  "language_info": {
   "codemirror_mode": {
    "name": "ipython",
    "version": 3
   },
   "file_extension": ".py",
   "mimetype": "text/x-python",
   "name": "python",
   "nbconvert_exporter": "python",
   "pygments_lexer": "ipython3",
   "version": "3.9.7"
  }
 },
 "nbformat": 4,
 "nbformat_minor": 5
}
