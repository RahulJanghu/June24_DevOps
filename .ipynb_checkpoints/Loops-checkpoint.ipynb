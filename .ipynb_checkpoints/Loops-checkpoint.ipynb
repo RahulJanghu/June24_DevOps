{
 "cells": [
  {
   "cell_type": "markdown",
   "id": "9980b111-9f31-4468-bb05-c04ab44afe6b",
   "metadata": {},
   "source": [
    "## What are loops?\n",
    "- A loop is a control structure that is used to perform a set of instructions for a specific number of times."
   ]
  },
  {
   "cell_type": "markdown",
   "id": "2e207dc9-2c47-48ed-a090-1671bf3ee2e8",
   "metadata": {},
   "source": [
    "##### Loops are a programming element that repeat a portion of code a set number of times until the desired process is complete. Repetitive tasks are common in programming, and loops are essential to save time and minimize errors."
   ]
  },
  {
   "cell_type": "code",
   "execution_count": 2,
   "id": "4aa16837-978e-41df-89b8-2595532f216a",
   "metadata": {},
   "outputs": [
    {
     "name": "stdout",
     "output_type": "stream",
     "text": [
      "Helicopter shoot\n",
      "Helicopter shoot\n",
      "Helicopter shoot\n",
      "Helicopter shoot\n",
      "Helicopter shoot\n"
     ]
    }
   ],
   "source": [
    "print(\"Helicopter shoot\")\n",
    "print(\"Helicopter shoot\")\n",
    "print(\"Helicopter shoot\")\n",
    "print(\"Helicopter shoot\")\n",
    "print(\"Helicopter shoot\")"
   ]
  },
  {
   "cell_type": "code",
   "execution_count": null,
   "id": "cb52c27a-2701-45d8-af55-e061e98fd223",
   "metadata": {},
   "outputs": [],
   "source": []
  },
  {
   "cell_type": "code",
   "execution_count": null,
   "id": "1ff18d0b-e600-443c-944c-aeb77c7bf384",
   "metadata": {},
   "outputs": [],
   "source": []
  },
  {
   "cell_type": "markdown",
   "id": "2379032f-4a44-45ea-b69a-78148c29de17",
   "metadata": {},
   "source": [
    "## While loop\n",
    "- The while loop keeps iterating over a certain set of operations as long as a certain condition holds True.\n"
   ]
  },
  {
   "cell_type": "code",
   "execution_count": 3,
   "id": "c287bf6d-1eb5-463f-86a5-c4631579683d",
   "metadata": {},
   "outputs": [],
   "source": [
    "## Shopping list example"
   ]
  },
  {
   "cell_type": "markdown",
   "id": "fab564fe-8bae-46c5-b860-e6cda5979841",
   "metadata": {},
   "source": [
    "![image](../photos/whileloop.jpeg)"
   ]
  },
  {
   "cell_type": "code",
   "execution_count": null,
   "id": "fdf66f74-07b8-4770-8d5e-f6597774d283",
   "metadata": {},
   "outputs": [],
   "source": []
  },
  {
   "cell_type": "code",
   "execution_count": 4,
   "id": "80dca41e-761a-4183-9450-aba341276d9f",
   "metadata": {},
   "outputs": [
    {
     "name": "stdout",
     "output_type": "stream",
     "text": [
      "Helicopter shoot\n",
      "Helicopter shoot\n",
      "Helicopter shoot\n",
      "Helicopter shoot\n",
      "Helicopter shoot\n",
      "Lesson taught\n"
     ]
    }
   ],
   "source": [
    "# 1. Initialisation\n",
    "start = 0\n",
    "\n",
    "# 2. Define while condition\n",
    "while start < 5:\n",
    "    print(\"Helicopter shoot\")\n",
    "    # Update\n",
    "    start += 1\n",
    "    \n",
    "print(\"Lesson taught\")"
   ]
  },
  {
   "cell_type": "code",
   "execution_count": null,
   "id": "179df7e7-a890-47bf-a9f7-65cfb059e423",
   "metadata": {},
   "outputs": [],
   "source": []
  },
  {
   "cell_type": "code",
   "execution_count": 5,
   "id": "4cba1c52-7f1f-4366-a8a4-8364bf21de2a",
   "metadata": {},
   "outputs": [
    {
     "name": "stdout",
     "output_type": "stream",
     "text": [
      "Helicopter shoot\n",
      "Helicopter shoot\n",
      "Helicopter shoot\n",
      "Helicopter shoot\n",
      "Helicopter shoot\n",
      "Helicopter shoot\n",
      "Lesson taught\n"
     ]
    }
   ],
   "source": [
    "# 1. Initialisation\n",
    "start = 0\n",
    "\n",
    "# 2. Define while condition\n",
    "while start <= 5:\n",
    "    print(\"Helicopter shoot\")\n",
    "    # Update\n",
    "    start += 1\n",
    "    \n",
    "print(\"Lesson taught\")"
   ]
  },
  {
   "cell_type": "code",
   "execution_count": null,
   "id": "9f9a0f4e-29fb-42c7-adbe-2024cb22f099",
   "metadata": {},
   "outputs": [],
   "source": []
  },
  {
   "cell_type": "code",
   "execution_count": null,
   "id": "b799348b-3147-4adf-a0be-7fea3de7ddd6",
   "metadata": {},
   "outputs": [],
   "source": []
  },
  {
   "cell_type": "code",
   "execution_count": null,
   "id": "bf659b52-b906-41ec-be0e-72460b9ec29c",
   "metadata": {},
   "outputs": [],
   "source": []
  },
  {
   "cell_type": "markdown",
   "id": "e4d9c6a0-ed69-45a8-bcd8-b1f45502cd1f",
   "metadata": {},
   "source": [
    "## Print numbers from 1 to 10"
   ]
  },
  {
   "cell_type": "code",
   "execution_count": 6,
   "id": "7da702a9-c85b-4057-896c-527b1d199f4c",
   "metadata": {},
   "outputs": [
    {
     "name": "stdout",
     "output_type": "stream",
     "text": [
      "1\n",
      "2\n",
      "3\n",
      "4\n",
      "5\n",
      "6\n",
      "7\n",
      "8\n",
      "9\n"
     ]
    }
   ],
   "source": [
    "start = 1\n",
    "\n",
    "while start < 10:\n",
    "    print(start)\n",
    "    start += 1"
   ]
  },
  {
   "cell_type": "code",
   "execution_count": 7,
   "id": "32fe33fd-23e8-4b72-8aa0-cfb81843bf8d",
   "metadata": {},
   "outputs": [
    {
     "name": "stdout",
     "output_type": "stream",
     "text": [
      "1\n",
      "2\n",
      "3\n",
      "4\n",
      "5\n",
      "6\n",
      "7\n",
      "8\n",
      "9\n",
      "10\n"
     ]
    }
   ],
   "source": [
    "start = 1\n",
    "\n",
    "while start <= 10:\n",
    "    print(start)\n",
    "    start += 1"
   ]
  },
  {
   "cell_type": "code",
   "execution_count": 8,
   "id": "d5bfa47f-76b4-4a4e-b180-4c92524d8084",
   "metadata": {},
   "outputs": [
    {
     "name": "stdout",
     "output_type": "stream",
     "text": [
      "1\n",
      "2\n",
      "3\n",
      "4\n",
      "5\n",
      "6\n",
      "7\n",
      "8\n",
      "9\n",
      "10\n"
     ]
    }
   ],
   "source": [
    "start = 1\n",
    "\n",
    "while start < 11:\n",
    "    print(start)\n",
    "    start += 1"
   ]
  },
  {
   "cell_type": "code",
   "execution_count": null,
   "id": "e3d9f0ff-c17b-47ba-a25c-b4e74772df6e",
   "metadata": {},
   "outputs": [],
   "source": []
  },
  {
   "cell_type": "code",
   "execution_count": null,
   "id": "25c1e590-4c48-4948-8004-cdb66625cc81",
   "metadata": {},
   "outputs": [],
   "source": []
  },
  {
   "cell_type": "markdown",
   "id": "bccf4596-7608-4920-aa67-7361b6230d7d",
   "metadata": {},
   "source": [
    "## Print numbers from 10 to 1"
   ]
  },
  {
   "cell_type": "code",
   "execution_count": 9,
   "id": "7cdc97c4-78ba-4615-848a-7430b021590e",
   "metadata": {},
   "outputs": [
    {
     "name": "stdout",
     "output_type": "stream",
     "text": [
      "10\n",
      "9\n",
      "8\n",
      "7\n",
      "6\n",
      "5\n",
      "4\n",
      "3\n",
      "2\n",
      "1\n"
     ]
    }
   ],
   "source": [
    "start = 10\n",
    "\n",
    "while start >= 1:\n",
    "    print(start)\n",
    "    start -= 1"
   ]
  },
  {
   "cell_type": "code",
   "execution_count": null,
   "id": "aa22f4a0-cf93-4d78-9976-bc514eaf1fe8",
   "metadata": {},
   "outputs": [],
   "source": []
  },
  {
   "cell_type": "code",
   "execution_count": null,
   "id": "2da903cb-961a-4fd3-b331-df2bb0c82523",
   "metadata": {},
   "outputs": [],
   "source": []
  },
  {
   "cell_type": "markdown",
   "id": "551bb64e-fe37-4ad7-9c55-8e99c699ec2d",
   "metadata": {},
   "source": [
    "## Print all even numbers between 2 to 10"
   ]
  },
  {
   "cell_type": "code",
   "execution_count": 10,
   "id": "3608b021-7eaa-4018-812a-a9dc32cf99b9",
   "metadata": {},
   "outputs": [],
   "source": [
    "# check for a number if it is even"
   ]
  },
  {
   "cell_type": "code",
   "execution_count": 12,
   "id": "b0424b3d-a41f-4b51-bbb2-148d675a6326",
   "metadata": {},
   "outputs": [
    {
     "name": "stdout",
     "output_type": "stream",
     "text": [
      "2\n",
      "4\n",
      "6\n",
      "8\n",
      "10\n"
     ]
    }
   ],
   "source": [
    "start = 2\n",
    "\n",
    "while start <= 10:\n",
    "    # check if that number is even\n",
    "    if start % 2 == 0:\n",
    "        print(start)\n",
    "    start += 1"
   ]
  },
  {
   "cell_type": "code",
   "execution_count": 13,
   "id": "ae415e7d-563e-4347-b6d7-e09b4dfd19a9",
   "metadata": {},
   "outputs": [
    {
     "name": "stdout",
     "output_type": "stream",
     "text": [
      "2\n",
      "4\n",
      "6\n",
      "8\n",
      "10\n"
     ]
    }
   ],
   "source": [
    "start = 2\n",
    "\n",
    "while start <= 10:\n",
    "    print(start)\n",
    "    start += 2"
   ]
  },
  {
   "cell_type": "code",
   "execution_count": null,
   "id": "bf56d588-e253-434b-894b-79d662e0804e",
   "metadata": {},
   "outputs": [],
   "source": []
  },
  {
   "cell_type": "code",
   "execution_count": null,
   "id": "55ea807d-7f59-4eaf-8547-e08f7ac153aa",
   "metadata": {},
   "outputs": [],
   "source": []
  },
  {
   "cell_type": "markdown",
   "id": "96aeac41-59c6-4298-9044-25ee489c2f13",
   "metadata": {},
   "source": [
    "## Print all Odd number from 1 to 10"
   ]
  },
  {
   "cell_type": "code",
   "execution_count": 14,
   "id": "3a95fdd2-3956-41aa-8db9-bc8bb648d437",
   "metadata": {},
   "outputs": [],
   "source": [
    "# odd"
   ]
  },
  {
   "cell_type": "code",
   "execution_count": 15,
   "id": "97aa0943-ccce-4a4a-8441-c44a4584b781",
   "metadata": {},
   "outputs": [],
   "source": [
    "# Using if condition\n",
    "\n",
    "# and using jump of 2"
   ]
  },
  {
   "cell_type": "code",
   "execution_count": null,
   "id": "9c13ae7f-d248-4fce-a67b-5217cbfd5c7b",
   "metadata": {},
   "outputs": [],
   "source": []
  },
  {
   "cell_type": "code",
   "execution_count": null,
   "id": "3803f424-f06a-4567-a252-98d55d2829ea",
   "metadata": {},
   "outputs": [],
   "source": []
  },
  {
   "cell_type": "markdown",
   "id": "b37a1593-cb22-41f4-957d-86d2fcfe24e2",
   "metadata": {},
   "source": [
    "### Print all numbers from 1 to 10 in a single line"
   ]
  },
  {
   "cell_type": "code",
   "execution_count": 16,
   "id": "18fadadd-8391-4272-b80a-cbdfcda39c8f",
   "metadata": {},
   "outputs": [],
   "source": [
    "# Go for print statement"
   ]
  },
  {
   "cell_type": "code",
   "execution_count": 17,
   "id": "531aa1d8-2f6f-4214-8f86-92c714eaf432",
   "metadata": {},
   "outputs": [],
   "source": [
    "# print?"
   ]
  },
  {
   "cell_type": "code",
   "execution_count": 18,
   "id": "2ddb7df8-91bd-4461-b0bc-52a4f7f08e88",
   "metadata": {},
   "outputs": [
    {
     "name": "stdout",
     "output_type": "stream",
     "text": [
      "1\n",
      "2\n",
      "3\n",
      "4\n",
      "5\n",
      "6\n",
      "7\n",
      "8\n",
      "9\n",
      "10\n"
     ]
    }
   ],
   "source": [
    "start = 1\n",
    "\n",
    "while start <= 10:\n",
    "    print(start)\n",
    "    start += 1"
   ]
  },
  {
   "cell_type": "code",
   "execution_count": null,
   "id": "20ad4046-f7d0-46dc-aa1f-4853e5cf4eac",
   "metadata": {},
   "outputs": [],
   "source": []
  },
  {
   "cell_type": "code",
   "execution_count": 19,
   "id": "ea481c38-77e9-4c1a-bb5c-8384eec04ade",
   "metadata": {},
   "outputs": [
    {
     "data": {
      "text/plain": [
       "\u001b[0;31mDocstring:\u001b[0m\n",
       "print(value, ..., sep=' ', end='\\n', file=sys.stdout, flush=False)\n",
       "\n",
       "Prints the values to a stream, or to sys.stdout by default.\n",
       "Optional keyword arguments:\n",
       "file:  a file-like object (stream); defaults to the current sys.stdout.\n",
       "sep:   string inserted between values, default a space.\n",
       "end:   string appended after the last value, default a newline.\n",
       "flush: whether to forcibly flush the stream.\n",
       "\u001b[0;31mType:\u001b[0m      builtin_function_or_method\n"
      ]
     },
     "metadata": {},
     "output_type": "display_data"
    }
   ],
   "source": [
    "print?"
   ]
  },
  {
   "cell_type": "code",
   "execution_count": null,
   "id": "066a628d-3dbd-48c7-90b7-3731cf08da75",
   "metadata": {},
   "outputs": [],
   "source": []
  },
  {
   "cell_type": "code",
   "execution_count": 21,
   "id": "4fb2982a-aebc-45e2-8e8d-7dd0b0e67a36",
   "metadata": {},
   "outputs": [],
   "source": [
    "# A sep works while printing values of a single print function"
   ]
  },
  {
   "cell_type": "code",
   "execution_count": 22,
   "id": "784cd22a-a787-4cfc-be34-c2d4c23d6b6f",
   "metadata": {},
   "outputs": [
    {
     "name": "stdout",
     "output_type": "stream",
     "text": [
      "1 2 3 4 5 6\n"
     ]
    }
   ],
   "source": [
    "print(1,2,3,4,5,6)"
   ]
  },
  {
   "cell_type": "code",
   "execution_count": 24,
   "id": "3a6cfdb5-80fe-40cf-b6fe-01753d0c8811",
   "metadata": {},
   "outputs": [
    {
     "name": "stdout",
     "output_type": "stream",
     "text": [
      "Ahish Shiva Rahul\n"
     ]
    }
   ],
   "source": [
    "print(\"Ahish\", \"Shiva\", \"Rahul\")"
   ]
  },
  {
   "cell_type": "code",
   "execution_count": 25,
   "id": "e16e6bb6-15ff-4461-a132-c637cef6caac",
   "metadata": {},
   "outputs": [
    {
     "name": "stdout",
     "output_type": "stream",
     "text": [
      "12343\n"
     ]
    }
   ],
   "source": [
    "print(12343)"
   ]
  },
  {
   "cell_type": "code",
   "execution_count": 27,
   "id": "2474307e-d53d-4e79-9284-80e7c9026b76",
   "metadata": {},
   "outputs": [
    {
     "name": "stdout",
     "output_type": "stream",
     "text": [
      "1 2 3 4\n",
      "rahul 4\n"
     ]
    }
   ],
   "source": [
    "print(1, 2, 3, 4)\n",
    "print(\"rahul\", 4)"
   ]
  },
  {
   "cell_type": "code",
   "execution_count": 30,
   "id": "262e5570-3017-409a-94b6-3c8869e75ff1",
   "metadata": {},
   "outputs": [
    {
     "name": "stdout",
     "output_type": "stream",
     "text": [
      "1 --> 2 --> 3 --> 4 5 6\n"
     ]
    }
   ],
   "source": [
    "print(1, 2, 3, 4, sep=\" --> \", end=\" \")\n",
    "print(5, 6)"
   ]
  },
  {
   "cell_type": "code",
   "execution_count": null,
   "id": "c65e232d-922a-48d8-9072-8d03a9891502",
   "metadata": {},
   "outputs": [],
   "source": []
  },
  {
   "cell_type": "code",
   "execution_count": 32,
   "id": "1eb651db-9327-4b22-a9c4-fbf28c0144a5",
   "metadata": {},
   "outputs": [
    {
     "name": "stdout",
     "output_type": "stream",
     "text": [
      "1 2 3 4 5 6 7 8 9 10 "
     ]
    }
   ],
   "source": [
    "start = 1\n",
    "\n",
    "while start <= 10:\n",
    "    print(start, end=\" \")\n",
    "    start += 1"
   ]
  },
  {
   "cell_type": "code",
   "execution_count": null,
   "id": "b0a2a37f-49a3-49e1-ad9a-240597e36d59",
   "metadata": {},
   "outputs": [],
   "source": []
  },
  {
   "cell_type": "code",
   "execution_count": 36,
   "id": "d6841465-e726-49c7-b0c6-66d65ad70d79",
   "metadata": {},
   "outputs": [
    {
     "name": "stdout",
     "output_type": "stream",
     "text": [
      "1, 2, 3, 4, 5, 6, 7, 8, 9, 10\n"
     ]
    }
   ],
   "source": [
    "start = 1\n",
    "\n",
    "while start <= 10:\n",
    "    if start == 10:\n",
    "        print(start)\n",
    "    else:\n",
    "        print(start, end=\", \")\n",
    "    start += 1"
   ]
  },
  {
   "cell_type": "code",
   "execution_count": null,
   "id": "9cee1ac5-d6c7-428e-9c6f-850e176d03c8",
   "metadata": {},
   "outputs": [],
   "source": []
  },
  {
   "cell_type": "code",
   "execution_count": 39,
   "id": "5b41fdea-8c55-444e-a17d-6ac024008904",
   "metadata": {},
   "outputs": [
    {
     "name": "stdout",
     "output_type": "stream",
     "text": [
      "\n",
      "\n",
      "\n"
     ]
    }
   ],
   "source": [
    "# print() --> blank new line\n",
    "print()\n",
    "print()\n",
    "print()"
   ]
  },
  {
   "cell_type": "code",
   "execution_count": null,
   "id": "943f53b3-ffbc-4de6-aaf1-ce7b0f7b66f9",
   "metadata": {},
   "outputs": [],
   "source": []
  },
  {
   "cell_type": "code",
   "execution_count": null,
   "id": "f2e71a8f-11b2-4d26-b034-fca7670f82df",
   "metadata": {},
   "outputs": [],
   "source": []
  },
  {
   "cell_type": "markdown",
   "id": "09a3652d-4111-49b9-a5c5-bfb1f18bd00c",
   "metadata": {},
   "source": [
    "####  Take T number of inputs and print their tables"
   ]
  },
  {
   "cell_type": "code",
   "execution_count": 40,
   "id": "48b527e2-00cb-4c14-a2ea-2dc35f79402f",
   "metadata": {},
   "outputs": [],
   "source": [
    "# Take n as input and print the table of n"
   ]
  },
  {
   "cell_type": "code",
   "execution_count": 41,
   "id": "05fb54bf-7153-466a-a09d-e593046bc669",
   "metadata": {},
   "outputs": [
    {
     "name": "stdout",
     "output_type": "stream",
     "text": [
      "4\n",
      "8\n",
      "12\n",
      "16\n",
      "20\n",
      "24\n",
      "28\n",
      "32\n",
      "36\n",
      "40\n"
     ]
    }
   ],
   "source": [
    "start = 4\n",
    "\n",
    "while start <= 40:\n",
    "    print(start)\n",
    "    start += 4"
   ]
  },
  {
   "cell_type": "code",
   "execution_count": 43,
   "id": "eae4095e-7dee-4a98-826a-f9add1039855",
   "metadata": {},
   "outputs": [
    {
     "name": "stdin",
     "output_type": "stream",
     "text": [
      " 5\n"
     ]
    },
    {
     "name": "stdout",
     "output_type": "stream",
     "text": [
      "5\n",
      "10\n",
      "15\n",
      "20\n",
      "25\n",
      "30\n",
      "35\n",
      "40\n",
      "45\n",
      "50\n"
     ]
    }
   ],
   "source": [
    "n = int(input())\n",
    "start = n\n",
    "\n",
    "while start <= n * 10:\n",
    "    print(start)\n",
    "    start += n"
   ]
  },
  {
   "cell_type": "code",
   "execution_count": null,
   "id": "eafc10c9-f006-46ed-bc75-48e0c43a01ba",
   "metadata": {},
   "outputs": [],
   "source": []
  },
  {
   "cell_type": "code",
   "execution_count": null,
   "id": "b6e356f7-477a-4a37-8741-0bee263f0438",
   "metadata": {},
   "outputs": [],
   "source": []
  },
  {
   "cell_type": "code",
   "execution_count": 44,
   "id": "b4a5f2b1-cb7e-4393-9724-75efdce9b371",
   "metadata": {},
   "outputs": [],
   "source": [
    "# Take T number of inputs"
   ]
  },
  {
   "cell_type": "code",
   "execution_count": 45,
   "id": "c1ab2d57-6ea7-47f2-a58e-f1783aebf4a8",
   "metadata": {},
   "outputs": [
    {
     "name": "stdin",
     "output_type": "stream",
     "text": [
      " 3\n",
      " 4\n",
      " 5\n"
     ]
    }
   ],
   "source": [
    "T = 3\n",
    "\n",
    "while T > 0:\n",
    "    n = int(input())\n",
    "    T -= 1"
   ]
  },
  {
   "cell_type": "code",
   "execution_count": 46,
   "id": "4e2e6bff-5b29-4fb9-923d-a5a008682123",
   "metadata": {},
   "outputs": [
    {
     "name": "stdin",
     "output_type": "stream",
     "text": [
      " 3\n",
      " 56\n",
      " 34\n",
      " 32\n"
     ]
    }
   ],
   "source": [
    "T = int(input())\n",
    "\n",
    "while T > 0:\n",
    "    n = int(input())\n",
    "    T -= 1"
   ]
  },
  {
   "cell_type": "code",
   "execution_count": null,
   "id": "b1977646-a158-4785-8da4-5967c32f7aa8",
   "metadata": {},
   "outputs": [],
   "source": []
  },
  {
   "cell_type": "code",
   "execution_count": 47,
   "id": "97a4782c-c9d6-4574-94e7-ec1ca83a4fc8",
   "metadata": {},
   "outputs": [
    {
     "name": "stdin",
     "output_type": "stream",
     "text": [
      " 3\n"
     ]
    },
    {
     "name": "stdout",
     "output_type": "stream",
     "text": [
      "3\n",
      "2\n",
      "1\n"
     ]
    }
   ],
   "source": [
    "T = int(input())\n",
    "\n",
    "while T > 0:\n",
    "    print(T)\n",
    "    T -= 1"
   ]
  },
  {
   "cell_type": "code",
   "execution_count": 50,
   "id": "625a8190-531a-4c91-8bca-6fbc6f97c383",
   "metadata": {},
   "outputs": [
    {
     "name": "stdin",
     "output_type": "stream",
     "text": [
      " 3\n",
      " 1\n",
      " 2\n",
      " 3\n"
     ]
    }
   ],
   "source": [
    "T = int(input())\n",
    "start = 0\n",
    "\n",
    "while start < T:\n",
    "    n = int(input())\n",
    "    start += 1"
   ]
  },
  {
   "cell_type": "code",
   "execution_count": null,
   "id": "a7454035-f9d6-4985-bb91-84eade822f1a",
   "metadata": {},
   "outputs": [],
   "source": []
  },
  {
   "cell_type": "code",
   "execution_count": null,
   "id": "c2587298-fd2b-4f59-beea-a63fa58c875e",
   "metadata": {},
   "outputs": [],
   "source": []
  },
  {
   "cell_type": "code",
   "execution_count": null,
   "id": "1e406859-ebaf-473e-99f5-b58d1be224f7",
   "metadata": {},
   "outputs": [],
   "source": []
  },
  {
   "cell_type": "code",
   "execution_count": 48,
   "id": "770b9de0-3ec7-4ea9-bfd3-f40d8d4c1ce2",
   "metadata": {},
   "outputs": [],
   "source": [
    "# Let's combine this code:"
   ]
  },
  {
   "cell_type": "code",
   "execution_count": 49,
   "id": "abf7972b-02ae-45b6-930b-44ee55ac1e41",
   "metadata": {},
   "outputs": [
    {
     "name": "stdin",
     "output_type": "stream",
     "text": [
      " 3\n",
      " 12\n"
     ]
    },
    {
     "name": "stdout",
     "output_type": "stream",
     "text": [
      "12\n",
      "24\n",
      "36\n",
      "48\n",
      "60\n",
      "72\n",
      "84\n",
      "96\n",
      "108\n",
      "120\n"
     ]
    },
    {
     "name": "stdin",
     "output_type": "stream",
     "text": [
      " 19\n"
     ]
    },
    {
     "name": "stdout",
     "output_type": "stream",
     "text": [
      "19\n",
      "38\n",
      "57\n",
      "76\n",
      "95\n",
      "114\n",
      "133\n",
      "152\n",
      "171\n",
      "190\n"
     ]
    },
    {
     "name": "stdin",
     "output_type": "stream",
     "text": [
      " 21\n"
     ]
    },
    {
     "name": "stdout",
     "output_type": "stream",
     "text": [
      "21\n",
      "42\n",
      "63\n",
      "84\n",
      "105\n",
      "126\n",
      "147\n",
      "168\n",
      "189\n",
      "210\n"
     ]
    }
   ],
   "source": [
    "T = int(input())\n",
    "\n",
    "while T > 0:\n",
    "    n = int(input())\n",
    "    T -= 1\n",
    "    \n",
    "    \n",
    "    start = n\n",
    "    while start <= n * 10:\n",
    "        print(start)\n",
    "        start += n"
   ]
  },
  {
   "cell_type": "code",
   "execution_count": null,
   "id": "55381492-7dce-48f1-8abb-f6088843c4a4",
   "metadata": {},
   "outputs": [],
   "source": []
  },
  {
   "cell_type": "code",
   "execution_count": null,
   "id": "c0cc6099-14c7-4587-beaf-b23c9fc18e2f",
   "metadata": {},
   "outputs": [],
   "source": []
  },
  {
   "cell_type": "markdown",
   "id": "56264271-0a5f-4a73-abd4-d275ee2a39e6",
   "metadata": {},
   "source": [
    "### For loops"
   ]
  },
  {
   "cell_type": "code",
   "execution_count": 52,
   "id": "49a069e1-e947-477a-b489-9e73f80b67c5",
   "metadata": {},
   "outputs": [],
   "source": [
    "# range"
   ]
  },
  {
   "cell_type": "code",
   "execution_count": 53,
   "id": "10dae4b1-360f-4c08-9c52-43b679654443",
   "metadata": {},
   "outputs": [
    {
     "data": {
      "text/plain": [
       "[0, 1, 2, 3, 4]"
      ]
     },
     "execution_count": 53,
     "metadata": {},
     "output_type": "execute_result"
    }
   ],
   "source": [
    "list(range(5))"
   ]
  },
  {
   "cell_type": "code",
   "execution_count": 54,
   "id": "12635a3a-459b-4b6b-ab72-9f0c1d8a8df1",
   "metadata": {},
   "outputs": [
    {
     "data": {
      "text/plain": [
       "[2, 3, 4, 5]"
      ]
     },
     "execution_count": 54,
     "metadata": {},
     "output_type": "execute_result"
    }
   ],
   "source": [
    "list(range(2, 6))"
   ]
  },
  {
   "cell_type": "code",
   "execution_count": 55,
   "id": "dd04d1ca-0f71-4106-a104-96120ed7ee77",
   "metadata": {},
   "outputs": [
    {
     "data": {
      "text/plain": [
       "[2, 5]"
      ]
     },
     "execution_count": 55,
     "metadata": {},
     "output_type": "execute_result"
    }
   ],
   "source": [
    "list(range(2, 6, 3))"
   ]
  },
  {
   "cell_type": "code",
   "execution_count": 56,
   "id": "019de57a-af7b-4a99-99f6-99ec54f1ada6",
   "metadata": {},
   "outputs": [
    {
     "data": {
      "text/plain": [
       "[]"
      ]
     },
     "execution_count": 56,
     "metadata": {},
     "output_type": "execute_result"
    }
   ],
   "source": [
    "list(range(10, 2))"
   ]
  },
  {
   "cell_type": "code",
   "execution_count": 57,
   "id": "6a217356-794a-4f0e-9e63-4e805b284327",
   "metadata": {},
   "outputs": [
    {
     "data": {
      "text/plain": [
       "[6, 5, 4, 3]"
      ]
     },
     "execution_count": 57,
     "metadata": {},
     "output_type": "execute_result"
    }
   ],
   "source": [
    "list(range(6, 2, -1))"
   ]
  },
  {
   "cell_type": "code",
   "execution_count": null,
   "id": "3c286225-92b5-4c77-8a29-b51d46b693d0",
   "metadata": {},
   "outputs": [],
   "source": []
  },
  {
   "cell_type": "code",
   "execution_count": 59,
   "id": "1477d683-030d-4f4f-bbbf-532ba7e9e02a",
   "metadata": {},
   "outputs": [
    {
     "data": {
      "text/plain": [
       "[]"
      ]
     },
     "execution_count": 59,
     "metadata": {},
     "output_type": "execute_result"
    }
   ],
   "source": [
    "list(range(10, 2))"
   ]
  },
  {
   "cell_type": "code",
   "execution_count": null,
   "id": "ef4a4cfb-2c80-4413-a06a-0562f462ebbd",
   "metadata": {},
   "outputs": [],
   "source": []
  },
  {
   "cell_type": "markdown",
   "id": "7cda8216-841c-4aec-8e82-ca4ba983537b",
   "metadata": {},
   "source": [
    "### Print numbers between 1 to 10"
   ]
  },
  {
   "cell_type": "code",
   "execution_count": 61,
   "id": "323e16e1-0485-4873-9ba9-d161ac62e059",
   "metadata": {},
   "outputs": [
    {
     "name": "stdout",
     "output_type": "stream",
     "text": [
      "1\n",
      "2\n",
      "3\n",
      "4\n",
      "5\n",
      "6\n",
      "7\n",
      "8\n",
      "9\n",
      "10\n"
     ]
    }
   ],
   "source": [
    "for i in range(1, 11):\n",
    "    print(i)"
   ]
  },
  {
   "cell_type": "code",
   "execution_count": null,
   "id": "69549924-3ae4-4c75-8a9e-b54202a1e5de",
   "metadata": {},
   "outputs": [],
   "source": []
  },
  {
   "cell_type": "code",
   "execution_count": null,
   "id": "a10a8572-fc9a-4a3f-b314-71cfd9451e97",
   "metadata": {},
   "outputs": [],
   "source": []
  },
  {
   "cell_type": "code",
   "execution_count": null,
   "id": "c68a8157-87c5-481f-bd6a-c16d5f0a8a10",
   "metadata": {},
   "outputs": [],
   "source": []
  },
  {
   "cell_type": "markdown",
   "id": "07376116-6b16-4f67-b78c-daa0ba80f265",
   "metadata": {},
   "source": [
    "### Get sum of first 10 Natural numbers"
   ]
  },
  {
   "cell_type": "code",
   "execution_count": 64,
   "id": "aba3393f-4d11-4f5c-86e4-8da0ddf6ca6d",
   "metadata": {},
   "outputs": [
    {
     "name": "stdout",
     "output_type": "stream",
     "text": [
      "1\n",
      "2\n",
      "3\n",
      "4\n",
      "5\n",
      "6\n",
      "7\n",
      "8\n",
      "9\n",
      "10\n"
     ]
    }
   ],
   "source": [
    "for i in range(1, 11):\n",
    "    print(i)"
   ]
  },
  {
   "cell_type": "code",
   "execution_count": 65,
   "id": "351cb0c0-3051-42f0-9ba6-853da8437cca",
   "metadata": {},
   "outputs": [
    {
     "name": "stdout",
     "output_type": "stream",
     "text": [
      "55\n"
     ]
    }
   ],
   "source": [
    "total = 0\n",
    "\n",
    "for i in range(1, 11):\n",
    "    total += i\n",
    "    \n",
    "    \n",
    "print(total)"
   ]
  },
  {
   "cell_type": "code",
   "execution_count": 66,
   "id": "bdc92f2d-3c7f-4c5a-ad9f-68a30a0767bd",
   "metadata": {},
   "outputs": [
    {
     "name": "stdout",
     "output_type": "stream",
     "text": [
      "1\n",
      "3\n",
      "6\n",
      "10\n",
      "15\n",
      "21\n",
      "28\n",
      "36\n",
      "45\n",
      "55\n"
     ]
    }
   ],
   "source": [
    "total = 0\n",
    "\n",
    "for i in range(1, 11):\n",
    "    total += i\n",
    "    print(total)\n",
    "    \n",
    "#print(total)"
   ]
  },
  {
   "cell_type": "code",
   "execution_count": 67,
   "id": "50067e9d-20c6-4508-af6f-d8abece0e5b1",
   "metadata": {},
   "outputs": [
    {
     "name": "stdout",
     "output_type": "stream",
     "text": [
      "55\n"
     ]
    }
   ],
   "source": [
    "total = 0\n",
    "\n",
    "for i in range(1, 11):\n",
    "    total += i\n",
    "\n",
    "    \n",
    "print(total)"
   ]
  },
  {
   "cell_type": "code",
   "execution_count": null,
   "id": "3366222b-f209-492a-8211-a86b6ebb6991",
   "metadata": {},
   "outputs": [],
   "source": []
  },
  {
   "cell_type": "code",
   "execution_count": null,
   "id": "90d6623c-b00a-4642-89d5-223f74858f8a",
   "metadata": {},
   "outputs": [],
   "source": []
  },
  {
   "cell_type": "markdown",
   "id": "a05bff0a-eac5-4515-a985-2165137c9423",
   "metadata": {},
   "source": [
    "### Take a number N as input and print values from N to 1"
   ]
  },
  {
   "cell_type": "code",
   "execution_count": 68,
   "id": "2e91efd1-6d84-4d1b-a14f-dec729ee7d20",
   "metadata": {},
   "outputs": [
    {
     "name": "stdin",
     "output_type": "stream",
     "text": [
      " 10\n"
     ]
    },
    {
     "name": "stdout",
     "output_type": "stream",
     "text": [
      "10\n",
      "9\n",
      "8\n",
      "7\n",
      "6\n",
      "5\n",
      "4\n",
      "3\n",
      "2\n",
      "1\n"
     ]
    }
   ],
   "source": [
    "n = int(input())\n",
    "\n",
    "for i in range(n, 0, -1):\n",
    "    print(i)"
   ]
  },
  {
   "cell_type": "code",
   "execution_count": 69,
   "id": "c6bec434-46c1-4450-83cd-e6d26348d6d5",
   "metadata": {},
   "outputs": [
    {
     "name": "stdin",
     "output_type": "stream",
     "text": [
      " 14\n"
     ]
    },
    {
     "name": "stdout",
     "output_type": "stream",
     "text": [
      "14 13 12 11 10 9 8 7 6 5 4 3 2 1 "
     ]
    }
   ],
   "source": [
    "n = int(input())\n",
    "\n",
    "for i in range(n, 0, -1):\n",
    "    print(i, end=\" \")"
   ]
  },
  {
   "cell_type": "code",
   "execution_count": null,
   "id": "5f5afe3a-a596-483c-81ab-82cb9273383b",
   "metadata": {},
   "outputs": [],
   "source": []
  },
  {
   "cell_type": "code",
   "execution_count": 70,
   "id": "9f8aa6f2-d84d-43c0-bb83-ca7c60bde415",
   "metadata": {},
   "outputs": [],
   "source": [
    "# Quiz"
   ]
  },
  {
   "cell_type": "code",
   "execution_count": 71,
   "id": "5f2b8c08-4c75-401c-81f8-e4f9b645841f",
   "metadata": {},
   "outputs": [
    {
     "name": "stdout",
     "output_type": "stream",
     "text": [
      "[]\n"
     ]
    }
   ],
   "source": [
    "print(list(range(8, 8)))"
   ]
  },
  {
   "cell_type": "code",
   "execution_count": 72,
   "id": "1f0b78fb-b5b3-4865-a7dc-bfeaad6caaf1",
   "metadata": {},
   "outputs": [
    {
     "data": {
      "text/plain": [
       "[1, 3, 5, 7, 9]"
      ]
     },
     "execution_count": 72,
     "metadata": {},
     "output_type": "execute_result"
    }
   ],
   "source": [
    "list(range(1, 11, 2))"
   ]
  },
  {
   "cell_type": "code",
   "execution_count": 73,
   "id": "f019eb2c-85a8-4756-9c61-d620889749fa",
   "metadata": {},
   "outputs": [
    {
     "data": {
      "text/plain": [
       "[0, 1, 2, 3, 4, 5, 6, 7, 8, 9, 10]"
      ]
     },
     "execution_count": 73,
     "metadata": {},
     "output_type": "execute_result"
    }
   ],
   "source": [
    "list(range(11))"
   ]
  },
  {
   "cell_type": "code",
   "execution_count": 74,
   "id": "e8470b4c-07cf-40c2-a282-99916a2c6271",
   "metadata": {},
   "outputs": [
    {
     "data": {
      "text/plain": [
       "[0, 1, 2, 3]"
      ]
     },
     "execution_count": 74,
     "metadata": {},
     "output_type": "execute_result"
    }
   ],
   "source": [
    "list(range(4))"
   ]
  },
  {
   "cell_type": "code",
   "execution_count": 75,
   "id": "a0b8f9cc-60be-467b-b265-e3cddabca5c1",
   "metadata": {},
   "outputs": [
    {
     "data": {
      "text/plain": [
       "[0, 1, 2, 3, 4]"
      ]
     },
     "execution_count": 75,
     "metadata": {},
     "output_type": "execute_result"
    }
   ],
   "source": [
    "list(range(5))"
   ]
  },
  {
   "cell_type": "code",
   "execution_count": 76,
   "id": "9c45bb26-9c4a-4036-a1ff-4de91a777335",
   "metadata": {},
   "outputs": [
    {
     "data": {
      "text/plain": [
       "[0, 1, 2, 3, 4, 5, 6]"
      ]
     },
     "execution_count": 76,
     "metadata": {},
     "output_type": "execute_result"
    }
   ],
   "source": [
    "list(range(7))"
   ]
  },
  {
   "cell_type": "code",
   "execution_count": null,
   "id": "f8a6fe56-ad95-4ad9-be9b-da723b30956b",
   "metadata": {},
   "outputs": [],
   "source": []
  },
  {
   "cell_type": "code",
   "execution_count": 79,
   "id": "c9073e71-40ab-448a-aa93-f2ced5405804",
   "metadata": {},
   "outputs": [],
   "source": [
    "# HW: Print even and odd numbers between 1-10 using for loop\n",
    "# With jump\n",
    "# using if-else"
   ]
  },
  {
   "cell_type": "code",
   "execution_count": null,
   "id": "89b3457e-2773-4097-92e1-34bb541ac73c",
   "metadata": {},
   "outputs": [],
   "source": []
  },
  {
   "cell_type": "code",
   "execution_count": 83,
   "id": "5a4d5a79-9d5e-4782-a50a-da80897671f5",
   "metadata": {},
   "outputs": [
    {
     "name": "stdout",
     "output_type": "stream",
     "text": [
      "55\n"
     ]
    }
   ],
   "source": [
    "sum = 0\n",
    "for i in range(11):\n",
    "    sum += i\n",
    "    \n",
    "print(sum)"
   ]
  },
  {
   "cell_type": "code",
   "execution_count": null,
   "id": "b8d394ed-721d-4d2e-8fde-a10bfa9067fb",
   "metadata": {},
   "outputs": [],
   "source": []
  },
  {
   "cell_type": "code",
   "execution_count": null,
   "id": "e29bae47-a776-4048-b6bc-719c617d9d26",
   "metadata": {},
   "outputs": [],
   "source": []
  },
  {
   "cell_type": "code",
   "execution_count": null,
   "id": "2c1709f8-1fd6-406d-b8ac-119fe4a6ca4f",
   "metadata": {},
   "outputs": [],
   "source": []
  },
  {
   "cell_type": "code",
   "execution_count": null,
   "id": "12d12d8a-8bb9-4d92-8d39-5272dc856999",
   "metadata": {},
   "outputs": [],
   "source": []
  },
  {
   "cell_type": "code",
   "execution_count": null,
   "id": "a58deb1e-0ed8-4e42-84e7-313c154aa684",
   "metadata": {},
   "outputs": [],
   "source": []
  }
 ],
 "metadata": {
  "kernelspec": {
   "display_name": "Python 3 (ipykernel)",
   "language": "python",
   "name": "python3"
  },
  "language_info": {
   "codemirror_mode": {
    "name": "ipython",
    "version": 3
   },
   "file_extension": ".py",
   "mimetype": "text/x-python",
   "name": "python",
   "nbconvert_exporter": "python",
   "pygments_lexer": "ipython3",
   "version": "3.9.7"
  }
 },
 "nbformat": 4,
 "nbformat_minor": 5
}
