{
 "cells": [
  {
   "cell_type": "markdown",
   "id": "24c100a5-3af8-4bbf-8a04-8b92cac74301",
   "metadata": {},
   "source": [
    "## Control Statements\n",
    "- A Control statement is a Boolean expression that, if True, executes a piece of code."
   ]
  },
  {
   "cell_type": "code",
   "execution_count": 1,
   "id": "a17869ce-0dfe-4da2-8c41-0541a7754f9e",
   "metadata": {},
   "outputs": [],
   "source": [
    "# Weather proof code"
   ]
  },
  {
   "cell_type": "code",
   "execution_count": 2,
   "id": "bf360d39-fb7e-4cab-bf9b-20d8c5a6227c",
   "metadata": {},
   "outputs": [],
   "source": [
    "# If condition will be executed only and only if condition is True"
   ]
  },
  {
   "cell_type": "code",
   "execution_count": 5,
   "id": "0d07b729-0847-450c-baf4-268762cbb89c",
   "metadata": {},
   "outputs": [
    {
     "name": "stdin",
     "output_type": "stream",
     "text": [
      " rainy\n"
     ]
    },
    {
     "name": "stdout",
     "output_type": "stream",
     "text": [
      "Turning on the wipers\n"
     ]
    }
   ],
   "source": [
    "weather = input()\n",
    "\n",
    "if weather == 'rainy':\n",
    "    # this is if block\n",
    "    print(\"Turning on the wipers\")"
   ]
  },
  {
   "cell_type": "code",
   "execution_count": null,
   "id": "217b7db9-da02-4190-b26f-9b734765dbe7",
   "metadata": {},
   "outputs": [],
   "source": []
  },
  {
   "cell_type": "code",
   "execution_count": null,
   "id": "a172c438-9a4e-43c4-860c-6b4620a9efea",
   "metadata": {},
   "outputs": [],
   "source": []
  },
  {
   "cell_type": "code",
   "execution_count": null,
   "id": "c490e5e9-83fc-41d5-b24b-e2ad5c9bc000",
   "metadata": {},
   "outputs": [],
   "source": []
  },
  {
   "cell_type": "code",
   "execution_count": null,
   "id": "59a8d0af-8cf8-4723-bb5a-00cd118cdfd9",
   "metadata": {},
   "outputs": [],
   "source": []
  },
  {
   "cell_type": "code",
   "execution_count": null,
   "id": "b0be112c-cf7a-4004-bca6-2517acfe09cd",
   "metadata": {},
   "outputs": [],
   "source": []
  },
  {
   "cell_type": "code",
   "execution_count": null,
   "id": "d1e0cea7-581e-4c55-bb97-b466cd1aa399",
   "metadata": {},
   "outputs": [],
   "source": []
  },
  {
   "cell_type": "markdown",
   "id": "0ea40c1d-d83d-40aa-a6fb-6b861b4ec29d",
   "metadata": {},
   "source": [
    "#### Rain sensing wiper problem:"
   ]
  },
  {
   "cell_type": "code",
   "execution_count": 6,
   "id": "341bd3ba-60c5-44e3-9874-1691c0e2a8a8",
   "metadata": {},
   "outputs": [],
   "source": [
    "# if condition:\n",
    "#     Run these statements when condition --> True\n",
    "# else:\n",
    "#     Run these statements when condition --> False\n",
    "    \n",
    "# Always run this code"
   ]
  },
  {
   "cell_type": "code",
   "execution_count": null,
   "id": "1e6cfdae-ec97-4e44-9b12-04a395e00bf2",
   "metadata": {},
   "outputs": [],
   "source": []
  },
  {
   "cell_type": "code",
   "execution_count": 9,
   "id": "eab8c04e-e58b-47d7-ade6-41f1a22847ba",
   "metadata": {},
   "outputs": [
    {
     "name": "stdin",
     "output_type": "stream",
     "text": [
      " sunny\n"
     ]
    },
    {
     "name": "stdout",
     "output_type": "stream",
     "text": [
      "Don't turn them ON\n",
      "This code always gets executed\n"
     ]
    }
   ],
   "source": [
    "weather = input()\n",
    "\n",
    "if weather == 'rainy':\n",
    "    print(\"Turning ON the wipers\")\n",
    "else:\n",
    "    print(\"Don't turn them ON\")\n",
    "    \n",
    "print(\"This code always gets executed\")"
   ]
  },
  {
   "cell_type": "code",
   "execution_count": null,
   "id": "fc5e07bb-5538-4c00-8f9c-fc2ee0b65f08",
   "metadata": {},
   "outputs": [],
   "source": []
  },
  {
   "cell_type": "markdown",
   "id": "753623a2-6523-4079-83be-f235d04e19a0",
   "metadata": {},
   "source": [
    "### Take a number as input and find if it is positive"
   ]
  },
  {
   "cell_type": "code",
   "execution_count": 12,
   "id": "70a658b8-66e2-4a9c-9dc9-d525a52f88fd",
   "metadata": {},
   "outputs": [
    {
     "name": "stdin",
     "output_type": "stream",
     "text": [
      " 0\n"
     ]
    },
    {
     "name": "stdout",
     "output_type": "stream",
     "text": [
      "0 is positive.\n"
     ]
    }
   ],
   "source": [
    "num = int(input())\n",
    "\n",
    "if num >= 0:\n",
    "    print(num, \"is positive.\")\n",
    "else:\n",
    "    print(num, \"is negative.\")"
   ]
  },
  {
   "cell_type": "code",
   "execution_count": null,
   "id": "5f6ea56f-ff6b-4ef6-a514-9ff91b1b22f4",
   "metadata": {},
   "outputs": [],
   "source": []
  },
  {
   "cell_type": "code",
   "execution_count": null,
   "id": "76a56ae8-847a-4994-afbe-224b946a2a01",
   "metadata": {},
   "outputs": [],
   "source": []
  },
  {
   "cell_type": "code",
   "execution_count": null,
   "id": "72d83a2b-885d-40c0-9bdb-0d98e0c2a9b4",
   "metadata": {},
   "outputs": [],
   "source": []
  },
  {
   "cell_type": "markdown",
   "id": "3e1fc9e8-a39d-45c6-9556-8ae9aad2b597",
   "metadata": {},
   "source": [
    "#### Make a password validator"
   ]
  },
  {
   "cell_type": "code",
   "execution_count": 14,
   "id": "2d010589-9fbc-40b2-973c-35e972f62806",
   "metadata": {},
   "outputs": [
    {
     "name": "stdin",
     "output_type": "stream",
     "text": [
      " abc@123\n"
     ]
    },
    {
     "name": "stdout",
     "output_type": "stream",
     "text": [
      "Hey! You are logged in.\n"
     ]
    }
   ],
   "source": [
    "password = input()\n",
    "\n",
    "if password == \"abc@123\":\n",
    "    print(\"Hey! You are logged in.\")\n",
    "else:\n",
    "    print(\"Incorrect password. Please try again.\")"
   ]
  },
  {
   "cell_type": "code",
   "execution_count": null,
   "id": "b2af770b-a58a-4a3a-9954-03297afa6db0",
   "metadata": {},
   "outputs": [],
   "source": []
  },
  {
   "cell_type": "code",
   "execution_count": null,
   "id": "875244c6-65a5-424e-906f-d689bab6b9cb",
   "metadata": {},
   "outputs": [],
   "source": []
  },
  {
   "cell_type": "code",
   "execution_count": null,
   "id": "36b9edea-df3c-451d-9ad1-6ea6e3003b9e",
   "metadata": {},
   "outputs": [],
   "source": []
  },
  {
   "cell_type": "markdown",
   "id": "e04146e1-8824-4b3b-8c8a-c1910497afd2",
   "metadata": {},
   "source": [
    "### Find max ? \n",
    "- num1 and num2. \n"
   ]
  },
  {
   "cell_type": "code",
   "execution_count": 22,
   "id": "a81843b8-f04d-4f8d-8473-5e07b8d05286",
   "metadata": {},
   "outputs": [
    {
     "name": "stdin",
     "output_type": "stream",
     "text": [
      " 5\n",
      " 6\n"
     ]
    },
    {
     "name": "stdout",
     "output_type": "stream",
     "text": [
      "6 i.e num2 is greater number.\n"
     ]
    }
   ],
   "source": [
    "num1 = int(input())\n",
    "num2 = int(input())\n",
    "\n",
    "if num1 > num2:\n",
    "    print(num1, \"i.e num1 is greater number.\")\n",
    "else:\n",
    "    print(num2, \"i.e num2 is greater number.\")"
   ]
  },
  {
   "cell_type": "code",
   "execution_count": null,
   "id": "544e1758-c45b-4f71-a8fe-a680559ca59e",
   "metadata": {},
   "outputs": [],
   "source": []
  },
  {
   "cell_type": "code",
   "execution_count": 19,
   "id": "df91c004-f23a-40d8-beb4-c8e94eff4682",
   "metadata": {},
   "outputs": [],
   "source": [
    "# HW: Write code for equality"
   ]
  },
  {
   "cell_type": "code",
   "execution_count": null,
   "id": "ce85586d-7342-42f3-ba6a-11dfdcfd120c",
   "metadata": {},
   "outputs": [],
   "source": []
  },
  {
   "cell_type": "code",
   "execution_count": null,
   "id": "2faf0889-1b7f-4bab-8030-938698931bd4",
   "metadata": {},
   "outputs": [],
   "source": []
  },
  {
   "cell_type": "markdown",
   "id": "269bafab-d307-43a6-86d6-5a4f71a1cefc",
   "metadata": {},
   "source": [
    "### Take a number from user and check if it is even or odd"
   ]
  },
  {
   "cell_type": "code",
   "execution_count": 24,
   "id": "d2afe732-1edf-4d8f-8199-86de5610a15d",
   "metadata": {},
   "outputs": [
    {
     "name": "stdin",
     "output_type": "stream",
     "text": [
      " 3\n"
     ]
    },
    {
     "name": "stdout",
     "output_type": "stream",
     "text": [
      "3 is an odd number.\n"
     ]
    }
   ],
   "source": [
    "x = int(input())\n",
    "\n",
    "if x % 2 == 0:\n",
    "    print(x, \"is even number.\")\n",
    "else:\n",
    "    print(x, \"is an odd number.\")"
   ]
  },
  {
   "cell_type": "code",
   "execution_count": null,
   "id": "ef906aed-543e-42df-b483-35c3560a9439",
   "metadata": {},
   "outputs": [],
   "source": []
  },
  {
   "cell_type": "code",
   "execution_count": null,
   "id": "ae7b7d65-d272-4a93-b014-8c920ee0fcf3",
   "metadata": {},
   "outputs": [],
   "source": []
  },
  {
   "cell_type": "markdown",
   "id": "b9af8095-cb45-40ce-80c3-99f47f15ce5d",
   "metadata": {},
   "source": [
    "### Question: ATM Dispatch\n",
    "- Only Rs. 500 and Rs. 200 notes are available.\n",
    "- Take an amount as input from user\n",
    "   - if amount is dischargeable, print(\"Discharging cash\")\n",
    "   - else, print(\"Denomination not available\")"
   ]
  },
  {
   "cell_type": "code",
   "execution_count": 34,
   "id": "a1143418-45be-44b1-9989-0f07bd746ab2",
   "metadata": {},
   "outputs": [
    {
     "name": "stdin",
     "output_type": "stream",
     "text": [
      " 900\n"
     ]
    },
    {
     "name": "stdout",
     "output_type": "stream",
     "text": [
      "Dischargong the amount\n"
     ]
    }
   ],
   "source": [
    "amount = int(input())\n",
    "\n",
    "if (amount % 500) % 200 == 0 or amount % 200 == 0:\n",
    "    print(\"Dischargong the amount\")\n",
    "else:\n",
    "    print(\"Denomination not available\")"
   ]
  },
  {
   "cell_type": "code",
   "execution_count": null,
   "id": "0274a3c7-c932-4eae-9aca-bcda97256bff",
   "metadata": {},
   "outputs": [],
   "source": []
  },
  {
   "cell_type": "code",
   "execution_count": 31,
   "id": "a5ccc0f4-964b-4060-a046-91c00fb9bb44",
   "metadata": {},
   "outputs": [
    {
     "data": {
      "text/plain": [
       "0"
      ]
     },
     "execution_count": 31,
     "metadata": {},
     "output_type": "execute_result"
    }
   ],
   "source": [
    "(700 % 500) % 200"
   ]
  },
  {
   "cell_type": "code",
   "execution_count": null,
   "id": "305fa1a4-3958-4b90-8c6d-2d137ec259bc",
   "metadata": {},
   "outputs": [],
   "source": []
  },
  {
   "cell_type": "code",
   "execution_count": null,
   "id": "782336cf-6979-46a3-a85e-b8354bff88e8",
   "metadata": {},
   "outputs": [],
   "source": []
  },
  {
   "cell_type": "markdown",
   "id": "ce7ccd74-b68e-423f-9bd9-0d491d7bd20a",
   "metadata": {},
   "source": [
    "### Nested if else"
   ]
  },
  {
   "cell_type": "code",
   "execution_count": 35,
   "id": "37ec2155-70e8-4c51-897a-5862917b59da",
   "metadata": {},
   "outputs": [],
   "source": [
    "# Designing traffic light\n",
    "# Red -> Please stop here\n",
    "# Green -> Groooom grrrooom\n",
    "# Orange -> Get ready"
   ]
  },
  {
   "cell_type": "code",
   "execution_count": null,
   "id": "ddaf7553-2dab-4ac8-99ea-bb9467b7f4b4",
   "metadata": {},
   "outputs": [],
   "source": []
  },
  {
   "cell_type": "code",
   "execution_count": 36,
   "id": "65bd94f4-6dfb-4db9-8d73-672271bc9ca0",
   "metadata": {},
   "outputs": [
    {
     "name": "stdin",
     "output_type": "stream",
     "text": [
      " red\n"
     ]
    },
    {
     "name": "stdout",
     "output_type": "stream",
     "text": [
      "Please Stop!\n",
      "This is invalid color\n"
     ]
    }
   ],
   "source": [
    "color = input()\n",
    "\n",
    "if color == \"red\":\n",
    "    print(\"Please Stop!\")\n",
    "\n",
    "if color == \"green\":\n",
    "    print(\"groom grrommm\")\n",
    "\n",
    "if color == \"orange\":\n",
    "    print(\"Please get ready.\")\n",
    "    \n",
    "else:\n",
    "    print(\"This is invalid color\")"
   ]
  },
  {
   "cell_type": "code",
   "execution_count": null,
   "id": "3dd74721-9313-4415-8f89-5d6e94e73cd1",
   "metadata": {},
   "outputs": [],
   "source": []
  },
  {
   "cell_type": "code",
   "execution_count": 40,
   "id": "dbc10785-e82b-4063-8d6b-e45c38db3bf3",
   "metadata": {},
   "outputs": [
    {
     "name": "stdin",
     "output_type": "stream",
     "text": [
      " brown\n"
     ]
    },
    {
     "name": "stdout",
     "output_type": "stream",
     "text": [
      "This is invalid color\n"
     ]
    }
   ],
   "source": [
    "color = input()\n",
    "\n",
    "if color == \"red\":\n",
    "    print(\"Please Stop!\") \n",
    "else:\n",
    "    if color == \"green\":\n",
    "         print(\"groom grrommm\")\n",
    "    else:\n",
    "        if color == \"orange\":\n",
    "            print(\"Please get ready.\")\n",
    "        else:\n",
    "            print(\"This is invalid color\")"
   ]
  },
  {
   "cell_type": "code",
   "execution_count": null,
   "id": "181ed43f-5a9a-4f25-b65f-4f1928c2ea63",
   "metadata": {},
   "outputs": [],
   "source": []
  },
  {
   "cell_type": "code",
   "execution_count": null,
   "id": "7c6b9974-a638-4ab3-b01d-c808fa8bf5a4",
   "metadata": {},
   "outputs": [],
   "source": []
  },
  {
   "cell_type": "markdown",
   "id": "44034acb-380c-40a2-be4d-c31103fc64af",
   "metadata": {},
   "source": [
    "### Elif "
   ]
  },
  {
   "cell_type": "code",
   "execution_count": 65,
   "id": "216c270a-9353-43b6-9727-6d5399aa3aa5",
   "metadata": {},
   "outputs": [],
   "source": [
    "# if statement:\n",
    "#     If statement execute this code.\n",
    "# elif statement:\n",
    "#     If statement execute this code.\n",
    "# elif statement:\n",
    "#     If statement execute this code.\n",
    "# else:\n",
    "#     If all above statements are false, please execute this one."
   ]
  },
  {
   "cell_type": "code",
   "execution_count": null,
   "id": "3a39b39f-c7bb-4cc6-9ce2-0a8d62ffce62",
   "metadata": {},
   "outputs": [],
   "source": []
  },
  {
   "cell_type": "code",
   "execution_count": null,
   "id": "cd72c46c-ec60-43ce-8cee-b47e38ff95fd",
   "metadata": {},
   "outputs": [],
   "source": []
  },
  {
   "cell_type": "code",
   "execution_count": 44,
   "id": "53c2c49a-f944-48ac-a402-9d21fe0ebf25",
   "metadata": {},
   "outputs": [
    {
     "name": "stdin",
     "output_type": "stream",
     "text": [
      " brown\n"
     ]
    },
    {
     "name": "stdout",
     "output_type": "stream",
     "text": [
      "This is invalid color\n"
     ]
    }
   ],
   "source": [
    "color = input()\n",
    "\n",
    "if color == \"red\":\n",
    "    print(\"Please Stop!\") \n",
    "elif color == \"green\":\n",
    "    print(\"groom grrommm\")\n",
    "elif color == \"orange\":\n",
    "    print(\"Please get ready.\")\n",
    "else:\n",
    "    print(\"This is invalid color\")"
   ]
  },
  {
   "cell_type": "code",
   "execution_count": null,
   "id": "c51a3437-f6ab-4be6-9eb9-7d0b09ef1c1f",
   "metadata": {},
   "outputs": [],
   "source": []
  },
  {
   "cell_type": "code",
   "execution_count": null,
   "id": "a409db97-b150-4d90-98f5-bd3b30fab0a2",
   "metadata": {},
   "outputs": [],
   "source": []
  },
  {
   "cell_type": "code",
   "execution_count": 45,
   "id": "0eaf1c71-1c59-48d9-9137-2163fe05f012",
   "metadata": {},
   "outputs": [],
   "source": [
    "# Question:\n",
    "# Take a number from user as and print if it is either positive negative or 0."
   ]
  },
  {
   "cell_type": "code",
   "execution_count": 48,
   "id": "5f38b966-55f8-4586-b44c-f954b13b1bbe",
   "metadata": {},
   "outputs": [
    {
     "name": "stdin",
     "output_type": "stream",
     "text": [
      " -1\n"
     ]
    },
    {
     "name": "stdout",
     "output_type": "stream",
     "text": [
      "-1 is negative.\n"
     ]
    }
   ],
   "source": [
    "num = int(input())\n",
    "\n",
    "if num > 0:\n",
    "    print(num, \"is positive.\")\n",
    "elif num == 0:\n",
    "    print(num, \"is equal to zero.\")\n",
    "else:\n",
    "    print(num, \"is negative.\")"
   ]
  },
  {
   "cell_type": "code",
   "execution_count": null,
   "id": "603e8099-e3e1-4d4d-8ec2-fd83bc4c59c1",
   "metadata": {},
   "outputs": [],
   "source": []
  },
  {
   "cell_type": "code",
   "execution_count": null,
   "id": "7726ae94-5a03-4a07-9fc8-9bb9dbc121ac",
   "metadata": {},
   "outputs": [],
   "source": []
  },
  {
   "cell_type": "code",
   "execution_count": null,
   "id": "c61d5f7d-9664-42be-91bf-a9638df3ab0c",
   "metadata": {},
   "outputs": [],
   "source": []
  },
  {
   "cell_type": "code",
   "execution_count": 49,
   "id": "29c6fccf-9772-40d8-bd13-f16ff223f0e7",
   "metadata": {},
   "outputs": [],
   "source": [
    "# Quiz"
   ]
  },
  {
   "cell_type": "code",
   "execution_count": 50,
   "id": "5504a472-714c-474c-87e3-9fa1b2b32c07",
   "metadata": {},
   "outputs": [
    {
     "name": "stdout",
     "output_type": "stream",
     "text": [
      "World\n"
     ]
    }
   ],
   "source": [
    "x = 5\n",
    "if x > 10:\n",
    "    print(\"Hello\")\n",
    "else:\n",
    "    print(\"World\")"
   ]
  },
  {
   "cell_type": "code",
   "execution_count": null,
   "id": "a090ec63-74e7-4aae-b20e-66c4ce8baa20",
   "metadata": {},
   "outputs": [],
   "source": []
  },
  {
   "cell_type": "code",
   "execution_count": 53,
   "id": "448c8fbc-87e4-496e-a1ee-662a7ce4aff3",
   "metadata": {},
   "outputs": [
    {
     "name": "stdout",
     "output_type": "stream",
     "text": [
      "False\n"
     ]
    }
   ],
   "source": [
    "x = 0\n",
    "\n",
    "if x:\n",
    "    print(\"True\")\n",
    "else:\n",
    "    print(\"False\")"
   ]
  },
  {
   "cell_type": "code",
   "execution_count": 51,
   "id": "1c26fadd-385d-4441-9767-cf12a9688a4c",
   "metadata": {},
   "outputs": [
    {
     "data": {
      "text/plain": [
       "True"
      ]
     },
     "execution_count": 51,
     "metadata": {},
     "output_type": "execute_result"
    }
   ],
   "source": [
    "0 == False"
   ]
  },
  {
   "cell_type": "code",
   "execution_count": 52,
   "id": "c69170f3-16c1-4b06-8e70-4ff253a449b3",
   "metadata": {},
   "outputs": [
    {
     "name": "stdout",
     "output_type": "stream",
     "text": [
      "Hehehe\n"
     ]
    }
   ],
   "source": [
    "if True:\n",
    "    print(\"Hehehe\")\n",
    "else:\n",
    "    print(\"haha\")"
   ]
  },
  {
   "cell_type": "code",
   "execution_count": null,
   "id": "2ed1a824-0eb9-4c0a-81f2-1c40192171b7",
   "metadata": {},
   "outputs": [],
   "source": []
  },
  {
   "cell_type": "code",
   "execution_count": null,
   "id": "76e49539-3368-430b-8bfb-6b6e9df89116",
   "metadata": {},
   "outputs": [],
   "source": []
  },
  {
   "cell_type": "code",
   "execution_count": null,
   "id": "cb30d6d0-498b-4043-a1f1-fe5e64fc6a66",
   "metadata": {},
   "outputs": [],
   "source": []
  },
  {
   "cell_type": "markdown",
   "id": "efcf1a5a-2a81-49b0-850e-5f294c644beb",
   "metadata": {},
   "source": [
    "#### Fizz Fuzz: Write a program that takes n as input and does the following:\n",
    "- If n is a multiple of 3 print Fizz\n",
    "- If n is a multiple of 5 print Fuzz\n",
    "- If n is multiple of both 5 and 3 then print FizzFuzz"
   ]
  },
  {
   "cell_type": "code",
   "execution_count": 63,
   "id": "b3541f58-ced5-48dd-95df-093e968d22e3",
   "metadata": {},
   "outputs": [
    {
     "name": "stdin",
     "output_type": "stream",
     "text": [
      " 13\n"
     ]
    }
   ],
   "source": [
    "n = int(input())\n",
    "\n",
    "if n % 3 == 0:\n",
    "    print(\"Fizz\")\n",
    "elif n % 5 == 0:\n",
    "    print(\"Fuzz\")\n",
    "elif n % 5 == 0 and n % 3 == 0:\n",
    "    print(\"FizzFuzz\")"
   ]
  },
  {
   "cell_type": "code",
   "execution_count": 57,
   "id": "3caf52f8-2909-426f-a744-4d9cb9d45b95",
   "metadata": {},
   "outputs": [],
   "source": [
    "# Code should be:"
   ]
  },
  {
   "cell_type": "code",
   "execution_count": 61,
   "id": "ba4aa999-b02b-47fe-824a-6c38d12d4f4e",
   "metadata": {},
   "outputs": [
    {
     "name": "stdin",
     "output_type": "stream",
     "text": [
      " 15\n"
     ]
    },
    {
     "name": "stdout",
     "output_type": "stream",
     "text": [
      "FizzFuzz\n"
     ]
    }
   ],
   "source": [
    "n = int(input())\n",
    "\n",
    "if n % 5 == 0 and n % 3 == 0:\n",
    "    print(\"FizzFuzz\")\n",
    "elif n % 3 == 0:\n",
    "    print(\"Fizz\")\n",
    "elif n % 5 == 0:\n",
    "    print(\"Fuzz\")"
   ]
  },
  {
   "cell_type": "code",
   "execution_count": null,
   "id": "b7594362-dc50-4347-8cfa-49ac7e3baf46",
   "metadata": {},
   "outputs": [],
   "source": []
  },
  {
   "cell_type": "code",
   "execution_count": null,
   "id": "688c2194-4c39-4e05-90ec-08f53361bbbe",
   "metadata": {},
   "outputs": [],
   "source": []
  },
  {
   "cell_type": "code",
   "execution_count": null,
   "id": "cf520584-fe90-420b-924d-c7f045d34c3e",
   "metadata": {},
   "outputs": [],
   "source": []
  },
  {
   "cell_type": "code",
   "execution_count": 62,
   "id": "1d4e9d80-be21-40e7-b332-9b885eb93a6f",
   "metadata": {},
   "outputs": [],
   "source": [
    "## HW"
   ]
  },
  {
   "cell_type": "markdown",
   "id": "c7dff093-e793-490f-9648-e3e4a6e095b3",
   "metadata": {},
   "source": [
    "#### Challenge\n",
    "A bartender is trying to determine whether he should serve drinks to someone. He only serves drinks to people 18 and older and when he is not on break. Given the person's age, and whether the break time is in session."
   ]
  },
  {
   "cell_type": "code",
   "execution_count": null,
   "id": "0a995bfc-702a-4ab3-9034-95ed5a5f20a5",
   "metadata": {},
   "outputs": [],
   "source": [
    "age = int(input())\n",
    "brk = int(input())"
   ]
  },
  {
   "cell_type": "code",
   "execution_count": null,
   "id": "3725ca38-ae48-46e3-b0fa-4796b75f327b",
   "metadata": {},
   "outputs": [],
   "source": []
  },
  {
   "cell_type": "code",
   "execution_count": null,
   "id": "4f0b6386-f5b7-4a16-afab-d0b679cf5864",
   "metadata": {},
   "outputs": [],
   "source": []
  },
  {
   "cell_type": "code",
   "execution_count": null,
   "id": "208fcad1-a1e9-4829-8cbb-801571ae2f82",
   "metadata": {},
   "outputs": [],
   "source": []
  },
  {
   "cell_type": "code",
   "execution_count": null,
   "id": "a588a15d-9f22-441c-b13c-35394dc4c542",
   "metadata": {},
   "outputs": [],
   "source": []
  }
 ],
 "metadata": {
  "kernelspec": {
   "display_name": "Python 3 (ipykernel)",
   "language": "python",
   "name": "python3"
  },
  "language_info": {
   "codemirror_mode": {
    "name": "ipython",
    "version": 3
   },
   "file_extension": ".py",
   "mimetype": "text/x-python",
   "name": "python",
   "nbconvert_exporter": "python",
   "pygments_lexer": "ipython3",
   "version": "3.9.7"
  }
 },
 "nbformat": 4,
 "nbformat_minor": 5
}
