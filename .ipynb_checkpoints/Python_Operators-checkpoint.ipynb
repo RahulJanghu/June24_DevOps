{
 "cells": [
  {
   "cell_type": "markdown",
   "id": "05d73624-2c16-4ff7-8aa3-efc51b49fe72",
   "metadata": {},
   "source": [
    "## Expression\n",
    "- Operators\n",
    "- Operands\n",
    "     - Operators + Operands = Expression"
   ]
  },
  {
   "cell_type": "code",
   "execution_count": null,
   "id": "5582d6a1-3623-442e-ac16-f89da9a6dc7f",
   "metadata": {},
   "outputs": [],
   "source": []
  },
  {
   "cell_type": "markdown",
   "id": "9b8c1763-62fb-4b40-9706-94e1d7ec74f3",
   "metadata": {},
   "source": [
    "##### An operator in a programming language is a symbol that to perform specific mathematical, relational or logical operation and produce final result."
   ]
  },
  {
   "cell_type": "code",
   "execution_count": null,
   "id": "b0b458d6-5817-4fcb-ba33-48719375350c",
   "metadata": {},
   "outputs": [],
   "source": []
  },
  {
   "cell_type": "code",
   "execution_count": null,
   "id": "45516a41-1a8c-45e1-82fe-7385d49a76a9",
   "metadata": {},
   "outputs": [],
   "source": []
  },
  {
   "cell_type": "code",
   "execution_count": null,
   "id": "fba32f32-d2cb-4208-be70-49f24d3e964f",
   "metadata": {},
   "outputs": [],
   "source": []
  },
  {
   "cell_type": "markdown",
   "id": "8159b5eb-4591-4f9f-852d-a479b1e1207c",
   "metadata": {},
   "source": [
    "## Arithmetic Operators\n",
    "- Addition\n",
    "- Subtraction\n",
    "- Division\n",
    "- mod (%)\n",
    "- Multiplication\n",
    "- Floor division (//)\n",
    "- To the power (**)"
   ]
  },
  {
   "cell_type": "code",
   "execution_count": 1,
   "id": "88057c5f-44f3-4845-be72-d0ee0036b2e0",
   "metadata": {},
   "outputs": [],
   "source": [
    "# These operators allow us to perform arithmetic operations in Python."
   ]
  },
  {
   "cell_type": "code",
   "execution_count": null,
   "id": "4dbe5022-0f29-40cb-9090-5f5532c0ec15",
   "metadata": {},
   "outputs": [],
   "source": []
  },
  {
   "cell_type": "markdown",
   "id": "d3692da8-8f8b-4a04-a8c5-7b225b4662ee",
   "metadata": {},
   "source": [
    "### Add"
   ]
  },
  {
   "cell_type": "code",
   "execution_count": 2,
   "id": "c37043bd-fa7f-4881-9eab-7e3aa110b5e3",
   "metadata": {},
   "outputs": [],
   "source": [
    "x = 10\n",
    "y = 5"
   ]
  },
  {
   "cell_type": "code",
   "execution_count": 3,
   "id": "8b4d5e11-1f52-4f5f-a452-3002a5487d2f",
   "metadata": {},
   "outputs": [
    {
     "name": "stdout",
     "output_type": "stream",
     "text": [
      "15\n"
     ]
    }
   ],
   "source": [
    "print(x + y)"
   ]
  },
  {
   "cell_type": "code",
   "execution_count": null,
   "id": "b60ca1d2-6282-4dcd-9738-fe044ef16661",
   "metadata": {},
   "outputs": [],
   "source": []
  },
  {
   "cell_type": "code",
   "execution_count": 4,
   "id": "69563467-8fcd-4f8b-90d8-d26a6ff0b818",
   "metadata": {},
   "outputs": [],
   "source": [
    "# If we are adding a float number to another number then ans will be float"
   ]
  },
  {
   "cell_type": "code",
   "execution_count": 5,
   "id": "6024093e-3266-40a5-b400-081197cfad11",
   "metadata": {},
   "outputs": [
    {
     "name": "stdout",
     "output_type": "stream",
     "text": [
      "7.0\n"
     ]
    }
   ],
   "source": [
    "print(5.0 + 2)"
   ]
  },
  {
   "cell_type": "code",
   "execution_count": 6,
   "id": "eec66e64-d364-44a9-9b1b-452ff8161ad8",
   "metadata": {},
   "outputs": [
    {
     "name": "stdout",
     "output_type": "stream",
     "text": [
      "6.0\n"
     ]
    }
   ],
   "source": [
    "print(2.5 + 3.5)"
   ]
  },
  {
   "cell_type": "code",
   "execution_count": 18,
   "id": "452dc32b-a0c8-4bc0-b971-1cd8ca234bf1",
   "metadata": {},
   "outputs": [
    {
     "ename": "TypeError",
     "evalue": "can only concatenate str (not \"int\") to str",
     "output_type": "error",
     "traceback": [
      "\u001b[0;31m---------------------------------------------------------------------------\u001b[0m",
      "\u001b[0;31mTypeError\u001b[0m                                 Traceback (most recent call last)",
      "\u001b[0;32m/var/folders/t5/yhjgrjs907zfp250jyxtw54m0000gn/T/ipykernel_66388/1555301776.py\u001b[0m in \u001b[0;36m<module>\u001b[0;34m\u001b[0m\n\u001b[0;32m----> 1\u001b[0;31m \u001b[0mprint\u001b[0m\u001b[0;34m(\u001b[0m\u001b[0;34m'a'\u001b[0m \u001b[0;34m+\u001b[0m \u001b[0;36m3\u001b[0m\u001b[0;34m)\u001b[0m\u001b[0;34m\u001b[0m\u001b[0;34m\u001b[0m\u001b[0m\n\u001b[0m",
      "\u001b[0;31mTypeError\u001b[0m: can only concatenate str (not \"int\") to str"
     ]
    }
   ],
   "source": [
    "print('a' + 3)"
   ]
  },
  {
   "cell_type": "code",
   "execution_count": 19,
   "id": "dfe42d8c-798a-4ae9-b015-2a6ca12544fa",
   "metadata": {},
   "outputs": [
    {
     "name": "stdout",
     "output_type": "stream",
     "text": [
      "a3\n"
     ]
    }
   ],
   "source": [
    "print('a' + '3')"
   ]
  },
  {
   "cell_type": "code",
   "execution_count": null,
   "id": "32b3ab43-5282-4f1f-a910-a36ab1528a99",
   "metadata": {},
   "outputs": [],
   "source": []
  },
  {
   "cell_type": "code",
   "execution_count": null,
   "id": "b34c0a48-3c60-4012-835c-2ee74bebb768",
   "metadata": {},
   "outputs": [],
   "source": []
  },
  {
   "cell_type": "code",
   "execution_count": 7,
   "id": "41e42ac8-d769-4140-9cc0-e5ec0bbf8698",
   "metadata": {},
   "outputs": [],
   "source": [
    "# String concatenation: A term for adding of strings"
   ]
  },
  {
   "cell_type": "code",
   "execution_count": 8,
   "id": "48d4ff48-488b-423e-a67d-511d1fcb3a5b",
   "metadata": {},
   "outputs": [
    {
     "name": "stdout",
     "output_type": "stream",
     "text": [
      "aaa\n"
     ]
    }
   ],
   "source": [
    "print('a' + 'a' + 'a')"
   ]
  },
  {
   "cell_type": "code",
   "execution_count": 9,
   "id": "e58df6bb-4340-455d-a7be-b8bbbc7980d6",
   "metadata": {},
   "outputs": [
    {
     "name": "stdout",
     "output_type": "stream",
     "text": [
      "aaa\n"
     ]
    }
   ],
   "source": [
    "print('a' * 3)"
   ]
  },
  {
   "cell_type": "code",
   "execution_count": null,
   "id": "ebc5d550-bca0-4e77-9dce-316b35ccb4ab",
   "metadata": {},
   "outputs": [],
   "source": []
  },
  {
   "cell_type": "code",
   "execution_count": null,
   "id": "455ed5b6-f967-40fe-a31a-3bfaa197fa7d",
   "metadata": {},
   "outputs": [],
   "source": []
  },
  {
   "cell_type": "markdown",
   "id": "7ca5f118-3c9b-4cbe-8058-111b22571331",
   "metadata": {},
   "source": [
    "### Subtract"
   ]
  },
  {
   "cell_type": "code",
   "execution_count": 10,
   "id": "3f3700ca-1e7a-4727-9d09-63e87a331a89",
   "metadata": {},
   "outputs": [],
   "source": [
    "# if we are subtracting a float then answer will be in float"
   ]
  },
  {
   "cell_type": "code",
   "execution_count": 13,
   "id": "f4a84650-cb40-44db-9a2f-1897c73afd66",
   "metadata": {},
   "outputs": [
    {
     "name": "stdout",
     "output_type": "stream",
     "text": [
      "10 5\n"
     ]
    }
   ],
   "source": [
    "print(x, y)"
   ]
  },
  {
   "cell_type": "code",
   "execution_count": 14,
   "id": "91637271-b8fb-499a-ac92-70aaa7e09892",
   "metadata": {},
   "outputs": [
    {
     "name": "stdout",
     "output_type": "stream",
     "text": [
      "-5\n"
     ]
    }
   ],
   "source": [
    "print(y - x)"
   ]
  },
  {
   "cell_type": "code",
   "execution_count": 15,
   "id": "6bf3f55d-7c99-4bd3-8d4e-af9ecb0a7049",
   "metadata": {},
   "outputs": [
    {
     "name": "stdout",
     "output_type": "stream",
     "text": [
      "3.0\n"
     ]
    }
   ],
   "source": [
    "print(5 - 2.0)"
   ]
  },
  {
   "cell_type": "code",
   "execution_count": null,
   "id": "4c776ca0-0eba-44bf-a9cb-fe76ad6e92d3",
   "metadata": {},
   "outputs": [],
   "source": []
  },
  {
   "cell_type": "code",
   "execution_count": 16,
   "id": "1fd1b1b9-39ca-4296-a588-7cd9dc98d8c2",
   "metadata": {},
   "outputs": [],
   "source": [
    "# You cant do following operation"
   ]
  },
  {
   "cell_type": "code",
   "execution_count": 17,
   "id": "999d7768-2c1e-4652-975a-0f038f2e0797",
   "metadata": {},
   "outputs": [
    {
     "ename": "TypeError",
     "evalue": "unsupported operand type(s) for -: 'str' and 'str'",
     "output_type": "error",
     "traceback": [
      "\u001b[0;31m---------------------------------------------------------------------------\u001b[0m",
      "\u001b[0;31mTypeError\u001b[0m                                 Traceback (most recent call last)",
      "\u001b[0;32m/var/folders/t5/yhjgrjs907zfp250jyxtw54m0000gn/T/ipykernel_66388/2138178757.py\u001b[0m in \u001b[0;36m<module>\u001b[0;34m\u001b[0m\n\u001b[0;32m----> 1\u001b[0;31m \u001b[0mprint\u001b[0m\u001b[0;34m(\u001b[0m\u001b[0;34m'rahul'\u001b[0m \u001b[0;34m-\u001b[0m \u001b[0;34m'a'\u001b[0m\u001b[0;34m)\u001b[0m\u001b[0;34m\u001b[0m\u001b[0;34m\u001b[0m\u001b[0m\n\u001b[0m",
      "\u001b[0;31mTypeError\u001b[0m: unsupported operand type(s) for -: 'str' and 'str'"
     ]
    }
   ],
   "source": [
    "print('rahul' - 'a')"
   ]
  },
  {
   "cell_type": "code",
   "execution_count": 20,
   "id": "80e1ac65-c6c0-49ba-962c-cb67c6bd3d10",
   "metadata": {},
   "outputs": [
    {
     "ename": "TypeError",
     "evalue": "unsupported operand type(s) for -: 'str' and 'int'",
     "output_type": "error",
     "traceback": [
      "\u001b[0;31m---------------------------------------------------------------------------\u001b[0m",
      "\u001b[0;31mTypeError\u001b[0m                                 Traceback (most recent call last)",
      "\u001b[0;32m/var/folders/t5/yhjgrjs907zfp250jyxtw54m0000gn/T/ipykernel_66388/1882691190.py\u001b[0m in \u001b[0;36m<module>\u001b[0;34m\u001b[0m\n\u001b[0;32m----> 1\u001b[0;31m \u001b[0mprint\u001b[0m\u001b[0;34m(\u001b[0m\u001b[0;34m'a'\u001b[0m \u001b[0;34m-\u001b[0m \u001b[0;36m3\u001b[0m\u001b[0;34m)\u001b[0m\u001b[0;34m\u001b[0m\u001b[0;34m\u001b[0m\u001b[0m\n\u001b[0m",
      "\u001b[0;31mTypeError\u001b[0m: unsupported operand type(s) for -: 'str' and 'int'"
     ]
    }
   ],
   "source": [
    "print('a' - 3)"
   ]
  },
  {
   "cell_type": "code",
   "execution_count": null,
   "id": "c592b2ad-fe18-4138-9191-904c1e456c83",
   "metadata": {},
   "outputs": [],
   "source": []
  },
  {
   "cell_type": "code",
   "execution_count": null,
   "id": "2708b7e7-cb2d-4efd-a720-81838929ca52",
   "metadata": {},
   "outputs": [],
   "source": []
  },
  {
   "cell_type": "markdown",
   "id": "84304688-6362-4f5b-8220-778c1aabee53",
   "metadata": {},
   "source": [
    "### Multiply"
   ]
  },
  {
   "cell_type": "code",
   "execution_count": 21,
   "id": "9e71d345-9a19-41fa-aeba-1741837cb22e",
   "metadata": {},
   "outputs": [
    {
     "name": "stdout",
     "output_type": "stream",
     "text": [
      "10 5\n"
     ]
    }
   ],
   "source": [
    "print(x, y)"
   ]
  },
  {
   "cell_type": "code",
   "execution_count": 22,
   "id": "cb71b149-4c52-45ac-ab32-d9918dc7ca84",
   "metadata": {},
   "outputs": [
    {
     "name": "stdout",
     "output_type": "stream",
     "text": [
      "50\n"
     ]
    }
   ],
   "source": [
    "print(x * y)"
   ]
  },
  {
   "cell_type": "code",
   "execution_count": 23,
   "id": "b9d8dad8-3474-4a88-8dac-6aea284f14ab",
   "metadata": {},
   "outputs": [
    {
     "name": "stdout",
     "output_type": "stream",
     "text": [
      "6.0\n"
     ]
    }
   ],
   "source": [
    "print(2.0 * 3)"
   ]
  },
  {
   "cell_type": "code",
   "execution_count": null,
   "id": "a0b5a3bc-f2a7-4b62-8811-2ef6dd5db533",
   "metadata": {},
   "outputs": [],
   "source": []
  },
  {
   "cell_type": "code",
   "execution_count": 24,
   "id": "5bcc4070-9d2b-4263-a6a3-738b790341f1",
   "metadata": {},
   "outputs": [],
   "source": [
    "# Multiply a string: String concatenation"
   ]
  },
  {
   "cell_type": "code",
   "execution_count": 25,
   "id": "ec1b2c56-c7f4-4b9b-be66-023836eac088",
   "metadata": {},
   "outputs": [
    {
     "name": "stdout",
     "output_type": "stream",
     "text": [
      "rahulrahul\n"
     ]
    }
   ],
   "source": [
    "print('rahul' * 2)"
   ]
  },
  {
   "cell_type": "code",
   "execution_count": 26,
   "id": "0a691493-f07c-4690-ab7e-588f4e9347f1",
   "metadata": {},
   "outputs": [
    {
     "ename": "TypeError",
     "evalue": "can't multiply sequence by non-int of type 'str'",
     "output_type": "error",
     "traceback": [
      "\u001b[0;31m---------------------------------------------------------------------------\u001b[0m",
      "\u001b[0;31mTypeError\u001b[0m                                 Traceback (most recent call last)",
      "\u001b[0;32m/var/folders/t5/yhjgrjs907zfp250jyxtw54m0000gn/T/ipykernel_66388/2393514132.py\u001b[0m in \u001b[0;36m<module>\u001b[0;34m\u001b[0m\n\u001b[0;32m----> 1\u001b[0;31m \u001b[0mprint\u001b[0m\u001b[0;34m(\u001b[0m\u001b[0;34m'Rahul'\u001b[0m \u001b[0;34m*\u001b[0m \u001b[0;34m'Janghu'\u001b[0m\u001b[0;34m)\u001b[0m\u001b[0;34m\u001b[0m\u001b[0;34m\u001b[0m\u001b[0m\n\u001b[0m",
      "\u001b[0;31mTypeError\u001b[0m: can't multiply sequence by non-int of type 'str'"
     ]
    }
   ],
   "source": [
    "print('Rahul' * 'Janghu')"
   ]
  },
  {
   "cell_type": "code",
   "execution_count": 27,
   "id": "805210c8-cffb-46ec-95c3-91a6eb3fb050",
   "metadata": {},
   "outputs": [
    {
     "ename": "TypeError",
     "evalue": "can't multiply sequence by non-int of type 'float'",
     "output_type": "error",
     "traceback": [
      "\u001b[0;31m---------------------------------------------------------------------------\u001b[0m",
      "\u001b[0;31mTypeError\u001b[0m                                 Traceback (most recent call last)",
      "\u001b[0;32m/var/folders/t5/yhjgrjs907zfp250jyxtw54m0000gn/T/ipykernel_66388/2292094587.py\u001b[0m in \u001b[0;36m<module>\u001b[0;34m\u001b[0m\n\u001b[0;32m----> 1\u001b[0;31m \u001b[0mprint\u001b[0m\u001b[0;34m(\u001b[0m\u001b[0;34m'a'\u001b[0m \u001b[0;34m*\u001b[0m \u001b[0;36m3.0\u001b[0m\u001b[0;34m)\u001b[0m\u001b[0;34m\u001b[0m\u001b[0;34m\u001b[0m\u001b[0m\n\u001b[0m",
      "\u001b[0;31mTypeError\u001b[0m: can't multiply sequence by non-int of type 'float'"
     ]
    }
   ],
   "source": [
    "print('a' * 3.0)"
   ]
  },
  {
   "cell_type": "code",
   "execution_count": null,
   "id": "059a297e-1148-429a-b06a-11a6b1282f0d",
   "metadata": {},
   "outputs": [],
   "source": []
  },
  {
   "cell_type": "code",
   "execution_count": null,
   "id": "eb15d4a7-0616-4f81-93c5-ecccfc126d3f",
   "metadata": {},
   "outputs": [],
   "source": []
  },
  {
   "cell_type": "markdown",
   "id": "bafc47cc-c81d-4699-a300-9880545368a8",
   "metadata": {},
   "source": [
    "### Divide"
   ]
  },
  {
   "cell_type": "code",
   "execution_count": 28,
   "id": "1079c07f-6664-44b1-a4d3-de6dbdbed6f3",
   "metadata": {},
   "outputs": [],
   "source": [
    "# In division we will always get output as a float"
   ]
  },
  {
   "cell_type": "code",
   "execution_count": 29,
   "id": "b30e93c2-669e-41e6-a76e-2451406cd2b6",
   "metadata": {},
   "outputs": [
    {
     "name": "stdout",
     "output_type": "stream",
     "text": [
      "10 5\n"
     ]
    }
   ],
   "source": [
    "print(x, y)"
   ]
  },
  {
   "cell_type": "code",
   "execution_count": 30,
   "id": "1128ad76-dbf1-4f30-a848-c074add00af0",
   "metadata": {},
   "outputs": [
    {
     "name": "stdout",
     "output_type": "stream",
     "text": [
      "2.0\n"
     ]
    }
   ],
   "source": [
    "print(x / y)"
   ]
  },
  {
   "cell_type": "code",
   "execution_count": 31,
   "id": "25059242-7257-4115-b0e5-2899b90657a8",
   "metadata": {},
   "outputs": [
    {
     "name": "stdout",
     "output_type": "stream",
     "text": [
      "4.0\n"
     ]
    }
   ],
   "source": [
    "print(10 / 2.5)"
   ]
  },
  {
   "cell_type": "code",
   "execution_count": null,
   "id": "d7a8ba5f-ac03-43e6-a9b2-850dad08c36a",
   "metadata": {},
   "outputs": [],
   "source": []
  },
  {
   "cell_type": "code",
   "execution_count": null,
   "id": "d3858b91-fbf0-4d48-8417-6f043709439c",
   "metadata": {},
   "outputs": [],
   "source": []
  },
  {
   "cell_type": "code",
   "execution_count": null,
   "id": "9057c2ce-ad3f-4c2d-993d-0974a4608474",
   "metadata": {},
   "outputs": [],
   "source": []
  },
  {
   "cell_type": "code",
   "execution_count": 32,
   "id": "03d06d2d-9ffc-4b0e-8837-9016ec0208b0",
   "metadata": {},
   "outputs": [],
   "source": [
    "# To the power accepts two values base and power"
   ]
  },
  {
   "cell_type": "code",
   "execution_count": 33,
   "id": "755d5abe-f6a7-43bf-b069-734bde1072b3",
   "metadata": {},
   "outputs": [],
   "source": [
    "# **"
   ]
  },
  {
   "cell_type": "code",
   "execution_count": 34,
   "id": "65cde717-5a99-4178-9dbb-a5bd6174deb6",
   "metadata": {},
   "outputs": [],
   "source": [
    "# base ** power"
   ]
  },
  {
   "cell_type": "code",
   "execution_count": 35,
   "id": "3af4f51b-f769-4369-8105-edd79e24452c",
   "metadata": {},
   "outputs": [
    {
     "name": "stdout",
     "output_type": "stream",
     "text": [
      "100000\n"
     ]
    }
   ],
   "source": [
    "print(x ** y)"
   ]
  },
  {
   "cell_type": "code",
   "execution_count": 36,
   "id": "5979db2c-a2dc-40e7-830d-3036646484dc",
   "metadata": {},
   "outputs": [
    {
     "name": "stdout",
     "output_type": "stream",
     "text": [
      "4\n"
     ]
    }
   ],
   "source": [
    "print(2 ** 2)"
   ]
  },
  {
   "cell_type": "code",
   "execution_count": 37,
   "id": "8ba48440-5ea3-44e9-b067-c739fe2fd1a0",
   "metadata": {},
   "outputs": [
    {
     "name": "stdout",
     "output_type": "stream",
     "text": [
      "8\n"
     ]
    }
   ],
   "source": [
    "print(2 ** 3)"
   ]
  },
  {
   "cell_type": "code",
   "execution_count": 38,
   "id": "5cbe1469-907b-4082-b7fe-f4c6d2074f46",
   "metadata": {},
   "outputs": [
    {
     "name": "stdout",
     "output_type": "stream",
     "text": [
      "100000.0\n"
     ]
    }
   ],
   "source": [
    "print(10.0 ** 5)"
   ]
  },
  {
   "cell_type": "code",
   "execution_count": 39,
   "id": "13a224b6-aea8-46de-847d-5af30c44e399",
   "metadata": {},
   "outputs": [
    {
     "name": "stdout",
     "output_type": "stream",
     "text": [
      "316.22776601683796\n"
     ]
    }
   ],
   "source": [
    "print(10 ** 2.5)"
   ]
  },
  {
   "cell_type": "code",
   "execution_count": 41,
   "id": "5c3133e9-bfc9-4471-bd55-cf3333ffd3a2",
   "metadata": {},
   "outputs": [
    {
     "name": "stdout",
     "output_type": "stream",
     "text": [
      "316.22776601683796\n"
     ]
    }
   ],
   "source": [
    "print(100000 ** 0.5)"
   ]
  },
  {
   "cell_type": "code",
   "execution_count": null,
   "id": "6f73ee52-a11c-4953-b902-cfb231046dab",
   "metadata": {},
   "outputs": [],
   "source": []
  },
  {
   "cell_type": "code",
   "execution_count": 42,
   "id": "a87badf1-28fd-454b-b061-0a0502c1621a",
   "metadata": {},
   "outputs": [],
   "source": [
    "# Quiz"
   ]
  },
  {
   "cell_type": "code",
   "execution_count": 43,
   "id": "1b1fa059-e059-4c0d-a126-f0b79fd03e5a",
   "metadata": {},
   "outputs": [
    {
     "name": "stdout",
     "output_type": "stream",
     "text": [
      "4.0\n"
     ]
    }
   ],
   "source": [
    "x = 10\n",
    "y = 2.5\n",
    "print(x / y)"
   ]
  },
  {
   "cell_type": "code",
   "execution_count": null,
   "id": "3e11dd15-79f1-4c40-b8bb-9cd092df9828",
   "metadata": {},
   "outputs": [],
   "source": []
  },
  {
   "cell_type": "code",
   "execution_count": null,
   "id": "c5150c82-8e48-42dc-a867-84b408449922",
   "metadata": {},
   "outputs": [],
   "source": []
  },
  {
   "cell_type": "code",
   "execution_count": null,
   "id": "33c6079d-dda7-4796-8747-4ca7c1f62e03",
   "metadata": {},
   "outputs": [],
   "source": []
  },
  {
   "cell_type": "code",
   "execution_count": 44,
   "id": "48058c17-1d62-4348-a06a-c37dbf04b278",
   "metadata": {},
   "outputs": [],
   "source": [
    "### Challenge: If you have 100 chocolates then how many...."
   ]
  },
  {
   "cell_type": "markdown",
   "id": "79d0c427-46c1-4c41-bc8d-00be0b8ef121",
   "metadata": {},
   "source": [
    "### Floor"
   ]
  },
  {
   "cell_type": "code",
   "execution_count": 45,
   "id": "497216f9-ed47-4c6a-a9a2-b4bd48a836e6",
   "metadata": {},
   "outputs": [
    {
     "name": "stdout",
     "output_type": "stream",
     "text": [
      "10 2.5\n"
     ]
    }
   ],
   "source": [
    "print(x, y)"
   ]
  },
  {
   "cell_type": "code",
   "execution_count": 46,
   "id": "b4b11dab-7873-4804-a760-96e4850b58a7",
   "metadata": {},
   "outputs": [
    {
     "name": "stdout",
     "output_type": "stream",
     "text": [
      "2\n"
     ]
    }
   ],
   "source": [
    "print(10 // 5)"
   ]
  },
  {
   "cell_type": "code",
   "execution_count": 47,
   "id": "b86eab77-5fb7-4b7e-9401-6c3a6f4ef15c",
   "metadata": {},
   "outputs": [
    {
     "name": "stdout",
     "output_type": "stream",
     "text": [
      "3\n"
     ]
    }
   ],
   "source": [
    "print(10 // 3)"
   ]
  },
  {
   "cell_type": "code",
   "execution_count": 48,
   "id": "7ce3f530-17f7-433b-add4-34dfeaac83b5",
   "metadata": {},
   "outputs": [
    {
     "name": "stdout",
     "output_type": "stream",
     "text": [
      "12\n"
     ]
    }
   ],
   "source": [
    "print(123 // 10)"
   ]
  },
  {
   "cell_type": "code",
   "execution_count": 49,
   "id": "0c03d7ab-0b73-4245-af03-abdf0f4d9866",
   "metadata": {},
   "outputs": [
    {
     "name": "stdout",
     "output_type": "stream",
     "text": [
      "1\n"
     ]
    }
   ],
   "source": [
    "print(12 // 10)"
   ]
  },
  {
   "cell_type": "code",
   "execution_count": 50,
   "id": "eae3a29b-8122-4f7f-9b78-48088a1f6110",
   "metadata": {},
   "outputs": [
    {
     "name": "stdout",
     "output_type": "stream",
     "text": [
      "-4\n"
     ]
    }
   ],
   "source": [
    "print(-10 // 3)"
   ]
  },
  {
   "cell_type": "code",
   "execution_count": null,
   "id": "6971bd0b-7f81-4208-baa5-3cef8b8d3e17",
   "metadata": {},
   "outputs": [],
   "source": []
  },
  {
   "cell_type": "code",
   "execution_count": null,
   "id": "97ecb79a-5592-4ce9-8add-072f3317ad1b",
   "metadata": {},
   "outputs": [],
   "source": []
  },
  {
   "cell_type": "code",
   "execution_count": 51,
   "id": "52f39f4a-2ae9-44ec-9890-7bf50304ff9a",
   "metadata": {},
   "outputs": [],
   "source": [
    "# Modulus % : It will give remainder"
   ]
  },
  {
   "cell_type": "code",
   "execution_count": 52,
   "id": "31f23e19-bca0-4527-ac67-5b210d7f2e61",
   "metadata": {},
   "outputs": [
    {
     "name": "stdout",
     "output_type": "stream",
     "text": [
      "1\n"
     ]
    }
   ],
   "source": [
    "print(10 % 3)"
   ]
  },
  {
   "cell_type": "code",
   "execution_count": 53,
   "id": "6efc57ab-6da6-448c-8bfe-b057545f7f71",
   "metadata": {},
   "outputs": [
    {
     "name": "stdout",
     "output_type": "stream",
     "text": [
      "0\n"
     ]
    }
   ],
   "source": [
    "print(4 % 2)"
   ]
  },
  {
   "cell_type": "code",
   "execution_count": 54,
   "id": "9b572916-9d53-479b-bca1-dc4f78917826",
   "metadata": {},
   "outputs": [
    {
     "name": "stdout",
     "output_type": "stream",
     "text": [
      "1\n"
     ]
    }
   ],
   "source": [
    "print(3 % 2)"
   ]
  },
  {
   "cell_type": "code",
   "execution_count": 55,
   "id": "49a30de4-0800-4627-bf39-673ec09e484f",
   "metadata": {},
   "outputs": [
    {
     "name": "stdout",
     "output_type": "stream",
     "text": [
      "2\n"
     ]
    }
   ],
   "source": [
    "print(10 % 4)"
   ]
  },
  {
   "cell_type": "code",
   "execution_count": 56,
   "id": "c36b7af4-24b7-41d6-97e1-91682032c6a7",
   "metadata": {},
   "outputs": [
    {
     "name": "stdout",
     "output_type": "stream",
     "text": [
      "2\n"
     ]
    }
   ],
   "source": [
    "print(-10 % 3)"
   ]
  },
  {
   "cell_type": "code",
   "execution_count": 57,
   "id": "ce1bb192-fc13-4aed-a31e-dffafebd9b12",
   "metadata": {},
   "outputs": [
    {
     "name": "stdout",
     "output_type": "stream",
     "text": [
      "-2\n"
     ]
    }
   ],
   "source": [
    "print(10 % -3)"
   ]
  },
  {
   "cell_type": "code",
   "execution_count": 58,
   "id": "3e70461c-6fa6-45c2-add5-c8d935b42364",
   "metadata": {},
   "outputs": [
    {
     "name": "stdout",
     "output_type": "stream",
     "text": [
      "-1\n"
     ]
    }
   ],
   "source": [
    "print(-10 % -3) # --> - (10 % 3)"
   ]
  },
  {
   "cell_type": "code",
   "execution_count": null,
   "id": "49b94ef4-77db-498d-98c1-7d746ad730d0",
   "metadata": {},
   "outputs": [],
   "source": []
  },
  {
   "cell_type": "code",
   "execution_count": 59,
   "id": "43fb71b7-0f43-4a36-ab0c-598ccda2f863",
   "metadata": {},
   "outputs": [],
   "source": [
    "# Quiz"
   ]
  },
  {
   "cell_type": "code",
   "execution_count": 60,
   "id": "48161a55-730a-45e2-bacc-17f8a61b6488",
   "metadata": {},
   "outputs": [
    {
     "name": "stdout",
     "output_type": "stream",
     "text": [
      "0.1\n"
     ]
    }
   ],
   "source": [
    "print(10 ** -1)"
   ]
  },
  {
   "cell_type": "code",
   "execution_count": 61,
   "id": "0364b181-33c0-4e8c-aeea-9e466f122aa9",
   "metadata": {},
   "outputs": [
    {
     "data": {
      "text/plain": [
       "7"
      ]
     },
     "execution_count": 61,
     "metadata": {},
     "output_type": "execute_result"
    }
   ],
   "source": [
    "15//2"
   ]
  },
  {
   "cell_type": "code",
   "execution_count": null,
   "id": "bb13b24e-9eab-4d00-9342-0c984e499466",
   "metadata": {},
   "outputs": [],
   "source": []
  },
  {
   "cell_type": "code",
   "execution_count": 62,
   "id": "e3c3f527-28a5-46c7-9edb-f966933e9a04",
   "metadata": {},
   "outputs": [],
   "source": [
    "# BODMAS"
   ]
  },
  {
   "cell_type": "code",
   "execution_count": 63,
   "id": "03a25d64-50b4-4f62-b97c-9eef98ac87a0",
   "metadata": {},
   "outputs": [
    {
     "data": {
      "text/plain": [
       "4.0"
      ]
     },
     "execution_count": 63,
     "metadata": {},
     "output_type": "execute_result"
    }
   ],
   "source": [
    "10 - 4 * 2 + 5 - 6 / 2"
   ]
  },
  {
   "cell_type": "code",
   "execution_count": null,
   "id": "d57d5e9f-80f7-4dbf-bce1-460dc854c158",
   "metadata": {},
   "outputs": [],
   "source": []
  },
  {
   "cell_type": "code",
   "execution_count": 65,
   "id": "403c5fd1-e01a-4f1e-9c7f-0607f27e78e4",
   "metadata": {},
   "outputs": [],
   "source": [
    "# Quiz"
   ]
  },
  {
   "cell_type": "code",
   "execution_count": 66,
   "id": "78da2c9f-7170-4c82-8afa-6675afae0691",
   "metadata": {},
   "outputs": [
    {
     "name": "stdout",
     "output_type": "stream",
     "text": [
      "729\n"
     ]
    }
   ],
   "source": [
    "x = 11\n",
    "y = 2\n",
    "z = 4\n",
    "res = (x + y - z) ** (x % z)\n",
    "print(res)"
   ]
  },
  {
   "cell_type": "code",
   "execution_count": null,
   "id": "b7b6793b-d00f-4171-a30d-33b60dbd286a",
   "metadata": {},
   "outputs": [],
   "source": []
  },
  {
   "cell_type": "code",
   "execution_count": null,
   "id": "2068e4d1-7abc-4447-b7d7-7aa570e1889c",
   "metadata": {},
   "outputs": [],
   "source": []
  },
  {
   "cell_type": "code",
   "execution_count": null,
   "id": "f5955a52-f9dd-4d47-aef2-d6ad4eccfff0",
   "metadata": {},
   "outputs": [],
   "source": []
  },
  {
   "cell_type": "code",
   "execution_count": null,
   "id": "bfdb4914-a4b6-4cb1-a863-fd8d202d0e3a",
   "metadata": {},
   "outputs": [],
   "source": []
  },
  {
   "cell_type": "markdown",
   "id": "0ee56812-f918-4081-8006-2e8280826311",
   "metadata": {},
   "source": [
    "## Comparison Operators\n",
    "- == (True if equal)\n",
    "- != (True if not equal)\n",
    "- < (Less than)  &  > (Greater than)\n",
    "- <= (Less than or equal to) &   >= (Greater than or equal to)"
   ]
  },
  {
   "cell_type": "code",
   "execution_count": 67,
   "id": "795b7792-a3eb-4e7c-aa60-6541c960de24",
   "metadata": {},
   "outputs": [],
   "source": [
    "# Comparison operators can be used to compare values in mathematical terms."
   ]
  },
  {
   "cell_type": "code",
   "execution_count": 68,
   "id": "9f7fbcf4-0db8-4d23-be44-106c5eb96bd6",
   "metadata": {},
   "outputs": [],
   "source": [
    "# == operator"
   ]
  },
  {
   "cell_type": "code",
   "execution_count": 69,
   "id": "5e43ae66-5118-4b11-ab01-cf2e073bbd3e",
   "metadata": {},
   "outputs": [],
   "source": [
    "# The output of comparison ops is always bool value"
   ]
  },
  {
   "cell_type": "code",
   "execution_count": 70,
   "id": "bdae14ea-cdc1-42c7-9f44-ac3c95683456",
   "metadata": {},
   "outputs": [
    {
     "data": {
      "text/plain": [
       "True"
      ]
     },
     "execution_count": 70,
     "metadata": {},
     "output_type": "execute_result"
    }
   ],
   "source": [
    "2 == 2"
   ]
  },
  {
   "cell_type": "code",
   "execution_count": 71,
   "id": "5b30cc0a-907e-410a-a5e1-5278f0b54782",
   "metadata": {},
   "outputs": [
    {
     "data": {
      "text/plain": [
       "False"
      ]
     },
     "execution_count": 71,
     "metadata": {},
     "output_type": "execute_result"
    }
   ],
   "source": [
    "\"Rahul\" == 'rahul'"
   ]
  },
  {
   "cell_type": "code",
   "execution_count": null,
   "id": "20042eae-ef04-44a3-8f34-caee724896ed",
   "metadata": {},
   "outputs": [],
   "source": []
  },
  {
   "cell_type": "code",
   "execution_count": 72,
   "id": "692b6094-927b-4ffe-950c-c1768e0f1510",
   "metadata": {},
   "outputs": [],
   "source": [
    "# != not equal to"
   ]
  },
  {
   "cell_type": "code",
   "execution_count": 73,
   "id": "d4decf51-6815-48e2-9b52-f3533fa2fc06",
   "metadata": {},
   "outputs": [
    {
     "data": {
      "text/plain": [
       "False"
      ]
     },
     "execution_count": 73,
     "metadata": {},
     "output_type": "execute_result"
    }
   ],
   "source": [
    "2 != 2"
   ]
  },
  {
   "cell_type": "code",
   "execution_count": 74,
   "id": "5c39d538-97ac-46e0-a12f-2b647a0451dd",
   "metadata": {},
   "outputs": [
    {
     "data": {
      "text/plain": [
       "True"
      ]
     },
     "execution_count": 74,
     "metadata": {},
     "output_type": "execute_result"
    }
   ],
   "source": [
    "2 != 3"
   ]
  },
  {
   "cell_type": "code",
   "execution_count": 75,
   "id": "6e5a4cb8-6cb2-4505-ab25-dbd0a82d5940",
   "metadata": {},
   "outputs": [
    {
     "data": {
      "text/plain": [
       "True"
      ]
     },
     "execution_count": 75,
     "metadata": {},
     "output_type": "execute_result"
    }
   ],
   "source": [
    "\"Rahul\" != \"rahul\""
   ]
  },
  {
   "cell_type": "code",
   "execution_count": 76,
   "id": "fabfd2a4-42b7-4ef6-baf9-6bdb27495d9f",
   "metadata": {},
   "outputs": [
    {
     "data": {
      "text/plain": [
       "False"
      ]
     },
     "execution_count": 76,
     "metadata": {},
     "output_type": "execute_result"
    }
   ],
   "source": [
    "\"rahul\" != \"rahul\""
   ]
  },
  {
   "cell_type": "code",
   "execution_count": null,
   "id": "a97cb390-118f-454c-aa9d-0cfceedcf70a",
   "metadata": {},
   "outputs": [],
   "source": []
  },
  {
   "cell_type": "code",
   "execution_count": 77,
   "id": "928b24f2-9b83-45a4-b8ac-3793722f7968",
   "metadata": {},
   "outputs": [],
   "source": [
    "# < and > operator"
   ]
  },
  {
   "cell_type": "code",
   "execution_count": 78,
   "id": "b281e55b-cfa7-4a2b-8e35-5db60874498f",
   "metadata": {},
   "outputs": [
    {
     "data": {
      "text/plain": [
       "False"
      ]
     },
     "execution_count": 78,
     "metadata": {},
     "output_type": "execute_result"
    }
   ],
   "source": [
    "2 > 3"
   ]
  },
  {
   "cell_type": "code",
   "execution_count": 79,
   "id": "29521a26-5663-423a-aee2-6342f3b3ac6d",
   "metadata": {},
   "outputs": [
    {
     "data": {
      "text/plain": [
       "False"
      ]
     },
     "execution_count": 79,
     "metadata": {},
     "output_type": "execute_result"
    }
   ],
   "source": [
    "3 < 2"
   ]
  },
  {
   "cell_type": "code",
   "execution_count": 80,
   "id": "cc921004-d3ae-4e77-b3f4-c231942ecb1d",
   "metadata": {},
   "outputs": [
    {
     "data": {
      "text/plain": [
       "False"
      ]
     },
     "execution_count": 80,
     "metadata": {},
     "output_type": "execute_result"
    }
   ],
   "source": [
    "3 > 3"
   ]
  },
  {
   "cell_type": "code",
   "execution_count": 81,
   "id": "c614dd53-dcff-46ef-bd30-9988e0c58444",
   "metadata": {},
   "outputs": [
    {
     "data": {
      "text/plain": [
       "True"
      ]
     },
     "execution_count": 81,
     "metadata": {},
     "output_type": "execute_result"
    }
   ],
   "source": [
    "3 == 3"
   ]
  },
  {
   "cell_type": "code",
   "execution_count": 82,
   "id": "93f961a1-207a-4c03-924a-d9189054245f",
   "metadata": {},
   "outputs": [
    {
     "data": {
      "text/plain": [
       "True"
      ]
     },
     "execution_count": 82,
     "metadata": {},
     "output_type": "execute_result"
    }
   ],
   "source": [
    "3 > 2"
   ]
  },
  {
   "cell_type": "code",
   "execution_count": null,
   "id": "93e234c6-5a3b-4254-a964-4cadcc8f7336",
   "metadata": {},
   "outputs": [],
   "source": []
  },
  {
   "cell_type": "code",
   "execution_count": 83,
   "id": "0d606d29-8161-4c36-b400-a079bef58b4b",
   "metadata": {},
   "outputs": [],
   "source": [
    "# <= and >= "
   ]
  },
  {
   "cell_type": "code",
   "execution_count": 84,
   "id": "10d840bb-be25-46c2-a6e6-1097f205c545",
   "metadata": {},
   "outputs": [
    {
     "data": {
      "text/plain": [
       "True"
      ]
     },
     "execution_count": 84,
     "metadata": {},
     "output_type": "execute_result"
    }
   ],
   "source": [
    "2 <= 2"
   ]
  },
  {
   "cell_type": "code",
   "execution_count": 85,
   "id": "0271f69f-fe64-4bc9-a739-827d2598d509",
   "metadata": {},
   "outputs": [
    {
     "data": {
      "text/plain": [
       "False"
      ]
     },
     "execution_count": 85,
     "metadata": {},
     "output_type": "execute_result"
    }
   ],
   "source": [
    "3 <= 2"
   ]
  },
  {
   "cell_type": "code",
   "execution_count": 86,
   "id": "0523c013-c8a9-4777-8c2b-8e074c5e5675",
   "metadata": {},
   "outputs": [
    {
     "data": {
      "text/plain": [
       "True"
      ]
     },
     "execution_count": 86,
     "metadata": {},
     "output_type": "execute_result"
    }
   ],
   "source": [
    "3 >= 2"
   ]
  },
  {
   "cell_type": "code",
   "execution_count": null,
   "id": "5521933b-c458-45e3-b487-9b104df3a824",
   "metadata": {},
   "outputs": [],
   "source": []
  },
  {
   "cell_type": "markdown",
   "id": "e1123558-265d-4c4a-a37f-8935065c1d80",
   "metadata": {},
   "source": [
    "## Assignment Operators\n",
    "- -=\n",
    "- +=\n",
    "- /=\n",
    "- *="
   ]
  },
  {
   "cell_type": "code",
   "execution_count": 87,
   "id": "74581c27-b723-4629-a68b-f3e56d649ffe",
   "metadata": {},
   "outputs": [],
   "source": [
    "s = \"String\""
   ]
  },
  {
   "cell_type": "code",
   "execution_count": 89,
   "id": "0f884b3e-93fe-493d-8157-7513d376e607",
   "metadata": {},
   "outputs": [],
   "source": [
    "contest = 75"
   ]
  },
  {
   "cell_type": "code",
   "execution_count": 90,
   "id": "4311daee-d6ab-40f9-8441-a1f79f1821ab",
   "metadata": {},
   "outputs": [],
   "source": [
    "grace_marks = 10"
   ]
  },
  {
   "cell_type": "code",
   "execution_count": 91,
   "id": "f44534bb-e95b-4585-b481-bfe131d00f64",
   "metadata": {},
   "outputs": [],
   "source": [
    "# This is same as: contest = contest + grace_marks\n",
    "contest += grace_marks "
   ]
  },
  {
   "cell_type": "code",
   "execution_count": 94,
   "id": "97427dac-ca61-429f-8bea-41673e615f04",
   "metadata": {},
   "outputs": [
    {
     "name": "stdout",
     "output_type": "stream",
     "text": [
      "85\n",
      "11\n",
      "2\n"
     ]
    }
   ],
   "source": [
    "print(contest)\n",
    "print(x)\n",
    "print(y)"
   ]
  },
  {
   "cell_type": "code",
   "execution_count": null,
   "id": "234de900-20ea-41bc-b1cf-c1cc1fdbdd71",
   "metadata": {},
   "outputs": [],
   "source": []
  },
  {
   "cell_type": "code",
   "execution_count": 95,
   "id": "ca62700f-4a71-4d42-b0af-cf61af68d5dc",
   "metadata": {},
   "outputs": [],
   "source": [
    "# Following code is same as :contest = contest - grace_marks\n",
    "contest -= grace_marks"
   ]
  },
  {
   "cell_type": "code",
   "execution_count": 96,
   "id": "de1b9627-8c5e-4fe5-848c-eed655c3f782",
   "metadata": {},
   "outputs": [
    {
     "name": "stdout",
     "output_type": "stream",
     "text": [
      "75\n"
     ]
    }
   ],
   "source": [
    "print(contest)"
   ]
  },
  {
   "cell_type": "code",
   "execution_count": null,
   "id": "0560e8f7-271a-418b-ab83-f64b6af936a2",
   "metadata": {},
   "outputs": [],
   "source": []
  },
  {
   "cell_type": "code",
   "execution_count": 97,
   "id": "9f649279-09fc-49ef-9562-d8d9b5be1907",
   "metadata": {},
   "outputs": [],
   "source": [
    "# Try rest of the operators"
   ]
  },
  {
   "cell_type": "code",
   "execution_count": null,
   "id": "ce6733e1-4e42-44a4-80b6-a6aaaae4256f",
   "metadata": {},
   "outputs": [],
   "source": []
  },
  {
   "cell_type": "code",
   "execution_count": 98,
   "id": "b530a439-1747-4805-96fe-ee554ec8015f",
   "metadata": {},
   "outputs": [],
   "source": [
    "## More type conversion: Typecasting"
   ]
  },
  {
   "cell_type": "code",
   "execution_count": 99,
   "id": "3115e76b-576d-4bbc-9c1a-71d7a5e1352c",
   "metadata": {},
   "outputs": [],
   "source": [
    "# int -> float"
   ]
  },
  {
   "cell_type": "code",
   "execution_count": 100,
   "id": "4c342acd-77fb-4ff3-a4b0-5bb83ffcde0b",
   "metadata": {},
   "outputs": [],
   "source": [
    "x = 2"
   ]
  },
  {
   "cell_type": "code",
   "execution_count": 101,
   "id": "7b02c84a-aff3-44e4-9292-17f324b71df0",
   "metadata": {},
   "outputs": [
    {
     "data": {
      "text/plain": [
       "int"
      ]
     },
     "execution_count": 101,
     "metadata": {},
     "output_type": "execute_result"
    }
   ],
   "source": [
    "type(x)"
   ]
  },
  {
   "cell_type": "code",
   "execution_count": 102,
   "id": "167d9229-3cd1-43c6-ad39-6edb75867e1d",
   "metadata": {},
   "outputs": [
    {
     "data": {
      "text/plain": [
       "2.0"
      ]
     },
     "execution_count": 102,
     "metadata": {},
     "output_type": "execute_result"
    }
   ],
   "source": [
    "float(2)"
   ]
  },
  {
   "cell_type": "code",
   "execution_count": null,
   "id": "09884f8e-b3f9-4956-9a83-3566111659ec",
   "metadata": {},
   "outputs": [],
   "source": []
  },
  {
   "cell_type": "code",
   "execution_count": 103,
   "id": "3ab3bdc5-1805-43db-b7d9-dce7f496331d",
   "metadata": {},
   "outputs": [],
   "source": [
    "# float -> int"
   ]
  },
  {
   "cell_type": "code",
   "execution_count": 104,
   "id": "30ae3afb-e1b5-4f50-a1fb-5474c86cd071",
   "metadata": {},
   "outputs": [
    {
     "data": {
      "text/plain": [
       "3"
      ]
     },
     "execution_count": 104,
     "metadata": {},
     "output_type": "execute_result"
    }
   ],
   "source": [
    "int(3.5)"
   ]
  },
  {
   "cell_type": "code",
   "execution_count": null,
   "id": "8bdcacba-badd-4bb6-bf7a-6ff6d4e94ed7",
   "metadata": {},
   "outputs": [],
   "source": []
  },
  {
   "cell_type": "code",
   "execution_count": null,
   "id": "e93df2d3-f1f3-4846-bc1c-28dc4b809caf",
   "metadata": {},
   "outputs": [],
   "source": []
  },
  {
   "cell_type": "code",
   "execution_count": 105,
   "id": "3e3ff5f9-d8ae-4aaa-9f08-dfae2e9dc42d",
   "metadata": {},
   "outputs": [],
   "source": [
    "# int -> string"
   ]
  },
  {
   "cell_type": "code",
   "execution_count": 106,
   "id": "844c8fb8-d50c-43fd-a1d3-6232078a6dfa",
   "metadata": {},
   "outputs": [
    {
     "data": {
      "text/plain": [
       "'123'"
      ]
     },
     "execution_count": 106,
     "metadata": {},
     "output_type": "execute_result"
    }
   ],
   "source": [
    "str(123)"
   ]
  },
  {
   "cell_type": "code",
   "execution_count": 107,
   "id": "14fe7781-96f1-4a8e-ab0b-169aff1dc34d",
   "metadata": {},
   "outputs": [
    {
     "data": {
      "text/plain": [
       "'3.4'"
      ]
     },
     "execution_count": 107,
     "metadata": {},
     "output_type": "execute_result"
    }
   ],
   "source": [
    "str(3.4)"
   ]
  },
  {
   "cell_type": "code",
   "execution_count": null,
   "id": "6d0ed605-43bc-4ef3-9df4-4dc7b12f1fa0",
   "metadata": {},
   "outputs": [],
   "source": []
  },
  {
   "cell_type": "code",
   "execution_count": 108,
   "id": "0719e94e-c7da-4e2d-8338-5523fa0547b0",
   "metadata": {},
   "outputs": [],
   "source": [
    "# string -> int"
   ]
  },
  {
   "cell_type": "code",
   "execution_count": 109,
   "id": "6d8a9ee9-48f6-4371-b089-ac059998db1a",
   "metadata": {},
   "outputs": [],
   "source": [
    "# Only when string is purely integer"
   ]
  },
  {
   "cell_type": "code",
   "execution_count": 110,
   "id": "56835388-d1f0-4eac-8a01-e31dc1b02cfa",
   "metadata": {},
   "outputs": [
    {
     "data": {
      "text/plain": [
       "2"
      ]
     },
     "execution_count": 110,
     "metadata": {},
     "output_type": "execute_result"
    }
   ],
   "source": [
    "int('2')"
   ]
  },
  {
   "cell_type": "code",
   "execution_count": 111,
   "id": "0c90f07b-7c1c-448c-a874-0127ce379415",
   "metadata": {},
   "outputs": [
    {
     "ename": "ValueError",
     "evalue": "invalid literal for int() with base 10: '2.5'",
     "output_type": "error",
     "traceback": [
      "\u001b[0;31m---------------------------------------------------------------------------\u001b[0m",
      "\u001b[0;31mValueError\u001b[0m                                Traceback (most recent call last)",
      "\u001b[0;32m/var/folders/t5/yhjgrjs907zfp250jyxtw54m0000gn/T/ipykernel_66388/4170593305.py\u001b[0m in \u001b[0;36m<module>\u001b[0;34m\u001b[0m\n\u001b[0;32m----> 1\u001b[0;31m \u001b[0mint\u001b[0m\u001b[0;34m(\u001b[0m\u001b[0;34m'2.5'\u001b[0m\u001b[0;34m)\u001b[0m\u001b[0;34m\u001b[0m\u001b[0;34m\u001b[0m\u001b[0m\n\u001b[0m",
      "\u001b[0;31mValueError\u001b[0m: invalid literal for int() with base 10: '2.5'"
     ]
    }
   ],
   "source": [
    "int('2.5')"
   ]
  },
  {
   "cell_type": "code",
   "execution_count": 113,
   "id": "c1dc5002-5cf1-4bb9-993e-9a7f86834d4f",
   "metadata": {},
   "outputs": [
    {
     "data": {
      "text/plain": [
       "2"
      ]
     },
     "execution_count": 113,
     "metadata": {},
     "output_type": "execute_result"
    }
   ],
   "source": [
    "int(float('2.5'))"
   ]
  },
  {
   "cell_type": "code",
   "execution_count": null,
   "id": "9776a694-eb85-4560-b15f-78524e411901",
   "metadata": {},
   "outputs": [],
   "source": []
  },
  {
   "cell_type": "code",
   "execution_count": 114,
   "id": "238cff9f-a7e3-4cdf-b4e7-4d03289656c2",
   "metadata": {},
   "outputs": [],
   "source": [
    "# more on bool"
   ]
  },
  {
   "cell_type": "code",
   "execution_count": 115,
   "id": "2e5e1734-c372-4b01-b635-7b8d35c3d3c0",
   "metadata": {},
   "outputs": [],
   "source": [
    "# False -> 0 - int, 0.0 - float, \"\" - string"
   ]
  },
  {
   "cell_type": "code",
   "execution_count": 116,
   "id": "f0d735ba-ac27-4b20-b7b2-fbb6caef1cfb",
   "metadata": {},
   "outputs": [
    {
     "data": {
      "text/plain": [
       "False"
      ]
     },
     "execution_count": 116,
     "metadata": {},
     "output_type": "execute_result"
    }
   ],
   "source": [
    "bool(0)"
   ]
  },
  {
   "cell_type": "code",
   "execution_count": 117,
   "id": "f08ca8a6-13c6-4f11-a085-f5806b84cee9",
   "metadata": {},
   "outputs": [
    {
     "data": {
      "text/plain": [
       "True"
      ]
     },
     "execution_count": 117,
     "metadata": {},
     "output_type": "execute_result"
    }
   ],
   "source": [
    "bool(1)"
   ]
  },
  {
   "cell_type": "code",
   "execution_count": 118,
   "id": "c7c09d90-320e-4da9-b185-5b054957a26a",
   "metadata": {},
   "outputs": [
    {
     "data": {
      "text/plain": [
       "True"
      ]
     },
     "execution_count": 118,
     "metadata": {},
     "output_type": "execute_result"
    }
   ],
   "source": [
    "bool(-12312)"
   ]
  },
  {
   "cell_type": "code",
   "execution_count": null,
   "id": "3e04db0a-4bdd-490e-82a6-5e0134d7e9a5",
   "metadata": {},
   "outputs": [],
   "source": []
  },
  {
   "cell_type": "code",
   "execution_count": 119,
   "id": "f19d55e4-2140-4452-8002-d029243c0ef4",
   "metadata": {},
   "outputs": [
    {
     "data": {
      "text/plain": [
       "False"
      ]
     },
     "execution_count": 119,
     "metadata": {},
     "output_type": "execute_result"
    }
   ],
   "source": [
    "bool(0.0)"
   ]
  },
  {
   "cell_type": "code",
   "execution_count": 120,
   "id": "81c46e9d-40aa-44ee-95e0-b9cbee367d2d",
   "metadata": {},
   "outputs": [
    {
     "data": {
      "text/plain": [
       "True"
      ]
     },
     "execution_count": 120,
     "metadata": {},
     "output_type": "execute_result"
    }
   ],
   "source": [
    "bool(1231.11)"
   ]
  },
  {
   "cell_type": "code",
   "execution_count": null,
   "id": "c6f15370-03af-4b58-98bd-49d33e8e6b81",
   "metadata": {},
   "outputs": [],
   "source": []
  },
  {
   "cell_type": "code",
   "execution_count": 121,
   "id": "c191aa99-4f42-4999-b812-b2f033548d8e",
   "metadata": {},
   "outputs": [
    {
     "data": {
      "text/plain": [
       "False"
      ]
     },
     "execution_count": 121,
     "metadata": {},
     "output_type": "execute_result"
    }
   ],
   "source": [
    "bool(\"\")"
   ]
  },
  {
   "cell_type": "code",
   "execution_count": 122,
   "id": "9cf46d8a-bbf1-42da-900d-d750dbf2c2be",
   "metadata": {},
   "outputs": [
    {
     "data": {
      "text/plain": [
       "True"
      ]
     },
     "execution_count": 122,
     "metadata": {},
     "output_type": "execute_result"
    }
   ],
   "source": [
    "bool(\"jkagfjkagdfoih2oi3u09qoydqufg2398uiqwrhfd832\")"
   ]
  },
  {
   "cell_type": "code",
   "execution_count": 123,
   "id": "6d8368e9-3b50-4e3d-a36a-73e8c28c3cfd",
   "metadata": {},
   "outputs": [
    {
     "data": {
      "text/plain": [
       "True"
      ]
     },
     "execution_count": 123,
     "metadata": {},
     "output_type": "execute_result"
    }
   ],
   "source": [
    "bool(\" \")"
   ]
  },
  {
   "cell_type": "code",
   "execution_count": null,
   "id": "e4c51690-607b-46f1-8090-471ebf58b423",
   "metadata": {},
   "outputs": [],
   "source": []
  },
  {
   "cell_type": "code",
   "execution_count": null,
   "id": "3b612756-05e6-4932-a6ec-ccd3ff3bc58c",
   "metadata": {},
   "outputs": [],
   "source": []
  },
  {
   "cell_type": "code",
   "execution_count": 124,
   "id": "4ebd2725-6530-41e8-b639-15e4dbb2225b",
   "metadata": {},
   "outputs": [],
   "source": [
    "# Converting input into boolean?"
   ]
  },
  {
   "cell_type": "code",
   "execution_count": 126,
   "id": "8e4f9d47-0f1e-4430-aae7-407d52657929",
   "metadata": {},
   "outputs": [
    {
     "name": "stdin",
     "output_type": "stream",
     "text": [
      " rahul\n"
     ]
    }
   ],
   "source": [
    "x = input()"
   ]
  },
  {
   "cell_type": "code",
   "execution_count": 129,
   "id": "09b98229-e0b8-4927-b323-3c59739f7ba3",
   "metadata": {},
   "outputs": [
    {
     "name": "stdin",
     "output_type": "stream",
     "text": [
      " ra\n"
     ]
    }
   ],
   "source": [
    "x = bool(input())"
   ]
  },
  {
   "cell_type": "code",
   "execution_count": 130,
   "id": "f1576c0b-5ac3-4367-bebd-36d666e25814",
   "metadata": {},
   "outputs": [
    {
     "data": {
      "text/plain": [
       "True"
      ]
     },
     "execution_count": 130,
     "metadata": {},
     "output_type": "execute_result"
    }
   ],
   "source": [
    "x"
   ]
  },
  {
   "cell_type": "code",
   "execution_count": 139,
   "id": "904356b1-116b-4619-9672-be13e0011d27",
   "metadata": {},
   "outputs": [
    {
     "name": "stdin",
     "output_type": "stream",
     "text": [
      " 1\n"
     ]
    }
   ],
   "source": [
    "x = bool(int(input()))"
   ]
  },
  {
   "cell_type": "code",
   "execution_count": 140,
   "id": "bf2de6f3-f8c7-47d4-8b6a-42b67f7fa45b",
   "metadata": {},
   "outputs": [
    {
     "data": {
      "text/plain": [
       "True"
      ]
     },
     "execution_count": 140,
     "metadata": {},
     "output_type": "execute_result"
    }
   ],
   "source": [
    "x"
   ]
  },
  {
   "cell_type": "code",
   "execution_count": null,
   "id": "bb7fc517-e2ee-454f-81d9-05609475f300",
   "metadata": {},
   "outputs": [],
   "source": []
  },
  {
   "cell_type": "code",
   "execution_count": null,
   "id": "dd34bb30-688e-445f-9d89-b7de200b18eb",
   "metadata": {},
   "outputs": [],
   "source": []
  },
  {
   "cell_type": "code",
   "execution_count": null,
   "id": "b88bc96b-b8fb-41f6-8534-a29fcd86da1e",
   "metadata": {},
   "outputs": [],
   "source": []
  },
  {
   "cell_type": "markdown",
   "id": "33ca2c35-266c-4906-aabe-61f33d24e210",
   "metadata": {},
   "source": [
    "### Logical Operators\n",
    "- and \n",
    "- or\n",
    "- not"
   ]
  },
  {
   "cell_type": "code",
   "execution_count": 141,
   "id": "48dd326f-e9d3-44bb-92e5-c38d3ff40f46",
   "metadata": {},
   "outputs": [],
   "source": [
    "# These are exclusive for boolean type"
   ]
  },
  {
   "cell_type": "code",
   "execution_count": 142,
   "id": "ba6db986-ea7e-4eed-a920-5c27f86f6bab",
   "metadata": {},
   "outputs": [
    {
     "data": {
      "text/plain": [
       "True"
      ]
     },
     "execution_count": 142,
     "metadata": {},
     "output_type": "execute_result"
    }
   ],
   "source": [
    "True and True"
   ]
  },
  {
   "cell_type": "code",
   "execution_count": 143,
   "id": "ea3f0a82-aeb3-443d-b9dd-f1b4094ca45a",
   "metadata": {},
   "outputs": [
    {
     "data": {
      "text/plain": [
       "False"
      ]
     },
     "execution_count": 143,
     "metadata": {},
     "output_type": "execute_result"
    }
   ],
   "source": [
    "False and True"
   ]
  },
  {
   "cell_type": "code",
   "execution_count": 144,
   "id": "143b63d4-030b-4ab9-abc0-c1e48ca0b233",
   "metadata": {},
   "outputs": [
    {
     "data": {
      "text/plain": [
       "True"
      ]
     },
     "execution_count": 144,
     "metadata": {},
     "output_type": "execute_result"
    }
   ],
   "source": [
    "False or True"
   ]
  },
  {
   "cell_type": "code",
   "execution_count": 145,
   "id": "5b675804-910d-4059-b05b-7aa4cb2a7a07",
   "metadata": {},
   "outputs": [
    {
     "data": {
      "text/plain": [
       "False"
      ]
     },
     "execution_count": 145,
     "metadata": {},
     "output_type": "execute_result"
    }
   ],
   "source": [
    "False or False"
   ]
  },
  {
   "cell_type": "code",
   "execution_count": 147,
   "id": "531c8f27-2793-4f32-aaac-a81e3c6aae06",
   "metadata": {},
   "outputs": [
    {
     "data": {
      "text/plain": [
       "False"
      ]
     },
     "execution_count": 147,
     "metadata": {},
     "output_type": "execute_result"
    }
   ],
   "source": [
    "not True"
   ]
  },
  {
   "cell_type": "code",
   "execution_count": 148,
   "id": "1e2e5ca3-0ba1-46b6-bfda-1dedd349451c",
   "metadata": {},
   "outputs": [
    {
     "data": {
      "text/plain": [
       "True"
      ]
     },
     "execution_count": 148,
     "metadata": {},
     "output_type": "execute_result"
    }
   ],
   "source": [
    "not False"
   ]
  },
  {
   "cell_type": "code",
   "execution_count": 151,
   "id": "09c13a33-4669-4ea6-a5a8-403b9e0da3c5",
   "metadata": {},
   "outputs": [
    {
     "data": {
      "text/plain": [
       "False"
      ]
     },
     "execution_count": 151,
     "metadata": {},
     "output_type": "execute_result"
    }
   ],
   "source": [
    "(1 >= 2) and (2 <= 1)"
   ]
  },
  {
   "cell_type": "code",
   "execution_count": 149,
   "id": "c29b6990-76cf-44e2-a77b-f9cb51d7e588",
   "metadata": {},
   "outputs": [
    {
     "data": {
      "text/plain": [
       "False"
      ]
     },
     "execution_count": 149,
     "metadata": {},
     "output_type": "execute_result"
    }
   ],
   "source": [
    "(1 >= 2)"
   ]
  },
  {
   "cell_type": "code",
   "execution_count": 150,
   "id": "c3ae3366-f185-4d84-8f08-26afbbd72fc8",
   "metadata": {},
   "outputs": [
    {
     "data": {
      "text/plain": [
       "False"
      ]
     },
     "execution_count": 150,
     "metadata": {},
     "output_type": "execute_result"
    }
   ],
   "source": [
    "(2 <= 1)"
   ]
  },
  {
   "cell_type": "code",
   "execution_count": 152,
   "id": "3220707c-12a7-483b-9e2a-508e5588d3b3",
   "metadata": {},
   "outputs": [
    {
     "data": {
      "text/plain": [
       "True"
      ]
     },
     "execution_count": 152,
     "metadata": {},
     "output_type": "execute_result"
    }
   ],
   "source": [
    "(3 > 2) and (5 >= 2)"
   ]
  },
  {
   "cell_type": "code",
   "execution_count": 155,
   "id": "c9becfc1-3d8c-4c80-bff5-8750a6dd7164",
   "metadata": {},
   "outputs": [
    {
     "data": {
      "text/plain": [
       "True"
      ]
     },
     "execution_count": 155,
     "metadata": {},
     "output_type": "execute_result"
    }
   ],
   "source": [
    "(5 % 2 == 1) and (6 % 2 == 0)"
   ]
  },
  {
   "cell_type": "code",
   "execution_count": 156,
   "id": "2099a37a-c189-41e2-9910-8bb81e40e56d",
   "metadata": {},
   "outputs": [
    {
     "data": {
      "text/plain": [
       "True"
      ]
     },
     "execution_count": 156,
     "metadata": {},
     "output_type": "execute_result"
    }
   ],
   "source": [
    "5 % 2 == 1"
   ]
  },
  {
   "cell_type": "code",
   "execution_count": 157,
   "id": "c091e2f4-4e43-4e91-b3a3-0cc749dbc6bb",
   "metadata": {},
   "outputs": [
    {
     "data": {
      "text/plain": [
       "True"
      ]
     },
     "execution_count": 157,
     "metadata": {},
     "output_type": "execute_result"
    }
   ],
   "source": [
    "6 % 2 == 0"
   ]
  },
  {
   "cell_type": "code",
   "execution_count": null,
   "id": "6889c559-53fa-42a3-a1a5-1590e7da3460",
   "metadata": {},
   "outputs": [],
   "source": []
  },
  {
   "cell_type": "code",
   "execution_count": null,
   "id": "6ef5f2d3-a52b-4d4d-b251-6bf3ff9ccdf3",
   "metadata": {},
   "outputs": [],
   "source": []
  },
  {
   "cell_type": "code",
   "execution_count": null,
   "id": "2bbfe2b3-4a7d-43fa-81df-3db2b197efea",
   "metadata": {},
   "outputs": [],
   "source": []
  },
  {
   "cell_type": "code",
   "execution_count": null,
   "id": "f35e571a-3b14-414d-b0f3-f4e04a1e06fa",
   "metadata": {},
   "outputs": [],
   "source": []
  },
  {
   "cell_type": "code",
   "execution_count": null,
   "id": "b8a35905-bc08-4513-b0e6-c4d42de3087e",
   "metadata": {},
   "outputs": [],
   "source": []
  },
  {
   "cell_type": "code",
   "execution_count": null,
   "id": "5698b96e-e570-4ee6-92ab-433cae20415f",
   "metadata": {},
   "outputs": [],
   "source": []
  },
  {
   "cell_type": "code",
   "execution_count": null,
   "id": "68786caa-8bda-4ac1-bef3-23bd1bc192a4",
   "metadata": {},
   "outputs": [],
   "source": []
  },
  {
   "cell_type": "code",
   "execution_count": null,
   "id": "bef479e7-e971-4a9c-a609-07c15d08f1fa",
   "metadata": {},
   "outputs": [],
   "source": []
  },
  {
   "cell_type": "code",
   "execution_count": null,
   "id": "5db1d47e-1174-4326-ba64-423e5cef2317",
   "metadata": {},
   "outputs": [],
   "source": []
  },
  {
   "cell_type": "code",
   "execution_count": null,
   "id": "9e66bd8f-63fa-4e43-a6a8-6e26d9e4b8c0",
   "metadata": {},
   "outputs": [],
   "source": []
  }
 ],
 "metadata": {
  "kernelspec": {
   "display_name": "Python 3 (ipykernel)",
   "language": "python",
   "name": "python3"
  },
  "language_info": {
   "codemirror_mode": {
    "name": "ipython",
    "version": 3
   },
   "file_extension": ".py",
   "mimetype": "text/x-python",
   "name": "python",
   "nbconvert_exporter": "python",
   "pygments_lexer": "ipython3",
   "version": "3.9.7"
  }
 },
 "nbformat": 4,
 "nbformat_minor": 5
}
