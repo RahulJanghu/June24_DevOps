{
 "cells": [
  {
   "cell_type": "markdown",
   "id": "82929f8f-e4bd-4641-a779-daba094b4ea6",
   "metadata": {},
   "source": [
    "### ASCII values\n",
    "- ord\n",
    "- chr"
   ]
  },
  {
   "cell_type": "code",
   "execution_count": 1,
   "id": "cea39787-80be-4970-9164-49aa5abcfc40",
   "metadata": {},
   "outputs": [],
   "source": [
    "# small has big value and big has small value"
   ]
  },
  {
   "cell_type": "code",
   "execution_count": 2,
   "id": "268ac6bc-c2d1-4c29-9706-7f10134e3a3f",
   "metadata": {},
   "outputs": [
    {
     "data": {
      "text/plain": [
       "97"
      ]
     },
     "execution_count": 2,
     "metadata": {},
     "output_type": "execute_result"
    }
   ],
   "source": [
    "ord('a')"
   ]
  },
  {
   "cell_type": "code",
   "execution_count": 3,
   "id": "414cf39a-23fe-4eb0-b7d9-6ceb928e3efe",
   "metadata": {},
   "outputs": [
    {
     "data": {
      "text/plain": [
       "121"
      ]
     },
     "execution_count": 3,
     "metadata": {},
     "output_type": "execute_result"
    }
   ],
   "source": [
    "ord('y')"
   ]
  },
  {
   "cell_type": "code",
   "execution_count": 4,
   "id": "8575147d-c10e-48f8-a13b-7929bc22949e",
   "metadata": {},
   "outputs": [
    {
     "data": {
      "text/plain": [
       "89"
      ]
     },
     "execution_count": 4,
     "metadata": {},
     "output_type": "execute_result"
    }
   ],
   "source": [
    "ord('Y')"
   ]
  },
  {
   "cell_type": "code",
   "execution_count": null,
   "id": "dbde715c-8145-442d-8d32-d3889098d5ba",
   "metadata": {},
   "outputs": [],
   "source": []
  },
  {
   "cell_type": "code",
   "execution_count": 5,
   "id": "1e5a61b1-3522-4db7-a232-cb403c8404f5",
   "metadata": {},
   "outputs": [],
   "source": [
    "# chr function is used to get the character value associated with integer"
   ]
  },
  {
   "cell_type": "code",
   "execution_count": 6,
   "id": "880b21bf-a221-4578-8100-37356fe3d8a8",
   "metadata": {},
   "outputs": [
    {
     "data": {
      "text/plain": [
       "'\\x01'"
      ]
     },
     "execution_count": 6,
     "metadata": {},
     "output_type": "execute_result"
    }
   ],
   "source": [
    "chr(1)"
   ]
  },
  {
   "cell_type": "code",
   "execution_count": 7,
   "id": "08322c1b-f615-47fc-95c3-7736bf929973",
   "metadata": {},
   "outputs": [
    {
     "data": {
      "text/plain": [
       "'A'"
      ]
     },
     "execution_count": 7,
     "metadata": {},
     "output_type": "execute_result"
    }
   ],
   "source": [
    "chr(65)"
   ]
  },
  {
   "cell_type": "code",
   "execution_count": 10,
   "id": "077d1a2d-9f12-4f80-901c-214100d0248d",
   "metadata": {},
   "outputs": [
    {
     "data": {
      "text/plain": [
       "'2'"
      ]
     },
     "execution_count": 10,
     "metadata": {},
     "output_type": "execute_result"
    }
   ],
   "source": [
    "chr(50)"
   ]
  },
  {
   "cell_type": "code",
   "execution_count": 12,
   "id": "54a95124-159d-4130-a254-e93fe77141d6",
   "metadata": {},
   "outputs": [
    {
     "data": {
      "text/plain": [
       "'b'"
      ]
     },
     "execution_count": 12,
     "metadata": {},
     "output_type": "execute_result"
    }
   ],
   "source": [
    "chr(98)"
   ]
  },
  {
   "cell_type": "code",
   "execution_count": 15,
   "id": "1b150a07-baaf-4d0e-86ab-e709ae35b205",
   "metadata": {},
   "outputs": [
    {
     "data": {
      "text/plain": [
       "20313"
      ]
     },
     "execution_count": 15,
     "metadata": {},
     "output_type": "execute_result"
    }
   ],
   "source": [
    "ord('余')"
   ]
  },
  {
   "cell_type": "code",
   "execution_count": null,
   "id": "982fffff-d7b7-49f8-845d-13fbd0a532bd",
   "metadata": {},
   "outputs": [],
   "source": []
  },
  {
   "cell_type": "markdown",
   "id": "3ea30a65-62b8-4ab6-8da5-18f300095e02",
   "metadata": {},
   "source": [
    "### String formatting"
   ]
  },
  {
   "cell_type": "code",
   "execution_count": 16,
   "id": "d503681c-8109-4648-986f-7bf5ed872b61",
   "metadata": {},
   "outputs": [],
   "source": [
    "l = 5\n",
    "b = 10\n",
    "area = l * b"
   ]
  },
  {
   "cell_type": "code",
   "execution_count": 17,
   "id": "c0684099-ba6b-4650-a492-2a754ae79c18",
   "metadata": {},
   "outputs": [
    {
     "name": "stdout",
     "output_type": "stream",
     "text": [
      "Length of rectangle is 5 breadth is 10 and area is 50\n"
     ]
    }
   ],
   "source": [
    "print(\"Length of rectangle is\", l, \"breadth is\", b, \"and area is\", area)"
   ]
  },
  {
   "cell_type": "code",
   "execution_count": 18,
   "id": "c22c648c-f935-4fbe-8c05-67b2a7228540",
   "metadata": {},
   "outputs": [],
   "source": [
    "# We can make this string easy to read by string formatting"
   ]
  },
  {
   "cell_type": "code",
   "execution_count": 21,
   "id": "2a734a12-784e-4cc8-9296-9b3b1f34ad2e",
   "metadata": {},
   "outputs": [
    {
     "name": "stdout",
     "output_type": "stream",
     "text": [
      "Length of rectange is 5 breadth is 10 and area is 50.\n"
     ]
    }
   ],
   "source": [
    "print(f\"Length of rectange is {l} breadth is {b} and area is {area}.\")"
   ]
  },
  {
   "cell_type": "code",
   "execution_count": null,
   "id": "4bf7fc7f-f4d3-48c2-80ea-354514d83e01",
   "metadata": {},
   "outputs": [],
   "source": []
  },
  {
   "cell_type": "code",
   "execution_count": 22,
   "id": "eecd0c5b-47fb-4312-9154-e367d89c0950",
   "metadata": {},
   "outputs": [],
   "source": [
    "def intro(name, place):\n",
    "    print(f\"My name is {name} and I live in {place}.\")"
   ]
  },
  {
   "cell_type": "code",
   "execution_count": 23,
   "id": "3850ff18-b66d-4802-b113-3b1943bc81bb",
   "metadata": {},
   "outputs": [
    {
     "name": "stdout",
     "output_type": "stream",
     "text": [
      "My name is Rahul and I live in Gurgaon.\n"
     ]
    }
   ],
   "source": [
    "intro(\"Rahul\", \"Gurgaon\")"
   ]
  },
  {
   "cell_type": "code",
   "execution_count": null,
   "id": "d3cbb3d2-5819-4892-8237-bf6c23d86c57",
   "metadata": {},
   "outputs": [],
   "source": []
  },
  {
   "cell_type": "code",
   "execution_count": 24,
   "id": "88ae8c50-a95d-4f34-bf6d-ee35c3fc904e",
   "metadata": {},
   "outputs": [],
   "source": [
    "# Concatenation"
   ]
  },
  {
   "cell_type": "code",
   "execution_count": 25,
   "id": "a90580f2-792f-4a59-ab1c-802515daac56",
   "metadata": {},
   "outputs": [],
   "source": [
    "first_name = \"Rahul\"\n",
    "last_last = \"Janghu\""
   ]
  },
  {
   "cell_type": "code",
   "execution_count": 26,
   "id": "cdbd3a38-f8f6-49d4-bd03-6c6ad83525c4",
   "metadata": {},
   "outputs": [
    {
     "data": {
      "text/plain": [
       "'RahulJanghu'"
      ]
     },
     "execution_count": 26,
     "metadata": {},
     "output_type": "execute_result"
    }
   ],
   "source": [
    "first_name + last_last"
   ]
  },
  {
   "cell_type": "code",
   "execution_count": 27,
   "id": "8a209416-c87a-458a-9962-5198c7d75d36",
   "metadata": {},
   "outputs": [
    {
     "data": {
      "text/plain": [
       "'aaaaa'"
      ]
     },
     "execution_count": 27,
     "metadata": {},
     "output_type": "execute_result"
    }
   ],
   "source": [
    "\"a\" * 5"
   ]
  },
  {
   "cell_type": "code",
   "execution_count": null,
   "id": "04c696fd-1366-4d53-b8fe-745f016d8c3d",
   "metadata": {},
   "outputs": [],
   "source": []
  },
  {
   "cell_type": "markdown",
   "id": "a68ecded-8c0d-4cf6-8969-b840aabbc70b",
   "metadata": {},
   "source": [
    "# Intro to 'Strings'\n",
    "- Inbuilt Functions:\n",
    "- len\n",
    "- capitalize\n",
    "- title\n",
    "- count\n",
    "- replace\n",
    "- split"
   ]
  },
  {
   "cell_type": "code",
   "execution_count": 29,
   "id": "887beb59-a383-4afd-8a68-ef9819257adb",
   "metadata": {},
   "outputs": [],
   "source": [
    "# len"
   ]
  },
  {
   "cell_type": "code",
   "execution_count": 32,
   "id": "48f0041f-63e5-47df-88d5-785ed08755bb",
   "metadata": {},
   "outputs": [
    {
     "name": "stdout",
     "output_type": "stream",
     "text": [
      "12\n"
     ]
    }
   ],
   "source": [
    "s = \"Rahul Janghu\"\n",
    "\n",
    "print(len(s))"
   ]
  },
  {
   "cell_type": "code",
   "execution_count": null,
   "id": "9e4b9020-468b-41bd-9f9a-96fb08aff2d1",
   "metadata": {},
   "outputs": [],
   "source": []
  },
  {
   "cell_type": "code",
   "execution_count": 33,
   "id": "926addca-4d69-45ae-a13d-98433c1a7dab",
   "metadata": {},
   "outputs": [],
   "source": [
    "# capitalize"
   ]
  },
  {
   "cell_type": "code",
   "execution_count": 35,
   "id": "475772d4-139d-4f8d-b9cc-5e62f34964ea",
   "metadata": {},
   "outputs": [],
   "source": [
    "name = \"rAHul jaNghu\""
   ]
  },
  {
   "cell_type": "code",
   "execution_count": 37,
   "id": "1b2da8fd-84d1-4491-9186-66e47a1ff096",
   "metadata": {},
   "outputs": [
    {
     "data": {
      "text/plain": [
       "'Rahul janghu'"
      ]
     },
     "execution_count": 37,
     "metadata": {},
     "output_type": "execute_result"
    }
   ],
   "source": [
    "name.capitalize()"
   ]
  },
  {
   "cell_type": "code",
   "execution_count": null,
   "id": "ee8d1d0e-a317-4486-a938-9f1a21cc3225",
   "metadata": {},
   "outputs": [],
   "source": []
  },
  {
   "cell_type": "code",
   "execution_count": 38,
   "id": "20a710f7-a898-4344-ab07-0658253b00ef",
   "metadata": {},
   "outputs": [],
   "source": [
    "# title"
   ]
  },
  {
   "cell_type": "code",
   "execution_count": 42,
   "id": "71cd0071-170d-406b-9c4b-ccf738cf16e9",
   "metadata": {},
   "outputs": [
    {
     "data": {
      "text/plain": [
       "'rAHul jaNghu'"
      ]
     },
     "execution_count": 42,
     "metadata": {},
     "output_type": "execute_result"
    }
   ],
   "source": [
    "name"
   ]
  },
  {
   "cell_type": "code",
   "execution_count": 41,
   "id": "3de7dbd1-aa86-40d2-a438-9f2441f2e30f",
   "metadata": {},
   "outputs": [
    {
     "data": {
      "text/plain": [
       "'Rahul Janghu'"
      ]
     },
     "execution_count": 41,
     "metadata": {},
     "output_type": "execute_result"
    }
   ],
   "source": [
    "name.title()"
   ]
  },
  {
   "cell_type": "code",
   "execution_count": null,
   "id": "f024149f-fa6e-4cb4-9eec-b8584ddf8da2",
   "metadata": {},
   "outputs": [],
   "source": []
  },
  {
   "cell_type": "code",
   "execution_count": 43,
   "id": "672e7799-f617-4132-8c67-5d181d30706e",
   "metadata": {},
   "outputs": [],
   "source": [
    "# count"
   ]
  },
  {
   "cell_type": "code",
   "execution_count": 44,
   "id": "1777943a-bf1d-4e7c-bf40-05acb6a4438a",
   "metadata": {},
   "outputs": [
    {
     "data": {
      "text/plain": [
       "'rAHul jaNghu'"
      ]
     },
     "execution_count": 44,
     "metadata": {},
     "output_type": "execute_result"
    }
   ],
   "source": [
    "name"
   ]
  },
  {
   "cell_type": "code",
   "execution_count": 47,
   "id": "726d3531-fab6-4977-b357-ba26f1eb2540",
   "metadata": {},
   "outputs": [
    {
     "data": {
      "text/plain": [
       "1"
      ]
     },
     "execution_count": 47,
     "metadata": {},
     "output_type": "execute_result"
    }
   ],
   "source": [
    "name.count('r')"
   ]
  },
  {
   "cell_type": "code",
   "execution_count": 48,
   "id": "8d553031-5e31-4cae-9cb6-92994058c313",
   "metadata": {},
   "outputs": [
    {
     "data": {
      "text/plain": [
       "0"
      ]
     },
     "execution_count": 48,
     "metadata": {},
     "output_type": "execute_result"
    }
   ],
   "source": [
    "name.count('R')"
   ]
  },
  {
   "cell_type": "code",
   "execution_count": 49,
   "id": "d0ea3935-232b-4c2d-ab6a-3ff7e89d239c",
   "metadata": {},
   "outputs": [
    {
     "data": {
      "text/plain": [
       "1"
      ]
     },
     "execution_count": 49,
     "metadata": {},
     "output_type": "execute_result"
    }
   ],
   "source": [
    "name.count('rAH')"
   ]
  },
  {
   "cell_type": "code",
   "execution_count": null,
   "id": "0316da64-8318-47ae-8bd3-edc34ffda945",
   "metadata": {},
   "outputs": [],
   "source": []
  },
  {
   "cell_type": "code",
   "execution_count": null,
   "id": "6e79f4ee-d854-4684-89f0-ca67568a4677",
   "metadata": {},
   "outputs": [],
   "source": []
  },
  {
   "cell_type": "code",
   "execution_count": null,
   "id": "9d3c5953-f379-4f4b-8c41-d49d7b95a6ba",
   "metadata": {},
   "outputs": [],
   "source": []
  },
  {
   "cell_type": "code",
   "execution_count": 50,
   "id": "859b37d4-a88e-4ec3-b1a0-493a6358375f",
   "metadata": {},
   "outputs": [],
   "source": [
    "# replace"
   ]
  },
  {
   "cell_type": "code",
   "execution_count": 51,
   "id": "eb1f9f56-05bb-4296-a5a8-74b1bc894301",
   "metadata": {},
   "outputs": [],
   "source": [
    "# replace(old, new)"
   ]
  },
  {
   "cell_type": "code",
   "execution_count": 52,
   "id": "703d2089-e57a-4a2e-ac1d-152f3fa3626c",
   "metadata": {},
   "outputs": [
    {
     "data": {
      "text/plain": [
       "'rAHul jaNghu'"
      ]
     },
     "execution_count": 52,
     "metadata": {},
     "output_type": "execute_result"
    }
   ],
   "source": [
    "name"
   ]
  },
  {
   "cell_type": "code",
   "execution_count": 54,
   "id": "6f0947ae-39e2-428d-a75c-3891decd3dc7",
   "metadata": {},
   "outputs": [
    {
     "data": {
      "text/plain": [
       "'RAhul JAnghu'"
      ]
     },
     "execution_count": 54,
     "metadata": {},
     "output_type": "execute_result"
    }
   ],
   "source": [
    "\"Rahul Janghu\".replace('a', 'A')"
   ]
  },
  {
   "cell_type": "code",
   "execution_count": 55,
   "id": "17b90efb-c5f0-4988-a8c5-988a8c2dd766",
   "metadata": {},
   "outputs": [
    {
     "data": {
      "text/plain": [
       "'raHul jaNghu'"
      ]
     },
     "execution_count": 55,
     "metadata": {},
     "output_type": "execute_result"
    }
   ],
   "source": [
    "name.replace('A', 'a')"
   ]
  },
  {
   "cell_type": "code",
   "execution_count": 56,
   "id": "9d7eea30-e5ff-491f-a54e-460792ee2b28",
   "metadata": {},
   "outputs": [
    {
     "data": {
      "text/plain": [
       "'rAHul jaNghu'"
      ]
     },
     "execution_count": 56,
     "metadata": {},
     "output_type": "execute_result"
    }
   ],
   "source": [
    "name"
   ]
  },
  {
   "cell_type": "code",
   "execution_count": 59,
   "id": "00e12bb7-ee1f-4b5f-acde-00eb05907b96",
   "metadata": {},
   "outputs": [
    {
     "data": {
      "text/plain": [
       "'AAAAA'"
      ]
     },
     "execution_count": 59,
     "metadata": {},
     "output_type": "execute_result"
    }
   ],
   "source": [
    "\"aaaaa\".replace('a', \"A\")"
   ]
  },
  {
   "cell_type": "code",
   "execution_count": null,
   "id": "4c8529ec-f93c-4968-8999-2fad887c8e86",
   "metadata": {},
   "outputs": [],
   "source": []
  },
  {
   "cell_type": "code",
   "execution_count": 57,
   "id": "e5a7f415-5a32-4b0e-93b7-a91b2023188b",
   "metadata": {},
   "outputs": [],
   "source": [
    "# split"
   ]
  },
  {
   "cell_type": "code",
   "execution_count": 60,
   "id": "99f5080d-2d41-47b3-99c7-c001e2ed93cf",
   "metadata": {},
   "outputs": [],
   "source": [
    "name = \"Rahul Janghu\""
   ]
  },
  {
   "cell_type": "code",
   "execution_count": 61,
   "id": "bf2ff0d2-d815-4715-8694-92fdaf6fd0cc",
   "metadata": {},
   "outputs": [
    {
     "data": {
      "text/plain": [
       "['Rahul', 'Janghu']"
      ]
     },
     "execution_count": 61,
     "metadata": {},
     "output_type": "execute_result"
    }
   ],
   "source": [
    "name.split()"
   ]
  },
  {
   "cell_type": "code",
   "execution_count": 64,
   "id": "ea875a51-a050-4ee6-b240-eeefdee5a16e",
   "metadata": {},
   "outputs": [
    {
     "name": "stdin",
     "output_type": "stream",
     "text": [
      " 1 2 3 4 5\n"
     ]
    }
   ],
   "source": [
    "numbers = input()"
   ]
  },
  {
   "cell_type": "code",
   "execution_count": 67,
   "id": "2edc397f-375e-470c-a74b-913e33d5013a",
   "metadata": {},
   "outputs": [
    {
     "data": {
      "text/plain": [
       "['1', '2', '3', '4', '5']"
      ]
     },
     "execution_count": 67,
     "metadata": {},
     "output_type": "execute_result"
    }
   ],
   "source": [
    "numbers.split()"
   ]
  },
  {
   "cell_type": "code",
   "execution_count": 70,
   "id": "620c0363-598b-4e1e-a7a4-a077b7ddc512",
   "metadata": {},
   "outputs": [
    {
     "data": {
      "text/plain": [
       "'Rahul Janghu'"
      ]
     },
     "execution_count": 70,
     "metadata": {},
     "output_type": "execute_result"
    }
   ],
   "source": [
    "name"
   ]
  },
  {
   "cell_type": "code",
   "execution_count": 69,
   "id": "dc74eb21-e698-4f4c-ab71-99f1df391e37",
   "metadata": {},
   "outputs": [
    {
     "data": {
      "text/plain": [
       "['R', 'hul J', 'nghu']"
      ]
     },
     "execution_count": 69,
     "metadata": {},
     "output_type": "execute_result"
    }
   ],
   "source": [
    "name.split(sep='a')"
   ]
  },
  {
   "cell_type": "code",
   "execution_count": 73,
   "id": "59a90111-1c92-4ee6-af9f-6174393be12c",
   "metadata": {},
   "outputs": [
    {
     "data": {
      "text/plain": [
       "['Rahul Janghu']"
      ]
     },
     "execution_count": 73,
     "metadata": {},
     "output_type": "execute_result"
    }
   ],
   "source": [
    "name.split(sep=\"@\")"
   ]
  },
  {
   "cell_type": "code",
   "execution_count": null,
   "id": "9f4b7d92-ddef-4ad0-8826-a7287119d6b6",
   "metadata": {},
   "outputs": [],
   "source": []
  },
  {
   "cell_type": "code",
   "execution_count": 71,
   "id": "5148b1e6-18bf-409b-b5ca-fe274177b734",
   "metadata": {},
   "outputs": [],
   "source": [
    "# Join"
   ]
  },
  {
   "cell_type": "code",
   "execution_count": 74,
   "id": "711123ab-2b67-4df0-9b83-ff8780f5dea5",
   "metadata": {},
   "outputs": [],
   "source": [
    "l = ['R', 'a', 'h', 'u', 'l']"
   ]
  },
  {
   "cell_type": "code",
   "execution_count": 75,
   "id": "96b8416f-e135-4518-b88d-ab19b45b59f9",
   "metadata": {},
   "outputs": [
    {
     "data": {
      "text/plain": [
       "'Rahul'"
      ]
     },
     "execution_count": 75,
     "metadata": {},
     "output_type": "execute_result"
    }
   ],
   "source": [
    "\"\".join(l)"
   ]
  },
  {
   "cell_type": "code",
   "execution_count": 76,
   "id": "f5618c70-77d9-4c20-820b-69e0d58282c5",
   "metadata": {},
   "outputs": [
    {
     "data": {
      "text/plain": [
       "'R -> a -> h -> u -> l'"
      ]
     },
     "execution_count": 76,
     "metadata": {},
     "output_type": "execute_result"
    }
   ],
   "source": [
    "\" -> \".join(l)"
   ]
  },
  {
   "cell_type": "code",
   "execution_count": 81,
   "id": "ca872a30-9e90-4de1-8239-7f53e41194d8",
   "metadata": {},
   "outputs": [
    {
     "data": {
      "text/plain": [
       "'R->a->h->u->l'"
      ]
     },
     "execution_count": 81,
     "metadata": {},
     "output_type": "execute_result"
    }
   ],
   "source": [
    "\"->\".join(\"Rahul\")"
   ]
  },
  {
   "cell_type": "code",
   "execution_count": null,
   "id": "4f3a46d5-5c60-4ae8-9930-bbf78b766674",
   "metadata": {},
   "outputs": [],
   "source": []
  },
  {
   "cell_type": "code",
   "execution_count": 82,
   "id": "55df8324-ba77-4629-864f-6d37ed952d1c",
   "metadata": {},
   "outputs": [],
   "source": [
    "# find"
   ]
  },
  {
   "cell_type": "code",
   "execution_count": 84,
   "id": "aacedb38-f8f8-47dc-8ded-e0a7f158102d",
   "metadata": {},
   "outputs": [
    {
     "data": {
      "text/plain": [
       "'Rahul Janghu'"
      ]
     },
     "execution_count": 84,
     "metadata": {},
     "output_type": "execute_result"
    }
   ],
   "source": [
    "name"
   ]
  },
  {
   "cell_type": "code",
   "execution_count": 85,
   "id": "aca51bfb-faac-43f4-bfc4-e62fe33563fb",
   "metadata": {},
   "outputs": [
    {
     "data": {
      "text/plain": [
       "1"
      ]
     },
     "execution_count": 85,
     "metadata": {},
     "output_type": "execute_result"
    }
   ],
   "source": [
    "name.find('a')"
   ]
  },
  {
   "cell_type": "code",
   "execution_count": 87,
   "id": "79057ac9-7fea-460c-bc4d-c55845b3f7ae",
   "metadata": {},
   "outputs": [
    {
     "data": {
      "text/plain": [
       "-1"
      ]
     },
     "execution_count": 87,
     "metadata": {},
     "output_type": "execute_result"
    }
   ],
   "source": [
    "name.find('r')"
   ]
  },
  {
   "cell_type": "code",
   "execution_count": 91,
   "id": "62409d64-07e1-4daf-bd57-f75529e02738",
   "metadata": {},
   "outputs": [
    {
     "data": {
      "text/plain": [
       "0"
      ]
     },
     "execution_count": 91,
     "metadata": {},
     "output_type": "execute_result"
    }
   ],
   "source": [
    "name.find('R')"
   ]
  },
  {
   "cell_type": "code",
   "execution_count": 92,
   "id": "3335c7c0-8616-452c-b401-b9c8b3c4a093",
   "metadata": {},
   "outputs": [
    {
     "data": {
      "text/plain": [
       "-1"
      ]
     },
     "execution_count": 92,
     "metadata": {},
     "output_type": "execute_result"
    }
   ],
   "source": [
    "name.find('@')"
   ]
  },
  {
   "cell_type": "code",
   "execution_count": 94,
   "id": "bfdef895-bf18-4d57-8aba-677f53828bba",
   "metadata": {},
   "outputs": [
    {
     "data": {
      "text/plain": [
       "'Rahul Janghu'"
      ]
     },
     "execution_count": 94,
     "metadata": {},
     "output_type": "execute_result"
    }
   ],
   "source": [
    "name"
   ]
  },
  {
   "cell_type": "code",
   "execution_count": 93,
   "id": "d0f6406a-30bc-4da5-9a73-7198ed466e9e",
   "metadata": {},
   "outputs": [
    {
     "data": {
      "text/plain": [
       "'u'"
      ]
     },
     "execution_count": 93,
     "metadata": {},
     "output_type": "execute_result"
    }
   ],
   "source": [
    "name[-1]"
   ]
  },
  {
   "cell_type": "code",
   "execution_count": 97,
   "id": "f8168f79-e252-4d9a-a592-0525aaa689fc",
   "metadata": {},
   "outputs": [
    {
     "data": {
      "text/plain": [
       "'rajA'"
      ]
     },
     "execution_count": 97,
     "metadata": {},
     "output_type": "execute_result"
    }
   ],
   "source": [
    "\"Ajar\"[::-1]"
   ]
  },
  {
   "cell_type": "code",
   "execution_count": 98,
   "id": "3c2ef505-803b-4cc2-875c-70f0edd6915b",
   "metadata": {},
   "outputs": [
    {
     "data": {
      "text/plain": [
       "5"
      ]
     },
     "execution_count": 98,
     "metadata": {},
     "output_type": "execute_result"
    }
   ],
   "source": [
    "name.find(' ')"
   ]
  },
  {
   "cell_type": "code",
   "execution_count": 100,
   "id": "0e9ce0c7-a5ed-4f5b-abee-c856cac5217f",
   "metadata": {},
   "outputs": [],
   "source": [
    "l = \"Chandan Kumar\".split()"
   ]
  },
  {
   "cell_type": "code",
   "execution_count": 102,
   "id": "1103cc6b-b2f2-4a28-8695-5612a441796d",
   "metadata": {},
   "outputs": [
    {
     "data": {
      "text/plain": [
       "['Chandan', 'Kumar']"
      ]
     },
     "execution_count": 102,
     "metadata": {},
     "output_type": "execute_result"
    }
   ],
   "source": [
    "l"
   ]
  },
  {
   "cell_type": "code",
   "execution_count": 101,
   "id": "e4f02511-ce88-42c1-bc41-2e0bf99c0dfc",
   "metadata": {},
   "outputs": [
    {
     "data": {
      "text/plain": [
       "'Kumar Chandan'"
      ]
     },
     "execution_count": 101,
     "metadata": {},
     "output_type": "execute_result"
    }
   ],
   "source": [
    "l[1] + \" \" + l[0]"
   ]
  },
  {
   "cell_type": "code",
   "execution_count": null,
   "id": "fcf9ec3a-bccc-4c92-b912-c88095d346ff",
   "metadata": {},
   "outputs": [],
   "source": []
  },
  {
   "cell_type": "code",
   "execution_count": 103,
   "id": "82bfe6fc-856b-42c7-98bb-e30e5dcf8695",
   "metadata": {},
   "outputs": [],
   "source": [
    "# isdigit()"
   ]
  },
  {
   "cell_type": "code",
   "execution_count": 106,
   "id": "f9bc861b-4b55-4bef-ac86-e18f6692bcd8",
   "metadata": {},
   "outputs": [
    {
     "data": {
      "text/plain": [
       "\u001b[0;31mSignature:\u001b[0m \u001b[0mname\u001b[0m\u001b[0;34m.\u001b[0m\u001b[0misdigit\u001b[0m\u001b[0;34m(\u001b[0m\u001b[0;34m)\u001b[0m\u001b[0;34m\u001b[0m\u001b[0;34m\u001b[0m\u001b[0m\n",
       "\u001b[0;31mDocstring:\u001b[0m\n",
       "Return True if the string is a digit string, False otherwise.\n",
       "\n",
       "A string is a digit string if all characters in the string are digits and there\n",
       "is at least one character in the string.\n",
       "\u001b[0;31mType:\u001b[0m      builtin_function_or_method\n"
      ]
     },
     "metadata": {},
     "output_type": "display_data"
    }
   ],
   "source": [
    "name.isdigit?"
   ]
  },
  {
   "cell_type": "code",
   "execution_count": 105,
   "id": "1e6b9f84-9d52-4cf1-83dd-e1fbd354874d",
   "metadata": {},
   "outputs": [
    {
     "data": {
      "text/plain": [
       "False"
      ]
     },
     "execution_count": 105,
     "metadata": {},
     "output_type": "execute_result"
    }
   ],
   "source": [
    "\"\".isdigit()"
   ]
  },
  {
   "cell_type": "code",
   "execution_count": 107,
   "id": "43b0bf9d-6563-484b-9ff8-2852eca4e50c",
   "metadata": {},
   "outputs": [
    {
     "data": {
      "text/plain": [
       "False"
      ]
     },
     "execution_count": 107,
     "metadata": {},
     "output_type": "execute_result"
    }
   ],
   "source": [
    "\"2a\".isdigit()"
   ]
  },
  {
   "cell_type": "code",
   "execution_count": 108,
   "id": "e1ecb565-bbcc-406a-816a-1a61ac1b3f01",
   "metadata": {},
   "outputs": [
    {
     "data": {
      "text/plain": [
       "True"
      ]
     },
     "execution_count": 108,
     "metadata": {},
     "output_type": "execute_result"
    }
   ],
   "source": [
    "\"2\".isdigit()"
   ]
  },
  {
   "cell_type": "code",
   "execution_count": 109,
   "id": "3e6684db-00fc-46c0-86ed-413be146906a",
   "metadata": {},
   "outputs": [
    {
     "data": {
      "text/plain": [
       "True"
      ]
     },
     "execution_count": 109,
     "metadata": {},
     "output_type": "execute_result"
    }
   ],
   "source": [
    "\"232342\".isdigit()"
   ]
  },
  {
   "cell_type": "code",
   "execution_count": null,
   "id": "f2a1642e-57dd-41da-9e55-ae6b61d53538",
   "metadata": {},
   "outputs": [],
   "source": []
  },
  {
   "cell_type": "code",
   "execution_count": 110,
   "id": "ef58dba9-8702-4edf-9524-ffda5c1668f2",
   "metadata": {},
   "outputs": [],
   "source": [
    "# isalpha()"
   ]
  },
  {
   "cell_type": "code",
   "execution_count": 111,
   "id": "e5686a2b-f5bb-4fca-a357-7c58e6f38d92",
   "metadata": {},
   "outputs": [
    {
     "data": {
      "text/plain": [
       "\u001b[0;31mSignature:\u001b[0m \u001b[0mname\u001b[0m\u001b[0;34m.\u001b[0m\u001b[0misalpha\u001b[0m\u001b[0;34m(\u001b[0m\u001b[0;34m)\u001b[0m\u001b[0;34m\u001b[0m\u001b[0;34m\u001b[0m\u001b[0m\n",
       "\u001b[0;31mDocstring:\u001b[0m\n",
       "Return True if the string is an alphabetic string, False otherwise.\n",
       "\n",
       "A string is alphabetic if all characters in the string are alphabetic and there\n",
       "is at least one character in the string.\n",
       "\u001b[0;31mType:\u001b[0m      builtin_function_or_method\n"
      ]
     },
     "metadata": {},
     "output_type": "display_data"
    }
   ],
   "source": [
    "name.isalpha?"
   ]
  },
  {
   "cell_type": "code",
   "execution_count": 114,
   "id": "02441623-cdc8-4723-ae34-dd55be74f5b1",
   "metadata": {},
   "outputs": [
    {
     "data": {
      "text/plain": [
       "False"
      ]
     },
     "execution_count": 114,
     "metadata": {},
     "output_type": "execute_result"
    }
   ],
   "source": [
    "\"\".isalpha()"
   ]
  },
  {
   "cell_type": "code",
   "execution_count": 115,
   "id": "4010dd30-a2e3-40e8-a98b-e675bac75787",
   "metadata": {},
   "outputs": [
    {
     "data": {
      "text/plain": [
       "'Rahul Janghu'"
      ]
     },
     "execution_count": 115,
     "metadata": {},
     "output_type": "execute_result"
    }
   ],
   "source": [
    "name"
   ]
  },
  {
   "cell_type": "code",
   "execution_count": 117,
   "id": "f9dd2a13-a07d-48e7-9c2b-ed2d476e6f4a",
   "metadata": {},
   "outputs": [
    {
     "data": {
      "text/plain": [
       "False"
      ]
     },
     "execution_count": 117,
     "metadata": {},
     "output_type": "execute_result"
    }
   ],
   "source": [
    "name.isalpha()"
   ]
  },
  {
   "cell_type": "code",
   "execution_count": 116,
   "id": "66c714ca-a2c0-41e2-90ff-7a8046c826bd",
   "metadata": {},
   "outputs": [
    {
     "data": {
      "text/plain": [
       "True"
      ]
     },
     "execution_count": 116,
     "metadata": {},
     "output_type": "execute_result"
    }
   ],
   "source": [
    "\"rahul\".isalpha()"
   ]
  },
  {
   "cell_type": "code",
   "execution_count": 118,
   "id": "4224f932-1e94-4434-8b8e-c2b15b6ae8ac",
   "metadata": {},
   "outputs": [
    {
     "data": {
      "text/plain": [
       "False"
      ]
     },
     "execution_count": 118,
     "metadata": {},
     "output_type": "execute_result"
    }
   ],
   "source": [
    "\"sder32\".isalpha()"
   ]
  },
  {
   "cell_type": "code",
   "execution_count": null,
   "id": "3d948371-5d51-42cb-9ee9-618fd051c523",
   "metadata": {},
   "outputs": [],
   "source": []
  },
  {
   "cell_type": "code",
   "execution_count": 119,
   "id": "9ba30b11-b135-48fd-81e3-e7339a7088a1",
   "metadata": {},
   "outputs": [],
   "source": [
    "# isalnum()"
   ]
  },
  {
   "cell_type": "code",
   "execution_count": 122,
   "id": "13d94bcd-d2c9-4c7e-9ed5-b71a52eec452",
   "metadata": {},
   "outputs": [
    {
     "data": {
      "text/plain": [
       "\u001b[0;31mSignature:\u001b[0m \u001b[0mname\u001b[0m\u001b[0;34m.\u001b[0m\u001b[0misalnum\u001b[0m\u001b[0;34m(\u001b[0m\u001b[0;34m)\u001b[0m\u001b[0;34m\u001b[0m\u001b[0;34m\u001b[0m\u001b[0m\n",
       "\u001b[0;31mDocstring:\u001b[0m\n",
       "Return True if the string is an alpha-numeric string, False otherwise.\n",
       "\n",
       "A string is alpha-numeric if all characters in the string are alpha-numeric and\n",
       "there is at least one character in the string.\n",
       "\u001b[0;31mType:\u001b[0m      builtin_function_or_method\n"
      ]
     },
     "metadata": {},
     "output_type": "display_data"
    }
   ],
   "source": [
    "name.isalnum?"
   ]
  },
  {
   "cell_type": "code",
   "execution_count": 123,
   "id": "76f6290a-a187-4bb4-b633-7f8fedaf0d9f",
   "metadata": {},
   "outputs": [
    {
     "data": {
      "text/plain": [
       "True"
      ]
     },
     "execution_count": 123,
     "metadata": {},
     "output_type": "execute_result"
    }
   ],
   "source": [
    "\"312a\".isalnum()"
   ]
  },
  {
   "cell_type": "code",
   "execution_count": 124,
   "id": "5dfad849-1db8-4b3f-87ae-42bd35e172c0",
   "metadata": {},
   "outputs": [
    {
     "data": {
      "text/plain": [
       "True"
      ]
     },
     "execution_count": 124,
     "metadata": {},
     "output_type": "execute_result"
    }
   ],
   "source": [
    "\"2\".isalnum()"
   ]
  },
  {
   "cell_type": "code",
   "execution_count": 125,
   "id": "3b2219e2-7dbb-4a54-ab0a-0c58e46e5fe2",
   "metadata": {},
   "outputs": [
    {
     "data": {
      "text/plain": [
       "True"
      ]
     },
     "execution_count": 125,
     "metadata": {},
     "output_type": "execute_result"
    }
   ],
   "source": [
    "\"adds\".isalnum()"
   ]
  },
  {
   "cell_type": "code",
   "execution_count": 126,
   "id": "3eac0d4e-f918-4281-ad87-d0d6e12f4ddc",
   "metadata": {},
   "outputs": [
    {
     "data": {
      "text/plain": [
       "True"
      ]
     },
     "execution_count": 126,
     "metadata": {},
     "output_type": "execute_result"
    }
   ],
   "source": [
    "\"add1\".isalnum()"
   ]
  },
  {
   "cell_type": "code",
   "execution_count": 127,
   "id": "767496a5-8f30-44c0-95dc-ca532d3a074b",
   "metadata": {},
   "outputs": [
    {
     "data": {
      "text/plain": [
       "False"
      ]
     },
     "execution_count": 127,
     "metadata": {},
     "output_type": "execute_result"
    }
   ],
   "source": [
    "\"rahul_1\".isalnum()"
   ]
  },
  {
   "cell_type": "code",
   "execution_count": null,
   "id": "7cb88ee4-8297-476d-ad1f-375ab378f063",
   "metadata": {},
   "outputs": [],
   "source": []
  },
  {
   "cell_type": "code",
   "execution_count": 128,
   "id": "34cf9d13-4b55-4fb2-8b6f-fbc51fe1c5a7",
   "metadata": {},
   "outputs": [],
   "source": [
    "# isupper()"
   ]
  },
  {
   "cell_type": "code",
   "execution_count": 130,
   "id": "4dc0547b-97c5-48a1-b4e4-923c05cc94b9",
   "metadata": {},
   "outputs": [
    {
     "data": {
      "text/plain": [
       "\u001b[0;31mSignature:\u001b[0m \u001b[0mname\u001b[0m\u001b[0;34m.\u001b[0m\u001b[0misupper\u001b[0m\u001b[0;34m(\u001b[0m\u001b[0;34m)\u001b[0m\u001b[0;34m\u001b[0m\u001b[0;34m\u001b[0m\u001b[0m\n",
       "\u001b[0;31mDocstring:\u001b[0m\n",
       "Return True if the string is an uppercase string, False otherwise.\n",
       "\n",
       "A string is uppercase if all cased characters in the string are uppercase and\n",
       "there is at least one cased character in the string.\n",
       "\u001b[0;31mType:\u001b[0m      builtin_function_or_method\n"
      ]
     },
     "metadata": {},
     "output_type": "display_data"
    }
   ],
   "source": [
    "name.isupper?"
   ]
  },
  {
   "cell_type": "code",
   "execution_count": 131,
   "id": "26cf9766-b751-43fa-b4e0-ddcf9c21426a",
   "metadata": {},
   "outputs": [
    {
     "data": {
      "text/plain": [
       "'Rahul Janghu'"
      ]
     },
     "execution_count": 131,
     "metadata": {},
     "output_type": "execute_result"
    }
   ],
   "source": [
    "name"
   ]
  },
  {
   "cell_type": "code",
   "execution_count": 132,
   "id": "dc6d1a84-675c-42ab-b521-0f13f023885b",
   "metadata": {},
   "outputs": [
    {
     "data": {
      "text/plain": [
       "False"
      ]
     },
     "execution_count": 132,
     "metadata": {},
     "output_type": "execute_result"
    }
   ],
   "source": [
    "name.isupper()"
   ]
  },
  {
   "cell_type": "code",
   "execution_count": 133,
   "id": "283e875d-0110-4c76-a732-644fe688b33f",
   "metadata": {},
   "outputs": [
    {
     "data": {
      "text/plain": [
       "True"
      ]
     },
     "execution_count": 133,
     "metadata": {},
     "output_type": "execute_result"
    }
   ],
   "source": [
    "\"RAHUL JANGHU\".isupper()"
   ]
  },
  {
   "cell_type": "code",
   "execution_count": 134,
   "id": "bb8b500b-291d-420f-8301-ca5269b8ac3b",
   "metadata": {},
   "outputs": [
    {
     "data": {
      "text/plain": [
       "True"
      ]
     },
     "execution_count": 134,
     "metadata": {},
     "output_type": "execute_result"
    }
   ],
   "source": [
    "\"RAHUL_JANGHU\".isupper()"
   ]
  },
  {
   "cell_type": "code",
   "execution_count": null,
   "id": "926c43c1-cd37-42dd-be9d-33eca4c823f9",
   "metadata": {},
   "outputs": [],
   "source": []
  },
  {
   "cell_type": "code",
   "execution_count": 135,
   "id": "de7400b2-3205-4280-ac0f-e45dba6c24a1",
   "metadata": {},
   "outputs": [],
   "source": [
    "# name.islower()"
   ]
  },
  {
   "cell_type": "code",
   "execution_count": 136,
   "id": "fd810e10-965e-4816-8049-51ce9c62a637",
   "metadata": {},
   "outputs": [
    {
     "data": {
      "text/plain": [
       "\u001b[0;31mSignature:\u001b[0m \u001b[0mname\u001b[0m\u001b[0;34m.\u001b[0m\u001b[0mislower\u001b[0m\u001b[0;34m(\u001b[0m\u001b[0;34m)\u001b[0m\u001b[0;34m\u001b[0m\u001b[0;34m\u001b[0m\u001b[0m\n",
       "\u001b[0;31mDocstring:\u001b[0m\n",
       "Return True if the string is a lowercase string, False otherwise.\n",
       "\n",
       "A string is lowercase if all cased characters in the string are lowercase and\n",
       "there is at least one cased character in the string.\n",
       "\u001b[0;31mType:\u001b[0m      builtin_function_or_method\n"
      ]
     },
     "metadata": {},
     "output_type": "display_data"
    }
   ],
   "source": [
    "name.islower?"
   ]
  },
  {
   "cell_type": "code",
   "execution_count": 137,
   "id": "1aecf984-fb13-44c5-8200-3f01ddbafda8",
   "metadata": {},
   "outputs": [
    {
     "data": {
      "text/plain": [
       "'Rahul Janghu'"
      ]
     },
     "execution_count": 137,
     "metadata": {},
     "output_type": "execute_result"
    }
   ],
   "source": [
    "name"
   ]
  },
  {
   "cell_type": "code",
   "execution_count": 138,
   "id": "53428de5-30e5-4332-ba36-b7b5ce7f9780",
   "metadata": {},
   "outputs": [
    {
     "data": {
      "text/plain": [
       "False"
      ]
     },
     "execution_count": 138,
     "metadata": {},
     "output_type": "execute_result"
    }
   ],
   "source": [
    "name.islower()"
   ]
  },
  {
   "cell_type": "code",
   "execution_count": 139,
   "id": "55ef1240-1b93-4d9a-ae59-7d8ac263b9bd",
   "metadata": {},
   "outputs": [
    {
     "data": {
      "text/plain": [
       "True"
      ]
     },
     "execution_count": 139,
     "metadata": {},
     "output_type": "execute_result"
    }
   ],
   "source": [
    "\"rahul janghu\".islower()"
   ]
  },
  {
   "cell_type": "code",
   "execution_count": null,
   "id": "e415c796-2aa1-41de-86d9-ad4e9e0daeea",
   "metadata": {},
   "outputs": [],
   "source": []
  },
  {
   "cell_type": "code",
   "execution_count": 140,
   "id": "06e3d390-bc72-4217-8419-bee5d1b9edf2",
   "metadata": {},
   "outputs": [],
   "source": [
    "# upper and lower"
   ]
  },
  {
   "cell_type": "code",
   "execution_count": 141,
   "id": "a6ba6843-ccf9-4a8a-8061-0afc5171ec50",
   "metadata": {},
   "outputs": [
    {
     "data": {
      "text/plain": [
       "'Rahul Janghu'"
      ]
     },
     "execution_count": 141,
     "metadata": {},
     "output_type": "execute_result"
    }
   ],
   "source": [
    "name"
   ]
  },
  {
   "cell_type": "code",
   "execution_count": 143,
   "id": "9afb17bf-c99a-4c78-9edd-6d16c1fda37a",
   "metadata": {},
   "outputs": [
    {
     "data": {
      "text/plain": [
       "'RAHUL JANGHU'"
      ]
     },
     "execution_count": 143,
     "metadata": {},
     "output_type": "execute_result"
    }
   ],
   "source": [
    "name.upper()"
   ]
  },
  {
   "cell_type": "code",
   "execution_count": 144,
   "id": "68c6f4e7-1ac7-4452-9db2-d0af447ff917",
   "metadata": {},
   "outputs": [
    {
     "data": {
      "text/plain": [
       "'Rahul Janghu'"
      ]
     },
     "execution_count": 144,
     "metadata": {},
     "output_type": "execute_result"
    }
   ],
   "source": [
    "name"
   ]
  },
  {
   "cell_type": "code",
   "execution_count": 145,
   "id": "0f43bfc1-1ea9-4a9d-8b14-442a541a8ade",
   "metadata": {},
   "outputs": [
    {
     "data": {
      "text/plain": [
       "'rahul janghu'"
      ]
     },
     "execution_count": 145,
     "metadata": {},
     "output_type": "execute_result"
    }
   ],
   "source": [
    "name.lower()"
   ]
  },
  {
   "cell_type": "code",
   "execution_count": 146,
   "id": "91359dc8-704f-49ef-a5e9-b1d295215d28",
   "metadata": {},
   "outputs": [
    {
     "data": {
      "text/plain": [
       "'Rahul Janghu'"
      ]
     },
     "execution_count": 146,
     "metadata": {},
     "output_type": "execute_result"
    }
   ],
   "source": [
    "name"
   ]
  },
  {
   "cell_type": "code",
   "execution_count": 147,
   "id": "5343014e-7122-42c3-ac96-930815cf6b7c",
   "metadata": {},
   "outputs": [
    {
     "data": {
      "text/plain": [
       "'A'"
      ]
     },
     "execution_count": 147,
     "metadata": {},
     "output_type": "execute_result"
    }
   ],
   "source": [
    "\"a\".upper()"
   ]
  },
  {
   "cell_type": "code",
   "execution_count": null,
   "id": "abeb26b0-901d-4b93-884a-5033832c2334",
   "metadata": {},
   "outputs": [],
   "source": []
  },
  {
   "cell_type": "code",
   "execution_count": null,
   "id": "d5ee2c5f-cca8-42ed-8c1b-e9fb4090eb6d",
   "metadata": {},
   "outputs": [],
   "source": []
  },
  {
   "cell_type": "markdown",
   "id": "5d8024eb-4062-4785-a3e8-f11dcdab6f06",
   "metadata": {},
   "source": [
    "### Strings are iterable"
   ]
  },
  {
   "cell_type": "code",
   "execution_count": 148,
   "id": "4bc0f71f-9e15-4c66-8cb5-dec9ee5ef53d",
   "metadata": {},
   "outputs": [],
   "source": [
    "# for iterator in iterable:\n",
    "#     do something"
   ]
  },
  {
   "cell_type": "code",
   "execution_count": 149,
   "id": "67ce1c8b-6fde-4534-89c7-2ace62ffe8c3",
   "metadata": {},
   "outputs": [
    {
     "data": {
      "text/plain": [
       "'Rahul Janghu'"
      ]
     },
     "execution_count": 149,
     "metadata": {},
     "output_type": "execute_result"
    }
   ],
   "source": [
    "name"
   ]
  },
  {
   "cell_type": "code",
   "execution_count": 150,
   "id": "61d35aaf-fe95-404c-bc41-ae8fbd96d302",
   "metadata": {},
   "outputs": [
    {
     "name": "stdout",
     "output_type": "stream",
     "text": [
      "R\n",
      "a\n",
      "h\n",
      "u\n",
      "l\n",
      " \n",
      "J\n",
      "a\n",
      "n\n",
      "g\n",
      "h\n",
      "u\n"
     ]
    }
   ],
   "source": [
    "for i in name:\n",
    "    print(i)"
   ]
  },
  {
   "cell_type": "code",
   "execution_count": 153,
   "id": "f7f0b055-0c40-4337-ac3d-8ba0c19750b2",
   "metadata": {},
   "outputs": [],
   "source": [
    "# Print ASCII values of all characters in this string: name"
   ]
  },
  {
   "cell_type": "code",
   "execution_count": 155,
   "id": "d6a1828d-4584-4625-b193-d4447ca6ec0e",
   "metadata": {},
   "outputs": [
    {
     "name": "stdout",
     "output_type": "stream",
     "text": [
      "82 R\n",
      "97 a\n",
      "104 h\n",
      "117 u\n",
      "108 l\n",
      "32  \n",
      "74 J\n",
      "97 a\n",
      "110 n\n",
      "103 g\n",
      "104 h\n",
      "117 u\n"
     ]
    }
   ],
   "source": [
    "for i in name:\n",
    "    print(ord(i), i)"
   ]
  },
  {
   "cell_type": "code",
   "execution_count": 156,
   "id": "25bea7d9-c740-42f5-9108-800865513a0e",
   "metadata": {},
   "outputs": [],
   "source": [
    "# For this given string find out how many characters are upper case characters"
   ]
  },
  {
   "cell_type": "code",
   "execution_count": 158,
   "id": "ef79341e-bbbf-4443-8ae7-f0ce89b01c00",
   "metadata": {},
   "outputs": [
    {
     "data": {
      "text/plain": [
       "'Rahul Janghu'"
      ]
     },
     "execution_count": 158,
     "metadata": {},
     "output_type": "execute_result"
    }
   ],
   "source": [
    "name # answer = 2"
   ]
  },
  {
   "cell_type": "code",
   "execution_count": 160,
   "id": "df4cdd78-832f-45ed-a4f1-cb7781fad7ca",
   "metadata": {},
   "outputs": [],
   "source": [
    "# ASCII range for upper case characters: 65 - 90"
   ]
  },
  {
   "cell_type": "code",
   "execution_count": 162,
   "id": "3a9264f9-c46e-455f-bd05-c2ef55c307ed",
   "metadata": {},
   "outputs": [
    {
     "name": "stdout",
     "output_type": "stream",
     "text": [
      "82 R\n",
      "74 J\n"
     ]
    }
   ],
   "source": [
    "for i in name:\n",
    "    if ord(i) >= 65 and ord(i) <= 90:\n",
    "        print(ord(i), i)"
   ]
  },
  {
   "cell_type": "code",
   "execution_count": 163,
   "id": "d90f2061-a50c-4c60-b7cc-5a2ea67e01e7",
   "metadata": {},
   "outputs": [
    {
     "name": "stdout",
     "output_type": "stream",
     "text": [
      "2\n"
     ]
    }
   ],
   "source": [
    "total = 0\n",
    "\n",
    "for i in name:\n",
    "    if ord(i) >= 65 and ord(i) <= 90:\n",
    "        total += 1\n",
    "print(total)"
   ]
  },
  {
   "cell_type": "code",
   "execution_count": 167,
   "id": "95751c5a-786d-4135-bb48-657f51d8a3c0",
   "metadata": {},
   "outputs": [],
   "source": [
    "def count_upper(s):\n",
    "    total = 0\n",
    "    for i in s:\n",
    "        if ord(i) >= 65 and ord(i) <= 90:\n",
    "            total += 1\n",
    "            \n",
    "    return total"
   ]
  },
  {
   "cell_type": "code",
   "execution_count": 168,
   "id": "60141494-2951-42a6-a381-7f687c08688c",
   "metadata": {},
   "outputs": [
    {
     "data": {
      "text/plain": [
       "3"
      ]
     },
     "execution_count": 168,
     "metadata": {},
     "output_type": "execute_result"
    }
   ],
   "source": [
    "count_upper(\"RAhuL\")"
   ]
  },
  {
   "cell_type": "code",
   "execution_count": 169,
   "id": "205697dc-2b27-403a-9659-2504ae83b23d",
   "metadata": {},
   "outputs": [],
   "source": [
    "def count_upper_1(s):\n",
    "    total = 0\n",
    "    for i in s:\n",
    "        if i.isupper():\n",
    "            total += 1\n",
    "            \n",
    "    return total"
   ]
  },
  {
   "cell_type": "code",
   "execution_count": 170,
   "id": "69ef1e90-67bd-4fb9-a5c0-83bb2cccfbe0",
   "metadata": {},
   "outputs": [
    {
     "data": {
      "text/plain": [
       "5"
      ]
     },
     "execution_count": 170,
     "metadata": {},
     "output_type": "execute_result"
    }
   ],
   "source": [
    "count_upper_1(\"RAHUL\")"
   ]
  },
  {
   "cell_type": "code",
   "execution_count": null,
   "id": "9fac86e5-1fe5-4222-8197-704f95f47852",
   "metadata": {},
   "outputs": [],
   "source": []
  },
  {
   "cell_type": "code",
   "execution_count": null,
   "id": "5334132b-4b0f-47e9-9087-cbf09f4305db",
   "metadata": {},
   "outputs": [],
   "source": []
  },
  {
   "cell_type": "code",
   "execution_count": null,
   "id": "3dd4ad12-63ba-41f0-83e9-5e67d76b8d12",
   "metadata": {},
   "outputs": [],
   "source": []
  },
  {
   "cell_type": "code",
   "execution_count": null,
   "id": "75dd5b84-cafa-4d46-935d-42e6e697f8f6",
   "metadata": {},
   "outputs": [],
   "source": []
  },
  {
   "cell_type": "markdown",
   "id": "55d836e2-089d-43b0-9862-df9d81990828",
   "metadata": {},
   "source": [
    "### Challenge Palindrome\n",
    "- Take a string input from the user.\n",
    "- Return \"PALINDROME\" if the string is a palindrome.\n",
    "- Otherwise return \"NOT A PALINDROME\"."
   ]
  },
  {
   "cell_type": "code",
   "execution_count": 172,
   "id": "6fc1c435-0612-4f31-9deb-74bbd705a812",
   "metadata": {},
   "outputs": [],
   "source": [
    "# Which one of the following is a palindrome?\n",
    "# a) radar --> radar\n",
    "# b) level --> level\n",
    "# c) rahul --> luhar"
   ]
  },
  {
   "cell_type": "code",
   "execution_count": 173,
   "id": "e8a734fa-5012-40c5-a7c6-8914b97dddaa",
   "metadata": {},
   "outputs": [],
   "source": [
    "# Write a function to check for pallindrome"
   ]
  },
  {
   "cell_type": "code",
   "execution_count": 174,
   "id": "3b6e6d9c-6c9b-44e5-84af-84b029bbb524",
   "metadata": {},
   "outputs": [
    {
     "data": {
      "text/plain": [
       "'luhar'"
      ]
     },
     "execution_count": 174,
     "metadata": {},
     "output_type": "execute_result"
    }
   ],
   "source": [
    "\"rahul\"[::-1]"
   ]
  },
  {
   "cell_type": "code",
   "execution_count": 176,
   "id": "16d58228-1eca-495d-8479-f91cb83ea425",
   "metadata": {},
   "outputs": [
    {
     "data": {
      "text/plain": [
       "'radar'"
      ]
     },
     "execution_count": 176,
     "metadata": {},
     "output_type": "execute_result"
    }
   ],
   "source": [
    "\"radar\"[::-1]"
   ]
  },
  {
   "cell_type": "code",
   "execution_count": 177,
   "id": "937af68b-5c6c-4ba0-b35c-bb8dd43d82c8",
   "metadata": {},
   "outputs": [
    {
     "data": {
      "text/plain": [
       "'Rahul Janghu'"
      ]
     },
     "execution_count": 177,
     "metadata": {},
     "output_type": "execute_result"
    }
   ],
   "source": [
    "name"
   ]
  },
  {
   "cell_type": "code",
   "execution_count": 178,
   "id": "0c5db514-ceb2-4e5a-a6bf-30ff056e0bcb",
   "metadata": {},
   "outputs": [
    {
     "data": {
      "text/plain": [
       "False"
      ]
     },
     "execution_count": 178,
     "metadata": {},
     "output_type": "execute_result"
    }
   ],
   "source": [
    "name == name[::-1]"
   ]
  },
  {
   "cell_type": "code",
   "execution_count": 179,
   "id": "8d081076-cda1-4394-9eea-76be56ae3457",
   "metadata": {},
   "outputs": [
    {
     "data": {
      "text/plain": [
       "True"
      ]
     },
     "execution_count": 179,
     "metadata": {},
     "output_type": "execute_result"
    }
   ],
   "source": [
    "\"radar\" == \"radar\"[::-1]"
   ]
  },
  {
   "cell_type": "code",
   "execution_count": null,
   "id": "a7dc21e1-5864-4de2-bf2c-071841328d28",
   "metadata": {},
   "outputs": [],
   "source": []
  },
  {
   "cell_type": "code",
   "execution_count": 180,
   "id": "56e3e608-ed1e-42c8-955f-56d11d55cc8c",
   "metadata": {},
   "outputs": [],
   "source": [
    "def is_pallindrome(s):\n",
    "    if s == s[::-1]:\n",
    "        return \"PALINDROME\"\n",
    "    else:\n",
    "        return \"NOT A PALINDROME\""
   ]
  },
  {
   "cell_type": "code",
   "execution_count": 181,
   "id": "733c348f-41d4-4e26-be64-b6fb90b160a0",
   "metadata": {},
   "outputs": [
    {
     "data": {
      "text/plain": [
       "'PALINDROME'"
      ]
     },
     "execution_count": 181,
     "metadata": {},
     "output_type": "execute_result"
    }
   ],
   "source": [
    "is_pallindrome(\"radar\")"
   ]
  },
  {
   "cell_type": "code",
   "execution_count": 182,
   "id": "04c6a99c-7b89-4842-942b-bb973d9f881f",
   "metadata": {},
   "outputs": [
    {
     "data": {
      "text/plain": [
       "'NOT A PALINDROME'"
      ]
     },
     "execution_count": 182,
     "metadata": {},
     "output_type": "execute_result"
    }
   ],
   "source": [
    "is_pallindrome(\"rahul\")"
   ]
  },
  {
   "cell_type": "code",
   "execution_count": null,
   "id": "46a5c49a-bb30-4921-8e3c-045ba2dc860a",
   "metadata": {},
   "outputs": [],
   "source": []
  },
  {
   "cell_type": "code",
   "execution_count": null,
   "id": "feff9978-12cb-4a13-9de6-2fc2ab91f2ab",
   "metadata": {},
   "outputs": [],
   "source": []
  },
  {
   "cell_type": "code",
   "execution_count": 183,
   "id": "6c8b9d47-a197-4c22-95fb-600a1efe63ab",
   "metadata": {},
   "outputs": [],
   "source": [
    "# Quiz"
   ]
  },
  {
   "cell_type": "code",
   "execution_count": 184,
   "id": "8efc9ba6-68a4-43e6-b917-9c93032f482e",
   "metadata": {},
   "outputs": [
    {
     "name": "stdout",
     "output_type": "stream",
     "text": [
      "Helle Werld!\n"
     ]
    }
   ],
   "source": [
    "message = \"Hello World!\"\n",
    "print(message.replace(\"o\", \"e\"))"
   ]
  },
  {
   "cell_type": "code",
   "execution_count": 185,
   "id": "6e8cef2e-2478-4c1c-a30a-52b9f8e64644",
   "metadata": {},
   "outputs": [
    {
     "name": "stdout",
     "output_type": "stream",
     "text": [
      "4\n"
     ]
    }
   ],
   "source": [
    "message = \"Hello World!\"\n",
    "print(message.find(\"o\"))"
   ]
  },
  {
   "cell_type": "code",
   "execution_count": null,
   "id": "ce41d3c9-51f8-4a41-87b4-df996e325cba",
   "metadata": {},
   "outputs": [],
   "source": []
  },
  {
   "cell_type": "code",
   "execution_count": 197,
   "id": "9b5fd444-4e8d-48b1-b711-96c06522e112",
   "metadata": {},
   "outputs": [],
   "source": [
    "# Mutability: Value can change\n",
    "# Immutability: Value can't change"
   ]
  },
  {
   "cell_type": "code",
   "execution_count": 188,
   "id": "7da859bd-29f8-4ea4-897b-cd639ca22c8c",
   "metadata": {},
   "outputs": [],
   "source": [
    "l = [12, 45, 55]"
   ]
  },
  {
   "cell_type": "code",
   "execution_count": 189,
   "id": "c0a9f489-61e2-40e3-8ccd-085d76e808f0",
   "metadata": {},
   "outputs": [
    {
     "data": {
      "text/plain": [
       "12"
      ]
     },
     "execution_count": 189,
     "metadata": {},
     "output_type": "execute_result"
    }
   ],
   "source": [
    "l[0]"
   ]
  },
  {
   "cell_type": "code",
   "execution_count": 190,
   "id": "08c9df4f-f9a9-40e8-91b6-e1deaa8d4bc2",
   "metadata": {},
   "outputs": [],
   "source": [
    "l[0] = 24"
   ]
  },
  {
   "cell_type": "code",
   "execution_count": 191,
   "id": "00fd948d-a743-48c3-aba6-adbecb6e14f0",
   "metadata": {},
   "outputs": [
    {
     "data": {
      "text/plain": [
       "[24, 45, 55]"
      ]
     },
     "execution_count": 191,
     "metadata": {},
     "output_type": "execute_result"
    }
   ],
   "source": [
    "l"
   ]
  },
  {
   "cell_type": "code",
   "execution_count": null,
   "id": "1086d326-c4da-4d1b-a336-a5d99a864df4",
   "metadata": {},
   "outputs": [],
   "source": []
  },
  {
   "cell_type": "code",
   "execution_count": 196,
   "id": "4e2c4e66-1c0f-4221-8992-c4ea6daa00ad",
   "metadata": {},
   "outputs": [],
   "source": [
    "# Strings are immutable"
   ]
  },
  {
   "cell_type": "code",
   "execution_count": 193,
   "id": "a30c411d-9d30-4032-bb0d-d16d588ebfb2",
   "metadata": {},
   "outputs": [
    {
     "data": {
      "text/plain": [
       "'Rahul Janghu'"
      ]
     },
     "execution_count": 193,
     "metadata": {},
     "output_type": "execute_result"
    }
   ],
   "source": [
    "name"
   ]
  },
  {
   "cell_type": "code",
   "execution_count": 194,
   "id": "0b2ab61b-b7b9-41a7-9203-5c7a142f47ad",
   "metadata": {},
   "outputs": [
    {
     "data": {
      "text/plain": [
       "'R'"
      ]
     },
     "execution_count": 194,
     "metadata": {},
     "output_type": "execute_result"
    }
   ],
   "source": [
    "name[0]"
   ]
  },
  {
   "cell_type": "code",
   "execution_count": 195,
   "id": "66b75e2c-5d6c-4b02-9a86-d8b229a13ec9",
   "metadata": {},
   "outputs": [
    {
     "ename": "TypeError",
     "evalue": "'str' object does not support item assignment",
     "output_type": "error",
     "traceback": [
      "\u001b[0;31m---------------------------------------------------------------------------\u001b[0m",
      "\u001b[0;31mTypeError\u001b[0m                                 Traceback (most recent call last)",
      "\u001b[0;32m/var/folders/t5/yhjgrjs907zfp250jyxtw54m0000gn/T/ipykernel_69125/2724400979.py\u001b[0m in \u001b[0;36m<module>\u001b[0;34m\u001b[0m\n\u001b[0;32m----> 1\u001b[0;31m \u001b[0mname\u001b[0m\u001b[0;34m[\u001b[0m\u001b[0;36m0\u001b[0m\u001b[0;34m]\u001b[0m \u001b[0;34m=\u001b[0m \u001b[0;34m\"r\"\u001b[0m\u001b[0;34m\u001b[0m\u001b[0;34m\u001b[0m\u001b[0m\n\u001b[0m",
      "\u001b[0;31mTypeError\u001b[0m: 'str' object does not support item assignment"
     ]
    }
   ],
   "source": [
    "name[0] = \"r\""
   ]
  },
  {
   "cell_type": "code",
   "execution_count": null,
   "id": "3858444f-9c8e-458d-9a94-7411619067ac",
   "metadata": {},
   "outputs": [],
   "source": []
  },
  {
   "cell_type": "code",
   "execution_count": null,
   "id": "d9a07701-a81e-4ba5-8688-20fe5f3057f2",
   "metadata": {},
   "outputs": [],
   "source": []
  },
  {
   "cell_type": "code",
   "execution_count": null,
   "id": "e9a7a941-d71b-434c-aab8-1b8a93b184af",
   "metadata": {},
   "outputs": [],
   "source": []
  },
  {
   "cell_type": "code",
   "execution_count": null,
   "id": "352374df-5f29-4dc6-aa7a-6ef73437f714",
   "metadata": {},
   "outputs": [],
   "source": []
  },
  {
   "cell_type": "markdown",
   "id": "a01af93e-ca94-4065-8893-393973ea073c",
   "metadata": {},
   "source": [
    "### Challenge: Last\n",
    "\n",
    "Given a string convert all caps alphabets into lower case. Give string as output in lower case\n",
    "\n",
    "- Input : raHuL\n",
    "- output : rahul"
   ]
  },
  {
   "cell_type": "code",
   "execution_count": 198,
   "id": "3889b540-fdde-4d33-be06-ffb64a08c6ec",
   "metadata": {},
   "outputs": [],
   "source": [
    "# Difference between ascii values of A -> a : 32"
   ]
  },
  {
   "cell_type": "code",
   "execution_count": null,
   "id": "5e9b9465-371b-4738-90cb-1cccadaddbf7",
   "metadata": {},
   "outputs": [],
   "source": []
  },
  {
   "cell_type": "code",
   "execution_count": null,
   "id": "cdd5c940-b32e-48c1-9c90-a1aee82c606c",
   "metadata": {},
   "outputs": [],
   "source": []
  },
  {
   "cell_type": "code",
   "execution_count": null,
   "id": "ac05152f-6e53-4de4-937a-5a76eacab7d0",
   "metadata": {},
   "outputs": [],
   "source": []
  },
  {
   "cell_type": "code",
   "execution_count": null,
   "id": "9ff56b85-4489-4768-a6ea-712696d8a8db",
   "metadata": {},
   "outputs": [],
   "source": []
  },
  {
   "cell_type": "code",
   "execution_count": null,
   "id": "4e065e7b-9f02-44d2-b698-7af256f0ffa8",
   "metadata": {},
   "outputs": [],
   "source": []
  }
 ],
 "metadata": {
  "kernelspec": {
   "display_name": "Python 3 (ipykernel)",
   "language": "python",
   "name": "python3"
  },
  "language_info": {
   "codemirror_mode": {
    "name": "ipython",
    "version": 3
   },
   "file_extension": ".py",
   "mimetype": "text/x-python",
   "name": "python",
   "nbconvert_exporter": "python",
   "pygments_lexer": "ipython3",
   "version": "3.9.7"
  }
 },
 "nbformat": 4,
 "nbformat_minor": 5
}
