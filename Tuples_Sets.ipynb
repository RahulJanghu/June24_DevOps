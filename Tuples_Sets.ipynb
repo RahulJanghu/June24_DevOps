{
 "cells": [
  {
   "cell_type": "markdown",
   "id": "0aed686b-f06a-4b8a-8efb-4d9730117511",
   "metadata": {},
   "source": [
    "## Tuples\n",
    "- Tuples are used to hold together multiple objects. Think of them as similar to lists, but without the extensive functionality that the list class gives you. One major feature of tuples is that they are immutable like strings i.e. you cannot modify tuples.\n",
    "\n",
    "- Tuples are defined by specifying items separated by commas within an optional pair of parentheses.\n",
    "\n",
    "- Tuples are usually used in cases where a statement or a user-defined function can safely assume that the collection of values i.e. the tuple of values used will **not change**."
   ]
  },
  {
   "cell_type": "code",
   "execution_count": 1,
   "id": "0ae8ded0-bf8b-4d6a-bc0e-bd87dbf9e896",
   "metadata": {},
   "outputs": [],
   "source": [
    "# The intern at ISRO"
   ]
  },
  {
   "cell_type": "code",
   "execution_count": 2,
   "id": "ba31866c-9be8-41d2-b4cc-90fde61c2594",
   "metadata": {},
   "outputs": [],
   "source": [
    "planets = [\"Mercury\", \"Venus\", \"Earth\", \"Mars\", \"Jupiter\", \"Saturn\"]"
   ]
  },
  {
   "cell_type": "code",
   "execution_count": 3,
   "id": "55369c1f-1cc7-44ab-995b-77ba6ff94b36",
   "metadata": {},
   "outputs": [
    {
     "data": {
      "text/plain": [
       "'Earth'"
      ]
     },
     "execution_count": 3,
     "metadata": {},
     "output_type": "execute_result"
    }
   ],
   "source": [
    "planets[2]"
   ]
  },
  {
   "cell_type": "code",
   "execution_count": 7,
   "id": "00313698-d813-4af0-9936-7ace5cba6192",
   "metadata": {},
   "outputs": [],
   "source": [
    "# Lists are mutable"
   ]
  },
  {
   "cell_type": "code",
   "execution_count": 5,
   "id": "16de1026-4588-4b9d-b0be-b64f01c1b070",
   "metadata": {},
   "outputs": [],
   "source": [
    "planets[2] = \"Rahul\""
   ]
  },
  {
   "cell_type": "code",
   "execution_count": 6,
   "id": "ed638357-2205-4782-925f-c575aef52d8e",
   "metadata": {},
   "outputs": [
    {
     "data": {
      "text/plain": [
       "['Mercury', 'Venus', 'Rahul', 'Mars', 'Jupiter', 'Saturn']"
      ]
     },
     "execution_count": 6,
     "metadata": {},
     "output_type": "execute_result"
    }
   ],
   "source": [
    "planets"
   ]
  },
  {
   "cell_type": "code",
   "execution_count": null,
   "id": "d66ed1db-7006-4740-bcf7-2e4564294ad8",
   "metadata": {},
   "outputs": [],
   "source": []
  },
  {
   "cell_type": "code",
   "execution_count": null,
   "id": "f897359c-c6b7-4dcb-af72-bcc64c02e01e",
   "metadata": {},
   "outputs": [],
   "source": []
  },
  {
   "cell_type": "code",
   "execution_count": 8,
   "id": "fe377001-e6cc-46ee-aca7-277041df722b",
   "metadata": {},
   "outputs": [],
   "source": [
    "planets_tuple = (\"Mercury\", \"Venus\", \"Earth\", \"Mars\", \"Jupiter\", \"Saturn\")"
   ]
  },
  {
   "cell_type": "code",
   "execution_count": 9,
   "id": "4f535038-8726-4ec3-b1a6-1fec1ac37128",
   "metadata": {},
   "outputs": [
    {
     "data": {
      "text/plain": [
       "('Mercury', 'Venus', 'Earth', 'Mars', 'Jupiter', 'Saturn')"
      ]
     },
     "execution_count": 9,
     "metadata": {},
     "output_type": "execute_result"
    }
   ],
   "source": [
    "planets_tuple"
   ]
  },
  {
   "cell_type": "code",
   "execution_count": 10,
   "id": "ce6db0f7-8af6-44f2-9ab7-06840f5717e5",
   "metadata": {},
   "outputs": [
    {
     "data": {
      "text/plain": [
       "tuple"
      ]
     },
     "execution_count": 10,
     "metadata": {},
     "output_type": "execute_result"
    }
   ],
   "source": [
    "type(planets_tuple)"
   ]
  },
  {
   "cell_type": "code",
   "execution_count": 11,
   "id": "e92dac79-38d4-43ab-90eb-70a7ce706f3c",
   "metadata": {},
   "outputs": [],
   "source": [
    "# Tuples are Immutable"
   ]
  },
  {
   "cell_type": "code",
   "execution_count": 12,
   "id": "1d82e1dd-c59b-4080-831b-4225d28dd9af",
   "metadata": {},
   "outputs": [
    {
     "data": {
      "text/plain": [
       "'Earth'"
      ]
     },
     "execution_count": 12,
     "metadata": {},
     "output_type": "execute_result"
    }
   ],
   "source": [
    "planets_tuple[2]"
   ]
  },
  {
   "cell_type": "code",
   "execution_count": 13,
   "id": "a389012b-92b5-4ef2-96da-31f98f61bbc2",
   "metadata": {},
   "outputs": [
    {
     "ename": "TypeError",
     "evalue": "'tuple' object does not support item assignment",
     "output_type": "error",
     "traceback": [
      "\u001b[0;31m---------------------------------------------------------------------------\u001b[0m",
      "\u001b[0;31mTypeError\u001b[0m                                 Traceback (most recent call last)",
      "\u001b[0;32m/var/folders/t5/yhjgrjs907zfp250jyxtw54m0000gn/T/ipykernel_95391/58121764.py\u001b[0m in \u001b[0;36m<module>\u001b[0;34m\u001b[0m\n\u001b[0;32m----> 1\u001b[0;31m \u001b[0mplanets_tuple\u001b[0m\u001b[0;34m[\u001b[0m\u001b[0;36m2\u001b[0m\u001b[0;34m]\u001b[0m \u001b[0;34m=\u001b[0m \u001b[0;34m\"Rahul\"\u001b[0m\u001b[0;34m\u001b[0m\u001b[0;34m\u001b[0m\u001b[0m\n\u001b[0m",
      "\u001b[0;31mTypeError\u001b[0m: 'tuple' object does not support item assignment"
     ]
    }
   ],
   "source": [
    "planets_tuple[2] = \"Rahul\""
   ]
  },
  {
   "cell_type": "code",
   "execution_count": null,
   "id": "8b3192a0-fda3-492d-810c-f15b977b8994",
   "metadata": {},
   "outputs": [],
   "source": []
  },
  {
   "cell_type": "code",
   "execution_count": null,
   "id": "2804700a-68d4-4a2c-bbd7-40b672eb6992",
   "metadata": {},
   "outputs": [],
   "source": []
  },
  {
   "cell_type": "code",
   "execution_count": 14,
   "id": "cf509010-cb2e-417a-a14c-70c2e7f5da0d",
   "metadata": {},
   "outputs": [],
   "source": [
    "# Making tuple"
   ]
  },
  {
   "cell_type": "code",
   "execution_count": 15,
   "id": "9f1d4cc2-f323-4dd5-bea0-70b7f7c4da0d",
   "metadata": {},
   "outputs": [],
   "source": [
    "# 1st way"
   ]
  },
  {
   "cell_type": "code",
   "execution_count": 17,
   "id": "ad387675-293a-4795-89bf-f924e7c661bc",
   "metadata": {},
   "outputs": [
    {
     "data": {
      "text/plain": [
       "28"
      ]
     },
     "execution_count": 17,
     "metadata": {},
     "output_type": "execute_result"
    }
   ],
   "source": [
    "(2 * 5 + 4) * (2)"
   ]
  },
  {
   "cell_type": "code",
   "execution_count": 18,
   "id": "130685b4-d727-488b-82a4-15c534ba9b2c",
   "metadata": {},
   "outputs": [],
   "source": [
    "t = ()"
   ]
  },
  {
   "cell_type": "code",
   "execution_count": 19,
   "id": "7291eb2e-6441-47b5-acb7-3e4965e5dadd",
   "metadata": {},
   "outputs": [
    {
     "data": {
      "text/plain": [
       "tuple"
      ]
     },
     "execution_count": 19,
     "metadata": {},
     "output_type": "execute_result"
    }
   ],
   "source": [
    "type(t)"
   ]
  },
  {
   "cell_type": "code",
   "execution_count": 20,
   "id": "c76070bf-97c2-444d-82fb-62a13840cccb",
   "metadata": {},
   "outputs": [
    {
     "data": {
      "text/plain": [
       "()"
      ]
     },
     "execution_count": 20,
     "metadata": {},
     "output_type": "execute_result"
    }
   ],
   "source": [
    "t"
   ]
  },
  {
   "cell_type": "code",
   "execution_count": null,
   "id": "35a24eab-71d1-4c30-8cd2-e394ef566890",
   "metadata": {},
   "outputs": [],
   "source": []
  },
  {
   "cell_type": "code",
   "execution_count": 21,
   "id": "bee8c67e-76e7-4749-aff4-cd727e87e058",
   "metadata": {},
   "outputs": [],
   "source": [
    "# 2nd way"
   ]
  },
  {
   "cell_type": "code",
   "execution_count": 26,
   "id": "85f8a5ba-59c6-4433-ac6f-81c5cea80590",
   "metadata": {},
   "outputs": [],
   "source": [
    "t2 = (2)"
   ]
  },
  {
   "cell_type": "code",
   "execution_count": 27,
   "id": "9b8b1820-ed01-4916-b9f2-bcfaaf929194",
   "metadata": {},
   "outputs": [
    {
     "data": {
      "text/plain": [
       "int"
      ]
     },
     "execution_count": 27,
     "metadata": {},
     "output_type": "execute_result"
    }
   ],
   "source": [
    "type(t2)"
   ]
  },
  {
   "cell_type": "code",
   "execution_count": 28,
   "id": "3dea9cea-0b4a-497a-8aab-eb5ee21da067",
   "metadata": {},
   "outputs": [],
   "source": [
    "t2 = (2,)"
   ]
  },
  {
   "cell_type": "code",
   "execution_count": 29,
   "id": "86a3899b-a4f9-4912-800f-d88a028c0276",
   "metadata": {},
   "outputs": [
    {
     "data": {
      "text/plain": [
       "(2,)"
      ]
     },
     "execution_count": 29,
     "metadata": {},
     "output_type": "execute_result"
    }
   ],
   "source": [
    "t2"
   ]
  },
  {
   "cell_type": "code",
   "execution_count": 30,
   "id": "ae2aff61-b702-4959-96f3-d467964d22c1",
   "metadata": {},
   "outputs": [
    {
     "data": {
      "text/plain": [
       "tuple"
      ]
     },
     "execution_count": 30,
     "metadata": {},
     "output_type": "execute_result"
    }
   ],
   "source": [
    "type(t2)"
   ]
  },
  {
   "cell_type": "code",
   "execution_count": 31,
   "id": "a0b30660-c309-44ab-b5a1-f8e00115cfa6",
   "metadata": {},
   "outputs": [],
   "source": [
    "t3 = (\"Rahul\",)"
   ]
  },
  {
   "cell_type": "code",
   "execution_count": 32,
   "id": "e6eb862b-dd44-4039-b412-a156ebfdfe44",
   "metadata": {},
   "outputs": [
    {
     "data": {
      "text/plain": [
       "tuple"
      ]
     },
     "execution_count": 32,
     "metadata": {},
     "output_type": "execute_result"
    }
   ],
   "source": [
    "type(t3)"
   ]
  },
  {
   "cell_type": "code",
   "execution_count": null,
   "id": "2a7a16c5-cbce-4ebc-b833-de1fc418ab8e",
   "metadata": {},
   "outputs": [],
   "source": []
  },
  {
   "cell_type": "code",
   "execution_count": 33,
   "id": "451be24d-4c21-4c9d-a60b-486c92f0683a",
   "metadata": {},
   "outputs": [],
   "source": [
    "# 3rd way"
   ]
  },
  {
   "cell_type": "code",
   "execution_count": 34,
   "id": "60620cbd-1259-44d1-99df-56253762d7ae",
   "metadata": {},
   "outputs": [],
   "source": [
    "t4 = tuple()"
   ]
  },
  {
   "cell_type": "code",
   "execution_count": 36,
   "id": "639f78cb-4a65-4bee-a02b-d14c33b9508d",
   "metadata": {},
   "outputs": [
    {
     "data": {
      "text/plain": [
       "tuple"
      ]
     },
     "execution_count": 36,
     "metadata": {},
     "output_type": "execute_result"
    }
   ],
   "source": [
    "type(t4)"
   ]
  },
  {
   "cell_type": "code",
   "execution_count": 38,
   "id": "00747666-9d7e-4c14-a3fb-38ae5ba041c3",
   "metadata": {},
   "outputs": [],
   "source": [
    "t5 = tuple(\"Praveen\")"
   ]
  },
  {
   "cell_type": "code",
   "execution_count": 39,
   "id": "15a01d7f-2792-4227-9ee0-110d2468d7e9",
   "metadata": {},
   "outputs": [
    {
     "data": {
      "text/plain": [
       "('P', 'r', 'a', 'v', 'e', 'e', 'n')"
      ]
     },
     "execution_count": 39,
     "metadata": {},
     "output_type": "execute_result"
    }
   ],
   "source": [
    "t5"
   ]
  },
  {
   "cell_type": "code",
   "execution_count": 40,
   "id": "b2fe72b1-fd01-44b5-bf92-cd97a6f5fb1c",
   "metadata": {},
   "outputs": [
    {
     "data": {
      "text/plain": [
       "tuple"
      ]
     },
     "execution_count": 40,
     "metadata": {},
     "output_type": "execute_result"
    }
   ],
   "source": [
    "type(t5)"
   ]
  },
  {
   "cell_type": "code",
   "execution_count": 41,
   "id": "afc97033-7a82-47bf-996a-cd51bb637c04",
   "metadata": {},
   "outputs": [
    {
     "data": {
      "text/plain": [
       "['Mercury', 'Venus', 'Rahul', 'Mars', 'Jupiter', 'Saturn']"
      ]
     },
     "execution_count": 41,
     "metadata": {},
     "output_type": "execute_result"
    }
   ],
   "source": [
    "planets"
   ]
  },
  {
   "cell_type": "code",
   "execution_count": 42,
   "id": "f013fc2d-fe5d-44b1-b324-248937f46afc",
   "metadata": {},
   "outputs": [],
   "source": [
    "t6 = tuple(planets)"
   ]
  },
  {
   "cell_type": "code",
   "execution_count": 43,
   "id": "d40fa4e3-f07e-4c3f-bd42-35118f087fbb",
   "metadata": {},
   "outputs": [
    {
     "data": {
      "text/plain": [
       "('Mercury', 'Venus', 'Rahul', 'Mars', 'Jupiter', 'Saturn')"
      ]
     },
     "execution_count": 43,
     "metadata": {},
     "output_type": "execute_result"
    }
   ],
   "source": [
    "t6"
   ]
  },
  {
   "cell_type": "code",
   "execution_count": 51,
   "id": "af2920d3-88b5-460c-be2d-b9eca0d1e073",
   "metadata": {},
   "outputs": [],
   "source": [
    "# tuple?"
   ]
  },
  {
   "cell_type": "code",
   "execution_count": null,
   "id": "11c8ac8b-2882-46f7-84f9-b6ad283a8ae9",
   "metadata": {},
   "outputs": [],
   "source": []
  },
  {
   "cell_type": "code",
   "execution_count": null,
   "id": "1463c3b3-a9d3-43c4-9fad-8d093ddda907",
   "metadata": {},
   "outputs": [],
   "source": []
  },
  {
   "cell_type": "code",
   "execution_count": 44,
   "id": "fb3df83c-9123-4210-9de9-7e28b76d4137",
   "metadata": {},
   "outputs": [],
   "source": [
    "# Iteration, indexing and slicing"
   ]
  },
  {
   "cell_type": "code",
   "execution_count": 45,
   "id": "630a839c-465c-4842-a31c-a27fefa1b5be",
   "metadata": {},
   "outputs": [],
   "source": [
    "# Ordered --> Indexing"
   ]
  },
  {
   "cell_type": "code",
   "execution_count": 46,
   "id": "263446a6-0864-4fe3-9dda-dce1853ffab2",
   "metadata": {},
   "outputs": [
    {
     "data": {
      "text/plain": [
       "('Mercury', 'Venus', 'Earth', 'Mars', 'Jupiter', 'Saturn')"
      ]
     },
     "execution_count": 46,
     "metadata": {},
     "output_type": "execute_result"
    }
   ],
   "source": [
    "planets_tuple"
   ]
  },
  {
   "cell_type": "code",
   "execution_count": 47,
   "id": "8d4203d6-3504-4760-ac04-1ab1f1494da0",
   "metadata": {},
   "outputs": [
    {
     "data": {
      "text/plain": [
       "('Mercury', 'Venus', 'Earth', 'Mars', 'Jupiter', 'Saturn')"
      ]
     },
     "execution_count": 47,
     "metadata": {},
     "output_type": "execute_result"
    }
   ],
   "source": [
    "planets_tuple[::]"
   ]
  },
  {
   "cell_type": "code",
   "execution_count": 48,
   "id": "bf6e3c84-5536-4f94-b195-458700b81e5b",
   "metadata": {},
   "outputs": [
    {
     "data": {
      "text/plain": [
       "('Saturn', 'Jupiter', 'Mars', 'Earth', 'Venus', 'Mercury')"
      ]
     },
     "execution_count": 48,
     "metadata": {},
     "output_type": "execute_result"
    }
   ],
   "source": [
    "planets_tuple[::-1]"
   ]
  },
  {
   "cell_type": "code",
   "execution_count": 53,
   "id": "113b2287-12a8-418b-8738-8717d60c21b6",
   "metadata": {},
   "outputs": [
    {
     "data": {
      "text/plain": [
       "('P', 'r', 'a', 'v', 'e', 'e', 'n')"
      ]
     },
     "execution_count": 53,
     "metadata": {},
     "output_type": "execute_result"
    }
   ],
   "source": [
    "t5"
   ]
  },
  {
   "cell_type": "code",
   "execution_count": 54,
   "id": "82ff3004-d02a-4e98-9395-666f8eb7e381",
   "metadata": {},
   "outputs": [
    {
     "name": "stdout",
     "output_type": "stream",
     "text": [
      "P\n",
      "r\n",
      "a\n",
      "v\n",
      "e\n",
      "e\n",
      "n\n"
     ]
    }
   ],
   "source": [
    "for i in t5:\n",
    "    print(i)"
   ]
  },
  {
   "cell_type": "code",
   "execution_count": null,
   "id": "1b35d76e-4c8c-4aeb-8061-0f22dc52689e",
   "metadata": {},
   "outputs": [],
   "source": []
  },
  {
   "cell_type": "code",
   "execution_count": null,
   "id": "96faca09-1e02-4f22-afb1-de8887df7d71",
   "metadata": {},
   "outputs": [],
   "source": []
  },
  {
   "cell_type": "code",
   "execution_count": 55,
   "id": "8f3602c7-ecb9-43d9-9069-124c6f28f2cd",
   "metadata": {},
   "outputs": [],
   "source": [
    "# Count and index"
   ]
  },
  {
   "cell_type": "code",
   "execution_count": 56,
   "id": "4a4f2f16-dadc-4dca-bad7-7a5b386603f5",
   "metadata": {},
   "outputs": [
    {
     "data": {
      "text/plain": [
       "('P', 'r', 'a', 'v', 'e', 'e', 'n')"
      ]
     },
     "execution_count": 56,
     "metadata": {},
     "output_type": "execute_result"
    }
   ],
   "source": [
    "t5"
   ]
  },
  {
   "cell_type": "code",
   "execution_count": 58,
   "id": "405116a3-8882-4c38-a999-a5d93da8a2e6",
   "metadata": {},
   "outputs": [
    {
     "data": {
      "text/plain": [
       "2"
      ]
     },
     "execution_count": 58,
     "metadata": {},
     "output_type": "execute_result"
    }
   ],
   "source": [
    "t5.count('e')"
   ]
  },
  {
   "cell_type": "code",
   "execution_count": 59,
   "id": "a37f818e-0df1-4c04-85e2-cbccfb5c6c05",
   "metadata": {},
   "outputs": [
    {
     "data": {
      "text/plain": [
       "0"
      ]
     },
     "execution_count": 59,
     "metadata": {},
     "output_type": "execute_result"
    }
   ],
   "source": [
    "t5.count(24)"
   ]
  },
  {
   "cell_type": "code",
   "execution_count": null,
   "id": "d85b5392-cd07-4ddd-98da-01d3f14a2e9d",
   "metadata": {},
   "outputs": [],
   "source": []
  },
  {
   "cell_type": "code",
   "execution_count": 61,
   "id": "9e68368c-96f1-4550-a6b2-963f6d7c102a",
   "metadata": {},
   "outputs": [
    {
     "data": {
      "text/plain": [
       "('P', 'r', 'a', 'v', 'e', 'e', 'n')"
      ]
     },
     "execution_count": 61,
     "metadata": {},
     "output_type": "execute_result"
    }
   ],
   "source": [
    "t5"
   ]
  },
  {
   "cell_type": "code",
   "execution_count": 63,
   "id": "a9bebc54-79c7-4a6a-8fe4-ab43b8056408",
   "metadata": {},
   "outputs": [],
   "source": [
    "# t5.index(24)"
   ]
  },
  {
   "cell_type": "code",
   "execution_count": 64,
   "id": "1e78d07c-5e03-4017-93e2-50a7dc688e9d",
   "metadata": {},
   "outputs": [
    {
     "data": {
      "text/plain": [
       "4"
      ]
     },
     "execution_count": 64,
     "metadata": {},
     "output_type": "execute_result"
    }
   ],
   "source": [
    "t5.index('e')"
   ]
  },
  {
   "cell_type": "code",
   "execution_count": null,
   "id": "37fc4a51-e198-4642-8e44-d64310307b69",
   "metadata": {},
   "outputs": [],
   "source": []
  },
  {
   "cell_type": "code",
   "execution_count": null,
   "id": "50954ce1-aa05-4ddc-b3db-87f4f512ac5e",
   "metadata": {},
   "outputs": [],
   "source": []
  },
  {
   "cell_type": "code",
   "execution_count": null,
   "id": "cf248121-01cd-4cad-8341-b25a7a2cadae",
   "metadata": {},
   "outputs": [],
   "source": []
  },
  {
   "cell_type": "code",
   "execution_count": 65,
   "id": "fca5f05d-02f6-400c-9e5d-7877bbd2a1e7",
   "metadata": {},
   "outputs": [],
   "source": [
    "# List, tuple : tuples are ~ 10x faster then lists"
   ]
  },
  {
   "cell_type": "code",
   "execution_count": null,
   "id": "0620dd36-4c97-4181-81dc-2689da61f84d",
   "metadata": {},
   "outputs": [],
   "source": []
  },
  {
   "cell_type": "code",
   "execution_count": 67,
   "id": "8c8cf0fa-4920-4987-9cc1-bc020dcbcbfb",
   "metadata": {},
   "outputs": [],
   "source": [
    "# Tuples are faster than list\n",
    "# Tuples are immutable\n",
    "# They are heterogenous\n",
    "# They have limited methods/functionality\n",
    "# They follow indexing and slicing\n",
    "# We use them when frozen data is being required"
   ]
  },
  {
   "cell_type": "code",
   "execution_count": null,
   "id": "7c276653-5fee-46c2-b1c7-0a73dddf5e7c",
   "metadata": {},
   "outputs": [],
   "source": []
  },
  {
   "cell_type": "code",
   "execution_count": 68,
   "id": "c1352859-2a59-446f-b476-7bb671c676e7",
   "metadata": {},
   "outputs": [],
   "source": [
    "# Quiz"
   ]
  },
  {
   "cell_type": "code",
   "execution_count": 69,
   "id": "7ffc7dd2-86e4-4635-ab47-e4813ecd3062",
   "metadata": {},
   "outputs": [
    {
     "name": "stdout",
     "output_type": "stream",
     "text": [
      "6\n"
     ]
    }
   ],
   "source": [
    "x = (1, 2, 3)\n",
    "y = (4, 5, 6)\n",
    "z = x + y\n",
    "print(len(z))"
   ]
  },
  {
   "cell_type": "code",
   "execution_count": 72,
   "id": "454da78f-7f47-46c8-9c54-12b73238296d",
   "metadata": {},
   "outputs": [
    {
     "data": {
      "text/plain": [
       "('P', 'r', 'a', 'v', 'e', 'e', 'n')"
      ]
     },
     "execution_count": 72,
     "metadata": {},
     "output_type": "execute_result"
    }
   ],
   "source": [
    "t5"
   ]
  },
  {
   "cell_type": "code",
   "execution_count": 75,
   "id": "9c0530a5-aa45-473d-bad6-a458556fd98c",
   "metadata": {},
   "outputs": [
    {
     "data": {
      "text/plain": [
       "4"
      ]
     },
     "execution_count": 75,
     "metadata": {},
     "output_type": "execute_result"
    }
   ],
   "source": [
    "t5.index('e')"
   ]
  },
  {
   "cell_type": "code",
   "execution_count": 77,
   "id": "6470430e-ebcb-41ea-98fb-de5a6c99de25",
   "metadata": {},
   "outputs": [],
   "source": [
    "# tuple(list)\n",
    "# list(tuple)"
   ]
  },
  {
   "cell_type": "code",
   "execution_count": 81,
   "id": "8b708d21-f354-4305-83bd-4c5aebe85833",
   "metadata": {},
   "outputs": [],
   "source": [
    "x = (1, 2, 3)"
   ]
  },
  {
   "cell_type": "code",
   "execution_count": 82,
   "id": "750e7b39-c447-46b5-9672-097bb7580e31",
   "metadata": {},
   "outputs": [
    {
     "data": {
      "text/plain": [
       "140670805745984"
      ]
     },
     "execution_count": 82,
     "metadata": {},
     "output_type": "execute_result"
    }
   ],
   "source": [
    "id(x)"
   ]
  },
  {
   "cell_type": "code",
   "execution_count": null,
   "id": "11510c44-0dab-434b-941c-5aac218c841f",
   "metadata": {},
   "outputs": [],
   "source": []
  },
  {
   "cell_type": "code",
   "execution_count": 83,
   "id": "ba02c6ca-dd1d-4d30-a0e3-a79e3d3e9a04",
   "metadata": {},
   "outputs": [],
   "source": [
    "x = x + (4, 5)"
   ]
  },
  {
   "cell_type": "code",
   "execution_count": 84,
   "id": "a49004f0-accd-4e9f-b19f-504ce7348b38",
   "metadata": {},
   "outputs": [
    {
     "data": {
      "text/plain": [
       "(1, 2, 3, 4, 5)"
      ]
     },
     "execution_count": 84,
     "metadata": {},
     "output_type": "execute_result"
    }
   ],
   "source": [
    "x"
   ]
  },
  {
   "cell_type": "code",
   "execution_count": 85,
   "id": "7a52023e-8a16-4151-b3e2-869d184db294",
   "metadata": {},
   "outputs": [
    {
     "data": {
      "text/plain": [
       "140670816674416"
      ]
     },
     "execution_count": 85,
     "metadata": {},
     "output_type": "execute_result"
    }
   ],
   "source": [
    "id(x)"
   ]
  },
  {
   "cell_type": "code",
   "execution_count": null,
   "id": "aec34c53-b41f-4be0-b3bd-6d1aad8f2e55",
   "metadata": {},
   "outputs": [],
   "source": []
  },
  {
   "cell_type": "code",
   "execution_count": null,
   "id": "3a7aefbe-d8ce-477f-8fb9-3ad3eabd9ff5",
   "metadata": {},
   "outputs": [],
   "source": []
  },
  {
   "cell_type": "code",
   "execution_count": null,
   "id": "63caaf00-a961-46cf-a259-373cc1922edb",
   "metadata": {},
   "outputs": [],
   "source": []
  },
  {
   "cell_type": "code",
   "execution_count": 86,
   "id": "eef96e58-03b5-4f98-894d-e0c5a6b45094",
   "metadata": {},
   "outputs": [],
   "source": [
    "# Swapping values of two variable in python"
   ]
  },
  {
   "cell_type": "code",
   "execution_count": 87,
   "id": "557e86d7-082a-4d04-9448-cf0f2d205cef",
   "metadata": {},
   "outputs": [],
   "source": [
    "x = 45\n",
    "y = 34"
   ]
  },
  {
   "cell_type": "code",
   "execution_count": 88,
   "id": "5a7fcad3-c3c1-43c7-a2a6-70157843d79b",
   "metadata": {},
   "outputs": [],
   "source": [
    "# x --> 34\n",
    "# y --> 45"
   ]
  },
  {
   "cell_type": "code",
   "execution_count": 89,
   "id": "8db4c195-927c-4266-9652-3538e11f2ab9",
   "metadata": {},
   "outputs": [
    {
     "name": "stdout",
     "output_type": "stream",
     "text": [
      "45 34\n"
     ]
    }
   ],
   "source": [
    "print(x, y)"
   ]
  },
  {
   "cell_type": "code",
   "execution_count": 90,
   "id": "6ca1a9b4-77da-4b65-a584-7de4a0e02fa7",
   "metadata": {},
   "outputs": [],
   "source": [
    "x, y = y, x"
   ]
  },
  {
   "cell_type": "code",
   "execution_count": 91,
   "id": "6f9953f6-10ee-46bc-bd41-2c4242ae35a1",
   "metadata": {},
   "outputs": [
    {
     "name": "stdout",
     "output_type": "stream",
     "text": [
      "34 45\n"
     ]
    }
   ],
   "source": [
    "print(x, y)"
   ]
  },
  {
   "cell_type": "code",
   "execution_count": null,
   "id": "d5d54291-9129-41da-8f68-26d92d0b995f",
   "metadata": {},
   "outputs": [],
   "source": []
  },
  {
   "cell_type": "code",
   "execution_count": null,
   "id": "c6733be9-5c6a-45be-8e3f-fd2b514a8096",
   "metadata": {},
   "outputs": [],
   "source": []
  },
  {
   "cell_type": "code",
   "execution_count": null,
   "id": "85789467-f600-4749-ad9f-51d2a9f86a4a",
   "metadata": {},
   "outputs": [],
   "source": []
  },
  {
   "cell_type": "markdown",
   "id": "068336ee-35cd-495a-9cd0-18220e0f5218",
   "metadata": {},
   "source": [
    "## Sets"
   ]
  },
  {
   "cell_type": "markdown",
   "id": "2b5b0acd-bf6a-4b39-8008-5109b12b4349",
   "metadata": {},
   "source": [
    "Problem: Suppose that you are working as a data analyst at an edtech company. The edtech company is offering courses on Calculus(C) and Linear Algebra(L) among many others. Now you want to represent the students in the courses. Which data structure to use?\n",
    "- Assume all names are unique for the students taking part in the edtech company. We have done this for better understanding. We could have taken id which will be unique.\n",
    "\n",
    "Options?\n",
    "\n",
    "- Lists => It can contain duplicate values\n",
    "- Tuples => It can also contain duplicate values.\n",
    "\n",
    "There is a different alternative => Sets"
   ]
  },
  {
   "cell_type": "code",
   "execution_count": 92,
   "id": "bdfe7949-5011-4894-9a31-89d421ae6723",
   "metadata": {},
   "outputs": [],
   "source": [
    "s1 = [\"Neha\", \"Sachin\", \"Abuzar\", \"Neha\", \"Rahul\", \"Neha\"]"
   ]
  },
  {
   "cell_type": "code",
   "execution_count": 93,
   "id": "616038b6-1ee5-47ac-86f3-0397361471b7",
   "metadata": {},
   "outputs": [
    {
     "data": {
      "text/plain": [
       "['Neha', 'Sachin', 'Abuzar', 'Neha', 'Rahul', 'Neha']"
      ]
     },
     "execution_count": 93,
     "metadata": {},
     "output_type": "execute_result"
    }
   ],
   "source": [
    "s1"
   ]
  },
  {
   "cell_type": "code",
   "execution_count": 94,
   "id": "05bde915-28a2-4bbe-b4dc-b8c2cdbf73be",
   "metadata": {},
   "outputs": [],
   "source": [
    "s1 = (\"Neha\", \"Sachin\", \"Abuzar\", \"Neha\", \"Rahul\", \"Neha\")"
   ]
  },
  {
   "cell_type": "code",
   "execution_count": 95,
   "id": "08bcb4e3-e66f-447d-bc23-162f86ade8c8",
   "metadata": {},
   "outputs": [
    {
     "data": {
      "text/plain": [
       "('Neha', 'Sachin', 'Abuzar', 'Neha', 'Rahul', 'Neha')"
      ]
     },
     "execution_count": 95,
     "metadata": {},
     "output_type": "execute_result"
    }
   ],
   "source": [
    "s1"
   ]
  },
  {
   "cell_type": "code",
   "execution_count": null,
   "id": "d3fbcb9d-f63b-4051-b9bc-c9dcabd06796",
   "metadata": {},
   "outputs": [],
   "source": []
  },
  {
   "cell_type": "code",
   "execution_count": null,
   "id": "4c0c3aa1-1264-471a-87a4-7946d6958165",
   "metadata": {},
   "outputs": [],
   "source": []
  },
  {
   "cell_type": "code",
   "execution_count": 96,
   "id": "f92ccb93-c6eb-4680-9762-009bfd5b096e",
   "metadata": {},
   "outputs": [],
   "source": [
    "# Sets are unordered data structure"
   ]
  },
  {
   "cell_type": "code",
   "execution_count": 97,
   "id": "27195203-fe12-4742-ae7d-ecb9612ebe93",
   "metadata": {},
   "outputs": [],
   "source": [
    "s = {\"Neha\", \"Sachin\", \"Abuzar\", \"Neha\", \"Rahul\", \"Neha\"}"
   ]
  },
  {
   "cell_type": "code",
   "execution_count": 98,
   "id": "bd36bffb-2595-44d2-a417-0869b6221c70",
   "metadata": {},
   "outputs": [
    {
     "data": {
      "text/plain": [
       "set"
      ]
     },
     "execution_count": 98,
     "metadata": {},
     "output_type": "execute_result"
    }
   ],
   "source": [
    "type(s)"
   ]
  },
  {
   "cell_type": "code",
   "execution_count": 99,
   "id": "498f6976-6b70-49e6-8c9d-d24d2fe724e5",
   "metadata": {},
   "outputs": [
    {
     "data": {
      "text/plain": [
       "{'Abuzar', 'Neha', 'Rahul', 'Sachin'}"
      ]
     },
     "execution_count": 99,
     "metadata": {},
     "output_type": "execute_result"
    }
   ],
   "source": [
    "s"
   ]
  },
  {
   "cell_type": "code",
   "execution_count": 102,
   "id": "f9be0e5a-f6e5-498a-8bab-a1c81bc7c128",
   "metadata": {},
   "outputs": [
    {
     "name": "stdout",
     "output_type": "stream",
     "text": [
      "Neha\n",
      "Sachin\n",
      "Abuzar\n",
      "Rahul\n"
     ]
    }
   ],
   "source": [
    "for i in s:\n",
    "    print(i)"
   ]
  },
  {
   "cell_type": "code",
   "execution_count": null,
   "id": "657b7ef2-3da5-4a8c-94a7-2dc52f60b5c5",
   "metadata": {},
   "outputs": [],
   "source": []
  },
  {
   "cell_type": "code",
   "execution_count": null,
   "id": "2a02636c-f1bc-4a63-bc84-9bbe761f6fa3",
   "metadata": {},
   "outputs": [],
   "source": []
  },
  {
   "cell_type": "code",
   "execution_count": 103,
   "id": "bc6e3850-ca1e-4d85-b349-78e1bc2565ee",
   "metadata": {},
   "outputs": [],
   "source": [
    "# Set does not support indexing\n",
    "# s[0]"
   ]
  },
  {
   "cell_type": "code",
   "execution_count": 104,
   "id": "d6a65610-026c-4bd6-8aed-c8b035399163",
   "metadata": {},
   "outputs": [
    {
     "data": {
      "text/plain": [
       "{'Abuzar', 'Neha', 'Rahul', 'Sachin'}"
      ]
     },
     "execution_count": 104,
     "metadata": {},
     "output_type": "execute_result"
    }
   ],
   "source": [
    "s"
   ]
  },
  {
   "cell_type": "code",
   "execution_count": null,
   "id": "457833a2-3df5-481b-be71-b6478c8806b6",
   "metadata": {},
   "outputs": [],
   "source": []
  },
  {
   "cell_type": "code",
   "execution_count": 106,
   "id": "61be29df-812f-43b4-8345-8e488fb17420",
   "metadata": {},
   "outputs": [],
   "source": [
    "# in operator"
   ]
  },
  {
   "cell_type": "code",
   "execution_count": 107,
   "id": "2599cc19-466c-4cb9-bb8b-da0d7d458845",
   "metadata": {},
   "outputs": [
    {
     "data": {
      "text/plain": [
       "True"
      ]
     },
     "execution_count": 107,
     "metadata": {},
     "output_type": "execute_result"
    }
   ],
   "source": [
    "\"Rahul\" in s"
   ]
  },
  {
   "cell_type": "code",
   "execution_count": null,
   "id": "829d5e71-0733-4135-b10c-1a9323e92818",
   "metadata": {},
   "outputs": [],
   "source": []
  },
  {
   "cell_type": "code",
   "execution_count": null,
   "id": "435605b5-bc8c-4099-8722-210106273367",
   "metadata": {},
   "outputs": [],
   "source": []
  },
  {
   "cell_type": "markdown",
   "id": "b1cd49a6-5693-499a-8344-64f4477dba46",
   "metadata": {},
   "source": [
    "### Creation\n",
    "- set()\n",
    "- set(iterable)"
   ]
  },
  {
   "cell_type": "code",
   "execution_count": 108,
   "id": "d30fd4dd-097f-4ff4-8f9e-3879988a540f",
   "metadata": {},
   "outputs": [],
   "source": [
    "# set\n",
    "# dict"
   ]
  },
  {
   "cell_type": "code",
   "execution_count": 109,
   "id": "22e71041-9cca-47ac-a005-b2b487b23b50",
   "metadata": {},
   "outputs": [],
   "source": [
    "s = {}"
   ]
  },
  {
   "cell_type": "code",
   "execution_count": 110,
   "id": "619284e8-92e3-4635-bd6a-66eddbf19206",
   "metadata": {},
   "outputs": [
    {
     "data": {
      "text/plain": [
       "dict"
      ]
     },
     "execution_count": 110,
     "metadata": {},
     "output_type": "execute_result"
    }
   ],
   "source": [
    "type(s)"
   ]
  },
  {
   "cell_type": "code",
   "execution_count": 111,
   "id": "dd306077-38fa-4baa-9311-df263e265f99",
   "metadata": {},
   "outputs": [],
   "source": [
    "s = set()"
   ]
  },
  {
   "cell_type": "code",
   "execution_count": 112,
   "id": "993bb72d-25ff-46d7-9052-287a0903c745",
   "metadata": {},
   "outputs": [
    {
     "data": {
      "text/plain": [
       "set()"
      ]
     },
     "execution_count": 112,
     "metadata": {},
     "output_type": "execute_result"
    }
   ],
   "source": [
    "s"
   ]
  },
  {
   "cell_type": "code",
   "execution_count": 113,
   "id": "31c9bb1b-8610-4881-81cc-cdaa6d887ac8",
   "metadata": {},
   "outputs": [],
   "source": [
    "s = {1, 2, 3, 1, 4, 5, 6, 3, 2, 1}"
   ]
  },
  {
   "cell_type": "code",
   "execution_count": 116,
   "id": "dd2afaf4-5415-43c6-bd78-a8fcb5a6ca7c",
   "metadata": {},
   "outputs": [],
   "source": [
    "# Set is taking care of duplicate values"
   ]
  },
  {
   "cell_type": "code",
   "execution_count": 117,
   "id": "ca35c56d-e9d5-46ad-8339-2f301416428d",
   "metadata": {},
   "outputs": [
    {
     "data": {
      "text/plain": [
       "{1, 2, 3, 4, 5, 6}"
      ]
     },
     "execution_count": 117,
     "metadata": {},
     "output_type": "execute_result"
    }
   ],
   "source": [
    "s"
   ]
  },
  {
   "cell_type": "code",
   "execution_count": 119,
   "id": "9013e31a-83bb-4953-b609-e96575e008cf",
   "metadata": {},
   "outputs": [],
   "source": [
    "l = [1, 2, 3, 4, 5, 6, 7, 3, 2, 1]"
   ]
  },
  {
   "cell_type": "code",
   "execution_count": 120,
   "id": "3c0ca599-3365-4445-83cf-a82430d88a77",
   "metadata": {},
   "outputs": [],
   "source": [
    "set_list = set(l)"
   ]
  },
  {
   "cell_type": "code",
   "execution_count": 121,
   "id": "4c04491d-35a6-47d0-95b0-2e66d46edeb4",
   "metadata": {},
   "outputs": [
    {
     "data": {
      "text/plain": [
       "{1, 2, 3, 4, 5, 6, 7}"
      ]
     },
     "execution_count": 121,
     "metadata": {},
     "output_type": "execute_result"
    }
   ],
   "source": [
    "set_list"
   ]
  },
  {
   "cell_type": "code",
   "execution_count": 123,
   "id": "1da07ce5-fa41-4638-8b6f-de651d71bad2",
   "metadata": {},
   "outputs": [],
   "source": [
    "s2 = set(\"Praveen\")"
   ]
  },
  {
   "cell_type": "code",
   "execution_count": 124,
   "id": "07ab1176-e952-46da-9540-cbeba6e5fbea",
   "metadata": {},
   "outputs": [
    {
     "data": {
      "text/plain": [
       "{'P', 'a', 'e', 'n', 'r', 'v'}"
      ]
     },
     "execution_count": 124,
     "metadata": {},
     "output_type": "execute_result"
    }
   ],
   "source": [
    "s2"
   ]
  },
  {
   "cell_type": "code",
   "execution_count": null,
   "id": "f7025017-5c45-42e9-911d-3e5351edec4d",
   "metadata": {},
   "outputs": [],
   "source": []
  },
  {
   "cell_type": "code",
   "execution_count": null,
   "id": "536cb123-f9c9-4aa8-b11d-0faa3195eb8f",
   "metadata": {},
   "outputs": [],
   "source": []
  },
  {
   "cell_type": "code",
   "execution_count": null,
   "id": "0001cf35-f93c-4ec1-b549-754f7f3a0c90",
   "metadata": {},
   "outputs": [],
   "source": []
  },
  {
   "cell_type": "code",
   "execution_count": null,
   "id": "b8c457d7-b770-4a29-bed7-a14d96cc7300",
   "metadata": {},
   "outputs": [],
   "source": []
  },
  {
   "cell_type": "markdown",
   "id": "7a3fe06f-acb0-4688-8f1d-390d1193396b",
   "metadata": {},
   "source": [
    "### Iteration and indexing?"
   ]
  },
  {
   "cell_type": "markdown",
   "id": "93a4c0ea-be6f-4f81-b8ca-c2a1a87013b9",
   "metadata": {},
   "source": [
    "- We cannot access a set item by referring to an index or a key. If you cannot access an element we cannot modify it. That's why it is also unchangeable\n",
    "- We can however run a loop to iterate."
   ]
  },
  {
   "cell_type": "code",
   "execution_count": 125,
   "id": "7337945c-3711-4ea1-a2c9-c660abf6131f",
   "metadata": {},
   "outputs": [],
   "source": [
    "# Sets does not support indexing"
   ]
  },
  {
   "cell_type": "code",
   "execution_count": 126,
   "id": "cd3c2161-2a02-47cd-b4a6-c7cb3e0ed1f1",
   "metadata": {},
   "outputs": [
    {
     "data": {
      "text/plain": [
       "{1, 2, 3, 4, 5, 6}"
      ]
     },
     "execution_count": 126,
     "metadata": {},
     "output_type": "execute_result"
    }
   ],
   "source": [
    "s"
   ]
  },
  {
   "cell_type": "code",
   "execution_count": 127,
   "id": "acb0d1a3-cf40-41b4-922e-8ce75006f0fd",
   "metadata": {},
   "outputs": [
    {
     "data": {
      "text/plain": [
       "{'P', 'a', 'e', 'n', 'r', 'v'}"
      ]
     },
     "execution_count": 127,
     "metadata": {},
     "output_type": "execute_result"
    }
   ],
   "source": [
    "s2"
   ]
  },
  {
   "cell_type": "code",
   "execution_count": 128,
   "id": "be213f66-b6e3-47be-9675-a13ad455aa86",
   "metadata": {},
   "outputs": [
    {
     "name": "stdout",
     "output_type": "stream",
     "text": [
      "e\n",
      "r\n",
      "v\n",
      "P\n",
      "a\n",
      "n\n"
     ]
    }
   ],
   "source": [
    "for i in s2:\n",
    "    print(i)"
   ]
  },
  {
   "cell_type": "code",
   "execution_count": null,
   "id": "c098d039-97d3-419c-8eb9-0fc111824c4a",
   "metadata": {},
   "outputs": [],
   "source": []
  },
  {
   "cell_type": "code",
   "execution_count": null,
   "id": "93ef070b-4abc-4085-9464-51c2cb4c9c21",
   "metadata": {},
   "outputs": [],
   "source": []
  },
  {
   "cell_type": "code",
   "execution_count": null,
   "id": "70c4893e-3912-460e-8026-034591ad16c8",
   "metadata": {},
   "outputs": [],
   "source": []
  },
  {
   "cell_type": "code",
   "execution_count": null,
   "id": "51c6b1fb-a2ce-4379-b6d6-59f311515f33",
   "metadata": {},
   "outputs": [],
   "source": [
    "# s[0]"
   ]
  },
  {
   "cell_type": "code",
   "execution_count": null,
   "id": "80e33651-8edb-45d3-a5a6-77ce39e996fa",
   "metadata": {},
   "outputs": [],
   "source": [
    "# Indexing is not supported in sets"
   ]
  },
  {
   "cell_type": "code",
   "execution_count": null,
   "id": "66daa7db-c7d7-4d09-acd4-07b75f197eb5",
   "metadata": {},
   "outputs": [],
   "source": []
  },
  {
   "cell_type": "code",
   "execution_count": null,
   "id": "8ea0f5dd-92c1-4065-95b9-a1c3ed290485",
   "metadata": {},
   "outputs": [],
   "source": []
  },
  {
   "cell_type": "markdown",
   "id": "6793fc7f-fa0c-4c4c-99d3-e20248836f33",
   "metadata": {},
   "source": [
    "#### Challenge: Count number of unique words in a sentence\n",
    "- Input: \"the quick brown fox jumps over the lazy dog\"\n",
    "- Output: 8"
   ]
  },
  {
   "cell_type": "code",
   "execution_count": 129,
   "id": "fe9b52cc-b42c-4355-8213-e7e82bfd1514",
   "metadata": {},
   "outputs": [],
   "source": [
    "sen = \"the quick brown fox jumps over the lazy dog\""
   ]
  },
  {
   "cell_type": "code",
   "execution_count": 131,
   "id": "b7ba12d6-f749-4c0e-ab28-8c4b90872fe8",
   "metadata": {},
   "outputs": [],
   "source": [
    "# set(sen)"
   ]
  },
  {
   "cell_type": "code",
   "execution_count": 133,
   "id": "f571f151-9563-4e55-8045-5b087bd08bea",
   "metadata": {},
   "outputs": [],
   "source": [
    "words = sen.split()"
   ]
  },
  {
   "cell_type": "code",
   "execution_count": 134,
   "id": "414d5470-63cd-4cb2-adb5-abbc63011cd6",
   "metadata": {},
   "outputs": [
    {
     "data": {
      "text/plain": [
       "['the', 'quick', 'brown', 'fox', 'jumps', 'over', 'the', 'lazy', 'dog']"
      ]
     },
     "execution_count": 134,
     "metadata": {},
     "output_type": "execute_result"
    }
   ],
   "source": [
    "words"
   ]
  },
  {
   "cell_type": "code",
   "execution_count": 135,
   "id": "7606324b-1fff-4ae6-997c-f316e394179e",
   "metadata": {},
   "outputs": [
    {
     "data": {
      "text/plain": [
       "9"
      ]
     },
     "execution_count": 135,
     "metadata": {},
     "output_type": "execute_result"
    }
   ],
   "source": [
    "len(words)"
   ]
  },
  {
   "cell_type": "code",
   "execution_count": 137,
   "id": "7e4dbf44-14ab-4d0f-b267-8d4d84f91017",
   "metadata": {},
   "outputs": [],
   "source": [
    "unique = set(words)"
   ]
  },
  {
   "cell_type": "code",
   "execution_count": 138,
   "id": "68fb763b-07b4-4fff-b049-e4b53f4b8c2e",
   "metadata": {},
   "outputs": [
    {
     "data": {
      "text/plain": [
       "{'brown', 'dog', 'fox', 'jumps', 'lazy', 'over', 'quick', 'the'}"
      ]
     },
     "execution_count": 138,
     "metadata": {},
     "output_type": "execute_result"
    }
   ],
   "source": [
    "unique"
   ]
  },
  {
   "cell_type": "code",
   "execution_count": 139,
   "id": "5952bf38-a53b-474f-afab-81446fe393e6",
   "metadata": {},
   "outputs": [
    {
     "data": {
      "text/plain": [
       "8"
      ]
     },
     "execution_count": 139,
     "metadata": {},
     "output_type": "execute_result"
    }
   ],
   "source": [
    "len(unique)"
   ]
  },
  {
   "cell_type": "code",
   "execution_count": 140,
   "id": "f40b6c46-a9b2-465a-8874-79cf596a009d",
   "metadata": {},
   "outputs": [
    {
     "data": {
      "text/plain": [
       "8"
      ]
     },
     "execution_count": 140,
     "metadata": {},
     "output_type": "execute_result"
    }
   ],
   "source": [
    "len(set(sen.split()))"
   ]
  },
  {
   "cell_type": "code",
   "execution_count": 141,
   "id": "a412212a-fa99-4990-9047-d0a2dc23a88c",
   "metadata": {},
   "outputs": [],
   "source": [
    "def unique_words(s):\n",
    "    return len(set(s.split()))"
   ]
  },
  {
   "cell_type": "code",
   "execution_count": 142,
   "id": "b6b83447-18fd-4faa-8f5d-ecd9cb38e48a",
   "metadata": {},
   "outputs": [
    {
     "data": {
      "text/plain": [
       "2"
      ]
     },
     "execution_count": 142,
     "metadata": {},
     "output_type": "execute_result"
    }
   ],
   "source": [
    "unique_words(\"Rahul Janghu\")"
   ]
  },
  {
   "cell_type": "code",
   "execution_count": 143,
   "id": "9a20e2b3-d1fb-464d-b95a-a6cf8bfdd429",
   "metadata": {},
   "outputs": [
    {
     "data": {
      "text/plain": [
       "1"
      ]
     },
     "execution_count": 143,
     "metadata": {},
     "output_type": "execute_result"
    }
   ],
   "source": [
    "unique_words(\"RahulJanghu\")"
   ]
  },
  {
   "cell_type": "code",
   "execution_count": null,
   "id": "9dbf932c-f07b-4aec-885f-ebc38dcde802",
   "metadata": {},
   "outputs": [],
   "source": []
  },
  {
   "cell_type": "code",
   "execution_count": null,
   "id": "4957a461-6d21-4b24-8fbc-74449e48e19c",
   "metadata": {},
   "outputs": [],
   "source": []
  },
  {
   "cell_type": "code",
   "execution_count": null,
   "id": "30eabae1-fdba-4957-a89b-7a7828aa635f",
   "metadata": {},
   "outputs": [],
   "source": []
  },
  {
   "cell_type": "markdown",
   "id": "b9d87f3e-218e-4a2e-bb81-90468f28a141",
   "metadata": {},
   "source": [
    "### Updating a set\n",
    "- add: For single element\n",
    "- update(iterable)"
   ]
  },
  {
   "cell_type": "code",
   "execution_count": 144,
   "id": "f6bd6cc5-5669-42f6-9a60-d8bf1db949fd",
   "metadata": {},
   "outputs": [],
   "source": [
    "# add"
   ]
  },
  {
   "cell_type": "code",
   "execution_count": 145,
   "id": "4e9f6d5d-1139-458a-8172-8bda0a176293",
   "metadata": {},
   "outputs": [],
   "source": [
    "# Let's go on a trip"
   ]
  },
  {
   "cell_type": "code",
   "execution_count": 146,
   "id": "6ce57f42-4905-47a6-ad8a-f809dbf80230",
   "metadata": {},
   "outputs": [],
   "source": [
    "bag = {\"Clothes\", \"Slippers\", \"Lighter\", \"torch\", \"first_aid\", \"Bottle\", \"Tent\"}"
   ]
  },
  {
   "cell_type": "code",
   "execution_count": 147,
   "id": "47cdd823-181f-4eef-bae8-60d777859622",
   "metadata": {},
   "outputs": [
    {
     "data": {
      "text/plain": [
       "set"
      ]
     },
     "execution_count": 147,
     "metadata": {},
     "output_type": "execute_result"
    }
   ],
   "source": [
    "type(bag)"
   ]
  },
  {
   "cell_type": "code",
   "execution_count": 148,
   "id": "1c84f946-6c7d-4295-a313-4c758af18a68",
   "metadata": {},
   "outputs": [],
   "source": [
    "bag.add(\"Charger\")"
   ]
  },
  {
   "cell_type": "code",
   "execution_count": 149,
   "id": "5696d953-4fb0-4e45-8879-b4803e534b1b",
   "metadata": {},
   "outputs": [
    {
     "data": {
      "text/plain": [
       "{'Bottle',\n",
       " 'Charger',\n",
       " 'Clothes',\n",
       " 'Lighter',\n",
       " 'Slippers',\n",
       " 'Tent',\n",
       " 'first_aid',\n",
       " 'torch'}"
      ]
     },
     "execution_count": 149,
     "metadata": {},
     "output_type": "execute_result"
    }
   ],
   "source": [
    "bag"
   ]
  },
  {
   "cell_type": "code",
   "execution_count": 150,
   "id": "54566213-bfb3-41fa-aabe-095ce6004f12",
   "metadata": {},
   "outputs": [],
   "source": [
    "bag.add(\"Charger\")"
   ]
  },
  {
   "cell_type": "code",
   "execution_count": 152,
   "id": "4e71f595-c0a0-4605-a65a-b729083fee74",
   "metadata": {},
   "outputs": [],
   "source": [
    "bag.add(\"Power bank\")"
   ]
  },
  {
   "cell_type": "code",
   "execution_count": 153,
   "id": "b03a2f35-2d1d-49f0-9a28-11da88974753",
   "metadata": {},
   "outputs": [
    {
     "data": {
      "text/plain": [
       "{'Bottle',\n",
       " 'Charger',\n",
       " 'Clothes',\n",
       " 'Lighter',\n",
       " 'Power bank',\n",
       " 'Slippers',\n",
       " 'Tent',\n",
       " 'first_aid',\n",
       " 'torch'}"
      ]
     },
     "execution_count": 153,
     "metadata": {},
     "output_type": "execute_result"
    }
   ],
   "source": [
    "bag"
   ]
  },
  {
   "cell_type": "code",
   "execution_count": null,
   "id": "713e61db-e564-4c19-b7e6-726a9d57a2b3",
   "metadata": {},
   "outputs": [],
   "source": []
  },
  {
   "cell_type": "code",
   "execution_count": null,
   "id": "b54b61ef-3713-4ff1-8531-d1d9739dbbc7",
   "metadata": {},
   "outputs": [],
   "source": []
  },
  {
   "cell_type": "code",
   "execution_count": 154,
   "id": "cf6eb2fe-8297-40bd-aa7f-491ed57938a9",
   "metadata": {},
   "outputs": [],
   "source": [
    "# update"
   ]
  },
  {
   "cell_type": "code",
   "execution_count": 155,
   "id": "116f7413-9649-4565-8d5d-4d49b2123129",
   "metadata": {},
   "outputs": [],
   "source": [
    "toilet_kit = {\"Brush\", \"Soap\", \"Towel\", \"Facewash\"}"
   ]
  },
  {
   "cell_type": "code",
   "execution_count": 157,
   "id": "3edaa215-5976-4d77-a23f-c216c21d36ae",
   "metadata": {},
   "outputs": [],
   "source": [
    "bag.update(toilet_kit)"
   ]
  },
  {
   "cell_type": "code",
   "execution_count": 158,
   "id": "54059eb6-ab8e-47ab-aadd-839cbd661198",
   "metadata": {},
   "outputs": [
    {
     "data": {
      "text/plain": [
       "{'Bottle',\n",
       " 'Brush',\n",
       " 'Charger',\n",
       " 'Clothes',\n",
       " 'Facewash',\n",
       " 'Lighter',\n",
       " 'Power bank',\n",
       " 'Slippers',\n",
       " 'Soap',\n",
       " 'Tent',\n",
       " 'Towel',\n",
       " 'first_aid',\n",
       " 'torch'}"
      ]
     },
     "execution_count": 158,
     "metadata": {},
     "output_type": "execute_result"
    }
   ],
   "source": [
    "bag"
   ]
  },
  {
   "cell_type": "code",
   "execution_count": null,
   "id": "0c288e2b-58d2-491c-b2fd-88fd49cb13fd",
   "metadata": {},
   "outputs": [],
   "source": []
  },
  {
   "cell_type": "code",
   "execution_count": null,
   "id": "8ba866a9-82f7-4bf1-9a5d-ef49e3f3f739",
   "metadata": {},
   "outputs": [],
   "source": []
  },
  {
   "cell_type": "markdown",
   "id": "45c6ad9d-54a4-41b8-8564-f76e2bfcec97",
   "metadata": {},
   "source": [
    "### Deleting an element\n",
    "- pop: removes random element. We are not sure what it is\n",
    "- remove(element): Removes particular element"
   ]
  },
  {
   "cell_type": "code",
   "execution_count": 159,
   "id": "3c32484a-9426-49fc-a1ca-8b1c5cf2824a",
   "metadata": {},
   "outputs": [],
   "source": [
    "# Pop\n",
    "# Remove and return an arbitrary set element"
   ]
  },
  {
   "cell_type": "code",
   "execution_count": 160,
   "id": "84e4e0a4-559e-40e3-aada-9a484c263018",
   "metadata": {},
   "outputs": [
    {
     "data": {
      "text/plain": [
       "{'Bottle',\n",
       " 'Brush',\n",
       " 'Charger',\n",
       " 'Clothes',\n",
       " 'Facewash',\n",
       " 'Lighter',\n",
       " 'Power bank',\n",
       " 'Slippers',\n",
       " 'Soap',\n",
       " 'Tent',\n",
       " 'Towel',\n",
       " 'first_aid',\n",
       " 'torch'}"
      ]
     },
     "execution_count": 160,
     "metadata": {},
     "output_type": "execute_result"
    }
   ],
   "source": [
    "bag"
   ]
  },
  {
   "cell_type": "code",
   "execution_count": 162,
   "id": "bfda7a91-f6fa-49bd-99fd-638efd6e41c4",
   "metadata": {},
   "outputs": [],
   "source": [
    "deleted = bag.pop()"
   ]
  },
  {
   "cell_type": "code",
   "execution_count": 163,
   "id": "15879519-3315-46ef-ad9f-d4b77bfbdfeb",
   "metadata": {},
   "outputs": [
    {
     "data": {
      "text/plain": [
       "'Power bank'"
      ]
     },
     "execution_count": 163,
     "metadata": {},
     "output_type": "execute_result"
    }
   ],
   "source": [
    "deleted"
   ]
  },
  {
   "cell_type": "code",
   "execution_count": 165,
   "id": "4dacd418-2bfb-4c1a-93e5-f14789ec41fb",
   "metadata": {},
   "outputs": [
    {
     "data": {
      "text/plain": [
       "{'Bottle',\n",
       " 'Brush',\n",
       " 'Charger',\n",
       " 'Clothes',\n",
       " 'Facewash',\n",
       " 'Lighter',\n",
       " 'Slippers',\n",
       " 'Soap',\n",
       " 'Tent',\n",
       " 'Towel',\n",
       " 'first_aid',\n",
       " 'torch'}"
      ]
     },
     "execution_count": 165,
     "metadata": {},
     "output_type": "execute_result"
    }
   ],
   "source": [
    "bag"
   ]
  },
  {
   "cell_type": "code",
   "execution_count": null,
   "id": "edb8283f-0942-4ee8-8782-51ac8faba57a",
   "metadata": {},
   "outputs": [],
   "source": []
  },
  {
   "cell_type": "code",
   "execution_count": null,
   "id": "bef52f57-2de1-4263-9ece-569f721c6094",
   "metadata": {},
   "outputs": [],
   "source": []
  },
  {
   "cell_type": "code",
   "execution_count": 166,
   "id": "6b414355-73c1-49d8-831b-5ee4a9454181",
   "metadata": {},
   "outputs": [],
   "source": [
    "# Remove helps to remove a particular element fron your set\n",
    "# It will not return"
   ]
  },
  {
   "cell_type": "code",
   "execution_count": 169,
   "id": "e2eac108-d0e9-4366-b66d-d06e241dd472",
   "metadata": {},
   "outputs": [
    {
     "data": {
      "text/plain": [
       "{'Bottle',\n",
       " 'Brush',\n",
       " 'Charger',\n",
       " 'Clothes',\n",
       " 'Facewash',\n",
       " 'Lighter',\n",
       " 'Slippers',\n",
       " 'Soap',\n",
       " 'Tent',\n",
       " 'Towel',\n",
       " 'first_aid',\n",
       " 'torch'}"
      ]
     },
     "execution_count": 169,
     "metadata": {},
     "output_type": "execute_result"
    }
   ],
   "source": [
    "bag"
   ]
  },
  {
   "cell_type": "code",
   "execution_count": 170,
   "id": "cd6c7408-4027-4541-9c75-0476b1cc6805",
   "metadata": {},
   "outputs": [],
   "source": [
    "# bag.remove(\"tooth paste\")"
   ]
  },
  {
   "cell_type": "code",
   "execution_count": 171,
   "id": "236214cb-90c5-4840-bbab-485d3424f12d",
   "metadata": {},
   "outputs": [],
   "source": [
    "deleted = bag.remove(\"Facewash\")"
   ]
  },
  {
   "cell_type": "code",
   "execution_count": 173,
   "id": "cb93a1d3-c952-452c-a044-4b928c06b65d",
   "metadata": {},
   "outputs": [
    {
     "name": "stdout",
     "output_type": "stream",
     "text": [
      "None\n"
     ]
    }
   ],
   "source": [
    "print(deleted)"
   ]
  },
  {
   "cell_type": "code",
   "execution_count": 174,
   "id": "a450d209-958b-48cc-9f3c-9e31a5d83bc0",
   "metadata": {},
   "outputs": [
    {
     "data": {
      "text/plain": [
       "{'Bottle',\n",
       " 'Brush',\n",
       " 'Charger',\n",
       " 'Clothes',\n",
       " 'Lighter',\n",
       " 'Slippers',\n",
       " 'Soap',\n",
       " 'Tent',\n",
       " 'Towel',\n",
       " 'first_aid',\n",
       " 'torch'}"
      ]
     },
     "execution_count": 174,
     "metadata": {},
     "output_type": "execute_result"
    }
   ],
   "source": [
    "bag"
   ]
  },
  {
   "cell_type": "code",
   "execution_count": 175,
   "id": "d6abe5cb-bb71-4ce0-a227-17ed926ab48f",
   "metadata": {},
   "outputs": [],
   "source": [
    "bag.remove(\"Soap\")"
   ]
  },
  {
   "cell_type": "code",
   "execution_count": 176,
   "id": "8bc1051e-a7e1-401b-8d74-26e45b5d3205",
   "metadata": {},
   "outputs": [
    {
     "data": {
      "text/plain": [
       "{'Bottle',\n",
       " 'Brush',\n",
       " 'Charger',\n",
       " 'Clothes',\n",
       " 'Lighter',\n",
       " 'Slippers',\n",
       " 'Tent',\n",
       " 'Towel',\n",
       " 'first_aid',\n",
       " 'torch'}"
      ]
     },
     "execution_count": 176,
     "metadata": {},
     "output_type": "execute_result"
    }
   ],
   "source": [
    "bag"
   ]
  },
  {
   "cell_type": "code",
   "execution_count": null,
   "id": "286ea405-cf47-4359-86bf-0db506cc9ff4",
   "metadata": {},
   "outputs": [],
   "source": []
  },
  {
   "cell_type": "code",
   "execution_count": 177,
   "id": "a89aa403-164c-4aaa-b5ab-ac47e79d9fd3",
   "metadata": {},
   "outputs": [],
   "source": [
    "# Quiz"
   ]
  },
  {
   "cell_type": "code",
   "execution_count": 178,
   "id": "88d6f8a8-59c5-4816-b9d2-3e7758c79d06",
   "metadata": {},
   "outputs": [
    {
     "name": "stdout",
     "output_type": "stream",
     "text": [
      "6\n"
     ]
    }
   ],
   "source": [
    "fruits = {\"apple\", \"banana\", \"cherry\"}\n",
    "fruits.add(\"orange\")\n",
    "fruits.update([\"mango\", \"grape\"])\n",
    "print(len(fruits))"
   ]
  },
  {
   "cell_type": "code",
   "execution_count": null,
   "id": "0621a76f-def2-49fb-a2fd-87b6224b7b5f",
   "metadata": {},
   "outputs": [],
   "source": []
  },
  {
   "cell_type": "code",
   "execution_count": null,
   "id": "764822c4-3f09-4247-b2a7-2554839e8611",
   "metadata": {},
   "outputs": [],
   "source": []
  },
  {
   "cell_type": "code",
   "execution_count": null,
   "id": "4d20a183-eb1c-4740-9ab9-a147e9741fd2",
   "metadata": {},
   "outputs": [],
   "source": []
  },
  {
   "cell_type": "code",
   "execution_count": null,
   "id": "dbfa515b-944e-46cc-8742-7194ad4304f4",
   "metadata": {},
   "outputs": [],
   "source": []
  },
  {
   "cell_type": "markdown",
   "id": "e4c2245b-84ab-4c12-8b79-0285830786a8",
   "metadata": {},
   "source": [
    "### Intersection\n",
    "- Suppose you want to find out which students are enrolled in both the Calculus and Linear Algebra Course. Then you can use the intersection method."
   ]
  },
  {
   "cell_type": "code",
   "execution_count": 179,
   "id": "81158bd8-8e56-4460-8a08-d650789363f8",
   "metadata": {},
   "outputs": [],
   "source": [
    "# Common in both sets"
   ]
  },
  {
   "cell_type": "code",
   "execution_count": 181,
   "id": "57c60b3e-5b2e-4f8c-879b-77506752b94a",
   "metadata": {},
   "outputs": [],
   "source": [
    "algebra = {\"Nitesh\", \"Krishna\", \"Rahul\", \"Sachin\"}\n",
    "calculus = {\"Krishna\", \"Nitesh\", \"Abuzar\", \"Ashish\", \"Mukul\"}"
   ]
  },
  {
   "cell_type": "code",
   "execution_count": 182,
   "id": "38a366f4-89de-4f59-9e37-77beccfd6cae",
   "metadata": {},
   "outputs": [
    {
     "data": {
      "text/plain": [
       "{'Krishna', 'Nitesh'}"
      ]
     },
     "execution_count": 182,
     "metadata": {},
     "output_type": "execute_result"
    }
   ],
   "source": [
    "algebra.intersection(calculus)"
   ]
  },
  {
   "cell_type": "code",
   "execution_count": 183,
   "id": "183de448-456f-4722-8282-d2d2e2aa8c32",
   "metadata": {},
   "outputs": [
    {
     "data": {
      "text/plain": [
       "{'Krishna', 'Nitesh'}"
      ]
     },
     "execution_count": 183,
     "metadata": {},
     "output_type": "execute_result"
    }
   ],
   "source": [
    "algebra & calculus"
   ]
  },
  {
   "cell_type": "code",
   "execution_count": 189,
   "id": "ec7fc402-0269-4420-8111-f9a0d9008463",
   "metadata": {},
   "outputs": [
    {
     "data": {
      "text/plain": [
       "{'Krishna', 'Nitesh'}"
      ]
     },
     "execution_count": 189,
     "metadata": {},
     "output_type": "execute_result"
    }
   ],
   "source": [
    "calculus.intersection(algebra)"
   ]
  },
  {
   "cell_type": "code",
   "execution_count": null,
   "id": "aae866d4-ff0c-4003-a34c-6b8738f7bdfd",
   "metadata": {},
   "outputs": [],
   "source": []
  },
  {
   "cell_type": "code",
   "execution_count": null,
   "id": "f0bd9a4a-4627-4dea-9de5-cc4d128f00a4",
   "metadata": {},
   "outputs": [],
   "source": []
  },
  {
   "cell_type": "code",
   "execution_count": null,
   "id": "89cf3fb1-85f5-4a22-bd43-617c22a94e46",
   "metadata": {},
   "outputs": [],
   "source": []
  },
  {
   "cell_type": "markdown",
   "id": "33e182bc-bbae-457d-9c71-5dda1cfcdc61",
   "metadata": {},
   "source": [
    "### Union\n",
    "- Suppose you want to find out which students are enrolled in either the Calculus or the Linear Algebra Course or in both. Then you can use the union method."
   ]
  },
  {
   "cell_type": "code",
   "execution_count": 184,
   "id": "feff6a9e-9ba9-4243-ae95-68de686747cc",
   "metadata": {},
   "outputs": [],
   "source": [
    "# All elements in both sets"
   ]
  },
  {
   "cell_type": "code",
   "execution_count": 186,
   "id": "7b8f3dda-50d5-45e3-b4ac-ded90cbb1a3a",
   "metadata": {},
   "outputs": [
    {
     "data": {
      "text/plain": [
       "{'Abuzar', 'Ashish', 'Krishna', 'Mukul', 'Nitesh'}"
      ]
     },
     "execution_count": 186,
     "metadata": {},
     "output_type": "execute_result"
    }
   ],
   "source": [
    "calculus"
   ]
  },
  {
   "cell_type": "code",
   "execution_count": 187,
   "id": "f93e7357-2164-4961-91cc-6ff84e4531f2",
   "metadata": {},
   "outputs": [
    {
     "data": {
      "text/plain": [
       "{'Krishna', 'Nitesh', 'Rahul', 'Sachin'}"
      ]
     },
     "execution_count": 187,
     "metadata": {},
     "output_type": "execute_result"
    }
   ],
   "source": [
    "algebra"
   ]
  },
  {
   "cell_type": "code",
   "execution_count": 188,
   "id": "c968358b-d457-4b9e-93de-386d7f75e70c",
   "metadata": {},
   "outputs": [
    {
     "data": {
      "text/plain": [
       "{'Abuzar', 'Ashish', 'Krishna', 'Mukul', 'Nitesh', 'Rahul', 'Sachin'}"
      ]
     },
     "execution_count": 188,
     "metadata": {},
     "output_type": "execute_result"
    }
   ],
   "source": [
    "calculus.union(algebra)"
   ]
  },
  {
   "cell_type": "code",
   "execution_count": 190,
   "id": "c5a4c9d7-167b-4425-8b6c-47a036f1faf7",
   "metadata": {},
   "outputs": [
    {
     "data": {
      "text/plain": [
       "{'Abuzar', 'Ashish', 'Krishna', 'Mukul', 'Nitesh', 'Rahul', 'Sachin'}"
      ]
     },
     "execution_count": 190,
     "metadata": {},
     "output_type": "execute_result"
    }
   ],
   "source": [
    "algebra.union(calculus)"
   ]
  },
  {
   "cell_type": "code",
   "execution_count": 192,
   "id": "f0313f9d-252f-47d7-a4f2-6fc1a0356c22",
   "metadata": {},
   "outputs": [
    {
     "data": {
      "text/plain": [
       "{'Abuzar', 'Ashish', 'Krishna', 'Mukul', 'Nitesh', 'Rahul', 'Sachin'}"
      ]
     },
     "execution_count": 192,
     "metadata": {},
     "output_type": "execute_result"
    }
   ],
   "source": [
    "calculus | algebra"
   ]
  },
  {
   "cell_type": "code",
   "execution_count": null,
   "id": "a70347e2-d690-4bde-92fb-4450c689135d",
   "metadata": {},
   "outputs": [],
   "source": []
  },
  {
   "cell_type": "code",
   "execution_count": null,
   "id": "80c20186-2941-4e74-9ccd-1d6730a051ae",
   "metadata": {},
   "outputs": [],
   "source": []
  },
  {
   "cell_type": "markdown",
   "id": "2b99e3aa-f590-4243-b418-106c2c81e3d7",
   "metadata": {},
   "source": [
    "### Difference\n",
    "- Suppose you want to find out the set of students who have enrolled in the Calculus course but not in Linear Algebra course or vice-versa, then we can use the difference method."
   ]
  },
  {
   "cell_type": "code",
   "execution_count": 193,
   "id": "14de9fe9-8822-41e2-b81b-29a34f7ddb05",
   "metadata": {},
   "outputs": [
    {
     "data": {
      "text/plain": [
       "{'Abuzar', 'Ashish', 'Krishna', 'Mukul', 'Nitesh'}"
      ]
     },
     "execution_count": 193,
     "metadata": {},
     "output_type": "execute_result"
    }
   ],
   "source": [
    "calculus"
   ]
  },
  {
   "cell_type": "code",
   "execution_count": 194,
   "id": "ded11c41-b827-44b4-9de7-86f91545503a",
   "metadata": {},
   "outputs": [
    {
     "data": {
      "text/plain": [
       "{'Krishna', 'Nitesh', 'Rahul', 'Sachin'}"
      ]
     },
     "execution_count": 194,
     "metadata": {},
     "output_type": "execute_result"
    }
   ],
   "source": [
    "algebra"
   ]
  },
  {
   "cell_type": "code",
   "execution_count": 195,
   "id": "cc4f1afe-3812-4f82-9396-9f6d8d9b3052",
   "metadata": {},
   "outputs": [
    {
     "data": {
      "text/plain": [
       "{'Abuzar', 'Ashish', 'Mukul'}"
      ]
     },
     "execution_count": 195,
     "metadata": {},
     "output_type": "execute_result"
    }
   ],
   "source": [
    "calculus.difference(algebra)"
   ]
  },
  {
   "cell_type": "code",
   "execution_count": 196,
   "id": "8bbb3bd3-1a27-4c44-a767-bddf32fa9c7e",
   "metadata": {},
   "outputs": [
    {
     "data": {
      "text/plain": [
       "{'Abuzar', 'Ashish', 'Mukul'}"
      ]
     },
     "execution_count": 196,
     "metadata": {},
     "output_type": "execute_result"
    }
   ],
   "source": [
    "calculus - algebra"
   ]
  },
  {
   "cell_type": "code",
   "execution_count": 197,
   "id": "60724a73-4407-4987-9870-a0a53a4b033c",
   "metadata": {},
   "outputs": [
    {
     "data": {
      "text/plain": [
       "{'Rahul', 'Sachin'}"
      ]
     },
     "execution_count": 197,
     "metadata": {},
     "output_type": "execute_result"
    }
   ],
   "source": [
    "algebra.difference(calculus)"
   ]
  },
  {
   "cell_type": "markdown",
   "id": "01db8e8c-5e1a-492d-bb1a-bb16dc287239",
   "metadata": {},
   "source": [
    "### Symmetric Difference\n",
    "- The symmetric difference of two sets contains all the elements in union except the common elements."
   ]
  },
  {
   "cell_type": "code",
   "execution_count": 199,
   "id": "40912f3d-b6f1-423c-b7c0-4b053ddbce58",
   "metadata": {},
   "outputs": [
    {
     "data": {
      "text/plain": [
       "{'Krishna', 'Nitesh', 'Rahul', 'Sachin'}"
      ]
     },
     "execution_count": 199,
     "metadata": {},
     "output_type": "execute_result"
    }
   ],
   "source": [
    "algebra"
   ]
  },
  {
   "cell_type": "code",
   "execution_count": 200,
   "id": "1e700dc3-2766-4df0-974e-e069dbcfe1b3",
   "metadata": {},
   "outputs": [
    {
     "data": {
      "text/plain": [
       "{'Abuzar', 'Ashish', 'Krishna', 'Mukul', 'Nitesh'}"
      ]
     },
     "execution_count": 200,
     "metadata": {},
     "output_type": "execute_result"
    }
   ],
   "source": [
    "calculus"
   ]
  },
  {
   "cell_type": "code",
   "execution_count": 201,
   "id": "d154bee6-328e-4239-8783-29d340128ce9",
   "metadata": {},
   "outputs": [
    {
     "data": {
      "text/plain": [
       "{'Abuzar', 'Ashish', 'Mukul', 'Rahul', 'Sachin'}"
      ]
     },
     "execution_count": 201,
     "metadata": {},
     "output_type": "execute_result"
    }
   ],
   "source": [
    "algebra.symmetric_difference(calculus)"
   ]
  },
  {
   "cell_type": "code",
   "execution_count": 203,
   "id": "9ab70f77-1e16-4c61-9e31-8b245d87fdcc",
   "metadata": {},
   "outputs": [
    {
     "data": {
      "text/plain": [
       "{'Abuzar', 'Ashish', 'Mukul', 'Rahul', 'Sachin'}"
      ]
     },
     "execution_count": 203,
     "metadata": {},
     "output_type": "execute_result"
    }
   ],
   "source": [
    "algebra ^ calculus"
   ]
  },
  {
   "cell_type": "code",
   "execution_count": null,
   "id": "c8f74c6d-fda6-412b-82b7-22c43fce8355",
   "metadata": {},
   "outputs": [],
   "source": []
  },
  {
   "cell_type": "code",
   "execution_count": null,
   "id": "9f0dc11d-d9ab-4a57-88b7-cc66157db11a",
   "metadata": {},
   "outputs": [],
   "source": []
  },
  {
   "cell_type": "code",
   "execution_count": null,
   "id": "2faefd35-b3c3-4343-ab4a-5c3e0024818e",
   "metadata": {},
   "outputs": [],
   "source": []
  },
  {
   "cell_type": "code",
   "execution_count": 202,
   "id": "b11627ed-1bba-422e-87af-9a59d252c470",
   "metadata": {},
   "outputs": [],
   "source": [
    "# Quiz"
   ]
  },
  {
   "cell_type": "code",
   "execution_count": 204,
   "id": "378e7e8d-bd8f-4936-96e3-97d2e25d1be5",
   "metadata": {},
   "outputs": [
    {
     "name": "stdout",
     "output_type": "stream",
     "text": [
      "{1, 2, 3, 6, 7, 8}\n"
     ]
    }
   ],
   "source": [
    "set1 = {1, 2, 3, 4, 5}\n",
    "set2 = {4, 5, 6, 7, 8}\n",
    "set3 = set1.symmetric_difference(set2)\n",
    "print(set3)"
   ]
  },
  {
   "cell_type": "code",
   "execution_count": null,
   "id": "b7c521b5-db1d-4c7b-9abd-e7c14fb45cbe",
   "metadata": {},
   "outputs": [],
   "source": []
  },
  {
   "cell_type": "code",
   "execution_count": 205,
   "id": "1829af45-fb0e-42b8-b87e-7a71cc340b0a",
   "metadata": {},
   "outputs": [
    {
     "data": {
      "text/plain": [
       "[1, 2, 3, 4, 5, 6, 7, 3, 2, 1]"
      ]
     },
     "execution_count": 205,
     "metadata": {},
     "output_type": "execute_result"
    }
   ],
   "source": [
    "l"
   ]
  },
  {
   "cell_type": "code",
   "execution_count": 206,
   "id": "7c225ad6-df74-49df-aef5-9860c583b26d",
   "metadata": {},
   "outputs": [],
   "source": [
    "# Given a list, find middle element"
   ]
  },
  {
   "cell_type": "code",
   "execution_count": null,
   "id": "0381cc63-dc9f-42db-8757-730d3ec17d54",
   "metadata": {},
   "outputs": [],
   "source": []
  },
  {
   "cell_type": "code",
   "execution_count": 208,
   "id": "ea518941-614a-4635-afa9-b843c377c315",
   "metadata": {},
   "outputs": [],
   "source": [
    "s = {2, 3}"
   ]
  },
  {
   "cell_type": "code",
   "execution_count": null,
   "id": "5778ac1b-6a54-4da9-a22b-fbefd4ef5a61",
   "metadata": {},
   "outputs": [],
   "source": []
  },
  {
   "cell_type": "code",
   "execution_count": null,
   "id": "451125a5-4bcc-4183-8744-9dc413670b55",
   "metadata": {},
   "outputs": [],
   "source": []
  },
  {
   "cell_type": "code",
   "execution_count": null,
   "id": "f42c594a-3fad-4d7a-8a2f-f5c132d375a7",
   "metadata": {},
   "outputs": [],
   "source": []
  },
  {
   "cell_type": "code",
   "execution_count": null,
   "id": "4d4974da-c011-40f9-b358-c934594cad98",
   "metadata": {},
   "outputs": [],
   "source": []
  },
  {
   "cell_type": "code",
   "execution_count": null,
   "id": "44de3bf5-78e8-40af-930a-0f5420e4a4c2",
   "metadata": {},
   "outputs": [],
   "source": []
  },
  {
   "cell_type": "code",
   "execution_count": null,
   "id": "3b84fa3f-9cb4-4eae-9de8-82c1d3ed7a1c",
   "metadata": {},
   "outputs": [],
   "source": []
  },
  {
   "cell_type": "code",
   "execution_count": null,
   "id": "da6d83d9-c22e-4904-bb77-ead18f6b087b",
   "metadata": {},
   "outputs": [],
   "source": []
  }
 ],
 "metadata": {
  "kernelspec": {
   "display_name": "Python 3 (ipykernel)",
   "language": "python",
   "name": "python3"
  },
  "language_info": {
   "codemirror_mode": {
    "name": "ipython",
    "version": 3
   },
   "file_extension": ".py",
   "mimetype": "text/x-python",
   "name": "python",
   "nbconvert_exporter": "python",
   "pygments_lexer": "ipython3",
   "version": "3.9.7"
  }
 },
 "nbformat": 4,
 "nbformat_minor": 5
}
