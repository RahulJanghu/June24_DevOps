{
 "cells": [
  {
   "cell_type": "markdown",
   "id": "92cd946b-9bb5-406f-aace-6a8181c652d3",
   "metadata": {},
   "source": [
    "## List []\n",
    "- A list is a data structure that holds an ordered collection of items i.e. you can store a sequence of items in a list.\n",
    "\n",
    "The list of items should be enclosed in square brackets so that Python understands that you are specifying a list. Once you have created a list, you can add, remove or search for items in the list. Since we can add and remove items, we say that a list is a mutable data type i.e. this type can be altered."
   ]
  },
  {
   "cell_type": "code",
   "execution_count": 1,
   "id": "290737ed-3de2-4954-8ed0-00c4e399f4e7",
   "metadata": {},
   "outputs": [],
   "source": [
    "## Runs"
   ]
  },
  {
   "cell_type": "code",
   "execution_count": 2,
   "id": "470f5889-7275-4502-bcb0-6941f0c54b42",
   "metadata": {},
   "outputs": [],
   "source": [
    "runs = [100, 150, 99, 20, 99, 200, 99, 120]"
   ]
  },
  {
   "cell_type": "code",
   "execution_count": 3,
   "id": "829f518c-5041-4909-8594-ecdf13a30fa0",
   "metadata": {},
   "outputs": [],
   "source": [
    "# Type"
   ]
  },
  {
   "cell_type": "code",
   "execution_count": 4,
   "id": "e4942582-ffc5-4bca-b1da-b8c5efe9350b",
   "metadata": {},
   "outputs": [
    {
     "data": {
      "text/plain": [
       "list"
      ]
     },
     "execution_count": 4,
     "metadata": {},
     "output_type": "execute_result"
    }
   ],
   "source": [
    "type(runs)"
   ]
  },
  {
   "cell_type": "code",
   "execution_count": 5,
   "id": "9dc28cb4-7f4d-4e3b-bf4a-dea2865aa996",
   "metadata": {},
   "outputs": [],
   "source": [
    "sample = ['Ashish', 21, 34.5, None]"
   ]
  },
  {
   "cell_type": "code",
   "execution_count": 6,
   "id": "3e591ecf-2f4e-484a-b1aa-58f5527a0880",
   "metadata": {},
   "outputs": [
    {
     "data": {
      "text/plain": [
       "list"
      ]
     },
     "execution_count": 6,
     "metadata": {},
     "output_type": "execute_result"
    }
   ],
   "source": [
    "type(sample)"
   ]
  },
  {
   "cell_type": "code",
   "execution_count": 7,
   "id": "50721904-5c3d-42c4-a554-28f40259226d",
   "metadata": {},
   "outputs": [
    {
     "data": {
      "text/plain": [
       "8"
      ]
     },
     "execution_count": 7,
     "metadata": {},
     "output_type": "execute_result"
    }
   ],
   "source": [
    "len(runs)"
   ]
  },
  {
   "cell_type": "code",
   "execution_count": 8,
   "id": "70258389-c706-4db7-b785-82bd5f35c152",
   "metadata": {},
   "outputs": [
    {
     "data": {
      "text/plain": [
       "4"
      ]
     },
     "execution_count": 8,
     "metadata": {},
     "output_type": "execute_result"
    }
   ],
   "source": [
    "len(sample)"
   ]
  },
  {
   "cell_type": "code",
   "execution_count": null,
   "id": "fed53c00-701b-4271-a420-dcd76f9a0560",
   "metadata": {},
   "outputs": [],
   "source": []
  },
  {
   "cell_type": "code",
   "execution_count": 9,
   "id": "54ab42c1-f68c-4df8-9263-9152fa318b99",
   "metadata": {},
   "outputs": [],
   "source": [
    "# Indexing in list: Like we used to have in our attendance register, roll no."
   ]
  },
  {
   "cell_type": "code",
   "execution_count": 10,
   "id": "5036bd7c-4378-4a96-9e20-28720e7db25d",
   "metadata": {},
   "outputs": [
    {
     "data": {
      "text/plain": [
       "[100, 150, 99, 20, 99, 200, 99, 120]"
      ]
     },
     "execution_count": 10,
     "metadata": {},
     "output_type": "execute_result"
    }
   ],
   "source": [
    "runs"
   ]
  },
  {
   "cell_type": "code",
   "execution_count": 11,
   "id": "9669d8d9-d4e3-42c8-9cfc-db082df4a4f8",
   "metadata": {},
   "outputs": [
    {
     "data": {
      "text/plain": [
       "100"
      ]
     },
     "execution_count": 11,
     "metadata": {},
     "output_type": "execute_result"
    }
   ],
   "source": [
    "runs[0]"
   ]
  },
  {
   "cell_type": "code",
   "execution_count": 13,
   "id": "3d1599f2-aac0-4ff5-bc33-f469555b92d2",
   "metadata": {},
   "outputs": [
    {
     "data": {
      "text/plain": [
       "8"
      ]
     },
     "execution_count": 13,
     "metadata": {},
     "output_type": "execute_result"
    }
   ],
   "source": [
    "len(runs)"
   ]
  },
  {
   "cell_type": "code",
   "execution_count": 12,
   "id": "f0ccc06d-f4de-4400-a8a1-73cd5aa9f62e",
   "metadata": {},
   "outputs": [
    {
     "data": {
      "text/plain": [
       "120"
      ]
     },
     "execution_count": 12,
     "metadata": {},
     "output_type": "execute_result"
    }
   ],
   "source": [
    "runs[len(runs) - 1]"
   ]
  },
  {
   "cell_type": "code",
   "execution_count": 14,
   "id": "862b1e5c-bf32-4251-8ff9-f403aad293a0",
   "metadata": {},
   "outputs": [
    {
     "data": {
      "text/plain": [
       "20"
      ]
     },
     "execution_count": 14,
     "metadata": {},
     "output_type": "execute_result"
    }
   ],
   "source": [
    "runs[3]"
   ]
  },
  {
   "cell_type": "code",
   "execution_count": null,
   "id": "7f76493e-2c98-4fc5-8c91-ae7616081df8",
   "metadata": {},
   "outputs": [],
   "source": []
  },
  {
   "cell_type": "code",
   "execution_count": 15,
   "id": "ac8f6f78-bf3c-4b69-917e-01b1e59e19be",
   "metadata": {},
   "outputs": [],
   "source": [
    "## Negative indexing: Topper from bottom :)"
   ]
  },
  {
   "cell_type": "code",
   "execution_count": 16,
   "id": "d7068245-2704-47e4-b178-43c5b1eecd02",
   "metadata": {},
   "outputs": [
    {
     "data": {
      "text/plain": [
       "[100, 150, 99, 20, 99, 200, 99, 120]"
      ]
     },
     "execution_count": 16,
     "metadata": {},
     "output_type": "execute_result"
    }
   ],
   "source": [
    "runs"
   ]
  },
  {
   "cell_type": "code",
   "execution_count": 17,
   "id": "f226bb5e-4243-46e9-8932-db2ad4f0dc6c",
   "metadata": {},
   "outputs": [
    {
     "data": {
      "text/plain": [
       "120"
      ]
     },
     "execution_count": 17,
     "metadata": {},
     "output_type": "execute_result"
    }
   ],
   "source": [
    "runs[-1]"
   ]
  },
  {
   "cell_type": "code",
   "execution_count": 18,
   "id": "2c6db30f-46fd-4040-b04c-688f52868ac9",
   "metadata": {},
   "outputs": [
    {
     "data": {
      "text/plain": [
       "8"
      ]
     },
     "execution_count": 18,
     "metadata": {},
     "output_type": "execute_result"
    }
   ],
   "source": [
    "len(runs)"
   ]
  },
  {
   "cell_type": "code",
   "execution_count": 19,
   "id": "5c4d6192-5915-4dde-aa88-0ebb92e19393",
   "metadata": {},
   "outputs": [
    {
     "data": {
      "text/plain": [
       "100"
      ]
     },
     "execution_count": 19,
     "metadata": {},
     "output_type": "execute_result"
    }
   ],
   "source": [
    "runs[-len(runs)]"
   ]
  },
  {
   "cell_type": "code",
   "execution_count": 21,
   "id": "71581682-902a-4052-8d21-5e9507971403",
   "metadata": {},
   "outputs": [],
   "source": [
    "# runs[20]"
   ]
  },
  {
   "cell_type": "code",
   "execution_count": null,
   "id": "f412febf-88be-4d98-ac71-0c42607fe01a",
   "metadata": {},
   "outputs": [],
   "source": []
  },
  {
   "cell_type": "markdown",
   "id": "92c52e18-5313-4228-8e9e-d5898197e968",
   "metadata": {},
   "source": [
    "### Inbuilt methods on a list"
   ]
  },
  {
   "cell_type": "markdown",
   "id": "f907bd29-9ce4-4a1f-ade1-91b09ba5d9b8",
   "metadata": {},
   "source": [
    "#### Updating a list"
   ]
  },
  {
   "cell_type": "code",
   "execution_count": 22,
   "id": "3003607c-206e-4110-be78-f9287422c563",
   "metadata": {},
   "outputs": [],
   "source": [
    "## Let Sachin play another match: append"
   ]
  },
  {
   "cell_type": "code",
   "execution_count": 23,
   "id": "6f32c24e-86b7-4e37-b2e7-8decb6eb0d67",
   "metadata": {},
   "outputs": [],
   "source": [
    "# append: Adds data at end of your list"
   ]
  },
  {
   "cell_type": "code",
   "execution_count": 24,
   "id": "3a6ecaa4-4319-4de8-a6d3-d4b5dfa87dfd",
   "metadata": {},
   "outputs": [
    {
     "data": {
      "text/plain": [
       "[100, 150, 99, 20, 99, 200, 99, 120]"
      ]
     },
     "execution_count": 24,
     "metadata": {},
     "output_type": "execute_result"
    }
   ],
   "source": [
    "runs"
   ]
  },
  {
   "cell_type": "code",
   "execution_count": null,
   "id": "87180da6-107b-4af6-8b67-1d143dfa2f48",
   "metadata": {},
   "outputs": [],
   "source": []
  },
  {
   "cell_type": "code",
   "execution_count": 25,
   "id": "fd234942-e6c2-4f26-8e8f-2c081e17320a",
   "metadata": {},
   "outputs": [],
   "source": [
    "# Append adds the data at end by default"
   ]
  },
  {
   "cell_type": "code",
   "execution_count": 27,
   "id": "dbfeb553-8711-4d83-ba8b-b2bfe4f98ace",
   "metadata": {},
   "outputs": [],
   "source": [
    "runs.append(125)"
   ]
  },
  {
   "cell_type": "code",
   "execution_count": 28,
   "id": "5a6767ce-de20-42e6-9e7a-b5270dd423cc",
   "metadata": {},
   "outputs": [
    {
     "data": {
      "text/plain": [
       "[100, 150, 99, 20, 99, 200, 99, 120, 125]"
      ]
     },
     "execution_count": 28,
     "metadata": {},
     "output_type": "execute_result"
    }
   ],
   "source": [
    "runs"
   ]
  },
  {
   "cell_type": "code",
   "execution_count": 29,
   "id": "5cd89297-802b-4ac7-be0e-14c838d047c2",
   "metadata": {},
   "outputs": [
    {
     "data": {
      "text/plain": [
       "9"
      ]
     },
     "execution_count": 29,
     "metadata": {},
     "output_type": "execute_result"
    }
   ],
   "source": [
    "len(runs)"
   ]
  },
  {
   "cell_type": "code",
   "execution_count": 30,
   "id": "80510e90-f096-478e-a2fd-68d571d8c2a5",
   "metadata": {},
   "outputs": [
    {
     "data": {
      "text/plain": [
       "125"
      ]
     },
     "execution_count": 30,
     "metadata": {},
     "output_type": "execute_result"
    }
   ],
   "source": [
    "runs[-1]"
   ]
  },
  {
   "cell_type": "code",
   "execution_count": null,
   "id": "4685b773-8c28-44df-9245-3d8ab04b702d",
   "metadata": {},
   "outputs": [],
   "source": []
  },
  {
   "cell_type": "code",
   "execution_count": null,
   "id": "86f238c5-336e-431c-9c52-44048be682a8",
   "metadata": {},
   "outputs": [],
   "source": []
  },
  {
   "cell_type": "code",
   "execution_count": 31,
   "id": "eb1c4120-0a43-4628-980c-b6df14b5a435",
   "metadata": {},
   "outputs": [],
   "source": [
    "## Insert at index: runs.insert(index, value)"
   ]
  },
  {
   "cell_type": "code",
   "execution_count": 32,
   "id": "57494c0e-17d4-479d-8b45-094530ec0f6a",
   "metadata": {},
   "outputs": [],
   "source": [
    "# What if we forgot to add data at 2nd index?"
   ]
  },
  {
   "cell_type": "code",
   "execution_count": 33,
   "id": "97f6d65d-f826-48ff-95b1-469837622c87",
   "metadata": {},
   "outputs": [
    {
     "data": {
      "text/plain": [
       "[100, 150, 99, 20, 99, 200, 99, 120, 125]"
      ]
     },
     "execution_count": 33,
     "metadata": {},
     "output_type": "execute_result"
    }
   ],
   "source": [
    "runs"
   ]
  },
  {
   "cell_type": "code",
   "execution_count": 35,
   "id": "9ec4ae1c-e9f8-4040-9a4f-d333c724fac7",
   "metadata": {},
   "outputs": [],
   "source": [
    "runs.insert(2, 130)"
   ]
  },
  {
   "cell_type": "code",
   "execution_count": 36,
   "id": "1f765a54-e966-4b31-a4eb-80112581f24d",
   "metadata": {},
   "outputs": [
    {
     "data": {
      "text/plain": [
       "[100, 150, 130, 99, 20, 99, 200, 99, 120, 125]"
      ]
     },
     "execution_count": 36,
     "metadata": {},
     "output_type": "execute_result"
    }
   ],
   "source": [
    "runs"
   ]
  },
  {
   "cell_type": "code",
   "execution_count": 37,
   "id": "55c84159-2ce2-4246-aa34-ab289270d9fd",
   "metadata": {},
   "outputs": [],
   "source": [
    "runs.insert(123123, 12)"
   ]
  },
  {
   "cell_type": "code",
   "execution_count": 40,
   "id": "fd30b901-1caa-4f8b-964b-efa2833e18ee",
   "metadata": {},
   "outputs": [
    {
     "data": {
      "text/plain": [
       "[100, 150, 130, 99, 20, 99, 200, 99, 120, 125, 12]"
      ]
     },
     "execution_count": 40,
     "metadata": {},
     "output_type": "execute_result"
    }
   ],
   "source": [
    "runs"
   ]
  },
  {
   "cell_type": "code",
   "execution_count": 43,
   "id": "1c1db0ae-1f0e-4c24-b96c-57836d14d610",
   "metadata": {},
   "outputs": [
    {
     "data": {
      "text/plain": [
       "11"
      ]
     },
     "execution_count": 43,
     "metadata": {},
     "output_type": "execute_result"
    }
   ],
   "source": [
    "len(runs)"
   ]
  },
  {
   "cell_type": "code",
   "execution_count": null,
   "id": "c20a509d-8453-40c5-b92f-5493805d66c9",
   "metadata": {},
   "outputs": [],
   "source": []
  },
  {
   "cell_type": "code",
   "execution_count": 41,
   "id": "a8e420f4-2cb9-4e73-9d02-4e4d6825d685",
   "metadata": {},
   "outputs": [],
   "source": [
    "# extend"
   ]
  },
  {
   "cell_type": "code",
   "execution_count": 42,
   "id": "74eb07ec-8e0c-4721-9fcc-ccb35667ca86",
   "metadata": {},
   "outputs": [],
   "source": [
    "ipl = [80, 52, 90]"
   ]
  },
  {
   "cell_type": "code",
   "execution_count": 44,
   "id": "4a4c071f-ec9f-4708-8415-07a74281d5f4",
   "metadata": {},
   "outputs": [
    {
     "data": {
      "text/plain": [
       "[100, 150, 130, 99, 20, 99, 200, 99, 120, 125, 12]"
      ]
     },
     "execution_count": 44,
     "metadata": {},
     "output_type": "execute_result"
    }
   ],
   "source": [
    "runs"
   ]
  },
  {
   "cell_type": "code",
   "execution_count": 45,
   "id": "5449177e-5bd1-45cb-aabb-80a873decffc",
   "metadata": {},
   "outputs": [],
   "source": [
    "runs.extend(ipl)"
   ]
  },
  {
   "cell_type": "code",
   "execution_count": 46,
   "id": "1be3d6fc-1247-4197-8493-3eab7cc39f8f",
   "metadata": {},
   "outputs": [
    {
     "data": {
      "text/plain": [
       "[100, 150, 130, 99, 20, 99, 200, 99, 120, 125, 12, 80, 52, 90]"
      ]
     },
     "execution_count": 46,
     "metadata": {},
     "output_type": "execute_result"
    }
   ],
   "source": [
    "runs"
   ]
  },
  {
   "cell_type": "code",
   "execution_count": 56,
   "id": "569f9928-bbe5-4f9f-95b2-da8e18b24513",
   "metadata": {},
   "outputs": [
    {
     "data": {
      "text/plain": [
       "[80, 52, 90]"
      ]
     },
     "execution_count": 56,
     "metadata": {},
     "output_type": "execute_result"
    }
   ],
   "source": [
    "ipl"
   ]
  },
  {
   "cell_type": "code",
   "execution_count": null,
   "id": "c4ca59ab-cd5a-4049-8b38-77424145d71c",
   "metadata": {},
   "outputs": [],
   "source": []
  },
  {
   "cell_type": "code",
   "execution_count": 47,
   "id": "9cc8c50d-0fdd-4e81-b7cb-795b5184ab70",
   "metadata": {},
   "outputs": [],
   "source": [
    "# concatenation"
   ]
  },
  {
   "cell_type": "code",
   "execution_count": 48,
   "id": "b52cf328-27af-4ec2-8085-4a53ccb00ace",
   "metadata": {},
   "outputs": [],
   "source": [
    "l1 = [1, 2, 3]\n",
    "l2 = [4, 5, 6]"
   ]
  },
  {
   "cell_type": "code",
   "execution_count": 49,
   "id": "2ca8f02b-c63b-4caa-84d6-44afa78dcb28",
   "metadata": {},
   "outputs": [
    {
     "data": {
      "text/plain": [
       "[1, 2, 3, 4, 5, 6]"
      ]
     },
     "execution_count": 49,
     "metadata": {},
     "output_type": "execute_result"
    }
   ],
   "source": [
    "l1 + l2"
   ]
  },
  {
   "cell_type": "code",
   "execution_count": 51,
   "id": "30d41fb9-72e9-4d3e-9eb9-81bb59434c92",
   "metadata": {},
   "outputs": [
    {
     "data": {
      "text/plain": [
       "[4, 5, 6]"
      ]
     },
     "execution_count": 51,
     "metadata": {},
     "output_type": "execute_result"
    }
   ],
   "source": [
    "l2"
   ]
  },
  {
   "cell_type": "code",
   "execution_count": 54,
   "id": "34d14dc7-304a-4353-8aa8-416d8c1dbe73",
   "metadata": {},
   "outputs": [],
   "source": [
    "l3 = l1 + l2"
   ]
  },
  {
   "cell_type": "code",
   "execution_count": 55,
   "id": "d4c161bd-06c1-4007-877e-0438fbbb7b38",
   "metadata": {},
   "outputs": [
    {
     "data": {
      "text/plain": [
       "[1, 2, 3, 4, 5, 6]"
      ]
     },
     "execution_count": 55,
     "metadata": {},
     "output_type": "execute_result"
    }
   ],
   "source": [
    "l3"
   ]
  },
  {
   "cell_type": "code",
   "execution_count": null,
   "id": "37f908f9-5f14-4abf-aad9-e16a8cecb21e",
   "metadata": {},
   "outputs": [],
   "source": []
  },
  {
   "cell_type": "code",
   "execution_count": 57,
   "id": "6c5ab64e-a74c-4aa7-be76-ab0e22a98a3a",
   "metadata": {},
   "outputs": [],
   "source": [
    "# Quiz"
   ]
  },
  {
   "cell_type": "code",
   "execution_count": 58,
   "id": "e510f0e0-fce3-4472-bad6-c3bbdad6742a",
   "metadata": {},
   "outputs": [
    {
     "name": "stdout",
     "output_type": "stream",
     "text": [
      "204\n"
     ]
    }
   ],
   "source": [
    "runs = [10, 55, 4, 67, 17]\n",
    "runs.append(6)\n",
    "runs.append(200)\n",
    "print(runs[-1] + runs[2])"
   ]
  },
  {
   "cell_type": "code",
   "execution_count": null,
   "id": "2cf439e5-87da-4d08-880b-649ee2858376",
   "metadata": {},
   "outputs": [],
   "source": []
  },
  {
   "cell_type": "code",
   "execution_count": 59,
   "id": "eaddb016-4dc7-4cd9-8c36-8a19dd48e8dd",
   "metadata": {},
   "outputs": [],
   "source": [
    "# Remove data"
   ]
  },
  {
   "cell_type": "markdown",
   "id": "b63afe7f-381b-4a5d-822e-6476a15bfc7b",
   "metadata": {},
   "source": [
    "### list.pop()\n",
    "- removes element from last by default\n",
    "- pop returns the data as well\n",
    "- pop removes data using index"
   ]
  },
  {
   "cell_type": "code",
   "execution_count": 62,
   "id": "bdf3013f-7fa8-4176-892c-55de7c01d2c1",
   "metadata": {},
   "outputs": [],
   "source": [
    "runs = [100, 150, 130, 99, 20, 99, 200, 99, 120, 125, 12, 80, 52, 90]"
   ]
  },
  {
   "cell_type": "code",
   "execution_count": 66,
   "id": "ebae544e-fc2c-4546-90cc-de75ce9e7c08",
   "metadata": {},
   "outputs": [],
   "source": [
    "deleted = runs.pop()"
   ]
  },
  {
   "cell_type": "code",
   "execution_count": 67,
   "id": "3793a9f4-ac88-434c-b2da-86ec554a16a6",
   "metadata": {},
   "outputs": [
    {
     "name": "stdout",
     "output_type": "stream",
     "text": [
      "90\n"
     ]
    }
   ],
   "source": [
    "print(deleted)"
   ]
  },
  {
   "cell_type": "code",
   "execution_count": 68,
   "id": "11ee9395-760e-42ab-8bd5-c73564274488",
   "metadata": {},
   "outputs": [
    {
     "data": {
      "text/plain": [
       "[100, 150, 130, 99, 20, 99, 200, 99, 120, 125, 12, 80, 52]"
      ]
     },
     "execution_count": 68,
     "metadata": {},
     "output_type": "execute_result"
    }
   ],
   "source": [
    "runs"
   ]
  },
  {
   "cell_type": "code",
   "execution_count": 69,
   "id": "09c736f7-5f96-4034-97f0-63202cc254bf",
   "metadata": {},
   "outputs": [
    {
     "data": {
      "text/plain": [
       "100"
      ]
     },
     "execution_count": 69,
     "metadata": {},
     "output_type": "execute_result"
    }
   ],
   "source": [
    "runs.pop(0)"
   ]
  },
  {
   "cell_type": "code",
   "execution_count": 70,
   "id": "a01afe42-5233-46f8-92d0-b05e7c3ede9a",
   "metadata": {},
   "outputs": [
    {
     "data": {
      "text/plain": [
       "[150, 130, 99, 20, 99, 200, 99, 120, 125, 12, 80, 52]"
      ]
     },
     "execution_count": 70,
     "metadata": {},
     "output_type": "execute_result"
    }
   ],
   "source": [
    "runs"
   ]
  },
  {
   "cell_type": "code",
   "execution_count": null,
   "id": "ff5d0e10-4369-41d3-a6a9-31a3f4724dfd",
   "metadata": {},
   "outputs": [],
   "source": []
  },
  {
   "cell_type": "code",
   "execution_count": null,
   "id": "a53e794a-54c7-4688-9157-4cd85ec0c72c",
   "metadata": {},
   "outputs": [],
   "source": []
  },
  {
   "cell_type": "code",
   "execution_count": 71,
   "id": "243f1e44-32ae-424d-a5a2-44ac59a23af7",
   "metadata": {},
   "outputs": [],
   "source": [
    "# list.remove(value)"
   ]
  },
  {
   "cell_type": "code",
   "execution_count": 72,
   "id": "5c0f8c0a-6671-46da-bc2b-fd3947d6a0a7",
   "metadata": {},
   "outputs": [
    {
     "data": {
      "text/plain": [
       "[150, 130, 99, 20, 99, 200, 99, 120, 125, 12, 80, 52]"
      ]
     },
     "execution_count": 72,
     "metadata": {},
     "output_type": "execute_result"
    }
   ],
   "source": [
    "runs"
   ]
  },
  {
   "cell_type": "code",
   "execution_count": 73,
   "id": "457a9496-0a45-4a14-9e7f-b16df76d4e1a",
   "metadata": {},
   "outputs": [
    {
     "data": {
      "text/plain": [
       "\u001b[0;31mSignature:\u001b[0m \u001b[0mruns\u001b[0m\u001b[0;34m.\u001b[0m\u001b[0mremove\u001b[0m\u001b[0;34m(\u001b[0m\u001b[0mvalue\u001b[0m\u001b[0;34m,\u001b[0m \u001b[0;34m/\u001b[0m\u001b[0;34m)\u001b[0m\u001b[0;34m\u001b[0m\u001b[0;34m\u001b[0m\u001b[0m\n",
       "\u001b[0;31mDocstring:\u001b[0m\n",
       "Remove first occurrence of value.\n",
       "\n",
       "Raises ValueError if the value is not present.\n",
       "\u001b[0;31mType:\u001b[0m      builtin_function_or_method\n"
      ]
     },
     "metadata": {},
     "output_type": "display_data"
    }
   ],
   "source": [
    "runs.remove?"
   ]
  },
  {
   "cell_type": "code",
   "execution_count": 74,
   "id": "16f23108-0eba-4c80-a0ed-a8d07024f866",
   "metadata": {},
   "outputs": [],
   "source": [
    "deleted = runs.remove(99)"
   ]
  },
  {
   "cell_type": "code",
   "execution_count": 75,
   "id": "827fdc84-0cdf-44f9-8aa8-708994ed4039",
   "metadata": {},
   "outputs": [
    {
     "name": "stdout",
     "output_type": "stream",
     "text": [
      "None\n"
     ]
    }
   ],
   "source": [
    "print(deleted)"
   ]
  },
  {
   "cell_type": "code",
   "execution_count": 76,
   "id": "b9f9031d-36ce-4e8f-91f3-b0d7304fe116",
   "metadata": {},
   "outputs": [
    {
     "data": {
      "text/plain": [
       "[150, 130, 20, 99, 200, 99, 120, 125, 12, 80, 52]"
      ]
     },
     "execution_count": 76,
     "metadata": {},
     "output_type": "execute_result"
    }
   ],
   "source": [
    "runs"
   ]
  },
  {
   "cell_type": "code",
   "execution_count": 78,
   "id": "e481e6db-cd0f-4b6a-b795-9fc4036f897e",
   "metadata": {},
   "outputs": [],
   "source": [
    "# runs.remove(500)"
   ]
  },
  {
   "cell_type": "code",
   "execution_count": null,
   "id": "249a4104-05ff-4a2f-bc6e-805ef3812f82",
   "metadata": {},
   "outputs": [],
   "source": []
  },
  {
   "cell_type": "code",
   "execution_count": 79,
   "id": "32a8cc8c-2871-47fd-9dac-8ac081964232",
   "metadata": {},
   "outputs": [],
   "source": [
    "# list.count()"
   ]
  },
  {
   "cell_type": "code",
   "execution_count": 80,
   "id": "27ae9655-b512-4e93-867f-b1eaeeebd900",
   "metadata": {},
   "outputs": [
    {
     "data": {
      "text/plain": [
       "[150, 130, 20, 99, 200, 99, 120, 125, 12, 80, 52]"
      ]
     },
     "execution_count": 80,
     "metadata": {},
     "output_type": "execute_result"
    }
   ],
   "source": [
    "runs"
   ]
  },
  {
   "cell_type": "code",
   "execution_count": 82,
   "id": "9ceca32d-f009-4305-aa89-1a03178c9bb9",
   "metadata": {},
   "outputs": [
    {
     "data": {
      "text/plain": [
       "2"
      ]
     },
     "execution_count": 82,
     "metadata": {},
     "output_type": "execute_result"
    }
   ],
   "source": [
    "runs.count(99)"
   ]
  },
  {
   "cell_type": "code",
   "execution_count": 83,
   "id": "f23ab11b-14e1-477c-80b3-8482c783e979",
   "metadata": {},
   "outputs": [
    {
     "data": {
      "text/plain": [
       "0"
      ]
     },
     "execution_count": 83,
     "metadata": {},
     "output_type": "execute_result"
    }
   ],
   "source": [
    "runs.count(990)"
   ]
  },
  {
   "cell_type": "code",
   "execution_count": null,
   "id": "c5fb589d-8d8c-4582-af09-278e54ed180c",
   "metadata": {},
   "outputs": [],
   "source": []
  },
  {
   "cell_type": "markdown",
   "id": "a145d755-3ecb-4739-bb7a-40d8c50a8578",
   "metadata": {},
   "source": [
    "### Membership Operator\n",
    "- in operator"
   ]
  },
  {
   "cell_type": "code",
   "execution_count": 84,
   "id": "adb93a71-2e9e-4d6f-a7c2-4223f5ce5260",
   "metadata": {},
   "outputs": [
    {
     "data": {
      "text/plain": [
       "[150, 130, 20, 99, 200, 99, 120, 125, 12, 80, 52]"
      ]
     },
     "execution_count": 84,
     "metadata": {},
     "output_type": "execute_result"
    }
   ],
   "source": [
    "runs"
   ]
  },
  {
   "cell_type": "code",
   "execution_count": 86,
   "id": "62a8dd6c-8588-4d39-8e6d-4910c078d5f5",
   "metadata": {},
   "outputs": [
    {
     "name": "stdout",
     "output_type": "stream",
     "text": [
      "True\n"
     ]
    }
   ],
   "source": [
    "print(99 in runs)"
   ]
  },
  {
   "cell_type": "code",
   "execution_count": 87,
   "id": "989b5d08-89df-4c76-8c91-a060dc1dc45e",
   "metadata": {},
   "outputs": [
    {
     "name": "stdout",
     "output_type": "stream",
     "text": [
      "False\n"
     ]
    }
   ],
   "source": [
    "print(56 in runs)"
   ]
  },
  {
   "cell_type": "code",
   "execution_count": null,
   "id": "cb71b7ca-cc03-4020-94a9-fd75fea55949",
   "metadata": {},
   "outputs": [],
   "source": []
  },
  {
   "cell_type": "code",
   "execution_count": null,
   "id": "48a047d3-a7f6-486d-88ea-4c4017aba661",
   "metadata": {},
   "outputs": [],
   "source": []
  },
  {
   "cell_type": "code",
   "execution_count": null,
   "id": "27c585f8-948e-4006-b788-5dda6d8c394e",
   "metadata": {},
   "outputs": [],
   "source": []
  },
  {
   "cell_type": "code",
   "execution_count": null,
   "id": "e0966f8a-d2f1-4657-b481-eb9da9c7f3b6",
   "metadata": {},
   "outputs": [],
   "source": []
  },
  {
   "cell_type": "markdown",
   "id": "5dfa0957-2b4c-4f6d-a5c9-0eebb7f94515",
   "metadata": {},
   "source": [
    "### Iterating a list"
   ]
  },
  {
   "cell_type": "code",
   "execution_count": 88,
   "id": "fe2c9109-975c-43de-afcb-578fdaf2dc0b",
   "metadata": {},
   "outputs": [],
   "source": [
    "# Lists are iterable as well"
   ]
  },
  {
   "cell_type": "code",
   "execution_count": 89,
   "id": "8e308669-3010-46e7-918f-3b81f474eb8b",
   "metadata": {},
   "outputs": [],
   "source": [
    "# for iterator in iterable:\n",
    "#     Do something"
   ]
  },
  {
   "cell_type": "code",
   "execution_count": 90,
   "id": "dd16c7dd-1f90-430e-8f2c-55d6f96339c8",
   "metadata": {},
   "outputs": [
    {
     "data": {
      "text/plain": [
       "[150, 130, 20, 99, 200, 99, 120, 125, 12, 80, 52]"
      ]
     },
     "execution_count": 90,
     "metadata": {},
     "output_type": "execute_result"
    }
   ],
   "source": [
    "runs"
   ]
  },
  {
   "cell_type": "code",
   "execution_count": 91,
   "id": "5ddea8a0-69ad-454f-ab70-76d4ed1286ca",
   "metadata": {},
   "outputs": [
    {
     "name": "stdout",
     "output_type": "stream",
     "text": [
      "150\n",
      "130\n",
      "20\n",
      "99\n",
      "200\n",
      "99\n",
      "120\n",
      "125\n",
      "12\n",
      "80\n",
      "52\n"
     ]
    }
   ],
   "source": [
    "for i in runs:\n",
    "    print(i)"
   ]
  },
  {
   "cell_type": "code",
   "execution_count": 92,
   "id": "450d8acf-1743-4457-8c9c-d6994c49c40d",
   "metadata": {},
   "outputs": [
    {
     "name": "stdout",
     "output_type": "stream",
     "text": [
      "150 130 20 99 200 99 120 125 12 80 52 "
     ]
    }
   ],
   "source": [
    "for i in runs:\n",
    "    print(i, end=\" \")"
   ]
  },
  {
   "cell_type": "code",
   "execution_count": null,
   "id": "e970f22c-92dd-469c-a039-1b31ad7e4078",
   "metadata": {},
   "outputs": [],
   "source": []
  },
  {
   "cell_type": "code",
   "execution_count": null,
   "id": "7d313ee6-7d77-4201-a0e7-2927a8821d7f",
   "metadata": {},
   "outputs": [],
   "source": []
  },
  {
   "cell_type": "markdown",
   "id": "acb947fc-2332-4515-b49a-ad0de2ef6db2",
   "metadata": {},
   "source": [
    "#### Iterating a list using range of indexes"
   ]
  },
  {
   "cell_type": "code",
   "execution_count": 93,
   "id": "0e32c13e-e945-428e-9230-771093f99df2",
   "metadata": {},
   "outputs": [
    {
     "data": {
      "text/plain": [
       "[150, 130, 20, 99, 200, 99, 120, 125, 12, 80, 52]"
      ]
     },
     "execution_count": 93,
     "metadata": {},
     "output_type": "execute_result"
    }
   ],
   "source": [
    "runs"
   ]
  },
  {
   "cell_type": "code",
   "execution_count": 94,
   "id": "85612503-7e7c-47b0-86bd-e7b293dbffaf",
   "metadata": {},
   "outputs": [
    {
     "data": {
      "text/plain": [
       "150"
      ]
     },
     "execution_count": 94,
     "metadata": {},
     "output_type": "execute_result"
    }
   ],
   "source": [
    "runs[0]"
   ]
  },
  {
   "cell_type": "code",
   "execution_count": 95,
   "id": "3fbbae42-4156-4aa7-bf3d-cce0db2874b8",
   "metadata": {},
   "outputs": [
    {
     "data": {
      "text/plain": [
       "130"
      ]
     },
     "execution_count": 95,
     "metadata": {},
     "output_type": "execute_result"
    }
   ],
   "source": [
    "runs[1]"
   ]
  },
  {
   "cell_type": "code",
   "execution_count": 96,
   "id": "c5405415-7cb0-4f6d-adb3-c6f7ce54895e",
   "metadata": {},
   "outputs": [
    {
     "data": {
      "text/plain": [
       "20"
      ]
     },
     "execution_count": 96,
     "metadata": {},
     "output_type": "execute_result"
    }
   ],
   "source": [
    "runs[2]"
   ]
  },
  {
   "cell_type": "code",
   "execution_count": 97,
   "id": "7091b801-83d9-4cf9-8936-792496697a33",
   "metadata": {},
   "outputs": [],
   "source": [
    "n = len(runs)"
   ]
  },
  {
   "cell_type": "code",
   "execution_count": 98,
   "id": "1099e5e7-a937-4d3f-a51a-c3c6f7e51603",
   "metadata": {},
   "outputs": [
    {
     "data": {
      "text/plain": [
       "11"
      ]
     },
     "execution_count": 98,
     "metadata": {},
     "output_type": "execute_result"
    }
   ],
   "source": [
    "n"
   ]
  },
  {
   "cell_type": "code",
   "execution_count": 100,
   "id": "0ad2e46a-121d-4c43-bde5-292e62f2585c",
   "metadata": {},
   "outputs": [
    {
     "data": {
      "text/plain": [
       "[150, 130, 20, 99, 200, 99, 120, 125, 12, 80, 52]"
      ]
     },
     "execution_count": 100,
     "metadata": {},
     "output_type": "execute_result"
    }
   ],
   "source": [
    "runs"
   ]
  },
  {
   "cell_type": "code",
   "execution_count": 99,
   "id": "f5787a06-9ddc-4a5d-97d6-3f61707ef1ad",
   "metadata": {},
   "outputs": [
    {
     "name": "stdout",
     "output_type": "stream",
     "text": [
      "0\n",
      "1\n",
      "2\n",
      "3\n",
      "4\n",
      "5\n",
      "6\n",
      "7\n",
      "8\n",
      "9\n",
      "10\n"
     ]
    }
   ],
   "source": [
    "for i in range(n):\n",
    "    print(i)"
   ]
  },
  {
   "cell_type": "code",
   "execution_count": 102,
   "id": "46072347-7f6c-4739-932f-9e5724eb36b4",
   "metadata": {},
   "outputs": [
    {
     "name": "stdout",
     "output_type": "stream",
     "text": [
      "0 --> 150\n",
      "1 --> 130\n",
      "2 --> 20\n",
      "3 --> 99\n",
      "4 --> 200\n",
      "5 --> 99\n",
      "6 --> 120\n",
      "7 --> 125\n",
      "8 --> 12\n",
      "9 --> 80\n",
      "10 --> 52\n"
     ]
    }
   ],
   "source": [
    "for i in range(n):\n",
    "    print(i, runs[i], sep=\" --> \")"
   ]
  },
  {
   "cell_type": "code",
   "execution_count": null,
   "id": "e1f1eee3-35db-4e24-b7c4-871506684822",
   "metadata": {},
   "outputs": [],
   "source": []
  },
  {
   "cell_type": "code",
   "execution_count": 103,
   "id": "c5d2ec95-6a7a-4ed8-9cca-270155740e80",
   "metadata": {},
   "outputs": [
    {
     "data": {
      "text/plain": [
       "[150, 130, 20, 99, 200, 99, 120, 125, 12, 80, 52]"
      ]
     },
     "execution_count": 103,
     "metadata": {},
     "output_type": "execute_result"
    }
   ],
   "source": [
    "runs"
   ]
  },
  {
   "cell_type": "code",
   "execution_count": 104,
   "id": "ba721433-2d21-4f95-9da3-5628c4c0b119",
   "metadata": {},
   "outputs": [
    {
     "name": "stdout",
     "output_type": "stream",
     "text": [
      "150\n",
      "130\n",
      "20\n",
      "99\n",
      "200\n",
      "99\n",
      "120\n",
      "125\n",
      "12\n",
      "80\n",
      "52\n"
     ]
    }
   ],
   "source": [
    "for i in range(len(runs)):\n",
    "    print(runs[i])"
   ]
  },
  {
   "cell_type": "code",
   "execution_count": null,
   "id": "b4594e87-b886-40af-b319-2550321df853",
   "metadata": {},
   "outputs": [],
   "source": []
  },
  {
   "cell_type": "code",
   "execution_count": 105,
   "id": "8d0d6c65-50df-4200-b07f-4c84abe7a37f",
   "metadata": {},
   "outputs": [],
   "source": [
    "# Quiz"
   ]
  },
  {
   "cell_type": "code",
   "execution_count": 106,
   "id": "25b9fd51-42e8-4a45-8eff-d30df4ed8fb8",
   "metadata": {},
   "outputs": [
    {
     "name": "stdout",
     "output_type": "stream",
     "text": [
      "5 4 3 2 1 "
     ]
    }
   ],
   "source": [
    "my_list = [1, 2, 3, 4, 5]\n",
    "i = -1\n",
    "while i >= -5:\n",
    "    print(my_list[i], end=\" \")\n",
    "    i -= 1"
   ]
  },
  {
   "cell_type": "code",
   "execution_count": null,
   "id": "89637eef-a897-4a67-9ad8-29d407c4e056",
   "metadata": {},
   "outputs": [],
   "source": []
  },
  {
   "cell_type": "markdown",
   "id": "ddbc306a-fd68-4fe8-83a2-1f6668ff24ce",
   "metadata": {},
   "source": [
    "#### Total runs scored by Sachin in his career"
   ]
  },
  {
   "cell_type": "code",
   "execution_count": 109,
   "id": "370fad40-2a2d-41ea-a744-13689194de1e",
   "metadata": {},
   "outputs": [],
   "source": [
    "# Sum"
   ]
  },
  {
   "cell_type": "code",
   "execution_count": 110,
   "id": "107109e9-7c24-4c29-b630-94ea5e320524",
   "metadata": {},
   "outputs": [
    {
     "data": {
      "text/plain": [
       "[150, 130, 20, 99, 200, 99, 120, 125, 12, 80, 52]"
      ]
     },
     "execution_count": 110,
     "metadata": {},
     "output_type": "execute_result"
    }
   ],
   "source": [
    "runs"
   ]
  },
  {
   "cell_type": "code",
   "execution_count": 113,
   "id": "e31c3726-ae16-4e73-9193-e7cca706371a",
   "metadata": {},
   "outputs": [
    {
     "name": "stdout",
     "output_type": "stream",
     "text": [
      "1087\n"
     ]
    }
   ],
   "source": [
    "total = 0\n",
    "\n",
    "for i in runs:\n",
    "    total += i\n",
    "    \n",
    "print(total)"
   ]
  },
  {
   "cell_type": "code",
   "execution_count": 114,
   "id": "63f36e59-44dd-4c22-9a28-21d17c886f1a",
   "metadata": {},
   "outputs": [
    {
     "data": {
      "text/plain": [
       "1087"
      ]
     },
     "execution_count": 114,
     "metadata": {},
     "output_type": "execute_result"
    }
   ],
   "source": [
    "sum(runs)"
   ]
  },
  {
   "cell_type": "code",
   "execution_count": 115,
   "id": "1c29ab87-9833-4290-b596-eabac181f5f0",
   "metadata": {},
   "outputs": [
    {
     "name": "stdout",
     "output_type": "stream",
     "text": [
      "\n",
      "Here is a list of the Python keywords.  Enter any keyword to get more help.\n",
      "\n",
      "False               break               for                 not\n",
      "None                class               from                or\n",
      "True                continue            global              pass\n",
      "__peg_parser__      def                 if                  raise\n",
      "and                 del                 import              return\n",
      "as                  elif                in                  try\n",
      "assert              else                is                  while\n",
      "async               except              lambda              with\n",
      "await               finally             nonlocal            yield\n",
      "\n"
     ]
    }
   ],
   "source": [
    "help('keywords')"
   ]
  },
  {
   "cell_type": "code",
   "execution_count": 116,
   "id": "d69f0659-80dd-4fe3-82e3-8a3ffd5f81a4",
   "metadata": {},
   "outputs": [],
   "source": [
    "# HW: Do the above question using range function as well"
   ]
  },
  {
   "cell_type": "code",
   "execution_count": null,
   "id": "7d36035f-9746-45ba-989c-92ea0f64d61a",
   "metadata": {},
   "outputs": [],
   "source": []
  },
  {
   "cell_type": "code",
   "execution_count": null,
   "id": "05c9a79e-c5c2-48ca-935d-c135cdc640bb",
   "metadata": {},
   "outputs": [],
   "source": []
  },
  {
   "cell_type": "code",
   "execution_count": null,
   "id": "d8093157-516b-435b-ba24-d24d36b2c273",
   "metadata": {},
   "outputs": [],
   "source": []
  },
  {
   "cell_type": "code",
   "execution_count": 117,
   "id": "8fcdb687-7d63-4cb0-9b3b-e63f3b4cb1ad",
   "metadata": {},
   "outputs": [],
   "source": [
    "# Average of Sachin Tendulkar"
   ]
  },
  {
   "cell_type": "code",
   "execution_count": 118,
   "id": "4e77df17-e8a7-4459-818c-0f90da120254",
   "metadata": {},
   "outputs": [],
   "source": [
    "# avg = total / no. of matches"
   ]
  },
  {
   "cell_type": "code",
   "execution_count": 119,
   "id": "f7fc1c13-9111-4d6f-b55d-429f3fff5e5a",
   "metadata": {},
   "outputs": [
    {
     "data": {
      "text/plain": [
       "[150, 130, 20, 99, 200, 99, 120, 125, 12, 80, 52]"
      ]
     },
     "execution_count": 119,
     "metadata": {},
     "output_type": "execute_result"
    }
   ],
   "source": [
    "runs"
   ]
  },
  {
   "cell_type": "code",
   "execution_count": 120,
   "id": "41f410b6-7b74-4ad0-b17c-20ac90057caa",
   "metadata": {},
   "outputs": [],
   "source": [
    "avg = sum(runs) / len(runs)"
   ]
  },
  {
   "cell_type": "code",
   "execution_count": 121,
   "id": "7b482545-a308-400a-ab6c-979b7608224b",
   "metadata": {},
   "outputs": [
    {
     "data": {
      "text/plain": [
       "98.81818181818181"
      ]
     },
     "execution_count": 121,
     "metadata": {},
     "output_type": "execute_result"
    }
   ],
   "source": [
    "avg"
   ]
  },
  {
   "cell_type": "code",
   "execution_count": null,
   "id": "e4f4d72d-ed52-4fc5-9977-6e983243bd90",
   "metadata": {},
   "outputs": [],
   "source": []
  },
  {
   "cell_type": "code",
   "execution_count": 122,
   "id": "5348e6fb-fd6f-46a1-b41e-4a79e90a8472",
   "metadata": {},
   "outputs": [],
   "source": [
    "# Min, Max"
   ]
  },
  {
   "cell_type": "code",
   "execution_count": 123,
   "id": "93b06c4e-2779-43d1-9ef6-9f86cfbbfd74",
   "metadata": {},
   "outputs": [
    {
     "data": {
      "text/plain": [
       "[150, 130, 20, 99, 200, 99, 120, 125, 12, 80, 52]"
      ]
     },
     "execution_count": 123,
     "metadata": {},
     "output_type": "execute_result"
    }
   ],
   "source": [
    "runs"
   ]
  },
  {
   "cell_type": "code",
   "execution_count": 124,
   "id": "dc14bd83-2d8a-405f-8426-5f48b0ea2f30",
   "metadata": {},
   "outputs": [
    {
     "data": {
      "text/plain": [
       "12"
      ]
     },
     "execution_count": 124,
     "metadata": {},
     "output_type": "execute_result"
    }
   ],
   "source": [
    "min(runs)"
   ]
  },
  {
   "cell_type": "code",
   "execution_count": 125,
   "id": "5cd429bc-14c7-46d9-83de-2b1b4f0578dc",
   "metadata": {},
   "outputs": [
    {
     "data": {
      "text/plain": [
       "200"
      ]
     },
     "execution_count": 125,
     "metadata": {},
     "output_type": "execute_result"
    }
   ],
   "source": [
    "max(runs)"
   ]
  },
  {
   "cell_type": "code",
   "execution_count": null,
   "id": "a7511e44-50f5-4d69-87bb-b24696113289",
   "metadata": {},
   "outputs": [],
   "source": []
  },
  {
   "cell_type": "code",
   "execution_count": 126,
   "id": "c6c9d6a1-af97-4b79-aab6-0e70a0efb1c8",
   "metadata": {},
   "outputs": [],
   "source": [
    "# HW: Find min, max, avg runs wihtout using inbuilt functions"
   ]
  },
  {
   "cell_type": "code",
   "execution_count": null,
   "id": "d532ef47-e1f1-4b86-8a6a-c1f475fa358a",
   "metadata": {},
   "outputs": [],
   "source": []
  },
  {
   "cell_type": "code",
   "execution_count": null,
   "id": "531fedfc-0e4e-4f98-b2d5-0069e2995575",
   "metadata": {},
   "outputs": [],
   "source": []
  },
  {
   "cell_type": "markdown",
   "id": "c3faad30-326e-4c9d-919b-56ad69751fa7",
   "metadata": {},
   "source": [
    "#### Print the runs scored by Sachin in even index matches"
   ]
  },
  {
   "cell_type": "code",
   "execution_count": 127,
   "id": "de7c03e6-f73b-4ca3-95a6-34e4cc780794",
   "metadata": {},
   "outputs": [],
   "source": [
    "runs = [150, 20, 99, 200, 99, 120, 159, 80, 52]"
   ]
  },
  {
   "cell_type": "code",
   "execution_count": 129,
   "id": "d9ac8b82-4580-4701-98f6-3a010d7bef76",
   "metadata": {},
   "outputs": [],
   "source": [
    "# The following code is printing even runs"
   ]
  },
  {
   "cell_type": "code",
   "execution_count": 130,
   "id": "ad5e966f-ccf7-4dc9-a6fb-df3bc536354f",
   "metadata": {},
   "outputs": [
    {
     "name": "stdout",
     "output_type": "stream",
     "text": [
      "150\n",
      "20\n",
      "200\n",
      "120\n",
      "80\n",
      "52\n"
     ]
    }
   ],
   "source": [
    "for i in runs:\n",
    "    # Even values\n",
    "    if i % 2 == 0:\n",
    "        print(i)"
   ]
  },
  {
   "cell_type": "code",
   "execution_count": 133,
   "id": "7b3f65df-c95b-41b1-88cc-917dfb177229",
   "metadata": {},
   "outputs": [
    {
     "name": "stdout",
     "output_type": "stream",
     "text": [
      "0 150\n",
      "2 99\n",
      "4 99\n",
      "6 159\n",
      "8 52\n"
     ]
    }
   ],
   "source": [
    "for i in range(0, len(runs), 2):\n",
    "    print(i, runs[i])"
   ]
  },
  {
   "cell_type": "code",
   "execution_count": null,
   "id": "4c7c8a1c-c593-4cdf-94d5-7d89b075a548",
   "metadata": {},
   "outputs": [],
   "source": []
  },
  {
   "cell_type": "code",
   "execution_count": null,
   "id": "1afc9c43-4b39-4d34-bd16-5b26039bdb6e",
   "metadata": {},
   "outputs": [],
   "source": []
  },
  {
   "cell_type": "markdown",
   "id": "6858831d-fe25-41ae-8810-4fbdb24e656b",
   "metadata": {},
   "source": [
    "### Taking list of numbers as input"
   ]
  },
  {
   "cell_type": "markdown",
   "id": "2b094a9a-89b5-4647-a72b-5f32ace8dde5",
   "metadata": {},
   "source": [
    "- Getting the number of elements\n",
    "- Initializing an empty list\n",
    "- Use a loop\n",
    "- Get input for each element"
   ]
  },
  {
   "cell_type": "code",
   "execution_count": 135,
   "id": "1e3e76aa-ff9a-497f-8150-36aa1dc6c944",
   "metadata": {},
   "outputs": [
    {
     "name": "stdin",
     "output_type": "stream",
     "text": [
      "Size of list: 3\n",
      "Element for list: 25\n",
      "Element for list: 68\n",
      "Element for list: 10\n"
     ]
    },
    {
     "name": "stdout",
     "output_type": "stream",
     "text": [
      "[25, 68, 10]\n"
     ]
    }
   ],
   "source": [
    "# Step 1: How many elements do we want\n",
    "n = int(input(\"Size of list:\"))\n",
    "\n",
    "# Step 2: Create an empty list\n",
    "l = []\n",
    "\n",
    "# Step 3: Run a loop to take n integers as input\n",
    "for i in range(n):\n",
    "    # Take value as input and append in your list\n",
    "    val = int(input(\"Element for list:\"))\n",
    "    l.append(val)\n",
    "    \n",
    "print(l)\n"
   ]
  },
  {
   "cell_type": "code",
   "execution_count": null,
   "id": "1b1ef05e-52da-4d5a-b71f-2737590756ad",
   "metadata": {},
   "outputs": [],
   "source": []
  },
  {
   "cell_type": "code",
   "execution_count": null,
   "id": "5ef93292-6351-4951-b60f-b36022f76274",
   "metadata": {},
   "outputs": [],
   "source": []
  },
  {
   "cell_type": "code",
   "execution_count": null,
   "id": "5729fc63-b210-4094-8196-1206187c16fe",
   "metadata": {},
   "outputs": [],
   "source": []
  },
  {
   "cell_type": "code",
   "execution_count": null,
   "id": "3f7737ae-f08b-4e6c-abf2-37814f80727e",
   "metadata": {},
   "outputs": [],
   "source": []
  },
  {
   "cell_type": "code",
   "execution_count": null,
   "id": "99ee481a-02e2-42fb-bc5f-fcd117a6a4ec",
   "metadata": {},
   "outputs": [],
   "source": []
  },
  {
   "cell_type": "code",
   "execution_count": null,
   "id": "d257504f-ea15-4e0c-8f8d-6f3ed53e0950",
   "metadata": {},
   "outputs": [],
   "source": []
  },
  {
   "cell_type": "code",
   "execution_count": null,
   "id": "394dace8-7280-476f-970e-c5c02eb53222",
   "metadata": {},
   "outputs": [],
   "source": []
  },
  {
   "cell_type": "code",
   "execution_count": null,
   "id": "d85c5898-37ca-477c-90bf-9be75b32ab99",
   "metadata": {},
   "outputs": [],
   "source": []
  }
 ],
 "metadata": {
  "kernelspec": {
   "display_name": "Python 3 (ipykernel)",
   "language": "python",
   "name": "python3"
  },
  "language_info": {
   "codemirror_mode": {
    "name": "ipython",
    "version": 3
   },
   "file_extension": ".py",
   "mimetype": "text/x-python",
   "name": "python",
   "nbconvert_exporter": "python",
   "pygments_lexer": "ipython3",
   "version": "3.9.7"
  }
 },
 "nbformat": 4,
 "nbformat_minor": 5
}
