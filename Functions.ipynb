{
 "cells": [
  {
   "cell_type": "markdown",
   "id": "694bda23-c9a2-4139-b627-9ea1ad4e69e0",
   "metadata": {},
   "source": [
    "## Defining a function"
   ]
  },
  {
   "cell_type": "markdown",
   "id": "29d818b5-2604-4b03-b568-1182521e2a37",
   "metadata": {},
   "source": [
    "![image](../picture/Function.gif)"
   ]
  },
  {
   "cell_type": "code",
   "execution_count": 1,
   "id": "e75fa6ed-bd02-4193-9593-d010fb979491",
   "metadata": {},
   "outputs": [],
   "source": [
    "# some program"
   ]
  },
  {
   "cell_type": "code",
   "execution_count": 2,
   "id": "f283e17d-8fdf-4475-b305-181a4e27b753",
   "metadata": {},
   "outputs": [
    {
     "name": "stdout",
     "output_type": "stream",
     "text": [
      "Peel off the bananas\n",
      "Add some milk to it\n",
      "Add some honey and dates\n",
      "Add some dry fruits\n",
      "Top up with ice cream\n"
     ]
    }
   ],
   "source": [
    "print(\"Peel off the bananas\")\n",
    "print(\"Add some milk to it\")\n",
    "print(\"Add some honey and dates\")\n",
    "print(\"Add some dry fruits\")\n",
    "print(\"Top up with ice cream\")"
   ]
  },
  {
   "cell_type": "code",
   "execution_count": 4,
   "id": "4e206081-bc36-4659-af10-dfc3478e79ec",
   "metadata": {},
   "outputs": [],
   "source": [
    "# Some code"
   ]
  },
  {
   "cell_type": "code",
   "execution_count": 3,
   "id": "80c889d4-f16e-472e-9c04-958286dc8a0c",
   "metadata": {},
   "outputs": [
    {
     "name": "stdout",
     "output_type": "stream",
     "text": [
      "Peel off the bananas\n",
      "Add some milk to it\n",
      "Add some honey and dates\n",
      "Add some dry fruits\n",
      "Top up with ice cream\n"
     ]
    }
   ],
   "source": [
    "print(\"Peel off the bananas\")\n",
    "print(\"Add some milk to it\")\n",
    "print(\"Add some honey and dates\")\n",
    "print(\"Add some dry fruits\")\n",
    "print(\"Top up with ice cream\")"
   ]
  },
  {
   "cell_type": "code",
   "execution_count": 5,
   "id": "9457b072-3f01-406a-881e-960ef025c6e6",
   "metadata": {},
   "outputs": [],
   "source": [
    "# Some code"
   ]
  },
  {
   "cell_type": "code",
   "execution_count": 6,
   "id": "861e2eb7-a273-42d0-a8fb-d4e2d0b46701",
   "metadata": {},
   "outputs": [
    {
     "name": "stdout",
     "output_type": "stream",
     "text": [
      "Peel off the bananas\n",
      "Add some milk to it\n",
      "Add some honey and dates\n",
      "Add some dry fruits\n",
      "Top up with ice cream\n"
     ]
    }
   ],
   "source": [
    "print(\"Peel off the bananas\")\n",
    "print(\"Add some milk to it\")\n",
    "print(\"Add some honey and dates\")\n",
    "print(\"Add some dry fruits\")\n",
    "print(\"Top up with ice cream\")"
   ]
  },
  {
   "cell_type": "code",
   "execution_count": null,
   "id": "263fef88-af98-41c9-be01-95d159bdf15f",
   "metadata": {},
   "outputs": [],
   "source": []
  },
  {
   "cell_type": "code",
   "execution_count": null,
   "id": "0ddf00bc-ccda-40d9-8b49-b2a0104089cf",
   "metadata": {},
   "outputs": [],
   "source": []
  },
  {
   "cell_type": "markdown",
   "id": "8cfd6786-a8f5-424e-8b42-9ef7e89dd133",
   "metadata": {},
   "source": [
    "## Define a function"
   ]
  },
  {
   "cell_type": "code",
   "execution_count": 7,
   "id": "ecd6e627-b094-4092-9cca-b0c190cb6ecf",
   "metadata": {},
   "outputs": [],
   "source": [
    "def banana_shake():\n",
    "    # Write code here\n",
    "    print(\"Peel off the bananas\")\n",
    "    print(\"Add some milk to it\")\n",
    "    print(\"Add some honey and dates\")\n",
    "    print(\"Add some dry fruits\")\n",
    "    print(\"Top up with ice cream\")"
   ]
  },
  {
   "cell_type": "code",
   "execution_count": null,
   "id": "8af31524-b58e-4823-a309-6bf6ef77017a",
   "metadata": {},
   "outputs": [],
   "source": []
  },
  {
   "cell_type": "code",
   "execution_count": 8,
   "id": "1d0d42e9-e4de-48ee-8f56-962192819c61",
   "metadata": {},
   "outputs": [],
   "source": [
    "# calling a function"
   ]
  },
  {
   "cell_type": "code",
   "execution_count": 9,
   "id": "9abe1ac6-354a-4bab-8574-27ef7f509a4f",
   "metadata": {},
   "outputs": [
    {
     "name": "stdout",
     "output_type": "stream",
     "text": [
      "Peel off the bananas\n",
      "Add some milk to it\n",
      "Add some honey and dates\n",
      "Add some dry fruits\n",
      "Top up with ice cream\n"
     ]
    }
   ],
   "source": [
    "banana_shake()"
   ]
  },
  {
   "cell_type": "code",
   "execution_count": 10,
   "id": "3d5586d8-47b6-4418-8e1b-8948702a1df4",
   "metadata": {},
   "outputs": [
    {
     "name": "stdout",
     "output_type": "stream",
     "text": [
      "Peel off the bananas\n",
      "Add some milk to it\n",
      "Add some honey and dates\n",
      "Add some dry fruits\n",
      "Top up with ice cream\n"
     ]
    }
   ],
   "source": [
    "banana_shake()"
   ]
  },
  {
   "cell_type": "code",
   "execution_count": null,
   "id": "16f20d7a-b958-4e1c-bf78-f6afbf57fb1b",
   "metadata": {},
   "outputs": [],
   "source": []
  },
  {
   "cell_type": "code",
   "execution_count": 11,
   "id": "62fdfd51-183b-4ef8-a6f3-3bad1a136331",
   "metadata": {},
   "outputs": [],
   "source": [
    "# mango_shake()"
   ]
  },
  {
   "cell_type": "code",
   "execution_count": 12,
   "id": "93771eb0-7b14-48b5-ae23-f6eebbc8bbb3",
   "metadata": {},
   "outputs": [
    {
     "ename": "NameError",
     "evalue": "name 'mango_shake' is not defined",
     "output_type": "error",
     "traceback": [
      "\u001b[0;31m---------------------------------------------------------------------------\u001b[0m",
      "\u001b[0;31mNameError\u001b[0m                                 Traceback (most recent call last)",
      "\u001b[0;32m/var/folders/t5/yhjgrjs907zfp250jyxtw54m0000gn/T/ipykernel_37287/2794658734.py\u001b[0m in \u001b[0;36m<module>\u001b[0;34m\u001b[0m\n\u001b[0;32m----> 1\u001b[0;31m \u001b[0mmango_shake\u001b[0m\u001b[0;34m(\u001b[0m\u001b[0;34m)\u001b[0m\u001b[0;34m\u001b[0m\u001b[0;34m\u001b[0m\u001b[0m\n\u001b[0m",
      "\u001b[0;31mNameError\u001b[0m: name 'mango_shake' is not defined"
     ]
    }
   ],
   "source": [
    "mango_shake()"
   ]
  },
  {
   "cell_type": "code",
   "execution_count": 13,
   "id": "c441eeec-a643-49b1-9605-8067d0f122b5",
   "metadata": {},
   "outputs": [],
   "source": [
    "def mango_shake():\n",
    "    print(\"Peel off the Mango\")\n",
    "    print(\"Add some milk to it\")\n",
    "    print(\"Add some honey and dates\")\n",
    "    print(\"Add some dry fruits\")\n",
    "    print(\"Top up with ice cream\")"
   ]
  },
  {
   "cell_type": "code",
   "execution_count": 14,
   "id": "82bb40a9-cf7e-46ad-b596-2e025d1f58f0",
   "metadata": {},
   "outputs": [
    {
     "name": "stdout",
     "output_type": "stream",
     "text": [
      "Peel off the Mango\n",
      "Add some milk to it\n",
      "Add some honey and dates\n",
      "Add some dry fruits\n",
      "Top up with ice cream\n"
     ]
    }
   ],
   "source": [
    "mango_shake()"
   ]
  },
  {
   "cell_type": "code",
   "execution_count": null,
   "id": "870b01df-0e13-41f3-80ab-6d5759700b58",
   "metadata": {},
   "outputs": [],
   "source": []
  },
  {
   "cell_type": "code",
   "execution_count": null,
   "id": "3ad3a1cb-c658-4759-af5c-7ce64f16d1a6",
   "metadata": {},
   "outputs": [],
   "source": []
  },
  {
   "cell_type": "markdown",
   "id": "ea469a2a-725e-4a8a-a856-4d92538fca2d",
   "metadata": {},
   "source": [
    "## Passing a parameter to the function\n",
    "- Do you want to make different functions for different fruit shakes?"
   ]
  },
  {
   "cell_type": "code",
   "execution_count": 15,
   "id": "b9882c6b-71e6-40ab-b697-53d0488a0167",
   "metadata": {},
   "outputs": [],
   "source": [
    "# fruit shake"
   ]
  },
  {
   "cell_type": "code",
   "execution_count": 16,
   "id": "f917b360-226d-4ea6-8a4e-b4ec724a7d0d",
   "metadata": {},
   "outputs": [],
   "source": [
    "def fruit_shake(fruit):\n",
    "    print(\"Peel off the\", fruit)\n",
    "    print(\"Add some milk to it\")\n",
    "    print(\"Add some honey and dates\")\n",
    "    print(\"Add some dry fruits\")\n",
    "    print(\"Top up with ice cream\")"
   ]
  },
  {
   "cell_type": "code",
   "execution_count": null,
   "id": "62dc3d1c-cbf8-4bd0-a51f-43c380734eb1",
   "metadata": {},
   "outputs": [],
   "source": []
  },
  {
   "cell_type": "code",
   "execution_count": null,
   "id": "65f23d21-1439-4786-b5df-5d069c779ec7",
   "metadata": {},
   "outputs": [],
   "source": []
  },
  {
   "cell_type": "code",
   "execution_count": 17,
   "id": "92472feb-6122-4112-a4e1-db49caed6b96",
   "metadata": {},
   "outputs": [],
   "source": [
    "# When calling a function always pass the value of params\n",
    "# fruit_shake()"
   ]
  },
  {
   "cell_type": "code",
   "execution_count": 18,
   "id": "6f60c29a-47ae-40b0-8aa3-fa44e0a24301",
   "metadata": {},
   "outputs": [],
   "source": [
    "# fruit_shake() : We can't keep paramaters as empty"
   ]
  },
  {
   "cell_type": "code",
   "execution_count": 20,
   "id": "a45874cf-14c4-48eb-8b3e-eefc6e585816",
   "metadata": {},
   "outputs": [
    {
     "name": "stdout",
     "output_type": "stream",
     "text": [
      "Peel off the banana\n",
      "Add some milk to it\n",
      "Add some honey and dates\n",
      "Add some dry fruits\n",
      "Top up with ice cream\n"
     ]
    }
   ],
   "source": [
    "fruit_shake(\"banana\")"
   ]
  },
  {
   "cell_type": "code",
   "execution_count": 21,
   "id": "266228ce-dbda-45ff-a89a-fda4dd232ae3",
   "metadata": {},
   "outputs": [
    {
     "name": "stdout",
     "output_type": "stream",
     "text": [
      "Peel off the Cheeku\n",
      "Add some milk to it\n",
      "Add some honey and dates\n",
      "Add some dry fruits\n",
      "Top up with ice cream\n"
     ]
    }
   ],
   "source": [
    "fruit_shake(\"Cheeku\")"
   ]
  },
  {
   "cell_type": "code",
   "execution_count": null,
   "id": "d5ee19c3-a233-488b-b8c9-1db676cf1e8e",
   "metadata": {},
   "outputs": [],
   "source": []
  },
  {
   "cell_type": "code",
   "execution_count": 22,
   "id": "e8c560b4-25fd-44bb-94fb-ab52b73f05a0",
   "metadata": {},
   "outputs": [],
   "source": [
    "# intro"
   ]
  },
  {
   "cell_type": "code",
   "execution_count": 23,
   "id": "e36aacf5-2bc1-49ff-8a86-2b60fb67bbc8",
   "metadata": {},
   "outputs": [],
   "source": [
    "def intro(name):\n",
    "    print(\"Hey there, I am\", name)"
   ]
  },
  {
   "cell_type": "code",
   "execution_count": 24,
   "id": "a3d57aea-3514-4ea6-87ab-ec5ccfa941a8",
   "metadata": {},
   "outputs": [
    {
     "name": "stdout",
     "output_type": "stream",
     "text": [
      "Hey there, I am Sakthi\n"
     ]
    }
   ],
   "source": [
    "intro(\"Sakthi\")"
   ]
  },
  {
   "cell_type": "code",
   "execution_count": 26,
   "id": "e91dc268-29a4-41da-ad88-6d6e2d69d37e",
   "metadata": {},
   "outputs": [
    {
     "name": "stdout",
     "output_type": "stream",
     "text": [
      "Hey there, I am 12.12\n"
     ]
    }
   ],
   "source": [
    "intro(12.12)"
   ]
  },
  {
   "cell_type": "code",
   "execution_count": null,
   "id": "ceea3e37-b779-49fb-a002-8f1b3c540b50",
   "metadata": {},
   "outputs": [],
   "source": []
  },
  {
   "cell_type": "code",
   "execution_count": null,
   "id": "ffb15b1f-a6d1-4ff9-a252-bf84f383e276",
   "metadata": {},
   "outputs": [],
   "source": []
  },
  {
   "cell_type": "code",
   "execution_count": null,
   "id": "e3f5dfa0-db16-4fe2-8545-92294f6a5a45",
   "metadata": {},
   "outputs": [],
   "source": []
  },
  {
   "cell_type": "markdown",
   "id": "b803ae9f-64f1-4b67-85ab-a52f5421902c",
   "metadata": {
    "tags": []
   },
   "source": [
    "## Multiple paramaters\n",
    "- Introduce your family\n",
    "- These arguments follow positions"
   ]
  },
  {
   "cell_type": "code",
   "execution_count": 31,
   "id": "f8896790-0e69-4f0f-ad16-a78e47df13cf",
   "metadata": {},
   "outputs": [],
   "source": [
    "def family_intro(father, mother, sibling):\n",
    "    print(\"He is my father,\", father)\n",
    "    print(\"She is my mother,\", mother)\n",
    "    print(\"He is my sibling,\", sibling)"
   ]
  },
  {
   "cell_type": "code",
   "execution_count": null,
   "id": "08f144d2-e5d2-490e-b06d-5ed685e6216d",
   "metadata": {},
   "outputs": [
    {
     "name": "stdout",
     "output_type": "stream",
     "text": [
      "34 23 3\n"
     ]
    }
   ],
   "source": [
    "x = 3\n",
    "y = 34\n",
    "z = 23\n",
    "\n",
    "print(y, z, x)"
   ]
  },
  {
   "cell_type": "code",
   "execution_count": null,
   "id": "5aec9cbd-e7d8-4fe1-ac5d-dcbe4d3df378",
   "metadata": {},
   "outputs": [],
   "source": []
  },
  {
   "cell_type": "code",
   "execution_count": 32,
   "id": "a0f2057b-c295-473a-9fb5-7648e4ab2e5b",
   "metadata": {},
   "outputs": [],
   "source": [
    "# These parameters are positional"
   ]
  },
  {
   "cell_type": "code",
   "execution_count": 34,
   "id": "0172fffc-8517-40a1-9375-f88b30fd6a8c",
   "metadata": {},
   "outputs": [
    {
     "name": "stdout",
     "output_type": "stream",
     "text": [
      "He is my father, Papa\n",
      "She is my mother, Mumma\n",
      "He is my sibling, Chintu\n"
     ]
    }
   ],
   "source": [
    "family_intro(\"Papa\", \"Mumma\", \"Chintu\")"
   ]
  },
  {
   "cell_type": "code",
   "execution_count": 35,
   "id": "c8fd157a-abee-4669-81b0-6dc39ae0a7f4",
   "metadata": {},
   "outputs": [
    {
     "name": "stdout",
     "output_type": "stream",
     "text": [
      "He is my father, Chintu\n",
      "She is my mother, Mumma\n",
      "He is my sibling, Father\n"
     ]
    }
   ],
   "source": [
    "family_intro(\"Chintu\", \"Mumma\", \"Father\")"
   ]
  },
  {
   "cell_type": "code",
   "execution_count": null,
   "id": "10afa069-6f12-47be-a6e4-1a15bddb8f87",
   "metadata": {},
   "outputs": [],
   "source": []
  },
  {
   "cell_type": "code",
   "execution_count": 37,
   "id": "94041caf-0a2a-437f-bf85-093a5b76e9ef",
   "metadata": {},
   "outputs": [],
   "source": [
    "def func(n):\n",
    "    for i in range(n):\n",
    "        print(\"hello\")"
   ]
  },
  {
   "cell_type": "code",
   "execution_count": 39,
   "id": "dc187afc-a8fb-4256-ba07-05554d3e7872",
   "metadata": {},
   "outputs": [],
   "source": [
    "# func(3.0)"
   ]
  },
  {
   "cell_type": "code",
   "execution_count": 40,
   "id": "758f6e84-669b-403f-8e04-52e2acc16548",
   "metadata": {},
   "outputs": [
    {
     "name": "stdout",
     "output_type": "stream",
     "text": [
      "hello\n",
      "hello\n",
      "hello\n"
     ]
    }
   ],
   "source": [
    "func(3)"
   ]
  },
  {
   "cell_type": "code",
   "execution_count": 42,
   "id": "27e1b9bc-9206-4e9e-9313-981b2601cebb",
   "metadata": {},
   "outputs": [],
   "source": [
    "# func(\"Hello\")"
   ]
  },
  {
   "cell_type": "code",
   "execution_count": null,
   "id": "345e7ab4-f63a-4a15-99e5-b1a25fe9d502",
   "metadata": {},
   "outputs": [],
   "source": []
  },
  {
   "cell_type": "code",
   "execution_count": null,
   "id": "361cee61-31fb-4bd0-9442-2d5c222cbac3",
   "metadata": {},
   "outputs": [],
   "source": []
  },
  {
   "cell_type": "code",
   "execution_count": 43,
   "id": "f4191806-f17f-40c0-aed7-5912a1cfc218",
   "metadata": {},
   "outputs": [],
   "source": [
    "# Make a calculator with +, -, *, //, % operations\n",
    "# Ask from user for operations to perform and then print answer \n",
    "# for that operation"
   ]
  },
  {
   "cell_type": "code",
   "execution_count": null,
   "id": "91923b07-9453-483b-8874-35e5d645d66f",
   "metadata": {},
   "outputs": [],
   "source": []
  },
  {
   "cell_type": "code",
   "execution_count": null,
   "id": "dd3549a1-f3c2-4afa-abb7-06a789c6fee7",
   "metadata": {},
   "outputs": [],
   "source": []
  },
  {
   "cell_type": "markdown",
   "id": "29bab29f-342f-479d-a29c-dde58a4d3360",
   "metadata": {},
   "source": [
    "![](../photos/when-i-wrote.jpeg)"
   ]
  },
  {
   "cell_type": "markdown",
   "id": "0b627352-0439-41b9-8313-e73a4e2ecb82",
   "metadata": {},
   "source": [
    "## Docstrings\n",
    "- Should I have Kept some Documentation?\n",
    "- Tell me something about yourself please..."
   ]
  },
  {
   "cell_type": "code",
   "execution_count": 44,
   "id": "0557f012-ef01-4a11-a372-469b0ada6bbb",
   "metadata": {},
   "outputs": [],
   "source": [
    "# add them"
   ]
  },
  {
   "cell_type": "code",
   "execution_count": 45,
   "id": "fc43b924-d478-4222-9ef8-2548e320b30c",
   "metadata": {},
   "outputs": [],
   "source": [
    "# print?"
   ]
  },
  {
   "cell_type": "code",
   "execution_count": 46,
   "id": "d3b4923e-a55e-42f0-9bb6-f6ccbf75af5d",
   "metadata": {},
   "outputs": [],
   "source": [
    "def add(a, b):\n",
    "    print(a + b)"
   ]
  },
  {
   "cell_type": "code",
   "execution_count": 48,
   "id": "af89301b-dfaf-44d6-9c34-0075be584e71",
   "metadata": {},
   "outputs": [],
   "source": [
    "# print?"
   ]
  },
  {
   "cell_type": "code",
   "execution_count": 50,
   "id": "2770b3df-f154-41b4-8d63-32d5949e65c7",
   "metadata": {},
   "outputs": [],
   "source": [
    "def add(a, b):\n",
    "    '''\n",
    "    This function can be used either to add two numbers or to concatenate two string.    \n",
    "    '''\n",
    "    print(a + b)"
   ]
  },
  {
   "cell_type": "code",
   "execution_count": 54,
   "id": "9d0dad86-087d-4b6d-8161-6ce369853c80",
   "metadata": {},
   "outputs": [
    {
     "name": "stdout",
     "output_type": "stream",
     "text": [
      "4.3\n"
     ]
    }
   ],
   "source": [
    "add(2, 2.3)"
   ]
  },
  {
   "cell_type": "code",
   "execution_count": 56,
   "id": "c03c4ea3-4760-4956-bb7a-58bdf7d9d14a",
   "metadata": {},
   "outputs": [
    {
     "data": {
      "text/plain": [
       "False"
      ]
     },
     "execution_count": 56,
     "metadata": {},
     "output_type": "execute_result"
    }
   ],
   "source": [
    "a = 5\n",
    "isinstance(2.3, int)"
   ]
  },
  {
   "cell_type": "code",
   "execution_count": 57,
   "id": "23337e91-6429-4ba3-aae2-a51f7dfcd02c",
   "metadata": {},
   "outputs": [
    {
     "data": {
      "text/plain": [
       "True"
      ]
     },
     "execution_count": 57,
     "metadata": {},
     "output_type": "execute_result"
    }
   ],
   "source": [
    "isinstance(\"Hello\", str)"
   ]
  },
  {
   "cell_type": "code",
   "execution_count": null,
   "id": "3608bf4e-414d-4d10-bdab-16f48ae2ea99",
   "metadata": {},
   "outputs": [],
   "source": []
  },
  {
   "cell_type": "code",
   "execution_count": null,
   "id": "508d3227-7f06-42c6-b5e9-04328982dfae",
   "metadata": {},
   "outputs": [],
   "source": []
  },
  {
   "cell_type": "markdown",
   "id": "73a219c5-1701-4093-a0ab-6f860a6cc7a3",
   "metadata": {},
   "source": [
    "# Return a function"
   ]
  },
  {
   "cell_type": "markdown",
   "id": "416afa1d-fb8a-48a5-9ae7-6db357ec81c6",
   "metadata": {},
   "source": [
    "##### print function shows all the values that it prints but actually it doesnt give any value"
   ]
  },
  {
   "cell_type": "code",
   "execution_count": 58,
   "id": "b474c7d7-28d4-4069-bfeb-3113f803d259",
   "metadata": {},
   "outputs": [],
   "source": [
    "# lets revisit print"
   ]
  },
  {
   "cell_type": "code",
   "execution_count": 59,
   "id": "8d7b31b0-1e4f-4a87-93f3-13f86ebf79fa",
   "metadata": {},
   "outputs": [
    {
     "name": "stdout",
     "output_type": "stream",
     "text": [
      "Hello world\n"
     ]
    }
   ],
   "source": [
    "print(\"Hello world\")"
   ]
  },
  {
   "cell_type": "code",
   "execution_count": 60,
   "id": "708ee4c4-0bed-47dd-901e-643baebfd0fa",
   "metadata": {},
   "outputs": [
    {
     "name": "stdout",
     "output_type": "stream",
     "text": [
      "hello world\n"
     ]
    },
    {
     "data": {
      "text/plain": [
       "NoneType"
      ]
     },
     "execution_count": 60,
     "metadata": {},
     "output_type": "execute_result"
    }
   ],
   "source": [
    "type(print(\"hello world\"))"
   ]
  },
  {
   "cell_type": "code",
   "execution_count": 61,
   "id": "c740616b-eab5-4114-a345-8294a2494a9a",
   "metadata": {},
   "outputs": [],
   "source": [
    "def add(a, b):\n",
    "    print(a + b)"
   ]
  },
  {
   "cell_type": "code",
   "execution_count": 62,
   "id": "ada965d8-5d84-448b-9bc7-c8f0ecc9ed68",
   "metadata": {},
   "outputs": [
    {
     "name": "stdout",
     "output_type": "stream",
     "text": [
      "5\n"
     ]
    }
   ],
   "source": [
    "x = add(2, 3)"
   ]
  },
  {
   "cell_type": "code",
   "execution_count": 63,
   "id": "63faee54-2643-4b16-9412-9293c4e1f092",
   "metadata": {},
   "outputs": [
    {
     "name": "stdout",
     "output_type": "stream",
     "text": [
      "None\n"
     ]
    }
   ],
   "source": [
    "print(x)"
   ]
  },
  {
   "cell_type": "code",
   "execution_count": 64,
   "id": "4c742ed9-d3f5-406f-8ba0-d28c71b118be",
   "metadata": {},
   "outputs": [
    {
     "data": {
      "text/plain": [
       "NoneType"
      ]
     },
     "execution_count": 64,
     "metadata": {},
     "output_type": "execute_result"
    }
   ],
   "source": [
    "type(x)"
   ]
  },
  {
   "cell_type": "code",
   "execution_count": 65,
   "id": "fe5888b4-284c-4b4f-986b-4f45a7c1fb4e",
   "metadata": {},
   "outputs": [],
   "source": [
    "def add(a, b):\n",
    "    return a + b"
   ]
  },
  {
   "cell_type": "code",
   "execution_count": 66,
   "id": "45c3cba4-ae29-425b-aee5-c4d78e285295",
   "metadata": {},
   "outputs": [],
   "source": [
    "x = add(2, 3)"
   ]
  },
  {
   "cell_type": "code",
   "execution_count": 67,
   "id": "90607d8c-4507-45cc-bac1-6153a17f7ebe",
   "metadata": {},
   "outputs": [
    {
     "name": "stdout",
     "output_type": "stream",
     "text": [
      "5\n"
     ]
    }
   ],
   "source": [
    "print(x)"
   ]
  },
  {
   "cell_type": "code",
   "execution_count": 68,
   "id": "29f9741f-7521-4920-8af3-48674b275828",
   "metadata": {},
   "outputs": [
    {
     "data": {
      "text/plain": [
       "int"
      ]
     },
     "execution_count": 68,
     "metadata": {},
     "output_type": "execute_result"
    }
   ],
   "source": [
    "type(x)"
   ]
  },
  {
   "cell_type": "code",
   "execution_count": null,
   "id": "b41fcfbc-087d-4112-811f-242fe7eabad8",
   "metadata": {},
   "outputs": [],
   "source": []
  },
  {
   "cell_type": "code",
   "execution_count": 72,
   "id": "decc2807-3679-447d-beb8-60abbdae7b02",
   "metadata": {},
   "outputs": [],
   "source": [
    "def func():\n",
    "    print(\"This is before return statement.\")\n",
    "    return 23, 3, 4, 5\n",
    "    print(\"This is after return statement.\")"
   ]
  },
  {
   "cell_type": "code",
   "execution_count": 73,
   "id": "0b863c3b-dddf-4edd-8a95-58fbfb9d800f",
   "metadata": {},
   "outputs": [
    {
     "name": "stdout",
     "output_type": "stream",
     "text": [
      "This is before return statement.\n"
     ]
    }
   ],
   "source": [
    "y = func()"
   ]
  },
  {
   "cell_type": "code",
   "execution_count": 74,
   "id": "34748699-021a-4c15-b78f-ad8d052ee069",
   "metadata": {},
   "outputs": [
    {
     "name": "stdout",
     "output_type": "stream",
     "text": [
      "(23, 3, 4, 5)\n"
     ]
    }
   ],
   "source": [
    "print(y)"
   ]
  },
  {
   "cell_type": "code",
   "execution_count": null,
   "id": "231fb807-313c-4665-a929-03fe557dccf4",
   "metadata": {},
   "outputs": [],
   "source": []
  },
  {
   "cell_type": "code",
   "execution_count": 75,
   "id": "a4c43991-b736-4101-9882-242d6b52e23d",
   "metadata": {},
   "outputs": [],
   "source": [
    "# Quiz"
   ]
  },
  {
   "cell_type": "code",
   "execution_count": 76,
   "id": "d3dbf891-449b-401d-9cfa-fcdaa6f94e1e",
   "metadata": {},
   "outputs": [
    {
     "name": "stdout",
     "output_type": "stream",
     "text": [
      "15\n"
     ]
    }
   ],
   "source": [
    "def do_something(n):\n",
    "    total = 0\n",
    "    i = 1\n",
    "    while i <= n:\n",
    "        total += i\n",
    "        i += 1\n",
    "    return total\n",
    "\n",
    "print(do_something(5))"
   ]
  },
  {
   "cell_type": "code",
   "execution_count": null,
   "id": "8ee4e35c-46a7-4e41-b1d4-cdb9d7bd3cff",
   "metadata": {},
   "outputs": [],
   "source": []
  },
  {
   "cell_type": "code",
   "execution_count": null,
   "id": "195382b2-5c48-4e37-980b-cd4a275969de",
   "metadata": {},
   "outputs": [],
   "source": []
  },
  {
   "cell_type": "markdown",
   "id": "fb28d6b2-e3a9-4687-a884-25ed3e700bb7",
   "metadata": {},
   "source": [
    "## Keyworded Arguments"
   ]
  },
  {
   "cell_type": "code",
   "execution_count": 77,
   "id": "70d3bbaf-4927-4adc-b1ee-4c7017463822",
   "metadata": {},
   "outputs": [],
   "source": [
    "def family_intro(father, mother, sibling):\n",
    "    print(\"He is my father,\", father)\n",
    "    print(\"She is my mother,\", mother)\n",
    "    print(\"He is my sibling,\", sibling)"
   ]
  },
  {
   "cell_type": "code",
   "execution_count": 78,
   "id": "b3f80fdd-e0e7-4536-b980-b2bc482a432d",
   "metadata": {},
   "outputs": [
    {
     "name": "stdout",
     "output_type": "stream",
     "text": [
      "He is my father, Chintu\n",
      "She is my mother, Papa\n",
      "He is my sibling, Mumma\n"
     ]
    }
   ],
   "source": [
    "family_intro(\"Chintu\", \"Papa\", \"Mumma\")"
   ]
  },
  {
   "cell_type": "code",
   "execution_count": null,
   "id": "0e16fdc2-f329-4595-b801-f161b36fe909",
   "metadata": {},
   "outputs": [],
   "source": []
  },
  {
   "cell_type": "code",
   "execution_count": 79,
   "id": "2f047d70-9149-4e73-a0c4-e5d221a46e33",
   "metadata": {},
   "outputs": [
    {
     "name": "stdout",
     "output_type": "stream",
     "text": [
      "He is my father, Papa\n",
      "She is my mother, Mumma\n",
      "He is my sibling, Chintu\n"
     ]
    }
   ],
   "source": [
    "family_intro(sibling = \"Chintu\", mother = \"Mumma\", father = \"Papa\")"
   ]
  },
  {
   "cell_type": "code",
   "execution_count": null,
   "id": "154a9ac4-b646-4731-a814-d9f8bc91ec5e",
   "metadata": {},
   "outputs": [],
   "source": []
  },
  {
   "cell_type": "code",
   "execution_count": 80,
   "id": "246dc000-f840-47fe-b800-6f6469de931f",
   "metadata": {},
   "outputs": [
    {
     "name": "stdout",
     "output_type": "stream",
     "text": [
      "He is my father, Papa\n",
      "She is my mother, Mumma\n",
      "He is my sibling, Chintu\n"
     ]
    }
   ],
   "source": [
    "family_intro(\"Papa\", sibling = \"Chintu\", mother = \"Mumma\")"
   ]
  },
  {
   "cell_type": "code",
   "execution_count": 82,
   "id": "ce57e335-0956-4f14-bb07-411e4132455e",
   "metadata": {},
   "outputs": [],
   "source": [
    "# family_intro(\"Papa\", sibling = \"Chintu\", father = \"Papa\")"
   ]
  },
  {
   "cell_type": "code",
   "execution_count": 84,
   "id": "0f5c34f2-e7d6-4569-8cb6-0c7f41b9105f",
   "metadata": {},
   "outputs": [],
   "source": [
    "# family_intro(mother = \"Mumma\", \"Papa\", \"Chintu\")"
   ]
  },
  {
   "cell_type": "code",
   "execution_count": null,
   "id": "31b77a27-51e7-427c-aaf7-116e1daa4a0b",
   "metadata": {},
   "outputs": [],
   "source": []
  },
  {
   "cell_type": "code",
   "execution_count": null,
   "id": "3b98e42a-296a-4fcc-adcc-f013289a072e",
   "metadata": {},
   "outputs": [],
   "source": []
  },
  {
   "cell_type": "markdown",
   "id": "4abe118c-7d02-4393-8aa8-476b81eeba27",
   "metadata": {},
   "source": [
    "### Default Parameters"
   ]
  },
  {
   "cell_type": "code",
   "execution_count": 85,
   "id": "e79df1cf-84dd-422b-9518-567f5daaf77f",
   "metadata": {},
   "outputs": [],
   "source": [
    "def passport(name, nationality = \"Indian\"):\n",
    "    print(\"Hey I am\", name)\n",
    "    print(\"My nationality is\", nationality)"
   ]
  },
  {
   "cell_type": "code",
   "execution_count": 86,
   "id": "eb855c39-395a-4613-b553-ebc3ab65964e",
   "metadata": {},
   "outputs": [
    {
     "name": "stdout",
     "output_type": "stream",
     "text": [
      "Hey I am Rahul\n",
      "My nationality is Indian\n"
     ]
    }
   ],
   "source": [
    "passport(\"Rahul\")"
   ]
  },
  {
   "cell_type": "code",
   "execution_count": null,
   "id": "052ff006-3bdc-4aea-aa0a-c39bdb188647",
   "metadata": {},
   "outputs": [],
   "source": []
  },
  {
   "cell_type": "code",
   "execution_count": 87,
   "id": "6d986fda-dd91-452c-8cd2-f5684f75b509",
   "metadata": {},
   "outputs": [
    {
     "name": "stdout",
     "output_type": "stream",
     "text": [
      "Hey I am Rahul\n",
      "My nationality is Helsinki\n"
     ]
    }
   ],
   "source": [
    "passport(\"Rahul\", \"Helsinki\")"
   ]
  },
  {
   "cell_type": "code",
   "execution_count": null,
   "id": "e815338c-397d-40b3-bbea-4ca395f757c3",
   "metadata": {},
   "outputs": [],
   "source": []
  },
  {
   "cell_type": "code",
   "execution_count": 88,
   "id": "a5590168-0181-4ea3-88ec-930458ac71f8",
   "metadata": {},
   "outputs": [],
   "source": [
    "# Quiz"
   ]
  },
  {
   "cell_type": "code",
   "execution_count": 90,
   "id": "f26fc28f-409e-4e6d-a781-8ef9e4e358bf",
   "metadata": {},
   "outputs": [],
   "source": [
    "# Non-default argument can't follow default argument"
   ]
  },
  {
   "cell_type": "code",
   "execution_count": 91,
   "id": "bf0cc88c-ed30-4d75-b9f5-85b9c3cf7893",
   "metadata": {},
   "outputs": [
    {
     "ename": "SyntaxError",
     "evalue": "non-default argument follows default argument (3499656563.py, line 1)",
     "output_type": "error",
     "traceback": [
      "\u001b[0;36m  File \u001b[0;32m\"/var/folders/t5/yhjgrjs907zfp250jyxtw54m0000gn/T/ipykernel_37287/3499656563.py\"\u001b[0;36m, line \u001b[0;32m1\u001b[0m\n\u001b[0;31m    def multiply(num1=3, num2):\u001b[0m\n\u001b[0m                             ^\u001b[0m\n\u001b[0;31mSyntaxError\u001b[0m\u001b[0;31m:\u001b[0m non-default argument follows default argument\n"
     ]
    }
   ],
   "source": [
    "def multiply(num1=3, num2):\n",
    "    return num1 * num2\n",
    "\n",
    "print(multiply(2, 4))"
   ]
  },
  {
   "cell_type": "code",
   "execution_count": null,
   "id": "f3ea1f9e-f31e-4d85-95b2-e3f67025715d",
   "metadata": {},
   "outputs": [],
   "source": []
  },
  {
   "cell_type": "code",
   "execution_count": null,
   "id": "c3f84a45-b227-4050-98f4-8556efdcf2ff",
   "metadata": {},
   "outputs": [],
   "source": []
  },
  {
   "cell_type": "code",
   "execution_count": null,
   "id": "3d615520-cb6b-4b18-91d0-2e906cb8a65d",
   "metadata": {},
   "outputs": [],
   "source": []
  },
  {
   "cell_type": "code",
   "execution_count": null,
   "id": "93679223-1ed2-4461-ad8d-638cda2c8692",
   "metadata": {},
   "outputs": [],
   "source": []
  },
  {
   "cell_type": "markdown",
   "id": "fd4c677a-42ae-47cf-a01d-d6d98e94f1c5",
   "metadata": {},
   "source": [
    "### Scope of Variables"
   ]
  },
  {
   "cell_type": "code",
   "execution_count": 93,
   "id": "6f440632-5683-4429-8ff0-80b4cd699a58",
   "metadata": {},
   "outputs": [],
   "source": [
    "# Global scope\n",
    "\n",
    "def kingdom():\n",
    "    # Local scope of this function\n",
    "    king = \"Rahul\"\n",
    "    print(king)\n",
    "    \n",
    "# Local values are not valid outside scope of a function.\n",
    "# A local variable is recognised only inside the scope of it's function."
   ]
  },
  {
   "cell_type": "code",
   "execution_count": 95,
   "id": "79c5ce3d-e2f8-4803-9735-5a1ff9d21138",
   "metadata": {},
   "outputs": [],
   "source": [
    "# print(king)"
   ]
  },
  {
   "cell_type": "code",
   "execution_count": 96,
   "id": "71318fe2-040b-4d52-ac4c-f7879ccf1086",
   "metadata": {},
   "outputs": [
    {
     "name": "stdout",
     "output_type": "stream",
     "text": [
      "Rahul\n"
     ]
    }
   ],
   "source": [
    "kingdom()"
   ]
  },
  {
   "cell_type": "code",
   "execution_count": null,
   "id": "42df7622-fa60-4884-b3f7-b86238124f38",
   "metadata": {},
   "outputs": [],
   "source": []
  },
  {
   "cell_type": "code",
   "execution_count": 97,
   "id": "8fe2ef87-d351-45be-809e-01374c7db220",
   "metadata": {},
   "outputs": [],
   "source": [
    "# Global scope\n",
    "king = \"Bhallal Deva\"\n",
    "\n",
    "def kingdom():\n",
    "    print(king)\n",
    "    \n",
    "# Global scope value can be used anywhere"
   ]
  },
  {
   "cell_type": "code",
   "execution_count": 98,
   "id": "aaccd95a-83d5-41a6-a85e-9a8c54287c7e",
   "metadata": {},
   "outputs": [
    {
     "name": "stdout",
     "output_type": "stream",
     "text": [
      "Bhallal Deva\n"
     ]
    }
   ],
   "source": [
    "print(king)"
   ]
  },
  {
   "cell_type": "code",
   "execution_count": 99,
   "id": "a2fc2a69-8550-4e05-8d3f-18195dfe6cf2",
   "metadata": {},
   "outputs": [
    {
     "name": "stdout",
     "output_type": "stream",
     "text": [
      "Bhallal Deva\n"
     ]
    }
   ],
   "source": [
    "kingdom()"
   ]
  },
  {
   "cell_type": "code",
   "execution_count": null,
   "id": "6cbd2058-f589-48d7-bbf1-59780d02ad0c",
   "metadata": {},
   "outputs": [],
   "source": []
  },
  {
   "cell_type": "code",
   "execution_count": 105,
   "id": "da543db4-2bbd-4f06-8785-2677cfbccd98",
   "metadata": {},
   "outputs": [],
   "source": [
    "# Global scope\n",
    "king = \"Bhallal Deva\"\n",
    "\n",
    "def kingdom():\n",
    "    # local scope\n",
    "    king = \"Rahul\"\n",
    "    print(king)\n"
   ]
  },
  {
   "cell_type": "code",
   "execution_count": 106,
   "id": "b7466086-e0bc-4da9-a99e-09beec1ecdf2",
   "metadata": {},
   "outputs": [
    {
     "name": "stdout",
     "output_type": "stream",
     "text": [
      "Bhallal Deva\n"
     ]
    }
   ],
   "source": [
    "print(king)"
   ]
  },
  {
   "cell_type": "code",
   "execution_count": 107,
   "id": "18756fc8-6c4c-485c-be76-f8184e4b3d32",
   "metadata": {},
   "outputs": [
    {
     "name": "stdout",
     "output_type": "stream",
     "text": [
      "Rahul\n"
     ]
    }
   ],
   "source": [
    "kingdom()"
   ]
  },
  {
   "cell_type": "code",
   "execution_count": null,
   "id": "f0569e23-a029-4e17-bacf-e922a4242e19",
   "metadata": {},
   "outputs": [],
   "source": []
  },
  {
   "cell_type": "code",
   "execution_count": 104,
   "id": "fd034895-ae91-45b1-ad82-455e9f17e83b",
   "metadata": {},
   "outputs": [],
   "source": [
    "# Let's change the value of global variable using a local variable"
   ]
  },
  {
   "cell_type": "code",
   "execution_count": 108,
   "id": "81e93c6b-361f-4973-aa0a-ead403a449ce",
   "metadata": {},
   "outputs": [],
   "source": [
    "# Global scope\n",
    "\n",
    "king = \"Bhallala Deva\"\n",
    "\n",
    "def kingdom():\n",
    "    # local scope\n",
    "    global king\n",
    "    king = \"Amrendra Bahubali\"\n",
    "    print(king)"
   ]
  },
  {
   "cell_type": "code",
   "execution_count": 109,
   "id": "075d4fb5-6615-41d3-b9f1-06cc2d506118",
   "metadata": {},
   "outputs": [
    {
     "name": "stdout",
     "output_type": "stream",
     "text": [
      "Bhallala Deva\n"
     ]
    }
   ],
   "source": [
    "print(king)"
   ]
  },
  {
   "cell_type": "code",
   "execution_count": 110,
   "id": "d6c0b30b-0896-4c46-93db-44db3076da8f",
   "metadata": {},
   "outputs": [
    {
     "name": "stdout",
     "output_type": "stream",
     "text": [
      "Amrendra Bahubali\n"
     ]
    }
   ],
   "source": [
    "kingdom()"
   ]
  },
  {
   "cell_type": "code",
   "execution_count": 111,
   "id": "23bf4117-cd0f-4702-b69a-0d26f48c9864",
   "metadata": {},
   "outputs": [
    {
     "name": "stdout",
     "output_type": "stream",
     "text": [
      "Amrendra Bahubali\n"
     ]
    }
   ],
   "source": [
    "print(king)"
   ]
  },
  {
   "cell_type": "code",
   "execution_count": null,
   "id": "597655c1-a200-4c14-baca-23fd1bd7ffc1",
   "metadata": {},
   "outputs": [],
   "source": []
  },
  {
   "cell_type": "code",
   "execution_count": null,
   "id": "f1cbece7-b68b-4881-9dc9-a0ce5e1ebd48",
   "metadata": {},
   "outputs": [],
   "source": []
  },
  {
   "cell_type": "markdown",
   "id": "b84a9c61-e29a-4967-be40-6e9ca9acbf62",
   "metadata": {},
   "source": [
    "### Lambda functions\n",
    "- One liner functions"
   ]
  },
  {
   "cell_type": "code",
   "execution_count": 112,
   "id": "049e1b7c-4e71-4a25-ac7d-a3c7ba775e87",
   "metadata": {},
   "outputs": [],
   "source": [
    "# lambda_function_name = lambda arguments : experssion"
   ]
  },
  {
   "cell_type": "markdown",
   "id": "bb6f24e4-7a49-48e8-9cc1-b6c733ca7862",
   "metadata": {},
   "source": [
    "- lambda is the keyword to create a lambda function\n",
    "- Arguments are the parameters of a function\n",
    "- expression is single line operation"
   ]
  },
  {
   "cell_type": "code",
   "execution_count": 113,
   "id": "16ef0a47-2c4e-44c6-898c-f159a69ef5ba",
   "metadata": {},
   "outputs": [],
   "source": [
    "def random(x):\n",
    "    return x"
   ]
  },
  {
   "cell_type": "code",
   "execution_count": 114,
   "id": "d339752b-afa2-4312-b8b5-44ccb9c1eec0",
   "metadata": {},
   "outputs": [
    {
     "name": "stdout",
     "output_type": "stream",
     "text": [
      "34\n"
     ]
    }
   ],
   "source": [
    "print(random(34))"
   ]
  },
  {
   "cell_type": "code",
   "execution_count": 115,
   "id": "5c9a1801-eba6-4253-b599-a3b13cf0cf34",
   "metadata": {},
   "outputs": [],
   "source": [
    "random = lambda x : x"
   ]
  },
  {
   "cell_type": "code",
   "execution_count": 116,
   "id": "aa0649eb-b54e-447b-9315-6f1f4ced7153",
   "metadata": {},
   "outputs": [
    {
     "data": {
      "text/plain": [
       "123213"
      ]
     },
     "execution_count": 116,
     "metadata": {},
     "output_type": "execute_result"
    }
   ],
   "source": [
    "random(123213)"
   ]
  },
  {
   "cell_type": "code",
   "execution_count": 117,
   "id": "9a0a57fa-c002-4d68-ad10-754b5b1e93c0",
   "metadata": {},
   "outputs": [],
   "source": [
    "add = lambda x, y : x + y"
   ]
  },
  {
   "cell_type": "code",
   "execution_count": 118,
   "id": "6179fbbe-1b04-47ee-8e3d-418dfc17e918",
   "metadata": {},
   "outputs": [
    {
     "data": {
      "text/plain": [
       "7"
      ]
     },
     "execution_count": 118,
     "metadata": {},
     "output_type": "execute_result"
    }
   ],
   "source": [
    "add(3, 4)"
   ]
  },
  {
   "cell_type": "code",
   "execution_count": 120,
   "id": "019f8a9a-2ea5-48b4-b655-a9c99523167a",
   "metadata": {},
   "outputs": [
    {
     "data": {
      "text/plain": [
       "7"
      ]
     },
     "execution_count": 120,
     "metadata": {},
     "output_type": "execute_result"
    }
   ],
   "source": [
    "(lambda x, y : x + y)(3, 4)"
   ]
  },
  {
   "cell_type": "code",
   "execution_count": 121,
   "id": "2320d35c-7cdc-4df8-bdba-8e1f6f4f52d0",
   "metadata": {},
   "outputs": [
    {
     "data": {
      "text/plain": [
       "6"
      ]
     },
     "execution_count": 121,
     "metadata": {},
     "output_type": "execute_result"
    }
   ],
   "source": [
    "(lambda x , y : x * y)(3, 2)"
   ]
  },
  {
   "cell_type": "code",
   "execution_count": null,
   "id": "3b8a576f-8206-4a51-a8d6-41f49fd14981",
   "metadata": {},
   "outputs": [],
   "source": []
  },
  {
   "cell_type": "code",
   "execution_count": 122,
   "id": "3eb741e3-5ecb-445a-81f3-0ff260d99a81",
   "metadata": {},
   "outputs": [
    {
     "ename": "TypeError",
     "evalue": "<lambda>() takes 0 positional arguments but 1 was given",
     "output_type": "error",
     "traceback": [
      "\u001b[0;31m---------------------------------------------------------------------------\u001b[0m",
      "\u001b[0;31mTypeError\u001b[0m                                 Traceback (most recent call last)",
      "\u001b[0;32m/var/folders/t5/yhjgrjs907zfp250jyxtw54m0000gn/T/ipykernel_37287/2076631052.py\u001b[0m in \u001b[0;36m<module>\u001b[0;34m\u001b[0m\n\u001b[0;32m----> 1\u001b[0;31m \u001b[0;34m(\u001b[0m\u001b[0;32mlambda\u001b[0m \u001b[0;34m:\u001b[0m \u001b[0mprint\u001b[0m\u001b[0;34m(\u001b[0m\u001b[0;34m\"Hello Scaler\"\u001b[0m\u001b[0;34m)\u001b[0m\u001b[0;34m)\u001b[0m\u001b[0;34m(\u001b[0m\u001b[0;34m\"Scaler\"\u001b[0m\u001b[0;34m)\u001b[0m\u001b[0;34m\u001b[0m\u001b[0;34m\u001b[0m\u001b[0m\n\u001b[0m",
      "\u001b[0;31mTypeError\u001b[0m: <lambda>() takes 0 positional arguments but 1 was given"
     ]
    }
   ],
   "source": [
    "(lambda : print(\"Hello Scaler\"))(\"Scaler\")"
   ]
  },
  {
   "cell_type": "code",
   "execution_count": 123,
   "id": "90c88dec-3eb0-448e-89a5-3ccf94e1a514",
   "metadata": {},
   "outputs": [
    {
     "name": "stdout",
     "output_type": "stream",
     "text": [
      "Hello Scaler\n"
     ]
    }
   ],
   "source": [
    "(lambda : print(\"Hello Scaler\"))()"
   ]
  },
  {
   "cell_type": "code",
   "execution_count": null,
   "id": "d1d3a007-4c96-4005-825e-f4b6a68bc0f8",
   "metadata": {},
   "outputs": [],
   "source": []
  },
  {
   "cell_type": "code",
   "execution_count": 124,
   "id": "c7474b02-b713-45e9-94c7-d60bd1bc2d1c",
   "metadata": {},
   "outputs": [],
   "source": [
    "def func():\n",
    "    print('Hello Scaler')"
   ]
  },
  {
   "cell_type": "code",
   "execution_count": 126,
   "id": "813a049d-efb4-418f-92bb-721acee108bb",
   "metadata": {},
   "outputs": [
    {
     "name": "stdout",
     "output_type": "stream",
     "text": [
      "Hello Scaler\n"
     ]
    }
   ],
   "source": [
    "func()"
   ]
  },
  {
   "cell_type": "code",
   "execution_count": null,
   "id": "eee02f5d-6032-4ac1-9abe-236f7ea217df",
   "metadata": {},
   "outputs": [],
   "source": []
  },
  {
   "cell_type": "code",
   "execution_count": null,
   "id": "25eae7d9-c99d-49f5-a7f6-007348f8077a",
   "metadata": {},
   "outputs": [],
   "source": []
  },
  {
   "cell_type": "code",
   "execution_count": 127,
   "id": "9b42cd0a-4ba5-4867-be30-948c05e26bb6",
   "metadata": {},
   "outputs": [],
   "source": [
    "# Doubt"
   ]
  },
  {
   "cell_type": "code",
   "execution_count": 128,
   "id": "ced8ae9b-9f3c-428b-bb86-6b22adb3caf4",
   "metadata": {},
   "outputs": [
    {
     "data": {
      "text/plain": [
       "3"
      ]
     },
     "execution_count": 128,
     "metadata": {},
     "output_type": "execute_result"
    }
   ],
   "source": [
    "1223 % 10"
   ]
  },
  {
   "cell_type": "code",
   "execution_count": 129,
   "id": "65985f2b-34d2-4b62-ae95-bb7481aebeb3",
   "metadata": {},
   "outputs": [
    {
     "data": {
      "text/plain": [
       "122"
      ]
     },
     "execution_count": 129,
     "metadata": {},
     "output_type": "execute_result"
    }
   ],
   "source": [
    "1223 // 10"
   ]
  },
  {
   "cell_type": "code",
   "execution_count": 130,
   "id": "8cd88c5f-526e-4ade-9b34-3c8514d20aa6",
   "metadata": {},
   "outputs": [
    {
     "data": {
      "text/plain": [
       "2"
      ]
     },
     "execution_count": 130,
     "metadata": {},
     "output_type": "execute_result"
    }
   ],
   "source": [
    "122 % 10"
   ]
  },
  {
   "cell_type": "code",
   "execution_count": 131,
   "id": "68627b4e-f41c-4217-be3a-006df91e0a81",
   "metadata": {},
   "outputs": [
    {
     "data": {
      "text/plain": [
       "12"
      ]
     },
     "execution_count": 131,
     "metadata": {},
     "output_type": "execute_result"
    }
   ],
   "source": [
    "122 // 10"
   ]
  },
  {
   "cell_type": "code",
   "execution_count": null,
   "id": "ae206c58-2541-4346-aada-fa72c6907b3a",
   "metadata": {},
   "outputs": [],
   "source": []
  },
  {
   "cell_type": "code",
   "execution_count": null,
   "id": "8cd3ce54-72df-4ac3-bb77-21318b03d40f",
   "metadata": {},
   "outputs": [],
   "source": []
  },
  {
   "cell_type": "code",
   "execution_count": null,
   "id": "72feb69b-9cc9-4590-95f1-cc72fb1c233a",
   "metadata": {},
   "outputs": [],
   "source": []
  },
  {
   "cell_type": "code",
   "execution_count": null,
   "id": "400b661d-5a97-44fc-bd01-ae5825977ebf",
   "metadata": {},
   "outputs": [],
   "source": []
  },
  {
   "cell_type": "code",
   "execution_count": null,
   "id": "dd4bbd22-d4cf-44d8-8731-7b06d4e815d3",
   "metadata": {},
   "outputs": [],
   "source": []
  }
 ],
 "metadata": {
  "kernelspec": {
   "display_name": "Python 3 (ipykernel)",
   "language": "python",
   "name": "python3"
  },
  "language_info": {
   "codemirror_mode": {
    "name": "ipython",
    "version": 3
   },
   "file_extension": ".py",
   "mimetype": "text/x-python",
   "name": "python",
   "nbconvert_exporter": "python",
   "pygments_lexer": "ipython3",
   "version": "3.9.7"
  }
 },
 "nbformat": 4,
 "nbformat_minor": 5
}
