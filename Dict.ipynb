{
 "cells": [
  {
   "cell_type": "markdown",
   "id": "4811ffe3-cd57-437b-bf57-c4dcb05ff3a4",
   "metadata": {},
   "source": [
    "## Dictionary\n",
    "- A dictionary is like an address-book where you can find the address or contact details of a person by knowing only his/her name i.e. we associate keys (name) with values (details). Note that the key must be unique just like you cannot find out the correct information if you have two persons with the exact same name.\n",
    "\n",
    "- Remember that key-value pairs in a dictionary are not ordered in any manner. But in Python version 3.7 and above they are ordered"
   ]
  },
  {
   "cell_type": "markdown",
   "id": "c79c8d48-831e-42ef-a135-c8a92e8f741b",
   "metadata": {},
   "source": [
    "#### Creating a dict"
   ]
  },
  {
   "cell_type": "code",
   "execution_count": 1,
   "id": "dea85596-7121-489b-a89c-bd4f2c28d970",
   "metadata": {},
   "outputs": [],
   "source": [
    "# Fruit rate on blinkit"
   ]
  },
  {
   "cell_type": "code",
   "execution_count": 2,
   "id": "4325214e-d59e-4548-ae92-6e8e937af44a",
   "metadata": {},
   "outputs": [],
   "source": [
    "# type of fruits"
   ]
  },
  {
   "cell_type": "code",
   "execution_count": 3,
   "id": "8eb10b9a-ffac-46a5-a228-d1b20df32427",
   "metadata": {},
   "outputs": [],
   "source": [
    "# Quiz"
   ]
  },
  {
   "cell_type": "code",
   "execution_count": 4,
   "id": "cf748c35-b222-4416-b3e2-be28ec4c0291",
   "metadata": {},
   "outputs": [
    {
     "name": "stdout",
     "output_type": "stream",
     "text": [
      "<class 'dict'>\n"
     ]
    }
   ],
   "source": [
    "d = {}\n",
    "print(type(d))"
   ]
  },
  {
   "cell_type": "code",
   "execution_count": null,
   "id": "fcc48141-3a67-433e-ae3f-f063e1d1160e",
   "metadata": {},
   "outputs": [],
   "source": []
  },
  {
   "cell_type": "code",
   "execution_count": 5,
   "id": "d00183d6-c8e5-4629-87f5-4a47330f54ac",
   "metadata": {},
   "outputs": [],
   "source": [
    "# Empty dictionary"
   ]
  },
  {
   "cell_type": "code",
   "execution_count": 6,
   "id": "6bc48bc8-a071-4cb8-ae4e-18b32bcb2305",
   "metadata": {},
   "outputs": [],
   "source": [
    "d = {}"
   ]
  },
  {
   "cell_type": "code",
   "execution_count": 7,
   "id": "4c0a6d4f-bbeb-46a8-a4d4-16a54828406b",
   "metadata": {},
   "outputs": [
    {
     "data": {
      "text/plain": [
       "{}"
      ]
     },
     "execution_count": 7,
     "metadata": {},
     "output_type": "execute_result"
    }
   ],
   "source": [
    "d"
   ]
  },
  {
   "cell_type": "code",
   "execution_count": null,
   "id": "e8f88060-33cd-4fa6-94ec-b98fd5183b6d",
   "metadata": {},
   "outputs": [],
   "source": []
  },
  {
   "cell_type": "code",
   "execution_count": 11,
   "id": "bdc7f897-afcb-4fb9-8e65-147dfa410828",
   "metadata": {},
   "outputs": [],
   "source": [
    "# Non empty dictionary"
   ]
  },
  {
   "cell_type": "code",
   "execution_count": 8,
   "id": "dcc8a8dc-9c43-42e6-81f2-a8dfc485ff93",
   "metadata": {},
   "outputs": [],
   "source": [
    "fruits = {\"Apple\" : 120, \"Orange\" : 80, \"Mango\" : 100, \"Banana\" : 80}"
   ]
  },
  {
   "cell_type": "code",
   "execution_count": 9,
   "id": "4d57cc97-69c0-41a0-a76e-5aa1f0eadc89",
   "metadata": {},
   "outputs": [
    {
     "data": {
      "text/plain": [
       "{'Apple': 120, 'Orange': 80, 'Mango': 100, 'Banana': 80}"
      ]
     },
     "execution_count": 9,
     "metadata": {},
     "output_type": "execute_result"
    }
   ],
   "source": [
    "fruits"
   ]
  },
  {
   "cell_type": "code",
   "execution_count": 10,
   "id": "989636c5-a46e-4526-aed5-18a46d03be9c",
   "metadata": {},
   "outputs": [
    {
     "data": {
      "text/plain": [
       "dict"
      ]
     },
     "execution_count": 10,
     "metadata": {},
     "output_type": "execute_result"
    }
   ],
   "source": [
    "type(fruits)"
   ]
  },
  {
   "cell_type": "code",
   "execution_count": null,
   "id": "beff5dbb-0f7f-43cf-a246-7a99e3cace4f",
   "metadata": {},
   "outputs": [],
   "source": []
  },
  {
   "cell_type": "code",
   "execution_count": null,
   "id": "8fd5d179-c2c1-4626-9cde-b7aab055e710",
   "metadata": {},
   "outputs": [],
   "source": []
  },
  {
   "cell_type": "code",
   "execution_count": 12,
   "id": "839ac038-f183-4d49-9f8f-568a47007f54",
   "metadata": {},
   "outputs": [],
   "source": [
    "# zip\n",
    "# zip(key, value)"
   ]
  },
  {
   "cell_type": "code",
   "execution_count": 13,
   "id": "552b3563-7d55-4d66-974b-d92e6784f622",
   "metadata": {},
   "outputs": [],
   "source": [
    "name = [\"Rahul\", \"Sofia\", \"Harsha\", \"Lavish\", \"Sachin\"]\n",
    "ages = (28, 27, 25, 26, 19)"
   ]
  },
  {
   "cell_type": "code",
   "execution_count": 14,
   "id": "a938d964-f7d4-4118-9fe2-1f3b6875240a",
   "metadata": {},
   "outputs": [],
   "source": [
    "data = dict(zip(name, ages))"
   ]
  },
  {
   "cell_type": "code",
   "execution_count": 15,
   "id": "f4aac301-b20b-4d2d-9409-19c5e0f76fe1",
   "metadata": {},
   "outputs": [
    {
     "data": {
      "text/plain": [
       "{'Rahul': 28, 'Sofia': 27, 'Harsha': 25, 'Lavish': 26, 'Sachin': 19}"
      ]
     },
     "execution_count": 15,
     "metadata": {},
     "output_type": "execute_result"
    }
   ],
   "source": [
    "data"
   ]
  },
  {
   "cell_type": "code",
   "execution_count": 16,
   "id": "a6f13bdd-9cf7-41a1-8abb-dc6fa875a534",
   "metadata": {},
   "outputs": [],
   "source": [
    "name = [\"Rahul\", \"Sofia\", \"Harsha\", \"Lavish\", \"Sachin\"]\n",
    "ages = (28, 27, 25, 26, 19, 12, 34, 45, 56)"
   ]
  },
  {
   "cell_type": "code",
   "execution_count": 17,
   "id": "a9d518fc-6109-41ff-b6e9-f239710779da",
   "metadata": {},
   "outputs": [],
   "source": [
    "data1 = dict(zip(name, ages))"
   ]
  },
  {
   "cell_type": "code",
   "execution_count": 18,
   "id": "370ad5ae-00fc-4e1d-b0ce-d6eb5a5ac0a2",
   "metadata": {},
   "outputs": [
    {
     "data": {
      "text/plain": [
       "{'Rahul': 28, 'Sofia': 27, 'Harsha': 25, 'Lavish': 26, 'Sachin': 19}"
      ]
     },
     "execution_count": 18,
     "metadata": {},
     "output_type": "execute_result"
    }
   ],
   "source": [
    "data1"
   ]
  },
  {
   "cell_type": "code",
   "execution_count": 21,
   "id": "bf748f68-7b63-406a-b53c-5deaacfc1c92",
   "metadata": {},
   "outputs": [
    {
     "data": {
      "text/plain": [
       "{28: 'Rahul', 27: 'Sofia', 25: 'Harsha', 26: 'Lavish', 19: 'Sachin'}"
      ]
     },
     "execution_count": 21,
     "metadata": {},
     "output_type": "execute_result"
    }
   ],
   "source": [
    "dict(zip(ages, name))"
   ]
  },
  {
   "cell_type": "code",
   "execution_count": null,
   "id": "13ed092d-e9ae-4c03-b8ca-8f9ad0d0dec5",
   "metadata": {},
   "outputs": [],
   "source": []
  },
  {
   "cell_type": "code",
   "execution_count": null,
   "id": "9a0e43a4-0ecd-42eb-99ab-f0750c5d1cdd",
   "metadata": {},
   "outputs": [],
   "source": []
  },
  {
   "cell_type": "code",
   "execution_count": null,
   "id": "64e466fd-89ee-4a2e-a2a7-ca1cf4b0281e",
   "metadata": {},
   "outputs": [],
   "source": []
  },
  {
   "cell_type": "markdown",
   "id": "47ec3b27-dc0a-4e18-9909-c2287097e410",
   "metadata": {},
   "source": [
    "#### Access the values of the dict\n",
    "Dictionaries doesn't support indexing"
   ]
  },
  {
   "cell_type": "code",
   "execution_count": 22,
   "id": "d52e5116-5120-4757-9dc6-c0f43b2ad0ab",
   "metadata": {},
   "outputs": [],
   "source": [
    "# indexing?"
   ]
  },
  {
   "cell_type": "code",
   "execution_count": 23,
   "id": "39a70e1c-a2a2-47d6-8b48-4e98f656491b",
   "metadata": {},
   "outputs": [
    {
     "data": {
      "text/plain": [
       "{'Apple': 120, 'Orange': 80, 'Mango': 100, 'Banana': 80}"
      ]
     },
     "execution_count": 23,
     "metadata": {},
     "output_type": "execute_result"
    }
   ],
   "source": [
    "fruits"
   ]
  },
  {
   "cell_type": "code",
   "execution_count": 26,
   "id": "cfd93750-7afa-4b4d-8d5d-2536b335c1af",
   "metadata": {},
   "outputs": [],
   "source": [
    "# fruits[0]\n",
    "# Dictionary doesn't support indexing"
   ]
  },
  {
   "cell_type": "code",
   "execution_count": 27,
   "id": "2664565d-8e3d-4781-be6d-fd5a391cf281",
   "metadata": {},
   "outputs": [
    {
     "data": {
      "text/plain": [
       "120"
      ]
     },
     "execution_count": 27,
     "metadata": {},
     "output_type": "execute_result"
    }
   ],
   "source": [
    "fruits[\"Apple\"]"
   ]
  },
  {
   "cell_type": "code",
   "execution_count": 28,
   "id": "82107fcc-5a1e-434e-ad11-bcab60336f50",
   "metadata": {},
   "outputs": [
    {
     "data": {
      "text/plain": [
       "80"
      ]
     },
     "execution_count": 28,
     "metadata": {},
     "output_type": "execute_result"
    }
   ],
   "source": [
    "fruits[\"Banana\"]"
   ]
  },
  {
   "cell_type": "code",
   "execution_count": null,
   "id": "b026b686-7eac-4708-984d-236c4cc9a1e8",
   "metadata": {},
   "outputs": [],
   "source": []
  },
  {
   "cell_type": "code",
   "execution_count": 29,
   "id": "6ae231db-eaeb-4240-999a-ec8400b3648c",
   "metadata": {},
   "outputs": [],
   "source": [
    "## Key error "
   ]
  },
  {
   "cell_type": "code",
   "execution_count": 31,
   "id": "dc327548-775a-4908-9c34-4b564afa955a",
   "metadata": {},
   "outputs": [],
   "source": [
    "# If a key is not present in the dict then it raises a KeyError"
   ]
  },
  {
   "cell_type": "code",
   "execution_count": 32,
   "id": "6332bccd-32fa-4614-baf0-cea3178df834",
   "metadata": {},
   "outputs": [
    {
     "ename": "KeyError",
     "evalue": "'Strawberry'",
     "output_type": "error",
     "traceback": [
      "\u001b[0;31m---------------------------------------------------------------------------\u001b[0m",
      "\u001b[0;31mKeyError\u001b[0m                                  Traceback (most recent call last)",
      "\u001b[0;32m/var/folders/t5/yhjgrjs907zfp250jyxtw54m0000gn/T/ipykernel_7378/575663120.py\u001b[0m in \u001b[0;36m<module>\u001b[0;34m\u001b[0m\n\u001b[0;32m----> 1\u001b[0;31m \u001b[0mfruits\u001b[0m\u001b[0;34m[\u001b[0m\u001b[0;34m\"Strawberry\"\u001b[0m\u001b[0;34m]\u001b[0m\u001b[0;34m\u001b[0m\u001b[0;34m\u001b[0m\u001b[0m\n\u001b[0m",
      "\u001b[0;31mKeyError\u001b[0m: 'Strawberry'"
     ]
    }
   ],
   "source": [
    "fruits[\"Strawberry\"]"
   ]
  },
  {
   "cell_type": "code",
   "execution_count": 33,
   "id": "d926296e-cdfc-4182-bbae-400dbeb28fb7",
   "metadata": {},
   "outputs": [
    {
     "data": {
      "text/plain": [
       "{'Apple': 120, 'Orange': 80, 'Mango': 100, 'Banana': 80}"
      ]
     },
     "execution_count": 33,
     "metadata": {},
     "output_type": "execute_result"
    }
   ],
   "source": [
    "fruits"
   ]
  },
  {
   "cell_type": "code",
   "execution_count": null,
   "id": "81ac008c-0bc1-424a-9b6f-37ca926db8d6",
   "metadata": {},
   "outputs": [],
   "source": []
  },
  {
   "cell_type": "code",
   "execution_count": 34,
   "id": "8f1f7ad3-a309-4d22-86d4-958b275136c3",
   "metadata": {},
   "outputs": [],
   "source": [
    "# Quiz"
   ]
  },
  {
   "cell_type": "code",
   "execution_count": 36,
   "id": "025a0f14-5b62-4cc3-bc11-9dece38c9470",
   "metadata": {},
   "outputs": [
    {
     "name": "stdout",
     "output_type": "stream",
     "text": [
      "<class 'dict'>\n"
     ]
    }
   ],
   "source": [
    "words = {\n",
    "\"is\": 2,\n",
    "\"hello\": 3,\n",
    "\"the\": 4\n",
    "}\n",
    "\n",
    "print(type(words))"
   ]
  },
  {
   "cell_type": "code",
   "execution_count": null,
   "id": "fc2c115b-2727-4a25-becd-7389ef44f414",
   "metadata": {},
   "outputs": [],
   "source": []
  },
  {
   "cell_type": "code",
   "execution_count": 35,
   "id": "2c290553-049d-4266-8a3b-1d168ff59707",
   "metadata": {},
   "outputs": [],
   "source": [
    "# Quiz"
   ]
  },
  {
   "cell_type": "code",
   "execution_count": 37,
   "id": "9d77ddf2-9fbe-4f9d-b41b-e2f78b1bf893",
   "metadata": {},
   "outputs": [
    {
     "ename": "KeyError",
     "evalue": "'this'",
     "output_type": "error",
     "traceback": [
      "\u001b[0;31m---------------------------------------------------------------------------\u001b[0m",
      "\u001b[0;31mKeyError\u001b[0m                                  Traceback (most recent call last)",
      "\u001b[0;32m/var/folders/t5/yhjgrjs907zfp250jyxtw54m0000gn/T/ipykernel_7378/136639288.py\u001b[0m in \u001b[0;36m<module>\u001b[0;34m\u001b[0m\n\u001b[1;32m      4\u001b[0m \u001b[0;34m\"the\"\u001b[0m\u001b[0;34m:\u001b[0m \u001b[0;36m4\u001b[0m\u001b[0;34m\u001b[0m\u001b[0;34m\u001b[0m\u001b[0m\n\u001b[1;32m      5\u001b[0m }\n\u001b[0;32m----> 6\u001b[0;31m \u001b[0mthis_count\u001b[0m \u001b[0;34m=\u001b[0m \u001b[0mwords\u001b[0m\u001b[0;34m[\u001b[0m\u001b[0;34m\"this\"\u001b[0m\u001b[0;34m]\u001b[0m\u001b[0;34m\u001b[0m\u001b[0;34m\u001b[0m\u001b[0m\n\u001b[0m\u001b[1;32m      7\u001b[0m \u001b[0;34m\u001b[0m\u001b[0m\n\u001b[1;32m      8\u001b[0m \u001b[0mprint\u001b[0m\u001b[0;34m(\u001b[0m\u001b[0mthis_count\u001b[0m\u001b[0;34m)\u001b[0m\u001b[0;34m\u001b[0m\u001b[0;34m\u001b[0m\u001b[0m\n",
      "\u001b[0;31mKeyError\u001b[0m: 'this'"
     ]
    }
   ],
   "source": [
    "words = {\n",
    "\"is\": 2,\n",
    "\"hello\": 3,\n",
    "\"the\": 4\n",
    "}\n",
    "this_count = words[\"this\"]\n",
    "\n",
    "print(this_count)"
   ]
  },
  {
   "cell_type": "code",
   "execution_count": null,
   "id": "9bf30d3e-08b6-4db7-8cf5-c5860a7c71f5",
   "metadata": {},
   "outputs": [],
   "source": []
  },
  {
   "cell_type": "code",
   "execution_count": null,
   "id": "31df94ae-76e2-449d-93b3-2983be86e73f",
   "metadata": {},
   "outputs": [],
   "source": []
  },
  {
   "cell_type": "code",
   "execution_count": 41,
   "id": "1774cc51-c18a-45f2-8a96-50f2a020b4f1",
   "metadata": {},
   "outputs": [],
   "source": [
    "## Can we have 2 keys in dict with same value"
   ]
  },
  {
   "cell_type": "code",
   "execution_count": 42,
   "id": "2b7da3d3-7ea4-4b3a-8eb0-cf7949f75f6c",
   "metadata": {},
   "outputs": [],
   "source": [
    "# Keys are unique in dict"
   ]
  },
  {
   "cell_type": "code",
   "execution_count": 43,
   "id": "d9c179ef-9681-4a03-80ce-7d53f5d8a6f9",
   "metadata": {},
   "outputs": [
    {
     "data": {
      "text/plain": [
       "{'Apple': 120, 'Orange': 80, 'Mango': 100, 'Banana': 80}"
      ]
     },
     "execution_count": 43,
     "metadata": {},
     "output_type": "execute_result"
    }
   ],
   "source": [
    "fruits"
   ]
  },
  {
   "cell_type": "code",
   "execution_count": 44,
   "id": "a7ece05e-69f8-4e6e-9bec-bf91545406aa",
   "metadata": {},
   "outputs": [],
   "source": [
    "fruits = {'Apple': 120, 'Orange': 80, 'Mango': 100, 'Banana': 80, \"Apple\" : 150}"
   ]
  },
  {
   "cell_type": "code",
   "execution_count": 45,
   "id": "5f06b885-4ba3-42c1-a3b6-91adbe1a7c23",
   "metadata": {},
   "outputs": [
    {
     "data": {
      "text/plain": [
       "{'Apple': 150, 'Orange': 80, 'Mango': 100, 'Banana': 80}"
      ]
     },
     "execution_count": 45,
     "metadata": {},
     "output_type": "execute_result"
    }
   ],
   "source": [
    "fruits"
   ]
  },
  {
   "cell_type": "code",
   "execution_count": null,
   "id": "74c9ea59-10d0-41f6-bf19-ff6ee6e1e09d",
   "metadata": {},
   "outputs": [],
   "source": []
  },
  {
   "cell_type": "code",
   "execution_count": null,
   "id": "0e999f08-9d27-4cc5-8a77-809a4f815ced",
   "metadata": {},
   "outputs": [],
   "source": []
  },
  {
   "cell_type": "markdown",
   "id": "f72624f2-4f30-4a6f-aa71-3f4adbc5dbe7",
   "metadata": {},
   "source": [
    "#### Adding new values"
   ]
  },
  {
   "cell_type": "code",
   "execution_count": 46,
   "id": "0a291bb5-a70a-4c9b-9f24-c207853271c1",
   "metadata": {},
   "outputs": [],
   "source": [
    "# Adding new fruits: d[\"item\"] = value"
   ]
  },
  {
   "cell_type": "code",
   "execution_count": 47,
   "id": "35125363-46a1-4126-b26b-e8a1f6d853d3",
   "metadata": {},
   "outputs": [
    {
     "data": {
      "text/plain": [
       "{'Apple': 150, 'Orange': 80, 'Mango': 100, 'Banana': 80}"
      ]
     },
     "execution_count": 47,
     "metadata": {},
     "output_type": "execute_result"
    }
   ],
   "source": [
    "fruits"
   ]
  },
  {
   "cell_type": "code",
   "execution_count": 50,
   "id": "e8c92731-ef42-4edd-8fb9-452d161b979b",
   "metadata": {},
   "outputs": [],
   "source": [
    "fruits[\"Apple\"] = 200"
   ]
  },
  {
   "cell_type": "code",
   "execution_count": 51,
   "id": "6abc6075-2eb5-418f-8626-8801829f96a7",
   "metadata": {},
   "outputs": [
    {
     "data": {
      "text/plain": [
       "{'Apple': 200, 'Orange': 80, 'Mango': 100, 'Banana': 80}"
      ]
     },
     "execution_count": 51,
     "metadata": {},
     "output_type": "execute_result"
    }
   ],
   "source": [
    "fruits"
   ]
  },
  {
   "cell_type": "code",
   "execution_count": null,
   "id": "3ade025f-6b6b-4124-8e3b-87b099944057",
   "metadata": {},
   "outputs": [],
   "source": []
  },
  {
   "cell_type": "code",
   "execution_count": null,
   "id": "4fda50eb-a0ca-486e-a53f-f7b6be6d0f6b",
   "metadata": {},
   "outputs": [],
   "source": []
  },
  {
   "cell_type": "code",
   "execution_count": 52,
   "id": "9c45a3ae-0f27-4771-99c1-bd8cb63e257f",
   "metadata": {},
   "outputs": [],
   "source": [
    "# dict[key] = value"
   ]
  },
  {
   "cell_type": "code",
   "execution_count": 53,
   "id": "79301cd4-2452-4f4f-aa96-0ed2ec12b0d7",
   "metadata": {},
   "outputs": [],
   "source": [
    "fruits[\"Pineapple\"] = {\"Small\" : 90, \"Medium\" : 110, \"Large\" : 120}"
   ]
  },
  {
   "cell_type": "code",
   "execution_count": 54,
   "id": "2a7d5c25-dedd-4248-9fbb-fff8125a4e5a",
   "metadata": {},
   "outputs": [
    {
     "data": {
      "text/plain": [
       "{'Apple': 200,\n",
       " 'Orange': 80,\n",
       " 'Mango': 100,\n",
       " 'Banana': 80,\n",
       " 'Pineapple': {'Small': 90, 'Medium': 110, 'Large': 120}}"
      ]
     },
     "execution_count": 54,
     "metadata": {},
     "output_type": "execute_result"
    }
   ],
   "source": [
    "fruits"
   ]
  },
  {
   "cell_type": "code",
   "execution_count": 55,
   "id": "f0ae4fd4-418e-48a3-8782-4b7247765da4",
   "metadata": {},
   "outputs": [
    {
     "data": {
      "text/plain": [
       "{'Small': 90, 'Medium': 110, 'Large': 120}"
      ]
     },
     "execution_count": 55,
     "metadata": {},
     "output_type": "execute_result"
    }
   ],
   "source": [
    "fruits[\"Pineapple\"]"
   ]
  },
  {
   "cell_type": "code",
   "execution_count": 56,
   "id": "683599ab-a375-448f-b5cd-f1a4d4cb2749",
   "metadata": {},
   "outputs": [
    {
     "data": {
      "text/plain": [
       "110"
      ]
     },
     "execution_count": 56,
     "metadata": {},
     "output_type": "execute_result"
    }
   ],
   "source": [
    "fruits[\"Pineapple\"][\"Medium\"]"
   ]
  },
  {
   "cell_type": "code",
   "execution_count": null,
   "id": "f6bbe224-3fcc-4419-b9ee-b56f74942ba4",
   "metadata": {},
   "outputs": [],
   "source": []
  },
  {
   "cell_type": "code",
   "execution_count": null,
   "id": "62a10b51-0b26-455c-bbc7-c553ff9b41fe",
   "metadata": {},
   "outputs": [],
   "source": [
    "# Updating the value of given item"
   ]
  },
  {
   "cell_type": "code",
   "execution_count": 57,
   "id": "86a68171-ab99-4518-bb78-7066e44bbe80",
   "metadata": {},
   "outputs": [],
   "source": [
    "fruits[\"Pineapple\"][\"Small\"] = 100"
   ]
  },
  {
   "cell_type": "code",
   "execution_count": 58,
   "id": "5f0df679-15eb-41fc-9c4c-721b2850020a",
   "metadata": {},
   "outputs": [
    {
     "data": {
      "text/plain": [
       "{'Apple': 200,\n",
       " 'Orange': 80,\n",
       " 'Mango': 100,\n",
       " 'Banana': 80,\n",
       " 'Pineapple': {'Small': 100, 'Medium': 110, 'Large': 120}}"
      ]
     },
     "execution_count": 58,
     "metadata": {},
     "output_type": "execute_result"
    }
   ],
   "source": [
    "fruits"
   ]
  },
  {
   "cell_type": "code",
   "execution_count": null,
   "id": "2d172d31-75aa-439a-89a6-bfd7186e94e2",
   "metadata": {},
   "outputs": [],
   "source": []
  },
  {
   "cell_type": "code",
   "execution_count": null,
   "id": "a17dbc38-6430-4f32-b1de-5c81e3a64bcf",
   "metadata": {},
   "outputs": [],
   "source": []
  },
  {
   "cell_type": "code",
   "execution_count": 59,
   "id": "eb9881b1-3b36-49d1-85b2-f3dbebee69a9",
   "metadata": {},
   "outputs": [],
   "source": [
    "# update"
   ]
  },
  {
   "cell_type": "code",
   "execution_count": 60,
   "id": "57f131d2-3b79-4ca0-80df-c3222445c696",
   "metadata": {},
   "outputs": [],
   "source": [
    "# d1.update(d2)"
   ]
  },
  {
   "cell_type": "code",
   "execution_count": 61,
   "id": "58f56836-5060-4f3a-8ff4-7558f4323170",
   "metadata": {},
   "outputs": [],
   "source": [
    "exotic_fruits = {\"Dragon Fruit\" : 250, \"Kiwi\" : 450, \"Blueberry\" : 800, \"Avocado\" : 345}"
   ]
  },
  {
   "cell_type": "code",
   "execution_count": 62,
   "id": "e649e8fb-530e-4f77-a664-cf42ca2710b8",
   "metadata": {},
   "outputs": [],
   "source": [
    "fruits.update(exotic_fruits)"
   ]
  },
  {
   "cell_type": "code",
   "execution_count": 63,
   "id": "45d4686e-a435-416c-a2a7-3b4fdaab6c28",
   "metadata": {},
   "outputs": [
    {
     "data": {
      "text/plain": [
       "{'Apple': 200,\n",
       " 'Orange': 80,\n",
       " 'Mango': 100,\n",
       " 'Banana': 80,\n",
       " 'Pineapple': {'Small': 100, 'Medium': 110, 'Large': 120},\n",
       " 'Dragon Fruit': 250,\n",
       " 'Kiwi': 450,\n",
       " 'Blueberry': 800,\n",
       " 'Avocado': 345}"
      ]
     },
     "execution_count": 63,
     "metadata": {},
     "output_type": "execute_result"
    }
   ],
   "source": [
    "fruits"
   ]
  },
  {
   "cell_type": "code",
   "execution_count": null,
   "id": "d69289ec-14df-45ff-9b10-46460ebb1327",
   "metadata": {},
   "outputs": [],
   "source": []
  },
  {
   "cell_type": "code",
   "execution_count": null,
   "id": "f2f06f9e-9bef-4dcb-b2b8-a2c2b6f8fd8e",
   "metadata": {},
   "outputs": [],
   "source": []
  },
  {
   "cell_type": "code",
   "execution_count": null,
   "id": "f43a2477-164c-42e1-bb10-fc5685f581f8",
   "metadata": {},
   "outputs": [],
   "source": []
  },
  {
   "cell_type": "code",
   "execution_count": 65,
   "id": "62cb2cd1-2a49-431c-98bb-cccf79b6aeb7",
   "metadata": {},
   "outputs": [],
   "source": [
    "## Getting errors while trying to get a value for key not present?"
   ]
  },
  {
   "cell_type": "markdown",
   "id": "4d734720-25ff-45f4-9f7d-f5a13878fb33",
   "metadata": {},
   "source": [
    "#### Get function\n",
    "- get(key, 0)"
   ]
  },
  {
   "cell_type": "code",
   "execution_count": 66,
   "id": "46db58db-2bf1-48bd-b281-d4b213db623e",
   "metadata": {},
   "outputs": [
    {
     "ename": "KeyError",
     "evalue": "'Plum'",
     "output_type": "error",
     "traceback": [
      "\u001b[0;31m---------------------------------------------------------------------------\u001b[0m",
      "\u001b[0;31mKeyError\u001b[0m                                  Traceback (most recent call last)",
      "\u001b[0;32m/var/folders/t5/yhjgrjs907zfp250jyxtw54m0000gn/T/ipykernel_7378/3441883001.py\u001b[0m in \u001b[0;36m<module>\u001b[0;34m\u001b[0m\n\u001b[0;32m----> 1\u001b[0;31m \u001b[0mfruits\u001b[0m\u001b[0;34m[\u001b[0m\u001b[0;34m\"Plum\"\u001b[0m\u001b[0;34m]\u001b[0m\u001b[0;34m\u001b[0m\u001b[0;34m\u001b[0m\u001b[0m\n\u001b[0m",
      "\u001b[0;31mKeyError\u001b[0m: 'Plum'"
     ]
    }
   ],
   "source": [
    "fruits[\"Plum\"]"
   ]
  },
  {
   "cell_type": "code",
   "execution_count": 68,
   "id": "d3159bdc-4a62-4643-8701-0e46d32f0b74",
   "metadata": {},
   "outputs": [
    {
     "data": {
      "text/plain": [
       "450"
      ]
     },
     "execution_count": 68,
     "metadata": {},
     "output_type": "execute_result"
    }
   ],
   "source": [
    "fruits.get(\"Kiwi\")"
   ]
  },
  {
   "cell_type": "code",
   "execution_count": 69,
   "id": "24ed8a14-768b-4026-a596-96400b61f61e",
   "metadata": {},
   "outputs": [],
   "source": [
    "fruits.get(\"Plum\")"
   ]
  },
  {
   "cell_type": "code",
   "execution_count": 71,
   "id": "7f570271-0184-465e-ba3e-aa962c787f35",
   "metadata": {},
   "outputs": [
    {
     "data": {
      "text/plain": [
       "450"
      ]
     },
     "execution_count": 71,
     "metadata": {},
     "output_type": "execute_result"
    }
   ],
   "source": [
    "fruits.get(\"Kiwi\", \"Nothing here yet!\")"
   ]
  },
  {
   "cell_type": "code",
   "execution_count": 72,
   "id": "5c0caae8-f7b6-4dcb-9203-d4dc9ccdd88d",
   "metadata": {},
   "outputs": [
    {
     "data": {
      "text/plain": [
       "'Nothing here yet!'"
      ]
     },
     "execution_count": 72,
     "metadata": {},
     "output_type": "execute_result"
    }
   ],
   "source": [
    "fruits.get(\"Plum\", \"Nothing here yet!\")"
   ]
  },
  {
   "cell_type": "code",
   "execution_count": 73,
   "id": "9b1db49b-8d14-45c4-80b7-d811ae1492b2",
   "metadata": {},
   "outputs": [
    {
     "data": {
      "text/plain": [
       "0"
      ]
     },
     "execution_count": 73,
     "metadata": {},
     "output_type": "execute_result"
    }
   ],
   "source": [
    "fruits.get(\"Plum\", 0)"
   ]
  },
  {
   "cell_type": "code",
   "execution_count": null,
   "id": "ca96ab7d-8e6c-4afd-bf5e-a81234cf1071",
   "metadata": {},
   "outputs": [],
   "source": []
  },
  {
   "cell_type": "code",
   "execution_count": 74,
   "id": "5d91a742-dc3d-46b3-82b1-535e28a8c607",
   "metadata": {},
   "outputs": [],
   "source": [
    "# Quiz"
   ]
  },
  {
   "cell_type": "code",
   "execution_count": 75,
   "id": "835b9b53-19e4-4657-b884-cefab10eaabf",
   "metadata": {},
   "outputs": [
    {
     "name": "stdout",
     "output_type": "stream",
     "text": [
      "1\n",
      "2\n",
      "3\n",
      "0\n"
     ]
    }
   ],
   "source": [
    "d = {\"a\": 1, \"b\": 2, \"c\": 3}\n",
    "print(d.get(\"a\", 0))\n",
    "print(d.get(\"b\", 0))\n",
    "print(d.get(\"c\", 0))\n",
    "print(d.get(\"d\", 0))"
   ]
  },
  {
   "cell_type": "code",
   "execution_count": null,
   "id": "85edf39e-b620-4b60-8d60-94d02d2b8c63",
   "metadata": {},
   "outputs": [],
   "source": []
  },
  {
   "cell_type": "code",
   "execution_count": 76,
   "id": "988d4372-4ef2-495f-89df-d652289a3a83",
   "metadata": {},
   "outputs": [
    {
     "name": "stdout",
     "output_type": "stream",
     "text": [
      "55\n"
     ]
    }
   ],
   "source": [
    "d = {\"a\": 1, \"b\": 2, \"c\": 3}\n",
    "\n",
    "d['d'] = 55\n",
    "\n",
    "print(d['d'])"
   ]
  },
  {
   "cell_type": "code",
   "execution_count": null,
   "id": "59b6aaf5-3ee9-44db-bdce-a24cac49ac0c",
   "metadata": {},
   "outputs": [],
   "source": []
  },
  {
   "cell_type": "code",
   "execution_count": null,
   "id": "1e0dc967-31e3-4ac8-b4ef-1cdf8456884d",
   "metadata": {},
   "outputs": [],
   "source": []
  },
  {
   "cell_type": "code",
   "execution_count": null,
   "id": "335524db-4d2c-458f-95f9-8bf48339b4d3",
   "metadata": {},
   "outputs": [],
   "source": []
  },
  {
   "cell_type": "markdown",
   "id": "e6d300ab-c050-42e7-b101-04260bef677a",
   "metadata": {
    "tags": []
   },
   "source": [
    "### Iterating on a dict"
   ]
  },
  {
   "cell_type": "code",
   "execution_count": 77,
   "id": "c6ea9520-af89-491a-87d0-be593e8342c6",
   "metadata": {},
   "outputs": [],
   "source": [
    "## Challenge:\n",
    "# print keys and values of a dict"
   ]
  },
  {
   "cell_type": "code",
   "execution_count": 78,
   "id": "93d6447a-0b9e-42b5-8e61-79a80e6b20c2",
   "metadata": {},
   "outputs": [
    {
     "data": {
      "text/plain": [
       "{'Apple': 200,\n",
       " 'Orange': 80,\n",
       " 'Mango': 100,\n",
       " 'Banana': 80,\n",
       " 'Pineapple': {'Small': 100, 'Medium': 110, 'Large': 120},\n",
       " 'Dragon Fruit': 250,\n",
       " 'Kiwi': 450,\n",
       " 'Blueberry': 800,\n",
       " 'Avocado': 345}"
      ]
     },
     "execution_count": 78,
     "metadata": {},
     "output_type": "execute_result"
    }
   ],
   "source": [
    "fruits"
   ]
  },
  {
   "cell_type": "code",
   "execution_count": 79,
   "id": "33984438-32d6-4c7e-a00a-72f352633963",
   "metadata": {},
   "outputs": [
    {
     "name": "stdout",
     "output_type": "stream",
     "text": [
      "['__class__', '__class_getitem__', '__contains__', '__delattr__', '__delitem__', '__dir__', '__doc__', '__eq__', '__format__', '__ge__', '__getattribute__', '__getitem__', '__gt__', '__hash__', '__init__', '__init_subclass__', '__ior__', '__iter__', '__le__', '__len__', '__lt__', '__ne__', '__new__', '__or__', '__reduce__', '__reduce_ex__', '__repr__', '__reversed__', '__ror__', '__setattr__', '__setitem__', '__sizeof__', '__str__', '__subclasshook__', 'clear', 'copy', 'fromkeys', 'get', 'items', 'keys', 'pop', 'popitem', 'setdefault', 'update', 'values']\n"
     ]
    }
   ],
   "source": [
    "print(dir(fruits))"
   ]
  },
  {
   "cell_type": "code",
   "execution_count": 83,
   "id": "0f0d7845-6314-4145-8474-9f4a551120fa",
   "metadata": {},
   "outputs": [],
   "source": [
    "# print(dir(\"rahul\"))"
   ]
  },
  {
   "cell_type": "code",
   "execution_count": null,
   "id": "938ff4a1-b435-4112-b636-012d25ceeae7",
   "metadata": {},
   "outputs": [],
   "source": []
  },
  {
   "cell_type": "code",
   "execution_count": 80,
   "id": "e9653f24-38b9-4c73-978a-1843082e97eb",
   "metadata": {},
   "outputs": [
    {
     "name": "stdout",
     "output_type": "stream",
     "text": [
      "Apple\n",
      "Orange\n",
      "Mango\n",
      "Banana\n",
      "Pineapple\n",
      "Dragon Fruit\n",
      "Kiwi\n",
      "Blueberry\n",
      "Avocado\n"
     ]
    }
   ],
   "source": [
    "for i in fruits:\n",
    "    print(i)"
   ]
  },
  {
   "cell_type": "code",
   "execution_count": 86,
   "id": "bcc4b847-e4bc-47f9-a974-ff36a4d3a022",
   "metadata": {},
   "outputs": [
    {
     "data": {
      "text/plain": [
       "200"
      ]
     },
     "execution_count": 86,
     "metadata": {},
     "output_type": "execute_result"
    }
   ],
   "source": [
    "fruits.get(\"Apple\")"
   ]
  },
  {
   "cell_type": "code",
   "execution_count": 87,
   "id": "3d830583-fada-430e-b3d7-4a420f42e9f3",
   "metadata": {},
   "outputs": [
    {
     "data": {
      "text/plain": [
       "80"
      ]
     },
     "execution_count": 87,
     "metadata": {},
     "output_type": "execute_result"
    }
   ],
   "source": [
    "fruits.get(\"Orange\")"
   ]
  },
  {
   "cell_type": "code",
   "execution_count": 90,
   "id": "a34c5c34-dc11-4f44-90cc-7fb5c9660210",
   "metadata": {},
   "outputs": [
    {
     "data": {
      "text/plain": [
       "{'Apple': 200,\n",
       " 'Orange': 80,\n",
       " 'Mango': 100,\n",
       " 'Banana': 80,\n",
       " 'Pineapple': {'Small': 100, 'Medium': 110, 'Large': 120},\n",
       " 'Dragon Fruit': 250,\n",
       " 'Kiwi': 450,\n",
       " 'Blueberry': 800,\n",
       " 'Avocado': 345}"
      ]
     },
     "execution_count": 90,
     "metadata": {},
     "output_type": "execute_result"
    }
   ],
   "source": [
    "fruits"
   ]
  },
  {
   "cell_type": "code",
   "execution_count": 89,
   "id": "1e48c424-999d-4379-914f-c7ceeb96e04c",
   "metadata": {},
   "outputs": [
    {
     "name": "stdout",
     "output_type": "stream",
     "text": [
      "Apple 200\n",
      "Orange 80\n",
      "Mango 100\n",
      "Banana 80\n",
      "Pineapple {'Small': 100, 'Medium': 110, 'Large': 120}\n",
      "Dragon Fruit 250\n",
      "Kiwi 450\n",
      "Blueberry 800\n",
      "Avocado 345\n"
     ]
    }
   ],
   "source": [
    "for i in fruits:\n",
    "    print(i, fruits.get(i))"
   ]
  },
  {
   "cell_type": "code",
   "execution_count": null,
   "id": "bff79a24-53a6-4d14-993b-777811d8635e",
   "metadata": {},
   "outputs": [],
   "source": []
  },
  {
   "cell_type": "code",
   "execution_count": 91,
   "id": "45841991-43f3-4c92-8f83-422fd38723ea",
   "metadata": {},
   "outputs": [],
   "source": [
    "# Write a code to get individual prices of each sizes of pineapple"
   ]
  },
  {
   "cell_type": "code",
   "execution_count": null,
   "id": "876ff10c-aecc-4272-8750-27a03c6f0d20",
   "metadata": {},
   "outputs": [],
   "source": []
  },
  {
   "cell_type": "code",
   "execution_count": null,
   "id": "c6c157fc-14ff-4e2e-af59-baa84b92eb25",
   "metadata": {},
   "outputs": [],
   "source": []
  },
  {
   "cell_type": "code",
   "execution_count": 92,
   "id": "aaed4166-837b-4e33-91a5-fdc4960b1d42",
   "metadata": {},
   "outputs": [],
   "source": [
    "# for i, v in dict.items()"
   ]
  },
  {
   "cell_type": "code",
   "execution_count": 93,
   "id": "ec2d2516-132c-4bd3-8b00-48bdbf52d28d",
   "metadata": {},
   "outputs": [],
   "source": [
    "t = (1, 2, 3)"
   ]
  },
  {
   "cell_type": "code",
   "execution_count": 94,
   "id": "f838e280-6809-4305-9571-db4f71204666",
   "metadata": {},
   "outputs": [],
   "source": [
    "a, b, c = t"
   ]
  },
  {
   "cell_type": "code",
   "execution_count": 95,
   "id": "771269ca-b7cc-4fde-b6d1-206b90955fff",
   "metadata": {},
   "outputs": [
    {
     "name": "stdout",
     "output_type": "stream",
     "text": [
      "1 2 3\n"
     ]
    }
   ],
   "source": [
    "print(a, b, c)"
   ]
  },
  {
   "cell_type": "code",
   "execution_count": 96,
   "id": "9cf95f45-8176-4156-80e2-29d9e25a9e6a",
   "metadata": {},
   "outputs": [],
   "source": [
    "def func():\n",
    "    return 2, 3, 4, 5"
   ]
  },
  {
   "cell_type": "code",
   "execution_count": 97,
   "id": "000331b7-24d2-4f10-9789-15b2aa0e8f96",
   "metadata": {},
   "outputs": [
    {
     "data": {
      "text/plain": [
       "(2, 3, 4, 5)"
      ]
     },
     "execution_count": 97,
     "metadata": {},
     "output_type": "execute_result"
    }
   ],
   "source": []
  },
  {
   "cell_type": "code",
   "execution_count": 102,
   "id": "0cd9eac8-2698-4c78-aae0-e765651ba441",
   "metadata": {},
   "outputs": [],
   "source": [
    "a, b, c = (1, 2, 3)"
   ]
  },
  {
   "cell_type": "code",
   "execution_count": 103,
   "id": "f740301f-0a80-45ec-a7b5-76d57321a23f",
   "metadata": {},
   "outputs": [
    {
     "data": {
      "text/plain": [
       "1"
      ]
     },
     "execution_count": 103,
     "metadata": {},
     "output_type": "execute_result"
    }
   ],
   "source": [
    "a"
   ]
  },
  {
   "cell_type": "code",
   "execution_count": 100,
   "id": "7ca040ff-d9af-4dd7-8c2d-807c2c333705",
   "metadata": {},
   "outputs": [
    {
     "data": {
      "text/plain": [
       "2"
      ]
     },
     "execution_count": 100,
     "metadata": {},
     "output_type": "execute_result"
    }
   ],
   "source": [
    "b"
   ]
  },
  {
   "cell_type": "code",
   "execution_count": 101,
   "id": "7de01d0d-1df9-43a6-b22f-6e5e8873335d",
   "metadata": {},
   "outputs": [
    {
     "data": {
      "text/plain": [
       "3"
      ]
     },
     "execution_count": 101,
     "metadata": {},
     "output_type": "execute_result"
    }
   ],
   "source": [
    "c"
   ]
  },
  {
   "cell_type": "code",
   "execution_count": 111,
   "id": "0cb66878-5833-4366-81fa-8a45d162c015",
   "metadata": {},
   "outputs": [
    {
     "data": {
      "text/plain": [
       "{'Apple': 200,\n",
       " 'Orange': 80,\n",
       " 'Mango': 100,\n",
       " 'Banana': 80,\n",
       " 'Pineapple': {'Small': 100, 'Medium': 110, 'Large': 120},\n",
       " 'Dragon Fruit': 250,\n",
       " 'Kiwi': 450,\n",
       " 'Blueberry': 800,\n",
       " 'Avocado': 345}"
      ]
     },
     "execution_count": 111,
     "metadata": {},
     "output_type": "execute_result"
    }
   ],
   "source": [
    "fruits"
   ]
  },
  {
   "cell_type": "code",
   "execution_count": 109,
   "id": "dff1b767-02fd-4ffa-b9df-6ef86a8f814e",
   "metadata": {},
   "outputs": [
    {
     "data": {
      "text/plain": [
       "dict_items([('Apple', 200), ('Orange', 80), ('Mango', 100), ('Banana', 80), ('Pineapple', {'Small': 100, 'Medium': 110, 'Large': 120}), ('Dragon Fruit', 250), ('Kiwi', 450), ('Blueberry', 800), ('Avocado', 345)])"
      ]
     },
     "execution_count": 109,
     "metadata": {},
     "output_type": "execute_result"
    }
   ],
   "source": [
    "fruits.items()"
   ]
  },
  {
   "cell_type": "code",
   "execution_count": 110,
   "id": "08cba815-c1fb-40af-8337-46f0216f735d",
   "metadata": {},
   "outputs": [
    {
     "data": {
      "text/plain": [
       "[('Apple', 200),\n",
       " ('Orange', 80),\n",
       " ('Mango', 100),\n",
       " ('Banana', 80),\n",
       " ('Pineapple', {'Small': 100, 'Medium': 110, 'Large': 120}),\n",
       " ('Dragon Fruit', 250),\n",
       " ('Kiwi', 450),\n",
       " ('Blueberry', 800),\n",
       " ('Avocado', 345)]"
      ]
     },
     "execution_count": 110,
     "metadata": {},
     "output_type": "execute_result"
    }
   ],
   "source": [
    "[('Apple', 200), ('Orange', 80), ('Mango', 100), ('Banana', 80), ('Pineapple', {'Small': 100, 'Medium': 110, 'Large': 120}), ('Dragon Fruit', 250), ('Kiwi', 450), ('Blueberry', 800), ('Avocado', 345)]"
   ]
  },
  {
   "cell_type": "code",
   "execution_count": 107,
   "id": "ab4ce644-653d-48fa-af5b-2e8278ac2700",
   "metadata": {},
   "outputs": [
    {
     "name": "stdout",
     "output_type": "stream",
     "text": [
      "('Apple', 200)\n",
      "('Orange', 80)\n",
      "('Mango', 100)\n",
      "('Banana', 80)\n",
      "('Pineapple', {'Small': 100, 'Medium': 110, 'Large': 120})\n",
      "('Dragon Fruit', 250)\n",
      "('Kiwi', 450)\n",
      "('Blueberry', 800)\n",
      "('Avocado', 345)\n"
     ]
    }
   ],
   "source": [
    "for i in fruits.items():\n",
    "    print(i)"
   ]
  },
  {
   "cell_type": "code",
   "execution_count": 112,
   "id": "175870b5-dd89-4bfb-b11d-13627a4986c6",
   "metadata": {},
   "outputs": [
    {
     "name": "stdout",
     "output_type": "stream",
     "text": [
      "Apple 200\n",
      "Orange 80\n",
      "Mango 100\n",
      "Banana 80\n",
      "Pineapple {'Small': 100, 'Medium': 110, 'Large': 120}\n",
      "Dragon Fruit 250\n",
      "Kiwi 450\n",
      "Blueberry 800\n",
      "Avocado 345\n"
     ]
    }
   ],
   "source": [
    "for key, value in fruits.items():\n",
    "    print(key, value)"
   ]
  },
  {
   "cell_type": "code",
   "execution_count": null,
   "id": "6433a171-29db-494d-a60c-3999279bb569",
   "metadata": {},
   "outputs": [],
   "source": []
  },
  {
   "cell_type": "code",
   "execution_count": 113,
   "id": "c2ebc4a8-8575-41c0-b642-10a24d50b044",
   "metadata": {},
   "outputs": [],
   "source": [
    "# Membership operator"
   ]
  },
  {
   "cell_type": "code",
   "execution_count": 114,
   "id": "9b947db9-0b4f-428b-86c9-76dd59b15711",
   "metadata": {},
   "outputs": [
    {
     "data": {
      "text/plain": [
       "{'Apple': 200,\n",
       " 'Orange': 80,\n",
       " 'Mango': 100,\n",
       " 'Banana': 80,\n",
       " 'Pineapple': {'Small': 100, 'Medium': 110, 'Large': 120},\n",
       " 'Dragon Fruit': 250,\n",
       " 'Kiwi': 450,\n",
       " 'Blueberry': 800,\n",
       " 'Avocado': 345}"
      ]
     },
     "execution_count": 114,
     "metadata": {},
     "output_type": "execute_result"
    }
   ],
   "source": [
    "fruits"
   ]
  },
  {
   "cell_type": "code",
   "execution_count": null,
   "id": "39d0ef19-77b7-4f81-860f-44a4345df477",
   "metadata": {},
   "outputs": [],
   "source": []
  },
  {
   "cell_type": "markdown",
   "id": "64b59c88-4fd2-432a-b6e6-a1fac3d89ca9",
   "metadata": {},
   "source": [
    "#### Keys in a dict"
   ]
  },
  {
   "cell_type": "code",
   "execution_count": 115,
   "id": "b22dc034-beae-4a87-b196-870a1c975073",
   "metadata": {},
   "outputs": [
    {
     "data": {
      "text/plain": [
       "{'Apple': 200,\n",
       " 'Orange': 80,\n",
       " 'Mango': 100,\n",
       " 'Banana': 80,\n",
       " 'Pineapple': {'Small': 100, 'Medium': 110, 'Large': 120},\n",
       " 'Dragon Fruit': 250,\n",
       " 'Kiwi': 450,\n",
       " 'Blueberry': 800,\n",
       " 'Avocado': 345}"
      ]
     },
     "execution_count": 115,
     "metadata": {},
     "output_type": "execute_result"
    }
   ],
   "source": [
    "fruits"
   ]
  },
  {
   "cell_type": "code",
   "execution_count": 116,
   "id": "625b043a-55bc-4b50-8ca8-ea9ba90c7a6c",
   "metadata": {},
   "outputs": [
    {
     "data": {
      "text/plain": [
       "dict_keys(['Apple', 'Orange', 'Mango', 'Banana', 'Pineapple', 'Dragon Fruit', 'Kiwi', 'Blueberry', 'Avocado'])"
      ]
     },
     "execution_count": 116,
     "metadata": {},
     "output_type": "execute_result"
    }
   ],
   "source": [
    "fruits.keys()"
   ]
  },
  {
   "cell_type": "code",
   "execution_count": 117,
   "id": "ede2ef87-f26c-45f1-a16c-1c313929674d",
   "metadata": {},
   "outputs": [
    {
     "data": {
      "text/plain": [
       "True"
      ]
     },
     "execution_count": 117,
     "metadata": {},
     "output_type": "execute_result"
    }
   ],
   "source": [
    "\"Apple\" in fruits.keys()"
   ]
  },
  {
   "cell_type": "code",
   "execution_count": 118,
   "id": "b93b7a12-95d7-48be-a756-41a14e8b4c45",
   "metadata": {},
   "outputs": [
    {
     "data": {
      "text/plain": [
       "False"
      ]
     },
     "execution_count": 118,
     "metadata": {},
     "output_type": "execute_result"
    }
   ],
   "source": [
    "\"Plum\" in fruits.keys()"
   ]
  },
  {
   "cell_type": "code",
   "execution_count": 119,
   "id": "028ca5b7-e018-40ab-bf6a-8fc9aba17b28",
   "metadata": {},
   "outputs": [
    {
     "data": {
      "text/plain": [
       "True"
      ]
     },
     "execution_count": 119,
     "metadata": {},
     "output_type": "execute_result"
    }
   ],
   "source": [
    "\"Apple\" in fruits"
   ]
  },
  {
   "cell_type": "code",
   "execution_count": 120,
   "id": "4b4ea62c-ca7f-4cae-8068-e83f7f60e8b0",
   "metadata": {},
   "outputs": [
    {
     "data": {
      "text/plain": [
       "False"
      ]
     },
     "execution_count": 120,
     "metadata": {},
     "output_type": "execute_result"
    }
   ],
   "source": [
    "\"Plum\" in fruits"
   ]
  },
  {
   "cell_type": "code",
   "execution_count": 122,
   "id": "e6faec0e-6a2e-4e08-bbe3-6710740a9307",
   "metadata": {},
   "outputs": [
    {
     "name": "stdout",
     "output_type": "stream",
     "text": [
      "Apple\n",
      "Orange\n",
      "Mango\n",
      "Banana\n",
      "Pineapple\n",
      "Dragon Fruit\n",
      "Kiwi\n",
      "Blueberry\n",
      "Avocado\n"
     ]
    }
   ],
   "source": [
    "for i in fruits.keys():\n",
    "    print(i)"
   ]
  },
  {
   "cell_type": "code",
   "execution_count": null,
   "id": "efbd2885-0914-4811-999a-4c7358705798",
   "metadata": {},
   "outputs": [],
   "source": []
  },
  {
   "cell_type": "code",
   "execution_count": null,
   "id": "9f6729eb-8542-4ce0-b388-39cc6056f8e9",
   "metadata": {},
   "outputs": [],
   "source": []
  },
  {
   "cell_type": "markdown",
   "id": "a115150c-1228-4406-8e1d-050f18161cc4",
   "metadata": {},
   "source": [
    "#### Values in a dict"
   ]
  },
  {
   "cell_type": "code",
   "execution_count": 121,
   "id": "1d0c7601-8dcd-4670-b7c5-281392f78e63",
   "metadata": {},
   "outputs": [
    {
     "data": {
      "text/plain": [
       "dict_values([200, 80, 100, 80, {'Small': 100, 'Medium': 110, 'Large': 120}, 250, 450, 800, 345])"
      ]
     },
     "execution_count": 121,
     "metadata": {},
     "output_type": "execute_result"
    }
   ],
   "source": [
    "fruits.values()"
   ]
  },
  {
   "cell_type": "code",
   "execution_count": 123,
   "id": "180a87cb-1dda-4e0b-9d6c-b89e3b456ce5",
   "metadata": {},
   "outputs": [
    {
     "name": "stdout",
     "output_type": "stream",
     "text": [
      "200\n",
      "80\n",
      "100\n",
      "80\n",
      "{'Small': 100, 'Medium': 110, 'Large': 120}\n",
      "250\n",
      "450\n",
      "800\n",
      "345\n"
     ]
    }
   ],
   "source": [
    "for i in fruits.values():\n",
    "    print(i)"
   ]
  },
  {
   "cell_type": "code",
   "execution_count": null,
   "id": "03c6f6d5-b8cc-4c82-8b80-2714c1468db0",
   "metadata": {},
   "outputs": [],
   "source": []
  },
  {
   "cell_type": "code",
   "execution_count": null,
   "id": "8d599622-46e2-4ad2-8c38-f52335a80de7",
   "metadata": {},
   "outputs": [],
   "source": []
  },
  {
   "cell_type": "markdown",
   "id": "c8285697-bbd2-46d4-b7c5-00bb8b858c34",
   "metadata": {},
   "source": [
    "### Len function "
   ]
  },
  {
   "cell_type": "code",
   "execution_count": 124,
   "id": "74c2c035-e0de-4e96-9463-c14fcc7596f1",
   "metadata": {},
   "outputs": [
    {
     "data": {
      "text/plain": [
       "{'Apple': 200,\n",
       " 'Orange': 80,\n",
       " 'Mango': 100,\n",
       " 'Banana': 80,\n",
       " 'Pineapple': {'Small': 100, 'Medium': 110, 'Large': 120},\n",
       " 'Dragon Fruit': 250,\n",
       " 'Kiwi': 450,\n",
       " 'Blueberry': 800,\n",
       " 'Avocado': 345}"
      ]
     },
     "execution_count": 124,
     "metadata": {},
     "output_type": "execute_result"
    }
   ],
   "source": [
    "fruits"
   ]
  },
  {
   "cell_type": "code",
   "execution_count": 125,
   "id": "b68fab6f-ba27-4f9b-b91e-35206477517f",
   "metadata": {},
   "outputs": [
    {
     "data": {
      "text/plain": [
       "9"
      ]
     },
     "execution_count": 125,
     "metadata": {},
     "output_type": "execute_result"
    }
   ],
   "source": [
    "len(fruits)"
   ]
  },
  {
   "cell_type": "code",
   "execution_count": 126,
   "id": "7f8a0fcc-ec26-400f-ad9e-be88af244eb6",
   "metadata": {},
   "outputs": [
    {
     "data": {
      "text/plain": [
       "9"
      ]
     },
     "execution_count": 126,
     "metadata": {},
     "output_type": "execute_result"
    }
   ],
   "source": [
    "len(fruits.keys())"
   ]
  },
  {
   "cell_type": "code",
   "execution_count": null,
   "id": "6379ad14-f996-4501-970e-4d8565b5e55f",
   "metadata": {},
   "outputs": [],
   "source": []
  },
  {
   "cell_type": "code",
   "execution_count": null,
   "id": "c0493359-248c-48bc-91b2-925b1832ef28",
   "metadata": {},
   "outputs": [],
   "source": []
  },
  {
   "cell_type": "code",
   "execution_count": 127,
   "id": "a4e835ca-74a9-43f3-9a02-50cd9831082b",
   "metadata": {},
   "outputs": [],
   "source": [
    "# Citizenship operator"
   ]
  },
  {
   "cell_type": "code",
   "execution_count": null,
   "id": "c9bed6e2-da4e-4be7-8269-63611ad5a980",
   "metadata": {},
   "outputs": [],
   "source": []
  },
  {
   "cell_type": "markdown",
   "id": "6cc4703a-1419-47b1-84ec-e918b3bcf937",
   "metadata": {},
   "source": [
    "### Challenge"
   ]
  },
  {
   "cell_type": "markdown",
   "id": "25044555-ad92-4bf3-8cf2-1345799acc0d",
   "metadata": {},
   "source": [
    "#### Take a string as input.\n",
    "- Create a dictionary according to the following criteria :-\n",
    "- There will be one key value pair for each unique character\n",
    "- Key will be character name and value will be the count of the character inside the string."
   ]
  },
  {
   "cell_type": "code",
   "execution_count": 128,
   "id": "b618515a-fc12-4970-8435-cd179e5e5c8c",
   "metadata": {},
   "outputs": [],
   "source": [
    "# Rahul janghu\n",
    "# R: 1, a : 2, h : 2, u : 2, l : 1, \"_\" : 1, j : 1, n : 1, g : 1"
   ]
  },
  {
   "cell_type": "code",
   "execution_count": 129,
   "id": "0cd049b4-edd3-4348-904d-1052e3e7f3a6",
   "metadata": {},
   "outputs": [
    {
     "data": {
      "text/plain": [
       "{' ', 'J', 'R', 'a', 'g', 'h', 'l', 'n', 'u'}"
      ]
     },
     "execution_count": 129,
     "metadata": {},
     "output_type": "execute_result"
    }
   ],
   "source": [
    "set(\"Rahul Janghu\")"
   ]
  },
  {
   "cell_type": "code",
   "execution_count": 134,
   "id": "fbd94f4b-59ae-44db-b8b3-9aae39099a56",
   "metadata": {},
   "outputs": [
    {
     "name": "stdin",
     "output_type": "stream",
     "text": [
      " Rahul Janghu\n"
     ]
    }
   ],
   "source": [
    "name = input()"
   ]
  },
  {
   "cell_type": "code",
   "execution_count": 135,
   "id": "7052c67c-1779-46c0-a03f-5e132a0f375e",
   "metadata": {},
   "outputs": [],
   "source": [
    "t = tuple(name)"
   ]
  },
  {
   "cell_type": "code",
   "execution_count": 136,
   "id": "9a296e44-c864-4cd2-8b32-0d8a9c448b05",
   "metadata": {},
   "outputs": [
    {
     "data": {
      "text/plain": [
       "('R', 'a', 'h', 'u', 'l', ' ', 'J', 'a', 'n', 'g', 'h', 'u')"
      ]
     },
     "execution_count": 136,
     "metadata": {},
     "output_type": "execute_result"
    }
   ],
   "source": [
    "t"
   ]
  },
  {
   "cell_type": "code",
   "execution_count": 137,
   "id": "8414b980-fea6-437b-a095-5423baed48ed",
   "metadata": {},
   "outputs": [],
   "source": [
    "s = set(name)"
   ]
  },
  {
   "cell_type": "code",
   "execution_count": 140,
   "id": "0fcb630d-b916-4e94-b911-d1e9e23e1b8c",
   "metadata": {},
   "outputs": [
    {
     "name": "stdout",
     "output_type": "stream",
     "text": [
      "J 1\n",
      "n 1\n",
      "a 2\n",
      "l 1\n",
      "  1\n",
      "u 2\n",
      "h 2\n",
      "R 1\n",
      "g 1\n"
     ]
    }
   ],
   "source": [
    "for i in s:\n",
    "    print(i, t.count(i))"
   ]
  },
  {
   "cell_type": "code",
   "execution_count": null,
   "id": "71aa7d9f-d630-4d6c-a515-32ec92e229bc",
   "metadata": {},
   "outputs": [],
   "source": []
  },
  {
   "cell_type": "code",
   "execution_count": 141,
   "id": "c6f1fdf2-fa0f-4f98-a768-7e6a56198d5d",
   "metadata": {},
   "outputs": [
    {
     "name": "stdout",
     "output_type": "stream",
     "text": [
      "{'R': 1, 'a': 2, 'h': 2, 'u': 2, 'l': 1, ' ': 1, 'J': 1, 'n': 1, 'g': 1}\n"
     ]
    }
   ],
   "source": [
    "ans = {}\n",
    "\n",
    "for i in name:\n",
    "    if i not in ans:\n",
    "        ans[i] = 1\n",
    "    else:\n",
    "        ans[i] += 1\n",
    "        \n",
    "print(ans)"
   ]
  },
  {
   "cell_type": "code",
   "execution_count": null,
   "id": "8e6d3c5f-0be7-4adc-9566-e4861dc6a76e",
   "metadata": {},
   "outputs": [],
   "source": []
  },
  {
   "cell_type": "code",
   "execution_count": 146,
   "id": "657d95c1-8343-493e-b439-42290f97a4ef",
   "metadata": {},
   "outputs": [],
   "source": [
    "def check_freq(s):\n",
    "    freq = {}\n",
    "    \n",
    "    for i in s:\n",
    "        if i not in freq:\n",
    "            freq[i] = 1\n",
    "        else:\n",
    "            freq[i] += 1\n",
    "            \n",
    "    return freq"
   ]
  },
  {
   "cell_type": "code",
   "execution_count": null,
   "id": "0209eda2-7329-4019-b93c-16e56be66c93",
   "metadata": {},
   "outputs": [],
   "source": []
  },
  {
   "cell_type": "code",
   "execution_count": 147,
   "id": "384b3e4d-139b-4513-8935-90ce1264d64c",
   "metadata": {},
   "outputs": [
    {
     "data": {
      "text/plain": [
       "{'A': 1, 'n': 2, 'a': 1, 'd': 1}"
      ]
     },
     "execution_count": 147,
     "metadata": {},
     "output_type": "execute_result"
    }
   ],
   "source": [
    "check_freq(\"Anand\")"
   ]
  },
  {
   "cell_type": "code",
   "execution_count": null,
   "id": "1cfdb02a-5eec-4432-974a-6655f42a0b6c",
   "metadata": {},
   "outputs": [],
   "source": []
  },
  {
   "cell_type": "code",
   "execution_count": null,
   "id": "2c8f6a68-2c04-41b0-bf3c-4d6155244e6c",
   "metadata": {},
   "outputs": [],
   "source": []
  },
  {
   "cell_type": "code",
   "execution_count": 148,
   "id": "8bbfbe7a-0995-4678-b804-9abba9cd8c0b",
   "metadata": {},
   "outputs": [],
   "source": [
    "# Doubt"
   ]
  },
  {
   "cell_type": "code",
   "execution_count": 150,
   "id": "01056fdf-7a50-42f1-92f1-898561c11e6e",
   "metadata": {},
   "outputs": [],
   "source": [
    "s = {(1,2, 3), (2, 3)}"
   ]
  },
  {
   "cell_type": "code",
   "execution_count": 151,
   "id": "6bada8d3-5011-4e7e-91ec-f680087d6542",
   "metadata": {},
   "outputs": [
    {
     "data": {
      "text/plain": [
       "{(1, 2, 3), (2, 3)}"
      ]
     },
     "execution_count": 151,
     "metadata": {},
     "output_type": "execute_result"
    }
   ],
   "source": [
    "s"
   ]
  },
  {
   "cell_type": "code",
   "execution_count": 152,
   "id": "c1bbd9eb-24e1-4f66-8554-2aa0e2e6bd3d",
   "metadata": {},
   "outputs": [
    {
     "ename": "TypeError",
     "evalue": "unhashable type: 'list'",
     "output_type": "error",
     "traceback": [
      "\u001b[0;31m---------------------------------------------------------------------------\u001b[0m",
      "\u001b[0;31mTypeError\u001b[0m                                 Traceback (most recent call last)",
      "\u001b[0;32m/var/folders/t5/yhjgrjs907zfp250jyxtw54m0000gn/T/ipykernel_7378/746998297.py\u001b[0m in \u001b[0;36m<module>\u001b[0;34m\u001b[0m\n\u001b[0;32m----> 1\u001b[0;31m \u001b[0ms\u001b[0m \u001b[0;34m=\u001b[0m \u001b[0;34m{\u001b[0m\u001b[0;34m[\u001b[0m\u001b[0;36m1\u001b[0m\u001b[0;34m,\u001b[0m \u001b[0;36m2\u001b[0m\u001b[0;34m]\u001b[0m\u001b[0;34m,\u001b[0m \u001b[0;34m[\u001b[0m\u001b[0;36m3\u001b[0m\u001b[0;34m,\u001b[0m \u001b[0;36m4\u001b[0m\u001b[0;34m]\u001b[0m\u001b[0;34m}\u001b[0m\u001b[0;34m\u001b[0m\u001b[0;34m\u001b[0m\u001b[0m\n\u001b[0m",
      "\u001b[0;31mTypeError\u001b[0m: unhashable type: 'list'"
     ]
    }
   ],
   "source": [
    "s = {[1, 2], [3, 4]}"
   ]
  },
  {
   "cell_type": "code",
   "execution_count": null,
   "id": "f9870ab5-e5a9-4797-8be3-b231d6c79ca1",
   "metadata": {},
   "outputs": [],
   "source": []
  },
  {
   "cell_type": "code",
   "execution_count": 154,
   "id": "26455a9e-3c20-4c91-9b42-75198e1698e7",
   "metadata": {},
   "outputs": [
    {
     "name": "stdout",
     "output_type": "stream",
     "text": [
      "The Zen of Python, by Tim Peters\n",
      "\n",
      "Beautiful is better than ugly.\n",
      "Explicit is better than implicit.\n",
      "Simple is better than complex.\n",
      "Complex is better than complicated.\n",
      "Flat is better than nested.\n",
      "Sparse is better than dense.\n",
      "Readability counts.\n",
      "Special cases aren't special enough to break the rules.\n",
      "Although practicality beats purity.\n",
      "Errors should never pass silently.\n",
      "Unless explicitly silenced.\n",
      "In the face of ambiguity, refuse the temptation to guess.\n",
      "There should be one-- and preferably only one --obvious way to do it.\n",
      "Although that way may not be obvious at first unless you're Dutch.\n",
      "Now is better than never.\n",
      "Although never is often better than *right* now.\n",
      "If the implementation is hard to explain, it's a bad idea.\n",
      "If the implementation is easy to explain, it may be a good idea.\n",
      "Namespaces are one honking great idea -- let's do more of those!\n"
     ]
    }
   ],
   "source": [
    "import this"
   ]
  },
  {
   "cell_type": "code",
   "execution_count": null,
   "id": "f79231e1-7d05-4490-b7ee-e90eaca5843a",
   "metadata": {},
   "outputs": [],
   "source": []
  },
  {
   "cell_type": "code",
   "execution_count": null,
   "id": "23bf062b-1e32-40a1-8226-a8b79d7163eb",
   "metadata": {},
   "outputs": [],
   "source": []
  },
  {
   "cell_type": "code",
   "execution_count": null,
   "id": "7588cba3-0706-4c7a-aa06-5edb66b33322",
   "metadata": {},
   "outputs": [],
   "source": []
  },
  {
   "cell_type": "code",
   "execution_count": null,
   "id": "39ccf322-3d35-4ee2-a8b3-bae7637003ae",
   "metadata": {},
   "outputs": [],
   "source": []
  },
  {
   "cell_type": "code",
   "execution_count": null,
   "id": "dfe5f3d3-7175-4b3a-b1c4-fc5a91a47253",
   "metadata": {},
   "outputs": [],
   "source": []
  }
 ],
 "metadata": {
  "kernelspec": {
   "display_name": "Python 3 (ipykernel)",
   "language": "python",
   "name": "python3"
  },
  "language_info": {
   "codemirror_mode": {
    "name": "ipython",
    "version": 3
   },
   "file_extension": ".py",
   "mimetype": "text/x-python",
   "name": "python",
   "nbconvert_exporter": "python",
   "pygments_lexer": "ipython3",
   "version": "3.9.7"
  }
 },
 "nbformat": 4,
 "nbformat_minor": 5
}
