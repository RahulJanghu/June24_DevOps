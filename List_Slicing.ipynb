{
 "cells": [
  {
   "cell_type": "markdown",
   "id": "34fe4abb-011f-44a3-b1b3-316b36c86490",
   "metadata": {},
   "source": [
    "### List slicing"
   ]
  },
  {
   "cell_type": "code",
   "execution_count": 1,
   "id": "3c124351-5288-471a-ba79-eb299cf92254",
   "metadata": {},
   "outputs": [],
   "source": [
    "# List slicing doesnt affect the current list"
   ]
  },
  {
   "cell_type": "code",
   "execution_count": 2,
   "id": "7964a2b4-a9f2-48b6-94f7-a7e2bb846e25",
   "metadata": {},
   "outputs": [],
   "source": [
    "# by default start = 0, end = including last index"
   ]
  },
  {
   "cell_type": "code",
   "execution_count": 3,
   "id": "535f78d7-7ccb-4c54-9f77-48e0f91de56c",
   "metadata": {},
   "outputs": [],
   "source": [
    "runs = [10, 99, 100, 50, 80, 200, 150, 20, 99, 99]"
   ]
  },
  {
   "cell_type": "code",
   "execution_count": 4,
   "id": "6df04f1d-d6d5-4dcf-aba3-bc9af0c74983",
   "metadata": {},
   "outputs": [
    {
     "data": {
      "text/plain": [
       "10"
      ]
     },
     "execution_count": 4,
     "metadata": {},
     "output_type": "execute_result"
    }
   ],
   "source": [
    "runs[0]"
   ]
  },
  {
   "cell_type": "code",
   "execution_count": 5,
   "id": "2f94b6ae-6748-42b2-914c-395fc30864d9",
   "metadata": {},
   "outputs": [
    {
     "data": {
      "text/plain": [
       "10"
      ]
     },
     "execution_count": 5,
     "metadata": {},
     "output_type": "execute_result"
    }
   ],
   "source": [
    "len(runs)"
   ]
  },
  {
   "cell_type": "code",
   "execution_count": null,
   "id": "4ae403f1-973a-48e1-b786-4eeebd26ef1d",
   "metadata": {},
   "outputs": [],
   "source": []
  },
  {
   "cell_type": "code",
   "execution_count": 8,
   "id": "b244a3ac-6390-4d92-950e-e8185eda20b2",
   "metadata": {},
   "outputs": [
    {
     "data": {
      "text/plain": [
       "[100, 50, 80]"
      ]
     },
     "execution_count": 8,
     "metadata": {},
     "output_type": "execute_result"
    }
   ],
   "source": [
    "# start : 2\n",
    "# end : 5\n",
    "# jump : +1\n",
    "\n",
    "runs[2 : 5]"
   ]
  },
  {
   "cell_type": "code",
   "execution_count": null,
   "id": "72422949-d158-4888-8831-25525faa9755",
   "metadata": {},
   "outputs": [],
   "source": []
  },
  {
   "cell_type": "code",
   "execution_count": 6,
   "id": "0cb6d34c-5d74-4f63-894d-53bfdf1ac886",
   "metadata": {},
   "outputs": [
    {
     "data": {
      "text/plain": [
       "[10, 99, 100, 50, 80, 200, 150, 20, 99, 99]"
      ]
     },
     "execution_count": 6,
     "metadata": {},
     "output_type": "execute_result"
    }
   ],
   "source": [
    "# Default start : 0\n",
    "# By default end : len(runs) --> N\n",
    "# By default jump : +1\n",
    "# runs[0 : N : 1] --> Full list\n",
    "\n",
    "runs[ : : ]"
   ]
  },
  {
   "cell_type": "code",
   "execution_count": null,
   "id": "5bbd69e6-91b9-4dc8-a9a3-ddcaf800d82d",
   "metadata": {},
   "outputs": [],
   "source": []
  },
  {
   "cell_type": "code",
   "execution_count": 7,
   "id": "79dc7eab-277c-4ff5-b4ba-fd4ccbb07857",
   "metadata": {},
   "outputs": [
    {
     "data": {
      "text/plain": [
       "[10, 99, 100]"
      ]
     },
     "execution_count": 7,
     "metadata": {},
     "output_type": "execute_result"
    }
   ],
   "source": [
    "# start = 0\n",
    "# end = 3\n",
    "# jump = 1\n",
    "\n",
    "runs[ : 3]"
   ]
  },
  {
   "cell_type": "code",
   "execution_count": null,
   "id": "904915bd-d0f1-49bb-b66a-e37afc796625",
   "metadata": {},
   "outputs": [],
   "source": []
  },
  {
   "cell_type": "code",
   "execution_count": 9,
   "id": "4577b43b-e104-44ae-b471-d4bd3472785a",
   "metadata": {},
   "outputs": [],
   "source": [
    "# List slicing handles list out of range error as well"
   ]
  },
  {
   "cell_type": "code",
   "execution_count": 10,
   "id": "03a051c0-e7c9-49f3-ac7d-6452ef1c38aa",
   "metadata": {},
   "outputs": [],
   "source": [
    "# here even if the index is out of range then it handles the error"
   ]
  },
  {
   "cell_type": "code",
   "execution_count": 11,
   "id": "3aad4388-70a8-4daf-9756-6c4d79a82dc6",
   "metadata": {},
   "outputs": [
    {
     "data": {
      "text/plain": [
       "[10, 99, 100, 50, 80, 200, 150, 20, 99, 99]"
      ]
     },
     "execution_count": 11,
     "metadata": {},
     "output_type": "execute_result"
    }
   ],
   "source": [
    "runs"
   ]
  },
  {
   "cell_type": "code",
   "execution_count": 12,
   "id": "c5bb89e9-7ec4-4c61-8d26-8772966e1bd0",
   "metadata": {},
   "outputs": [
    {
     "data": {
      "text/plain": [
       "[10, 99, 100, 50, 80, 200, 150, 20, 99, 99]"
      ]
     },
     "execution_count": 12,
     "metadata": {},
     "output_type": "execute_result"
    }
   ],
   "source": [
    "# start : 0\n",
    "# jump : +1\n",
    "\n",
    "runs[:10203]"
   ]
  },
  {
   "cell_type": "code",
   "execution_count": null,
   "id": "c9881cd1-aa4f-4f10-bad8-60fa1202658e",
   "metadata": {},
   "outputs": [],
   "source": []
  },
  {
   "cell_type": "code",
   "execution_count": 13,
   "id": "38984f32-a270-4b9a-a68e-d5fedfd50b74",
   "metadata": {},
   "outputs": [],
   "source": [
    "# -ve indexing"
   ]
  },
  {
   "cell_type": "code",
   "execution_count": 14,
   "id": "6264f2f3-e141-47b3-930b-0d374d9379a1",
   "metadata": {},
   "outputs": [
    {
     "data": {
      "text/plain": [
       "[10, 99, 100, 50, 80, 200, 150, 20, 99, 99]"
      ]
     },
     "execution_count": 14,
     "metadata": {},
     "output_type": "execute_result"
    }
   ],
   "source": [
    "runs"
   ]
  },
  {
   "cell_type": "code",
   "execution_count": 15,
   "id": "6e40ec9c-47ed-4280-a4e0-adb5297d4416",
   "metadata": {},
   "outputs": [
    {
     "data": {
      "text/plain": [
       "[100, 99, 10]"
      ]
     },
     "execution_count": 15,
     "metadata": {},
     "output_type": "execute_result"
    }
   ],
   "source": [
    "# start : 2\n",
    "# end : -11\n",
    "# jump : -1\n",
    "\n",
    "runs[2: : -1]"
   ]
  },
  {
   "cell_type": "code",
   "execution_count": 16,
   "id": "a407005d-ab01-4e9d-8a93-f4ab13b3a639",
   "metadata": {},
   "outputs": [],
   "source": [
    "# In case of contradiction we get an empty list"
   ]
  },
  {
   "cell_type": "code",
   "execution_count": 17,
   "id": "5d11642e-0a4e-4154-acdc-a17ddd3b8e2c",
   "metadata": {},
   "outputs": [
    {
     "data": {
      "text/plain": [
       "[]"
      ]
     },
     "execution_count": 17,
     "metadata": {},
     "output_type": "execute_result"
    }
   ],
   "source": [
    "# start : 3\n",
    "# end : 0\n",
    "# jump : +1\n",
    "\n",
    "runs[3 : 0]"
   ]
  },
  {
   "cell_type": "code",
   "execution_count": null,
   "id": "d7317ab8-7cfa-447e-a4b8-fa65d19ea187",
   "metadata": {},
   "outputs": [],
   "source": []
  },
  {
   "cell_type": "code",
   "execution_count": 18,
   "id": "b75fa253-4e7f-4afb-b984-863610ba481e",
   "metadata": {},
   "outputs": [
    {
     "data": {
      "text/plain": [
       "[10, 99, 100, 50, 80, 200, 150, 20, 99, 99]"
      ]
     },
     "execution_count": 18,
     "metadata": {},
     "output_type": "execute_result"
    }
   ],
   "source": [
    "runs"
   ]
  },
  {
   "cell_type": "code",
   "execution_count": 29,
   "id": "a638edab-5b54-4535-9cd5-1da80c5f5ddc",
   "metadata": {},
   "outputs": [
    {
     "data": {
      "text/plain": [
       "[99, 99, 20, 150, 200]"
      ]
     },
     "execution_count": 29,
     "metadata": {},
     "output_type": "execute_result"
    }
   ],
   "source": [
    "# last 5 elements\n",
    "runs[-1:-6:-1]"
   ]
  },
  {
   "cell_type": "code",
   "execution_count": 27,
   "id": "1d5ff767-dd15-47a1-9780-ca03ee00446e",
   "metadata": {},
   "outputs": [
    {
     "data": {
      "text/plain": [
       "[200, 150, 20, 99, 99]"
      ]
     },
     "execution_count": 27,
     "metadata": {},
     "output_type": "execute_result"
    }
   ],
   "source": [
    "runs[-5:]"
   ]
  },
  {
   "cell_type": "code",
   "execution_count": 20,
   "id": "5f22870c-f63b-4458-abc9-e2d02f9478d4",
   "metadata": {},
   "outputs": [
    {
     "data": {
      "text/plain": [
       "[50, 100, 99, 10]"
      ]
     },
     "execution_count": 20,
     "metadata": {},
     "output_type": "execute_result"
    }
   ],
   "source": [
    "runs[3 : : -1]"
   ]
  },
  {
   "cell_type": "code",
   "execution_count": 21,
   "id": "f09d8ca4-9bcd-477e-a380-ee65f5870381",
   "metadata": {},
   "outputs": [
    {
     "data": {
      "text/plain": [
       "[10, 99, 100, 50, 80]"
      ]
     },
     "execution_count": 21,
     "metadata": {},
     "output_type": "execute_result"
    }
   ],
   "source": [
    "runs[:5]"
   ]
  },
  {
   "cell_type": "code",
   "execution_count": 23,
   "id": "4bbfb6a8-0f10-4577-8b34-c4ded0e47cc4",
   "metadata": {},
   "outputs": [
    {
     "data": {
      "text/plain": [
       "[10, 99, 100, 50, 80]"
      ]
     },
     "execution_count": 23,
     "metadata": {},
     "output_type": "execute_result"
    }
   ],
   "source": [
    "runs[0:5:1]"
   ]
  },
  {
   "cell_type": "code",
   "execution_count": 22,
   "id": "d7813e89-9a95-4547-be96-9200ee6f0a7e",
   "metadata": {},
   "outputs": [
    {
     "data": {
      "text/plain": [
       "[10, 99, 100, 50, 80]"
      ]
     },
     "execution_count": 22,
     "metadata": {},
     "output_type": "execute_result"
    }
   ],
   "source": [
    "runs[0:5]"
   ]
  },
  {
   "cell_type": "code",
   "execution_count": null,
   "id": "75b96fc8-5472-4d4c-a978-0cc77ce2e07c",
   "metadata": {},
   "outputs": [],
   "source": []
  },
  {
   "cell_type": "code",
   "execution_count": 30,
   "id": "4611cbd0-03a9-4321-a858-884c17a9198c",
   "metadata": {},
   "outputs": [
    {
     "data": {
      "text/plain": [
       "[10, 99, 100, 50, 80, 200, 150, 20, 99, 99]"
      ]
     },
     "execution_count": 30,
     "metadata": {},
     "output_type": "execute_result"
    }
   ],
   "source": [
    "runs"
   ]
  },
  {
   "cell_type": "code",
   "execution_count": 31,
   "id": "7f0d2f5d-139c-4ea1-9df2-8e42d6a667e3",
   "metadata": {},
   "outputs": [
    {
     "data": {
      "text/plain": [
       "[80, 150]"
      ]
     },
     "execution_count": 31,
     "metadata": {},
     "output_type": "execute_result"
    }
   ],
   "source": [
    "runs[4:8:2]"
   ]
  },
  {
   "cell_type": "code",
   "execution_count": 34,
   "id": "fbaab5b3-3730-44c0-901b-235533a8fb33",
   "metadata": {},
   "outputs": [
    {
     "name": "stdout",
     "output_type": "stream",
     "text": [
      "50\n",
      "200\n",
      "20\n"
     ]
    }
   ],
   "source": [
    "for i in runs[3:8:2]:\n",
    "    print(i)"
   ]
  },
  {
   "cell_type": "code",
   "execution_count": null,
   "id": "5e2abbf6-934d-42cd-a84a-aa1e5c653f97",
   "metadata": {},
   "outputs": [],
   "source": []
  },
  {
   "cell_type": "code",
   "execution_count": null,
   "id": "61b8ee23-312a-4e27-8574-ba4253226b3a",
   "metadata": {},
   "outputs": [],
   "source": []
  },
  {
   "cell_type": "code",
   "execution_count": 32,
   "id": "a02d313c-7621-4605-b11b-0f714f97306a",
   "metadata": {},
   "outputs": [],
   "source": [
    "# Even index values"
   ]
  },
  {
   "cell_type": "code",
   "execution_count": 33,
   "id": "21f9f4f9-a641-4752-a75b-f50c6b5b79b7",
   "metadata": {},
   "outputs": [
    {
     "data": {
      "text/plain": [
       "[10, 99, 100, 50, 80, 200, 150, 20, 99, 99]"
      ]
     },
     "execution_count": 33,
     "metadata": {},
     "output_type": "execute_result"
    }
   ],
   "source": [
    "runs"
   ]
  },
  {
   "cell_type": "code",
   "execution_count": 35,
   "id": "33d51edd-8a80-451f-a53f-1dad94b053b5",
   "metadata": {},
   "outputs": [
    {
     "data": {
      "text/plain": [
       "[10, 100, 80, 150, 99]"
      ]
     },
     "execution_count": 35,
     "metadata": {},
     "output_type": "execute_result"
    }
   ],
   "source": [
    "runs[0::2]"
   ]
  },
  {
   "cell_type": "code",
   "execution_count": 36,
   "id": "b53d48dd-f54f-47a1-9589-0980b6806566",
   "metadata": {},
   "outputs": [
    {
     "data": {
      "text/plain": [
       "439"
      ]
     },
     "execution_count": 36,
     "metadata": {},
     "output_type": "execute_result"
    }
   ],
   "source": [
    "sum(runs[::2])"
   ]
  },
  {
   "cell_type": "code",
   "execution_count": null,
   "id": "f604949e-2b13-4526-9dae-56f1eef2fa89",
   "metadata": {},
   "outputs": [],
   "source": []
  },
  {
   "cell_type": "code",
   "execution_count": null,
   "id": "9c1b2fb1-6951-4a4c-a939-b1f0d5e9e62b",
   "metadata": {},
   "outputs": [],
   "source": []
  },
  {
   "cell_type": "code",
   "execution_count": 37,
   "id": "9d036ea3-c3b1-4414-bfce-31343a16158b",
   "metadata": {},
   "outputs": [],
   "source": [
    "# Odd index values"
   ]
  },
  {
   "cell_type": "code",
   "execution_count": 38,
   "id": "bb55e823-d28b-442a-9b29-747301ba60d9",
   "metadata": {},
   "outputs": [
    {
     "data": {
      "text/plain": [
       "[99, 50, 200, 20, 99]"
      ]
     },
     "execution_count": 38,
     "metadata": {},
     "output_type": "execute_result"
    }
   ],
   "source": [
    "runs[1:len(runs):2]"
   ]
  },
  {
   "cell_type": "code",
   "execution_count": 39,
   "id": "3bf17149-c93e-473f-a6e7-9cfed6f35285",
   "metadata": {},
   "outputs": [
    {
     "data": {
      "text/plain": [
       "[99, 50, 200, 20, 99]"
      ]
     },
     "execution_count": 39,
     "metadata": {},
     "output_type": "execute_result"
    }
   ],
   "source": [
    "runs[1::2]"
   ]
  },
  {
   "cell_type": "code",
   "execution_count": null,
   "id": "f51693aa-fec1-4e11-842a-7ebf9382c261",
   "metadata": {},
   "outputs": [],
   "source": []
  },
  {
   "cell_type": "code",
   "execution_count": 41,
   "id": "ca441284-ac2a-419f-a7fe-ac03e9cae918",
   "metadata": {},
   "outputs": [],
   "source": [
    "# reverse of this list"
   ]
  },
  {
   "cell_type": "code",
   "execution_count": 42,
   "id": "d600b618-6336-41fd-9f3d-570492f87bcb",
   "metadata": {},
   "outputs": [
    {
     "data": {
      "text/plain": [
       "[10, 99, 100, 50, 80, 200, 150, 20, 99, 99]"
      ]
     },
     "execution_count": 42,
     "metadata": {},
     "output_type": "execute_result"
    }
   ],
   "source": [
    "runs"
   ]
  },
  {
   "cell_type": "code",
   "execution_count": 43,
   "id": "27f94c11-48ee-4a5f-ba65-a308741cfd7c",
   "metadata": {},
   "outputs": [
    {
     "data": {
      "text/plain": [
       "[99, 99, 20, 150, 200, 80, 50, 100, 99, 10]"
      ]
     },
     "execution_count": 43,
     "metadata": {},
     "output_type": "execute_result"
    }
   ],
   "source": [
    "runs[::-1]"
   ]
  },
  {
   "cell_type": "code",
   "execution_count": null,
   "id": "d95b284e-5c13-4745-9a7d-36cb6fdb113e",
   "metadata": {},
   "outputs": [],
   "source": []
  },
  {
   "cell_type": "code",
   "execution_count": 46,
   "id": "83afc7fb-6f62-485d-ba8c-cbe7f8840662",
   "metadata": {},
   "outputs": [
    {
     "data": {
      "text/plain": [
       "[]"
      ]
     },
     "execution_count": 46,
     "metadata": {},
     "output_type": "execute_result"
    }
   ],
   "source": [
    "runs[20:]"
   ]
  },
  {
   "cell_type": "code",
   "execution_count": 44,
   "id": "c7959567-3fc5-4e2f-a3ab-d236cd6c4601",
   "metadata": {},
   "outputs": [],
   "source": [
    "# DIY -> Hit and trial"
   ]
  },
  {
   "cell_type": "code",
   "execution_count": null,
   "id": "c320b995-c6db-4f5d-a0f4-7f00930f3ced",
   "metadata": {},
   "outputs": [],
   "source": []
  },
  {
   "cell_type": "code",
   "execution_count": 45,
   "id": "cd897826-2f5b-4a68-8f38-5f1c4e09d284",
   "metadata": {},
   "outputs": [],
   "source": [
    "# Sum of Sachin scores in first 5 matches, last 5 matches"
   ]
  },
  {
   "cell_type": "code",
   "execution_count": 47,
   "id": "a3287a46-c9e9-4627-8fa6-70cf7d9b0f50",
   "metadata": {},
   "outputs": [
    {
     "data": {
      "text/plain": [
       "[10, 99, 100, 50, 80, 200, 150, 20, 99, 99]"
      ]
     },
     "execution_count": 47,
     "metadata": {},
     "output_type": "execute_result"
    }
   ],
   "source": [
    "runs"
   ]
  },
  {
   "cell_type": "code",
   "execution_count": 48,
   "id": "8acfe491-2ee7-443b-8efc-f6aa7e920746",
   "metadata": {},
   "outputs": [
    {
     "data": {
      "text/plain": [
       "10"
      ]
     },
     "execution_count": 48,
     "metadata": {},
     "output_type": "execute_result"
    }
   ],
   "source": [
    "runs[0]"
   ]
  },
  {
   "cell_type": "code",
   "execution_count": 49,
   "id": "323b9e0a-ce5c-4caf-8618-0834564a3a4c",
   "metadata": {},
   "outputs": [],
   "source": [
    "runs[0] = 101"
   ]
  },
  {
   "cell_type": "code",
   "execution_count": 50,
   "id": "db71bc17-69a1-4ad6-af3c-52b3335ffd34",
   "metadata": {},
   "outputs": [
    {
     "data": {
      "text/plain": [
       "[101, 99, 100, 50, 80, 200, 150, 20, 99, 99]"
      ]
     },
     "execution_count": 50,
     "metadata": {},
     "output_type": "execute_result"
    }
   ],
   "source": [
    "runs"
   ]
  },
  {
   "cell_type": "code",
   "execution_count": null,
   "id": "b0ce5003-5dc0-4086-b710-740e0c487c7e",
   "metadata": {},
   "outputs": [],
   "source": []
  },
  {
   "cell_type": "markdown",
   "id": "a3fe0531-2518-4f2d-9e62-cb4dce8aaa9b",
   "metadata": {},
   "source": [
    "# Nested Lists Introduction"
   ]
  },
  {
   "cell_type": "code",
   "execution_count": 51,
   "id": "71d5dbe1-459a-4bed-86e4-ea0b5853d6a6",
   "metadata": {},
   "outputs": [],
   "source": [
    "# What about append first?"
   ]
  },
  {
   "cell_type": "code",
   "execution_count": 52,
   "id": "b365e8d3-099d-4ce1-80bc-fa100cf952ae",
   "metadata": {},
   "outputs": [],
   "source": [
    "l1 = [1, 2, 3, 4]\n",
    "l2 = [5, 6, 7, 8]"
   ]
  },
  {
   "cell_type": "code",
   "execution_count": 53,
   "id": "226cbcaf-9cb3-4a16-a138-81cb9c336b91",
   "metadata": {},
   "outputs": [],
   "source": [
    "final = [l1, l2]"
   ]
  },
  {
   "cell_type": "code",
   "execution_count": 54,
   "id": "9732e78d-8b21-4188-8f78-306fb1e7d745",
   "metadata": {},
   "outputs": [
    {
     "data": {
      "text/plain": [
       "[[1, 2, 3, 4], [5, 6, 7, 8]]"
      ]
     },
     "execution_count": 54,
     "metadata": {},
     "output_type": "execute_result"
    }
   ],
   "source": [
    "final"
   ]
  },
  {
   "cell_type": "code",
   "execution_count": 55,
   "id": "0baf1741-5917-465a-8a1c-bb95469e5dec",
   "metadata": {},
   "outputs": [],
   "source": [
    "final1 = [[1, 2, 3, 4],\n",
    "          [5, 6, 7, 8]\n",
    "         ]"
   ]
  },
  {
   "cell_type": "code",
   "execution_count": 56,
   "id": "e4fe119c-a340-4f94-b35f-fb61498cd6c8",
   "metadata": {},
   "outputs": [
    {
     "data": {
      "text/plain": [
       "[[1, 2, 3, 4], [5, 6, 7, 8]]"
      ]
     },
     "execution_count": 56,
     "metadata": {},
     "output_type": "execute_result"
    }
   ],
   "source": [
    "final1"
   ]
  },
  {
   "cell_type": "code",
   "execution_count": 60,
   "id": "ea03afd8-efaf-4c82-a85d-21a0b6d0d163",
   "metadata": {},
   "outputs": [],
   "source": [
    "final2 = []"
   ]
  },
  {
   "cell_type": "code",
   "execution_count": 62,
   "id": "2c1e6f72-cb1c-49f3-96ff-1277a04e38d2",
   "metadata": {},
   "outputs": [],
   "source": [
    "final2.append(l1)"
   ]
  },
  {
   "cell_type": "code",
   "execution_count": 64,
   "id": "cf4d3012-03cf-4bd3-9abc-a5609b7bc587",
   "metadata": {},
   "outputs": [],
   "source": [
    "final2.append(l2)"
   ]
  },
  {
   "cell_type": "code",
   "execution_count": 65,
   "id": "c8649cc6-35dc-4a8d-b002-7666f4f4462e",
   "metadata": {},
   "outputs": [
    {
     "data": {
      "text/plain": [
       "[[1, 2, 3, 4], [5, 6, 7, 8]]"
      ]
     },
     "execution_count": 65,
     "metadata": {},
     "output_type": "execute_result"
    }
   ],
   "source": [
    "final2"
   ]
  },
  {
   "cell_type": "code",
   "execution_count": null,
   "id": "97b2ed70-ccd6-48e6-8e4f-579eca2b7660",
   "metadata": {},
   "outputs": [],
   "source": []
  },
  {
   "cell_type": "markdown",
   "id": "d8395f2e-b1e0-4a3c-a9ca-32e0515a7487",
   "metadata": {},
   "source": [
    "### Get a scores list including runs from all the formats"
   ]
  },
  {
   "cell_type": "code",
   "execution_count": 66,
   "id": "2f7b8a01-6422-4af2-8cd5-0ce81e5032da",
   "metadata": {},
   "outputs": [],
   "source": [
    "odi = [100, 99, 20]\n",
    "test = [200, 150, 90, 180]\n",
    "t20 = [20, 50, 100]"
   ]
  },
  {
   "cell_type": "code",
   "execution_count": 67,
   "id": "b597ed90-e264-4aa1-859d-7c22e4f79406",
   "metadata": {},
   "outputs": [],
   "source": [
    "scores = [odi, test, t20]"
   ]
  },
  {
   "cell_type": "code",
   "execution_count": 68,
   "id": "7e1a5680-eecb-4aa2-8f32-5f66d531a0ed",
   "metadata": {},
   "outputs": [
    {
     "data": {
      "text/plain": [
       "[[100, 99, 20], [200, 150, 90, 180], [20, 50, 100]]"
      ]
     },
     "execution_count": 68,
     "metadata": {},
     "output_type": "execute_result"
    }
   ],
   "source": [
    "scores"
   ]
  },
  {
   "cell_type": "code",
   "execution_count": null,
   "id": "1cec069c-44fb-46c5-a55a-a9c44ca9da59",
   "metadata": {},
   "outputs": [],
   "source": []
  },
  {
   "cell_type": "code",
   "execution_count": 69,
   "id": "71894a90-9781-48c9-8ce5-829c67cf0024",
   "metadata": {},
   "outputs": [],
   "source": [
    "# Indexing in the list"
   ]
  },
  {
   "cell_type": "code",
   "execution_count": 76,
   "id": "e6f5fd30-6e7d-49fa-a53d-08c95d692bde",
   "metadata": {},
   "outputs": [
    {
     "data": {
      "text/plain": [
       "180"
      ]
     },
     "execution_count": 76,
     "metadata": {},
     "output_type": "execute_result"
    }
   ],
   "source": [
    "scores[1][3]"
   ]
  },
  {
   "cell_type": "code",
   "execution_count": 70,
   "id": "d5e4975a-6839-44c5-b66d-9b6ac1a4b895",
   "metadata": {},
   "outputs": [
    {
     "data": {
      "text/plain": [
       "[100, 99, 20]"
      ]
     },
     "execution_count": 70,
     "metadata": {},
     "output_type": "execute_result"
    }
   ],
   "source": [
    "scores[0]"
   ]
  },
  {
   "cell_type": "code",
   "execution_count": 72,
   "id": "03305a86-4abd-4eb2-9b86-8f58aa0ebd1b",
   "metadata": {},
   "outputs": [
    {
     "data": {
      "text/plain": [
       "100"
      ]
     },
     "execution_count": 72,
     "metadata": {},
     "output_type": "execute_result"
    }
   ],
   "source": [
    "scores[0][0]"
   ]
  },
  {
   "cell_type": "code",
   "execution_count": 73,
   "id": "dfed52dc-8731-415a-8ab7-59a1fab92fe1",
   "metadata": {},
   "outputs": [
    {
     "data": {
      "text/plain": [
       "99"
      ]
     },
     "execution_count": 73,
     "metadata": {},
     "output_type": "execute_result"
    }
   ],
   "source": [
    "scores[0][1]"
   ]
  },
  {
   "cell_type": "code",
   "execution_count": 74,
   "id": "5963bbe4-0c70-47ea-84a9-7f6be0767350",
   "metadata": {},
   "outputs": [
    {
     "data": {
      "text/plain": [
       "20"
      ]
     },
     "execution_count": 74,
     "metadata": {},
     "output_type": "execute_result"
    }
   ],
   "source": [
    "scores[0][2]"
   ]
  },
  {
   "cell_type": "code",
   "execution_count": null,
   "id": "827c98c1-d187-4a36-a308-813a30cd4b71",
   "metadata": {},
   "outputs": [],
   "source": []
  },
  {
   "cell_type": "code",
   "execution_count": null,
   "id": "162be468-d306-45aa-9ad9-6e2572588cbf",
   "metadata": {},
   "outputs": [],
   "source": []
  },
  {
   "cell_type": "code",
   "execution_count": null,
   "id": "dd2eefa1-34cc-472e-872b-031dbddccd10",
   "metadata": {},
   "outputs": [],
   "source": []
  },
  {
   "cell_type": "markdown",
   "id": "82668913-401e-432f-ac75-36d4955ad34d",
   "metadata": {},
   "source": [
    "### Iterating a 2D list"
   ]
  },
  {
   "cell_type": "code",
   "execution_count": 77,
   "id": "0ed3b374-a0ea-4452-ae42-d39b4a110f7f",
   "metadata": {},
   "outputs": [],
   "source": [
    "# The range method"
   ]
  },
  {
   "cell_type": "code",
   "execution_count": 78,
   "id": "dabcb8ea-9d62-4a8e-abbf-2ca237dae8c5",
   "metadata": {},
   "outputs": [],
   "source": [
    "# Without range"
   ]
  },
  {
   "cell_type": "code",
   "execution_count": 79,
   "id": "0964ebd6-0400-44c6-b338-513a2fa59194",
   "metadata": {},
   "outputs": [],
   "source": [
    "# In case when we are using range function, we are iterating using\n",
    "# Indexes"
   ]
  },
  {
   "cell_type": "code",
   "execution_count": 80,
   "id": "0fce643f-0778-4f5e-9467-a1075c3abdef",
   "metadata": {},
   "outputs": [],
   "source": [
    "# for i in main_list:\n",
    "#     for j in i:"
   ]
  },
  {
   "cell_type": "code",
   "execution_count": 81,
   "id": "deaa88b8-22fe-4949-9728-4981d2ef8972",
   "metadata": {},
   "outputs": [
    {
     "data": {
      "text/plain": [
       "[[100, 99, 20], [200, 150, 90, 180], [20, 50, 100]]"
      ]
     },
     "execution_count": 81,
     "metadata": {},
     "output_type": "execute_result"
    }
   ],
   "source": [
    "scores"
   ]
  },
  {
   "cell_type": "code",
   "execution_count": 82,
   "id": "c2b9fc3a-2c73-4d44-a192-e557b5fd10da",
   "metadata": {},
   "outputs": [
    {
     "name": "stdout",
     "output_type": "stream",
     "text": [
      "[100, 99, 20]\n",
      "[200, 150, 90, 180]\n",
      "[20, 50, 100]\n"
     ]
    }
   ],
   "source": [
    "for l in scores:\n",
    "    print(l)"
   ]
  },
  {
   "cell_type": "code",
   "execution_count": 130,
   "id": "773bc704-0442-4382-8007-53d0b9190b58",
   "metadata": {},
   "outputs": [
    {
     "name": "stdout",
     "output_type": "stream",
     "text": [
      "100\n",
      "99\n",
      "20\n",
      "200\n",
      "150\n",
      "90\n",
      "180\n",
      "20\n",
      "50\n",
      "100\n"
     ]
    }
   ],
   "source": [
    "for l in scores:\n",
    "    # in every iteration we are getting a list\n",
    "    for j in l:\n",
    "        print(j)"
   ]
  },
  {
   "cell_type": "code",
   "execution_count": 85,
   "id": "47fd56f3-12f3-4ebf-bbf0-108961d6baa4",
   "metadata": {},
   "outputs": [
    {
     "name": "stdout",
     "output_type": "stream",
     "text": [
      "100 99 20 \n",
      "200 150 90 180 \n",
      "20 50 100 \n"
     ]
    }
   ],
   "source": [
    "for l in scores:\n",
    "    # in every iteration we are getting a list\n",
    "    for j in l:\n",
    "        print(j, end=\" \")\n",
    "    print()"
   ]
  },
  {
   "cell_type": "code",
   "execution_count": null,
   "id": "0c62f26f-bbd4-4ad6-bd02-bd331e06d58b",
   "metadata": {},
   "outputs": [],
   "source": []
  },
  {
   "cell_type": "code",
   "execution_count": null,
   "id": "e774d1f8-31a0-413c-a3c3-2cc10e25fe29",
   "metadata": {},
   "outputs": [],
   "source": []
  },
  {
   "cell_type": "code",
   "execution_count": null,
   "id": "2a1b4576-f56c-4441-90d4-a11e2000e437",
   "metadata": {},
   "outputs": [],
   "source": []
  },
  {
   "cell_type": "code",
   "execution_count": null,
   "id": "769ed63a-6c3f-4b37-a4f2-31a821114a77",
   "metadata": {},
   "outputs": [],
   "source": []
  },
  {
   "cell_type": "code",
   "execution_count": 86,
   "id": "a97d675f-9879-4110-80fa-ea9330fed656",
   "metadata": {},
   "outputs": [],
   "source": [
    "# Iteration using indexes"
   ]
  },
  {
   "cell_type": "code",
   "execution_count": 87,
   "id": "12783b4f-e73c-4fd2-bdf4-77867aa955fd",
   "metadata": {},
   "outputs": [
    {
     "data": {
      "text/plain": [
       "[[100, 99, 20], [200, 150, 90, 180], [20, 50, 100]]"
      ]
     },
     "execution_count": 87,
     "metadata": {},
     "output_type": "execute_result"
    }
   ],
   "source": [
    "scores"
   ]
  },
  {
   "cell_type": "code",
   "execution_count": 88,
   "id": "969e6b8d-e888-4cfe-92f8-9ebf93f31be8",
   "metadata": {},
   "outputs": [],
   "source": [
    "n = len(scores)"
   ]
  },
  {
   "cell_type": "code",
   "execution_count": 89,
   "id": "0de3dab0-666f-424f-adeb-908473f16134",
   "metadata": {},
   "outputs": [
    {
     "data": {
      "text/plain": [
       "3"
      ]
     },
     "execution_count": 89,
     "metadata": {},
     "output_type": "execute_result"
    }
   ],
   "source": [
    "n"
   ]
  },
  {
   "cell_type": "code",
   "execution_count": 91,
   "id": "e18a817e-54ff-43a7-b297-d549cfe1342f",
   "metadata": {},
   "outputs": [
    {
     "name": "stdout",
     "output_type": "stream",
     "text": [
      "0\n",
      "1\n",
      "2\n"
     ]
    }
   ],
   "source": [
    "# using following loop we got all the indexes of scores\n",
    "for i in range(n):\n",
    "    print(i)"
   ]
  },
  {
   "cell_type": "code",
   "execution_count": 94,
   "id": "c142b58c-611f-42a0-afc8-eaf1d47ec4b1",
   "metadata": {},
   "outputs": [
    {
     "data": {
      "text/plain": [
       "[[100, 99, 20], [200, 150, 90, 180], [20, 50, 100]]"
      ]
     },
     "execution_count": 94,
     "metadata": {},
     "output_type": "execute_result"
    }
   ],
   "source": [
    "scores"
   ]
  },
  {
   "cell_type": "code",
   "execution_count": 95,
   "id": "2ab0ab4a-cb3b-46db-9170-5c7105c6783e",
   "metadata": {},
   "outputs": [
    {
     "name": "stdout",
     "output_type": "stream",
     "text": [
      "0 --> [100, 99, 20]\n",
      "1 --> [200, 150, 90, 180]\n",
      "2 --> [20, 50, 100]\n"
     ]
    }
   ],
   "source": [
    "for i in range(n):\n",
    "    print(i, scores[i], sep=\" --> \")"
   ]
  },
  {
   "cell_type": "code",
   "execution_count": 100,
   "id": "2a254cec-64a3-4e95-a53e-fb848478ba5d",
   "metadata": {},
   "outputs": [
    {
     "name": "stdout",
     "output_type": "stream",
     "text": [
      "[100, 99, 20]\n",
      "[200, 150, 90, 180]\n",
      "[20, 50, 100]\n"
     ]
    }
   ],
   "source": [
    "for i in range(len(scores)):\n",
    "    # we are getting inner list one by one using their indexes\n",
    "    print(scores[i])"
   ]
  },
  {
   "cell_type": "code",
   "execution_count": 105,
   "id": "fcb33837-05a1-4e81-844c-e7997b64549a",
   "metadata": {},
   "outputs": [
    {
     "name": "stdout",
     "output_type": "stream",
     "text": [
      "3\n",
      "4\n",
      "3\n"
     ]
    }
   ],
   "source": [
    "for i in range(len(scores)):\n",
    "    # we are getting inner list one by one using their indexes\n",
    "    print(len(scores[i]))"
   ]
  },
  {
   "cell_type": "code",
   "execution_count": 108,
   "id": "8e562e82-58b6-47fa-b5f1-bcb65b107e5f",
   "metadata": {},
   "outputs": [
    {
     "name": "stdout",
     "output_type": "stream",
     "text": [
      "0 0\n",
      "0 1\n",
      "0 2\n",
      "1 0\n",
      "1 1\n",
      "1 2\n",
      "1 3\n",
      "2 0\n",
      "2 1\n",
      "2 2\n"
     ]
    }
   ],
   "source": [
    "for i in range(len(scores)):\n",
    "    # we are getting inner list one by one using their indexes\n",
    "    for j in range(len(scores[i])):\n",
    "        print(i, j)"
   ]
  },
  {
   "cell_type": "code",
   "execution_count": null,
   "id": "0bd282d7-c0bd-4012-be38-2d5aaa9a8aa7",
   "metadata": {},
   "outputs": [],
   "source": []
  },
  {
   "cell_type": "code",
   "execution_count": null,
   "id": "df251df1-d93f-44e4-9077-3b26ad069877",
   "metadata": {},
   "outputs": [],
   "source": []
  },
  {
   "cell_type": "code",
   "execution_count": 106,
   "id": "33006c09-b9dc-4cb1-b9f7-bb017c46db0b",
   "metadata": {},
   "outputs": [
    {
     "name": "stdout",
     "output_type": "stream",
     "text": [
      "100\n",
      "99\n",
      "20\n",
      "200\n",
      "150\n",
      "90\n",
      "180\n",
      "20\n",
      "50\n",
      "100\n"
     ]
    }
   ],
   "source": [
    "for i in range(len(scores)):\n",
    "    # we are getting inner list one by one using their indexes\n",
    "    for j in range(len(scores[i])):\n",
    "        print(scores[i][j])"
   ]
  },
  {
   "cell_type": "code",
   "execution_count": null,
   "id": "82ef3afc-8e93-4d4a-812b-699a35c50a58",
   "metadata": {},
   "outputs": [],
   "source": []
  },
  {
   "cell_type": "code",
   "execution_count": null,
   "id": "1a0979cd-3574-491b-ba8c-608fa09d1807",
   "metadata": {},
   "outputs": [],
   "source": []
  },
  {
   "cell_type": "code",
   "execution_count": null,
   "id": "6935fd58-a170-4b1f-9730-f2defb9926ae",
   "metadata": {},
   "outputs": [],
   "source": []
  },
  {
   "cell_type": "markdown",
   "id": "a7755e78-129d-444c-867c-f33d8c699d18",
   "metadata": {},
   "source": [
    "### Find Total runs scored by Sachin in his career?"
   ]
  },
  {
   "cell_type": "code",
   "execution_count": 109,
   "id": "07c3010c-f7d2-48aa-bd13-0a71ab0eb0bf",
   "metadata": {},
   "outputs": [
    {
     "data": {
      "text/plain": [
       "[[100, 99, 20], [200, 150, 90, 180], [20, 50, 100]]"
      ]
     },
     "execution_count": 109,
     "metadata": {},
     "output_type": "execute_result"
    }
   ],
   "source": [
    "scores"
   ]
  },
  {
   "cell_type": "code",
   "execution_count": 111,
   "id": "918f9e2f-5414-4507-93be-d080b9545bc6",
   "metadata": {},
   "outputs": [
    {
     "name": "stdout",
     "output_type": "stream",
     "text": [
      "100\n",
      "99\n",
      "20\n",
      "200\n",
      "150\n",
      "90\n",
      "180\n",
      "20\n",
      "50\n",
      "100\n"
     ]
    }
   ],
   "source": [
    "for l in scores:\n",
    "    for j in l:\n",
    "        print(j)"
   ]
  },
  {
   "cell_type": "code",
   "execution_count": 113,
   "id": "e03db0e1-ef0c-4b32-a1f5-78ec168d292a",
   "metadata": {},
   "outputs": [],
   "source": [
    "# sum[scores]"
   ]
  },
  {
   "cell_type": "code",
   "execution_count": 115,
   "id": "fc3ac08c-cbff-4b02-87ae-b3e7a75364fd",
   "metadata": {},
   "outputs": [
    {
     "name": "stdout",
     "output_type": "stream",
     "text": [
      "1009\n"
     ]
    }
   ],
   "source": [
    "total = 0\n",
    "\n",
    "for l in scores:\n",
    "    for j in l:\n",
    "        # getting elements here\n",
    "        total += j\n",
    "print(total)"
   ]
  },
  {
   "cell_type": "code",
   "execution_count": 118,
   "id": "09a697ad-95f9-42dd-a25c-e35ee7a0fd57",
   "metadata": {},
   "outputs": [
    {
     "name": "stdout",
     "output_type": "stream",
     "text": [
      "[100, 99, 20] 219\n",
      "[200, 150, 90, 180] 620\n",
      "[20, 50, 100] 170\n"
     ]
    }
   ],
   "source": [
    "for l in scores:\n",
    "    print(l, sum(l))"
   ]
  },
  {
   "cell_type": "code",
   "execution_count": 119,
   "id": "74a85b60-f533-49db-9dd0-1fa09a670707",
   "metadata": {},
   "outputs": [
    {
     "name": "stdout",
     "output_type": "stream",
     "text": [
      "1009\n"
     ]
    }
   ],
   "source": [
    "total = 0\n",
    "\n",
    "for l in scores:\n",
    "    total += sum(l)\n",
    "print(total)"
   ]
  },
  {
   "cell_type": "code",
   "execution_count": 122,
   "id": "4d0b2f59-9089-40e7-b7e1-1ef596d87300",
   "metadata": {},
   "outputs": [],
   "source": [
    "# HW: Do this question using range / indexes"
   ]
  },
  {
   "cell_type": "code",
   "execution_count": null,
   "id": "af0b1f2a-3275-4014-9ac3-a3615cffc2fa",
   "metadata": {},
   "outputs": [],
   "source": []
  },
  {
   "cell_type": "code",
   "execution_count": null,
   "id": "1b89c41b-33d1-409b-979a-9955bda9f4c0",
   "metadata": {},
   "outputs": [],
   "source": []
  },
  {
   "cell_type": "markdown",
   "id": "c241008f-368c-4afa-b627-aad463ad9ee8",
   "metadata": {},
   "source": [
    "#### Print the scores of each format"
   ]
  },
  {
   "cell_type": "code",
   "execution_count": 120,
   "id": "cea192ea-e8f3-4d70-b723-c043fc4cfde5",
   "metadata": {},
   "outputs": [
    {
     "data": {
      "text/plain": [
       "[[100, 99, 20], [200, 150, 90, 180], [20, 50, 100]]"
      ]
     },
     "execution_count": 120,
     "metadata": {},
     "output_type": "execute_result"
    }
   ],
   "source": [
    "scores"
   ]
  },
  {
   "cell_type": "code",
   "execution_count": 124,
   "id": "bb11ced0-f63b-4af6-adde-09fc8bdd9401",
   "metadata": {},
   "outputs": [
    {
     "name": "stdout",
     "output_type": "stream",
     "text": [
      "[100, 99, 20]\n",
      "[200, 150, 90, 180]\n",
      "[20, 50, 100]\n"
     ]
    }
   ],
   "source": [
    "for i in scores:\n",
    "    print(i)"
   ]
  },
  {
   "cell_type": "code",
   "execution_count": 125,
   "id": "bdf13846-43cd-40c7-aab0-43af59eedb66",
   "metadata": {},
   "outputs": [
    {
     "name": "stdout",
     "output_type": "stream",
     "text": [
      "219\n",
      "620\n",
      "170\n"
     ]
    }
   ],
   "source": [
    "for i in scores:\n",
    "    print(sum(i))"
   ]
  },
  {
   "cell_type": "code",
   "execution_count": 126,
   "id": "728c7700-35b7-43dc-8bf7-8d2f6d9e74ca",
   "metadata": {},
   "outputs": [
    {
     "name": "stdout",
     "output_type": "stream",
     "text": [
      "219\n",
      "620\n",
      "170\n"
     ]
    }
   ],
   "source": [
    "for i in range(len(scores)):\n",
    "    print(sum(scores[i]))"
   ]
  },
  {
   "cell_type": "code",
   "execution_count": 127,
   "id": "580b323d-d02a-47e6-9523-762dbd855f70",
   "metadata": {},
   "outputs": [],
   "source": [
    "# for l in scores:\n",
    "#     total = 0\n",
    "#     for j in l:\n"
   ]
  },
  {
   "cell_type": "code",
   "execution_count": null,
   "id": "e3f8c426-0b28-4c9e-9da7-7da9c026da99",
   "metadata": {},
   "outputs": [],
   "source": []
  },
  {
   "cell_type": "code",
   "execution_count": null,
   "id": "fc8198c6-e20c-4308-a924-a1ba3899c20a",
   "metadata": {},
   "outputs": [],
   "source": []
  },
  {
   "cell_type": "code",
   "execution_count": null,
   "id": "114ab2b6-d3cb-4508-aa7b-13ff7e9a8f36",
   "metadata": {},
   "outputs": [],
   "source": []
  },
  {
   "cell_type": "code",
   "execution_count": 128,
   "id": "e5256a74-70b3-4c91-938c-8bf46e026fd8",
   "metadata": {},
   "outputs": [],
   "source": [
    "# HW: Find Min in each format.\n",
    "# HW: Find max in each format.\n",
    "# Find min in overall scores\n",
    "# Find max in overall scores"
   ]
  },
  {
   "cell_type": "code",
   "execution_count": null,
   "id": "23b55990-6085-4482-90f9-7e8661f5b710",
   "metadata": {},
   "outputs": [],
   "source": []
  },
  {
   "cell_type": "code",
   "execution_count": 129,
   "id": "326a0f56-ae30-43bd-b3a6-baa1104b5b02",
   "metadata": {},
   "outputs": [],
   "source": [
    "# Reacp\n",
    "# map(split)\n",
    "# 1 demo question"
   ]
  },
  {
   "cell_type": "code",
   "execution_count": null,
   "id": "8ce7215c-804d-4c0b-8bdf-9d8f4ce1f76c",
   "metadata": {},
   "outputs": [],
   "source": []
  },
  {
   "cell_type": "code",
   "execution_count": 131,
   "id": "6ecdd9ef-3a43-4675-b6ec-e8d2393865a9",
   "metadata": {},
   "outputs": [
    {
     "name": "stdin",
     "output_type": "stream",
     "text": [
      " 1 2 3 4\n"
     ]
    }
   ],
   "source": [
    "n = input()"
   ]
  },
  {
   "cell_type": "code",
   "execution_count": 132,
   "id": "06af3439-aae2-4bbf-8330-1cb689f1d35a",
   "metadata": {},
   "outputs": [
    {
     "data": {
      "text/plain": [
       "'1 2 3 4'"
      ]
     },
     "execution_count": 132,
     "metadata": {},
     "output_type": "execute_result"
    }
   ],
   "source": [
    "n"
   ]
  },
  {
   "cell_type": "code",
   "execution_count": 134,
   "id": "7f5ef7e0-59c0-4658-b7e0-0318495e1a82",
   "metadata": {},
   "outputs": [
    {
     "data": {
      "text/plain": [
       "['1', '2', '3', '4']"
      ]
     },
     "execution_count": 134,
     "metadata": {},
     "output_type": "execute_result"
    }
   ],
   "source": [
    "n.split()"
   ]
  },
  {
   "cell_type": "code",
   "execution_count": 135,
   "id": "e11e0d1c-f770-4b1d-9292-39ca01263fd4",
   "metadata": {},
   "outputs": [],
   "source": [
    "l = list(map(int, n.split()))"
   ]
  },
  {
   "cell_type": "code",
   "execution_count": 136,
   "id": "3e80657b-116c-4ce1-8bb2-cbcc2f4a843b",
   "metadata": {},
   "outputs": [
    {
     "data": {
      "text/plain": [
       "[1, 2, 3, 4]"
      ]
     },
     "execution_count": 136,
     "metadata": {},
     "output_type": "execute_result"
    }
   ],
   "source": [
    "l"
   ]
  },
  {
   "cell_type": "code",
   "execution_count": null,
   "id": "3ac15e6e-77a8-4181-a4fd-d4d6eb51785d",
   "metadata": {},
   "outputs": [],
   "source": []
  },
  {
   "cell_type": "code",
   "execution_count": null,
   "id": "07399c92-5116-4273-86c0-27d52eae6763",
   "metadata": {},
   "outputs": [],
   "source": []
  },
  {
   "cell_type": "code",
   "execution_count": null,
   "id": "c679f607-32e7-4dff-b6bf-a5e2dac93b12",
   "metadata": {},
   "outputs": [],
   "source": []
  },
  {
   "cell_type": "code",
   "execution_count": null,
   "id": "f652da86-6a61-46c2-8321-d9ca59650407",
   "metadata": {},
   "outputs": [],
   "source": []
  }
 ],
 "metadata": {
  "kernelspec": {
   "display_name": "Python 3 (ipykernel)",
   "language": "python",
   "name": "python3"
  },
  "language_info": {
   "codemirror_mode": {
    "name": "ipython",
    "version": 3
   },
   "file_extension": ".py",
   "mimetype": "text/x-python",
   "name": "python",
   "nbconvert_exporter": "python",
   "pygments_lexer": "ipython3",
   "version": "3.9.7"
  }
 },
 "nbformat": 4,
 "nbformat_minor": 5
}
